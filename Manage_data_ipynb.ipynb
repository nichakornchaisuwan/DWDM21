{
  "nbformat": 4,
  "nbformat_minor": 0,
  "metadata": {
    "colab": {
      "name": "Manage data ipynb",
      "provenance": [],
      "authorship_tag": "ABX9TyNid8vTP6hiegzHcPMtHADF",
      "include_colab_link": true
    },
    "kernelspec": {
      "name": "python3",
      "display_name": "Python 3"
    },
    "language_info": {
      "name": "python"
    }
  },
  "cells": [
    {
      "cell_type": "markdown",
      "metadata": {
        "id": "view-in-github",
        "colab_type": "text"
      },
      "source": [
        "<a href=\"https://colab.research.google.com/github/nichakornchaisuwan/DWDM21/blob/main/Manage_data_ipynb.ipynb\" target=\"_parent\"><img src=\"https://colab.research.google.com/assets/colab-badge.svg\" alt=\"Open In Colab\"/></a>"
      ]
    },
    {
      "cell_type": "code",
      "execution_count": 32,
      "metadata": {
        "id": "XTCcgiXTp05J"
      },
      "outputs": [],
      "source": [
        "import pandas as pd "
      ]
    },
    {
      "cell_type": "code",
      "source": [
        "from google.colab import drive #เชื่อมต่อ colab เข้ากับไดร์ฟในข้อมูล\n",
        "drive.mount('/content/drive')"
      ],
      "metadata": {
        "colab": {
          "base_uri": "https://localhost:8080/"
        },
        "id": "YqGUPRr-qljC",
        "outputId": "a4c38b15-a851-4635-9ad5-60976f425ced"
      },
      "execution_count": 33,
      "outputs": [
        {
          "output_type": "stream",
          "name": "stdout",
          "text": [
            "Drive already mounted at /content/drive; to attempt to forcibly remount, call drive.mount(\"/content/drive\", force_remount=True).\n"
          ]
        }
      ]
    },
    {
      "cell_type": "code",
      "source": [
        "import os"
      ],
      "metadata": {
        "id": "rcwDKYVzqlbs"
      },
      "execution_count": 34,
      "outputs": []
    },
    {
      "cell_type": "code",
      "source": [
        "path = '/content/drive/My Drive/data UBRU'"
      ],
      "metadata": {
        "id": "98_HngKlqlXx"
      },
      "execution_count": 35,
      "outputs": []
    },
    {
      "cell_type": "code",
      "source": [
        "data_1 = os.path.join(path,'รายการยืมหนังสือผ่าน-USL-แก้ไข.csv')\n",
        "print(data_1)"
      ],
      "metadata": {
        "colab": {
          "base_uri": "https://localhost:8080/"
        },
        "id": "H6Cv__lVqlUR",
        "outputId": "f2d2d23a-7584-4337-9c68-230324a244b9"
      },
      "execution_count": 36,
      "outputs": [
        {
          "output_type": "stream",
          "name": "stdout",
          "text": [
            "/content/drive/My Drive/data UBRU/รายการยืมหนังสือผ่าน-USL-แก้ไข.csv\n"
          ]
        }
      ]
    },
    {
      "cell_type": "code",
      "source": [
        "data_USL = pd.read_csv(data_1)\n",
        "data_USL = data_USL[['order_id','order_code','order_date.1','order_date.2','order_time','mustbeget_date','std_code','std_code(first)','apps_firstname','apps_lastname','apps_usertype_name']]\n",
        "data_USL"
      ],
      "metadata": {
        "colab": {
          "base_uri": "https://localhost:8080/",
          "height": 423
        },
        "id": "JCUjIPdDqlIS",
        "outputId": "e72f54fc-c451-409e-abc2-2d79c392cb93"
      },
      "execution_count": 59,
      "outputs": [
        {
          "output_type": "execute_result",
          "data": {
            "text/plain": [
              "     order_id  order_code order_date.1 order_date.2 order_time  \\\n",
              "0          14  OR21070014    23/7/2021        ศุกร์   14:05:39   \n",
              "1          19  OR21070018    28/7/2021          พุธ   16:38:47   \n",
              "2          19  OR21070018    28/7/2021          พุธ   16:38:47   \n",
              "3          19  OR21070018    28/7/2021          พุธ   16:38:47   \n",
              "4          20  OR21070019    29/7/2021     พฤหัสบดี   14:38:48   \n",
              "..        ...         ...          ...          ...        ...   \n",
              "633       356  OR22040009    24/4/2022      อาทิตย์   22:52:04   \n",
              "634       356  OR22040009    24/4/2022      อาทิตย์   22:52:04   \n",
              "635       357  OR22040010    28/4/2022     พฤหัสบดี   21:08:40   \n",
              "636       358  OR22050001     1/5/2022      อาทิตย์   14:02:45   \n",
              "637       359  OR22050002     1/5/2022      อาทิตย์   14:03:52   \n",
              "\n",
              "      mustbeget_date     std_code  std_code(first) apps_firstname  \\\n",
              "0    26/7/2021 23:59      3040103               30          วรนุช   \n",
              "1    31/7/2021 23:59  61181480132               61     สิริณิญากร   \n",
              "2    31/7/2021 23:59  61181480132               61     สิริณิญากร   \n",
              "3    31/7/2021 23:59  61181480132               61     สิริณิญากร   \n",
              "4     1/8/2021 23:59      3050056               30    ผศ.ดร.พักพล   \n",
              "..               ...          ...              ...            ...   \n",
              "633  27/4/2022 23:59      3050056               30    ผศ.ดร.พักพล   \n",
              "634  27/4/2022 23:59      3050056               30    ผศ.ดร.พักพล   \n",
              "635   1/5/2022 23:59  63971940102               63        สุวิจยา   \n",
              "636   4/5/2022 23:59  62121880127               62          วนิดา   \n",
              "637   4/5/2022 23:59  62121880127               62          วนิดา   \n",
              "\n",
              "    apps_lastname apps_usertype_name  \n",
              "0         ศรีพลัง            อาจารย์  \n",
              "1          สุจริต           นักศึกษา  \n",
              "2          สุจริต           นักศึกษา  \n",
              "3          สุจริต           นักศึกษา  \n",
              "4         มุ่งลือ            อาจารย์  \n",
              "..            ...                ...  \n",
              "633       มุ่งลือ            อาจารย์  \n",
              "634       มุ่งลือ            อาจารย์  \n",
              "635         มุลทา           นักศึกษา  \n",
              "636      แสนสิงห์           นักศึกษา  \n",
              "637      แสนสิงห์           นักศึกษา  \n",
              "\n",
              "[638 rows x 11 columns]"
            ],
            "text/html": [
              "\n",
              "  <div id=\"df-b3d49bbb-f06e-453f-9628-4637fdc56660\">\n",
              "    <div class=\"colab-df-container\">\n",
              "      <div>\n",
              "<style scoped>\n",
              "    .dataframe tbody tr th:only-of-type {\n",
              "        vertical-align: middle;\n",
              "    }\n",
              "\n",
              "    .dataframe tbody tr th {\n",
              "        vertical-align: top;\n",
              "    }\n",
              "\n",
              "    .dataframe thead th {\n",
              "        text-align: right;\n",
              "    }\n",
              "</style>\n",
              "<table border=\"1\" class=\"dataframe\">\n",
              "  <thead>\n",
              "    <tr style=\"text-align: right;\">\n",
              "      <th></th>\n",
              "      <th>order_id</th>\n",
              "      <th>order_code</th>\n",
              "      <th>order_date.1</th>\n",
              "      <th>order_date.2</th>\n",
              "      <th>order_time</th>\n",
              "      <th>mustbeget_date</th>\n",
              "      <th>std_code</th>\n",
              "      <th>std_code(first)</th>\n",
              "      <th>apps_firstname</th>\n",
              "      <th>apps_lastname</th>\n",
              "      <th>apps_usertype_name</th>\n",
              "    </tr>\n",
              "  </thead>\n",
              "  <tbody>\n",
              "    <tr>\n",
              "      <th>0</th>\n",
              "      <td>14</td>\n",
              "      <td>OR21070014</td>\n",
              "      <td>23/7/2021</td>\n",
              "      <td>ศุกร์</td>\n",
              "      <td>14:05:39</td>\n",
              "      <td>26/7/2021 23:59</td>\n",
              "      <td>3040103</td>\n",
              "      <td>30</td>\n",
              "      <td>วรนุช</td>\n",
              "      <td>ศรีพลัง</td>\n",
              "      <td>อาจารย์</td>\n",
              "    </tr>\n",
              "    <tr>\n",
              "      <th>1</th>\n",
              "      <td>19</td>\n",
              "      <td>OR21070018</td>\n",
              "      <td>28/7/2021</td>\n",
              "      <td>พุธ</td>\n",
              "      <td>16:38:47</td>\n",
              "      <td>31/7/2021 23:59</td>\n",
              "      <td>61181480132</td>\n",
              "      <td>61</td>\n",
              "      <td>สิริณิญากร</td>\n",
              "      <td>สุจริต</td>\n",
              "      <td>นักศึกษา</td>\n",
              "    </tr>\n",
              "    <tr>\n",
              "      <th>2</th>\n",
              "      <td>19</td>\n",
              "      <td>OR21070018</td>\n",
              "      <td>28/7/2021</td>\n",
              "      <td>พุธ</td>\n",
              "      <td>16:38:47</td>\n",
              "      <td>31/7/2021 23:59</td>\n",
              "      <td>61181480132</td>\n",
              "      <td>61</td>\n",
              "      <td>สิริณิญากร</td>\n",
              "      <td>สุจริต</td>\n",
              "      <td>นักศึกษา</td>\n",
              "    </tr>\n",
              "    <tr>\n",
              "      <th>3</th>\n",
              "      <td>19</td>\n",
              "      <td>OR21070018</td>\n",
              "      <td>28/7/2021</td>\n",
              "      <td>พุธ</td>\n",
              "      <td>16:38:47</td>\n",
              "      <td>31/7/2021 23:59</td>\n",
              "      <td>61181480132</td>\n",
              "      <td>61</td>\n",
              "      <td>สิริณิญากร</td>\n",
              "      <td>สุจริต</td>\n",
              "      <td>นักศึกษา</td>\n",
              "    </tr>\n",
              "    <tr>\n",
              "      <th>4</th>\n",
              "      <td>20</td>\n",
              "      <td>OR21070019</td>\n",
              "      <td>29/7/2021</td>\n",
              "      <td>พฤหัสบดี</td>\n",
              "      <td>14:38:48</td>\n",
              "      <td>1/8/2021 23:59</td>\n",
              "      <td>3050056</td>\n",
              "      <td>30</td>\n",
              "      <td>ผศ.ดร.พักพล</td>\n",
              "      <td>มุ่งลือ</td>\n",
              "      <td>อาจารย์</td>\n",
              "    </tr>\n",
              "    <tr>\n",
              "      <th>...</th>\n",
              "      <td>...</td>\n",
              "      <td>...</td>\n",
              "      <td>...</td>\n",
              "      <td>...</td>\n",
              "      <td>...</td>\n",
              "      <td>...</td>\n",
              "      <td>...</td>\n",
              "      <td>...</td>\n",
              "      <td>...</td>\n",
              "      <td>...</td>\n",
              "      <td>...</td>\n",
              "    </tr>\n",
              "    <tr>\n",
              "      <th>633</th>\n",
              "      <td>356</td>\n",
              "      <td>OR22040009</td>\n",
              "      <td>24/4/2022</td>\n",
              "      <td>อาทิตย์</td>\n",
              "      <td>22:52:04</td>\n",
              "      <td>27/4/2022 23:59</td>\n",
              "      <td>3050056</td>\n",
              "      <td>30</td>\n",
              "      <td>ผศ.ดร.พักพล</td>\n",
              "      <td>มุ่งลือ</td>\n",
              "      <td>อาจารย์</td>\n",
              "    </tr>\n",
              "    <tr>\n",
              "      <th>634</th>\n",
              "      <td>356</td>\n",
              "      <td>OR22040009</td>\n",
              "      <td>24/4/2022</td>\n",
              "      <td>อาทิตย์</td>\n",
              "      <td>22:52:04</td>\n",
              "      <td>27/4/2022 23:59</td>\n",
              "      <td>3050056</td>\n",
              "      <td>30</td>\n",
              "      <td>ผศ.ดร.พักพล</td>\n",
              "      <td>มุ่งลือ</td>\n",
              "      <td>อาจารย์</td>\n",
              "    </tr>\n",
              "    <tr>\n",
              "      <th>635</th>\n",
              "      <td>357</td>\n",
              "      <td>OR22040010</td>\n",
              "      <td>28/4/2022</td>\n",
              "      <td>พฤหัสบดี</td>\n",
              "      <td>21:08:40</td>\n",
              "      <td>1/5/2022 23:59</td>\n",
              "      <td>63971940102</td>\n",
              "      <td>63</td>\n",
              "      <td>สุวิจยา</td>\n",
              "      <td>มุลทา</td>\n",
              "      <td>นักศึกษา</td>\n",
              "    </tr>\n",
              "    <tr>\n",
              "      <th>636</th>\n",
              "      <td>358</td>\n",
              "      <td>OR22050001</td>\n",
              "      <td>1/5/2022</td>\n",
              "      <td>อาทิตย์</td>\n",
              "      <td>14:02:45</td>\n",
              "      <td>4/5/2022 23:59</td>\n",
              "      <td>62121880127</td>\n",
              "      <td>62</td>\n",
              "      <td>วนิดา</td>\n",
              "      <td>แสนสิงห์</td>\n",
              "      <td>นักศึกษา</td>\n",
              "    </tr>\n",
              "    <tr>\n",
              "      <th>637</th>\n",
              "      <td>359</td>\n",
              "      <td>OR22050002</td>\n",
              "      <td>1/5/2022</td>\n",
              "      <td>อาทิตย์</td>\n",
              "      <td>14:03:52</td>\n",
              "      <td>4/5/2022 23:59</td>\n",
              "      <td>62121880127</td>\n",
              "      <td>62</td>\n",
              "      <td>วนิดา</td>\n",
              "      <td>แสนสิงห์</td>\n",
              "      <td>นักศึกษา</td>\n",
              "    </tr>\n",
              "  </tbody>\n",
              "</table>\n",
              "<p>638 rows × 11 columns</p>\n",
              "</div>\n",
              "      <button class=\"colab-df-convert\" onclick=\"convertToInteractive('df-b3d49bbb-f06e-453f-9628-4637fdc56660')\"\n",
              "              title=\"Convert this dataframe to an interactive table.\"\n",
              "              style=\"display:none;\">\n",
              "        \n",
              "  <svg xmlns=\"http://www.w3.org/2000/svg\" height=\"24px\"viewBox=\"0 0 24 24\"\n",
              "       width=\"24px\">\n",
              "    <path d=\"M0 0h24v24H0V0z\" fill=\"none\"/>\n",
              "    <path d=\"M18.56 5.44l.94 2.06.94-2.06 2.06-.94-2.06-.94-.94-2.06-.94 2.06-2.06.94zm-11 1L8.5 8.5l.94-2.06 2.06-.94-2.06-.94L8.5 2.5l-.94 2.06-2.06.94zm10 10l.94 2.06.94-2.06 2.06-.94-2.06-.94-.94-2.06-.94 2.06-2.06.94z\"/><path d=\"M17.41 7.96l-1.37-1.37c-.4-.4-.92-.59-1.43-.59-.52 0-1.04.2-1.43.59L10.3 9.45l-7.72 7.72c-.78.78-.78 2.05 0 2.83L4 21.41c.39.39.9.59 1.41.59.51 0 1.02-.2 1.41-.59l7.78-7.78 2.81-2.81c.8-.78.8-2.07 0-2.86zM5.41 20L4 18.59l7.72-7.72 1.47 1.35L5.41 20z\"/>\n",
              "  </svg>\n",
              "      </button>\n",
              "      \n",
              "  <style>\n",
              "    .colab-df-container {\n",
              "      display:flex;\n",
              "      flex-wrap:wrap;\n",
              "      gap: 12px;\n",
              "    }\n",
              "\n",
              "    .colab-df-convert {\n",
              "      background-color: #E8F0FE;\n",
              "      border: none;\n",
              "      border-radius: 50%;\n",
              "      cursor: pointer;\n",
              "      display: none;\n",
              "      fill: #1967D2;\n",
              "      height: 32px;\n",
              "      padding: 0 0 0 0;\n",
              "      width: 32px;\n",
              "    }\n",
              "\n",
              "    .colab-df-convert:hover {\n",
              "      background-color: #E2EBFA;\n",
              "      box-shadow: 0px 1px 2px rgba(60, 64, 67, 0.3), 0px 1px 3px 1px rgba(60, 64, 67, 0.15);\n",
              "      fill: #174EA6;\n",
              "    }\n",
              "\n",
              "    [theme=dark] .colab-df-convert {\n",
              "      background-color: #3B4455;\n",
              "      fill: #D2E3FC;\n",
              "    }\n",
              "\n",
              "    [theme=dark] .colab-df-convert:hover {\n",
              "      background-color: #434B5C;\n",
              "      box-shadow: 0px 1px 3px 1px rgba(0, 0, 0, 0.15);\n",
              "      filter: drop-shadow(0px 1px 2px rgba(0, 0, 0, 0.3));\n",
              "      fill: #FFFFFF;\n",
              "    }\n",
              "  </style>\n",
              "\n",
              "      <script>\n",
              "        const buttonEl =\n",
              "          document.querySelector('#df-b3d49bbb-f06e-453f-9628-4637fdc56660 button.colab-df-convert');\n",
              "        buttonEl.style.display =\n",
              "          google.colab.kernel.accessAllowed ? 'block' : 'none';\n",
              "\n",
              "        async function convertToInteractive(key) {\n",
              "          const element = document.querySelector('#df-b3d49bbb-f06e-453f-9628-4637fdc56660');\n",
              "          const dataTable =\n",
              "            await google.colab.kernel.invokeFunction('convertToInteractive',\n",
              "                                                     [key], {});\n",
              "          if (!dataTable) return;\n",
              "\n",
              "          const docLinkHtml = 'Like what you see? Visit the ' +\n",
              "            '<a target=\"_blank\" href=https://colab.research.google.com/notebooks/data_table.ipynb>data table notebook</a>'\n",
              "            + ' to learn more about interactive tables.';\n",
              "          element.innerHTML = '';\n",
              "          dataTable['output_type'] = 'display_data';\n",
              "          await google.colab.output.renderOutput(dataTable, element);\n",
              "          const docLink = document.createElement('div');\n",
              "          docLink.innerHTML = docLinkHtml;\n",
              "          element.appendChild(docLink);\n",
              "        }\n",
              "      </script>\n",
              "    </div>\n",
              "  </div>\n",
              "  "
            ]
          },
          "metadata": {},
          "execution_count": 59
        }
      ]
    },
    {
      "cell_type": "code",
      "source": [
        "data_USL.info()"
      ],
      "metadata": {
        "colab": {
          "base_uri": "https://localhost:8080/"
        },
        "id": "N_ChTXiur699",
        "outputId": "30f704de-830e-4530-cdbd-52f0e4f62f0c"
      },
      "execution_count": 48,
      "outputs": [
        {
          "output_type": "stream",
          "name": "stdout",
          "text": [
            "<class 'pandas.core.frame.DataFrame'>\n",
            "RangeIndex: 638 entries, 0 to 637\n",
            "Data columns (total 11 columns):\n",
            " #   Column              Non-Null Count  Dtype \n",
            "---  ------              --------------  ----- \n",
            " 0   order_id            638 non-null    int64 \n",
            " 1   order_code          638 non-null    object\n",
            " 2   order_date.1        638 non-null    object\n",
            " 3   order_date.2        638 non-null    object\n",
            " 4   order_time          638 non-null    object\n",
            " 5   mustbeget_date      638 non-null    object\n",
            " 6   std_code            638 non-null    int64 \n",
            " 7   std_code(first)     638 non-null    int64 \n",
            " 8   apps_firstname      638 non-null    object\n",
            " 9   apps_lastname       638 non-null    object\n",
            " 10  apps_usertype_name  638 non-null    object\n",
            "dtypes: int64(3), object(8)\n",
            "memory usage: 55.0+ KB\n"
          ]
        }
      ]
    },
    {
      "cell_type": "code",
      "source": [
        "data_USLday = data_USL.groupby(['order_date.2']).count().reset_index().iloc[:,:2]  ##\n",
        "data_USLday"
      ],
      "metadata": {
        "colab": {
          "base_uri": "https://localhost:8080/",
          "height": 269
        },
        "id": "ZnaJPDEYHjKa",
        "outputId": "f5d781db-ced8-4312-91b0-33e6a4152012"
      },
      "execution_count": 60,
      "outputs": [
        {
          "output_type": "execute_result",
          "data": {
            "text/plain": [
              "  order_date.2  order_id\n",
              "0       จันทร์       128\n",
              "1     พฤหัสบดี       109\n",
              "2          พุธ        98\n",
              "3        ศุกร์       106\n",
              "4       อังคาร       107\n",
              "5      อาทิตย์        42\n",
              "6        เสาร์        48"
            ],
            "text/html": [
              "\n",
              "  <div id=\"df-9351af28-410c-4323-b1a7-ab5d06d2b895\">\n",
              "    <div class=\"colab-df-container\">\n",
              "      <div>\n",
              "<style scoped>\n",
              "    .dataframe tbody tr th:only-of-type {\n",
              "        vertical-align: middle;\n",
              "    }\n",
              "\n",
              "    .dataframe tbody tr th {\n",
              "        vertical-align: top;\n",
              "    }\n",
              "\n",
              "    .dataframe thead th {\n",
              "        text-align: right;\n",
              "    }\n",
              "</style>\n",
              "<table border=\"1\" class=\"dataframe\">\n",
              "  <thead>\n",
              "    <tr style=\"text-align: right;\">\n",
              "      <th></th>\n",
              "      <th>order_date.2</th>\n",
              "      <th>order_id</th>\n",
              "    </tr>\n",
              "  </thead>\n",
              "  <tbody>\n",
              "    <tr>\n",
              "      <th>0</th>\n",
              "      <td>จันทร์</td>\n",
              "      <td>128</td>\n",
              "    </tr>\n",
              "    <tr>\n",
              "      <th>1</th>\n",
              "      <td>พฤหัสบดี</td>\n",
              "      <td>109</td>\n",
              "    </tr>\n",
              "    <tr>\n",
              "      <th>2</th>\n",
              "      <td>พุธ</td>\n",
              "      <td>98</td>\n",
              "    </tr>\n",
              "    <tr>\n",
              "      <th>3</th>\n",
              "      <td>ศุกร์</td>\n",
              "      <td>106</td>\n",
              "    </tr>\n",
              "    <tr>\n",
              "      <th>4</th>\n",
              "      <td>อังคาร</td>\n",
              "      <td>107</td>\n",
              "    </tr>\n",
              "    <tr>\n",
              "      <th>5</th>\n",
              "      <td>อาทิตย์</td>\n",
              "      <td>42</td>\n",
              "    </tr>\n",
              "    <tr>\n",
              "      <th>6</th>\n",
              "      <td>เสาร์</td>\n",
              "      <td>48</td>\n",
              "    </tr>\n",
              "  </tbody>\n",
              "</table>\n",
              "</div>\n",
              "      <button class=\"colab-df-convert\" onclick=\"convertToInteractive('df-9351af28-410c-4323-b1a7-ab5d06d2b895')\"\n",
              "              title=\"Convert this dataframe to an interactive table.\"\n",
              "              style=\"display:none;\">\n",
              "        \n",
              "  <svg xmlns=\"http://www.w3.org/2000/svg\" height=\"24px\"viewBox=\"0 0 24 24\"\n",
              "       width=\"24px\">\n",
              "    <path d=\"M0 0h24v24H0V0z\" fill=\"none\"/>\n",
              "    <path d=\"M18.56 5.44l.94 2.06.94-2.06 2.06-.94-2.06-.94-.94-2.06-.94 2.06-2.06.94zm-11 1L8.5 8.5l.94-2.06 2.06-.94-2.06-.94L8.5 2.5l-.94 2.06-2.06.94zm10 10l.94 2.06.94-2.06 2.06-.94-2.06-.94-.94-2.06-.94 2.06-2.06.94z\"/><path d=\"M17.41 7.96l-1.37-1.37c-.4-.4-.92-.59-1.43-.59-.52 0-1.04.2-1.43.59L10.3 9.45l-7.72 7.72c-.78.78-.78 2.05 0 2.83L4 21.41c.39.39.9.59 1.41.59.51 0 1.02-.2 1.41-.59l7.78-7.78 2.81-2.81c.8-.78.8-2.07 0-2.86zM5.41 20L4 18.59l7.72-7.72 1.47 1.35L5.41 20z\"/>\n",
              "  </svg>\n",
              "      </button>\n",
              "      \n",
              "  <style>\n",
              "    .colab-df-container {\n",
              "      display:flex;\n",
              "      flex-wrap:wrap;\n",
              "      gap: 12px;\n",
              "    }\n",
              "\n",
              "    .colab-df-convert {\n",
              "      background-color: #E8F0FE;\n",
              "      border: none;\n",
              "      border-radius: 50%;\n",
              "      cursor: pointer;\n",
              "      display: none;\n",
              "      fill: #1967D2;\n",
              "      height: 32px;\n",
              "      padding: 0 0 0 0;\n",
              "      width: 32px;\n",
              "    }\n",
              "\n",
              "    .colab-df-convert:hover {\n",
              "      background-color: #E2EBFA;\n",
              "      box-shadow: 0px 1px 2px rgba(60, 64, 67, 0.3), 0px 1px 3px 1px rgba(60, 64, 67, 0.15);\n",
              "      fill: #174EA6;\n",
              "    }\n",
              "\n",
              "    [theme=dark] .colab-df-convert {\n",
              "      background-color: #3B4455;\n",
              "      fill: #D2E3FC;\n",
              "    }\n",
              "\n",
              "    [theme=dark] .colab-df-convert:hover {\n",
              "      background-color: #434B5C;\n",
              "      box-shadow: 0px 1px 3px 1px rgba(0, 0, 0, 0.15);\n",
              "      filter: drop-shadow(0px 1px 2px rgba(0, 0, 0, 0.3));\n",
              "      fill: #FFFFFF;\n",
              "    }\n",
              "  </style>\n",
              "\n",
              "      <script>\n",
              "        const buttonEl =\n",
              "          document.querySelector('#df-9351af28-410c-4323-b1a7-ab5d06d2b895 button.colab-df-convert');\n",
              "        buttonEl.style.display =\n",
              "          google.colab.kernel.accessAllowed ? 'block' : 'none';\n",
              "\n",
              "        async function convertToInteractive(key) {\n",
              "          const element = document.querySelector('#df-9351af28-410c-4323-b1a7-ab5d06d2b895');\n",
              "          const dataTable =\n",
              "            await google.colab.kernel.invokeFunction('convertToInteractive',\n",
              "                                                     [key], {});\n",
              "          if (!dataTable) return;\n",
              "\n",
              "          const docLinkHtml = 'Like what you see? Visit the ' +\n",
              "            '<a target=\"_blank\" href=https://colab.research.google.com/notebooks/data_table.ipynb>data table notebook</a>'\n",
              "            + ' to learn more about interactive tables.';\n",
              "          element.innerHTML = '';\n",
              "          dataTable['output_type'] = 'display_data';\n",
              "          await google.colab.output.renderOutput(dataTable, element);\n",
              "          const docLink = document.createElement('div');\n",
              "          docLink.innerHTML = docLinkHtml;\n",
              "          element.appendChild(docLink);\n",
              "        }\n",
              "      </script>\n",
              "    </div>\n",
              "  </div>\n",
              "  "
            ]
          },
          "metadata": {},
          "execution_count": 60
        }
      ]
    },
    {
      "cell_type": "code",
      "source": [
        "from matplotlib import pyplot as plt"
      ],
      "metadata": {
        "id": "ylEuQGbSJYgA"
      },
      "execution_count": 51,
      "outputs": []
    },
    {
      "cell_type": "code",
      "source": [
        "data_USLday['order_id'].plot(kind=\"hist\")"
      ],
      "metadata": {
        "colab": {
          "base_uri": "https://localhost:8080/",
          "height": 282
        },
        "id": "1a_HVS3QLAvw",
        "outputId": "50e85e7a-c2ba-4668-dba2-33e0c41dc2f5"
      },
      "execution_count": 61,
      "outputs": [
        {
          "output_type": "execute_result",
          "data": {
            "text/plain": [
              "<matplotlib.axes._subplots.AxesSubplot at 0x7f745c00d490>"
            ]
          },
          "metadata": {},
          "execution_count": 61
        },
        {
          "output_type": "display_data",
          "data": {
            "text/plain": [
              "<Figure size 432x288 with 1 Axes>"
            ],
            "image/png": "[encoded data removed]"
          },
          "metadata": {
            "needs_background": "light"
          }
        }
      ]
    },
    {
      "cell_type": "code",
      "source": [
        "plt.bar([1,2,3,4,5,6,7],data_USLday['order_id'])\n"
      ],
      "metadata": {
        "colab": {
          "base_uri": "https://localhost:8080/",
          "height": 282
        },
        "id": "QCzwEG6eMW62",
        "outputId": "0962cb3d-1e48-426f-bbcc-71edce5023f1"
      },
      "execution_count": 63,
      "outputs": [
        {
          "output_type": "execute_result",
          "data": {
            "text/plain": [
              "<BarContainer object of 7 artists>"
            ]
          },
          "metadata": {},
          "execution_count": 63
        },
        {
          "output_type": "display_data",
          "data": {
            "text/plain": [
              "<Figure size 432x288 with 1 Axes>"
            ],
            "image/png": "[encoded data removed]"
          },
          "metadata": {
            "needs_background": "light"
          }
        }
      ]
    },
    {
      "cell_type": "code",
      "source": [
        "#data_USL['order_date.1'] = pd.to_datetime(data_USL['order_date.1'],format='%Y-%m-%d')"
      ],
      "metadata": {
        "id": "Tf8rjJxqvOtf"
      },
      "execution_count": 39,
      "outputs": []
    },
    {
      "cell_type": "code",
      "source": [
        "#data_USL['order_time'] = pd.to_datetime(data_USL['order_time'],format='%H-%M-%S',errors='ignore')"
      ],
      "metadata": {
        "id": "GAX92ayq4G69"
      },
      "execution_count": 40,
      "outputs": []
    },
    {
      "cell_type": "code",
      "source": [
        "#data_USL['order_time'] = data_USL['order_time'].astype(float)"
      ],
      "metadata": {
        "id": "O1s6Gu8q62zF"
      },
      "execution_count": 41,
      "outputs": []
    },
    {
      "cell_type": "code",
      "source": [
        "data_USL.info()"
      ],
      "metadata": {
        "colab": {
          "base_uri": "https://localhost:8080/"
        },
        "id": "zKzzMOBQ6nHs",
        "outputId": "0c5db35c-1dca-492e-fd8d-7e962f2d6e9d"
      },
      "execution_count": 42,
      "outputs": [
        {
          "output_type": "stream",
          "name": "stdout",
          "text": [
            "<class 'pandas.core.frame.DataFrame'>\n",
            "RangeIndex: 638 entries, 0 to 637\n",
            "Data columns (total 10 columns):\n",
            " #   Column              Non-Null Count  Dtype \n",
            "---  ------              --------------  ----- \n",
            " 0   order_id            638 non-null    int64 \n",
            " 1   order_code          638 non-null    object\n",
            " 2   order_date.1        638 non-null    object\n",
            " 3   order_time          638 non-null    object\n",
            " 4   mustbeget_date      638 non-null    object\n",
            " 5   std_code            638 non-null    int64 \n",
            " 6   std_code(first)     638 non-null    int64 \n",
            " 7   apps_firstname      638 non-null    object\n",
            " 8   apps_lastname       638 non-null    object\n",
            " 9   apps_usertype_name  638 non-null    object\n",
            "dtypes: int64(3), object(7)\n",
            "memory usage: 50.0+ KB\n"
          ]
        }
      ]
    },
    {
      "cell_type": "code",
      "source": [
        "#data_USLsat =data_USL[(data_USL['order_date.1']=='2021-07-23')|(data_USL['order_date.1']=='2021-07-24')]\n",
        "data_USLsat"
      ],
      "metadata": {
        "colab": {
          "base_uri": "https://localhost:8080/",
          "height": 81
        },
        "id": "32u27kwF_Fxk",
        "outputId": "222981f2-c9c6-4659-f9b8-d35652322bb9"
      },
      "execution_count": 43,
      "outputs": [
        {
          "output_type": "execute_result",
          "data": {
            "text/plain": [
              "   order_id  order_code order_date.1 order_time   mustbeget_date  std_code  \\\n",
              "0        14  OR21070014   2021-07-23   14:05:39  26/7/2021 23:59   3040103   \n",
              "\n",
              "   std_code(first) apps_firstname apps_lastname apps_usertype_name  \n",
              "0               30          วรนุช       ศรีพลัง            อาจารย์  "
            ],
            "text/html": [
              "\n",
              "  <div id=\"df-be4e3902-634b-44d9-a954-c2261dca96e2\">\n",
              "    <div class=\"colab-df-container\">\n",
              "      <div>\n",
              "<style scoped>\n",
              "    .dataframe tbody tr th:only-of-type {\n",
              "        vertical-align: middle;\n",
              "    }\n",
              "\n",
              "    .dataframe tbody tr th {\n",
              "        vertical-align: top;\n",
              "    }\n",
              "\n",
              "    .dataframe thead th {\n",
              "        text-align: right;\n",
              "    }\n",
              "</style>\n",
              "<table border=\"1\" class=\"dataframe\">\n",
              "  <thead>\n",
              "    <tr style=\"text-align: right;\">\n",
              "      <th></th>\n",
              "      <th>order_id</th>\n",
              "      <th>order_code</th>\n",
              "      <th>order_date.1</th>\n",
              "      <th>order_time</th>\n",
              "      <th>mustbeget_date</th>\n",
              "      <th>std_code</th>\n",
              "      <th>std_code(first)</th>\n",
              "      <th>apps_firstname</th>\n",
              "      <th>apps_lastname</th>\n",
              "      <th>apps_usertype_name</th>\n",
              "    </tr>\n",
              "  </thead>\n",
              "  <tbody>\n",
              "    <tr>\n",
              "      <th>0</th>\n",
              "      <td>14</td>\n",
              "      <td>OR21070014</td>\n",
              "      <td>2021-07-23</td>\n",
              "      <td>14:05:39</td>\n",
              "      <td>26/7/2021 23:59</td>\n",
              "      <td>3040103</td>\n",
              "      <td>30</td>\n",
              "      <td>วรนุช</td>\n",
              "      <td>ศรีพลัง</td>\n",
              "      <td>อาจารย์</td>\n",
              "    </tr>\n",
              "  </tbody>\n",
              "</table>\n",
              "</div>\n",
              "      <button class=\"colab-df-convert\" onclick=\"convertToInteractive('df-be4e3902-634b-44d9-a954-c2261dca96e2')\"\n",
              "              title=\"Convert this dataframe to an interactive table.\"\n",
              "              style=\"display:none;\">\n",
              "        \n",
              "  <svg xmlns=\"http://www.w3.org/2000/svg\" height=\"24px\"viewBox=\"0 0 24 24\"\n",
              "       width=\"24px\">\n",
              "    <path d=\"M0 0h24v24H0V0z\" fill=\"none\"/>\n",
              "    <path d=\"M18.56 5.44l.94 2.06.94-2.06 2.06-.94-2.06-.94-.94-2.06-.94 2.06-2.06.94zm-11 1L8.5 8.5l.94-2.06 2.06-.94-2.06-.94L8.5 2.5l-.94 2.06-2.06.94zm10 10l.94 2.06.94-2.06 2.06-.94-2.06-.94-.94-2.06-.94 2.06-2.06.94z\"/><path d=\"M17.41 7.96l-1.37-1.37c-.4-.4-.92-.59-1.43-.59-.52 0-1.04.2-1.43.59L10.3 9.45l-7.72 7.72c-.78.78-.78 2.05 0 2.83L4 21.41c.39.39.9.59 1.41.59.51 0 1.02-.2 1.41-.59l7.78-7.78 2.81-2.81c.8-.78.8-2.07 0-2.86zM5.41 20L4 18.59l7.72-7.72 1.47 1.35L5.41 20z\"/>\n",
              "  </svg>\n",
              "      </button>\n",
              "      \n",
              "  <style>\n",
              "    .colab-df-container {\n",
              "      display:flex;\n",
              "      flex-wrap:wrap;\n",
              "      gap: 12px;\n",
              "    }\n",
              "\n",
              "    .colab-df-convert {\n",
              "      background-color: #E8F0FE;\n",
              "      border: none;\n",
              "      border-radius: 50%;\n",
              "      cursor: pointer;\n",
              "      display: none;\n",
              "      fill: #1967D2;\n",
              "      height: 32px;\n",
              "      padding: 0 0 0 0;\n",
              "      width: 32px;\n",
              "    }\n",
              "\n",
              "    .colab-df-convert:hover {\n",
              "      background-color: #E2EBFA;\n",
              "      box-shadow: 0px 1px 2px rgba(60, 64, 67, 0.3), 0px 1px 3px 1px rgba(60, 64, 67, 0.15);\n",
              "      fill: #174EA6;\n",
              "    }\n",
              "\n",
              "    [theme=dark] .colab-df-convert {\n",
              "      background-color: #3B4455;\n",
              "      fill: #D2E3FC;\n",
              "    }\n",
              "\n",
              "    [theme=dark] .colab-df-convert:hover {\n",
              "      background-color: #434B5C;\n",
              "      box-shadow: 0px 1px 3px 1px rgba(0, 0, 0, 0.15);\n",
              "      filter: drop-shadow(0px 1px 2px rgba(0, 0, 0, 0.3));\n",
              "      fill: #FFFFFF;\n",
              "    }\n",
              "  </style>\n",
              "\n",
              "      <script>\n",
              "        const buttonEl =\n",
              "          document.querySelector('#df-be4e3902-634b-44d9-a954-c2261dca96e2 button.colab-df-convert');\n",
              "        buttonEl.style.display =\n",
              "          google.colab.kernel.accessAllowed ? 'block' : 'none';\n",
              "\n",
              "        async function convertToInteractive(key) {\n",
              "          const element = document.querySelector('#df-be4e3902-634b-44d9-a954-c2261dca96e2');\n",
              "          const dataTable =\n",
              "            await google.colab.kernel.invokeFunction('convertToInteractive',\n",
              "                                                     [key], {});\n",
              "          if (!dataTable) return;\n",
              "\n",
              "          const docLinkHtml = 'Like what you see? Visit the ' +\n",
              "            '<a target=\"_blank\" href=https://colab.research.google.com/notebooks/data_table.ipynb>data table notebook</a>'\n",
              "            + ' to learn more about interactive tables.';\n",
              "          element.innerHTML = '';\n",
              "          dataTable['output_type'] = 'display_data';\n",
              "          await google.colab.output.renderOutput(dataTable, element);\n",
              "          const docLink = document.createElement('div');\n",
              "          docLink.innerHTML = docLinkHtml;\n",
              "          element.appendChild(docLink);\n",
              "        }\n",
              "      </script>\n",
              "    </div>\n",
              "  </div>\n",
              "  "
            ]
          },
          "metadata": {},
          "execution_count": 43
        }
      ]
    },
    {
      "cell_type": "code",
      "source": [
        "#data_USLsat =data_USL[(data_USL['order_date.1']=='2021-07-25')|(data_USL['order_date.1']=='2021-08-1')|(data_USL['order_date.1']=='2021-08-8')|(data_USL['order_date.1']=='2021-08-15')|(data_USL['order_date.1']=='2021-08-22')|(data_USL['order_date.1']=='2021-08-29')|(data_USL['order_date.1']=='2021-09-5')|(data_USL['order_date.1']=='2021-09-12')|(data_USL['order_date.1']=='2021-09-19')|(data_USL['order_date.1']=='2021-09-26')]"
      ],
      "metadata": {
        "id": "QZHpRO-g8t03"
      },
      "execution_count": 44,
      "outputs": []
    },
    {
      "cell_type": "code",
      "source": [
        ""
      ],
      "metadata": {
        "id": "S_dr-_g69lue"
      },
      "execution_count": 44,
      "outputs": []
    },
    {
      "cell_type": "code",
      "source": [
        ""
      ],
      "metadata": {
        "id": "vDx6M88T9lsN"
      },
      "execution_count": 44,
      "outputs": []
    },
    {
      "cell_type": "code",
      "source": [
        ""
      ],
      "metadata": {
        "id": "A6BDfwFe9lo-"
      },
      "execution_count": 44,
      "outputs": []
    },
    {
      "cell_type": "code",
      "source": [
        ""
      ],
      "metadata": {
        "id": "OP5ot2yI9llp"
      },
      "execution_count": 44,
      "outputs": []
    },
    {
      "cell_type": "code",
      "source": [
        ""
      ],
      "metadata": {
        "id": "IZUwxLvt9lg5"
      },
      "execution_count": 44,
      "outputs": []
    },
    {
      "cell_type": "code",
      "source": [
        ""
      ],
      "metadata": {
        "id": "lUll1wdb9ld2"
      },
      "execution_count": 44,
      "outputs": []
    },
    {
      "cell_type": "code",
      "source": [
        ""
      ],
      "metadata": {
        "id": "PW05Ozf29lap"
      },
      "execution_count": 44,
      "outputs": []
    },
    {
      "cell_type": "code",
      "source": [
        ""
      ],
      "metadata": {
        "id": "Qd-1RzBW9lX2"
      },
      "execution_count": 44,
      "outputs": []
    },
    {
      "cell_type": "code",
      "source": [
        ""
      ],
      "metadata": {
        "id": "KFm8nW6D9lUe"
      },
      "execution_count": 44,
      "outputs": []
    },
    {
      "cell_type": "code",
      "source": [
        "#data_USL=data_USL[(data_USL['order_time']>6:00:00)&(data_USL['order_time']<13:00:00)]"
      ],
      "metadata": {
        "id": "OEo4b0WX34Xb"
      },
      "execution_count": 45,
      "outputs": []
    },
    {
      "cell_type": "code",
      "source": [
        ""
      ],
      "metadata": {
        "id": "QxP-oh0234Kc"
      },
      "execution_count": 45,
      "outputs": []
    }
  ]
}