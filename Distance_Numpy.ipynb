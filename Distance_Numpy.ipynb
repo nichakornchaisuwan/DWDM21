{
  "nbformat": 4,
  "nbformat_minor": 0,
  "metadata": {
    "colab": {
      "name": "Distance Numpy.ipynb",
      "provenance": [],
      "authorship_tag": "ABX9TyNIvm7raG/D1ObP12cj8YV2",
      "include_colab_link": true
    },
    "kernelspec": {
      "name": "python3",
      "display_name": "Python 3"
    },
    "language_info": {
      "name": "python"
    }
  },
  "cells": [
    {
      "cell_type": "markdown",
      "metadata": {
        "id": "view-in-github",
        "colab_type": "text"
      },
      "source": [
        "<a href=\"https://colab.research.google.com/github/nichakornchaisuwan/DWDM21/blob/main/Distance_Numpy.ipynb\" target=\"_parent\"><img src=\"https://colab.research.google.com/assets/colab-badge.svg\" alt=\"Open In Colab\"/></a>"
      ]
    },
    {
      "cell_type": "code",
      "metadata": {
        "id": "iS5aFiKsc3gQ"
      },
      "source": [
        "import numpy as np #package สำหรับทำงานกับ ข้อมูลที่เป็นตัวเลข (อยู่ในรูปแบบ Matrix)"
      ],
      "execution_count": 1,
      "outputs": []
    },
    {
      "cell_type": "markdown",
      "metadata": {
        "id": "4ugQIo0Vdfjm"
      },
      "source": [
        "##Nimpy Array (matrix) จาก list"
      ]
    },
    {
      "cell_type": "markdown",
      "metadata": {
        "id": "CbdJUaImdk8u"
      },
      "source": [
        "สร้าง numpy array"
      ]
    },
    {
      "cell_type": "code",
      "metadata": {
        "id": "k5EiTJN9dRKj"
      },
      "source": [
        "np_a = np.array([[1,2,3],[4,5,6]]) # สร้าง numpy array ที่มี 2 แถว 3 หลัก"
      ],
      "execution_count": 2,
      "outputs": []
    },
    {
      "cell_type": "code",
      "metadata": {
        "colab": {
          "base_uri": "https://localhost:8080/"
        },
        "id": "gZCB1baTeBdj",
        "outputId": "65c23ada-2824-4273-ff15-cf5a65461d2e"
      },
      "source": [
        "np_a"
      ],
      "execution_count": 3,
      "outputs": [
        {
          "output_type": "execute_result",
          "data": {
            "text/plain": [
              "array([[1, 2, 3],\n",
              "       [4, 5, 6]])"
            ]
          },
          "metadata": {},
          "execution_count": 3
        }
      ]
    },
    {
      "cell_type": "code",
      "metadata": {
        "colab": {
          "base_uri": "https://localhost:8080/"
        },
        "id": "MkIN8PQWeEJy",
        "outputId": "5eb7fc45-e51f-4889-ce60-274df5f125b6"
      },
      "source": [
        "np_a.shape"
      ],
      "execution_count": 4,
      "outputs": [
        {
          "output_type": "execute_result",
          "data": {
            "text/plain": [
              "(2, 3)"
            ]
          },
          "metadata": {},
          "execution_count": 4
        }
      ]
    },
    {
      "cell_type": "code",
      "metadata": {
        "colab": {
          "base_uri": "https://localhost:8080/"
        },
        "id": "hxjRLTPfeH-x",
        "outputId": "5bdd5c4d-dbad-46ab-aad7-30dd9c9a7ef9"
      },
      "source": [
        "np_b = np.array([[1,4],[2,5],[3,6]])\n",
        "np_b"
      ],
      "execution_count": 5,
      "outputs": [
        {
          "output_type": "execute_result",
          "data": {
            "text/plain": [
              "array([[1, 4],\n",
              "       [2, 5],\n",
              "       [3, 6]])"
            ]
          },
          "metadata": {},
          "execution_count": 5
        }
      ]
    },
    {
      "cell_type": "markdown",
      "metadata": {
        "id": "-I9cT0_Be8Kt"
      },
      "source": [
        "##สร้าง matrix เริ่มต้น (zeros,ones)"
      ]
    },
    {
      "cell_type": "code",
      "metadata": {
        "colab": {
          "base_uri": "https://localhost:8080/"
        },
        "id": "Rgd5Bxmyet8v",
        "outputId": "bb7527f3-4c30-4909-e48c-bd23e0153fc7"
      },
      "source": [
        "np_z = np.zeros((4,5)) # identity การบวก\n",
        "np_z"
      ],
      "execution_count": 6,
      "outputs": [
        {
          "output_type": "execute_result",
          "data": {
            "text/plain": [
              "array([[0., 0., 0., 0., 0.],\n",
              "       [0., 0., 0., 0., 0.],\n",
              "       [0., 0., 0., 0., 0.],\n",
              "       [0., 0., 0., 0., 0.]])"
            ]
          },
          "metadata": {},
          "execution_count": 6
        }
      ]
    },
    {
      "cell_type": "code",
      "metadata": {
        "colab": {
          "base_uri": "https://localhost:8080/"
        },
        "id": "-oDk_3QZfft0",
        "outputId": "d9dbe095-0304-40e3-d801-f60fc7d7466b"
      },
      "source": [
        "np_o = np.ones((5,6)) #identity การคูณ\n",
        "np_o"
      ],
      "execution_count": 7,
      "outputs": [
        {
          "output_type": "execute_result",
          "data": {
            "text/plain": [
              "array([[1., 1., 1., 1., 1., 1.],\n",
              "       [1., 1., 1., 1., 1., 1.],\n",
              "       [1., 1., 1., 1., 1., 1.],\n",
              "       [1., 1., 1., 1., 1., 1.],\n",
              "       [1., 1., 1., 1., 1., 1.]])"
            ]
          },
          "metadata": {},
          "execution_count": 7
        }
      ]
    },
    {
      "cell_type": "code",
      "metadata": {
        "colab": {
          "base_uri": "https://localhost:8080/"
        },
        "id": "47vj7GYofqKM",
        "outputId": "c20b2149-b4be-4ce0-b675-54768851e8e4"
      },
      "source": [
        "np_200 = 200*np.ones((4,7))\n",
        "np_200"
      ],
      "execution_count": 8,
      "outputs": [
        {
          "output_type": "execute_result",
          "data": {
            "text/plain": [
              "array([[200., 200., 200., 200., 200., 200., 200.],\n",
              "       [200., 200., 200., 200., 200., 200., 200.],\n",
              "       [200., 200., 200., 200., 200., 200., 200.],\n",
              "       [200., 200., 200., 200., 200., 200., 200.]])"
            ]
          },
          "metadata": {},
          "execution_count": 8
        }
      ]
    },
    {
      "cell_type": "markdown",
      "metadata": {
        "id": "CSLD10oRgeRU"
      },
      "source": [
        "##สร้าง matrix random"
      ]
    },
    {
      "cell_type": "code",
      "metadata": {
        "colab": {
          "base_uri": "https://localhost:8080/"
        },
        "id": "fNomDWBKgNyl",
        "outputId": "25ca90e3-1b8c-48a7-f710-96272528cb31"
      },
      "source": [
        "np.random.randn(5,5) #random เลขมาจาก normal distribution ที่มี mu=0 std = 1"
      ],
      "execution_count": 9,
      "outputs": [
        {
          "output_type": "execute_result",
          "data": {
            "text/plain": [
              "array([[-0.78324278, -0.59988139, -1.22856613,  0.05030404,  0.37750437],\n",
              "       [-0.47726295,  0.78742567, -0.21765603, -0.16896251, -0.02859708],\n",
              "       [-1.2773209 , -1.85918051, -0.42677813,  0.46122864, -1.05893706],\n",
              "       [ 1.25096986, -1.16011066,  0.72209399,  0.7817375 , -1.08867284],\n",
              "       [ 1.69631137,  1.61876741, -0.29003102,  0.0036452 ,  0.97565367]])"
            ]
          },
          "metadata": {},
          "execution_count": 9
        }
      ]
    },
    {
      "cell_type": "code",
      "metadata": {
        "colab": {
          "base_uri": "https://localhost:8080/"
        },
        "id": "LCRhYBedgvW0",
        "outputId": "93174c56-1626-4417-ecc9-4834e39c2cdf"
      },
      "source": [
        "2+(5*np.random.randn(3,3)) #random เลขมาจาก normal distribution ที่มี mu=2 std = 5"
      ],
      "execution_count": 10,
      "outputs": [
        {
          "output_type": "execute_result",
          "data": {
            "text/plain": [
              "array([[ 8.4171243 , -0.42667895,  3.00536609],\n",
              "       [ 7.92720144,  3.36663109,  3.54345792],\n",
              "       [ 8.49160604,  0.15588093,  2.75029365]])"
            ]
          },
          "metadata": {},
          "execution_count": 10
        }
      ]
    },
    {
      "cell_type": "code",
      "metadata": {
        "colab": {
          "base_uri": "https://localhost:8080/"
        },
        "id": "FKNoeI8ohPXt",
        "outputId": "a99f08b5-4d0f-49b6-b316-7362c098ca49"
      },
      "source": [
        "np.random.randint(5,11,(4,5))   #เลขจำนวนเต็ม ระหว่าง 5-10 จึงต้องใช้ 5,11 ขนาด 4*5"
      ],
      "execution_count": 11,
      "outputs": [
        {
          "output_type": "execute_result",
          "data": {
            "text/plain": [
              "array([[10,  7,  7,  8,  8],\n",
              "       [ 7,  5,  7,  9,  6],\n",
              "       [ 8,  6, 10, 10,  5],\n",
              "       [ 5,  9,  7, 10,  8]])"
            ]
          },
          "metadata": {},
          "execution_count": 11
        }
      ]
    },
    {
      "cell_type": "code",
      "metadata": {
        "id": "kba0QZuYhj1N"
      },
      "source": [
        ""
      ],
      "execution_count": 11,
      "outputs": []
    },
    {
      "cell_type": "markdown",
      "metadata": {
        "id": "mfKyzP57enb4"
      },
      "source": [
        "matrix transpose"
      ]
    },
    {
      "cell_type": "code",
      "metadata": {
        "id": "41dGniDDOkJJ",
        "colab": {
          "base_uri": "https://localhost:8080/"
        },
        "outputId": "c5f14164-6039-4ad1-e229-8be58d57a66e"
      },
      "source": [
        "np_a"
      ],
      "execution_count": 12,
      "outputs": [
        {
          "output_type": "execute_result",
          "data": {
            "text/plain": [
              "array([[1, 2, 3],\n",
              "       [4, 5, 6]])"
            ]
          },
          "metadata": {},
          "execution_count": 12
        }
      ]
    },
    {
      "cell_type": "code",
      "metadata": {
        "colab": {
          "base_uri": "https://localhost:8080/"
        },
        "id": "ja-nzbWreaXW",
        "outputId": "8ae11621-8a94-47fc-b000-2edce5c9c2e2"
      },
      "source": [
        "np_a.T #transpose"
      ],
      "execution_count": 13,
      "outputs": [
        {
          "output_type": "execute_result",
          "data": {
            "text/plain": [
              "array([[1, 4],\n",
              "       [2, 5],\n",
              "       [3, 6]])"
            ]
          },
          "metadata": {},
          "execution_count": 13
        }
      ]
    },
    {
      "cell_type": "code",
      "metadata": {
        "id": "mQFUWWATOss9",
        "colab": {
          "base_uri": "https://localhost:8080/"
        },
        "outputId": "2eb18c29-5077-4a1b-d862-bca73c044a00"
      },
      "source": [
        "1+ np_a # บวก matrix ด้วย scalar  มีขนาด ไม่มีทิศทาง"
      ],
      "execution_count": 14,
      "outputs": [
        {
          "output_type": "execute_result",
          "data": {
            "text/plain": [
              "array([[2, 3, 4],\n",
              "       [5, 6, 7]])"
            ]
          },
          "metadata": {},
          "execution_count": 14
        }
      ]
    },
    {
      "cell_type": "code",
      "metadata": {
        "id": "Z639ByLzO28e",
        "colab": {
          "base_uri": "https://localhost:8080/"
        },
        "outputId": "0b54523e-8662-45a3-f4b3-c76e9819a50e"
      },
      "source": [
        "2*np_a #multipling scalar to matrix"
      ],
      "execution_count": 15,
      "outputs": [
        {
          "output_type": "execute_result",
          "data": {
            "text/plain": [
              "array([[ 2,  4,  6],\n",
              "       [ 8, 10, 12]])"
            ]
          },
          "metadata": {},
          "execution_count": 15
        }
      ]
    },
    {
      "cell_type": "code",
      "metadata": {
        "id": "JBqTwAVxPO9Q",
        "colab": {
          "base_uri": "https://localhost:8080/"
        },
        "outputId": "5ccc9aad-458b-47f3-fbde-9ffce39fc959"
      },
      "source": [
        "np_c = np.array([[6,5,4],[3,2,1]])\n",
        "np_c"
      ],
      "execution_count": 16,
      "outputs": [
        {
          "output_type": "execute_result",
          "data": {
            "text/plain": [
              "array([[6, 5, 4],\n",
              "       [3, 2, 1]])"
            ]
          },
          "metadata": {},
          "execution_count": 16
        }
      ]
    },
    {
      "cell_type": "code",
      "metadata": {
        "id": "0gLswIhbPE7c",
        "colab": {
          "base_uri": "https://localhost:8080/"
        },
        "outputId": "e0144420-260f-4c1f-be1e-847535002a43"
      },
      "source": [
        "np_a+np_c #adding matrix to matrix"
      ],
      "execution_count": 17,
      "outputs": [
        {
          "output_type": "execute_result",
          "data": {
            "text/plain": [
              "array([[7, 7, 7],\n",
              "       [7, 7, 7]])"
            ]
          },
          "metadata": {},
          "execution_count": 17
        }
      ]
    },
    {
      "cell_type": "code",
      "metadata": {
        "id": "xEB-zCmTPL4Y",
        "colab": {
          "base_uri": "https://localhost:8080/"
        },
        "outputId": "72d8c74a-7ff7-4385-d684-326e689ea967"
      },
      "source": [
        "np_a.shape"
      ],
      "execution_count": 18,
      "outputs": [
        {
          "output_type": "execute_result",
          "data": {
            "text/plain": [
              "(2, 3)"
            ]
          },
          "metadata": {},
          "execution_count": 18
        }
      ]
    },
    {
      "cell_type": "code",
      "metadata": {
        "id": "DRx1tRbBQE61",
        "colab": {
          "base_uri": "https://localhost:8080/"
        },
        "outputId": "56eacb33-ad12-464d-ef13-b7c6c0c5cbf2"
      },
      "source": [
        "np_c.shape"
      ],
      "execution_count": 19,
      "outputs": [
        {
          "output_type": "execute_result",
          "data": {
            "text/plain": [
              "(2, 3)"
            ]
          },
          "metadata": {},
          "execution_count": 19
        }
      ]
    },
    {
      "cell_type": "code",
      "metadata": {
        "id": "C6jBbF-dQnur",
        "colab": {
          "base_uri": "https://localhost:8080/"
        },
        "outputId": "2405f1e9-660a-4c72-91c9-ddd53fe49d2b"
      },
      "source": [
        "np_c.T.shape"
      ],
      "execution_count": 20,
      "outputs": [
        {
          "output_type": "execute_result",
          "data": {
            "text/plain": [
              "(3, 2)"
            ]
          },
          "metadata": {},
          "execution_count": 20
        }
      ]
    },
    {
      "cell_type": "code",
      "metadata": {
        "id": "XlSXf5KBQJYn",
        "colab": {
          "base_uri": "https://localhost:8080/"
        },
        "outputId": "782c3b89-2d70-4a27-e347-e378973fdf41"
      },
      "source": [
        "np.dot(np_a,np_c.T) #multipling matrix to matrix (a,b)*(b,c) = (a,c)"
      ],
      "execution_count": 21,
      "outputs": [
        {
          "output_type": "execute_result",
          "data": {
            "text/plain": [
              "array([[28, 10],\n",
              "       [73, 28]])"
            ]
          },
          "metadata": {},
          "execution_count": 21
        }
      ]
    },
    {
      "cell_type": "markdown",
      "metadata": {
        "id": "blORFclrRQJs"
      },
      "source": [
        "##Indexing &Silcing"
      ]
    },
    {
      "cell_type": "markdown",
      "metadata": {
        "id": "-TM6FnkTRaM3"
      },
      "source": [
        "ชี้ตัวที่เป็นค่าใน matrix อย่างไร"
      ]
    },
    {
      "cell_type": "code",
      "metadata": {
        "id": "YasGWEl5QOcB",
        "colab": {
          "base_uri": "https://localhost:8080/"
        },
        "outputId": "e06a411f-8275-441c-c8d8-48e392e96ec8"
      },
      "source": [
        "np_a"
      ],
      "execution_count": 22,
      "outputs": [
        {
          "output_type": "execute_result",
          "data": {
            "text/plain": [
              "array([[1, 2, 3],\n",
              "       [4, 5, 6]])"
            ]
          },
          "metadata": {},
          "execution_count": 22
        }
      ]
    },
    {
      "cell_type": "code",
      "metadata": {
        "id": "CIKXUAQcRi0V",
        "colab": {
          "base_uri": "https://localhost:8080/"
        },
        "outputId": "4b20fbc2-d52f-43da-d266-36f7a751cf78"
      },
      "source": [
        "np_a[1,1]"
      ],
      "execution_count": 23,
      "outputs": [
        {
          "output_type": "execute_result",
          "data": {
            "text/plain": [
              "5"
            ]
          },
          "metadata": {},
          "execution_count": 23
        }
      ]
    },
    {
      "cell_type": "code",
      "metadata": {
        "id": "gsRU9BR0Rt-L",
        "colab": {
          "base_uri": "https://localhost:8080/"
        },
        "outputId": "7643b2c4-02cd-4af6-a416-11ee0258e6fc"
      },
      "source": [
        "np_a[:2,:2]"
      ],
      "execution_count": 24,
      "outputs": [
        {
          "output_type": "execute_result",
          "data": {
            "text/plain": [
              "array([[1, 2],\n",
              "       [4, 5]])"
            ]
          },
          "metadata": {},
          "execution_count": 24
        }
      ]
    },
    {
      "cell_type": "code",
      "metadata": {
        "id": "DREY1BPtSWwu",
        "colab": {
          "base_uri": "https://localhost:8080/"
        },
        "outputId": "d61187cf-16aa-4323-ef5d-2b5c64c5dcb4"
      },
      "source": [
        "np_a[0,:]"
      ],
      "execution_count": 25,
      "outputs": [
        {
          "output_type": "execute_result",
          "data": {
            "text/plain": [
              "array([1, 2, 3])"
            ]
          },
          "metadata": {},
          "execution_count": 25
        }
      ]
    },
    {
      "cell_type": "markdown",
      "metadata": {
        "id": "_7y6OXMhSu-E"
      },
      "source": [
        "###Useful function\n"
      ]
    },
    {
      "cell_type": "code",
      "metadata": {
        "id": "3mB4Z4vQS5I9",
        "colab": {
          "base_uri": "https://localhost:8080/"
        },
        "outputId": "31f61273-b769-480b-cbb7-a4cf1ded6e8a"
      },
      "source": [
        "np_a"
      ],
      "execution_count": 26,
      "outputs": [
        {
          "output_type": "execute_result",
          "data": {
            "text/plain": [
              "array([[1, 2, 3],\n",
              "       [4, 5, 6]])"
            ]
          },
          "metadata": {},
          "execution_count": 26
        }
      ]
    },
    {
      "cell_type": "code",
      "metadata": {
        "id": "CDuTzhTJScKm",
        "colab": {
          "base_uri": "https://localhost:8080/"
        },
        "outputId": "0814aaa0-baa2-44d9-c2b7-da74dafd2cae"
      },
      "source": [
        "np.sum(np_a)"
      ],
      "execution_count": 27,
      "outputs": [
        {
          "output_type": "execute_result",
          "data": {
            "text/plain": [
              "21"
            ]
          },
          "metadata": {},
          "execution_count": 27
        }
      ]
    },
    {
      "cell_type": "code",
      "metadata": {
        "id": "Sp4cfnDYS39Q",
        "colab": {
          "base_uri": "https://localhost:8080/"
        },
        "outputId": "9e76ee0b-65af-4c31-eb15-3f5e71c24325"
      },
      "source": [
        "np.sum(np_a,axis=0) # เอาด้านแถวมารวมกัน"
      ],
      "execution_count": 28,
      "outputs": [
        {
          "output_type": "execute_result",
          "data": {
            "text/plain": [
              "array([5, 7, 9])"
            ]
          },
          "metadata": {},
          "execution_count": 28
        }
      ]
    },
    {
      "cell_type": "code",
      "metadata": {
        "id": "BwfqUOvgTKqS",
        "colab": {
          "base_uri": "https://localhost:8080/"
        },
        "outputId": "65013103-8977-4e91-d92c-98d5c5fe364c"
      },
      "source": [
        "np.sum(np_a,axis=1) # เอาด้านหลักมารวมกัน"
      ],
      "execution_count": 29,
      "outputs": [
        {
          "output_type": "execute_result",
          "data": {
            "text/plain": [
              "array([ 6, 15])"
            ]
          },
          "metadata": {},
          "execution_count": 29
        }
      ]
    },
    {
      "cell_type": "code",
      "metadata": {
        "id": "M-_j94I3TQyZ",
        "colab": {
          "base_uri": "https://localhost:8080/"
        },
        "outputId": "e77c0528-4c5c-47d3-cba4-72557279cfa6"
      },
      "source": [
        "np.mean(np_a)"
      ],
      "execution_count": 30,
      "outputs": [
        {
          "output_type": "execute_result",
          "data": {
            "text/plain": [
              "3.5"
            ]
          },
          "metadata": {},
          "execution_count": 30
        }
      ]
    },
    {
      "cell_type": "code",
      "metadata": {
        "id": "b7PjIaQyTdDd",
        "colab": {
          "base_uri": "https://localhost:8080/"
        },
        "outputId": "a3a30b24-f2d9-4f76-c9f3-2d22ca384133"
      },
      "source": [
        "np.mean(np_a,axis = 0 )  # หาค่า mean ของ column"
      ],
      "execution_count": 31,
      "outputs": [
        {
          "output_type": "execute_result",
          "data": {
            "text/plain": [
              "array([2.5, 3.5, 4.5])"
            ]
          },
          "metadata": {},
          "execution_count": 31
        }
      ]
    },
    {
      "cell_type": "markdown",
      "metadata": {
        "id": "AnSfXaPbUymG"
      },
      "source": [
        "### วนลูปเอง"
      ]
    },
    {
      "cell_type": "markdown",
      "metadata": {
        "id": "c8X1ZwaUVAAm"
      },
      "source": [
        "####summation"
      ]
    },
    {
      "cell_type": "markdown",
      "metadata": {
        "id": "7t-OAjBYW7RR"
      },
      "source": [
        "```np.sum(np_a)```"
      ]
    },
    {
      "cell_type": "code",
      "metadata": {
        "id": "6jEjxrNmUFtd",
        "colab": {
          "base_uri": "https://localhost:8080/"
        },
        "outputId": "3e99ed9d-00ca-4c93-91d0-5eb089b51981"
      },
      "source": [
        "sum_all = 0\n",
        "\n",
        "for row in range(np_a.shape[0]):\n",
        "    for col in range(np_a.shape[1]):\n",
        "        sum_all = sum_all + np_a [row,col]\n",
        "        print(f'we are at row = {row},col = {col} np_a[{row},{col}] = {np_a[row,col]} sum_all = {sum_all}')"
      ],
      "execution_count": 32,
      "outputs": [
        {
          "output_type": "stream",
          "name": "stdout",
          "text": [
            "we are at row = 0,col = 0 np_a[0,0] = 1 sum_all = 1\n",
            "we are at row = 0,col = 1 np_a[0,1] = 2 sum_all = 3\n",
            "we are at row = 0,col = 2 np_a[0,2] = 3 sum_all = 6\n",
            "we are at row = 1,col = 0 np_a[1,0] = 4 sum_all = 10\n",
            "we are at row = 1,col = 1 np_a[1,1] = 5 sum_all = 15\n",
            "we are at row = 1,col = 2 np_a[1,2] = 6 sum_all = 21\n"
          ]
        }
      ]
    },
    {
      "cell_type": "markdown",
      "metadata": {
        "id": "u2huL_ZUW_Nq"
      },
      "source": [
        "```np.sum(np_a,axis = 0)```"
      ]
    },
    {
      "cell_type": "code",
      "metadata": {
        "id": "WAsXwZv2WIyF",
        "colab": {
          "base_uri": "https://localhost:8080/"
        },
        "outputId": "9e808f10-c43a-47d2-a9a0-75017d0a9bce"
      },
      "source": [
        "sum_all = np.zeros(np_a.shape[1])\n",
        "\n",
        "for row in range(np_a.shape[0]):\n",
        "    for col in range(np_a.shape[1]):\n",
        "        sum_all[col] = sum_all[col] + np_a [row,col]\n",
        "print(sum_all)"
      ],
      "execution_count": 33,
      "outputs": [
        {
          "output_type": "stream",
          "name": "stdout",
          "text": [
            "[5. 7. 9.]\n"
          ]
        }
      ]
    },
    {
      "cell_type": "markdown",
      "metadata": {
        "id": "FSgtBiioYkPG"
      },
      "source": [
        "####Quiz กลุ่ม\n",
        "วนลูปหาค่า\n",
        "\n",
        "*```np.sum(np_a,axis=1)``` (1)\n",
        "\n",
        "*```np.mean(np_a)``` (2)\n",
        "\n",
        "*```np.mean(np_a,axis=0)``` (3)\n",
        "\n",
        "*```np.mean(np_a,axis=1)``` (4)\n",
        "\n",
        "*```np.max(np_a)``` (5)\n",
        "\n",
        "*```np.max(np_a,axis=0)``` (6)\n",
        "\n",
        "*```np.max(np_a,axis=1)``` (7)\n",
        "\n",
        "*```np.min(np_a)``` (8)\n",
        "\n",
        "*```np.min(np_a,axis=0)``` (9)\n",
        "\n",
        "*```np.min(np_a,axis=1)``` (10)"
      ]
    },
    {
      "cell_type": "code",
      "metadata": {
        "id": "WmKtc6qiZN73",
        "colab": {
          "base_uri": "https://localhost:8080/"
        },
        "outputId": "ab3fdc65-898a-4f64-97ed-cded54df9da3"
      },
      "source": [
        "#np.sum(np_a,axis=1) (1)\n",
        "sum_all = np.zeros(np_a.shape[0])\n",
        "\n",
        "for row in range(np_a.shape[0]):\n",
        "    for col in range(np_a.shape[1]):\n",
        "        sum_all[row] = sum_all[row]+ np_a [row,col]\n",
        "print(sum_all)"
      ],
      "execution_count": 34,
      "outputs": [
        {
          "output_type": "stream",
          "name": "stdout",
          "text": [
            "[ 6. 15.]\n"
          ]
        }
      ]
    },
    {
      "cell_type": "code",
      "metadata": {
        "id": "WjuWt6IlX9J2",
        "colab": {
          "base_uri": "https://localhost:8080/"
        },
        "outputId": "7233183e-5425-4a6d-cc51-7a32be1bb82d"
      },
      "source": [
        "#np.mean(np_a) (2)\n",
        "mean_all = 0\n",
        "for row in range(np_a.shape[0]):\n",
        "    for col in range(np_a.shape[1]):\n",
        "        mean_all = mean_all + np_a[row,col]\n",
        "mean_all = mean_all/(np_a.shape[0]*np_a.shape[1])\n",
        "print(mean_all)"
      ],
      "execution_count": 35,
      "outputs": [
        {
          "output_type": "stream",
          "name": "stdout",
          "text": [
            "3.5\n"
          ]
        }
      ]
    },
    {
      "cell_type": "code",
      "metadata": {
        "id": "UoHujdJpa9QX",
        "colab": {
          "base_uri": "https://localhost:8080/"
        },
        "outputId": "5adccac8-7a3a-4501-a842-1b6515c422ab"
      },
      "source": [
        "#np.mean(np_a,axis=0) (3)\n",
        "mean_all = np.zeros(np_a.shape[1])\n",
        "for row in range(np_a.shape[0]):\n",
        "     for col in range(np_a.shape[1]):\n",
        "          mean_all[col] = mean_all[col] + np_a[row,col]/np_a.shape[0]\n",
        "print(mean_all)"
      ],
      "execution_count": 36,
      "outputs": [
        {
          "output_type": "stream",
          "name": "stdout",
          "text": [
            "[2.5 3.5 4.5]\n"
          ]
        }
      ]
    },
    {
      "cell_type": "code",
      "metadata": {
        "id": "hyJbT7ZBXoyj",
        "colab": {
          "base_uri": "https://localhost:8080/"
        },
        "outputId": "2e2505c7-fe7f-40f9-8104-2c08d4052ab8"
      },
      "source": [
        "#np.mean(np_a,axis=1) (4)\n",
        "sum_all = np.zeros(np_a.shape[0])\n",
        "for row in range(np_a.shape[0]):\n",
        "    for col in range(np_a.shape[1]): \n",
        "        sum_all[row] = sum_all[row] + np_a[row,col]\n",
        "sum_all = sum_all/np_a.shape[1]\n",
        "print(sum_all)"
      ],
      "execution_count": 37,
      "outputs": [
        {
          "output_type": "stream",
          "name": "stdout",
          "text": [
            "[2. 5.]\n"
          ]
        }
      ]
    },
    {
      "cell_type": "code",
      "metadata": {
        "id": "pxvxzXIWXrI3",
        "colab": {
          "base_uri": "https://localhost:8080/"
        },
        "outputId": "2cbba50e-642c-4475-ef0f-b3c0552f3442"
      },
      "source": [
        "#np.max(np_a) (5)\n",
        "max_a = -100000000\n",
        "for row in range(np_a.shape[0]):\n",
        "    for col in range(np_a.shape[1]):\n",
        "        if np_a[row,col] > max_a :\n",
        "            max_a = np_a[row,col]\n",
        "print(max_a)"
      ],
      "execution_count": 38,
      "outputs": [
        {
          "output_type": "stream",
          "name": "stdout",
          "text": [
            "6\n"
          ]
        }
      ]
    },
    {
      "cell_type": "code",
      "metadata": {
        "id": "8LNwAhCZX3zy",
        "colab": {
          "base_uri": "https://localhost:8080/"
        },
        "outputId": "d1ca78ea-060f-4656-dd54-f530085a61ae"
      },
      "source": [
        "# np.max(np_a,axis=0) (6)\n",
        "max_all = -100000 * np.ones(np_a.shape[1])\n",
        "for col in range(np_a.shape[1]):\n",
        "    for row in range(np_a.shape[0]):\n",
        "        if np_a[row,col] > max_all[col]: \n",
        "            max_all[col] = np_a[row,col]\n",
        "print(max_all)"
      ],
      "execution_count": 39,
      "outputs": [
        {
          "output_type": "stream",
          "name": "stdout",
          "text": [
            "[4. 5. 6.]\n"
          ]
        }
      ]
    },
    {
      "cell_type": "code",
      "metadata": {
        "id": "-6f3RKx3Z13M",
        "colab": {
          "base_uri": "https://localhost:8080/"
        },
        "outputId": "b887ddc4-0eaa-4a14-96d5-d1c41db0c5b1"
      },
      "source": [
        "# np.max(np_a,axis=1) (ของนี่) (7)\n",
        "max_all = np.zeros(np_a.shape[0])\n",
        "\n",
        "for col in range(np_a.shape[1]):\n",
        "    for row in range(np_a.shape[0]):\n",
        "        max_all[row] = max(np_a[row])\n",
        "print(max_all)"
      ],
      "execution_count": 40,
      "outputs": [
        {
          "output_type": "stream",
          "name": "stdout",
          "text": [
            "[3. 6.]\n"
          ]
        }
      ]
    },
    {
      "cell_type": "code",
      "metadata": {
        "id": "kuSY6Oa6XlI8",
        "colab": {
          "base_uri": "https://localhost:8080/"
        },
        "outputId": "5513c4a4-7ecc-4086-fe61-da9d30f34512"
      },
      "source": [
        "# np.max(np_a,axis=1) (ของอาจารย์) (7)\n",
        "max_all = np.zeros(np_a.shape[0])\n",
        "for row in range(np_a.shape[0]):\n",
        "    max_all[row] = max(np_a[row,:])\n",
        "print(max_all)"
      ],
      "execution_count": 41,
      "outputs": [
        {
          "output_type": "stream",
          "name": "stdout",
          "text": [
            "[3. 6.]\n"
          ]
        }
      ]
    },
    {
      "cell_type": "code",
      "metadata": {
        "id": "n6fbrjXfX1a4",
        "colab": {
          "base_uri": "https://localhost:8080/"
        },
        "outputId": "6be3dcaf-b77b-4b1f-96a9-b526837bf6a3"
      },
      "source": [
        "# np.min(np_a) (8)\n",
        "minV = 100000\n",
        "for row in range(np_a.shape[0]):\n",
        "    for col in range(np_a.shape[1]):\n",
        "        if np_a[row,col] < minV:\n",
        "            minV = np_a[row,col]\n",
        "print(minV)"
      ],
      "execution_count": 42,
      "outputs": [
        {
          "output_type": "stream",
          "name": "stdout",
          "text": [
            "1\n"
          ]
        }
      ]
    },
    {
      "cell_type": "code",
      "metadata": {
        "id": "mc-Hyg_kXy-o",
        "colab": {
          "base_uri": "https://localhost:8080/"
        },
        "outputId": "423b50cc-b258-4b77-e59b-60c774c9d890"
      },
      "source": [
        "# np.min(np_a,axis=0) (9)\n",
        "min_all = np.zeros(np_a.shape[1])\n",
        "\n",
        "for col in range(np_a.shape[1]):\n",
        "    min_all[col] = min(np_a[:,col])\n",
        "print(min_all)"
      ],
      "execution_count": 43,
      "outputs": [
        {
          "output_type": "stream",
          "name": "stdout",
          "text": [
            "[1. 2. 3.]\n"
          ]
        }
      ]
    },
    {
      "cell_type": "code",
      "metadata": {
        "id": "PnoV-8hSXwSl",
        "colab": {
          "base_uri": "https://localhost:8080/"
        },
        "outputId": "2ed75a9d-f959-4aab-ac3c-73576a5f4d71"
      },
      "source": [
        "# np.min(np_a,axis=1) (10)\n",
        "min_row = np.zeros(np_a.shape[0])\n",
        "for row in range(np_a.shape[0]):\n",
        "   min_row[row] = min(np_a[row,:])\n",
        "print(min_row)"
      ],
      "execution_count": 44,
      "outputs": [
        {
          "output_type": "stream",
          "name": "stdout",
          "text": [
            "[1. 4.]\n"
          ]
        }
      ]
    },
    {
      "cell_type": "markdown",
      "metadata": {
        "id": "GoCVmSV1Xa_C"
      },
      "source": [
        "###Distance Matrix"
      ]
    },
    {
      "cell_type": "code",
      "metadata": {
        "id": "B7-X2hdQYgM2",
        "outputId": "a8107180-2808-4aa7-c71e-e865f5b27c85",
        "colab": {
          "base_uri": "https://localhost:8080/"
        }
      },
      "source": [
        "data1 = np.array([[1,2],[3,5],[2,0],[4,5]])\n",
        "data1               "
      ],
      "execution_count": 47,
      "outputs": [
        {
          "output_type": "execute_result",
          "data": {
            "text/plain": [
              "array([[1, 2],\n",
              "       [3, 5],\n",
              "       [2, 0],\n",
              "       [4, 5]])"
            ]
          },
          "metadata": {},
          "execution_count": 47
        }
      ]
    },
    {
      "cell_type": "code",
      "metadata": {
        "id": "wyBcUt8hZEZb",
        "outputId": "0f21f6c8-ad66-4334-f0e1-f6be3e88aa9b",
        "colab": {
          "base_uri": "https://localhost:8080/",
          "height": 283
        }
      },
      "source": [
        "from matplotlib import pyplot as plt\n",
        "plt.scatter(data1[:,0],data1[:,1])"
      ],
      "execution_count": 48,
      "outputs": [
        {
          "output_type": "execute_result",
          "data": {
            "text/plain": [
              "<matplotlib.collections.PathCollection at 0x7f6d98c8db90>"
            ]
          },
          "metadata": {},
          "execution_count": 48
        },
        {
          "output_type": "display_data",
          "data": {
            "image/png": "[encoded data removed]",
            "text/plain": [
              "<Figure size 432x288 with 1 Axes>"
            ]
          },
          "metadata": {
            "needs_background": "light"
          }
        }
      ]
    },
    {
      "cell_type": "markdown",
      "metadata": {
        "id": "K97_12FoaYNC"
      },
      "source": [
        "#### Euclidean Distance (L2-norm)  \n",
        "$\\sqrt{(x1-x2)^2+(y1-y2)^2}$\n",
        "\n",
        "$$ #laytext"
      ]
    },
    {
      "cell_type": "markdown",
      "metadata": {
        "id": "wYauuu1UeEWM"
      },
      "source": [
        "dist(P1,P2)"
      ]
    },
    {
      "cell_type": "code",
      "metadata": {
        "id": "Q-kQzWsSZ8IN",
        "outputId": "55517dab-310e-42d2-b7d1-8d489368dd7b",
        "colab": {
          "base_uri": "https://localhost:8080/"
        }
      },
      "source": [
        "dist_p1_p2 = np.sqrt(np.power(data1[0,0]-data1[1,0],2)+np.power(data1[0,1]-data1[1,1],2))\n",
        "dist_p1_p2"
      ],
      "execution_count": 55,
      "outputs": [
        {
          "output_type": "execute_result",
          "data": {
            "text/plain": [
              "3.605551275463989"
            ]
          },
          "metadata": {},
          "execution_count": 55
        }
      ]
    },
    {
      "cell_type": "markdown",
      "metadata": {
        "id": "KWIgrtGGeLea"
      },
      "source": [
        "dist(P2,P4)"
      ]
    },
    {
      "cell_type": "code",
      "metadata": {
        "id": "afAGxnySd3gQ",
        "outputId": "93081f73-4cee-4229-a414-5b7a263ab606",
        "colab": {
          "base_uri": "https://localhost:8080/"
        }
      },
      "source": [
        "dist_p2_p4 = np.sqrt(np.power(data1[1,0]-data1[3,0],2)+np.power(data1[1,1]-data1[3,1],2))\n",
        "dist_p2_p4"
      ],
      "execution_count": 57,
      "outputs": [
        {
          "output_type": "execute_result",
          "data": {
            "text/plain": [
              "1.0"
            ]
          },
          "metadata": {},
          "execution_count": 57
        }
      ]
    },
    {
      "cell_type": "markdown",
      "metadata": {
        "id": "1PGwx_AGf52w"
      },
      "source": [
        "###Distance function"
      ]
    },
    {
      "cell_type": "markdown",
      "metadata": {
        "id": "B7Y9-JpMh6CK"
      },
      "source": [
        "dim=2"
      ]
    },
    {
      "cell_type": "code",
      "metadata": {
        "id": "Eyz01wcde9_6"
      },
      "source": [
        "def dist_l2_2(p1,p2):\n",
        "    return np.sqrt(np.power(p1[0]-p2[0],2)+np.power(p1[1]-p2[1],2))"
      ],
      "execution_count": 66,
      "outputs": []
    },
    {
      "cell_type": "code",
      "metadata": {
        "id": "gZrfY5mUg5oH",
        "outputId": "16d6e3b3-6893-416b-f531-f0f733d135e6",
        "colab": {
          "base_uri": "https://localhost:8080/"
        }
      },
      "source": [
        "dist_l2_2(data1[0,:],data1[1,:]) #แถว0 ทุกๆหลัก"
      ],
      "execution_count": 67,
      "outputs": [
        {
          "output_type": "execute_result",
          "data": {
            "text/plain": [
              "3.605551275463989"
            ]
          },
          "metadata": {},
          "execution_count": 67
        }
      ]
    },
    {
      "cell_type": "code",
      "metadata": {
        "id": "vfdRNzsNhGt1",
        "outputId": "b2609b31-cae6-4b68-cbee-2af1743cd3f4",
        "colab": {
          "base_uri": "https://localhost:8080/"
        }
      },
      "source": [
        "dist_l2_2(data1[1,:],data1[3,:]) "
      ],
      "execution_count": 68,
      "outputs": [
        {
          "output_type": "execute_result",
          "data": {
            "text/plain": [
              "1.0"
            ]
          },
          "metadata": {},
          "execution_count": 68
        }
      ]
    },
    {
      "cell_type": "markdown",
      "metadata": {
        "id": "chPxDmPbh_QH"
      },
      "source": [
        "dim = n"
      ]
    },
    {
      "cell_type": "code",
      "metadata": {
        "id": "Kkf5pReFhNvt"
      },
      "source": [
        "def dist_l2_n(p1,p2):\n",
        "    sum = 0\n",
        "    for i in range(len(p1)):\n",
        "        sum = sum+np.power(p1[i]-p2[i],2)\n",
        "    return np.sqrt(sum)"
      ],
      "execution_count": 69,
      "outputs": []
    },
    {
      "cell_type": "code",
      "metadata": {
        "id": "fLBBoM7uiZk7",
        "outputId": "961d2258-c456-424a-b7a1-d894d4903e63",
        "colab": {
          "base_uri": "https://localhost:8080/"
        }
      },
      "source": [
        "dist_l2_2(data1[0,:],data1[1,:])"
      ],
      "execution_count": 70,
      "outputs": [
        {
          "output_type": "execute_result",
          "data": {
            "text/plain": [
              "3.605551275463989"
            ]
          },
          "metadata": {},
          "execution_count": 70
        }
      ]
    },
    {
      "cell_type": "markdown",
      "metadata": {
        "id": "ewMY7pzUkIEE"
      },
      "source": [
        "#### Manhattan Distance (L1-norm)  \n",
        "$|x1-x2)|+|y1-y2|$"
      ]
    },
    {
      "cell_type": "markdown",
      "metadata": {
        "id": "4FM91qGmkpcy"
      },
      "source": [
        "Quiz6 เขียน Function คำนวณ manhattan ของ ข้อมูล 2 dim"
      ]
    },
    {
      "cell_type": "markdown",
      "metadata": {
        "id": "Ja9UEhrakasB"
      },
      "source": [
        "dist(P1,P2)"
      ]
    },
    {
      "cell_type": "code",
      "metadata": {
        "id": "FgA9GK2akE79"
      },
      "source": [
        "def dist_l1_2(p1,p2):\n",
        "    return (np.abs(p1[0]-p2[0])+np.abs(p1[1]-p2[1]))"
      ],
      "execution_count": 83,
      "outputs": []
    },
    {
      "cell_type": "code",
      "metadata": {
        "id": "xoPy5FLJk_gt",
        "outputId": "57eca3c5-fba1-48c3-86ee-07c88f1806ea",
        "colab": {
          "base_uri": "https://localhost:8080/"
        }
      },
      "source": [
        "dist_l1_2(data1[0,:],data1[1,:])"
      ],
      "execution_count": 84,
      "outputs": [
        {
          "output_type": "execute_result",
          "data": {
            "text/plain": [
              "5"
            ]
          },
          "metadata": {},
          "execution_count": 84
        }
      ]
    },
    {
      "cell_type": "markdown",
      "metadata": {
        "id": "mnlCLFRyn5-w"
      },
      "source": [
        "HW11 \n",
        "\n",
        "1. Function คำนวณ manhattan ของ ข้อมูล n dim\n",
        "2. Function คำนวณ L-$\\infty$ ของ ข้อมูล n dim\n",
        "3. Function คำนวณ Distance Matrix ด้วย Euclidean"
      ]
    },
    {
      "cell_type": "code",
      "metadata": {
        "id": "ryKS5olYonRw"
      },
      "source": [
        ""
      ],
      "execution_count": null,
      "outputs": []
    }
  ]
}