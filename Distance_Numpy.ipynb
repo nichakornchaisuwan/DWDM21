{
  "nbformat": 4,
  "nbformat_minor": 0,
  "metadata": {
    "colab": {
      "name": "Distance Numpy.ipynb",
      "provenance": [],
      "authorship_tag": "ABX9TyM0R4HCiYMYIBSdwbx1RIXj",
      "include_colab_link": true
    },
    "kernelspec": {
      "name": "python3",
      "display_name": "Python 3"
    },
    "language_info": {
      "name": "python"
    }
  },
  "cells": [
    {
      "cell_type": "markdown",
      "metadata": {
        "id": "view-in-github",
        "colab_type": "text"
      },
      "source": [
        "<a href=\"https://colab.research.google.com/github/nichakornchaisuwan/DWDM21/blob/main/Distance_Numpy.ipynb\" target=\"_parent\"><img src=\"https://colab.research.google.com/assets/colab-badge.svg\" alt=\"Open In Colab\"/></a>"
      ]
    },
    {
      "cell_type": "code",
      "metadata": {
        "id": "iS5aFiKsc3gQ"
      },
      "source": [
        "import numpy as np #package สำหรับทำงานกับ ข้อมูลที่เป็นตัวเลข (อยู่ในรูปแบบ Matrix)"
      ],
      "execution_count": 1,
      "outputs": []
    },
    {
      "cell_type": "markdown",
      "metadata": {
        "id": "4ugQIo0Vdfjm"
      },
      "source": [
        "##Nimpy Array (matrix) จาก list"
      ]
    },
    {
      "cell_type": "markdown",
      "metadata": {
        "id": "CbdJUaImdk8u"
      },
      "source": [
        "สร้าง numpy array"
      ]
    },
    {
      "cell_type": "code",
      "metadata": {
        "id": "k5EiTJN9dRKj"
      },
      "source": [
        "np_a = np.array([[1,2,3],[4,5,6]]) # สร้าง numpy array ที่มี 2 แถว 3 หลัก"
      ],
      "execution_count": 2,
      "outputs": []
    },
    {
      "cell_type": "code",
      "metadata": {
        "colab": {
          "base_uri": "https://localhost:8080/"
        },
        "id": "gZCB1baTeBdj",
        "outputId": "140512a4-a998-40ae-f93f-273095a8d949"
      },
      "source": [
        "np_a"
      ],
      "execution_count": 3,
      "outputs": [
        {
          "output_type": "execute_result",
          "data": {
            "text/plain": [
              "array([[1, 2, 3],\n",
              "       [4, 5, 6]])"
            ]
          },
          "metadata": {},
          "execution_count": 3
        }
      ]
    },
    {
      "cell_type": "code",
      "metadata": {
        "colab": {
          "base_uri": "https://localhost:8080/"
        },
        "id": "MkIN8PQWeEJy",
        "outputId": "54a64439-7c12-47c1-a032-3734e34d0a2c"
      },
      "source": [
        "np_a.shape"
      ],
      "execution_count": 4,
      "outputs": [
        {
          "output_type": "execute_result",
          "data": {
            "text/plain": [
              "(2, 3)"
            ]
          },
          "metadata": {},
          "execution_count": 4
        }
      ]
    },
    {
      "cell_type": "code",
      "metadata": {
        "colab": {
          "base_uri": "https://localhost:8080/"
        },
        "id": "hxjRLTPfeH-x",
        "outputId": "f2b40de6-f281-4302-ca59-1df59e7727b8"
      },
      "source": [
        "np_b = np.array([[1,4],[2,5],[3,6]])\n",
        "np_b"
      ],
      "execution_count": 5,
      "outputs": [
        {
          "output_type": "execute_result",
          "data": {
            "text/plain": [
              "array([[1, 4],\n",
              "       [2, 5],\n",
              "       [3, 6]])"
            ]
          },
          "metadata": {},
          "execution_count": 5
        }
      ]
    },
    {
      "cell_type": "markdown",
      "metadata": {
        "id": "-I9cT0_Be8Kt"
      },
      "source": [
        "##สร้าง matrix เริ่มต้น (zeros,ones)"
      ]
    },
    {
      "cell_type": "code",
      "metadata": {
        "colab": {
          "base_uri": "https://localhost:8080/"
        },
        "id": "Rgd5Bxmyet8v",
        "outputId": "e7422ba2-5dc2-46cc-a297-80763e245a2d"
      },
      "source": [
        "np_z = np.zeros((4,5)) # identity การบวก\n",
        "np_z"
      ],
      "execution_count": 7,
      "outputs": [
        {
          "output_type": "execute_result",
          "data": {
            "text/plain": [
              "array([[0., 0., 0., 0., 0.],\n",
              "       [0., 0., 0., 0., 0.],\n",
              "       [0., 0., 0., 0., 0.],\n",
              "       [0., 0., 0., 0., 0.]])"
            ]
          },
          "metadata": {},
          "execution_count": 7
        }
      ]
    },
    {
      "cell_type": "code",
      "metadata": {
        "colab": {
          "base_uri": "https://localhost:8080/"
        },
        "id": "-oDk_3QZfft0",
        "outputId": "07ff9cb1-3a9b-4274-bca7-1cd00181b5ca"
      },
      "source": [
        "np_o = np.ones((5,6)) #identity การคูณ\n",
        "np_o"
      ],
      "execution_count": 8,
      "outputs": [
        {
          "output_type": "execute_result",
          "data": {
            "text/plain": [
              "array([[1., 1., 1., 1., 1., 1.],\n",
              "       [1., 1., 1., 1., 1., 1.],\n",
              "       [1., 1., 1., 1., 1., 1.],\n",
              "       [1., 1., 1., 1., 1., 1.],\n",
              "       [1., 1., 1., 1., 1., 1.]])"
            ]
          },
          "metadata": {},
          "execution_count": 8
        }
      ]
    },
    {
      "cell_type": "code",
      "metadata": {
        "colab": {
          "base_uri": "https://localhost:8080/"
        },
        "id": "47vj7GYofqKM",
        "outputId": "af0f48a6-05b2-4e81-b74c-75cc36fa9e0a"
      },
      "source": [
        "np_200 = 200*np.ones((4,7))\n",
        "np_200"
      ],
      "execution_count": 9,
      "outputs": [
        {
          "output_type": "execute_result",
          "data": {
            "text/plain": [
              "array([[200., 200., 200., 200., 200., 200., 200.],\n",
              "       [200., 200., 200., 200., 200., 200., 200.],\n",
              "       [200., 200., 200., 200., 200., 200., 200.],\n",
              "       [200., 200., 200., 200., 200., 200., 200.]])"
            ]
          },
          "metadata": {},
          "execution_count": 9
        }
      ]
    },
    {
      "cell_type": "markdown",
      "metadata": {
        "id": "CSLD10oRgeRU"
      },
      "source": [
        "##สร้าง matrix random"
      ]
    },
    {
      "cell_type": "code",
      "metadata": {
        "colab": {
          "base_uri": "https://localhost:8080/"
        },
        "id": "fNomDWBKgNyl",
        "outputId": "5000f7be-4122-4fe0-fe52-4343bfea5a30"
      },
      "source": [
        "np.random.randn(5,5) #random เลขมาจาก normal distribution ที่มี mu=0 std = 1"
      ],
      "execution_count": 10,
      "outputs": [
        {
          "output_type": "execute_result",
          "data": {
            "text/plain": [
              "array([[-1.53279837,  0.32785805,  0.69933844,  0.09665862, -0.62090145],\n",
              "       [ 0.54916013,  1.4318746 , -0.17599415, -0.02047154,  0.19240708],\n",
              "       [-0.60952557, -1.76367566, -0.87799748,  0.2029416 , -0.24643667],\n",
              "       [-1.45702569, -0.14843087,  0.1639914 ,  1.02436626,  1.05965205],\n",
              "       [-0.44783584, -0.02829319,  0.96410088,  0.02105018, -0.49564219]])"
            ]
          },
          "metadata": {},
          "execution_count": 10
        }
      ]
    },
    {
      "cell_type": "code",
      "metadata": {
        "colab": {
          "base_uri": "https://localhost:8080/"
        },
        "id": "LCRhYBedgvW0",
        "outputId": "40154fa4-738f-4f63-df11-5f9dbdd21452"
      },
      "source": [
        "2+(5*np.random.randn(3,3)) #random เลขมาจาก normal distribution ที่มี mu=2 std = 5"
      ],
      "execution_count": 11,
      "outputs": [
        {
          "output_type": "execute_result",
          "data": {
            "text/plain": [
              "array([[ 1.09512071, -3.08038834,  6.24645248],\n",
              "       [-0.55887805, -1.19371178,  4.43680509],\n",
              "       [ 6.5488218 ,  2.15540256,  4.92547715]])"
            ]
          },
          "metadata": {},
          "execution_count": 11
        }
      ]
    },
    {
      "cell_type": "code",
      "metadata": {
        "colab": {
          "base_uri": "https://localhost:8080/"
        },
        "id": "FKNoeI8ohPXt",
        "outputId": "3a7a4b6d-02f4-4a0f-9e2a-b83af74e45d2"
      },
      "source": [
        "np.random.randint(5,11,(4,5))   #เลขจำนวนเต็ม ระหว่าง 5-10 จึงต้องใช้ 5,11 ขนาด 4*5"
      ],
      "execution_count": 12,
      "outputs": [
        {
          "output_type": "execute_result",
          "data": {
            "text/plain": [
              "array([[ 8,  9,  7,  8, 10],\n",
              "       [ 7,  5,  5,  7,  7],\n",
              "       [10,  9,  7,  6,  7],\n",
              "       [10,  7,  5,  7,  5]])"
            ]
          },
          "metadata": {},
          "execution_count": 12
        }
      ]
    },
    {
      "cell_type": "code",
      "metadata": {
        "id": "kba0QZuYhj1N"
      },
      "source": [
        ""
      ],
      "execution_count": 12,
      "outputs": []
    },
    {
      "cell_type": "markdown",
      "metadata": {
        "id": "mfKyzP57enb4"
      },
      "source": [
        "matrix transpose"
      ]
    },
    {
      "cell_type": "code",
      "metadata": {
        "id": "41dGniDDOkJJ",
        "outputId": "6d116d52-f612-491a-d895-bfcb3cc62f8c",
        "colab": {
          "base_uri": "https://localhost:8080/"
        }
      },
      "source": [
        "np_a"
      ],
      "execution_count": 13,
      "outputs": [
        {
          "output_type": "execute_result",
          "data": {
            "text/plain": [
              "array([[1, 2, 3],\n",
              "       [4, 5, 6]])"
            ]
          },
          "metadata": {},
          "execution_count": 13
        }
      ]
    },
    {
      "cell_type": "code",
      "metadata": {
        "colab": {
          "base_uri": "https://localhost:8080/"
        },
        "id": "ja-nzbWreaXW",
        "outputId": "c64342f0-e0b8-4255-d64e-3693eaaf3c56"
      },
      "source": [
        "np_a.T #transpose"
      ],
      "execution_count": 6,
      "outputs": [
        {
          "output_type": "execute_result",
          "data": {
            "text/plain": [
              "array([[1, 4],\n",
              "       [2, 5],\n",
              "       [3, 6]])"
            ]
          },
          "metadata": {},
          "execution_count": 6
        }
      ]
    },
    {
      "cell_type": "code",
      "metadata": {
        "id": "mQFUWWATOss9",
        "outputId": "d9f20f55-4511-469b-bfc0-3b7ec74ae28e",
        "colab": {
          "base_uri": "https://localhost:8080/"
        }
      },
      "source": [
        "1+ np_a # บวก matrix ด้วย scalar  มีขนาด ไม่มีทิศทาง"
      ],
      "execution_count": 14,
      "outputs": [
        {
          "output_type": "execute_result",
          "data": {
            "text/plain": [
              "array([[2, 3, 4],\n",
              "       [5, 6, 7]])"
            ]
          },
          "metadata": {},
          "execution_count": 14
        }
      ]
    },
    {
      "cell_type": "code",
      "metadata": {
        "id": "Z639ByLzO28e",
        "outputId": "906cb18c-933d-4792-cf29-01a933013c2d",
        "colab": {
          "base_uri": "https://localhost:8080/"
        }
      },
      "source": [
        "2*np_a #multipling scalar to matrix"
      ],
      "execution_count": 15,
      "outputs": [
        {
          "output_type": "execute_result",
          "data": {
            "text/plain": [
              "array([[ 2,  4,  6],\n",
              "       [ 8, 10, 12]])"
            ]
          },
          "metadata": {},
          "execution_count": 15
        }
      ]
    },
    {
      "cell_type": "code",
      "metadata": {
        "id": "JBqTwAVxPO9Q",
        "outputId": "6c34c701-9f0b-46e9-bb29-9b2e098c4557",
        "colab": {
          "base_uri": "https://localhost:8080/"
        }
      },
      "source": [
        "np_c = np.array([[6,5,4],[3,2,1]])\n",
        "np_c"
      ],
      "execution_count": 17,
      "outputs": [
        {
          "output_type": "execute_result",
          "data": {
            "text/plain": [
              "array([[6, 5, 4],\n",
              "       [3, 2, 1]])"
            ]
          },
          "metadata": {},
          "execution_count": 17
        }
      ]
    },
    {
      "cell_type": "code",
      "metadata": {
        "id": "0gLswIhbPE7c",
        "outputId": "1d501051-8b39-4423-e1b3-c07eeff538e3",
        "colab": {
          "base_uri": "https://localhost:8080/"
        }
      },
      "source": [
        "np_a+np_c #adding matrix to matrix"
      ],
      "execution_count": 18,
      "outputs": [
        {
          "output_type": "execute_result",
          "data": {
            "text/plain": [
              "array([[7, 7, 7],\n",
              "       [7, 7, 7]])"
            ]
          },
          "metadata": {},
          "execution_count": 18
        }
      ]
    },
    {
      "cell_type": "code",
      "metadata": {
        "id": "xEB-zCmTPL4Y",
        "outputId": "06489f32-bb65-4443-d67c-338de5343924",
        "colab": {
          "base_uri": "https://localhost:8080/"
        }
      },
      "source": [
        "np_a.shape"
      ],
      "execution_count": 20,
      "outputs": [
        {
          "output_type": "execute_result",
          "data": {
            "text/plain": [
              "(2, 3)"
            ]
          },
          "metadata": {},
          "execution_count": 20
        }
      ]
    },
    {
      "cell_type": "code",
      "metadata": {
        "id": "DRx1tRbBQE61",
        "outputId": "00e8c4b6-9f5e-4013-df4a-03c14986c1dd",
        "colab": {
          "base_uri": "https://localhost:8080/"
        }
      },
      "source": [
        "np_c.shape"
      ],
      "execution_count": 25,
      "outputs": [
        {
          "output_type": "execute_result",
          "data": {
            "text/plain": [
              "(2, 3)"
            ]
          },
          "metadata": {},
          "execution_count": 25
        }
      ]
    },
    {
      "cell_type": "code",
      "metadata": {
        "id": "C6jBbF-dQnur",
        "outputId": "a6e2e07d-dc04-4f80-821c-804d38735761",
        "colab": {
          "base_uri": "https://localhost:8080/"
        }
      },
      "source": [
        "np_c.T.shape"
      ],
      "execution_count": 27,
      "outputs": [
        {
          "output_type": "execute_result",
          "data": {
            "text/plain": [
              "(3, 2)"
            ]
          },
          "metadata": {},
          "execution_count": 27
        }
      ]
    },
    {
      "cell_type": "code",
      "metadata": {
        "id": "XlSXf5KBQJYn",
        "outputId": "d287fb66-7bb6-49d5-d2b2-e1d37e4940af",
        "colab": {
          "base_uri": "https://localhost:8080/"
        }
      },
      "source": [
        "np.dot(np_a,np_c.T) #multipling matrix to matrix (a,b)*(b,c) = (a,c)"
      ],
      "execution_count": 24,
      "outputs": [
        {
          "output_type": "execute_result",
          "data": {
            "text/plain": [
              "array([[28, 10],\n",
              "       [73, 28]])"
            ]
          },
          "metadata": {},
          "execution_count": 24
        }
      ]
    },
    {
      "cell_type": "markdown",
      "metadata": {
        "id": "blORFclrRQJs"
      },
      "source": [
        "##Indexing &Silcing"
      ]
    },
    {
      "cell_type": "markdown",
      "metadata": {
        "id": "-TM6FnkTRaM3"
      },
      "source": [
        "ชี้ตัวที่เป็นค่าใน matrix อย่างไร"
      ]
    },
    {
      "cell_type": "code",
      "metadata": {
        "id": "YasGWEl5QOcB",
        "outputId": "366bc41e-4522-4cd4-bbbe-9b2dbd9cdea0",
        "colab": {
          "base_uri": "https://localhost:8080/"
        }
      },
      "source": [
        "np_a"
      ],
      "execution_count": 28,
      "outputs": [
        {
          "output_type": "execute_result",
          "data": {
            "text/plain": [
              "array([[1, 2, 3],\n",
              "       [4, 5, 6]])"
            ]
          },
          "metadata": {},
          "execution_count": 28
        }
      ]
    },
    {
      "cell_type": "code",
      "metadata": {
        "id": "CIKXUAQcRi0V",
        "outputId": "d19d6821-ef37-46c8-8b28-3f59b89efb92",
        "colab": {
          "base_uri": "https://localhost:8080/"
        }
      },
      "source": [
        "np_a[1,1]"
      ],
      "execution_count": 29,
      "outputs": [
        {
          "output_type": "execute_result",
          "data": {
            "text/plain": [
              "5"
            ]
          },
          "metadata": {},
          "execution_count": 29
        }
      ]
    },
    {
      "cell_type": "code",
      "metadata": {
        "id": "gsRU9BR0Rt-L",
        "outputId": "8f387894-4ed6-474c-e7a8-300da1946b38",
        "colab": {
          "base_uri": "https://localhost:8080/"
        }
      },
      "source": [
        "np_a[:2,:2]"
      ],
      "execution_count": 30,
      "outputs": [
        {
          "output_type": "execute_result",
          "data": {
            "text/plain": [
              "array([[1, 2],\n",
              "       [4, 5]])"
            ]
          },
          "metadata": {},
          "execution_count": 30
        }
      ]
    },
    {
      "cell_type": "code",
      "metadata": {
        "id": "DREY1BPtSWwu",
        "outputId": "cbc8a314-300a-43d7-88f9-3dd873afec29",
        "colab": {
          "base_uri": "https://localhost:8080/"
        }
      },
      "source": [
        "np_a[0,:]"
      ],
      "execution_count": 31,
      "outputs": [
        {
          "output_type": "execute_result",
          "data": {
            "text/plain": [
              "array([1, 2, 3])"
            ]
          },
          "metadata": {},
          "execution_count": 31
        }
      ]
    },
    {
      "cell_type": "markdown",
      "metadata": {
        "id": "_7y6OXMhSu-E"
      },
      "source": [
        "###Useful function\n"
      ]
    },
    {
      "cell_type": "code",
      "metadata": {
        "id": "3mB4Z4vQS5I9",
        "outputId": "e2e2e7c5-6846-4650-808a-e3e78df8e88a",
        "colab": {
          "base_uri": "https://localhost:8080/"
        }
      },
      "source": [
        "np_a"
      ],
      "execution_count": 33,
      "outputs": [
        {
          "output_type": "execute_result",
          "data": {
            "text/plain": [
              "array([[1, 2, 3],\n",
              "       [4, 5, 6]])"
            ]
          },
          "metadata": {},
          "execution_count": 33
        }
      ]
    },
    {
      "cell_type": "code",
      "metadata": {
        "id": "CDuTzhTJScKm",
        "outputId": "33d81cad-17eb-4b9d-8743-57a4f1062a56",
        "colab": {
          "base_uri": "https://localhost:8080/"
        }
      },
      "source": [
        "np.sum(np_a)"
      ],
      "execution_count": 32,
      "outputs": [
        {
          "output_type": "execute_result",
          "data": {
            "text/plain": [
              "21"
            ]
          },
          "metadata": {},
          "execution_count": 32
        }
      ]
    },
    {
      "cell_type": "code",
      "metadata": {
        "id": "Sp4cfnDYS39Q",
        "outputId": "eb75efd8-841c-4744-cae7-d0c2d4d64c20",
        "colab": {
          "base_uri": "https://localhost:8080/"
        }
      },
      "source": [
        "np.sum(np_a,axis=0) # เอาด้านแถวมารวมกัน"
      ],
      "execution_count": 34,
      "outputs": [
        {
          "output_type": "execute_result",
          "data": {
            "text/plain": [
              "array([5, 7, 9])"
            ]
          },
          "metadata": {},
          "execution_count": 34
        }
      ]
    },
    {
      "cell_type": "code",
      "metadata": {
        "id": "BwfqUOvgTKqS",
        "outputId": "0938f1f6-f193-402b-e9cc-c75b3af80d42",
        "colab": {
          "base_uri": "https://localhost:8080/"
        }
      },
      "source": [
        "np.sum(np_a,axis=1) # เอาด้านหลักมารวมกัน"
      ],
      "execution_count": 35,
      "outputs": [
        {
          "output_type": "execute_result",
          "data": {
            "text/plain": [
              "array([ 6, 15])"
            ]
          },
          "metadata": {},
          "execution_count": 35
        }
      ]
    },
    {
      "cell_type": "code",
      "metadata": {
        "id": "M-_j94I3TQyZ",
        "outputId": "181eb6dd-f664-4e97-b767-abb87523df87",
        "colab": {
          "base_uri": "https://localhost:8080/"
        }
      },
      "source": [
        "np.mean(np_a)"
      ],
      "execution_count": 36,
      "outputs": [
        {
          "output_type": "execute_result",
          "data": {
            "text/plain": [
              "3.5"
            ]
          },
          "metadata": {},
          "execution_count": 36
        }
      ]
    },
    {
      "cell_type": "code",
      "metadata": {
        "id": "b7PjIaQyTdDd",
        "outputId": "ed026ea0-4ab7-4dc3-d4d5-0e9043c5134f",
        "colab": {
          "base_uri": "https://localhost:8080/"
        }
      },
      "source": [
        "np.mean(np_a,axis = 0 )  # หาค่า mean ของ column"
      ],
      "execution_count": 37,
      "outputs": [
        {
          "output_type": "execute_result",
          "data": {
            "text/plain": [
              "array([2.5, 3.5, 4.5])"
            ]
          },
          "metadata": {},
          "execution_count": 37
        }
      ]
    },
    {
      "cell_type": "markdown",
      "metadata": {
        "id": "AnSfXaPbUymG"
      },
      "source": [
        "### วนลูปเอง"
      ]
    },
    {
      "cell_type": "markdown",
      "metadata": {
        "id": "c8X1ZwaUVAAm"
      },
      "source": [
        "####summation"
      ]
    },
    {
      "cell_type": "markdown",
      "metadata": {
        "id": "7t-OAjBYW7RR"
      },
      "source": [
        "```np.sum(np_a)```"
      ]
    },
    {
      "cell_type": "code",
      "metadata": {
        "id": "6jEjxrNmUFtd",
        "outputId": "f722713f-a771-4fac-8365-efff57dca81a",
        "colab": {
          "base_uri": "https://localhost:8080/"
        }
      },
      "source": [
        "sum_all = 0\n",
        "\n",
        "for row in range(np_a.shape[0]):\n",
        "    for col in range(np_a.shape[1]):\n",
        "        sum_all = sum_all + np_a [row,col]\n",
        "        print(f'we are at row = {row},col = {col} np_a[{row},{col}] = {np_a[row,col]} sum_all = {sum_all}')"
      ],
      "execution_count": 38,
      "outputs": [
        {
          "output_type": "stream",
          "text": [
            "we are at row = 0,col = 0 np_a[0,0] = 1 sum_all = 1\n",
            "we are at row = 0,col = 1 np_a[0,1] = 2 sum_all = 3\n",
            "we are at row = 0,col = 2 np_a[0,2] = 3 sum_all = 6\n",
            "we are at row = 1,col = 0 np_a[1,0] = 4 sum_all = 10\n",
            "we are at row = 1,col = 1 np_a[1,1] = 5 sum_all = 15\n",
            "we are at row = 1,col = 2 np_a[1,2] = 6 sum_all = 21\n"
          ],
          "name": "stdout"
        }
      ]
    },
    {
      "cell_type": "markdown",
      "metadata": {
        "id": "u2huL_ZUW_Nq"
      },
      "source": [
        "```np.sum(np_a,axis = 0)```"
      ]
    },
    {
      "cell_type": "code",
      "metadata": {
        "id": "WAsXwZv2WIyF",
        "outputId": "88c8854a-2265-4adf-fc8b-71db0a86f876",
        "colab": {
          "base_uri": "https://localhost:8080/"
        }
      },
      "source": [
        "sum_all = np.zeros(np_a.shape[1])\n",
        "\n",
        "for row in range(np_a.shape[0]):\n",
        "    for col in range(np_a.shape[1]):\n",
        "        sum_all[col] = sum_all[col] + np_a [row,col]\n",
        "print(sum_all)"
      ],
      "execution_count": 42,
      "outputs": [
        {
          "output_type": "stream",
          "text": [
            "[5. 7. 9.]\n"
          ],
          "name": "stdout"
        }
      ]
    },
    {
      "cell_type": "markdown",
      "metadata": {
        "id": "FSgtBiioYkPG"
      },
      "source": [
        "####Quiz กลุ่ม\n",
        "วนลูปหาค่า\n",
        "* ```np.sum(np_a,axis = 1```\n",
        "* ```np.mean(np_a)```\n",
        "* ```np.mean(np_a,axis = 0```\n",
        "* ```np.mean(np_a,axis = 1```"
      ]
    },
    {
      "cell_type": "code",
      "metadata": {
        "id": "-6f3RKx3Z13M",
        "outputId": "7f5f5c59-fe0b-469b-fce6-e026a8bf45e1",
        "colab": {
          "base_uri": "https://localhost:8080/"
        }
      },
      "source": [
        "# np.max(np_a,axis=1)\n",
        "max_all = np.zeros(np_a.shape[0])\n",
        "\n",
        "for col in range(np_a.shape[1]):\n",
        "    for row in range(np_a.shape[0]):\n",
        "        max_all[row] = max(np_a[row])\n",
        "print(max_all)"
      ],
      "execution_count": 51,
      "outputs": [
        {
          "output_type": "stream",
          "text": [
            "[3. 6.]\n"
          ],
          "name": "stdout"
        }
      ]
    },
    {
      "cell_type": "code",
      "metadata": {
        "id": "UoHujdJpa9QX"
      },
      "source": [
        ""
      ],
      "execution_count": null,
      "outputs": []
    }
  ]
}