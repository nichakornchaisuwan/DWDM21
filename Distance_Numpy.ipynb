{
  "nbformat": 4,
  "nbformat_minor": 0,
  "metadata": {
    "colab": {
      "name": "Distance Numpy.ipynb",
      "provenance": [],
      "authorship_tag": "ABX9TyOr5F4jhXfHG+RJWJyTfiiG",
      "include_colab_link": true
    },
    "kernelspec": {
      "name": "python3",
      "display_name": "Python 3"
    },
    "language_info": {
      "name": "python"
    }
  },
  "cells": [
    {
      "cell_type": "markdown",
      "metadata": {
        "id": "view-in-github",
        "colab_type": "text"
      },
      "source": [
        "<a href=\"https://colab.research.google.com/github/nichakornchaisuwan/DWDM21/blob/main/Distance_Numpy.ipynb\" target=\"_parent\"><img src=\"https://colab.research.google.com/assets/colab-badge.svg\" alt=\"Open In Colab\"/></a>"
      ]
    },
    {
      "cell_type": "code",
      "metadata": {
        "id": "iS5aFiKsc3gQ"
      },
      "source": [
        "import numpy as np #package สำหรับทำงานกับ ข้อมูลที่เป็นตัวเลข (อยู่ในรูปแบบ Matrix)"
      ],
      "execution_count": 2,
      "outputs": []
    },
    {
      "cell_type": "markdown",
      "metadata": {
        "id": "4ugQIo0Vdfjm"
      },
      "source": [
        "##Nimpy Array (matrix) จาก list"
      ]
    },
    {
      "cell_type": "markdown",
      "metadata": {
        "id": "CbdJUaImdk8u"
      },
      "source": [
        "สร้าง numpy array"
      ]
    },
    {
      "cell_type": "code",
      "metadata": {
        "id": "k5EiTJN9dRKj"
      },
      "source": [
        "np_a = np.array([[1,2,3],[4,5,6]]) # สร้าง numpy array ที่มี 2 แถว 3 หลัก"
      ],
      "execution_count": 3,
      "outputs": []
    },
    {
      "cell_type": "code",
      "metadata": {
        "colab": {
          "base_uri": "https://localhost:8080/"
        },
        "id": "gZCB1baTeBdj",
        "outputId": "227b79c2-9dbf-48e8-f3d4-b7834ac58f4a"
      },
      "source": [
        "np_a"
      ],
      "execution_count": 4,
      "outputs": [
        {
          "output_type": "execute_result",
          "data": {
            "text/plain": [
              "array([[1, 2, 3],\n",
              "       [4, 5, 6]])"
            ]
          },
          "metadata": {},
          "execution_count": 4
        }
      ]
    },
    {
      "cell_type": "code",
      "metadata": {
        "colab": {
          "base_uri": "https://localhost:8080/"
        },
        "id": "MkIN8PQWeEJy",
        "outputId": "91e47f77-c539-4708-a9c5-a11064abecad"
      },
      "source": [
        "np_a.shape"
      ],
      "execution_count": 6,
      "outputs": [
        {
          "output_type": "execute_result",
          "data": {
            "text/plain": [
              "(2, 3)"
            ]
          },
          "metadata": {},
          "execution_count": 6
        }
      ]
    },
    {
      "cell_type": "code",
      "metadata": {
        "colab": {
          "base_uri": "https://localhost:8080/"
        },
        "id": "hxjRLTPfeH-x",
        "outputId": "0663b593-5180-4caa-ac12-26c6577da93f"
      },
      "source": [
        "np_b = np.array([[1,4],[2,5],[3,6]])\n",
        "np_b"
      ],
      "execution_count": 8,
      "outputs": [
        {
          "output_type": "execute_result",
          "data": {
            "text/plain": [
              "array([[1, 4],\n",
              "       [2, 5],\n",
              "       [3, 6]])"
            ]
          },
          "metadata": {},
          "execution_count": 8
        }
      ]
    },
    {
      "cell_type": "markdown",
      "metadata": {
        "id": "mfKyzP57enb4"
      },
      "source": [
        "matrix transpose"
      ]
    },
    {
      "cell_type": "code",
      "metadata": {
        "colab": {
          "base_uri": "https://localhost:8080/"
        },
        "id": "ja-nzbWreaXW",
        "outputId": "15135aca-0a99-4b00-80f6-878f53eb327b"
      },
      "source": [
        "np_a.T"
      ],
      "execution_count": 9,
      "outputs": [
        {
          "output_type": "execute_result",
          "data": {
            "text/plain": [
              "array([[1, 4],\n",
              "       [2, 5],\n",
              "       [3, 6]])"
            ]
          },
          "metadata": {},
          "execution_count": 9
        }
      ]
    },
    {
      "cell_type": "markdown",
      "metadata": {
        "id": "-I9cT0_Be8Kt"
      },
      "source": [
        "##สร้าง matrix เริ่มต้น (zeros,ones)"
      ]
    },
    {
      "cell_type": "code",
      "metadata": {
        "colab": {
          "base_uri": "https://localhost:8080/"
        },
        "id": "Rgd5Bxmyet8v",
        "outputId": "c1d1d3a1-d047-4f9e-ea5b-cb194c9667da"
      },
      "source": [
        "np_z = np.zeros((4,5)) # identity การบวก\n",
        "np_z"
      ],
      "execution_count": 11,
      "outputs": [
        {
          "output_type": "execute_result",
          "data": {
            "text/plain": [
              "array([[0., 0., 0., 0., 0.],\n",
              "       [0., 0., 0., 0., 0.],\n",
              "       [0., 0., 0., 0., 0.],\n",
              "       [0., 0., 0., 0., 0.]])"
            ]
          },
          "metadata": {},
          "execution_count": 11
        }
      ]
    },
    {
      "cell_type": "code",
      "metadata": {
        "colab": {
          "base_uri": "https://localhost:8080/"
        },
        "id": "-oDk_3QZfft0",
        "outputId": "93322d81-0e31-49e1-b49e-e740039efcc2"
      },
      "source": [
        "np_o = np.ones((5,6)) #identity การคูณ\n",
        "np_o"
      ],
      "execution_count": 12,
      "outputs": [
        {
          "output_type": "execute_result",
          "data": {
            "text/plain": [
              "array([[1., 1., 1., 1., 1., 1.],\n",
              "       [1., 1., 1., 1., 1., 1.],\n",
              "       [1., 1., 1., 1., 1., 1.],\n",
              "       [1., 1., 1., 1., 1., 1.],\n",
              "       [1., 1., 1., 1., 1., 1.]])"
            ]
          },
          "metadata": {},
          "execution_count": 12
        }
      ]
    },
    {
      "cell_type": "code",
      "metadata": {
        "colab": {
          "base_uri": "https://localhost:8080/"
        },
        "id": "47vj7GYofqKM",
        "outputId": "4df97d75-2551-4395-d368-dc622ebbd528"
      },
      "source": [
        "np_200 = 200*np.ones((4,7))\n",
        "np_200"
      ],
      "execution_count": 14,
      "outputs": [
        {
          "output_type": "execute_result",
          "data": {
            "text/plain": [
              "array([[200., 200., 200., 200., 200., 200., 200.],\n",
              "       [200., 200., 200., 200., 200., 200., 200.],\n",
              "       [200., 200., 200., 200., 200., 200., 200.],\n",
              "       [200., 200., 200., 200., 200., 200., 200.]])"
            ]
          },
          "metadata": {},
          "execution_count": 14
        }
      ]
    },
    {
      "cell_type": "markdown",
      "metadata": {
        "id": "CSLD10oRgeRU"
      },
      "source": [
        "##สร้าง matrix random"
      ]
    },
    {
      "cell_type": "code",
      "metadata": {
        "colab": {
          "base_uri": "https://localhost:8080/"
        },
        "id": "fNomDWBKgNyl",
        "outputId": "3aa1cf06-c9e1-48e2-e9b1-80347afb0bdc"
      },
      "source": [
        "np.random.randn(5,5) #random เลขมาจาก normal distribution ที่มี mu=0 std = 1"
      ],
      "execution_count": 16,
      "outputs": [
        {
          "output_type": "execute_result",
          "data": {
            "text/plain": [
              "array([[ 0.82983701,  0.43920803,  1.53735393, -1.5124899 , -0.4515988 ],\n",
              "       [-0.65432553,  0.91274766, -0.64478724,  0.92726684,  1.18397344],\n",
              "       [-0.81324149,  1.0139447 ,  0.81288786,  0.21760096,  0.43533036],\n",
              "       [ 1.89434537, -0.3376314 ,  0.93510073,  0.37688192,  2.16485244],\n",
              "       [ 0.0962738 ,  0.10634039, -1.1130899 , -0.59043572,  0.69403303]])"
            ]
          },
          "metadata": {},
          "execution_count": 16
        }
      ]
    },
    {
      "cell_type": "code",
      "metadata": {
        "colab": {
          "base_uri": "https://localhost:8080/"
        },
        "id": "LCRhYBedgvW0",
        "outputId": "b2860dee-e6c3-42a9-bb63-51318ae3d490"
      },
      "source": [
        "2+(5*np.random.randn(3,3)) #random เลขมาจาก normal distribution ที่มี mu=2 std = 5"
      ],
      "execution_count": 17,
      "outputs": [
        {
          "output_type": "execute_result",
          "data": {
            "text/plain": [
              "array([[-3.4315401 ,  7.91108941, -0.56768228],\n",
              "       [ 7.69514662, -7.17174504, -2.12439228],\n",
              "       [-7.4468145 ,  7.86637907, -5.03633989]])"
            ]
          },
          "metadata": {},
          "execution_count": 17
        }
      ]
    },
    {
      "cell_type": "code",
      "metadata": {
        "colab": {
          "base_uri": "https://localhost:8080/"
        },
        "id": "FKNoeI8ohPXt",
        "outputId": "98dea438-7df1-4f69-cde6-fa1c7beb769c"
      },
      "source": [
        "np.random.randint(5,11,(4,5))   #เลขจำนวนเต็ม ระหว่าง 5-10 จึงต้องใช้ 5,11 ขนาด 4*5"
      ],
      "execution_count": 19,
      "outputs": [
        {
          "output_type": "execute_result",
          "data": {
            "text/plain": [
              "array([[ 6,  7, 10,  8, 10],\n",
              "       [ 7, 10,  8,  8,  6],\n",
              "       [10,  8,  6,  8,  9],\n",
              "       [ 8,  7,  6,  9,  6]])"
            ]
          },
          "metadata": {},
          "execution_count": 19
        }
      ]
    },
    {
      "cell_type": "code",
      "metadata": {
        "id": "kba0QZuYhj1N"
      },
      "source": [
        ""
      ],
      "execution_count": null,
      "outputs": []
    }
  ]
}