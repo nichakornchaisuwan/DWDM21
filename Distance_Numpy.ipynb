{
  "nbformat": 4,
  "nbformat_minor": 0,
  "metadata": {
    "colab": {
      "name": "Distance Numpy.ipynb",
      "provenance": [],
      "authorship_tag": "ABX9TyNND2an7jdJBHgo6bMCXry/",
      "include_colab_link": true
    },
    "kernelspec": {
      "name": "python3",
      "display_name": "Python 3"
    },
    "language_info": {
      "name": "python"
    }
  },
  "cells": [
    {
      "cell_type": "markdown",
      "metadata": {
        "id": "view-in-github",
        "colab_type": "text"
      },
      "source": [
        "<a href=\"https://colab.research.google.com/github/nichakornchaisuwan/DWDM21/blob/main/Distance_Numpy.ipynb\" target=\"_parent\"><img src=\"https://colab.research.google.com/assets/colab-badge.svg\" alt=\"Open In Colab\"/></a>"
      ]
    },
    {
      "cell_type": "code",
      "metadata": {
        "id": "iS5aFiKsc3gQ"
      },
      "source": [
        "import numpy as np #package สำหรับทำงานกับ ข้อมูลที่เป็นตัวเลข (อยู่ในรูปแบบ Matrix)"
      ],
      "execution_count": 141,
      "outputs": []
    },
    {
      "cell_type": "markdown",
      "metadata": {
        "id": "4ugQIo0Vdfjm"
      },
      "source": [
        "##Nimpy Array (matrix) จาก list"
      ]
    },
    {
      "cell_type": "markdown",
      "metadata": {
        "id": "CbdJUaImdk8u"
      },
      "source": [
        "สร้าง numpy array"
      ]
    },
    {
      "cell_type": "code",
      "metadata": {
        "id": "k5EiTJN9dRKj"
      },
      "source": [
        "np_a = np.array([[1,2,3],[4,5,6]]) # สร้าง numpy array ที่มี 2 แถว 3 หลัก"
      ],
      "execution_count": 142,
      "outputs": []
    },
    {
      "cell_type": "code",
      "metadata": {
        "colab": {
          "base_uri": "https://localhost:8080/"
        },
        "id": "gZCB1baTeBdj",
        "outputId": "4244bc72-63c7-41bd-aeef-c1420aa49a93"
      },
      "source": [
        "np_a"
      ],
      "execution_count": 143,
      "outputs": [
        {
          "output_type": "execute_result",
          "data": {
            "text/plain": [
              "array([[1, 2, 3],\n",
              "       [4, 5, 6]])"
            ]
          },
          "metadata": {},
          "execution_count": 143
        }
      ]
    },
    {
      "cell_type": "code",
      "metadata": {
        "colab": {
          "base_uri": "https://localhost:8080/"
        },
        "id": "MkIN8PQWeEJy",
        "outputId": "1ae4a9b2-0aaa-4752-c876-1c99c869d3ee"
      },
      "source": [
        "np_a.shape"
      ],
      "execution_count": 144,
      "outputs": [
        {
          "output_type": "execute_result",
          "data": {
            "text/plain": [
              "(2, 3)"
            ]
          },
          "metadata": {},
          "execution_count": 144
        }
      ]
    },
    {
      "cell_type": "code",
      "metadata": {
        "colab": {
          "base_uri": "https://localhost:8080/"
        },
        "id": "hxjRLTPfeH-x",
        "outputId": "cad44150-269b-40ae-c592-59ee4dcfbf09"
      },
      "source": [
        "np_b = np.array([[1,4],[2,5],[3,6]])\n",
        "np_b"
      ],
      "execution_count": 145,
      "outputs": [
        {
          "output_type": "execute_result",
          "data": {
            "text/plain": [
              "array([[1, 4],\n",
              "       [2, 5],\n",
              "       [3, 6]])"
            ]
          },
          "metadata": {},
          "execution_count": 145
        }
      ]
    },
    {
      "cell_type": "markdown",
      "metadata": {
        "id": "-I9cT0_Be8Kt"
      },
      "source": [
        "##สร้าง matrix เริ่มต้น (zeros,ones)"
      ]
    },
    {
      "cell_type": "code",
      "metadata": {
        "colab": {
          "base_uri": "https://localhost:8080/"
        },
        "id": "Rgd5Bxmyet8v",
        "outputId": "b94a2e3c-0894-4637-d228-23e9ebf8f586"
      },
      "source": [
        "np_z = np.zeros((4,5)) # identity การบวก\n",
        "np_z"
      ],
      "execution_count": 146,
      "outputs": [
        {
          "output_type": "execute_result",
          "data": {
            "text/plain": [
              "array([[0., 0., 0., 0., 0.],\n",
              "       [0., 0., 0., 0., 0.],\n",
              "       [0., 0., 0., 0., 0.],\n",
              "       [0., 0., 0., 0., 0.]])"
            ]
          },
          "metadata": {},
          "execution_count": 146
        }
      ]
    },
    {
      "cell_type": "code",
      "metadata": {
        "colab": {
          "base_uri": "https://localhost:8080/"
        },
        "id": "-oDk_3QZfft0",
        "outputId": "0bace2df-a936-4749-9d9a-5a768188b6de"
      },
      "source": [
        "np_o = np.ones((5,6)) #identity การคูณ\n",
        "np_o"
      ],
      "execution_count": 147,
      "outputs": [
        {
          "output_type": "execute_result",
          "data": {
            "text/plain": [
              "array([[1., 1., 1., 1., 1., 1.],\n",
              "       [1., 1., 1., 1., 1., 1.],\n",
              "       [1., 1., 1., 1., 1., 1.],\n",
              "       [1., 1., 1., 1., 1., 1.],\n",
              "       [1., 1., 1., 1., 1., 1.]])"
            ]
          },
          "metadata": {},
          "execution_count": 147
        }
      ]
    },
    {
      "cell_type": "code",
      "metadata": {
        "colab": {
          "base_uri": "https://localhost:8080/"
        },
        "id": "47vj7GYofqKM",
        "outputId": "ed85357f-21db-47ba-8fe6-cbf82966022d"
      },
      "source": [
        "np_200 = 200*np.ones((4,7))\n",
        "np_200"
      ],
      "execution_count": 148,
      "outputs": [
        {
          "output_type": "execute_result",
          "data": {
            "text/plain": [
              "array([[200., 200., 200., 200., 200., 200., 200.],\n",
              "       [200., 200., 200., 200., 200., 200., 200.],\n",
              "       [200., 200., 200., 200., 200., 200., 200.],\n",
              "       [200., 200., 200., 200., 200., 200., 200.]])"
            ]
          },
          "metadata": {},
          "execution_count": 148
        }
      ]
    },
    {
      "cell_type": "markdown",
      "metadata": {
        "id": "CSLD10oRgeRU"
      },
      "source": [
        "##สร้าง matrix random"
      ]
    },
    {
      "cell_type": "code",
      "metadata": {
        "colab": {
          "base_uri": "https://localhost:8080/"
        },
        "id": "fNomDWBKgNyl",
        "outputId": "c1712a93-cc52-4e56-9a4f-ce77442aee71"
      },
      "source": [
        "np.random.randn(5,5) #random เลขมาจาก normal distribution ที่มี mu=0 std = 1"
      ],
      "execution_count": 149,
      "outputs": [
        {
          "output_type": "execute_result",
          "data": {
            "text/plain": [
              "array([[ 0.43330603,  0.08672599,  1.07076496,  0.41248707,  1.39214372],\n",
              "       [ 0.39553513,  0.12960139, -0.23619988,  0.87432571,  1.50313888],\n",
              "       [-1.34543467,  2.77546712,  0.00431202, -0.24918175,  0.31521195],\n",
              "       [-1.545071  ,  0.10463263, -3.54704621, -1.65618294,  0.97662967],\n",
              "       [ 0.2248831 ,  0.49106447, -0.47731941, -1.00033871,  0.760097  ]])"
            ]
          },
          "metadata": {},
          "execution_count": 149
        }
      ]
    },
    {
      "cell_type": "code",
      "metadata": {
        "colab": {
          "base_uri": "https://localhost:8080/"
        },
        "id": "LCRhYBedgvW0",
        "outputId": "b8853ada-39a6-4e31-b1cb-b962db6e7842"
      },
      "source": [
        "2+(5*np.random.randn(3,3)) #random เลขมาจาก normal distribution ที่มี mu=2 std = 5"
      ],
      "execution_count": 150,
      "outputs": [
        {
          "output_type": "execute_result",
          "data": {
            "text/plain": [
              "array([[ 2.98537829,  0.42386118, 12.54877389],\n",
              "       [ 6.42954831, -1.03628771, -1.90055414],\n",
              "       [ 1.65554116,  1.37802255,  0.94286552]])"
            ]
          },
          "metadata": {},
          "execution_count": 150
        }
      ]
    },
    {
      "cell_type": "code",
      "metadata": {
        "colab": {
          "base_uri": "https://localhost:8080/"
        },
        "id": "FKNoeI8ohPXt",
        "outputId": "1f41c997-9948-4ef7-d3c7-e719c84d2052"
      },
      "source": [
        "np.random.randint(5,11,(4,5))   #เลขจำนวนเต็ม ระหว่าง 5-10 จึงต้องใช้ 5,11 ขนาด 4*5"
      ],
      "execution_count": 151,
      "outputs": [
        {
          "output_type": "execute_result",
          "data": {
            "text/plain": [
              "array([[ 5,  8,  5,  9,  7],\n",
              "       [ 7,  9, 10,  6, 10],\n",
              "       [ 5, 10,  6, 10, 10],\n",
              "       [ 6, 10,  9,  6,  9]])"
            ]
          },
          "metadata": {},
          "execution_count": 151
        }
      ]
    },
    {
      "cell_type": "code",
      "metadata": {
        "id": "kba0QZuYhj1N"
      },
      "source": [
        ""
      ],
      "execution_count": 151,
      "outputs": []
    },
    {
      "cell_type": "markdown",
      "metadata": {
        "id": "mfKyzP57enb4"
      },
      "source": [
        "matrix transpose"
      ]
    },
    {
      "cell_type": "code",
      "metadata": {
        "id": "41dGniDDOkJJ",
        "colab": {
          "base_uri": "https://localhost:8080/"
        },
        "outputId": "4d3348ac-11a7-45d8-db99-7d07c17b8dba"
      },
      "source": [
        "np_a"
      ],
      "execution_count": 152,
      "outputs": [
        {
          "output_type": "execute_result",
          "data": {
            "text/plain": [
              "array([[1, 2, 3],\n",
              "       [4, 5, 6]])"
            ]
          },
          "metadata": {},
          "execution_count": 152
        }
      ]
    },
    {
      "cell_type": "code",
      "metadata": {
        "colab": {
          "base_uri": "https://localhost:8080/"
        },
        "id": "ja-nzbWreaXW",
        "outputId": "2ac3422d-1851-4541-a5f3-feaafc2ca2d7"
      },
      "source": [
        "np_a.T #transpose"
      ],
      "execution_count": 153,
      "outputs": [
        {
          "output_type": "execute_result",
          "data": {
            "text/plain": [
              "array([[1, 4],\n",
              "       [2, 5],\n",
              "       [3, 6]])"
            ]
          },
          "metadata": {},
          "execution_count": 153
        }
      ]
    },
    {
      "cell_type": "code",
      "metadata": {
        "id": "mQFUWWATOss9",
        "colab": {
          "base_uri": "https://localhost:8080/"
        },
        "outputId": "0bcca2bd-44bf-4625-a7d9-6fe0c246c20a"
      },
      "source": [
        "1+ np_a # บวก matrix ด้วย scalar  มีขนาด ไม่มีทิศทาง"
      ],
      "execution_count": 154,
      "outputs": [
        {
          "output_type": "execute_result",
          "data": {
            "text/plain": [
              "array([[2, 3, 4],\n",
              "       [5, 6, 7]])"
            ]
          },
          "metadata": {},
          "execution_count": 154
        }
      ]
    },
    {
      "cell_type": "code",
      "metadata": {
        "id": "Z639ByLzO28e",
        "colab": {
          "base_uri": "https://localhost:8080/"
        },
        "outputId": "efa676a3-69fb-4ec6-f31e-e9215f416050"
      },
      "source": [
        "2*np_a #multipling scalar to matrix"
      ],
      "execution_count": 155,
      "outputs": [
        {
          "output_type": "execute_result",
          "data": {
            "text/plain": [
              "array([[ 2,  4,  6],\n",
              "       [ 8, 10, 12]])"
            ]
          },
          "metadata": {},
          "execution_count": 155
        }
      ]
    },
    {
      "cell_type": "code",
      "metadata": {
        "id": "JBqTwAVxPO9Q",
        "colab": {
          "base_uri": "https://localhost:8080/"
        },
        "outputId": "83c3499f-45a0-47ba-bd73-fd51b50c26d8"
      },
      "source": [
        "np_c = np.array([[6,5,4],[3,2,1]])\n",
        "np_c"
      ],
      "execution_count": 156,
      "outputs": [
        {
          "output_type": "execute_result",
          "data": {
            "text/plain": [
              "array([[6, 5, 4],\n",
              "       [3, 2, 1]])"
            ]
          },
          "metadata": {},
          "execution_count": 156
        }
      ]
    },
    {
      "cell_type": "code",
      "metadata": {
        "id": "0gLswIhbPE7c",
        "colab": {
          "base_uri": "https://localhost:8080/"
        },
        "outputId": "bda8ad9c-7e55-4c71-a7a6-e46e4cef200e"
      },
      "source": [
        "np_a+np_c #adding matrix to matrix"
      ],
      "execution_count": 157,
      "outputs": [
        {
          "output_type": "execute_result",
          "data": {
            "text/plain": [
              "array([[7, 7, 7],\n",
              "       [7, 7, 7]])"
            ]
          },
          "metadata": {},
          "execution_count": 157
        }
      ]
    },
    {
      "cell_type": "code",
      "metadata": {
        "id": "xEB-zCmTPL4Y",
        "colab": {
          "base_uri": "https://localhost:8080/"
        },
        "outputId": "759d4e77-e7e0-42e6-d4f2-170464568e05"
      },
      "source": [
        "np_a.shape"
      ],
      "execution_count": 158,
      "outputs": [
        {
          "output_type": "execute_result",
          "data": {
            "text/plain": [
              "(2, 3)"
            ]
          },
          "metadata": {},
          "execution_count": 158
        }
      ]
    },
    {
      "cell_type": "code",
      "metadata": {
        "id": "DRx1tRbBQE61",
        "colab": {
          "base_uri": "https://localhost:8080/"
        },
        "outputId": "00e554b5-f3c5-4227-d57f-d78c7fe15c2a"
      },
      "source": [
        "np_c.shape"
      ],
      "execution_count": 159,
      "outputs": [
        {
          "output_type": "execute_result",
          "data": {
            "text/plain": [
              "(2, 3)"
            ]
          },
          "metadata": {},
          "execution_count": 159
        }
      ]
    },
    {
      "cell_type": "code",
      "metadata": {
        "id": "C6jBbF-dQnur",
        "colab": {
          "base_uri": "https://localhost:8080/"
        },
        "outputId": "30a831c9-99df-4b62-8c88-41b4f8facaa8"
      },
      "source": [
        "np_c.T.shape"
      ],
      "execution_count": 160,
      "outputs": [
        {
          "output_type": "execute_result",
          "data": {
            "text/plain": [
              "(3, 2)"
            ]
          },
          "metadata": {},
          "execution_count": 160
        }
      ]
    },
    {
      "cell_type": "code",
      "metadata": {
        "id": "XlSXf5KBQJYn",
        "colab": {
          "base_uri": "https://localhost:8080/"
        },
        "outputId": "77f15597-bc70-4a44-80ec-980bb45c456b"
      },
      "source": [
        "np.dot(np_a,np_c.T) #multipling matrix to matrix (a,b)*(b,c) = (a,c)"
      ],
      "execution_count": 161,
      "outputs": [
        {
          "output_type": "execute_result",
          "data": {
            "text/plain": [
              "array([[28, 10],\n",
              "       [73, 28]])"
            ]
          },
          "metadata": {},
          "execution_count": 161
        }
      ]
    },
    {
      "cell_type": "markdown",
      "metadata": {
        "id": "blORFclrRQJs"
      },
      "source": [
        "##Indexing &Silcing"
      ]
    },
    {
      "cell_type": "markdown",
      "metadata": {
        "id": "-TM6FnkTRaM3"
      },
      "source": [
        "ชี้ตัวที่เป็นค่าใน matrix อย่างไร"
      ]
    },
    {
      "cell_type": "code",
      "metadata": {
        "id": "YasGWEl5QOcB",
        "colab": {
          "base_uri": "https://localhost:8080/"
        },
        "outputId": "217ffa80-ef50-4bac-f506-c2edff269c2a"
      },
      "source": [
        "np_a"
      ],
      "execution_count": 162,
      "outputs": [
        {
          "output_type": "execute_result",
          "data": {
            "text/plain": [
              "array([[1, 2, 3],\n",
              "       [4, 5, 6]])"
            ]
          },
          "metadata": {},
          "execution_count": 162
        }
      ]
    },
    {
      "cell_type": "code",
      "metadata": {
        "id": "CIKXUAQcRi0V",
        "colab": {
          "base_uri": "https://localhost:8080/"
        },
        "outputId": "5824affb-b55c-4d87-a92d-bb445eccee76"
      },
      "source": [
        "np_a[1,1]"
      ],
      "execution_count": 163,
      "outputs": [
        {
          "output_type": "execute_result",
          "data": {
            "text/plain": [
              "5"
            ]
          },
          "metadata": {},
          "execution_count": 163
        }
      ]
    },
    {
      "cell_type": "code",
      "metadata": {
        "id": "gsRU9BR0Rt-L",
        "colab": {
          "base_uri": "https://localhost:8080/"
        },
        "outputId": "58e6f82e-c7b5-433d-abe8-6d0ddbffa356"
      },
      "source": [
        "np_a[:2,:2]"
      ],
      "execution_count": 164,
      "outputs": [
        {
          "output_type": "execute_result",
          "data": {
            "text/plain": [
              "array([[1, 2],\n",
              "       [4, 5]])"
            ]
          },
          "metadata": {},
          "execution_count": 164
        }
      ]
    },
    {
      "cell_type": "code",
      "metadata": {
        "id": "DREY1BPtSWwu",
        "colab": {
          "base_uri": "https://localhost:8080/"
        },
        "outputId": "8bfcd8c0-ef03-4d60-a9e9-07de4da049f0"
      },
      "source": [
        "np_a[0,:]"
      ],
      "execution_count": 165,
      "outputs": [
        {
          "output_type": "execute_result",
          "data": {
            "text/plain": [
              "array([1, 2, 3])"
            ]
          },
          "metadata": {},
          "execution_count": 165
        }
      ]
    },
    {
      "cell_type": "markdown",
      "metadata": {
        "id": "_7y6OXMhSu-E"
      },
      "source": [
        "###Useful function\n"
      ]
    },
    {
      "cell_type": "code",
      "metadata": {
        "id": "3mB4Z4vQS5I9",
        "colab": {
          "base_uri": "https://localhost:8080/"
        },
        "outputId": "fc7ab5c7-5904-4be6-a9c0-b0306b4a9386"
      },
      "source": [
        "np_a"
      ],
      "execution_count": 166,
      "outputs": [
        {
          "output_type": "execute_result",
          "data": {
            "text/plain": [
              "array([[1, 2, 3],\n",
              "       [4, 5, 6]])"
            ]
          },
          "metadata": {},
          "execution_count": 166
        }
      ]
    },
    {
      "cell_type": "code",
      "metadata": {
        "id": "CDuTzhTJScKm",
        "colab": {
          "base_uri": "https://localhost:8080/"
        },
        "outputId": "03bad0fa-2b79-458d-fb3c-5eabec54742b"
      },
      "source": [
        "np.sum(np_a)"
      ],
      "execution_count": 167,
      "outputs": [
        {
          "output_type": "execute_result",
          "data": {
            "text/plain": [
              "21"
            ]
          },
          "metadata": {},
          "execution_count": 167
        }
      ]
    },
    {
      "cell_type": "code",
      "metadata": {
        "id": "Sp4cfnDYS39Q",
        "colab": {
          "base_uri": "https://localhost:8080/"
        },
        "outputId": "1096af69-777b-4638-962b-516291224db8"
      },
      "source": [
        "np.sum(np_a,axis=0) # เอาด้านแถวมารวมกัน"
      ],
      "execution_count": 168,
      "outputs": [
        {
          "output_type": "execute_result",
          "data": {
            "text/plain": [
              "array([5, 7, 9])"
            ]
          },
          "metadata": {},
          "execution_count": 168
        }
      ]
    },
    {
      "cell_type": "code",
      "metadata": {
        "id": "BwfqUOvgTKqS",
        "colab": {
          "base_uri": "https://localhost:8080/"
        },
        "outputId": "41ea2f97-d181-4449-9567-8b1d13bd1e41"
      },
      "source": [
        "np.sum(np_a,axis=1) # เอาด้านหลักมารวมกัน"
      ],
      "execution_count": 169,
      "outputs": [
        {
          "output_type": "execute_result",
          "data": {
            "text/plain": [
              "array([ 6, 15])"
            ]
          },
          "metadata": {},
          "execution_count": 169
        }
      ]
    },
    {
      "cell_type": "code",
      "metadata": {
        "id": "M-_j94I3TQyZ",
        "colab": {
          "base_uri": "https://localhost:8080/"
        },
        "outputId": "460a21a9-3351-4590-a4b7-e548f08c73db"
      },
      "source": [
        "np.mean(np_a)"
      ],
      "execution_count": 170,
      "outputs": [
        {
          "output_type": "execute_result",
          "data": {
            "text/plain": [
              "3.5"
            ]
          },
          "metadata": {},
          "execution_count": 170
        }
      ]
    },
    {
      "cell_type": "code",
      "metadata": {
        "id": "b7PjIaQyTdDd",
        "colab": {
          "base_uri": "https://localhost:8080/"
        },
        "outputId": "0e4e003d-8ad2-464a-e86d-2e719366aa68"
      },
      "source": [
        "np.mean(np_a,axis = 0 )  # หาค่า mean ของ column"
      ],
      "execution_count": 171,
      "outputs": [
        {
          "output_type": "execute_result",
          "data": {
            "text/plain": [
              "array([2.5, 3.5, 4.5])"
            ]
          },
          "metadata": {},
          "execution_count": 171
        }
      ]
    },
    {
      "cell_type": "markdown",
      "metadata": {
        "id": "AnSfXaPbUymG"
      },
      "source": [
        "### วนลูปเอง"
      ]
    },
    {
      "cell_type": "markdown",
      "metadata": {
        "id": "c8X1ZwaUVAAm"
      },
      "source": [
        "####summation"
      ]
    },
    {
      "cell_type": "markdown",
      "metadata": {
        "id": "7t-OAjBYW7RR"
      },
      "source": [
        "```np.sum(np_a)```"
      ]
    },
    {
      "cell_type": "code",
      "metadata": {
        "id": "6jEjxrNmUFtd",
        "colab": {
          "base_uri": "https://localhost:8080/"
        },
        "outputId": "bc94e15b-08a6-4b81-d33d-d4d378c84ae2"
      },
      "source": [
        "sum_all = 0\n",
        "\n",
        "for row in range(np_a.shape[0]):\n",
        "    for col in range(np_a.shape[1]):\n",
        "        sum_all = sum_all + np_a [row,col]\n",
        "        print(f'we are at row = {row},col = {col} np_a[{row},{col}] = {np_a[row,col]} sum_all = {sum_all}')"
      ],
      "execution_count": 172,
      "outputs": [
        {
          "output_type": "stream",
          "name": "stdout",
          "text": [
            "we are at row = 0,col = 0 np_a[0,0] = 1 sum_all = 1\n",
            "we are at row = 0,col = 1 np_a[0,1] = 2 sum_all = 3\n",
            "we are at row = 0,col = 2 np_a[0,2] = 3 sum_all = 6\n",
            "we are at row = 1,col = 0 np_a[1,0] = 4 sum_all = 10\n",
            "we are at row = 1,col = 1 np_a[1,1] = 5 sum_all = 15\n",
            "we are at row = 1,col = 2 np_a[1,2] = 6 sum_all = 21\n"
          ]
        }
      ]
    },
    {
      "cell_type": "markdown",
      "metadata": {
        "id": "u2huL_ZUW_Nq"
      },
      "source": [
        "```np.sum(np_a,axis = 0)```"
      ]
    },
    {
      "cell_type": "code",
      "metadata": {
        "id": "WAsXwZv2WIyF",
        "colab": {
          "base_uri": "https://localhost:8080/"
        },
        "outputId": "781ff526-a0a7-4821-828b-741c64c72d84"
      },
      "source": [
        "sum_all = np.zeros(np_a.shape[1])\n",
        "\n",
        "for row in range(np_a.shape[0]):\n",
        "    for col in range(np_a.shape[1]):\n",
        "        sum_all[col] = sum_all[col] + np_a [row,col]\n",
        "print(sum_all)"
      ],
      "execution_count": 173,
      "outputs": [
        {
          "output_type": "stream",
          "name": "stdout",
          "text": [
            "[5. 7. 9.]\n"
          ]
        }
      ]
    },
    {
      "cell_type": "markdown",
      "metadata": {
        "id": "FSgtBiioYkPG"
      },
      "source": [
        "####Quiz กลุ่ม\n",
        "วนลูปหาค่า\n",
        "\n",
        "*```np.sum(np_a,axis=1)``` (1)\n",
        "\n",
        "*```np.mean(np_a)``` (2)\n",
        "\n",
        "*```np.mean(np_a,axis=0)``` (3)\n",
        "\n",
        "*```np.mean(np_a,axis=1)``` (4)\n",
        "\n",
        "*```np.max(np_a)``` (5)\n",
        "\n",
        "*```np.max(np_a,axis=0)``` (6)\n",
        "\n",
        "*```np.max(np_a,axis=1)``` (7)\n",
        "\n",
        "*```np.min(np_a)``` (8)\n",
        "\n",
        "*```np.min(np_a,axis=0)``` (9)\n",
        "\n",
        "*```np.min(np_a,axis=1)``` (10)"
      ]
    },
    {
      "cell_type": "code",
      "metadata": {
        "id": "WmKtc6qiZN73",
        "colab": {
          "base_uri": "https://localhost:8080/"
        },
        "outputId": "a260c54b-e876-4d14-f045-e4c36b7dd39f"
      },
      "source": [
        "#np.sum(np_a,axis=1) (1)\n",
        "sum_all = np.zeros(np_a.shape[0])\n",
        "\n",
        "for row in range(np_a.shape[0]):\n",
        "    for col in range(np_a.shape[1]):\n",
        "        sum_all[row] = sum_all[row]+ np_a [row,col]\n",
        "print(sum_all)"
      ],
      "execution_count": 174,
      "outputs": [
        {
          "output_type": "stream",
          "name": "stdout",
          "text": [
            "[ 6. 15.]\n"
          ]
        }
      ]
    },
    {
      "cell_type": "code",
      "metadata": {
        "id": "WjuWt6IlX9J2",
        "colab": {
          "base_uri": "https://localhost:8080/"
        },
        "outputId": "fc1355ba-31ad-4773-e246-d533c26226a1"
      },
      "source": [
        "#np.mean(np_a) (2)\n",
        "mean_all = 0\n",
        "for row in range(np_a.shape[0]):\n",
        "    for col in range(np_a.shape[1]):\n",
        "        mean_all = mean_all + np_a[row,col]\n",
        "mean_all = mean_all/(np_a.shape[0]*np_a.shape[1])\n",
        "print(mean_all)"
      ],
      "execution_count": 175,
      "outputs": [
        {
          "output_type": "stream",
          "name": "stdout",
          "text": [
            "3.5\n"
          ]
        }
      ]
    },
    {
      "cell_type": "code",
      "metadata": {
        "id": "UoHujdJpa9QX",
        "colab": {
          "base_uri": "https://localhost:8080/"
        },
        "outputId": "245130b0-fb87-4bd4-e01b-bf0205e8a900"
      },
      "source": [
        "#np.mean(np_a,axis=0) (3)\n",
        "mean_all = np.zeros(np_a.shape[1])\n",
        "for row in range(np_a.shape[0]):\n",
        "     for col in range(np_a.shape[1]):\n",
        "          mean_all[col] = mean_all[col] + np_a[row,col]/np_a.shape[0]\n",
        "print(mean_all)"
      ],
      "execution_count": 176,
      "outputs": [
        {
          "output_type": "stream",
          "name": "stdout",
          "text": [
            "[2.5 3.5 4.5]\n"
          ]
        }
      ]
    },
    {
      "cell_type": "code",
      "metadata": {
        "id": "hyJbT7ZBXoyj",
        "colab": {
          "base_uri": "https://localhost:8080/"
        },
        "outputId": "73fe1ec7-e235-4144-8997-b305ee3cc5af"
      },
      "source": [
        "#np.mean(np_a,axis=1) (4)\n",
        "sum_all = np.zeros(np_a.shape[0])\n",
        "for row in range(np_a.shape[0]):\n",
        "    for col in range(np_a.shape[1]): \n",
        "        sum_all[row] = sum_all[row] + np_a[row,col]\n",
        "sum_all = sum_all/np_a.shape[1]\n",
        "print(sum_all)"
      ],
      "execution_count": 177,
      "outputs": [
        {
          "output_type": "stream",
          "name": "stdout",
          "text": [
            "[2. 5.]\n"
          ]
        }
      ]
    },
    {
      "cell_type": "code",
      "metadata": {
        "id": "pxvxzXIWXrI3",
        "colab": {
          "base_uri": "https://localhost:8080/"
        },
        "outputId": "5cee999d-c404-4f8c-94d2-b6be1ddef0ad"
      },
      "source": [
        "#np.max(np_a) (5)\n",
        "max_a = -100000000\n",
        "for row in range(np_a.shape[0]):\n",
        "    for col in range(np_a.shape[1]):\n",
        "        if np_a[row,col] > max_a :\n",
        "            max_a = np_a[row,col]\n",
        "print(max_a)"
      ],
      "execution_count": 178,
      "outputs": [
        {
          "output_type": "stream",
          "name": "stdout",
          "text": [
            "6\n"
          ]
        }
      ]
    },
    {
      "cell_type": "code",
      "metadata": {
        "id": "8LNwAhCZX3zy",
        "colab": {
          "base_uri": "https://localhost:8080/"
        },
        "outputId": "da830df2-b413-461f-8ce7-d5dbf70642ce"
      },
      "source": [
        "# np.max(np_a,axis=0) (6)\n",
        "max_all = -100000 * np.ones(np_a.shape[1])\n",
        "for col in range(np_a.shape[1]):\n",
        "    for row in range(np_a.shape[0]):\n",
        "        if np_a[row,col] > max_all[col]: \n",
        "            max_all[col] = np_a[row,col]\n",
        "print(max_all)"
      ],
      "execution_count": 179,
      "outputs": [
        {
          "output_type": "stream",
          "name": "stdout",
          "text": [
            "[4. 5. 6.]\n"
          ]
        }
      ]
    },
    {
      "cell_type": "code",
      "metadata": {
        "id": "-6f3RKx3Z13M",
        "colab": {
          "base_uri": "https://localhost:8080/"
        },
        "outputId": "7e94906b-6fbb-4052-c657-240e688f5bc6"
      },
      "source": [
        "# np.max(np_a,axis=1) (ของนี่) (7)\n",
        "max_all = np.zeros(np_a.shape[0])\n",
        "\n",
        "for col in range(np_a.shape[1]):\n",
        "    for row in range(np_a.shape[0]):\n",
        "        max_all[row] = max(np_a[row])\n",
        "print(max_all)"
      ],
      "execution_count": 180,
      "outputs": [
        {
          "output_type": "stream",
          "name": "stdout",
          "text": [
            "[3. 6.]\n"
          ]
        }
      ]
    },
    {
      "cell_type": "code",
      "metadata": {
        "id": "kuSY6Oa6XlI8",
        "colab": {
          "base_uri": "https://localhost:8080/"
        },
        "outputId": "fc3cd696-ef63-40d1-d64d-4f59a3570a87"
      },
      "source": [
        "# np.max(np_a,axis=1) (ของอาจารย์) (7)\n",
        "max_all = np.zeros(np_a.shape[0])\n",
        "for row in range(np_a.shape[0]):\n",
        "    max_all[row] = max(np_a[row,:])\n",
        "print(max_all)"
      ],
      "execution_count": 181,
      "outputs": [
        {
          "output_type": "stream",
          "name": "stdout",
          "text": [
            "[3. 6.]\n"
          ]
        }
      ]
    },
    {
      "cell_type": "code",
      "metadata": {
        "id": "n6fbrjXfX1a4",
        "colab": {
          "base_uri": "https://localhost:8080/"
        },
        "outputId": "5a44f151-c085-4107-90fb-77dacb039f46"
      },
      "source": [
        "# np.min(np_a) (8)\n",
        "minV = 100000\n",
        "for row in range(np_a.shape[0]):\n",
        "    for col in range(np_a.shape[1]):\n",
        "        if np_a[row,col] < minV:\n",
        "            minV = np_a[row,col]\n",
        "print(minV)"
      ],
      "execution_count": 182,
      "outputs": [
        {
          "output_type": "stream",
          "name": "stdout",
          "text": [
            "1\n"
          ]
        }
      ]
    },
    {
      "cell_type": "code",
      "metadata": {
        "id": "mc-Hyg_kXy-o",
        "colab": {
          "base_uri": "https://localhost:8080/"
        },
        "outputId": "1b400471-faec-4bf1-ef2c-6c015a9ac13f"
      },
      "source": [
        "# np.min(np_a,axis=0) (9)\n",
        "min_all = np.zeros(np_a.shape[1])\n",
        "\n",
        "for col in range(np_a.shape[1]):\n",
        "    min_all[col] = min(np_a[:,col])\n",
        "print(min_all)"
      ],
      "execution_count": 183,
      "outputs": [
        {
          "output_type": "stream",
          "name": "stdout",
          "text": [
            "[1. 2. 3.]\n"
          ]
        }
      ]
    },
    {
      "cell_type": "code",
      "metadata": {
        "id": "PnoV-8hSXwSl",
        "colab": {
          "base_uri": "https://localhost:8080/"
        },
        "outputId": "658ded40-206d-4162-b91d-ea5cc027b39f"
      },
      "source": [
        "# np.min(np_a,axis=1) (10)\n",
        "min_row = np.zeros(np_a.shape[0])\n",
        "for row in range(np_a.shape[0]):\n",
        "   min_row[row] = min(np_a[row,:])\n",
        "print(min_row)"
      ],
      "execution_count": 184,
      "outputs": [
        {
          "output_type": "stream",
          "name": "stdout",
          "text": [
            "[1. 4.]\n"
          ]
        }
      ]
    },
    {
      "cell_type": "markdown",
      "metadata": {
        "id": "GoCVmSV1Xa_C"
      },
      "source": [
        "###Distance Matrix"
      ]
    },
    {
      "cell_type": "code",
      "metadata": {
        "id": "B7-X2hdQYgM2",
        "colab": {
          "base_uri": "https://localhost:8080/"
        },
        "outputId": "34271e7a-361f-4180-b375-3fd5f5396309"
      },
      "source": [
        "data1 = np.array([[1,2],[3,5],[2,0],[4,5]])\n",
        "data1               "
      ],
      "execution_count": 185,
      "outputs": [
        {
          "output_type": "execute_result",
          "data": {
            "text/plain": [
              "array([[1, 2],\n",
              "       [3, 5],\n",
              "       [2, 0],\n",
              "       [4, 5]])"
            ]
          },
          "metadata": {},
          "execution_count": 185
        }
      ]
    },
    {
      "cell_type": "code",
      "metadata": {
        "id": "wyBcUt8hZEZb",
        "colab": {
          "base_uri": "https://localhost:8080/",
          "height": 0
        },
        "outputId": "faa1fac0-6c22-477f-a7dd-c5c74419f4a0"
      },
      "source": [
        "from matplotlib import pyplot as plt\n",
        "plt.scatter(data1[:,0],data1[:,1])"
      ],
      "execution_count": 186,
      "outputs": [
        {
          "output_type": "execute_result",
          "data": {
            "text/plain": [
              "<matplotlib.collections.PathCollection at 0x7f693ed54e50>"
            ]
          },
          "metadata": {},
          "execution_count": 186
        },
        {
          "output_type": "display_data",
          "data": {
            "image/png": "[encoded data removed]",
            "text/plain": [
              "<Figure size 432x288 with 1 Axes>"
            ]
          },
          "metadata": {
            "needs_background": "light"
          }
        }
      ]
    },
    {
      "cell_type": "markdown",
      "metadata": {
        "id": "K97_12FoaYNC"
      },
      "source": [
        "#### Euclidean Distance (L2-norm)  \n",
        "$\\sqrt{(x1-x2)^2+(y1-y2)^2}$\n",
        "\n",
        "$$ #laytext"
      ]
    },
    {
      "cell_type": "markdown",
      "metadata": {
        "id": "wYauuu1UeEWM"
      },
      "source": [
        "dist(P1,P2)"
      ]
    },
    {
      "cell_type": "code",
      "metadata": {
        "id": "Q-kQzWsSZ8IN",
        "colab": {
          "base_uri": "https://localhost:8080/"
        },
        "outputId": "f82a62cb-8e64-4579-af15-d465f21c04c4"
      },
      "source": [
        "dist_p1_p2 = np.sqrt(np.power(data1[0,0]-data1[1,0],2)+np.power(data1[0,1]-data1[1,1],2))\n",
        "dist_p1_p2"
      ],
      "execution_count": 187,
      "outputs": [
        {
          "output_type": "execute_result",
          "data": {
            "text/plain": [
              "3.605551275463989"
            ]
          },
          "metadata": {},
          "execution_count": 187
        }
      ]
    },
    {
      "cell_type": "markdown",
      "metadata": {
        "id": "KWIgrtGGeLea"
      },
      "source": [
        "dist(P2,P4)"
      ]
    },
    {
      "cell_type": "code",
      "metadata": {
        "id": "afAGxnySd3gQ",
        "colab": {
          "base_uri": "https://localhost:8080/"
        },
        "outputId": "1bd23aa9-35e2-43f2-870a-b8b50ec73cb6"
      },
      "source": [
        "dist_p2_p4 = np.sqrt(np.power(data1[1,0]-data1[3,0],2)+np.power(data1[1,1]-data1[3,1],2))\n",
        "dist_p2_p4"
      ],
      "execution_count": 188,
      "outputs": [
        {
          "output_type": "execute_result",
          "data": {
            "text/plain": [
              "1.0"
            ]
          },
          "metadata": {},
          "execution_count": 188
        }
      ]
    },
    {
      "cell_type": "markdown",
      "metadata": {
        "id": "1PGwx_AGf52w"
      },
      "source": [
        "###Distance function"
      ]
    },
    {
      "cell_type": "markdown",
      "metadata": {
        "id": "B7Y9-JpMh6CK"
      },
      "source": [
        "dim=2"
      ]
    },
    {
      "cell_type": "code",
      "metadata": {
        "id": "Eyz01wcde9_6"
      },
      "source": [
        "def dist_l2_2(p1,p2):\n",
        "    return np.sqrt(np.power(p1[0]-p2[0],2)+np.power(p1[1]-p2[1],2))"
      ],
      "execution_count": 189,
      "outputs": []
    },
    {
      "cell_type": "code",
      "metadata": {
        "id": "gZrfY5mUg5oH",
        "colab": {
          "base_uri": "https://localhost:8080/"
        },
        "outputId": "5de14d51-802e-4d4d-de12-f346e34f4ae4"
      },
      "source": [
        "dist_l2_2(data1[0,:],data1[1,:]) #แถว0 ทุกๆหลัก"
      ],
      "execution_count": 190,
      "outputs": [
        {
          "output_type": "execute_result",
          "data": {
            "text/plain": [
              "3.605551275463989"
            ]
          },
          "metadata": {},
          "execution_count": 190
        }
      ]
    },
    {
      "cell_type": "code",
      "metadata": {
        "id": "vfdRNzsNhGt1",
        "colab": {
          "base_uri": "https://localhost:8080/"
        },
        "outputId": "78cb4b1a-740c-47ce-aa64-849e2a1c0a28"
      },
      "source": [
        "dist_l2_2(data1[1,:],data1[3,:]) "
      ],
      "execution_count": 191,
      "outputs": [
        {
          "output_type": "execute_result",
          "data": {
            "text/plain": [
              "1.0"
            ]
          },
          "metadata": {},
          "execution_count": 191
        }
      ]
    },
    {
      "cell_type": "markdown",
      "metadata": {
        "id": "chPxDmPbh_QH"
      },
      "source": [
        "dim = n"
      ]
    },
    {
      "cell_type": "code",
      "metadata": {
        "id": "Kkf5pReFhNvt"
      },
      "source": [
        "def dist_l2_n(p1,p2):\n",
        "    sum = 0\n",
        "    for i in range(len(p1)):\n",
        "        sum = sum+np.power(p1[i]-p2[i],2)\n",
        "    return np.sqrt(sum)"
      ],
      "execution_count": 192,
      "outputs": []
    },
    {
      "cell_type": "code",
      "metadata": {
        "id": "fLBBoM7uiZk7",
        "colab": {
          "base_uri": "https://localhost:8080/"
        },
        "outputId": "05ceb22d-0196-41ba-8270-a4d97c0398e6"
      },
      "source": [
        "dist_l2_n(data1[0,:],data1[1,:])"
      ],
      "execution_count": 193,
      "outputs": [
        {
          "output_type": "execute_result",
          "data": {
            "text/plain": [
              "3.605551275463989"
            ]
          },
          "metadata": {},
          "execution_count": 193
        }
      ]
    },
    {
      "cell_type": "markdown",
      "metadata": {
        "id": "ewMY7pzUkIEE"
      },
      "source": [
        "#### Manhattan Distance (L1-norm)  \n",
        "$|x1-x2)|+|y1-y2|$"
      ]
    },
    {
      "cell_type": "markdown",
      "metadata": {
        "id": "4FM91qGmkpcy"
      },
      "source": [
        "Quiz6 เขียน Function คำนวณ manhattan ของ ข้อมูล 2 dim"
      ]
    },
    {
      "cell_type": "markdown",
      "metadata": {
        "id": "Ja9UEhrakasB"
      },
      "source": [
        "dist(P1,P2)"
      ]
    },
    {
      "cell_type": "code",
      "metadata": {
        "id": "FgA9GK2akE79"
      },
      "source": [
        "def dist_l1_2(p1,p2):\n",
        "    return (np.abs(p1[0]-p2[0])+np.abs(p1[1]-p2[1]))"
      ],
      "execution_count": 194,
      "outputs": []
    },
    {
      "cell_type": "code",
      "metadata": {
        "id": "xoPy5FLJk_gt",
        "colab": {
          "base_uri": "https://localhost:8080/"
        },
        "outputId": "fbe28680-15b1-484a-8e7d-1fc4402fb200"
      },
      "source": [
        "dist_l1_2(data1[0,:],data1[1,:])"
      ],
      "execution_count": 195,
      "outputs": [
        {
          "output_type": "execute_result",
          "data": {
            "text/plain": [
              "5"
            ]
          },
          "metadata": {},
          "execution_count": 195
        }
      ]
    },
    {
      "cell_type": "markdown",
      "metadata": {
        "id": "mnlCLFRyn5-w"
      },
      "source": [
        "HW11 \n",
        "\n",
        "1. Function คำนวณ manhattan ของ ข้อมูล n dim\n",
        "2. Function คำนวณ L-$\\infty$ ของ ข้อมูล n dim\n",
        "3. Function คำนวณ Distance Matrix ด้วย Euclidean"
      ]
    },
    {
      "cell_type": "code",
      "metadata": {
        "id": "ryKS5olYonRw"
      },
      "source": [
        "#Function คำนวณ manhattan ของ ข้อมูล n dim\n",
        "def dist_l1_n(p1,p2):\n",
        "    sum = 0\n",
        "    for i in range(len(p1)):\n",
        "        sum =sum+np.abs(p1[i]-p2[i])\n",
        "    return (sum)"
      ],
      "execution_count": 196,
      "outputs": []
    },
    {
      "cell_type": "code",
      "metadata": {
        "id": "OXnLsIFvP40z",
        "colab": {
          "base_uri": "https://localhost:8080/"
        },
        "outputId": "7d8a01b0-5941-4feb-8a34-aa59049e243b"
      },
      "source": [
        "dist_l1_n(data1[0,:],data1[1,:])"
      ],
      "execution_count": 197,
      "outputs": [
        {
          "output_type": "execute_result",
          "data": {
            "text/plain": [
              "5"
            ]
          },
          "metadata": {},
          "execution_count": 197
        }
      ]
    },
    {
      "cell_type": "code",
      "metadata": {
        "id": "pB2p9B34Qj3F"
      },
      "source": [
        "#Function คำนวณ L- ∞  ของ ข้อมูล n dim\n",
        "def dist_l3_n(p1,p2):\n",
        "    max=-100000000\n",
        "    for i in range(len(p1)):\n",
        "      max =np.abs(p1[i]-p2[i])\n",
        "    return (max)"
      ],
      "execution_count": 198,
      "outputs": []
    },
    {
      "cell_type": "code",
      "metadata": {
        "id": "TZS5z0ikVNXx",
        "colab": {
          "base_uri": "https://localhost:8080/"
        },
        "outputId": "55f31a21-f1b1-4368-de2b-890967f40130"
      },
      "source": [
        "dist_l3_n(data1[0,:],data1[1,:])"
      ],
      "execution_count": 199,
      "outputs": [
        {
          "output_type": "execute_result",
          "data": {
            "text/plain": [
              "3"
            ]
          },
          "metadata": {},
          "execution_count": 199
        }
      ]
    },
    {
      "cell_type": "code",
      "metadata": {
        "id": "CZ42HGeGIaPv"
      },
      "source": [
        "# เฉลย\n",
        "def dist_Linf_n(p1,p2):\n",
        "    maxv= -10000 #จุดเริ่มต้น\n",
        "    for i in range(len(p1)):\n",
        "        this_dist = np.abs(p1[i]-p2[i]) \n",
        "        if this_dist > maxv:\n",
        "            maxv=this_dist\n",
        "    return maxv"
      ],
      "execution_count": 200,
      "outputs": []
    },
    {
      "cell_type": "code",
      "metadata": {
        "id": "A7ragWzyJkaw",
        "colab": {
          "base_uri": "https://localhost:8080/"
        },
        "outputId": "3ea3bad3-89be-4a82-93ff-78c3518191a7"
      },
      "source": [
        "dist_Linf_n(data1[0,:],data1[2,:])"
      ],
      "execution_count": 201,
      "outputs": [
        {
          "output_type": "execute_result",
          "data": {
            "text/plain": [
              "2"
            ]
          },
          "metadata": {},
          "execution_count": 201
        }
      ]
    },
    {
      "cell_type": "code",
      "metadata": {
        "id": "_qPaQi_-J-6t",
        "colab": {
          "base_uri": "https://localhost:8080/"
        },
        "outputId": "28b1e639-eda0-4706-d63a-506b48511e6a"
      },
      "source": [
        "dist_Linf_n([-20,2,7],[0,5,9])"
      ],
      "execution_count": 202,
      "outputs": [
        {
          "output_type": "execute_result",
          "data": {
            "text/plain": [
              "20"
            ]
          },
          "metadata": {},
          "execution_count": 202
        }
      ]
    },
    {
      "cell_type": "code",
      "metadata": {
        "id": "ITm9ndGjMVHU"
      },
      "source": [
        "#เฉลย\n",
        "def dist_mat_edu(data):\n",
        "    d_mat = np.zeros((data.shape[0],data.shape[0]))\n",
        "    for i in range(data.shape[0]):\n",
        "        for j in range(data.shape[0]):\n",
        "            d_mat[i,j] = dist_l2_n(data[i,:],data[j,:])\n",
        "    return d_mat"
      ],
      "execution_count": 203,
      "outputs": []
    },
    {
      "cell_type": "code",
      "metadata": {
        "id": "lKdVOcnVNY-W",
        "colab": {
          "base_uri": "https://localhost:8080/"
        },
        "outputId": "5863f25f-4c57-4433-e4eb-aca3ca84be66"
      },
      "source": [
        "dist_mat_edu(data1)"
      ],
      "execution_count": 204,
      "outputs": [
        {
          "output_type": "execute_result",
          "data": {
            "text/plain": [
              "array([[0.        , 3.60555128, 2.23606798, 4.24264069],\n",
              "       [3.60555128, 0.        , 5.09901951, 1.        ],\n",
              "       [2.23606798, 5.09901951, 0.        , 5.38516481],\n",
              "       [4.24264069, 1.        , 5.38516481, 0.        ]])"
            ]
          },
          "metadata": {},
          "execution_count": 204
        }
      ]
    },
    {
      "cell_type": "code",
      "metadata": {
        "id": "znJhR-wxplSR"
      },
      "source": [
        ""
      ],
      "execution_count": 204,
      "outputs": []
    },
    {
      "cell_type": "markdown",
      "metadata": {
        "id": "NqyABSOJk4i_"
      },
      "source": [
        "![image.png](data:image/png;base64,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)"
      ]
    },
    {
      "cell_type": "markdown",
      "metadata": {
        "id": "dtVwUtVrkFQN"
      },
      "source": [
        "Cre"
      ]
    },
    {
      "cell_type": "code",
      "metadata": {
        "id": "d8_GTb-6nHdC"
      },
      "source": [
        "import pandas as pd"
      ],
      "execution_count": 206,
      "outputs": []
    },
    {
      "cell_type": "code",
      "metadata": {
        "id": "0YC3nVHjl0et"
      },
      "source": [
        "record = [['Jack',1,1,0,1,0,0,0],\n",
        "                ['Mary',0,1,0,1,0,1,0],\n",
        "                ['Jim',1,1,1,0,0,0,0]]\n",
        "headers = ['Name', 'Gender', 'Fever', 'Cough','Test-1','Test-2','Test-3','Test-4']\n",
        "binary_table = pd.DataFrame.from_records(record, columns=headers)\n"
      ],
      "execution_count": 208,
      "outputs": []
    },
    {
      "cell_type": "code",
      "metadata": {
        "colab": {
          "base_uri": "https://localhost:8080/",
          "height": 143
        },
        "id": "sGnZZvS7nf0t",
        "outputId": "607f72f4-576e-4f59-dcd5-5a2f2d7315ce"
      },
      "source": [
        "binary_table"
      ],
      "execution_count": 209,
      "outputs": [
        {
          "output_type": "execute_result",
          "data": {
            "text/html": [
              "<div>\n",
              "<style scoped>\n",
              "    .dataframe tbody tr th:only-of-type {\n",
              "        vertical-align: middle;\n",
              "    }\n",
              "\n",
              "    .dataframe tbody tr th {\n",
              "        vertical-align: top;\n",
              "    }\n",
              "\n",
              "    .dataframe thead th {\n",
              "        text-align: right;\n",
              "    }\n",
              "</style>\n",
              "<table border=\"1\" class=\"dataframe\">\n",
              "  <thead>\n",
              "    <tr style=\"text-align: right;\">\n",
              "      <th></th>\n",
              "      <th>Name</th>\n",
              "      <th>Gender</th>\n",
              "      <th>Fever</th>\n",
              "      <th>Cough</th>\n",
              "      <th>Test-1</th>\n",
              "      <th>Test-2</th>\n",
              "      <th>Test-3</th>\n",
              "      <th>Test-4</th>\n",
              "    </tr>\n",
              "  </thead>\n",
              "  <tbody>\n",
              "    <tr>\n",
              "      <th>0</th>\n",
              "      <td>Jack</td>\n",
              "      <td>1</td>\n",
              "      <td>1</td>\n",
              "      <td>0</td>\n",
              "      <td>1</td>\n",
              "      <td>0</td>\n",
              "      <td>0</td>\n",
              "      <td>0</td>\n",
              "    </tr>\n",
              "    <tr>\n",
              "      <th>1</th>\n",
              "      <td>Mary</td>\n",
              "      <td>0</td>\n",
              "      <td>1</td>\n",
              "      <td>0</td>\n",
              "      <td>1</td>\n",
              "      <td>0</td>\n",
              "      <td>1</td>\n",
              "      <td>0</td>\n",
              "    </tr>\n",
              "    <tr>\n",
              "      <th>2</th>\n",
              "      <td>Jim</td>\n",
              "      <td>1</td>\n",
              "      <td>1</td>\n",
              "      <td>1</td>\n",
              "      <td>0</td>\n",
              "      <td>0</td>\n",
              "      <td>0</td>\n",
              "      <td>0</td>\n",
              "    </tr>\n",
              "  </tbody>\n",
              "</table>\n",
              "</div>"
            ],
            "text/plain": [
              "   Name  Gender  Fever  Cough  Test-1  Test-2  Test-3  Test-4\n",
              "0  Jack       1      1      0       1       0       0       0\n",
              "1  Mary       0      1      0       1       0       1       0\n",
              "2   Jim       1      1      1       0       0       0       0"
            ]
          },
          "metadata": {},
          "execution_count": 209
        }
      ]
    },
    {
      "cell_type": "code",
      "metadata": {
        "colab": {
          "base_uri": "https://localhost:8080/",
          "height": 132
        },
        "id": "SZnS4xAHnidc",
        "outputId": "8feb1e89-0f55-4ac6-b01f-473e70a49b14"
      },
      "source": [
        "def dist_binary_symmetric(p1,p2):\n",
        "     q = 0\n",
        "     r = 0\n",
        "     s = 0\n",
        "     t = 0\n",
        "    for i in range(len(p1)):\n",
        "    \n",
        "         if (p1[i]==1) and (p2[i]==1):\n",
        "            q=q+1\n",
        "         \n",
        "         if (p1[i]==0) and (p2[i]==1):\n",
        "            r=r+1\n",
        "        \n",
        "        if (p1[i]==1) and (p2[i]==0):\n",
        "            s=s+1\n",
        "         \n",
        "        if (p1[i]==0) and (p2[i]==0):\n",
        "            t=t+1\n",
        "        return (r+s)/(q+r+s+t)\n"
      ],
      "execution_count": 212,
      "outputs": [
        {
          "output_type": "error",
          "ename": "IndentationError",
          "evalue": "ignored",
          "traceback": [
            "\u001b[0;36m  File \u001b[0;32m\"<ipython-input-212-f15e97ac0d73>\"\u001b[0;36m, line \u001b[0;32m6\u001b[0m\n\u001b[0;31m    for i in range(len(p1)):\u001b[0m\n\u001b[0m                            ^\u001b[0m\n\u001b[0;31mIndentationError\u001b[0m\u001b[0;31m:\u001b[0m unindent does not match any outer indentation level\n"
          ]
        }
      ]
    },
    {
      "cell_type": "code",
      "metadata": {
        "id": "z1yqUCHtsJf7"
      },
      "source": [
        ""
      ],
      "execution_count": null,
      "outputs": []
    }
  ]
}