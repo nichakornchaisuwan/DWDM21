{
  "nbformat": 4,
  "nbformat_minor": 0,
  "metadata": {
    "colab": {
      "name": "Data101(chapter2).ipynb",
      "provenance": [],
      "toc_visible": true,
      "authorship_tag": "ABX9TyNft4Ruzb86fhFZJCzC3RZ2",
      "include_colab_link": true
    },
    "kernelspec": {
      "name": "python3",
      "display_name": "Python 3"
    },
    "language_info": {
      "name": "python"
    }
  },
  "cells": [
    {
      "cell_type": "markdown",
      "metadata": {
        "id": "view-in-github",
        "colab_type": "text"
      },
      "source": [
        "<a href=\"https://colab.research.google.com/github/nichakornchaisuwan/DWDM21/blob/main/Data101(chapter2).ipynb\" target=\"_parent\"><img src=\"https://colab.research.google.com/assets/colab-badge.svg\" alt=\"Open In Colab\"/></a>"
      ]
    },
    {
      "cell_type": "markdown",
      "metadata": {
        "id": "MQi-stE6z2Ir"
      },
      "source": [
        "ข้อความที่อยู่ใน textbox จะอยู่ในภาษา Markdown"
      ]
    },
    {
      "cell_type": "markdown",
      "metadata": {
        "id": "q97y6e1Ntu-G"
      },
      "source": [
        "ข้อดีของ python คือมี package สำหรับทำงานต่างๆ ซึ่ง pandas เป็น package \n",
        "\n",
        "สำหรับการทำงานกับข้อมูลที่อยู่ในรูปแบบตาราง  โดย pandas จะเรียกตารางนั้นว่า dataframe"
      ]
    },
    {
      "cell_type": "code",
      "metadata": {
        "id": "wmsPitc1rzy1"
      },
      "source": [
        "import pandas #วิธีเรียกใช้ Package คือ import ตามด้วยชื่อ package"
      ],
      "execution_count": null,
      "outputs": []
    },
    {
      "cell_type": "code",
      "metadata": {
        "id": "CcoQEgJatCiO"
      },
      "source": [
        "import pandas as pd # เหมือนกับข้างบน แต่มีการตั้งชื่อให้ package ที่โหลดมาใหม่ว่า pd"
      ],
      "execution_count": null,
      "outputs": []
    },
    {
      "cell_type": "markdown",
      "metadata": {
        "id": "xaql8Ps6utUD"
      },
      "source": [
        "ไฟล์ที่จะได้เจอเป็นหลัก คือ ไฟล์ .VSC = comma spparated values \n",
        "\n",
        "ข้อดี เป็นไฟล์ที่เก็บข้อมูลตาราง อ่านง่าย เข้าใจง่าย "
      ]
    },
    {
      "cell_type": "code",
      "metadata": {
        "id": "BlzC6oB2uf1p"
      },
      "source": [
        "data_df = pd.read_csv('data.csv')"
      ],
      "execution_count": null,
      "outputs": []
    },
    {
      "cell_type": "code",
      "metadata": {
        "colab": {
          "base_uri": "https://localhost:8080/",
          "height": 142
        },
        "id": "dORP7SQIxNug",
        "outputId": "c899e620-dd0b-4a58-f78f-e9f45584c3ba"
      },
      "source": [
        "data_df"
      ],
      "execution_count": null,
      "outputs": [
        {
          "output_type": "execute_result",
          "data": {
            "text/html": [
              "<div>\n",
              "<style scoped>\n",
              "    .dataframe tbody tr th:only-of-type {\n",
              "        vertical-align: middle;\n",
              "    }\n",
              "\n",
              "    .dataframe tbody tr th {\n",
              "        vertical-align: top;\n",
              "    }\n",
              "\n",
              "    .dataframe thead th {\n",
              "        text-align: right;\n",
              "    }\n",
              "</style>\n",
              "<table border=\"1\" class=\"dataframe\">\n",
              "  <thead>\n",
              "    <tr style=\"text-align: right;\">\n",
              "      <th></th>\n",
              "      <th>name</th>\n",
              "      <th>age</th>\n",
              "      <th>city</th>\n",
              "    </tr>\n",
              "  </thead>\n",
              "  <tbody>\n",
              "    <tr>\n",
              "      <th>0</th>\n",
              "      <td>Tom</td>\n",
              "      <td>27</td>\n",
              "      <td>Khon Kean</td>\n",
              "    </tr>\n",
              "    <tr>\n",
              "      <th>1</th>\n",
              "      <td>Paul</td>\n",
              "      <td>15</td>\n",
              "      <td>Bangkok</td>\n",
              "    </tr>\n",
              "    <tr>\n",
              "      <th>2</th>\n",
              "      <td>Sarah</td>\n",
              "      <td>49</td>\n",
              "      <td>London</td>\n",
              "    </tr>\n",
              "  </tbody>\n",
              "</table>\n",
              "</div>"
            ],
            "text/plain": [
              "    name  age       city\n",
              "0    Tom   27  Khon Kean\n",
              "1   Paul   15    Bangkok\n",
              "2  Sarah   49     London"
            ]
          },
          "metadata": {
            "tags": []
          },
          "execution_count": 5
        }
      ]
    },
    {
      "cell_type": "code",
      "metadata": {
        "colab": {
          "base_uri": "https://localhost:8080/",
          "height": 142
        },
        "id": "gy2CUWPyxPU4",
        "outputId": "2ae733d7-96a2-4890-bbbc-35e821cf4a32"
      },
      "source": [
        "data_df2 = pandas.read_csv('data.csv')\n",
        "data_df2"
      ],
      "execution_count": null,
      "outputs": [
        {
          "output_type": "execute_result",
          "data": {
            "text/html": [
              "<div>\n",
              "<style scoped>\n",
              "    .dataframe tbody tr th:only-of-type {\n",
              "        vertical-align: middle;\n",
              "    }\n",
              "\n",
              "    .dataframe tbody tr th {\n",
              "        vertical-align: top;\n",
              "    }\n",
              "\n",
              "    .dataframe thead th {\n",
              "        text-align: right;\n",
              "    }\n",
              "</style>\n",
              "<table border=\"1\" class=\"dataframe\">\n",
              "  <thead>\n",
              "    <tr style=\"text-align: right;\">\n",
              "      <th></th>\n",
              "      <th>name</th>\n",
              "      <th>age</th>\n",
              "      <th>city</th>\n",
              "    </tr>\n",
              "  </thead>\n",
              "  <tbody>\n",
              "    <tr>\n",
              "      <th>0</th>\n",
              "      <td>Tom</td>\n",
              "      <td>27</td>\n",
              "      <td>Khon Kean</td>\n",
              "    </tr>\n",
              "    <tr>\n",
              "      <th>1</th>\n",
              "      <td>Paul</td>\n",
              "      <td>15</td>\n",
              "      <td>Bangkok</td>\n",
              "    </tr>\n",
              "    <tr>\n",
              "      <th>2</th>\n",
              "      <td>Sarah</td>\n",
              "      <td>49</td>\n",
              "      <td>London</td>\n",
              "    </tr>\n",
              "  </tbody>\n",
              "</table>\n",
              "</div>"
            ],
            "text/plain": [
              "    name  age       city\n",
              "0    Tom   27  Khon Kean\n",
              "1   Paul   15    Bangkok\n",
              "2  Sarah   49     London"
            ]
          },
          "metadata": {
            "tags": []
          },
          "execution_count": 6
        }
      ]
    },
    {
      "cell_type": "markdown",
      "metadata": {
        "id": "aiadhQWmyh-A"
      },
      "source": [
        "#Basic python"
      ]
    },
    {
      "cell_type": "markdown",
      "metadata": {
        "id": "rm6cQx9f0H8z"
      },
      "source": [
        "## Variables\n",
        "\n",
        "-ข้อจำกัด การตั้งชื่อตัวแปรห้ามมีเว้นวรรค\n",
        "\n",
        "-ใช้ภาษาอังกฤษ พยายามใช้ภาษาอังกฤษ\n",
        "\n",
        "-ตัวเล็กกับตัวใหญ่แตกต่างกัน มีความหมายคนละตัวแปร (case sensitive)\n",
        "\n",
        "-ห้ามใช้ตัวเลขเป็นตัวหน้า"
      ]
    },
    {
      "cell_type": "markdown",
      "metadata": {
        "id": "Uvx_m_Q-0PFy"
      },
      "source": [
        ""
      ]
    },
    {
      "cell_type": "code",
      "metadata": {
        "id": "CUsiCGnwyQub"
      },
      "source": [
        "variable_a =12 #ตัวเลข\n",
        "variable_b ='abcde' #'เรียกว่า quote string\n",
        "variable_c = variable_a #ไม่มีโค๊ด"
      ],
      "execution_count": null,
      "outputs": []
    },
    {
      "cell_type": "code",
      "metadata": {
        "colab": {
          "base_uri": "https://localhost:8080/"
        },
        "id": "Ir12dKve1O-l",
        "outputId": "e6cfdb40-0d4a-4bed-e948-804c98a5b689"
      },
      "source": [
        "variable_a"
      ],
      "execution_count": null,
      "outputs": [
        {
          "output_type": "execute_result",
          "data": {
            "text/plain": [
              "12"
            ]
          },
          "metadata": {
            "tags": []
          },
          "execution_count": 8
        }
      ]
    },
    {
      "cell_type": "code",
      "metadata": {
        "colab": {
          "base_uri": "https://localhost:8080/",
          "height": 35
        },
        "id": "to7_pxN61RMX",
        "outputId": "ddc25218-fee1-446d-df66-efdf2601c9b6"
      },
      "source": [
        "variable_b"
      ],
      "execution_count": null,
      "outputs": [
        {
          "output_type": "execute_result",
          "data": {
            "application/vnd.google.colaboratory.intrinsic+json": {
              "type": "string"
            },
            "text/plain": [
              "'abcde'"
            ]
          },
          "metadata": {
            "tags": []
          },
          "execution_count": 9
        }
      ]
    },
    {
      "cell_type": "code",
      "metadata": {
        "colab": {
          "base_uri": "https://localhost:8080/"
        },
        "id": "pnuH64E11VXw",
        "outputId": "32a3c16d-263c-4a33-b071-f7a8aa672178"
      },
      "source": [
        "variable_c"
      ],
      "execution_count": null,
      "outputs": [
        {
          "output_type": "execute_result",
          "data": {
            "text/plain": [
              "12"
            ]
          },
          "metadata": {
            "tags": []
          },
          "execution_count": 10
        }
      ]
    },
    {
      "cell_type": "code",
      "metadata": {
        "colab": {
          "base_uri": "https://localhost:8080/",
          "height": 132
        },
        "id": "H0KDCyKo1Wpk",
        "outputId": "ba40a3b9-25f8-4635-fae3-71111721a8cb"
      },
      "source": [
        "variable a = 6 #เพราะเว้นวรรค"
      ],
      "execution_count": null,
      "outputs": [
        {
          "output_type": "error",
          "ename": "SyntaxError",
          "evalue": "ignored",
          "traceback": [
            "\u001b[0;36m  File \u001b[0;32m\"<ipython-input-11-7573aab9ef5a>\"\u001b[0;36m, line \u001b[0;32m1\u001b[0m\n\u001b[0;31m    variable a = 6 #เพราะเว้นวรรค\u001b[0m\n\u001b[0m             ^\u001b[0m\n\u001b[0;31mSyntaxError\u001b[0m\u001b[0;31m:\u001b[0m invalid syntax\n"
          ]
        }
      ]
    },
    {
      "cell_type": "code",
      "metadata": {
        "colab": {
          "base_uri": "https://localhost:8080/"
        },
        "id": "kJg_Nazd2L0L",
        "outputId": "2b9b1220-0228-463a-eb3c-551e2bd92ec1"
      },
      "source": [
        "ตัวแปร = 3 #ไม่ควรใช้ภาษาไทย\n",
        "ตัวแปร"
      ],
      "execution_count": null,
      "outputs": [
        {
          "output_type": "execute_result",
          "data": {
            "text/plain": [
              "3"
            ]
          },
          "metadata": {
            "tags": []
          },
          "execution_count": 12
        }
      ]
    },
    {
      "cell_type": "code",
      "metadata": {
        "colab": {
          "base_uri": "https://localhost:8080/"
        },
        "id": "0swv1Emb2g3V",
        "outputId": "d57ec769-8a3f-4368-c8c6-f278dd8e9e72"
      },
      "source": [
        "#ตัวเล็กกับตัวใหญ่แตกต่างกัน มีความหมายคนละตัวแปร (case sensitive)\n",
        "v_a =1\n",
        "V_a =2\n",
        "print(v_a)\n",
        "print(V_a)"
      ],
      "execution_count": null,
      "outputs": [
        {
          "output_type": "stream",
          "text": [
            "1\n",
            "2\n"
          ],
          "name": "stdout"
        }
      ]
    },
    {
      "cell_type": "code",
      "metadata": {
        "colab": {
          "base_uri": "https://localhost:8080/"
        },
        "id": "8gOBUqr43Gvk",
        "outputId": "b841a29c-fa86-4b16-c582-8df0444acac0"
      },
      "source": [
        "v_a =1 #ใช้ตัวแปรเดียวกัน การแสดงผลค่าเลยทับซ้อนกันไป\n",
        "v_a =2\n",
        "print(v_a)\n",
        "print(v_a)"
      ],
      "execution_count": null,
      "outputs": [
        {
          "output_type": "stream",
          "text": [
            "2\n",
            "2\n"
          ],
          "name": "stdout"
        }
      ]
    },
    {
      "cell_type": "code",
      "metadata": {
        "colab": {
          "base_uri": "https://localhost:8080/",
          "height": 132
        },
        "id": "dlwQTghc3Xtv",
        "outputId": "1e3b899e-06cc-44e2-af0a-f75a5fd99083"
      },
      "source": [
        "#ห้ามใช้ตัวเลขเป็นชื่อตัวแปร\n",
        "2=1"
      ],
      "execution_count": null,
      "outputs": [
        {
          "output_type": "error",
          "ename": "SyntaxError",
          "evalue": "ignored",
          "traceback": [
            "\u001b[0;36m  File \u001b[0;32m\"<ipython-input-15-e9cd8b78a4b6>\"\u001b[0;36m, line \u001b[0;32m2\u001b[0m\n\u001b[0;31m    2=1\u001b[0m\n\u001b[0m       ^\u001b[0m\n\u001b[0;31mSyntaxError\u001b[0m\u001b[0;31m:\u001b[0m can't assign to literal\n"
          ]
        }
      ]
    },
    {
      "cell_type": "code",
      "metadata": {
        "colab": {
          "base_uri": "https://localhost:8080/",
          "height": 132
        },
        "id": "TTJae8M73rh6",
        "outputId": "6b95ba8c-96ed-4bf8-b061-daa75fe2d381"
      },
      "source": [
        "2ab=1 #ห้ามใช้ตัวเลขเป็นตัวหน้า"
      ],
      "execution_count": null,
      "outputs": [
        {
          "output_type": "error",
          "ename": "SyntaxError",
          "evalue": "ignored",
          "traceback": [
            "\u001b[0;36m  File \u001b[0;32m\"<ipython-input-16-d4a54ce931cb>\"\u001b[0;36m, line \u001b[0;32m1\u001b[0m\n\u001b[0;31m    2ab=1 #ห้ามใช้ตัวเลขเป็นตัวหน้า\u001b[0m\n\u001b[0m      ^\u001b[0m\n\u001b[0;31mSyntaxError\u001b[0m\u001b[0;31m:\u001b[0m invalid syntax\n"
          ]
        }
      ]
    },
    {
      "cell_type": "code",
      "metadata": {
        "colab": {
          "base_uri": "https://localhost:8080/"
        },
        "id": "JD-bKnZo3ujs",
        "outputId": "396a06b0-d1aa-4a4f-d2b8-d455f09b740c"
      },
      "source": [
        "variable =1\n",
        "print(variable)"
      ],
      "execution_count": null,
      "outputs": [
        {
          "output_type": "stream",
          "text": [
            "1\n"
          ],
          "name": "stdout"
        }
      ]
    },
    {
      "cell_type": "code",
      "metadata": {
        "id": "D5x3HGJG37CK"
      },
      "source": [
        "variable_a =12 #ตัวเลข\n",
        "variable_b ='abcde' #'เรียกว่า quote string\n",
        "variable_c = variable_a #ไม่มีโค๊ด\n",
        "variable_d = -41.2\n",
        "variable_4 = \"KKU\" # \"\" เรียกว่า double quote"
      ],
      "execution_count": null,
      "outputs": []
    },
    {
      "cell_type": "code",
      "metadata": {
        "colab": {
          "base_uri": "https://localhost:8080/"
        },
        "id": "qnjEgMBW4iQ1",
        "outputId": "2d3bdcd1-7e78-4385-cf08-df954fc952e9"
      },
      "source": [
        "variable_x = variable_c + variable_d\n",
        "print(variable_x)"
      ],
      "execution_count": null,
      "outputs": [
        {
          "output_type": "stream",
          "text": [
            "-29.200000000000003\n"
          ],
          "name": "stdout"
        }
      ]
    },
    {
      "cell_type": "code",
      "metadata": {
        "colab": {
          "base_uri": "https://localhost:8080/",
          "height": 132
        },
        "id": "ipeV8Gn24ruT",
        "outputId": "2c75a193-6f27-48ba-b18a-6767bf96a69d"
      },
      "source": [
        "variable_a+variable_b int + string บวกกันไม่ได้"
      ],
      "execution_count": null,
      "outputs": [
        {
          "output_type": "error",
          "ename": "SyntaxError",
          "evalue": "ignored",
          "traceback": [
            "\u001b[0;36m  File \u001b[0;32m\"<ipython-input-20-da14d9fbc05c>\"\u001b[0;36m, line \u001b[0;32m1\u001b[0m\n\u001b[0;31m    variable_a+variable_b int + string บวกกันไม่ได้\u001b[0m\n\u001b[0m                            ^\u001b[0m\n\u001b[0;31mSyntaxError\u001b[0m\u001b[0;31m:\u001b[0m invalid syntax\n"
          ]
        }
      ]
    },
    {
      "cell_type": "code",
      "metadata": {
        "colab": {
          "base_uri": "https://localhost:8080/"
        },
        "id": "naw30WAA6MaK",
        "outputId": "8affc920-b9b1-49ac-fcc4-a5f89d764130"
      },
      "source": [
        "print(variable_b+variable_4)"
      ],
      "execution_count": null,
      "outputs": [
        {
          "output_type": "stream",
          "text": [
            "abcdeKKU\n"
          ],
          "name": "stdout"
        }
      ]
    },
    {
      "cell_type": "markdown",
      "metadata": {
        "id": "6CUwwXuj7BpW"
      },
      "source": [
        "##Casting int() flat() Str()"
      ]
    },
    {
      "cell_type": "code",
      "metadata": {
        "colab": {
          "base_uri": "https://localhost:8080/"
        },
        "id": "A9IDtJ5n6ifK",
        "outputId": "502c2883-7104-4026-c3a2-b3324f34f242"
      },
      "source": [
        "print (variable_x)\n",
        "print(int(variable_x))"
      ],
      "execution_count": null,
      "outputs": [
        {
          "output_type": "stream",
          "text": [
            "-29.200000000000003\n",
            "-29\n"
          ],
          "name": "stdout"
        }
      ]
    },
    {
      "cell_type": "code",
      "metadata": {
        "colab": {
          "base_uri": "https://localhost:8080/"
        },
        "id": "cYV2d3BE7Ugd",
        "outputId": "8a26558b-b67a-48f0-962e-7c93b5f497a0"
      },
      "source": [
        "V_x = str(variable_x)\n",
        "print(V_x)"
      ],
      "execution_count": null,
      "outputs": [
        {
          "output_type": "stream",
          "text": [
            "-29.200000000000003\n"
          ],
          "name": "stdout"
        }
      ]
    },
    {
      "cell_type": "code",
      "metadata": {
        "colab": {
          "base_uri": "https://localhost:8080/",
          "height": 167
        },
        "id": "wCoQQY6z7nwb",
        "outputId": "b430bd58-25a8-4404-c768-1bbea1cd8f99"
      },
      "source": [
        "V_x + variable_a"
      ],
      "execution_count": null,
      "outputs": [
        {
          "output_type": "error",
          "ename": "TypeError",
          "evalue": "ignored",
          "traceback": [
            "\u001b[0;31m---------------------------------------------------------------------------\u001b[0m",
            "\u001b[0;31mTypeError\u001b[0m                                 Traceback (most recent call last)",
            "\u001b[0;32m<ipython-input-24-117aa9578ab0>\u001b[0m in \u001b[0;36m<module>\u001b[0;34m()\u001b[0m\n\u001b[0;32m----> 1\u001b[0;31m \u001b[0mV_x\u001b[0m \u001b[0;34m+\u001b[0m \u001b[0mvariable_a\u001b[0m\u001b[0;34m\u001b[0m\u001b[0;34m\u001b[0m\u001b[0m\n\u001b[0m",
            "\u001b[0;31mTypeError\u001b[0m: can only concatenate str (not \"int\") to str"
          ]
        }
      ]
    },
    {
      "cell_type": "code",
      "metadata": {
        "colab": {
          "base_uri": "https://localhost:8080/",
          "height": 167
        },
        "id": "jeiszQI18DGd",
        "outputId": "aff7114d-59bd-40a8-fef6-1d27e5bcf151"
      },
      "source": [
        "variable_a + V_x"
      ],
      "execution_count": null,
      "outputs": [
        {
          "output_type": "error",
          "ename": "TypeError",
          "evalue": "ignored",
          "traceback": [
            "\u001b[0;31m---------------------------------------------------------------------------\u001b[0m",
            "\u001b[0;31mTypeError\u001b[0m                                 Traceback (most recent call last)",
            "\u001b[0;32m<ipython-input-25-fd54cd903106>\u001b[0m in \u001b[0;36m<module>\u001b[0;34m()\u001b[0m\n\u001b[0;32m----> 1\u001b[0;31m \u001b[0mvariable_a\u001b[0m \u001b[0;34m+\u001b[0m \u001b[0mV_x\u001b[0m\u001b[0;34m\u001b[0m\u001b[0;34m\u001b[0m\u001b[0m\n\u001b[0m",
            "\u001b[0;31mTypeError\u001b[0m: unsupported operand type(s) for +: 'int' and 'str'"
          ]
        }
      ]
    },
    {
      "cell_type": "code",
      "metadata": {
        "colab": {
          "base_uri": "https://localhost:8080/",
          "height": 35
        },
        "id": "VG0H4N9c8GWq",
        "outputId": "fc333ffe-f930-4a91-b293-a3cce6fa1791"
      },
      "source": [
        "V_x"
      ],
      "execution_count": null,
      "outputs": [
        {
          "output_type": "execute_result",
          "data": {
            "application/vnd.google.colaboratory.intrinsic+json": {
              "type": "string"
            },
            "text/plain": [
              "'-29.200000000000003'"
            ]
          },
          "metadata": {
            "tags": []
          },
          "execution_count": 26
        }
      ]
    },
    {
      "cell_type": "code",
      "metadata": {
        "colab": {
          "base_uri": "https://localhost:8080/"
        },
        "id": "iYubxK7Y8Xan",
        "outputId": "b888ac5c-bb20-4c48-9f67-afeb141ac063"
      },
      "source": [
        "float(V_x)"
      ],
      "execution_count": null,
      "outputs": [
        {
          "output_type": "execute_result",
          "data": {
            "text/plain": [
              "-29.200000000000003"
            ]
          },
          "metadata": {
            "tags": []
          },
          "execution_count": 27
        }
      ]
    },
    {
      "cell_type": "markdown",
      "metadata": {
        "id": "CAUEKylg8uzn"
      },
      "source": [
        "## Data structture"
      ]
    },
    {
      "cell_type": "markdown",
      "metadata": {
        "id": "qhTm0Z0f9E8B"
      },
      "source": [
        "###list()\n"
      ]
    },
    {
      "cell_type": "markdown",
      "metadata": {
        "id": "Yuk5Fe_v9OG5"
      },
      "source": [
        ""
      ]
    },
    {
      "cell_type": "code",
      "metadata": {
        "id": "LKDDvdHt8mbM"
      },
      "source": [
        "list_a = [1,2,0.2,'abs'] #square brackets\n",
        "list_b = [2,'xyz',list_a,[1,2,0.0]]"
      ],
      "execution_count": null,
      "outputs": []
    },
    {
      "cell_type": "code",
      "metadata": {
        "colab": {
          "base_uri": "https://localhost:8080/"
        },
        "id": "AJ3u9Po69hF4",
        "outputId": "65e97918-c23e-4eba-fb2f-7ecd71883913"
      },
      "source": [
        "list_a"
      ],
      "execution_count": null,
      "outputs": [
        {
          "output_type": "execute_result",
          "data": {
            "text/plain": [
              "[1, 2, 0.2, 'abs']"
            ]
          },
          "metadata": {
            "tags": []
          },
          "execution_count": 29
        }
      ]
    },
    {
      "cell_type": "code",
      "metadata": {
        "colab": {
          "base_uri": "https://localhost:8080/"
        },
        "id": "pEi3nFR699p1",
        "outputId": "6e66d4a3-52bf-4781-c3a0-8631cb16a139"
      },
      "source": [
        "list_b"
      ],
      "execution_count": null,
      "outputs": [
        {
          "output_type": "execute_result",
          "data": {
            "text/plain": [
              "[2, 'xyz', [1, 2, 0.2, 'abs'], [1, 2, 0.0]]"
            ]
          },
          "metadata": {
            "tags": []
          },
          "execution_count": 30
        }
      ]
    },
    {
      "cell_type": "code",
      "metadata": {
        "colab": {
          "base_uri": "https://localhost:8080/"
        },
        "id": "24HgTnqr-Bgx",
        "outputId": "e2b09e09-735e-416b-9878-c9fefcce537e"
      },
      "source": [
        "len(list_b)"
      ],
      "execution_count": null,
      "outputs": [
        {
          "output_type": "execute_result",
          "data": {
            "text/plain": [
              "4"
            ]
          },
          "metadata": {
            "tags": []
          },
          "execution_count": 31
        }
      ]
    },
    {
      "cell_type": "code",
      "metadata": {
        "colab": {
          "base_uri": "https://localhost:8080/"
        },
        "id": "BQwAGW7F-MOz",
        "outputId": "5b902821-c503-4b7b-8611-6d9fb6cce367"
      },
      "source": [
        "list_b[3]"
      ],
      "execution_count": null,
      "outputs": [
        {
          "output_type": "execute_result",
          "data": {
            "text/plain": [
              "[1, 2, 0.0]"
            ]
          },
          "metadata": {
            "tags": []
          },
          "execution_count": 32
        }
      ]
    },
    {
      "cell_type": "code",
      "metadata": {
        "colab": {
          "base_uri": "https://localhost:8080/"
        },
        "id": "qFAekcQu-ctF",
        "outputId": "5da4b7fa-44de-420e-ab8f-6657632b7937"
      },
      "source": [
        "list_b[3][1]"
      ],
      "execution_count": null,
      "outputs": [
        {
          "output_type": "execute_result",
          "data": {
            "text/plain": [
              "2"
            ]
          },
          "metadata": {
            "tags": []
          },
          "execution_count": 33
        }
      ]
    },
    {
      "cell_type": "markdown",
      "metadata": {
        "id": "XAO_Fsmw-4Fn"
      },
      "source": [
        "String คือ list ของตัวหน้งสือ"
      ]
    },
    {
      "cell_type": "code",
      "metadata": {
        "id": "w1qPpkXm-k4s"
      },
      "source": [
        "a = 'Stat KKU'"
      ],
      "execution_count": null,
      "outputs": []
    },
    {
      "cell_type": "code",
      "metadata": {
        "colab": {
          "base_uri": "https://localhost:8080/"
        },
        "id": "kkemcIAJ_EJ6",
        "outputId": "73009a33-69e8-477c-931c-306c5f5ee060"
      },
      "source": [
        "a[4]"
      ],
      "execution_count": null,
      "outputs": [
        {
          "output_type": "execute_result",
          "data": {
            "application/vnd.google.colaboratory.intrinsic+json": {
              "type": "string"
            },
            "text/plain": [
              "' '"
            ]
          },
          "metadata": {
            "tags": []
          },
          "execution_count": 35
        }
      ]
    },
    {
      "cell_type": "markdown",
      "metadata": {
        "id": "PxV2bsZz_eH0"
      },
      "source": [
        "วิธีสร้าง list แบบที่2 การสร้าง list ว่าง"
      ]
    },
    {
      "cell_type": "code",
      "metadata": {
        "id": "0bRhUhsj_HDm"
      },
      "source": [
        "list_c = list()\n",
        "list_d = []"
      ],
      "execution_count": null,
      "outputs": []
    },
    {
      "cell_type": "code",
      "metadata": {
        "colab": {
          "base_uri": "https://localhost:8080/"
        },
        "id": "KcZLJFXl_4Jf",
        "outputId": "7bdf24c5-3ff1-422b-afde-d9902e1b7a92"
      },
      "source": [
        "list_c"
      ],
      "execution_count": null,
      "outputs": [
        {
          "output_type": "execute_result",
          "data": {
            "text/plain": [
              "[]"
            ]
          },
          "metadata": {
            "tags": []
          },
          "execution_count": 37
        }
      ]
    },
    {
      "cell_type": "code",
      "metadata": {
        "colab": {
          "base_uri": "https://localhost:8080/"
        },
        "id": "si7RvsHE_6aY",
        "outputId": "aedac6e9-5fee-4365-862d-cd8dd4d14b2a"
      },
      "source": [
        "list_d"
      ],
      "execution_count": null,
      "outputs": [
        {
          "output_type": "execute_result",
          "data": {
            "text/plain": [
              "[]"
            ]
          },
          "metadata": {
            "tags": []
          },
          "execution_count": 38
        }
      ]
    },
    {
      "cell_type": "markdown",
      "metadata": {
        "id": "GKGtmAn-AkBk"
      },
      "source": [
        "การเติมค่าลงไปใน list คือ . append"
      ]
    },
    {
      "cell_type": "code",
      "metadata": {
        "id": "ZkoUuK0J_8F8"
      },
      "source": [
        "list_d.append('a')"
      ],
      "execution_count": null,
      "outputs": []
    },
    {
      "cell_type": "code",
      "metadata": {
        "colab": {
          "base_uri": "https://localhost:8080/"
        },
        "id": "AXpvQwYnAwJS",
        "outputId": "414b7c96-69b3-43f8-ce31-96f187e1680a"
      },
      "source": [
        "list_d"
      ],
      "execution_count": null,
      "outputs": [
        {
          "output_type": "execute_result",
          "data": {
            "text/plain": [
              "['a']"
            ]
          },
          "metadata": {
            "tags": []
          },
          "execution_count": 40
        }
      ]
    },
    {
      "cell_type": "code",
      "metadata": {
        "id": "WTE0-bOPAyRQ"
      },
      "source": [
        "list_d.append(56)"
      ],
      "execution_count": null,
      "outputs": []
    },
    {
      "cell_type": "code",
      "metadata": {
        "colab": {
          "base_uri": "https://localhost:8080/"
        },
        "id": "CuAWKQ6ZA2_b",
        "outputId": "ba152140-a149-4ea3-befa-533e463e4e5c"
      },
      "source": [
        "list_d"
      ],
      "execution_count": null,
      "outputs": [
        {
          "output_type": "execute_result",
          "data": {
            "text/plain": [
              "['a', 56]"
            ]
          },
          "metadata": {
            "tags": []
          },
          "execution_count": 42
        }
      ]
    },
    {
      "cell_type": "code",
      "metadata": {
        "id": "g4y4soNJA5Nq"
      },
      "source": [
        ""
      ],
      "execution_count": null,
      "outputs": []
    },
    {
      "cell_type": "markdown",
      "metadata": {
        "id": "W4oQvTRQBGgn"
      },
      "source": [
        "การชี้ค่าใน list (indexing)\n",
        "\n",
        "-ใช้ลำดับในการชี้\n",
        "\n",
        "-ลำดับเริ่มจาก 0\n",
        "\n",
        "-สามารถชี้จากข้างหลังได้โดยใช้ nagative index"
      ]
    },
    {
      "cell_type": "code",
      "metadata": {
        "colab": {
          "base_uri": "https://localhost:8080/"
        },
        "id": "tx0w10hWBbho",
        "outputId": "0dddcaaa-11da-4bf7-b78d-e58d61519dbe"
      },
      "source": [
        "list_b"
      ],
      "execution_count": null,
      "outputs": [
        {
          "output_type": "execute_result",
          "data": {
            "text/plain": [
              "[2, 'xyz', [1, 2, 0.2, 'abs'], [1, 2, 0.0]]"
            ]
          },
          "metadata": {
            "tags": []
          },
          "execution_count": 43
        }
      ]
    },
    {
      "cell_type": "code",
      "metadata": {
        "colab": {
          "base_uri": "https://localhost:8080/"
        },
        "id": "wMnVW05oBc6B",
        "outputId": "f2114034-5ddd-4acc-9e60-cd8fa1a417f2"
      },
      "source": [
        "list_b[-1]"
      ],
      "execution_count": null,
      "outputs": [
        {
          "output_type": "execute_result",
          "data": {
            "text/plain": [
              "[1, 2, 0.0]"
            ]
          },
          "metadata": {
            "tags": []
          },
          "execution_count": 44
        }
      ]
    },
    {
      "cell_type": "markdown",
      "metadata": {
        "id": "2l3sDSZCCLG1"
      },
      "source": [
        "###list slicing "
      ]
    },
    {
      "cell_type": "code",
      "metadata": {
        "id": "El5WM0ErBfmY"
      },
      "source": [
        "list_ex = [1,2,3,5,6,8,-1,20,50,0]"
      ],
      "execution_count": null,
      "outputs": []
    },
    {
      "cell_type": "code",
      "metadata": {
        "colab": {
          "base_uri": "https://localhost:8080/"
        },
        "id": "xmhUblEOCc0C",
        "outputId": "b6b3959a-f954-4de6-9a00-7a273f9a610d"
      },
      "source": [
        "list_ex[1:6] #เราจะตัด list โดยเอาตั้งแต่ [ตัวหน้า : ตัวก่อนตัวหลัง]"
      ],
      "execution_count": null,
      "outputs": [
        {
          "output_type": "execute_result",
          "data": {
            "text/plain": [
              "[2, 3, 5, 6, 8]"
            ]
          },
          "metadata": {
            "tags": []
          },
          "execution_count": 46
        }
      ]
    },
    {
      "cell_type": "code",
      "metadata": {
        "colab": {
          "base_uri": "https://localhost:8080/"
        },
        "id": "qS9Z0T17CjxP",
        "outputId": "ddfd67ca-7dd8-4f09-a9fc-c2b32c4a408f"
      },
      "source": [
        "list_ex[4:]"
      ],
      "execution_count": null,
      "outputs": [
        {
          "output_type": "execute_result",
          "data": {
            "text/plain": [
              "[6, 8, -1, 20, 50, 0]"
            ]
          },
          "metadata": {
            "tags": []
          },
          "execution_count": 47
        }
      ]
    },
    {
      "cell_type": "code",
      "metadata": {
        "colab": {
          "base_uri": "https://localhost:8080/"
        },
        "id": "bXkrknX4DaAm",
        "outputId": "06efe1d3-8200-4262-b028-6508bb11190f"
      },
      "source": [
        "list_ex[:6]"
      ],
      "execution_count": null,
      "outputs": [
        {
          "output_type": "execute_result",
          "data": {
            "text/plain": [
              "[1, 2, 3, 5, 6, 8]"
            ]
          },
          "metadata": {
            "tags": []
          },
          "execution_count": 48
        }
      ]
    },
    {
      "cell_type": "markdown",
      "metadata": {
        "id": "u_aYEQfHELSZ"
      },
      "source": [
        "[จุดเริ่มต้น:จุดสุดท้าย:Step]"
      ]
    },
    {
      "cell_type": "code",
      "metadata": {
        "colab": {
          "base_uri": "https://localhost:8080/"
        },
        "id": "d-4Eli-SDj3f",
        "outputId": "9ac44b39-d2cd-4285-c944-005d6037f6f8"
      },
      "source": [
        "list_ex[::2]"
      ],
      "execution_count": null,
      "outputs": [
        {
          "output_type": "execute_result",
          "data": {
            "text/plain": [
              "[1, 3, 6, -1, 50]"
            ]
          },
          "metadata": {
            "tags": []
          },
          "execution_count": 49
        }
      ]
    },
    {
      "cell_type": "code",
      "metadata": {
        "colab": {
          "base_uri": "https://localhost:8080/"
        },
        "id": "gYL-Co1AEWe6",
        "outputId": "c12623f9-aedf-4e27-b7a7-ee0721746cb1"
      },
      "source": [
        "list_ex[::-1] #กลับlist"
      ],
      "execution_count": null,
      "outputs": [
        {
          "output_type": "execute_result",
          "data": {
            "text/plain": [
              "[0, 50, 20, -1, 8, 6, 5, 3, 2, 1]"
            ]
          },
          "metadata": {
            "tags": []
          },
          "execution_count": 50
        }
      ]
    },
    {
      "cell_type": "code",
      "metadata": {
        "colab": {
          "base_uri": "https://localhost:8080/"
        },
        "id": "0RLTwg26EowP",
        "outputId": "d7dd1e6d-574e-4383-fae5-5cf11e13f5d5"
      },
      "source": [
        "a"
      ],
      "execution_count": null,
      "outputs": [
        {
          "output_type": "execute_result",
          "data": {
            "application/vnd.google.colaboratory.intrinsic+json": {
              "type": "string"
            },
            "text/plain": [
              "'Stat KKU'"
            ]
          },
          "metadata": {
            "tags": []
          },
          "execution_count": 51
        }
      ]
    },
    {
      "cell_type": "code",
      "metadata": {
        "colab": {
          "base_uri": "https://localhost:8080/"
        },
        "id": "Jvp8Ukg6E5Bm",
        "outputId": "85f9de6d-2a38-458a-ac33-a02bb6da5ead"
      },
      "source": [
        "a[:4]"
      ],
      "execution_count": null,
      "outputs": [
        {
          "output_type": "execute_result",
          "data": {
            "application/vnd.google.colaboratory.intrinsic+json": {
              "type": "string"
            },
            "text/plain": [
              "'Stat'"
            ]
          },
          "metadata": {
            "tags": []
          },
          "execution_count": 52
        }
      ]
    },
    {
      "cell_type": "code",
      "metadata": {
        "colab": {
          "base_uri": "https://localhost:8080/"
        },
        "id": "rBZLm7sTFFFu",
        "outputId": "6a76c456-9624-44ec-e849-5c34e0330da2"
      },
      "source": [
        "a[5:]"
      ],
      "execution_count": null,
      "outputs": [
        {
          "output_type": "execute_result",
          "data": {
            "application/vnd.google.colaboratory.intrinsic+json": {
              "type": "string"
            },
            "text/plain": [
              "'KKU'"
            ]
          },
          "metadata": {
            "tags": []
          },
          "execution_count": 53
        }
      ]
    },
    {
      "cell_type": "markdown",
      "metadata": {
        "id": "syIPjSV2HF0I"
      },
      "source": [
        "### list+list"
      ]
    },
    {
      "cell_type": "code",
      "metadata": {
        "colab": {
          "base_uri": "https://localhost:8080/"
        },
        "id": "wPxaU0FwFs9T",
        "outputId": "687ea513-3a4a-4730-fa49-ad9da8e93b5c"
      },
      "source": [
        "list_a + list_b"
      ],
      "execution_count": null,
      "outputs": [
        {
          "output_type": "execute_result",
          "data": {
            "text/plain": [
              "[1, 2, 0.2, 'abs', 2, 'xyz', [1, 2, 0.2, 'abs'], [1, 2, 0.0]]"
            ]
          },
          "metadata": {
            "tags": []
          },
          "execution_count": 54
        }
      ]
    },
    {
      "cell_type": "markdown",
      "metadata": {
        "id": "gOOWf5UhLZ-9"
      },
      "source": [
        "###format string"
      ]
    },
    {
      "cell_type": "markdown",
      "metadata": {
        "id": "OHldzaCQLuOH"
      },
      "source": [
        "```\n",
        "f'string + {ตัวแปร}'\n",
        "```\n",
        "\n",
        "{} เรียกว่า curly brackets"
      ]
    },
    {
      "cell_type": "code",
      "metadata": {
        "colab": {
          "base_uri": "https://localhost:8080/"
        },
        "id": "P_yr05eKLfpV",
        "outputId": "209e4a76-8345-4dc0-bf96-c08397a7beb9"
      },
      "source": [
        "f'ตัวแปร list_a มีค่าคือ {list_a}'"
      ],
      "execution_count": null,
      "outputs": [
        {
          "output_type": "execute_result",
          "data": {
            "application/vnd.google.colaboratory.intrinsic+json": {
              "type": "string"
            },
            "text/plain": [
              "\"ตัวแปร list_a มีค่าคือ [1, 2, 0.2, 'abs']\""
            ]
          },
          "metadata": {
            "tags": []
          },
          "execution_count": 55
        }
      ]
    },
    {
      "cell_type": "markdown",
      "metadata": {
        "id": "N2rV3BrRH5jI"
      },
      "source": [
        "##loop\n",
        "\n",
        "ทำงานซ้ำๆ หรือทำงานคล้ายๆกัน\n"
      ]
    },
    {
      "cell_type": "markdown",
      "metadata": {
        "id": "w6EEqiRoCRWz"
      },
      "source": [
        "Indent = เว้น"
      ]
    },
    {
      "cell_type": "markdown",
      "metadata": {
        "id": "rphLU3t-KXQ-"
      },
      "source": [
        "```python\n",
        "for ตัวแปรที่จะรับค่าจากลิสต์ in ลิสต์ที่จะนำมาวนลูป:\n",
        "    do something #in loop \n",
        "    do another thing #in loop\n",
        "\n",
        "do other things #out side loop\n",
        "```"
      ]
    },
    {
      "cell_type": "code",
      "metadata": {
        "colab": {
          "base_uri": "https://localhost:8080/"
        },
        "id": "L3iafBJLJo0t",
        "outputId": "f6ceee83-adb6-4e1f-a157-e98666de72de"
      },
      "source": [
        "for i in [1,2,3,4,5]:\n",
        "    print(i+1)"
      ],
      "execution_count": null,
      "outputs": [
        {
          "output_type": "stream",
          "text": [
            "2\n",
            "3\n",
            "4\n",
            "5\n",
            "6\n"
          ],
          "name": "stdout"
        }
      ]
    },
    {
      "cell_type": "code",
      "metadata": {
        "colab": {
          "base_uri": "https://localhost:8080/"
        },
        "id": "hxA-uU4WMYRp",
        "outputId": "849de7ab-c2b5-440e-d23d-ce3acc7d7f08"
      },
      "source": [
        "for x in [1,2,3,4,5]:\n",
        "    print(f'ค่าตัวแปร x คือ {x} และ x+2={x+2}')"
      ],
      "execution_count": null,
      "outputs": [
        {
          "output_type": "stream",
          "text": [
            "ค่าตัวแปร x คือ 1 และ x+2=3\n",
            "ค่าตัวแปร x คือ 2 และ x+2=4\n",
            "ค่าตัวแปร x คือ 3 และ x+2=5\n",
            "ค่าตัวแปร x คือ 4 และ x+2=6\n",
            "ค่าตัวแปร x คือ 5 และ x+2=7\n"
          ],
          "name": "stdout"
        }
      ]
    },
    {
      "cell_type": "code",
      "metadata": {
        "colab": {
          "base_uri": "https://localhost:8080/"
        },
        "id": "m44UAB9FM0HF",
        "outputId": "9e3cdccb-1e72-49b5-e9c5-2d4eed5b6aa2"
      },
      "source": [
        "list5=[1,2,3,4,5]\n",
        "for x in list5:\n",
        "    print(f'ค่าตัวแปร x คือ {x} และ x+2={x+2}')"
      ],
      "execution_count": null,
      "outputs": [
        {
          "output_type": "stream",
          "text": [
            "ค่าตัวแปร x คือ 1 และ x+2=3\n",
            "ค่าตัวแปร x คือ 2 และ x+2=4\n",
            "ค่าตัวแปร x คือ 3 และ x+2=5\n",
            "ค่าตัวแปร x คือ 4 และ x+2=6\n",
            "ค่าตัวแปร x คือ 5 และ x+2=7\n"
          ],
          "name": "stdout"
        }
      ]
    },
    {
      "cell_type": "code",
      "metadata": {
        "colab": {
          "base_uri": "https://localhost:8080/"
        },
        "id": "S8AUu8O4NCj5",
        "outputId": "6e0a7d73-4dc0-4734-de92-3a46b5ff8bd0"
      },
      "source": [
        "list(range(10))"
      ],
      "execution_count": null,
      "outputs": [
        {
          "output_type": "execute_result",
          "data": {
            "text/plain": [
              "[0, 1, 2, 3, 4, 5, 6, 7, 8, 9]"
            ]
          },
          "metadata": {
            "tags": []
          },
          "execution_count": 59
        }
      ]
    },
    {
      "cell_type": "code",
      "metadata": {
        "colab": {
          "base_uri": "https://localhost:8080/"
        },
        "id": "cCxlS1jqNTEg",
        "outputId": "59ac8622-e9dd-45f3-cbb1-c8440b9eee56"
      },
      "source": [
        "for i in range(2,7):\n",
        "    print(i)"
      ],
      "execution_count": null,
      "outputs": [
        {
          "output_type": "stream",
          "text": [
            "2\n",
            "3\n",
            "4\n",
            "5\n",
            "6\n"
          ],
          "name": "stdout"
        }
      ]
    },
    {
      "cell_type": "code",
      "metadata": {
        "colab": {
          "base_uri": "https://localhost:8080/"
        },
        "id": "12Ws4IGhN3ma",
        "outputId": "ece180f7-4f2c-47d9-8127-14a1c2871e4d"
      },
      "source": [
        "for i in range(2,7,2):\n",
        "    print(i)"
      ],
      "execution_count": null,
      "outputs": [
        {
          "output_type": "stream",
          "text": [
            "2\n",
            "4\n",
            "6\n"
          ],
          "name": "stdout"
        }
      ]
    },
    {
      "cell_type": "code",
      "metadata": {
        "colab": {
          "base_uri": "https://localhost:8080/"
        },
        "id": "JeAMzlV_OQhz",
        "outputId": "355fe381-7934-4c5d-8767-87888b799efb"
      },
      "source": [
        "for i in range(5):\n",
        "    print('hahaha')"
      ],
      "execution_count": null,
      "outputs": [
        {
          "output_type": "stream",
          "text": [
            "hahaha\n",
            "hahaha\n",
            "hahaha\n",
            "hahaha\n",
            "hahaha\n"
          ],
          "name": "stdout"
        }
      ]
    },
    {
      "cell_type": "code",
      "metadata": {
        "colab": {
          "base_uri": "https://localhost:8080/"
        },
        "id": "AzR-zV4UOika",
        "outputId": "d213440e-fa03-4f99-b6e7-2bd56b25a354"
      },
      "source": [
        "for i in range(5):\n",
        "    print('hahaha')\n",
        "    x = i+3\n",
        "    print(f'i={i} x={x}')"
      ],
      "execution_count": null,
      "outputs": [
        {
          "output_type": "stream",
          "text": [
            "hahaha\n",
            "i=0 x=3\n",
            "hahaha\n",
            "i=1 x=4\n",
            "hahaha\n",
            "i=2 x=5\n",
            "hahaha\n",
            "i=3 x=6\n",
            "hahaha\n",
            "i=4 x=7\n"
          ],
          "name": "stdout"
        }
      ]
    },
    {
      "cell_type": "markdown",
      "metadata": {
        "id": "0uP85GR0PB7S"
      },
      "source": [
        "####nested loop"
      ]
    },
    {
      "cell_type": "code",
      "metadata": {
        "colab": {
          "base_uri": "https://localhost:8080/"
        },
        "id": "GqPr2mMPPFvr",
        "outputId": "724d1a10-c93a-476b-954b-3dd28158ca03"
      },
      "source": [
        "for i in range(3):\n",
        "    for j in range(4):\n",
        "        print(f' i= {i} j ={j} i+j={i+j}')"
      ],
      "execution_count": null,
      "outputs": [
        {
          "output_type": "stream",
          "text": [
            " i= 0 j =0 i+j=0\n",
            " i= 0 j =1 i+j=1\n",
            " i= 0 j =2 i+j=2\n",
            " i= 0 j =3 i+j=3\n",
            " i= 1 j =0 i+j=1\n",
            " i= 1 j =1 i+j=2\n",
            " i= 1 j =2 i+j=3\n",
            " i= 1 j =3 i+j=4\n",
            " i= 2 j =0 i+j=2\n",
            " i= 2 j =1 i+j=3\n",
            " i= 2 j =2 i+j=4\n",
            " i= 2 j =3 i+j=5\n"
          ],
          "name": "stdout"
        }
      ]
    },
    {
      "cell_type": "code",
      "metadata": {
        "colab": {
          "base_uri": "https://localhost:8080/"
        },
        "id": "UT19UP3cQGH2",
        "outputId": "0232e789-943e-4063-8dd5-c8cec8ccf27e"
      },
      "source": [
        "for i in range(3):\n",
        "    print(f'now i = {i}')\n",
        "    print('start j loop')\n",
        "    for j in range(4):\n",
        "        print(f' i= {i} j ={j} i+j={i+j}')\n",
        "    print('end j loop')"
      ],
      "execution_count": null,
      "outputs": [
        {
          "output_type": "stream",
          "text": [
            "now i = 0\n",
            "start j loop\n",
            " i= 0 j =0 i+j=0\n",
            " i= 0 j =1 i+j=1\n",
            " i= 0 j =2 i+j=2\n",
            " i= 0 j =3 i+j=3\n",
            "end j loop\n",
            "now i = 1\n",
            "start j loop\n",
            " i= 1 j =0 i+j=1\n",
            " i= 1 j =1 i+j=2\n",
            " i= 1 j =2 i+j=3\n",
            " i= 1 j =3 i+j=4\n",
            "end j loop\n",
            "now i = 2\n",
            "start j loop\n",
            " i= 2 j =0 i+j=2\n",
            " i= 2 j =1 i+j=3\n",
            " i= 2 j =2 i+j=4\n",
            " i= 2 j =3 i+j=5\n",
            "end j loop\n"
          ],
          "name": "stdout"
        }
      ]
    },
    {
      "cell_type": "markdown",
      "metadata": {
        "id": "YM7dvblLH76J"
      },
      "source": [
        "###Condition เงื่อนไข (if statement)"
      ]
    },
    {
      "cell_type": "markdown",
      "metadata": {
        "id": "MilIw_DIFZSP"
      },
      "source": [
        "```python\n",
        "if เงื่อนไขที่จะตรวจสอบ : \n",
        "     ถ้าเงื่อนไขเป็นจริง ทำงน 1\n",
        "     ถ้าเงื่อนไขเป็นจริง ทำงาน 2\n",
        "\n",
        "```"
      ]
    },
    {
      "cell_type": "code",
      "metadata": {
        "colab": {
          "base_uri": "https://localhost:8080/"
        },
        "id": "cx3NYU3TGlZW",
        "outputId": "8160b2e1-c046-47fb-8ffc-c9c884ef85a0"
      },
      "source": [
        "stringx = 'sadfasdfweirjwerslfbwilhfchdfspadofgi'\n",
        "\n",
        "if len(stringx) > 30:\n",
        "    print(f'{stringx} is longer than 30 characters')"
      ],
      "execution_count": null,
      "outputs": [
        {
          "output_type": "stream",
          "text": [
            "sadfasdfweirjwerslfbwilhfchdfspadofgi is longer than 30 characters\n"
          ],
          "name": "stdout"
        }
      ]
    },
    {
      "cell_type": "code",
      "metadata": {
        "id": "e3zuWFsoHHdS"
      },
      "source": [
        "stringx =  'sadfasdfweirjwerslfbwilhfchdfspadofgi'\n",
        "\n",
        "if len(stringx) > 100:\n",
        "    print(f'{stringx} is longer than 30 characters')"
      ],
      "execution_count": null,
      "outputs": []
    },
    {
      "cell_type": "markdown",
      "metadata": {
        "id": "NSUzhQrGIVMU"
      },
      "source": [
        "```python\n",
        "if เงื่อนไขที่จะตรวจสอบ : (โดยใช้สัญลักษณ์ ==,!=,<,>,<=,>=):\n",
        "     ถ้าเงื่อนไขเป็นจริง ทำงน 1\n",
        "     ถ้าเงื่อนไขเป็นจริง ทำงาน 2\n",
        "else: #ตรวจสอบเงื่อนไขข้างบนแล้วไม่เป็นจริง\n",
        "      ทำงานที่ x\n",
        "\n",
        "```"
      ]
    },
    {
      "cell_type": "code",
      "metadata": {
        "colab": {
          "base_uri": "https://localhost:8080/"
        },
        "id": "69DmS4ffIFz9",
        "outputId": "c7806370-2791-486e-b5a5-51703babd330"
      },
      "source": [
        "stringx =  'sadfasdfweirjwerslfbwilhfchdfspadofgi'\n",
        "\n",
        "if len(stringx) > 100:\n",
        "    print(f'{stringx} is longer than 30 characters')\n",
        "else:\n",
        "    print(f'{stringx} in {len(stringx)}characters long')"
      ],
      "execution_count": null,
      "outputs": [
        {
          "output_type": "stream",
          "text": [
            "sadfasdfweirjwerslfbwilhfchdfspadofgi in 37characters long\n"
          ],
          "name": "stdout"
        }
      ]
    },
    {
      "cell_type": "markdown",
      "metadata": {
        "id": "yt-CLwXIJTFV"
      },
      "source": [
        "```python\n",
        "if เงื่อนไขที่จะตรวจสอบ (โดยใช้สัญลักษณ์ ==,!=,<,>,<=,>=): \n",
        "     ถ้าเงื่อนไขเป็นจริง ทำงน 1\n",
        "     ถ้าเงื่อนไขเป็นจริง ทำงาน 2\n",
        "elif เงื่อนไขที่จะตรวจสอบต่อไป ถ้าเงื่อนไขข้างบนไม่เป็นจริง:\n",
        "     ถ้าเงื่อนไขเป็นจริง ทำงน a1\n",
        "     ถ้าเงื่อนไขเป็นจริง ทำงาน a2\n",
        "elif เงื่อนไขที่จะตรวจสอบต่อไป ถ้าเงื่อนไขข้างบนไม่เป็นจริง:\n",
        "     ถ้าเงื่อนไขเป็นจริง ทำงน b1\n",
        "     ถ้าเงื่อนไขเป็นจริง ทำงาน b2\n",
        "else: #ตรวจสอบเงื่อนไขข้างบนแล้วไม่เป็นจริง\n",
        "      ทำงานที่ x\n",
        "\n",
        "```"
      ]
    },
    {
      "cell_type": "code",
      "metadata": {
        "colab": {
          "base_uri": "https://localhost:8080/"
        },
        "id": "tuPifNg8KxwE",
        "outputId": "61463e6c-faa7-46c2-9c23-ccb5627a32c6"
      },
      "source": [
        "password = '12345'\n",
        "\n",
        "input_pass = '123af'\n",
        "if input_pass == password:\n",
        "    print('Welcome!')\n",
        "elif len(input_pass) > len(password):\n",
        "    print('Too long,try again!')\n",
        "elif len(input_pass) < len(password):\n",
        "    print('Too short,try again!')\n",
        "else:\n",
        "    print('Wrong password, try again!')"
      ],
      "execution_count": null,
      "outputs": [
        {
          "output_type": "stream",
          "text": [
            "Wrong password, try again!\n"
          ],
          "name": "stdout"
        }
      ]
    },
    {
      "cell_type": "markdown",
      "metadata": {
        "id": "ynCa5XBvK7Ys"
      },
      "source": [
        "Quiz 1 หา min"
      ]
    },
    {
      "cell_type": "code",
      "metadata": {
        "id": "6gQt8qgZNty3"
      },
      "source": [
        "list_ex = [1,5,9,-19,-2,0] #หาค่าน้อยที่สุดใน list_ex โดยไม่ใช้ function min (commit ก่อน 10:30)\n",
        "min ='-19'\n",
        "\n",
        "input_num ='1'\n",
        "if input_num == min:\n",
        "    print('correct')\n",
        "elif len(input_num)>len(min):\n",
        "    print('incorrect')"
      ],
      "execution_count": null,
      "outputs": []
    },
    {
      "cell_type": "markdown",
      "metadata": {
        "id": "dKIPNUb_TahK"
      },
      "source": [
        "เฉลย*****"
      ]
    },
    {
      "cell_type": "code",
      "metadata": {
        "colab": {
          "base_uri": "https://localhost:8080/"
        },
        "id": "DsqUgml7SzaA",
        "outputId": "726d1e1c-1d04-4c3f-d911-fb52cf5cc549"
      },
      "source": [
        "min = 100000000\n",
        "for i in list_ex:\n",
        "    if i < min:\n",
        "        min = i \n",
        "print(min)"
      ],
      "execution_count": null,
      "outputs": [
        {
          "output_type": "stream",
          "text": [
            "-19\n"
          ],
          "name": "stdout"
        }
      ]
    },
    {
      "cell_type": "code",
      "metadata": {
        "colab": {
          "base_uri": "https://localhost:8080/"
        },
        "id": "anmYCLe9UM6E",
        "outputId": "d72951c7-b1f5-4f04-cf46-4284b7e8115f"
      },
      "source": [
        "min = 100000000\n",
        "print(list_ex)\n",
        "for i in list_ex:\n",
        "    print(f'now i = {i}, min = {min}')\n",
        "    print('start condition')\n",
        "    if i < min:\n",
        "        print(f'i<min, update min ->{i}')\n",
        "        min = i \n",
        "    else:\n",
        "        print('i>= min,not update')\n",
        "    print ('end condition, go to next i')\n",
        "print(min)"
      ],
      "execution_count": null,
      "outputs": [
        {
          "output_type": "stream",
          "text": [
            "[1, 5, 9, -19, -2, 0]\n",
            "now i = 1, min = 100000000\n",
            "start condition\n",
            "i<min, update min ->1\n",
            "end condition, go to next i\n",
            "now i = 5, min = 1\n",
            "start condition\n",
            "i>= min,not update\n",
            "end condition, go to next i\n",
            "now i = 9, min = 1\n",
            "start condition\n",
            "i>= min,not update\n",
            "end condition, go to next i\n",
            "now i = -19, min = 1\n",
            "start condition\n",
            "i<min, update min ->-19\n",
            "end condition, go to next i\n",
            "now i = -2, min = -19\n",
            "start condition\n",
            "i>= min,not update\n",
            "end condition, go to next i\n",
            "now i = 0, min = -19\n",
            "start condition\n",
            "i>= min,not update\n",
            "end condition, go to next i\n",
            "-19\n"
          ],
          "name": "stdout"
        }
      ]
    },
    {
      "cell_type": "markdown",
      "metadata": {
        "id": "R8IWGNApLBIl"
      },
      "source": [
        "HW ตัดเกรด"
      ]
    },
    {
      "cell_type": "code",
      "metadata": {
        "id": "qp40iCxySbsj"
      },
      "source": [
        "score = [49,65,70,95,82,55,89,20,77,77,81,59,10] #ตัดเกรด คะแนนใน list score ใช้ if ,for\n"
      ],
      "execution_count": null,
      "outputs": []
    },
    {
      "cell_type": "code",
      "metadata": {
        "id": "hdy7GuXaqLUY",
        "colab": {
          "base_uri": "https://localhost:8080/"
        },
        "outputId": "2a4c4851-22bd-4f9f-ed47-1dd67eed919d"
      },
      "source": [
        "print(f'score{score}')\n",
        "for i in score:\n",
        "  if i >=90:\n",
        "    print(f'score : {i} = Grade A')\n",
        "  elif i >=85:\n",
        "    print(f'score : {i} = Grade B+') \n",
        "  elif i >=75:\n",
        "    print(f'score : {i} = Grade B')\n",
        "  elif i >=70:\n",
        "    print(f'score : {i} = Grade C+')\n",
        "  elif i >=60:\n",
        "    print(f'score : {i} = Grade C')\n",
        "  elif i >=55:\n",
        "    print(f'score : {i} = Grade D+')\n",
        "  elif i >=50:\n",
        "    print(f'score : {i} = Grade D')\n",
        "  elif i <50:\n",
        "    print(f'score : {i} = Grade F')"
      ],
      "execution_count": null,
      "outputs": [
        {
          "output_type": "stream",
          "text": [
            "score[49, 65, 70, 95, 82, 55, 89, 20, 77, 77, 81, 59, 10]\n",
            "score : 49 = Grade F\n",
            "score : 65 = Grade C\n",
            "score : 70 = Grade C+\n",
            "score : 95 = Grade A\n",
            "score : 82 = Grade B\n",
            "score : 55 = Grade D+\n",
            "score : 89 = Grade B+\n",
            "score : 20 = Grade F\n",
            "score : 77 = Grade B\n",
            "score : 77 = Grade B\n",
            "score : 81 = Grade B\n",
            "score : 59 = Grade D+\n",
            "score : 10 = Grade F\n"
          ],
          "name": "stdout"
        }
      ]
    },
    {
      "cell_type": "markdown",
      "metadata": {
        "id": "ZRzBCmcyIBjj"
      },
      "source": [
        "####Function\n",
        "\n",
        "```python\n",
        "def ชื่อฟังก์ชั่น(input1,input2,....):\n",
        "    งานxxx\n",
        "    งานyyy\n",
        "    return output\n",
        "```\n",
        "ส่วนประกอบสำคัญ\n",
        "\n",
        "-input\n",
        "\n",
        "-process (ไม่มีไม่ได้)\n",
        "\n",
        "-output"
      ]
    },
    {
      "cell_type": "markdown",
      "metadata": {
        "id": "-skrAo9By1Io"
      },
      "source": [
        "####Ex1"
      ]
    },
    {
      "cell_type": "code",
      "metadata": {
        "id": "oXfSveK6Gfbi"
      },
      "source": [
        "def grading(score):\n",
        "    if score >=90:\n",
        "        grade =  'A'\n",
        "    elif score >=85:\n",
        "        grade =  'B+'\n",
        "    elif score >=75:\n",
        "        grade = 'B'\n",
        "    elif score >=70:\n",
        "        grade = 'C+'\n",
        "    elif score >=60:\n",
        "        grade = 'C'\n",
        "    elif score >=55:\n",
        "        grade =  'D+'\n",
        "    elif score >=50:\n",
        "        grade =  'D'\n",
        "    elif score <50:\n",
        "        grade = 'F'\n",
        "    return grade\n",
        "        "
      ],
      "execution_count": null,
      "outputs": []
    },
    {
      "cell_type": "code",
      "metadata": {
        "colab": {
          "base_uri": "https://localhost:8080/"
        },
        "id": "3wBPiZ2p0iAH",
        "outputId": "c0a19026-7480-4ab3-ba30-1f7d1f8d3d32"
      },
      "source": [
        "score = [49,65,70,95,82,55,89,20,77,77,81,59,10]\n",
        "for i in score:\n",
        "    print(f'คะแนน{i}  ได้เกรด {grading(i)}')"
      ],
      "execution_count": null,
      "outputs": [
        {
          "output_type": "stream",
          "text": [
            "คะแนน49  ได้เกรด F\n",
            "คะแนน65  ได้เกรด C\n",
            "คะแนน70  ได้เกรด C+\n",
            "คะแนน95  ได้เกรด A\n",
            "คะแนน82  ได้เกรด B\n",
            "คะแนน55  ได้เกรด D+\n",
            "คะแนน89  ได้เกรด B+\n",
            "คะแนน20  ได้เกรด F\n",
            "คะแนน77  ได้เกรด B\n",
            "คะแนน77  ได้เกรด B\n",
            "คะแนน81  ได้เกรด B\n",
            "คะแนน59  ได้เกรด D+\n",
            "คะแนน10  ได้เกรด F\n"
          ],
          "name": "stdout"
        }
      ]
    },
    {
      "cell_type": "code",
      "metadata": {
        "id": "fjrNzSMr1NGW"
      },
      "source": [
        "def grading_list(list_score):\n",
        "    grade_list = []\n",
        "    for score in list_score:\n",
        "      if score >=90:\n",
        "        grade =  'A'\n",
        "      elif score >=85:\n",
        "        grade =  'B+'\n",
        "      elif score >=75:\n",
        "        grade = 'B'\n",
        "      elif score >=70:\n",
        "        grade = 'C+'\n",
        "      elif score >=60:\n",
        "        grade = 'C'\n",
        "      elif score >=55:\n",
        "        grade =  'D+'\n",
        "      elif score >=50:\n",
        "        grade =  'D'\n",
        "      else:\n",
        "        grade = 'F'\n",
        "      grade_list.append([score,grade])\n",
        "    return grade_list"
      ],
      "execution_count": null,
      "outputs": []
    },
    {
      "cell_type": "code",
      "metadata": {
        "colab": {
          "base_uri": "https://localhost:8080/"
        },
        "id": "OYvJp4Kn3aZ6",
        "outputId": "2dc7f785-ba28-44b5-9870-9bbc8683281a"
      },
      "source": [
        "g = grading_list(score)\n",
        "g"
      ],
      "execution_count": null,
      "outputs": [
        {
          "output_type": "execute_result",
          "data": {
            "text/plain": [
              "[[49, 'F'],\n",
              " [65, 'C'],\n",
              " [70, 'C+'],\n",
              " [95, 'A'],\n",
              " [82, 'B'],\n",
              " [55, 'D+'],\n",
              " [89, 'B+'],\n",
              " [20, 'F'],\n",
              " [77, 'B'],\n",
              " [77, 'B'],\n",
              " [81, 'B'],\n",
              " [59, 'D+'],\n",
              " [10, 'F']]"
            ]
          },
          "metadata": {
            "tags": []
          },
          "execution_count": 115
        }
      ]
    },
    {
      "cell_type": "code",
      "metadata": {
        "colab": {
          "base_uri": "https://localhost:8080/"
        },
        "id": "Fm8KsuVU5DxO",
        "outputId": "4800c6a5-c0ae-46d3-f93b-288098133ddc"
      },
      "source": [
        "for i in g:\n",
        "    print(f'คะแนน{i[0]}  ได้เกรด {i[1]}')"
      ],
      "execution_count": null,
      "outputs": [
        {
          "output_type": "stream",
          "text": [
            "คะแนน49  ได้เกรด F\n",
            "คะแนน65  ได้เกรด C\n",
            "คะแนน70  ได้เกรด C+\n",
            "คะแนน95  ได้เกรด A\n",
            "คะแนน82  ได้เกรด B\n",
            "คะแนน55  ได้เกรด D+\n",
            "คะแนน89  ได้เกรด B+\n",
            "คะแนน20  ได้เกรด F\n",
            "คะแนน77  ได้เกรด B\n",
            "คะแนน77  ได้เกรด B\n",
            "คะแนน81  ได้เกรด B\n",
            "คะแนน59  ได้เกรด D+\n",
            "คะแนน10  ได้เกรด F\n"
          ],
          "name": "stdout"
        }
      ]
    },
    {
      "cell_type": "code",
      "metadata": {
        "id": "4mtFKueR7NBE"
      },
      "source": [
        "def grading2(score):\n",
        "    if score >=90:\n",
        "        return 'A'\n",
        "    elif score >=85:\n",
        "        return 'B+'\n",
        "    elif score >=75:\n",
        "        return 'B'\n",
        "    elif score >=70:\n",
        "        return 'C+'\n",
        "    elif score >=60:\n",
        "        return 'C'\n",
        "    elif score >=55:\n",
        "        return 'D+'\n",
        "    elif score >=50:\n",
        "        return 'D'\n",
        "    else:\n",
        "        return 'F'"
      ],
      "execution_count": null,
      "outputs": []
    },
    {
      "cell_type": "code",
      "metadata": {
        "colab": {
          "base_uri": "https://localhost:8080/"
        },
        "id": "eZrYmzzA7uhz",
        "outputId": "4c8f7eb3-0437-42bb-fa3c-35dcb66588a0"
      },
      "source": [
        "score = [49,65,70,95,82,55,89,20,77,77,81,59,10]\n",
        "for i in score:\n",
        "    print(f'คะแนน{i}  ได้เกรด {grading2(i)}')"
      ],
      "execution_count": null,
      "outputs": [
        {
          "output_type": "stream",
          "text": [
            "คะแนน49  ได้เกรด F\n",
            "คะแนน65  ได้เกรด C\n",
            "คะแนน70  ได้เกรด C+\n",
            "คะแนน95  ได้เกรด A\n",
            "คะแนน82  ได้เกรด B\n",
            "คะแนน55  ได้เกรด D+\n",
            "คะแนน89  ได้เกรด B+\n",
            "คะแนน20  ได้เกรด F\n",
            "คะแนน77  ได้เกรด B\n",
            "คะแนน77  ได้เกรด B\n",
            "คะแนน81  ได้เกรด B\n",
            "คะแนน59  ได้เกรด D+\n",
            "คะแนน10  ได้เกรด F\n"
          ],
          "name": "stdout"
        }
      ]
    },
    {
      "cell_type": "markdown",
      "metadata": {
        "id": "juYg7OzB9ARq"
      },
      "source": [
        "####Ex2 ไม่มี input"
      ]
    },
    {
      "cell_type": "code",
      "metadata": {
        "id": "mP80ftsD7_lc"
      },
      "source": [
        "def mypi():\n",
        "    return 3.14"
      ],
      "execution_count": null,
      "outputs": []
    },
    {
      "cell_type": "code",
      "metadata": {
        "colab": {
          "base_uri": "https://localhost:8080/"
        },
        "id": "YoS3pWma9NC8",
        "outputId": "9868e8eb-4586-4569-d59e-57f0e3301ccc"
      },
      "source": [
        "r=10\n",
        "print(f'รัศมี = {r} จะมีเส้นรอบวง ={2*mypi()*r}')"
      ],
      "execution_count": null,
      "outputs": [
        {
          "output_type": "stream",
          "text": [
            "รัศมี = 10 จะมีเส้นรอบวง =62.800000000000004\n"
          ],
          "name": "stdout"
        }
      ]
    },
    {
      "cell_type": "markdown",
      "metadata": {
        "id": "zctdwPN890mX"
      },
      "source": [
        "####Ex3 ไม่มี output"
      ]
    },
    {
      "cell_type": "code",
      "metadata": {
        "id": "LKgjIZ389dOq"
      },
      "source": [
        "def grading_nooutput(score):\n",
        "  if i >=90:\n",
        "    print(f'score : {i} = Grade A')\n",
        "  elif i >=85:\n",
        "    print(f'score : {i} = Grade B+') \n",
        "  elif i >=75:\n",
        "    print(f'score : {i} = Grade B')\n",
        "  elif i >=70:\n",
        "    print(f'score : {i} = Grade C+')\n",
        "  elif i >=60:\n",
        "    print(f'score : {i} = Grade C')\n",
        "  elif i >=55:\n",
        "    print(f'score : {i} = Grade D+')\n",
        "  elif i >=50:\n",
        "    print(f'score : {i} = Grade D')\n",
        "  elif i <50:\n",
        "    print(f'score : {i} = Grade F')"
      ],
      "execution_count": null,
      "outputs": []
    },
    {
      "cell_type": "code",
      "metadata": {
        "colab": {
          "base_uri": "https://localhost:8080/"
        },
        "id": "SQuvVlh7-a1z",
        "outputId": "230ef46b-58c0-4bc1-de32-98f769f28b58"
      },
      "source": [
        "score = [49,65,70,95,82,55,89,20,77,77,81,59,10]\n",
        "for i in score:\n",
        "    print(f'คะแนน{i}' ,end='')\n",
        "    grading_nooutput(i)"
      ],
      "execution_count": null,
      "outputs": [
        {
          "output_type": "stream",
          "text": [
            "คะแนน49score : 49 = Grade F\n",
            "คะแนน65score : 65 = Grade C\n",
            "คะแนน70score : 70 = Grade C+\n",
            "คะแนน95score : 95 = Grade A\n",
            "คะแนน82score : 82 = Grade B\n",
            "คะแนน55score : 55 = Grade D+\n",
            "คะแนน89score : 89 = Grade B+\n",
            "คะแนน20score : 20 = Grade F\n",
            "คะแนน77score : 77 = Grade B\n",
            "คะแนน77score : 77 = Grade B\n",
            "คะแนน81score : 81 = Grade B\n",
            "คะแนน59score : 59 = Grade D+\n",
            "คะแนน10score : 10 = Grade F\n"
          ],
          "name": "stdout"
        }
      ]
    },
    {
      "cell_type": "markdown",
      "metadata": {
        "id": "80TQXIuf_dgX"
      },
      "source": [
        "####Ex4 ไม่มีinput output"
      ]
    },
    {
      "cell_type": "code",
      "metadata": {
        "id": "pRck_zn9-s2M"
      },
      "source": [
        "def draw_rect():\n",
        "    print('===========')\n",
        "    print('|         |')\n",
        "    print('|         |')\n",
        "    print('===========')\n"
      ],
      "execution_count": null,
      "outputs": []
    },
    {
      "cell_type": "code",
      "metadata": {
        "colab": {
          "base_uri": "https://localhost:8080/"
        },
        "id": "-ENZOHrQAPA5",
        "outputId": "e513a3b6-d27b-4b3b-b50b-437e850bb273"
      },
      "source": [
        "draw_rect()\n",
        "draw_rect()"
      ],
      "execution_count": null,
      "outputs": [
        {
          "output_type": "stream",
          "text": [
            "===========\n",
            "|         |\n",
            "|         |\n",
            "===========\n",
            "===========\n",
            "|         |\n",
            "|         |\n",
            "===========\n"
          ],
          "name": "stdout"
        }
      ]
    },
    {
      "cell_type": "markdown",
      "metadata": {
        "id": "-Lv4r2zqA74Z"
      },
      "source": [
        "##ลักษณะของ input (parameter)\n",
        "\n",
        "\n",
        "*   จำเป็นต้องใส่ (non-default argument)\n",
        "*   ไม่จำเป็นต้องใส่\n",
        "\n"
      ]
    },
    {
      "cell_type": "code",
      "metadata": {
        "id": "AHNdDqfuATl7"
      },
      "source": [
        "def A(input1,input2 = 3):\n",
        "    return input1+input2"
      ],
      "execution_count": null,
      "outputs": []
    },
    {
      "cell_type": "code",
      "metadata": {
        "colab": {
          "base_uri": "https://localhost:8080/"
        },
        "id": "aIAO4xFvBtnC",
        "outputId": "04333e8d-0b5c-447d-8860-864055a1b772"
      },
      "source": [
        "A(1)"
      ],
      "execution_count": null,
      "outputs": [
        {
          "output_type": "execute_result",
          "data": {
            "text/plain": [
              "4"
            ]
          },
          "metadata": {
            "tags": []
          },
          "execution_count": 140
        }
      ]
    },
    {
      "cell_type": "code",
      "metadata": {
        "colab": {
          "base_uri": "https://localhost:8080/"
        },
        "id": "7dLi8gdiBzNS",
        "outputId": "cf1db408-a6d5-4d8a-f429-bc3ca093d0df"
      },
      "source": [
        "A(1,6)"
      ],
      "execution_count": null,
      "outputs": [
        {
          "output_type": "execute_result",
          "data": {
            "text/plain": [
              "7"
            ]
          },
          "metadata": {
            "tags": []
          },
          "execution_count": 142
        }
      ]
    },
    {
      "cell_type": "code",
      "metadata": {
        "id": "J5t89pB-B6IY"
      },
      "source": [
        "def printlove(input1,input2 = 'Stat',input3 = 'KKU'):\n",
        "    print(f'{input1} love {input2} {input3}')"
      ],
      "execution_count": null,
      "outputs": []
    },
    {
      "cell_type": "code",
      "metadata": {
        "colab": {
          "base_uri": "https://localhost:8080/"
        },
        "id": "3Nh_vZ_TDUfG",
        "outputId": "c43d9573-d0f8-4e1e-cd6b-a2033be5bcc4"
      },
      "source": [
        "printlove('Thanapong')"
      ],
      "execution_count": null,
      "outputs": [
        {
          "output_type": "stream",
          "text": [
            "Thanapong love Stat KKU\n"
          ],
          "name": "stdout"
        }
      ]
    },
    {
      "cell_type": "code",
      "metadata": {
        "colab": {
          "base_uri": "https://localhost:8080/"
        },
        "id": "xtWOxkIDDdHH",
        "outputId": "cda87432-0d2a-4e23-ae69-8facef2d30af"
      },
      "source": [
        "printlove('Thanapong','SI','Stat')"
      ],
      "execution_count": null,
      "outputs": [
        {
          "output_type": "stream",
          "text": [
            "Thanapong love SI Stat\n"
          ],
          "name": "stdout"
        }
      ]
    },
    {
      "cell_type": "code",
      "metadata": {
        "colab": {
          "base_uri": "https://localhost:8080/"
        },
        "id": "NFEoki7sDo-G",
        "outputId": "6c36842c-6b72-46db-eae1-10ab2f2515fe"
      },
      "source": [
        "printlove(input3 = 'Thanapong',input2 = 'SI',input1='Stat')"
      ],
      "execution_count": null,
      "outputs": [
        {
          "output_type": "stream",
          "text": [
            "Stat love SI Thanapong\n"
          ],
          "name": "stdout"
        }
      ]
    },
    {
      "cell_type": "code",
      "metadata": {
        "colab": {
          "base_uri": "https://localhost:8080/",
          "height": 132
        },
        "id": "0fyAZF-FEP1Q",
        "outputId": "492df25b-d8b1-45d5-fd38-8fa74a2972ab"
      },
      "source": [
        "def printlove(input2 = 'Stat',input1,input3='KKU'):\n",
        "    print(f'{input1} love {input2} {input3}')"
      ],
      "execution_count": null,
      "outputs": [
        {
          "output_type": "error",
          "ename": "SyntaxError",
          "evalue": "ignored",
          "traceback": [
            "\u001b[0;36m  File \u001b[0;32m\"<ipython-input-151-b2797c5b0990>\"\u001b[0;36m, line \u001b[0;32m1\u001b[0m\n\u001b[0;31m    def printlove(input2 = 'Stat',input1,input3='KKU'):\u001b[0m\n\u001b[0m                 ^\u001b[0m\n\u001b[0;31mSyntaxError\u001b[0m\u001b[0;31m:\u001b[0m non-default argument follows default argument\n"
          ]
        }
      ]
    },
    {
      "cell_type": "markdown",
      "metadata": {
        "id": "eSQoPlB_Ff5m"
      },
      "source": [
        "##Quiz4\n",
        "\n",
        "สร้างฟังก์ชั่น\n",
        "\n",
        "\n",
        "*   วาดรูปบ้าน\n",
        "*   วาดรูปต้นไม้\n",
        "\n"
      ]
    },
    {
      "cell_type": "code",
      "metadata": {
        "id": "3Luqjo9gFejS"
      },
      "source": [
        "def draw_home():\n",
        "    print(' /___________\\ ')\n",
        "    print(' |           | ')\n",
        "    print(' |           | ')\n",
        "    print(' |    _      | ')\n",
        "    print(' ____|_|______ ' )"
      ],
      "execution_count": null,
      "outputs": []
    },
    {
      "cell_type": "code",
      "metadata": {
        "id": "rRf6smMaGebR",
        "colab": {
          "base_uri": "https://localhost:8080/"
        },
        "outputId": "79235266-edf2-4348-feb9-fb0e056f122a"
      },
      "source": [
        "draw_home()"
      ],
      "execution_count": null,
      "outputs": [
        {
          "output_type": "stream",
          "text": [
            " /___________\\ \n",
            " |           | \n",
            " |           | \n",
            " |    _      | \n",
            " ____|_|______ \n"
          ],
          "name": "stdout"
        }
      ]
    },
    {
      "cell_type": "code",
      "metadata": {
        "id": "ZIcg5e8WGiz0"
      },
      "source": [
        ""
      ],
      "execution_count": null,
      "outputs": []
    }
  ]
}