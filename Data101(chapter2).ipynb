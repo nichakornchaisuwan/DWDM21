{
  "nbformat": 4,
  "nbformat_minor": 0,
  "metadata": {
    "colab": {
      "name": "Data101(chapter2).ipynb",
      "provenance": [],
      "authorship_tag": "ABX9TyMf4ZKwWJbj/K01fx0gfBP8",
      "include_colab_link": true
    },
    "kernelspec": {
      "name": "python3",
      "display_name": "Python 3"
    },
    "language_info": {
      "name": "python"
    }
  },
  "cells": [
    {
      "cell_type": "markdown",
      "metadata": {
        "id": "view-in-github",
        "colab_type": "text"
      },
      "source": [
        "<a href=\"https://colab.research.google.com/github/nichakornchaisuwan/DWDM21/blob/main/Data101(chapter2).ipynb\" target=\"_parent\"><img src=\"https://colab.research.google.com/assets/colab-badge.svg\" alt=\"Open In Colab\"/></a>"
      ]
    },
    {
      "cell_type": "markdown",
      "metadata": {
        "id": "MQi-stE6z2Ir"
      },
      "source": [
        "ข้อความที่อยู่ใน textbox จะอยู่ในภาษา Markdown"
      ]
    },
    {
      "cell_type": "markdown",
      "metadata": {
        "id": "q97y6e1Ntu-G"
      },
      "source": [
        "ข้อดีของ python คือมี package สำหรับทำงานต่างๆ ซึ่ง pandas เป็น package \n",
        "\n",
        "สำหรับการทำงานกับข้อมูลที่อยู่ในรูปแบบตาราง  โดย pandas จะเรียกตารางนั้นว่า dataframe"
      ]
    },
    {
      "cell_type": "code",
      "metadata": {
        "id": "wmsPitc1rzy1"
      },
      "source": [
        "import pandas #วิธีเรียกใช้ Package คือ import ตามด้วยชื่อ package"
      ],
      "execution_count": 1,
      "outputs": []
    },
    {
      "cell_type": "code",
      "metadata": {
        "id": "CcoQEgJatCiO"
      },
      "source": [
        "import pandas as pd # เหมือนกับข้างบน แต่มีการตั้งชื่อให้ package ที่โหลดมาใหม่ว่า pd"
      ],
      "execution_count": 2,
      "outputs": []
    },
    {
      "cell_type": "markdown",
      "metadata": {
        "id": "xaql8Ps6utUD"
      },
      "source": [
        "ไฟล์ที่จะได้เจอเป็นหลัก คือ ไฟล์ .VSC = comma spparated values \n",
        "\n",
        "ข้อดี เป็นไฟล์ที่เก็บข้อมูลตาราง อ่านง่าย เข้าใจง่าย "
      ]
    },
    {
      "cell_type": "code",
      "metadata": {
        "id": "BlzC6oB2uf1p"
      },
      "source": [
        "data_df = pd.read_csv('data.csv')"
      ],
      "execution_count": 4,
      "outputs": []
    },
    {
      "cell_type": "code",
      "metadata": {
        "colab": {
          "base_uri": "https://localhost:8080/",
          "height": 142
        },
        "id": "dORP7SQIxNug",
        "outputId": "b1a9ce88-fc22-4464-ca19-63f3b8340dd6"
      },
      "source": [
        "data_df"
      ],
      "execution_count": 5,
      "outputs": [
        {
          "output_type": "execute_result",
          "data": {
            "text/html": [
              "<div>\n",
              "<style scoped>\n",
              "    .dataframe tbody tr th:only-of-type {\n",
              "        vertical-align: middle;\n",
              "    }\n",
              "\n",
              "    .dataframe tbody tr th {\n",
              "        vertical-align: top;\n",
              "    }\n",
              "\n",
              "    .dataframe thead th {\n",
              "        text-align: right;\n",
              "    }\n",
              "</style>\n",
              "<table border=\"1\" class=\"dataframe\">\n",
              "  <thead>\n",
              "    <tr style=\"text-align: right;\">\n",
              "      <th></th>\n",
              "      <th>name</th>\n",
              "      <th>age</th>\n",
              "      <th>city</th>\n",
              "    </tr>\n",
              "  </thead>\n",
              "  <tbody>\n",
              "    <tr>\n",
              "      <th>0</th>\n",
              "      <td>Tom</td>\n",
              "      <td>27</td>\n",
              "      <td>Khon Kean</td>\n",
              "    </tr>\n",
              "    <tr>\n",
              "      <th>1</th>\n",
              "      <td>Paul</td>\n",
              "      <td>15</td>\n",
              "      <td>Bangkok</td>\n",
              "    </tr>\n",
              "    <tr>\n",
              "      <th>2</th>\n",
              "      <td>Sarah</td>\n",
              "      <td>49</td>\n",
              "      <td>London</td>\n",
              "    </tr>\n",
              "  </tbody>\n",
              "</table>\n",
              "</div>"
            ],
            "text/plain": [
              "    name  age       city\n",
              "0    Tom   27  Khon Kean\n",
              "1   Paul   15    Bangkok\n",
              "2  Sarah   49     London"
            ]
          },
          "metadata": {
            "tags": []
          },
          "execution_count": 5
        }
      ]
    },
    {
      "cell_type": "code",
      "metadata": {
        "colab": {
          "base_uri": "https://localhost:8080/",
          "height": 142
        },
        "id": "gy2CUWPyxPU4",
        "outputId": "de1abdda-b3d4-4441-c0ca-3a5a3ba286b1"
      },
      "source": [
        "data_df2 = pandas.read_csv('data.csv')\n",
        "data_df2"
      ],
      "execution_count": 6,
      "outputs": [
        {
          "output_type": "execute_result",
          "data": {
            "text/html": [
              "<div>\n",
              "<style scoped>\n",
              "    .dataframe tbody tr th:only-of-type {\n",
              "        vertical-align: middle;\n",
              "    }\n",
              "\n",
              "    .dataframe tbody tr th {\n",
              "        vertical-align: top;\n",
              "    }\n",
              "\n",
              "    .dataframe thead th {\n",
              "        text-align: right;\n",
              "    }\n",
              "</style>\n",
              "<table border=\"1\" class=\"dataframe\">\n",
              "  <thead>\n",
              "    <tr style=\"text-align: right;\">\n",
              "      <th></th>\n",
              "      <th>name</th>\n",
              "      <th>age</th>\n",
              "      <th>city</th>\n",
              "    </tr>\n",
              "  </thead>\n",
              "  <tbody>\n",
              "    <tr>\n",
              "      <th>0</th>\n",
              "      <td>Tom</td>\n",
              "      <td>27</td>\n",
              "      <td>Khon Kean</td>\n",
              "    </tr>\n",
              "    <tr>\n",
              "      <th>1</th>\n",
              "      <td>Paul</td>\n",
              "      <td>15</td>\n",
              "      <td>Bangkok</td>\n",
              "    </tr>\n",
              "    <tr>\n",
              "      <th>2</th>\n",
              "      <td>Sarah</td>\n",
              "      <td>49</td>\n",
              "      <td>London</td>\n",
              "    </tr>\n",
              "  </tbody>\n",
              "</table>\n",
              "</div>"
            ],
            "text/plain": [
              "    name  age       city\n",
              "0    Tom   27  Khon Kean\n",
              "1   Paul   15    Bangkok\n",
              "2  Sarah   49     London"
            ]
          },
          "metadata": {
            "tags": []
          },
          "execution_count": 6
        }
      ]
    },
    {
      "cell_type": "markdown",
      "metadata": {
        "id": "aiadhQWmyh-A"
      },
      "source": [
        "#Basic python"
      ]
    },
    {
      "cell_type": "markdown",
      "metadata": {
        "id": "rm6cQx9f0H8z"
      },
      "source": [
        "## Variables\n",
        "\n",
        "-ข้อจำกัด การตั้งชื่อตัวแปรห้ามมีเว้นวรรค\n",
        "\n",
        "-ใช้ภาษาอังกฤษ พยายามใช้ภาษาอังกฤษ\n",
        "\n",
        "-ตัวเล็กกับตัวใหญ่แตกต่างกัน มีความหมายคนละตัวแปร (case sensitive)\n",
        "\n",
        "-ห้ามใช้ตัวเลขเป็นตัวหน้า"
      ]
    },
    {
      "cell_type": "markdown",
      "metadata": {
        "id": "Uvx_m_Q-0PFy"
      },
      "source": [
        ""
      ]
    },
    {
      "cell_type": "code",
      "metadata": {
        "id": "CUsiCGnwyQub"
      },
      "source": [
        "variable_a =12 #ตัวเลข\n",
        "variable_b ='abcde' #'เรียกว่า quote string\n",
        "variable_c = variable_a #ไม่มีโค๊ด"
      ],
      "execution_count": 7,
      "outputs": []
    },
    {
      "cell_type": "code",
      "metadata": {
        "colab": {
          "base_uri": "https://localhost:8080/"
        },
        "id": "Ir12dKve1O-l",
        "outputId": "dcfe1305-e772-4be2-d306-a1da66f154a0"
      },
      "source": [
        "variable_a"
      ],
      "execution_count": 8,
      "outputs": [
        {
          "output_type": "execute_result",
          "data": {
            "text/plain": [
              "12"
            ]
          },
          "metadata": {
            "tags": []
          },
          "execution_count": 8
        }
      ]
    },
    {
      "cell_type": "code",
      "metadata": {
        "colab": {
          "base_uri": "https://localhost:8080/",
          "height": 35
        },
        "id": "to7_pxN61RMX",
        "outputId": "4f1478d4-7619-4a5d-c645-7974d97a2602"
      },
      "source": [
        "variable_b"
      ],
      "execution_count": 9,
      "outputs": [
        {
          "output_type": "execute_result",
          "data": {
            "application/vnd.google.colaboratory.intrinsic+json": {
              "type": "string"
            },
            "text/plain": [
              "'abcde'"
            ]
          },
          "metadata": {
            "tags": []
          },
          "execution_count": 9
        }
      ]
    },
    {
      "cell_type": "code",
      "metadata": {
        "colab": {
          "base_uri": "https://localhost:8080/"
        },
        "id": "pnuH64E11VXw",
        "outputId": "f5669ba2-845c-4b88-f040-ac06b09345c1"
      },
      "source": [
        "variable_c"
      ],
      "execution_count": 10,
      "outputs": [
        {
          "output_type": "execute_result",
          "data": {
            "text/plain": [
              "12"
            ]
          },
          "metadata": {
            "tags": []
          },
          "execution_count": 10
        }
      ]
    },
    {
      "cell_type": "code",
      "metadata": {
        "colab": {
          "base_uri": "https://localhost:8080/",
          "height": 132
        },
        "id": "H0KDCyKo1Wpk",
        "outputId": "a1103ba7-9ad8-43ca-a758-caba9e01a21a"
      },
      "source": [
        "variable a = 6 #เพราะเว้นวรรค"
      ],
      "execution_count": 11,
      "outputs": [
        {
          "output_type": "error",
          "ename": "SyntaxError",
          "evalue": "ignored",
          "traceback": [
            "\u001b[0;36m  File \u001b[0;32m\"<ipython-input-11-7573aab9ef5a>\"\u001b[0;36m, line \u001b[0;32m1\u001b[0m\n\u001b[0;31m    variable a = 6 #เพราะเว้นวรรค\u001b[0m\n\u001b[0m             ^\u001b[0m\n\u001b[0;31mSyntaxError\u001b[0m\u001b[0;31m:\u001b[0m invalid syntax\n"
          ]
        }
      ]
    },
    {
      "cell_type": "code",
      "metadata": {
        "colab": {
          "base_uri": "https://localhost:8080/"
        },
        "id": "kJg_Nazd2L0L",
        "outputId": "27ff2a73-0bd8-40c5-eaa7-c885aa385f82"
      },
      "source": [
        "ตัวแปร = 3 #ไม่ควรใช้ภาษาไทย\n",
        "ตัวแปร"
      ],
      "execution_count": 12,
      "outputs": [
        {
          "output_type": "execute_result",
          "data": {
            "text/plain": [
              "3"
            ]
          },
          "metadata": {
            "tags": []
          },
          "execution_count": 12
        }
      ]
    },
    {
      "cell_type": "code",
      "metadata": {
        "colab": {
          "base_uri": "https://localhost:8080/"
        },
        "id": "0swv1Emb2g3V",
        "outputId": "0f5bf48f-a653-4812-f1bd-814a1270810f"
      },
      "source": [
        "#ตัวเล็กกับตัวใหญ่แตกต่างกัน มีความหมายคนละตัวแปร (case sensitive)\n",
        "v_a =1\n",
        "V_a =2\n",
        "print(v_a)\n",
        "print(V_a)"
      ],
      "execution_count": 13,
      "outputs": [
        {
          "output_type": "stream",
          "text": [
            "1\n",
            "2\n"
          ],
          "name": "stdout"
        }
      ]
    },
    {
      "cell_type": "code",
      "metadata": {
        "colab": {
          "base_uri": "https://localhost:8080/"
        },
        "id": "8gOBUqr43Gvk",
        "outputId": "6f640899-e53d-47fb-ec59-547b02bc06d4"
      },
      "source": [
        "v_a =1 #ใช้ตัวแปรเดียวกัน การแสดงผลค่าเลยทับซ้อนกันไป\n",
        "v_a =2\n",
        "print(v_a)\n",
        "print(v_a)"
      ],
      "execution_count": 14,
      "outputs": [
        {
          "output_type": "stream",
          "text": [
            "2\n",
            "2\n"
          ],
          "name": "stdout"
        }
      ]
    },
    {
      "cell_type": "code",
      "metadata": {
        "colab": {
          "base_uri": "https://localhost:8080/",
          "height": 132
        },
        "id": "dlwQTghc3Xtv",
        "outputId": "7647d3b6-f86f-4a7a-a9b8-839763e06935"
      },
      "source": [
        "#ห้ามใช้ตัวเลขเป็นชื่อตัวแปร\n",
        "2=1"
      ],
      "execution_count": 15,
      "outputs": [
        {
          "output_type": "error",
          "ename": "SyntaxError",
          "evalue": "ignored",
          "traceback": [
            "\u001b[0;36m  File \u001b[0;32m\"<ipython-input-15-e9cd8b78a4b6>\"\u001b[0;36m, line \u001b[0;32m2\u001b[0m\n\u001b[0;31m    2=1\u001b[0m\n\u001b[0m       ^\u001b[0m\n\u001b[0;31mSyntaxError\u001b[0m\u001b[0;31m:\u001b[0m can't assign to literal\n"
          ]
        }
      ]
    },
    {
      "cell_type": "code",
      "metadata": {
        "colab": {
          "base_uri": "https://localhost:8080/",
          "height": 132
        },
        "id": "TTJae8M73rh6",
        "outputId": "09f9046c-f1ab-4f53-dd89-d9a28eac3e25"
      },
      "source": [
        "2ab=1 #ห้ามใช้ตัวเลขเป็นตัวหน้า"
      ],
      "execution_count": 16,
      "outputs": [
        {
          "output_type": "error",
          "ename": "SyntaxError",
          "evalue": "ignored",
          "traceback": [
            "\u001b[0;36m  File \u001b[0;32m\"<ipython-input-16-d4a54ce931cb>\"\u001b[0;36m, line \u001b[0;32m1\u001b[0m\n\u001b[0;31m    2ab=1 #ห้ามใช้ตัวเลขเป็นตัวหน้า\u001b[0m\n\u001b[0m      ^\u001b[0m\n\u001b[0;31mSyntaxError\u001b[0m\u001b[0;31m:\u001b[0m invalid syntax\n"
          ]
        }
      ]
    },
    {
      "cell_type": "code",
      "metadata": {
        "colab": {
          "base_uri": "https://localhost:8080/"
        },
        "id": "JD-bKnZo3ujs",
        "outputId": "2aa612fe-6a88-470d-b1ce-8fec79c740f9"
      },
      "source": [
        "variable =1\n",
        "print(variable)"
      ],
      "execution_count": 17,
      "outputs": [
        {
          "output_type": "stream",
          "text": [
            "1\n"
          ],
          "name": "stdout"
        }
      ]
    },
    {
      "cell_type": "code",
      "metadata": {
        "id": "D5x3HGJG37CK"
      },
      "source": [
        "variable_a =12 #ตัวเลข\n",
        "variable_b ='abcde' #'เรียกว่า quote string\n",
        "variable_c = variable_a #ไม่มีโค๊ด\n",
        "variable_d = -41.2\n",
        "variable_4 = \"KKU\" # \"\" เรียกว่า double quote"
      ],
      "execution_count": 18,
      "outputs": []
    },
    {
      "cell_type": "code",
      "metadata": {
        "colab": {
          "base_uri": "https://localhost:8080/"
        },
        "id": "qnjEgMBW4iQ1",
        "outputId": "ddc10b6b-f4ce-4999-ff28-67fbd21e4819"
      },
      "source": [
        "variable_x = variable_c + variable_d\n",
        "print(variable_x)"
      ],
      "execution_count": 19,
      "outputs": [
        {
          "output_type": "stream",
          "text": [
            "-29.200000000000003\n"
          ],
          "name": "stdout"
        }
      ]
    },
    {
      "cell_type": "code",
      "metadata": {
        "colab": {
          "base_uri": "https://localhost:8080/",
          "height": 132
        },
        "id": "ipeV8Gn24ruT",
        "outputId": "a9f23071-c3ff-4af5-a166-5e573bc4c207"
      },
      "source": [
        "variable_a+variable_b int + string บวกกันไม่ได้"
      ],
      "execution_count": 20,
      "outputs": [
        {
          "output_type": "error",
          "ename": "SyntaxError",
          "evalue": "ignored",
          "traceback": [
            "\u001b[0;36m  File \u001b[0;32m\"<ipython-input-20-da14d9fbc05c>\"\u001b[0;36m, line \u001b[0;32m1\u001b[0m\n\u001b[0;31m    variable_a+variable_b int + string บวกกันไม่ได้\u001b[0m\n\u001b[0m                            ^\u001b[0m\n\u001b[0;31mSyntaxError\u001b[0m\u001b[0;31m:\u001b[0m invalid syntax\n"
          ]
        }
      ]
    },
    {
      "cell_type": "code",
      "metadata": {
        "colab": {
          "base_uri": "https://localhost:8080/"
        },
        "id": "naw30WAA6MaK",
        "outputId": "f000da38-c095-45fe-b3aa-9dce64dbe49d"
      },
      "source": [
        "print(variable_b+variable_4)"
      ],
      "execution_count": 21,
      "outputs": [
        {
          "output_type": "stream",
          "text": [
            "abcdeKKU\n"
          ],
          "name": "stdout"
        }
      ]
    },
    {
      "cell_type": "markdown",
      "metadata": {
        "id": "6CUwwXuj7BpW"
      },
      "source": [
        "##Casting int() flat() Str()"
      ]
    },
    {
      "cell_type": "code",
      "metadata": {
        "colab": {
          "base_uri": "https://localhost:8080/"
        },
        "id": "A9IDtJ5n6ifK",
        "outputId": "3dfa368c-d1b1-46f9-e9bf-d1924262c6ad"
      },
      "source": [
        "print (variable_x)\n",
        "print(int(variable_x))"
      ],
      "execution_count": 22,
      "outputs": [
        {
          "output_type": "stream",
          "text": [
            "-29.200000000000003\n",
            "-29\n"
          ],
          "name": "stdout"
        }
      ]
    },
    {
      "cell_type": "code",
      "metadata": {
        "colab": {
          "base_uri": "https://localhost:8080/"
        },
        "id": "cYV2d3BE7Ugd",
        "outputId": "53dc25e0-e452-44f0-816a-679e979433e7"
      },
      "source": [
        "V_x = str(variable_x)\n",
        "print(V_x)"
      ],
      "execution_count": 23,
      "outputs": [
        {
          "output_type": "stream",
          "text": [
            "-29.200000000000003\n"
          ],
          "name": "stdout"
        }
      ]
    },
    {
      "cell_type": "code",
      "metadata": {
        "colab": {
          "base_uri": "https://localhost:8080/",
          "height": 167
        },
        "id": "wCoQQY6z7nwb",
        "outputId": "45e6af95-0e23-4490-dded-f62c7f463a08"
      },
      "source": [
        "V_x + variable_a"
      ],
      "execution_count": 24,
      "outputs": [
        {
          "output_type": "error",
          "ename": "TypeError",
          "evalue": "ignored",
          "traceback": [
            "\u001b[0;31m---------------------------------------------------------------------------\u001b[0m",
            "\u001b[0;31mTypeError\u001b[0m                                 Traceback (most recent call last)",
            "\u001b[0;32m<ipython-input-24-117aa9578ab0>\u001b[0m in \u001b[0;36m<module>\u001b[0;34m()\u001b[0m\n\u001b[0;32m----> 1\u001b[0;31m \u001b[0mV_x\u001b[0m \u001b[0;34m+\u001b[0m \u001b[0mvariable_a\u001b[0m\u001b[0;34m\u001b[0m\u001b[0;34m\u001b[0m\u001b[0m\n\u001b[0m",
            "\u001b[0;31mTypeError\u001b[0m: can only concatenate str (not \"int\") to str"
          ]
        }
      ]
    },
    {
      "cell_type": "code",
      "metadata": {
        "colab": {
          "base_uri": "https://localhost:8080/",
          "height": 167
        },
        "id": "jeiszQI18DGd",
        "outputId": "b0cc6cf7-e59e-4579-bc68-51e8c0685111"
      },
      "source": [
        "variable_a + V_x"
      ],
      "execution_count": 25,
      "outputs": [
        {
          "output_type": "error",
          "ename": "TypeError",
          "evalue": "ignored",
          "traceback": [
            "\u001b[0;31m---------------------------------------------------------------------------\u001b[0m",
            "\u001b[0;31mTypeError\u001b[0m                                 Traceback (most recent call last)",
            "\u001b[0;32m<ipython-input-25-fd54cd903106>\u001b[0m in \u001b[0;36m<module>\u001b[0;34m()\u001b[0m\n\u001b[0;32m----> 1\u001b[0;31m \u001b[0mvariable_a\u001b[0m \u001b[0;34m+\u001b[0m \u001b[0mV_x\u001b[0m\u001b[0;34m\u001b[0m\u001b[0;34m\u001b[0m\u001b[0m\n\u001b[0m",
            "\u001b[0;31mTypeError\u001b[0m: unsupported operand type(s) for +: 'int' and 'str'"
          ]
        }
      ]
    },
    {
      "cell_type": "code",
      "metadata": {
        "colab": {
          "base_uri": "https://localhost:8080/",
          "height": 35
        },
        "id": "VG0H4N9c8GWq",
        "outputId": "0f03d887-c9c6-4f17-cc17-830faa27b4d5"
      },
      "source": [
        "V_x"
      ],
      "execution_count": 26,
      "outputs": [
        {
          "output_type": "execute_result",
          "data": {
            "application/vnd.google.colaboratory.intrinsic+json": {
              "type": "string"
            },
            "text/plain": [
              "'-29.200000000000003'"
            ]
          },
          "metadata": {
            "tags": []
          },
          "execution_count": 26
        }
      ]
    },
    {
      "cell_type": "code",
      "metadata": {
        "colab": {
          "base_uri": "https://localhost:8080/"
        },
        "id": "iYubxK7Y8Xan",
        "outputId": "66420181-8347-4076-d7e8-6d1e5f73ef5e"
      },
      "source": [
        "float(V_x)"
      ],
      "execution_count": 27,
      "outputs": [
        {
          "output_type": "execute_result",
          "data": {
            "text/plain": [
              "-29.200000000000003"
            ]
          },
          "metadata": {
            "tags": []
          },
          "execution_count": 27
        }
      ]
    },
    {
      "cell_type": "markdown",
      "metadata": {
        "id": "CAUEKylg8uzn"
      },
      "source": [
        "## Data structture"
      ]
    },
    {
      "cell_type": "markdown",
      "metadata": {
        "id": "qhTm0Z0f9E8B"
      },
      "source": [
        "###list()\n"
      ]
    },
    {
      "cell_type": "markdown",
      "metadata": {
        "id": "Yuk5Fe_v9OG5"
      },
      "source": [
        ""
      ]
    },
    {
      "cell_type": "code",
      "metadata": {
        "id": "LKDDvdHt8mbM"
      },
      "source": [
        "list_a = [1,2,0.2,'abs'] #square brackets\n",
        "list_b = [2,'xyz',list_a,[1,2,0.0]]"
      ],
      "execution_count": 28,
      "outputs": []
    },
    {
      "cell_type": "code",
      "metadata": {
        "colab": {
          "base_uri": "https://localhost:8080/"
        },
        "id": "AJ3u9Po69hF4",
        "outputId": "34fc2948-0911-4a50-da10-db79b818c65f"
      },
      "source": [
        "list_a"
      ],
      "execution_count": 29,
      "outputs": [
        {
          "output_type": "execute_result",
          "data": {
            "text/plain": [
              "[1, 2, 0.2, 'abs']"
            ]
          },
          "metadata": {
            "tags": []
          },
          "execution_count": 29
        }
      ]
    },
    {
      "cell_type": "code",
      "metadata": {
        "colab": {
          "base_uri": "https://localhost:8080/"
        },
        "id": "pEi3nFR699p1",
        "outputId": "268082df-7a7a-4736-88ec-edafcbdebd5d"
      },
      "source": [
        "list_b"
      ],
      "execution_count": 30,
      "outputs": [
        {
          "output_type": "execute_result",
          "data": {
            "text/plain": [
              "[2, 'xyz', [1, 2, 0.2, 'abs'], [1, 2, 0.0]]"
            ]
          },
          "metadata": {
            "tags": []
          },
          "execution_count": 30
        }
      ]
    },
    {
      "cell_type": "code",
      "metadata": {
        "colab": {
          "base_uri": "https://localhost:8080/"
        },
        "id": "24HgTnqr-Bgx",
        "outputId": "b3039ee5-9d4d-420c-e89b-a8bfc46de0eb"
      },
      "source": [
        "len(list_b)"
      ],
      "execution_count": 31,
      "outputs": [
        {
          "output_type": "execute_result",
          "data": {
            "text/plain": [
              "4"
            ]
          },
          "metadata": {
            "tags": []
          },
          "execution_count": 31
        }
      ]
    },
    {
      "cell_type": "code",
      "metadata": {
        "colab": {
          "base_uri": "https://localhost:8080/"
        },
        "id": "BQwAGW7F-MOz",
        "outputId": "c0ff5301-49f0-45da-bc6e-6d659fa449e3"
      },
      "source": [
        "list_b[3]"
      ],
      "execution_count": 32,
      "outputs": [
        {
          "output_type": "execute_result",
          "data": {
            "text/plain": [
              "[1, 2, 0.0]"
            ]
          },
          "metadata": {
            "tags": []
          },
          "execution_count": 32
        }
      ]
    },
    {
      "cell_type": "code",
      "metadata": {
        "colab": {
          "base_uri": "https://localhost:8080/"
        },
        "id": "qFAekcQu-ctF",
        "outputId": "4405dc6c-a945-43e4-c858-bbf42be32a37"
      },
      "source": [
        "list_b[3][1]"
      ],
      "execution_count": 33,
      "outputs": [
        {
          "output_type": "execute_result",
          "data": {
            "text/plain": [
              "2"
            ]
          },
          "metadata": {
            "tags": []
          },
          "execution_count": 33
        }
      ]
    },
    {
      "cell_type": "markdown",
      "metadata": {
        "id": "XAO_Fsmw-4Fn"
      },
      "source": [
        "String คือ list ของตัวหน้งสือ"
      ]
    },
    {
      "cell_type": "code",
      "metadata": {
        "id": "w1qPpkXm-k4s"
      },
      "source": [
        "a = 'Stat KKU'"
      ],
      "execution_count": 34,
      "outputs": []
    },
    {
      "cell_type": "code",
      "metadata": {
        "colab": {
          "base_uri": "https://localhost:8080/",
          "height": 0
        },
        "id": "kkemcIAJ_EJ6",
        "outputId": "63cd655c-2300-4f4a-cd33-5a66dd4cb3d6"
      },
      "source": [
        "a[4]"
      ],
      "execution_count": 35,
      "outputs": [
        {
          "output_type": "execute_result",
          "data": {
            "application/vnd.google.colaboratory.intrinsic+json": {
              "type": "string"
            },
            "text/plain": [
              "' '"
            ]
          },
          "metadata": {
            "tags": []
          },
          "execution_count": 35
        }
      ]
    },
    {
      "cell_type": "markdown",
      "metadata": {
        "id": "PxV2bsZz_eH0"
      },
      "source": [
        "วิธีสร้าง list แบบที่2 การสร้าง list ว่าง"
      ]
    },
    {
      "cell_type": "code",
      "metadata": {
        "id": "0bRhUhsj_HDm"
      },
      "source": [
        "list_c = list()\n",
        "list_d = []"
      ],
      "execution_count": 36,
      "outputs": []
    },
    {
      "cell_type": "code",
      "metadata": {
        "colab": {
          "base_uri": "https://localhost:8080/"
        },
        "id": "KcZLJFXl_4Jf",
        "outputId": "82d5fe0d-ad47-401d-f229-c01c0ef6987a"
      },
      "source": [
        "list_c"
      ],
      "execution_count": 37,
      "outputs": [
        {
          "output_type": "execute_result",
          "data": {
            "text/plain": [
              "[]"
            ]
          },
          "metadata": {
            "tags": []
          },
          "execution_count": 37
        }
      ]
    },
    {
      "cell_type": "code",
      "metadata": {
        "colab": {
          "base_uri": "https://localhost:8080/"
        },
        "id": "si7RvsHE_6aY",
        "outputId": "0344d6b6-f3e0-4e63-d1ef-4c7d55a1ba75"
      },
      "source": [
        "list_d"
      ],
      "execution_count": 38,
      "outputs": [
        {
          "output_type": "execute_result",
          "data": {
            "text/plain": [
              "[]"
            ]
          },
          "metadata": {
            "tags": []
          },
          "execution_count": 38
        }
      ]
    },
    {
      "cell_type": "markdown",
      "metadata": {
        "id": "GKGtmAn-AkBk"
      },
      "source": [
        "การเติมค่าลงไปใน list คือ . append"
      ]
    },
    {
      "cell_type": "code",
      "metadata": {
        "id": "ZkoUuK0J_8F8"
      },
      "source": [
        "list_d.append('a')"
      ],
      "execution_count": 39,
      "outputs": []
    },
    {
      "cell_type": "code",
      "metadata": {
        "colab": {
          "base_uri": "https://localhost:8080/"
        },
        "id": "AXpvQwYnAwJS",
        "outputId": "f5d491d2-7f18-463a-a458-07e5bd063299"
      },
      "source": [
        "list_d"
      ],
      "execution_count": 40,
      "outputs": [
        {
          "output_type": "execute_result",
          "data": {
            "text/plain": [
              "['a']"
            ]
          },
          "metadata": {
            "tags": []
          },
          "execution_count": 40
        }
      ]
    },
    {
      "cell_type": "code",
      "metadata": {
        "id": "WTE0-bOPAyRQ"
      },
      "source": [
        "list_d.append(56)"
      ],
      "execution_count": 41,
      "outputs": []
    },
    {
      "cell_type": "code",
      "metadata": {
        "colab": {
          "base_uri": "https://localhost:8080/"
        },
        "id": "CuAWKQ6ZA2_b",
        "outputId": "f043cdfd-55ab-4af1-ada2-97a1baa24244"
      },
      "source": [
        "list_d"
      ],
      "execution_count": 42,
      "outputs": [
        {
          "output_type": "execute_result",
          "data": {
            "text/plain": [
              "['a', 56]"
            ]
          },
          "metadata": {
            "tags": []
          },
          "execution_count": 42
        }
      ]
    },
    {
      "cell_type": "code",
      "metadata": {
        "id": "g4y4soNJA5Nq"
      },
      "source": [
        ""
      ],
      "execution_count": 42,
      "outputs": []
    },
    {
      "cell_type": "markdown",
      "metadata": {
        "id": "W4oQvTRQBGgn"
      },
      "source": [
        "การชี้ค่าใน list (indexing)\n",
        "\n",
        "-ใช้ลำดับในการชี้\n",
        "\n",
        "-ลำดับเริ่มจาก 0\n",
        "\n",
        "-สามารถชี้จากข้างหลังได้โดยใช้ nagative index"
      ]
    },
    {
      "cell_type": "code",
      "metadata": {
        "colab": {
          "base_uri": "https://localhost:8080/"
        },
        "id": "tx0w10hWBbho",
        "outputId": "80fd3d47-7b11-495b-8cd5-b89747e9d638"
      },
      "source": [
        "list_b"
      ],
      "execution_count": 43,
      "outputs": [
        {
          "output_type": "execute_result",
          "data": {
            "text/plain": [
              "[2, 'xyz', [1, 2, 0.2, 'abs'], [1, 2, 0.0]]"
            ]
          },
          "metadata": {
            "tags": []
          },
          "execution_count": 43
        }
      ]
    },
    {
      "cell_type": "code",
      "metadata": {
        "colab": {
          "base_uri": "https://localhost:8080/"
        },
        "id": "wMnVW05oBc6B",
        "outputId": "39632cbf-db2e-4f83-9b41-85c957619147"
      },
      "source": [
        "list_b[-1]"
      ],
      "execution_count": 44,
      "outputs": [
        {
          "output_type": "execute_result",
          "data": {
            "text/plain": [
              "[1, 2, 0.0]"
            ]
          },
          "metadata": {
            "tags": []
          },
          "execution_count": 44
        }
      ]
    },
    {
      "cell_type": "markdown",
      "metadata": {
        "id": "2l3sDSZCCLG1"
      },
      "source": [
        "##list slicing "
      ]
    },
    {
      "cell_type": "code",
      "metadata": {
        "id": "El5WM0ErBfmY"
      },
      "source": [
        "list_ex = [1,2,3,5,6,8,-1,20,50,0]"
      ],
      "execution_count": 45,
      "outputs": []
    },
    {
      "cell_type": "code",
      "metadata": {
        "colab": {
          "base_uri": "https://localhost:8080/"
        },
        "id": "xmhUblEOCc0C",
        "outputId": "bc341f2e-821b-4629-c2e5-322f5ca54768"
      },
      "source": [
        "list_ex[1:6] #เราจะตัด list โดยเอาตั้งแต่ [ตัวหน้า : ตัวก่อนตัวหลัง]"
      ],
      "execution_count": 46,
      "outputs": [
        {
          "output_type": "execute_result",
          "data": {
            "text/plain": [
              "[2, 3, 5, 6, 8]"
            ]
          },
          "metadata": {
            "tags": []
          },
          "execution_count": 46
        }
      ]
    },
    {
      "cell_type": "code",
      "metadata": {
        "colab": {
          "base_uri": "https://localhost:8080/"
        },
        "id": "qS9Z0T17CjxP",
        "outputId": "9c2f2436-3d6a-4aa3-8b2f-b4881a95076f"
      },
      "source": [
        "list_ex[4:]"
      ],
      "execution_count": 47,
      "outputs": [
        {
          "output_type": "execute_result",
          "data": {
            "text/plain": [
              "[6, 8, -1, 20, 50, 0]"
            ]
          },
          "metadata": {
            "tags": []
          },
          "execution_count": 47
        }
      ]
    },
    {
      "cell_type": "code",
      "metadata": {
        "colab": {
          "base_uri": "https://localhost:8080/"
        },
        "id": "bXkrknX4DaAm",
        "outputId": "0d9487cc-2308-4957-a7e8-941c5c4d8401"
      },
      "source": [
        "list_ex[:6]"
      ],
      "execution_count": 48,
      "outputs": [
        {
          "output_type": "execute_result",
          "data": {
            "text/plain": [
              "[1, 2, 3, 5, 6, 8]"
            ]
          },
          "metadata": {
            "tags": []
          },
          "execution_count": 48
        }
      ]
    },
    {
      "cell_type": "markdown",
      "metadata": {
        "id": "u_aYEQfHELSZ"
      },
      "source": [
        "[จุดเริ่มต้น:จุดสุดท้าย:Step]"
      ]
    },
    {
      "cell_type": "code",
      "metadata": {
        "colab": {
          "base_uri": "https://localhost:8080/"
        },
        "id": "d-4Eli-SDj3f",
        "outputId": "0c2b6582-6229-4a47-b184-c8ca5fd6a2cc"
      },
      "source": [
        "list_ex[::2]"
      ],
      "execution_count": 49,
      "outputs": [
        {
          "output_type": "execute_result",
          "data": {
            "text/plain": [
              "[1, 3, 6, -1, 50]"
            ]
          },
          "metadata": {
            "tags": []
          },
          "execution_count": 49
        }
      ]
    },
    {
      "cell_type": "code",
      "metadata": {
        "colab": {
          "base_uri": "https://localhost:8080/"
        },
        "id": "gYL-Co1AEWe6",
        "outputId": "ee649bae-4a24-43c6-d6e7-3f70fa433448"
      },
      "source": [
        "list_ex[::-1] #กลับlist"
      ],
      "execution_count": 50,
      "outputs": [
        {
          "output_type": "execute_result",
          "data": {
            "text/plain": [
              "[0, 50, 20, -1, 8, 6, 5, 3, 2, 1]"
            ]
          },
          "metadata": {
            "tags": []
          },
          "execution_count": 50
        }
      ]
    },
    {
      "cell_type": "code",
      "metadata": {
        "colab": {
          "base_uri": "https://localhost:8080/",
          "height": 0
        },
        "id": "0RLTwg26EowP",
        "outputId": "3836e4d4-97be-48cb-960d-dbe04e82907d"
      },
      "source": [
        "a"
      ],
      "execution_count": 51,
      "outputs": [
        {
          "output_type": "execute_result",
          "data": {
            "application/vnd.google.colaboratory.intrinsic+json": {
              "type": "string"
            },
            "text/plain": [
              "'Stat KKU'"
            ]
          },
          "metadata": {
            "tags": []
          },
          "execution_count": 51
        }
      ]
    },
    {
      "cell_type": "code",
      "metadata": {
        "colab": {
          "base_uri": "https://localhost:8080/",
          "height": 0
        },
        "id": "Jvp8Ukg6E5Bm",
        "outputId": "ea674fdf-62ba-464e-804f-09cda4e91934"
      },
      "source": [
        "a[:4]"
      ],
      "execution_count": 52,
      "outputs": [
        {
          "output_type": "execute_result",
          "data": {
            "application/vnd.google.colaboratory.intrinsic+json": {
              "type": "string"
            },
            "text/plain": [
              "'Stat'"
            ]
          },
          "metadata": {
            "tags": []
          },
          "execution_count": 52
        }
      ]
    },
    {
      "cell_type": "code",
      "metadata": {
        "colab": {
          "base_uri": "https://localhost:8080/",
          "height": 0
        },
        "id": "rBZLm7sTFFFu",
        "outputId": "5ae49184-78e3-4b3a-be23-91752e68577b"
      },
      "source": [
        "a[5:]"
      ],
      "execution_count": 53,
      "outputs": [
        {
          "output_type": "execute_result",
          "data": {
            "application/vnd.google.colaboratory.intrinsic+json": {
              "type": "string"
            },
            "text/plain": [
              "'KKU'"
            ]
          },
          "metadata": {
            "tags": []
          },
          "execution_count": 53
        }
      ]
    },
    {
      "cell_type": "markdown",
      "metadata": {
        "id": "syIPjSV2HF0I"
      },
      "source": [
        "### list+list"
      ]
    },
    {
      "cell_type": "code",
      "metadata": {
        "colab": {
          "base_uri": "https://localhost:8080/"
        },
        "id": "wPxaU0FwFs9T",
        "outputId": "9a763848-3019-41e3-a0bf-1b258be3c0ae"
      },
      "source": [
        "list_a + list_b"
      ],
      "execution_count": 54,
      "outputs": [
        {
          "output_type": "execute_result",
          "data": {
            "text/plain": [
              "[1, 2, 0.2, 'abs', 2, 'xyz', [1, 2, 0.2, 'abs'], [1, 2, 0.0]]"
            ]
          },
          "metadata": {
            "tags": []
          },
          "execution_count": 54
        }
      ]
    },
    {
      "cell_type": "markdown",
      "metadata": {
        "id": "gOOWf5UhLZ-9"
      },
      "source": [
        "####format string"
      ]
    },
    {
      "cell_type": "markdown",
      "metadata": {
        "id": "OHldzaCQLuOH"
      },
      "source": [
        "```\n",
        "f'string + {ตัวแปร}'\n",
        "```\n",
        "\n",
        "{} เรียกว่า curly brackets"
      ]
    },
    {
      "cell_type": "code",
      "metadata": {
        "colab": {
          "base_uri": "https://localhost:8080/",
          "height": 0
        },
        "id": "P_yr05eKLfpV",
        "outputId": "feaad325-b002-449d-8520-fe3dab46a13d"
      },
      "source": [
        "f'ตัวแปร list_a มีค่าคือ {list_a}'"
      ],
      "execution_count": 55,
      "outputs": [
        {
          "output_type": "execute_result",
          "data": {
            "application/vnd.google.colaboratory.intrinsic+json": {
              "type": "string"
            },
            "text/plain": [
              "\"ตัวแปร list_a มีค่าคือ [1, 2, 0.2, 'abs']\""
            ]
          },
          "metadata": {
            "tags": []
          },
          "execution_count": 55
        }
      ]
    },
    {
      "cell_type": "markdown",
      "metadata": {
        "id": "N2rV3BrRH5jI"
      },
      "source": [
        "##loop\n",
        "\n",
        "ทำงานซ้ำๆ หรือทำงานคล้ายๆกัน\n"
      ]
    },
    {
      "cell_type": "markdown",
      "metadata": {
        "id": "w6EEqiRoCRWz"
      },
      "source": [
        "Indent = เว้น"
      ]
    },
    {
      "cell_type": "markdown",
      "metadata": {
        "id": "rphLU3t-KXQ-"
      },
      "source": [
        "```python\n",
        "for ตัวแปรที่จะรับค่าจากลิสต์ in ลิสต์ที่จะนำมาวนลูป:\n",
        "    do something #in loop \n",
        "    do another thing #in loop\n",
        "\n",
        "do other things #out side loop\n",
        "```"
      ]
    },
    {
      "cell_type": "code",
      "metadata": {
        "colab": {
          "base_uri": "https://localhost:8080/"
        },
        "id": "L3iafBJLJo0t",
        "outputId": "f0eac2a9-f725-4863-f530-0368b8610152"
      },
      "source": [
        "for i in [1,2,3,4,5]:\n",
        "    print(i+1)"
      ],
      "execution_count": 56,
      "outputs": [
        {
          "output_type": "stream",
          "text": [
            "2\n",
            "3\n",
            "4\n",
            "5\n",
            "6\n"
          ],
          "name": "stdout"
        }
      ]
    },
    {
      "cell_type": "code",
      "metadata": {
        "colab": {
          "base_uri": "https://localhost:8080/"
        },
        "id": "hxA-uU4WMYRp",
        "outputId": "29ab6ce7-331d-440e-f1ef-993ad7122e45"
      },
      "source": [
        "for x in [1,2,3,4,5]:\n",
        "    print(f'ค่าตัวแปร x คือ {x} และ x+2={x+2}')"
      ],
      "execution_count": 57,
      "outputs": [
        {
          "output_type": "stream",
          "text": [
            "ค่าตัวแปร x คือ 1 และ x+2=3\n",
            "ค่าตัวแปร x คือ 2 และ x+2=4\n",
            "ค่าตัวแปร x คือ 3 และ x+2=5\n",
            "ค่าตัวแปร x คือ 4 และ x+2=6\n",
            "ค่าตัวแปร x คือ 5 และ x+2=7\n"
          ],
          "name": "stdout"
        }
      ]
    },
    {
      "cell_type": "code",
      "metadata": {
        "colab": {
          "base_uri": "https://localhost:8080/"
        },
        "id": "m44UAB9FM0HF",
        "outputId": "e3f6aa3b-063a-43d2-83f3-91e4105e115b"
      },
      "source": [
        "list5=[1,2,3,4,5]\n",
        "for x in list5:\n",
        "    print(f'ค่าตัวแปร x คือ {x} และ x+2={x+2}')"
      ],
      "execution_count": 58,
      "outputs": [
        {
          "output_type": "stream",
          "text": [
            "ค่าตัวแปร x คือ 1 และ x+2=3\n",
            "ค่าตัวแปร x คือ 2 และ x+2=4\n",
            "ค่าตัวแปร x คือ 3 และ x+2=5\n",
            "ค่าตัวแปร x คือ 4 และ x+2=6\n",
            "ค่าตัวแปร x คือ 5 และ x+2=7\n"
          ],
          "name": "stdout"
        }
      ]
    },
    {
      "cell_type": "code",
      "metadata": {
        "colab": {
          "base_uri": "https://localhost:8080/"
        },
        "id": "S8AUu8O4NCj5",
        "outputId": "3dbe78b8-0e99-4501-eac9-4d8429f4f30e"
      },
      "source": [
        "list(range(10))"
      ],
      "execution_count": 59,
      "outputs": [
        {
          "output_type": "execute_result",
          "data": {
            "text/plain": [
              "[0, 1, 2, 3, 4, 5, 6, 7, 8, 9]"
            ]
          },
          "metadata": {
            "tags": []
          },
          "execution_count": 59
        }
      ]
    },
    {
      "cell_type": "code",
      "metadata": {
        "colab": {
          "base_uri": "https://localhost:8080/"
        },
        "id": "cCxlS1jqNTEg",
        "outputId": "5858c52d-9159-4e8b-b57c-6b9e6ed141b9"
      },
      "source": [
        "for i in range(2,7):\n",
        "    print(i)"
      ],
      "execution_count": 60,
      "outputs": [
        {
          "output_type": "stream",
          "text": [
            "2\n",
            "3\n",
            "4\n",
            "5\n",
            "6\n"
          ],
          "name": "stdout"
        }
      ]
    },
    {
      "cell_type": "code",
      "metadata": {
        "colab": {
          "base_uri": "https://localhost:8080/"
        },
        "id": "12Ws4IGhN3ma",
        "outputId": "01e22a98-c007-4ad1-a9db-c6ded952a2ee"
      },
      "source": [
        "for i in range(2,7,2):\n",
        "    print(i)"
      ],
      "execution_count": 61,
      "outputs": [
        {
          "output_type": "stream",
          "text": [
            "2\n",
            "4\n",
            "6\n"
          ],
          "name": "stdout"
        }
      ]
    },
    {
      "cell_type": "code",
      "metadata": {
        "colab": {
          "base_uri": "https://localhost:8080/"
        },
        "id": "JeAMzlV_OQhz",
        "outputId": "5adb89c1-028a-4a97-ad85-bdc8afd7f157"
      },
      "source": [
        "for i in range(5):\n",
        "    print('hahaha')"
      ],
      "execution_count": 62,
      "outputs": [
        {
          "output_type": "stream",
          "text": [
            "hahaha\n",
            "hahaha\n",
            "hahaha\n",
            "hahaha\n",
            "hahaha\n"
          ],
          "name": "stdout"
        }
      ]
    },
    {
      "cell_type": "code",
      "metadata": {
        "colab": {
          "base_uri": "https://localhost:8080/"
        },
        "id": "AzR-zV4UOika",
        "outputId": "dd16755b-2e20-412c-d3ef-221d8edcf552"
      },
      "source": [
        "for i in range(5):\n",
        "    print('hahaha')\n",
        "    x = i+3\n",
        "    print(f'i={i} x={x}')"
      ],
      "execution_count": 63,
      "outputs": [
        {
          "output_type": "stream",
          "text": [
            "hahaha\n",
            "i=0 x=3\n",
            "hahaha\n",
            "i=1 x=4\n",
            "hahaha\n",
            "i=2 x=5\n",
            "hahaha\n",
            "i=3 x=6\n",
            "hahaha\n",
            "i=4 x=7\n"
          ],
          "name": "stdout"
        }
      ]
    },
    {
      "cell_type": "markdown",
      "metadata": {
        "id": "0uP85GR0PB7S"
      },
      "source": [
        "####nested loop"
      ]
    },
    {
      "cell_type": "code",
      "metadata": {
        "colab": {
          "base_uri": "https://localhost:8080/"
        },
        "id": "GqPr2mMPPFvr",
        "outputId": "33346d51-951b-43ba-efe0-7c54d00508f4"
      },
      "source": [
        "for i in range(3):\n",
        "    for j in range(4):\n",
        "        print(f' i= {i} j ={j} i+j={i+j}')"
      ],
      "execution_count": 64,
      "outputs": [
        {
          "output_type": "stream",
          "text": [
            " i= 0 j =0 i+j=0\n",
            " i= 0 j =1 i+j=1\n",
            " i= 0 j =2 i+j=2\n",
            " i= 0 j =3 i+j=3\n",
            " i= 1 j =0 i+j=1\n",
            " i= 1 j =1 i+j=2\n",
            " i= 1 j =2 i+j=3\n",
            " i= 1 j =3 i+j=4\n",
            " i= 2 j =0 i+j=2\n",
            " i= 2 j =1 i+j=3\n",
            " i= 2 j =2 i+j=4\n",
            " i= 2 j =3 i+j=5\n"
          ],
          "name": "stdout"
        }
      ]
    },
    {
      "cell_type": "code",
      "metadata": {
        "colab": {
          "base_uri": "https://localhost:8080/"
        },
        "id": "UT19UP3cQGH2",
        "outputId": "9d051f79-ac63-49b7-a77b-429f581c55c0"
      },
      "source": [
        "for i in range(3):\n",
        "    print(f'now i = {i}')\n",
        "    print('start j loop')\n",
        "    for j in range(4):\n",
        "        print(f' i= {i} j ={j} i+j={i+j}')\n",
        "    print('end j loop')"
      ],
      "execution_count": 65,
      "outputs": [
        {
          "output_type": "stream",
          "text": [
            "now i = 0\n",
            "start j loop\n",
            " i= 0 j =0 i+j=0\n",
            " i= 0 j =1 i+j=1\n",
            " i= 0 j =2 i+j=2\n",
            " i= 0 j =3 i+j=3\n",
            "end j loop\n",
            "now i = 1\n",
            "start j loop\n",
            " i= 1 j =0 i+j=1\n",
            " i= 1 j =1 i+j=2\n",
            " i= 1 j =2 i+j=3\n",
            " i= 1 j =3 i+j=4\n",
            "end j loop\n",
            "now i = 2\n",
            "start j loop\n",
            " i= 2 j =0 i+j=2\n",
            " i= 2 j =1 i+j=3\n",
            " i= 2 j =2 i+j=4\n",
            " i= 2 j =3 i+j=5\n",
            "end j loop\n"
          ],
          "name": "stdout"
        }
      ]
    },
    {
      "cell_type": "markdown",
      "metadata": {
        "id": "YM7dvblLH76J"
      },
      "source": [
        "###Condition เงื่อนไข (if statement)"
      ]
    },
    {
      "cell_type": "markdown",
      "metadata": {
        "id": "MilIw_DIFZSP"
      },
      "source": [
        "```python\n",
        "if เงื่อนไขที่จะตรวจสอบ : \n",
        "     ถ้าเงื่อนไขเป็นจริง ทำงน 1\n",
        "     ถ้าเงื่อนไขเป็นจริง ทำงาน 2\n",
        "\n",
        "```"
      ]
    },
    {
      "cell_type": "code",
      "metadata": {
        "id": "cx3NYU3TGlZW",
        "outputId": "80d8efc8-9530-4b2f-88ba-a43a06216db8",
        "colab": {
          "base_uri": "https://localhost:8080/"
        }
      },
      "source": [
        "stringx = 'sadfasdfweirjwerslfbwilhfchdfspadofgi'\n",
        "\n",
        "if len(stringx) > 30:\n",
        "    print(f'{stringx} is longer than 30 characters')"
      ],
      "execution_count": 72,
      "outputs": [
        {
          "output_type": "stream",
          "text": [
            "sadfasdfweirjwerslfbwilhfchdfspadofgi is longer than 30 characters\n"
          ],
          "name": "stdout"
        }
      ]
    },
    {
      "cell_type": "code",
      "metadata": {
        "id": "e3zuWFsoHHdS"
      },
      "source": [
        "stringx =  'sadfasdfweirjwerslfbwilhfchdfspadofgi'\n",
        "\n",
        "if len(stringx) > 100:\n",
        "    print(f'{stringx} is longer than 30 characters')"
      ],
      "execution_count": 76,
      "outputs": []
    },
    {
      "cell_type": "markdown",
      "metadata": {
        "id": "NSUzhQrGIVMU"
      },
      "source": [
        "```python\n",
        "if เงื่อนไขที่จะตรวจสอบ : \n",
        "     ถ้าเงื่อนไขเป็นจริง ทำงน 1\n",
        "     ถ้าเงื่อนไขเป็นจริง ทำงาน 2\n",
        "else: #ตรวจสอบเงื่อนไขข้างบนแล้วไม่เป็นจริง\n",
        "      ทำงานที่ x\n",
        "\n",
        "```"
      ]
    },
    {
      "cell_type": "code",
      "metadata": {
        "id": "69DmS4ffIFz9",
        "outputId": "1565569b-08e7-4c2e-839c-251abd62ed08",
        "colab": {
          "base_uri": "https://localhost:8080/"
        }
      },
      "source": [
        "stringx =  'sadfasdfweirjwerslfbwilhfchdfspadofgi'\n",
        "\n",
        "if len(stringx) > 100:\n",
        "    print(f'{stringx} is longer than 30 characters')\n",
        "else:\n",
        "    print(f'{stringx} in {len(stringx)}characters long')"
      ],
      "execution_count": 77,
      "outputs": [
        {
          "output_type": "stream",
          "text": [
            "sadfasdfweirjwerslfbwilhfchdfspadofgi in 37characters long\n"
          ],
          "name": "stdout"
        }
      ]
    },
    {
      "cell_type": "markdown",
      "metadata": {
        "id": "yt-CLwXIJTFV"
      },
      "source": [
        "```python\n",
        "if เงื่อนไขที่จะตรวจสอบ (โดยใช้สัญลักษณ์ ==,!=,<,>,<=,>=): \n",
        "     ถ้าเงื่อนไขเป็นจริง ทำงน 1\n",
        "     ถ้าเงื่อนไขเป็นจริง ทำงาน 2\n",
        "elif เงื่อนไขที่จะตรวจสอบต่อไป ถ้าเงื่อนไขข้างบนไม่เป็นจริง:\n",
        "     ถ้าเงื่อนไขเป็นจริง ทำงน a1\n",
        "     ถ้าเงื่อนไขเป็นจริง ทำงาน a2\n",
        "elif เงื่อนไขที่จะตรวจสอบต่อไป ถ้าเงื่อนไขข้างบนไม่เป็นจริง:\n",
        "     ถ้าเงื่อนไขเป็นจริง ทำงน b1\n",
        "     ถ้าเงื่อนไขเป็นจริง ทำงาน b2\n",
        "else: #ตรวจสอบเงื่อนไขข้างบนแล้วไม่เป็นจริง\n",
        "      ทำงานที่ x\n",
        "\n",
        "```"
      ]
    },
    {
      "cell_type": "code",
      "metadata": {
        "id": "tuPifNg8KxwE",
        "outputId": "144869ea-46c5-454b-cf4f-b6b1ee80735f",
        "colab": {
          "base_uri": "https://localhost:8080/"
        }
      },
      "source": [
        "password = '12345'\n",
        "\n",
        "input_pass = '123af'\n",
        "if input_pass == password:\n",
        "    print('Welcome!')\n",
        "elif len(input_pass) > len(password):\n",
        "    print('Too long,try again!')\n",
        "elif len(input_pass) < len(password):\n",
        "    print('Too short,try again!')\n",
        "else:\n",
        "    print('Wrong password, try again!')"
      ],
      "execution_count": 82,
      "outputs": [
        {
          "output_type": "stream",
          "text": [
            "Wrong password, try again!\n"
          ],
          "name": "stdout"
        }
      ]
    },
    {
      "cell_type": "markdown",
      "metadata": {
        "id": "ynCa5XBvK7Ys"
      },
      "source": [
        "Quiz 1 หา min"
      ]
    },
    {
      "cell_type": "code",
      "metadata": {
        "id": "6gQt8qgZNty3"
      },
      "source": [
        "list_ex = [1,5,9,-19,-2,0] #หาค่าน้อยที่สุดใน list_ex โดยไม่ใช้ function min (commit ก่อน 10:30)\n",
        "min ='-19'\n",
        "\n",
        "input_num ='1'\n",
        "if input_num == min:\n",
        "    print('correct')\n",
        "elif len(input_num)>len(min):\n",
        "    print('incorrect')"
      ],
      "execution_count": 85,
      "outputs": []
    },
    {
      "cell_type": "markdown",
      "metadata": {
        "id": "R8IWGNApLBIl"
      },
      "source": [
        "Quiz 2 ตัดเกรด"
      ]
    },
    {
      "cell_type": "markdown",
      "metadata": {
        "id": "ZRzBCmcyIBjj"
      },
      "source": [
        "####Function"
      ]
    },
    {
      "cell_type": "code",
      "metadata": {
        "id": "oXfSveK6Gfbi"
      },
      "source": [
        ""
      ],
      "execution_count": 65,
      "outputs": []
    }
  ]
}