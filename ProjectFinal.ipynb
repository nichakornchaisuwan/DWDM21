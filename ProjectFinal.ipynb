{
  "nbformat": 4,
  "nbformat_minor": 0,
  "metadata": {
    "colab": {
      "name": "ProjectFinal.ipynb",
      "provenance": [],
      "include_colab_link": true
    },
    "kernelspec": {
      "name": "python3",
      "display_name": "Python 3"
    },
    "language_info": {
      "name": "python"
    }
  },
  "cells": [
    {
      "cell_type": "markdown",
      "metadata": {
        "id": "view-in-github",
        "colab_type": "text"
      },
      "source": [
        "<a href=\"https://colab.research.google.com/github/nichakornchaisuwan/DWDM21/blob/main/ProjectFinal.ipynb\" target=\"_parent\"><img src=\"https://colab.research.google.com/assets/colab-badge.svg\" alt=\"Open In Colab\"/></a>"
      ]
    },
    {
      "cell_type": "markdown",
      "metadata": {
        "id": "AcxILdH2twdL"
      },
      "source": [
        "## **สมาชิก**\n",
        "**Sandboxนะจ๊ะ**\n",
        "1. 623020516-1 นางสาวชนัญชิดา เมธีกุลมานิต\n",
        "2. 623020521-8 นางสาวณิชากร ไชยสุวรรณ\n",
        "3. 623021040-9 นางสาวกิตติมา อุปสุข\n",
        "4. 623021050-6 นางสาวนฤมล ไสยโสภณ\n",
        "5. 623021052-2 นางสาวภิญญาดา เพ็ญสุข "
      ]
    },
    {
      "cell_type": "markdown",
      "metadata": {
        "id": "hchXwbXofBSI"
      },
      "source": [
        "###แหล่งที่มาของข้อมูล\n",
        "* ย่านชุมชนเก่า แหล่งที่มาของข้อมูล https://data.go.th/dataset/old-community?fbclid=IwAR0TJxEAwTtBKYS853iy-LVEDE09z9WawwXii0BufdHWwojpU0_Lvw3ciYM\n",
        "* ผู้เยี่ยมเยือน จำแนกตามจังหวัด แหล่งท่มาของข้อมูล https://data.go.th/dataset/visitors?fbclid=IwAR0mLjK4IUjLWa99UBhG5sM6FGGnicg_iVRzQHTp8btujsUbFEOzmGFaRYA\n",
        "* รายได้จากการท่องเที่ยว จำแนกรายจังหวัด https://data.go.th/dataset/1559?fbclid=IwAR3-ZnxUzDyap-vs3T3vdkkwXgIu5ye3pwha8okKoZk6MQMhYl6KNmYeu9M"
      ]
    },
    {
      "cell_type": "code",
      "metadata": {
        "id": "GQXec03xeoz0"
      },
      "source": [
        "import pandas as pd # ทำงานกับข้อมูลลักษณะตาราง"
      ],
      "execution_count": 1,
      "outputs": []
    },
    {
      "cell_type": "code",
      "metadata": {
        "colab": {
          "base_uri": "https://localhost:8080/"
        },
        "id": "GAsod1NZfN8c",
        "outputId": "153b72a9-180d-4cd1-ccc6-defbcffc3214"
      },
      "source": [
        "from google.colab import drive # package เชื่อม google  drive\n",
        "drive.mount('/content/drive')"
      ],
      "execution_count": 2,
      "outputs": [
        {
          "output_type": "stream",
          "name": "stdout",
          "text": [
            "Drive already mounted at /content/drive; to attempt to forcibly remount, call drive.mount(\"/content/drive\", force_remount=True).\n"
          ]
        }
      ]
    },
    {
      "cell_type": "code",
      "metadata": {
        "colab": {
          "base_uri": "https://localhost:8080/"
        },
        "id": "4z3E9mC2fho2",
        "outputId": "13f1078d-9438-4602-a2fb-77a5a94c7609"
      },
      "source": [
        "ls"
      ],
      "execution_count": 3,
      "outputs": [
        {
          "output_type": "stream",
          "name": "stdout",
          "text": [
            "data_mix.csv  \u001b[0m\u001b[01;34mdrive\u001b[0m/  \u001b[01;34msample_data\u001b[0m/\n"
          ]
        }
      ]
    },
    {
      "cell_type": "code",
      "metadata": {
        "id": "ie54P7nrfjeF"
      },
      "source": [
        "import os # จัดการไฟล์และ path (ที่อยู่ของไฟล์)"
      ],
      "execution_count": 4,
      "outputs": []
    },
    {
      "cell_type": "code",
      "metadata": {
        "id": "KLAnymMRflFs"
      },
      "source": [
        "path = '/content/drive/My Drive/DWDM21_DATA'"
      ],
      "execution_count": 5,
      "outputs": []
    },
    {
      "cell_type": "markdown",
      "metadata": {
        "id": "UrXotJ1ofnbv"
      },
      "source": [
        "### นำเข้าข้อมูล"
      ]
    },
    {
      "cell_type": "markdown",
      "metadata": {
        "id": "aK2kOWpRfqst"
      },
      "source": [
        "#### ข้อมูลที่ 1 ย่านชุมชนเก่า"
      ]
    },
    {
      "cell_type": "code",
      "metadata": {
        "colab": {
          "base_uri": "https://localhost:8080/",
          "height": 614
        },
        "id": "TxMfJ4mcfo7O",
        "outputId": "7e04ee01-7200-4e2a-a66b-e9935b48aaaf"
      },
      "source": [
        "data_1 = pd.read_csv(os.path.join(path,'old-community-area-updated-may-2021.csv')) # ย่านชุมชนเก่า\n",
        "data_1 "
      ],
      "execution_count": 6,
      "outputs": [
        {
          "output_type": "execute_result",
          "data": {
            "text/html": [
              "<div>\n",
              "<style scoped>\n",
              "    .dataframe tbody tr th:only-of-type {\n",
              "        vertical-align: middle;\n",
              "    }\n",
              "\n",
              "    .dataframe tbody tr th {\n",
              "        vertical-align: top;\n",
              "    }\n",
              "\n",
              "    .dataframe thead th {\n",
              "        text-align: right;\n",
              "    }\n",
              "</style>\n",
              "<table border=\"1\" class=\"dataframe\">\n",
              "  <thead>\n",
              "    <tr style=\"text-align: right;\">\n",
              "      <th></th>\n",
              "      <th>ลำดับที่</th>\n",
              "      <th>ชื่อย่านชุมชนเก่า</th>\n",
              "      <th>ตำบล</th>\n",
              "      <th>อำเภอ</th>\n",
              "      <th>จังหวัด</th>\n",
              "      <th>ภาค</th>\n",
              "      <th>East</th>\n",
              "      <th>North</th>\n",
              "      <th>ลักษณะสำคัญ</th>\n",
              "    </tr>\n",
              "  </thead>\n",
              "  <tbody>\n",
              "    <tr>\n",
              "      <th>0</th>\n",
              "      <td>1</td>\n",
              "      <td>นครชุม</td>\n",
              "      <td>นครชุม</td>\n",
              "      <td>เมืองกำแพงเพชร</td>\n",
              "      <td>กำแพงเพชร</td>\n",
              "      <td>กลาง</td>\n",
              "      <td>552752.0317</td>\n",
              "      <td>1822472.131</td>\n",
              "      <td>นครชุม เป็นชุมชนตลาดการค้า ที่มีประวัติความเป็...</td>\n",
              "    </tr>\n",
              "    <tr>\n",
              "      <th>1</th>\n",
              "      <td>2</td>\n",
              "      <td>บ้านพรานกระต่าย</td>\n",
              "      <td>ถ้ำกระต่ายทอง</td>\n",
              "      <td>พรานกระต่าย</td>\n",
              "      <td>กำแพงเพชร</td>\n",
              "      <td>กลาง</td>\n",
              "      <td>562744.2062</td>\n",
              "      <td>1842633.828</td>\n",
              "      <td>บ้านพรานกระต่าย เป็นชุมชนเกษตรกรรมชนบท ที่มีเร...</td>\n",
              "    </tr>\n",
              "    <tr>\n",
              "      <th>2</th>\n",
              "      <td>3</td>\n",
              "      <td>บ้านห้วยแม่ซ้าย (บ้านยะฟู)</td>\n",
              "      <td>แม่ยาว</td>\n",
              "      <td>เมืองเชียงราย</td>\n",
              "      <td>เชียงราย</td>\n",
              "      <td>เหนือ</td>\n",
              "      <td>576712.0936</td>\n",
              "      <td>2209887.554</td>\n",
              "      <td>บ้านห้วยแม่ซ้าย เป็นชุมชนเกษตรกรรม และชุมชนชาต...</td>\n",
              "    </tr>\n",
              "    <tr>\n",
              "      <th>3</th>\n",
              "      <td>4</td>\n",
              "      <td>บ้านถ้ำผาตอง</td>\n",
              "      <td>ท่าสุด</td>\n",
              "      <td>เมืองเชียงราย</td>\n",
              "      <td>เชียงราย</td>\n",
              "      <td>เหนือ</td>\n",
              "      <td>594024.4964</td>\n",
              "      <td>2220483.832</td>\n",
              "      <td>บ้านถ้ำผาตอง เป็นชุมชนเกษตรกรรม และชุมชนกลุ่มอ...</td>\n",
              "    </tr>\n",
              "    <tr>\n",
              "      <th>4</th>\n",
              "      <td>5</td>\n",
              "      <td>บ้านกะเหรี่ยงรวมมิตร</td>\n",
              "      <td>แม่ยาว</td>\n",
              "      <td>เมืองเชียงราย</td>\n",
              "      <td>เชียงราย</td>\n",
              "      <td>เหนือ</td>\n",
              "      <td>574379.3488</td>\n",
              "      <td>2207223.193</td>\n",
              "      <td>บ้านกะเหรี่ยงรวมมิตร เป็นชุมชนเกษตรกรรม ชุมชนต...</td>\n",
              "    </tr>\n",
              "    <tr>\n",
              "      <th>...</th>\n",
              "      <td>...</td>\n",
              "      <td>...</td>\n",
              "      <td>...</td>\n",
              "      <td>...</td>\n",
              "      <td>...</td>\n",
              "      <td>...</td>\n",
              "      <td>...</td>\n",
              "      <td>...</td>\n",
              "      <td>...</td>\n",
              "    </tr>\n",
              "    <tr>\n",
              "      <th>608</th>\n",
              "      <td>609</td>\n",
              "      <td>ชุมชนบ้านปะอาว</td>\n",
              "      <td>ปะอาว</td>\n",
              "      <td>เมืองอุบลราชธานี</td>\n",
              "      <td>อุบลราชธานี</td>\n",
              "      <td>ตะวันออกเฉียงเหนือ</td>\n",
              "      <td>470529.6991</td>\n",
              "      <td>1697790.579</td>\n",
              "      <td>ชุมชนบ้านปะอาว เป็นชุมชนชนบทตั้งอยู่บนที่ดอน พ...</td>\n",
              "    </tr>\n",
              "    <tr>\n",
              "      <th>609</th>\n",
              "      <td>610</td>\n",
              "      <td>ชุมชนพาณิชยกรรมเก่า</td>\n",
              "      <td>วารินชำราบ</td>\n",
              "      <td>วารินชำราบ</td>\n",
              "      <td>อุบลราชธานี</td>\n",
              "      <td>ตะวันออกเฉียงเหนือ</td>\n",
              "      <td>485281.0265</td>\n",
              "      <td>1680326.802</td>\n",
              "      <td>ชุมชนพาณิชยกรรมเก่า เป็นย่านพาณิชยกรรมเก่าแห่ง...</td>\n",
              "    </tr>\n",
              "    <tr>\n",
              "      <th>610</th>\n",
              "      <td>611</td>\n",
              "      <td>ชุมชนแก่งสะพือ</td>\n",
              "      <td>พิบูลมังสาหาร</td>\n",
              "      <td>พิบูลมังสาหาร</td>\n",
              "      <td>อุบลราชธานี</td>\n",
              "      <td>ตะวันออกเฉียงเหนือ</td>\n",
              "      <td>525387.1286</td>\n",
              "      <td>1685535.918</td>\n",
              "      <td>ชุมชนแก่งสะพือ เป็นย่านชุมชนเก่าริมน้ำแม่น้ำมู...</td>\n",
              "    </tr>\n",
              "    <tr>\n",
              "      <th>611</th>\n",
              "      <td>612</td>\n",
              "      <td>ชุมชนบ้านแคน</td>\n",
              "      <td>ดอนมดแดง</td>\n",
              "      <td>ดอนมดแดง</td>\n",
              "      <td>อุบลราชธานี</td>\n",
              "      <td>ตะวันออกเฉียงเหนือ</td>\n",
              "      <td>503277.5178</td>\n",
              "      <td>1692398.86</td>\n",
              "      <td>ชุมชนบ้านแคน เป็นชุมชนชนบทตั้งอยู่บนที่ดอน พื้...</td>\n",
              "    </tr>\n",
              "    <tr>\n",
              "      <th>612</th>\n",
              "      <td>613</td>\n",
              "      <td>ชุมชนบ้านชาด</td>\n",
              "      <td>เค็งใหญ่</td>\n",
              "      <td>หัวตะพาน</td>\n",
              "      <td>อำนาจเจริญ</td>\n",
              "      <td>ตะวันออกเฉียงเหนือ</td>\n",
              "      <td>420835.9213</td>\n",
              "      <td>1758462.158</td>\n",
              "      <td>ชุมชนบ้านชาด เป็นชุมชนเก่าตั้งอยู่ใกล้กับแหล่ง...</td>\n",
              "    </tr>\n",
              "  </tbody>\n",
              "</table>\n",
              "<p>613 rows × 9 columns</p>\n",
              "</div>"
            ],
            "text/plain": [
              "     ลำดับที่  ...                                        ลักษณะสำคัญ\n",
              "0           1  ...  นครชุม เป็นชุมชนตลาดการค้า ที่มีประวัติความเป็...\n",
              "1           2  ...  บ้านพรานกระต่าย เป็นชุมชนเกษตรกรรมชนบท ที่มีเร...\n",
              "2           3  ...  บ้านห้วยแม่ซ้าย เป็นชุมชนเกษตรกรรม และชุมชนชาต...\n",
              "3           4  ...  บ้านถ้ำผาตอง เป็นชุมชนเกษตรกรรม และชุมชนกลุ่มอ...\n",
              "4           5  ...  บ้านกะเหรี่ยงรวมมิตร เป็นชุมชนเกษตรกรรม ชุมชนต...\n",
              "..        ...  ...                                                ...\n",
              "608       609  ...  ชุมชนบ้านปะอาว เป็นชุมชนชนบทตั้งอยู่บนที่ดอน พ...\n",
              "609       610  ...  ชุมชนพาณิชยกรรมเก่า เป็นย่านพาณิชยกรรมเก่าแห่ง...\n",
              "610       611  ...  ชุมชนแก่งสะพือ เป็นย่านชุมชนเก่าริมน้ำแม่น้ำมู...\n",
              "611       612  ...  ชุมชนบ้านแคน เป็นชุมชนชนบทตั้งอยู่บนที่ดอน พื้...\n",
              "612       613  ...  ชุมชนบ้านชาด เป็นชุมชนเก่าตั้งอยู่ใกล้กับแหล่ง...\n",
              "\n",
              "[613 rows x 9 columns]"
            ]
          },
          "metadata": {},
          "execution_count": 6
        }
      ]
    },
    {
      "cell_type": "markdown",
      "metadata": {
        "id": "JMjxQOfqiGYG"
      },
      "source": [
        "**ตาราง data_city คือ ข้อมูลย่านชุมชนเก่า**\n",
        "\n",
        "**คำอธิบายตาราง**\n",
        "\n",
        "*   ชื่อย่านชุมชนเก่า คือ ชื่อของชุมชนเก่า\n",
        "*   ตำบล คือ ที่ตั้งของชุมชนเก่า\n",
        "* อำเภอ คือ ที่ตั้งของชุมชนเก่า\n",
        "* จังหวัด คือ เขตที่ตั้งของชุมชนเก่า\n",
        "* ภาค คือ ภูมิประเทศที่ตั้งของชุมชนเก่า\n",
        "* East คือ ลองจิจูดองศาตะวันออกที่ตั้งของชุมชนเก่า\n",
        "* North คือ ละติจูดองศาเหนือที่ตั้งของชุมชนเก่า\n",
        "* ลักษณะสำคัญ คือ รายละเอียดของชุมชนเก่า"
      ]
    },
    {
      "cell_type": "code",
      "metadata": {
        "colab": {
          "base_uri": "https://localhost:8080/",
          "height": 423
        },
        "id": "NofaAS0qfs5J",
        "outputId": "e56d48db-3c1a-4af5-b3c1-ae55ecbbc615"
      },
      "source": [
        "data_city = data_1[['ชื่อย่านชุมชนเก่า','ตำบล','อำเภอ','จังหวัด','ภาค','East','North','ลักษณะสำคัญ']] # ย่านชุมชนเก่า\n",
        "data_city"
      ],
      "execution_count": 7,
      "outputs": [
        {
          "output_type": "execute_result",
          "data": {
            "text/html": [
              "<div>\n",
              "<style scoped>\n",
              "    .dataframe tbody tr th:only-of-type {\n",
              "        vertical-align: middle;\n",
              "    }\n",
              "\n",
              "    .dataframe tbody tr th {\n",
              "        vertical-align: top;\n",
              "    }\n",
              "\n",
              "    .dataframe thead th {\n",
              "        text-align: right;\n",
              "    }\n",
              "</style>\n",
              "<table border=\"1\" class=\"dataframe\">\n",
              "  <thead>\n",
              "    <tr style=\"text-align: right;\">\n",
              "      <th></th>\n",
              "      <th>ชื่อย่านชุมชนเก่า</th>\n",
              "      <th>ตำบล</th>\n",
              "      <th>อำเภอ</th>\n",
              "      <th>จังหวัด</th>\n",
              "      <th>ภาค</th>\n",
              "      <th>East</th>\n",
              "      <th>North</th>\n",
              "      <th>ลักษณะสำคัญ</th>\n",
              "    </tr>\n",
              "  </thead>\n",
              "  <tbody>\n",
              "    <tr>\n",
              "      <th>0</th>\n",
              "      <td>นครชุม</td>\n",
              "      <td>นครชุม</td>\n",
              "      <td>เมืองกำแพงเพชร</td>\n",
              "      <td>กำแพงเพชร</td>\n",
              "      <td>กลาง</td>\n",
              "      <td>552752.0317</td>\n",
              "      <td>1822472.131</td>\n",
              "      <td>นครชุม เป็นชุมชนตลาดการค้า ที่มีประวัติความเป็...</td>\n",
              "    </tr>\n",
              "    <tr>\n",
              "      <th>1</th>\n",
              "      <td>บ้านพรานกระต่าย</td>\n",
              "      <td>ถ้ำกระต่ายทอง</td>\n",
              "      <td>พรานกระต่าย</td>\n",
              "      <td>กำแพงเพชร</td>\n",
              "      <td>กลาง</td>\n",
              "      <td>562744.2062</td>\n",
              "      <td>1842633.828</td>\n",
              "      <td>บ้านพรานกระต่าย เป็นชุมชนเกษตรกรรมชนบท ที่มีเร...</td>\n",
              "    </tr>\n",
              "    <tr>\n",
              "      <th>2</th>\n",
              "      <td>บ้านห้วยแม่ซ้าย (บ้านยะฟู)</td>\n",
              "      <td>แม่ยาว</td>\n",
              "      <td>เมืองเชียงราย</td>\n",
              "      <td>เชียงราย</td>\n",
              "      <td>เหนือ</td>\n",
              "      <td>576712.0936</td>\n",
              "      <td>2209887.554</td>\n",
              "      <td>บ้านห้วยแม่ซ้าย เป็นชุมชนเกษตรกรรม และชุมชนชาต...</td>\n",
              "    </tr>\n",
              "    <tr>\n",
              "      <th>3</th>\n",
              "      <td>บ้านถ้ำผาตอง</td>\n",
              "      <td>ท่าสุด</td>\n",
              "      <td>เมืองเชียงราย</td>\n",
              "      <td>เชียงราย</td>\n",
              "      <td>เหนือ</td>\n",
              "      <td>594024.4964</td>\n",
              "      <td>2220483.832</td>\n",
              "      <td>บ้านถ้ำผาตอง เป็นชุมชนเกษตรกรรม และชุมชนกลุ่มอ...</td>\n",
              "    </tr>\n",
              "    <tr>\n",
              "      <th>4</th>\n",
              "      <td>บ้านกะเหรี่ยงรวมมิตร</td>\n",
              "      <td>แม่ยาว</td>\n",
              "      <td>เมืองเชียงราย</td>\n",
              "      <td>เชียงราย</td>\n",
              "      <td>เหนือ</td>\n",
              "      <td>574379.3488</td>\n",
              "      <td>2207223.193</td>\n",
              "      <td>บ้านกะเหรี่ยงรวมมิตร เป็นชุมชนเกษตรกรรม ชุมชนต...</td>\n",
              "    </tr>\n",
              "    <tr>\n",
              "      <th>...</th>\n",
              "      <td>...</td>\n",
              "      <td>...</td>\n",
              "      <td>...</td>\n",
              "      <td>...</td>\n",
              "      <td>...</td>\n",
              "      <td>...</td>\n",
              "      <td>...</td>\n",
              "      <td>...</td>\n",
              "    </tr>\n",
              "    <tr>\n",
              "      <th>608</th>\n",
              "      <td>ชุมชนบ้านปะอาว</td>\n",
              "      <td>ปะอาว</td>\n",
              "      <td>เมืองอุบลราชธานี</td>\n",
              "      <td>อุบลราชธานี</td>\n",
              "      <td>ตะวันออกเฉียงเหนือ</td>\n",
              "      <td>470529.6991</td>\n",
              "      <td>1697790.579</td>\n",
              "      <td>ชุมชนบ้านปะอาว เป็นชุมชนชนบทตั้งอยู่บนที่ดอน พ...</td>\n",
              "    </tr>\n",
              "    <tr>\n",
              "      <th>609</th>\n",
              "      <td>ชุมชนพาณิชยกรรมเก่า</td>\n",
              "      <td>วารินชำราบ</td>\n",
              "      <td>วารินชำราบ</td>\n",
              "      <td>อุบลราชธานี</td>\n",
              "      <td>ตะวันออกเฉียงเหนือ</td>\n",
              "      <td>485281.0265</td>\n",
              "      <td>1680326.802</td>\n",
              "      <td>ชุมชนพาณิชยกรรมเก่า เป็นย่านพาณิชยกรรมเก่าแห่ง...</td>\n",
              "    </tr>\n",
              "    <tr>\n",
              "      <th>610</th>\n",
              "      <td>ชุมชนแก่งสะพือ</td>\n",
              "      <td>พิบูลมังสาหาร</td>\n",
              "      <td>พิบูลมังสาหาร</td>\n",
              "      <td>อุบลราชธานี</td>\n",
              "      <td>ตะวันออกเฉียงเหนือ</td>\n",
              "      <td>525387.1286</td>\n",
              "      <td>1685535.918</td>\n",
              "      <td>ชุมชนแก่งสะพือ เป็นย่านชุมชนเก่าริมน้ำแม่น้ำมู...</td>\n",
              "    </tr>\n",
              "    <tr>\n",
              "      <th>611</th>\n",
              "      <td>ชุมชนบ้านแคน</td>\n",
              "      <td>ดอนมดแดง</td>\n",
              "      <td>ดอนมดแดง</td>\n",
              "      <td>อุบลราชธานี</td>\n",
              "      <td>ตะวันออกเฉียงเหนือ</td>\n",
              "      <td>503277.5178</td>\n",
              "      <td>1692398.86</td>\n",
              "      <td>ชุมชนบ้านแคน เป็นชุมชนชนบทตั้งอยู่บนที่ดอน พื้...</td>\n",
              "    </tr>\n",
              "    <tr>\n",
              "      <th>612</th>\n",
              "      <td>ชุมชนบ้านชาด</td>\n",
              "      <td>เค็งใหญ่</td>\n",
              "      <td>หัวตะพาน</td>\n",
              "      <td>อำนาจเจริญ</td>\n",
              "      <td>ตะวันออกเฉียงเหนือ</td>\n",
              "      <td>420835.9213</td>\n",
              "      <td>1758462.158</td>\n",
              "      <td>ชุมชนบ้านชาด เป็นชุมชนเก่าตั้งอยู่ใกล้กับแหล่ง...</td>\n",
              "    </tr>\n",
              "  </tbody>\n",
              "</table>\n",
              "<p>613 rows × 8 columns</p>\n",
              "</div>"
            ],
            "text/plain": [
              "              ชื่อย่านชุมชนเก่า  ...                                        ลักษณะสำคัญ\n",
              "0                        นครชุม  ...  นครชุม เป็นชุมชนตลาดการค้า ที่มีประวัติความเป็...\n",
              "1               บ้านพรานกระต่าย  ...  บ้านพรานกระต่าย เป็นชุมชนเกษตรกรรมชนบท ที่มีเร...\n",
              "2    บ้านห้วยแม่ซ้าย (บ้านยะฟู)  ...  บ้านห้วยแม่ซ้าย เป็นชุมชนเกษตรกรรม และชุมชนชาต...\n",
              "3                  บ้านถ้ำผาตอง  ...  บ้านถ้ำผาตอง เป็นชุมชนเกษตรกรรม และชุมชนกลุ่มอ...\n",
              "4          บ้านกะเหรี่ยงรวมมิตร  ...  บ้านกะเหรี่ยงรวมมิตร เป็นชุมชนเกษตรกรรม ชุมชนต...\n",
              "..                          ...  ...                                                ...\n",
              "608              ชุมชนบ้านปะอาว  ...  ชุมชนบ้านปะอาว เป็นชุมชนชนบทตั้งอยู่บนที่ดอน พ...\n",
              "609         ชุมชนพาณิชยกรรมเก่า  ...  ชุมชนพาณิชยกรรมเก่า เป็นย่านพาณิชยกรรมเก่าแห่ง...\n",
              "610              ชุมชนแก่งสะพือ  ...  ชุมชนแก่งสะพือ เป็นย่านชุมชนเก่าริมน้ำแม่น้ำมู...\n",
              "611                ชุมชนบ้านแคน  ...  ชุมชนบ้านแคน เป็นชุมชนชนบทตั้งอยู่บนที่ดอน พื้...\n",
              "612                ชุมชนบ้านชาด  ...  ชุมชนบ้านชาด เป็นชุมชนเก่าตั้งอยู่ใกล้กับแหล่ง...\n",
              "\n",
              "[613 rows x 8 columns]"
            ]
          },
          "metadata": {},
          "execution_count": 7
        }
      ]
    },
    {
      "cell_type": "markdown",
      "metadata": {
        "id": "SfPAVZ_ZfwcA"
      },
      "source": [
        "ตรวจสอบค่า missing ของข้อมูลตาราง data_city"
      ]
    },
    {
      "cell_type": "code",
      "metadata": {
        "colab": {
          "base_uri": "https://localhost:8080/"
        },
        "id": "5KovwJNrfuhQ",
        "outputId": "8d950b2d-4191-4c79-be7e-43dcfdb8e888"
      },
      "source": [
        "data_city.isnull().any() "
      ],
      "execution_count": 8,
      "outputs": [
        {
          "output_type": "execute_result",
          "data": {
            "text/plain": [
              "ชื่อย่านชุมชนเก่า    False\n",
              "ตำบล                 False\n",
              "อำเภอ                False\n",
              "จังหวัด              False\n",
              "ภาค                  False\n",
              "East                 False\n",
              "North                False\n",
              "ลักษณะสำคัญ          False\n",
              "dtype: bool"
            ]
          },
          "metadata": {},
          "execution_count": 8
        }
      ]
    },
    {
      "cell_type": "markdown",
      "metadata": {
        "id": "IPtlXvegf0tD"
      },
      "source": [
        "แสดงผลเป็น False ทั้งหมด แปลว่า ไม่มีค่า missing ในข้อมูล ย่านชุมชนเก่า"
      ]
    },
    {
      "cell_type": "markdown",
      "metadata": {
        "id": "a16ndVduf6Rk"
      },
      "source": [
        "#### ข้อมูลที่ 2 ผู้เยี่ยมเยือน จำแนกตามจังหวัด"
      ]
    },
    {
      "cell_type": "code",
      "metadata": {
        "colab": {
          "base_uri": "https://localhost:8080/",
          "height": 0
        },
        "id": "roaeM1zrfyqm",
        "outputId": "5f24773e-ac27-40a7-9efb-90648a04596c"
      },
      "source": [
        "data_2= pd.read_csv(os.path.join(path,'visitors.csv'))  # ผู้เยี่ยมเยือน จำแนกตามจังหวัด\n",
        "data_2"
      ],
      "execution_count": 9,
      "outputs": [
        {
          "output_type": "execute_result",
          "data": {
            "text/html": [
              "<div>\n",
              "<style scoped>\n",
              "    .dataframe tbody tr th:only-of-type {\n",
              "        vertical-align: middle;\n",
              "    }\n",
              "\n",
              "    .dataframe tbody tr th {\n",
              "        vertical-align: top;\n",
              "    }\n",
              "\n",
              "    .dataframe thead th {\n",
              "        text-align: right;\n",
              "    }\n",
              "</style>\n",
              "<table border=\"1\" class=\"dataframe\">\n",
              "  <thead>\n",
              "    <tr style=\"text-align: right;\">\n",
              "      <th></th>\n",
              "      <th>จังหวัด</th>\n",
              "      <th>รหัสจังหวัด</th>\n",
              "      <th>2549</th>\n",
              "      <th>2550</th>\n",
              "      <th>2551</th>\n",
              "      <th>2552</th>\n",
              "      <th>2553</th>\n",
              "      <th>2554</th>\n",
              "      <th>2555</th>\n",
              "      <th>2556</th>\n",
              "      <th>2557</th>\n",
              "      <th>2558</th>\n",
              "      <th>2559</th>\n",
              "      <th>2560</th>\n",
              "      <th>2561</th>\n",
              "      <th>Unnamed: 15</th>\n",
              "    </tr>\n",
              "  </thead>\n",
              "  <tbody>\n",
              "    <tr>\n",
              "      <th>0</th>\n",
              "      <td>กรุงเทพมหานคร</td>\n",
              "      <td>th-bm</td>\n",
              "      <td>36172138.0</td>\n",
              "      <td>35953546.0</td>\n",
              "      <td>35110693.0</td>\n",
              "      <td>30037911.0</td>\n",
              "      <td>38222903.0</td>\n",
              "      <td>43763002</td>\n",
              "      <td>47185031</td>\n",
              "      <td>50568902</td>\n",
              "      <td>50972772</td>\n",
              "      <td>56515597</td>\n",
              "      <td>59196331</td>\n",
              "      <td>63575737</td>\n",
              "      <td>65534281</td>\n",
              "      <td>NaN</td>\n",
              "    </tr>\n",
              "    <tr>\n",
              "      <th>1</th>\n",
              "      <td>สมุทรปราการ</td>\n",
              "      <td>th-sp</td>\n",
              "      <td>958352.0</td>\n",
              "      <td>1262082.0</td>\n",
              "      <td>1875232.0</td>\n",
              "      <td>1292295.0</td>\n",
              "      <td>1291883.0</td>\n",
              "      <td>1489104</td>\n",
              "      <td>2107433</td>\n",
              "      <td>2204073</td>\n",
              "      <td>2350340</td>\n",
              "      <td>2780429</td>\n",
              "      <td>2900180</td>\n",
              "      <td>3218934</td>\n",
              "      <td>3373639</td>\n",
              "      <td>NaN</td>\n",
              "    </tr>\n",
              "    <tr>\n",
              "      <th>2</th>\n",
              "      <td>นนทบุรี</td>\n",
              "      <td>th-no</td>\n",
              "      <td>830593.0</td>\n",
              "      <td>1079877.0</td>\n",
              "      <td>973721.0</td>\n",
              "      <td>1373459.0</td>\n",
              "      <td>1792164.0</td>\n",
              "      <td>2004376</td>\n",
              "      <td>1663990</td>\n",
              "      <td>1700408</td>\n",
              "      <td>1730885</td>\n",
              "      <td>2045867</td>\n",
              "      <td>2090095</td>\n",
              "      <td>2514677</td>\n",
              "      <td>2664025</td>\n",
              "      <td>NaN</td>\n",
              "    </tr>\n",
              "    <tr>\n",
              "      <th>3</th>\n",
              "      <td>ปทุมธานี</td>\n",
              "      <td>th-pt</td>\n",
              "      <td>868449.0</td>\n",
              "      <td>1050674.0</td>\n",
              "      <td>798231.0</td>\n",
              "      <td>965318.0</td>\n",
              "      <td>1068529.0</td>\n",
              "      <td>1086433</td>\n",
              "      <td>1474292</td>\n",
              "      <td>1553170</td>\n",
              "      <td>1613073</td>\n",
              "      <td>1815389</td>\n",
              "      <td>1896549</td>\n",
              "      <td>2014281</td>\n",
              "      <td>2098344</td>\n",
              "      <td>NaN</td>\n",
              "    </tr>\n",
              "    <tr>\n",
              "      <th>4</th>\n",
              "      <td>พระนครศรีอยุธยา</td>\n",
              "      <td>th-pa</td>\n",
              "      <td>3373929.0</td>\n",
              "      <td>3784617.0</td>\n",
              "      <td>3659402.0</td>\n",
              "      <td>3583231.0</td>\n",
              "      <td>6534638.0</td>\n",
              "      <td>4890949</td>\n",
              "      <td>6066545</td>\n",
              "      <td>6226424</td>\n",
              "      <td>6698561</td>\n",
              "      <td>6994538</td>\n",
              "      <td>7216514</td>\n",
              "      <td>7631557</td>\n",
              "      <td>8349613</td>\n",
              "      <td>NaN</td>\n",
              "    </tr>\n",
              "    <tr>\n",
              "      <th>...</th>\n",
              "      <td>...</td>\n",
              "      <td>...</td>\n",
              "      <td>...</td>\n",
              "      <td>...</td>\n",
              "      <td>...</td>\n",
              "      <td>...</td>\n",
              "      <td>...</td>\n",
              "      <td>...</td>\n",
              "      <td>...</td>\n",
              "      <td>...</td>\n",
              "      <td>...</td>\n",
              "      <td>...</td>\n",
              "      <td>...</td>\n",
              "      <td>...</td>\n",
              "      <td>...</td>\n",
              "      <td>...</td>\n",
              "    </tr>\n",
              "    <tr>\n",
              "      <th>72</th>\n",
              "      <td>ตรัง</td>\n",
              "      <td>th-tg</td>\n",
              "      <td>726373.0</td>\n",
              "      <td>858638.0</td>\n",
              "      <td>993615.0</td>\n",
              "      <td>843606.0</td>\n",
              "      <td>1110021.0</td>\n",
              "      <td>1007717</td>\n",
              "      <td>1137961</td>\n",
              "      <td>1281663</td>\n",
              "      <td>1308968</td>\n",
              "      <td>1414663</td>\n",
              "      <td>1465811</td>\n",
              "      <td>1514092</td>\n",
              "      <td>1578906</td>\n",
              "      <td>NaN</td>\n",
              "    </tr>\n",
              "    <tr>\n",
              "      <th>73</th>\n",
              "      <td>พัทลุง</td>\n",
              "      <td>th-pl</td>\n",
              "      <td>448000.0</td>\n",
              "      <td>501320.0</td>\n",
              "      <td>853674.0</td>\n",
              "      <td>483058.0</td>\n",
              "      <td>939379.0</td>\n",
              "      <td>1119171</td>\n",
              "      <td>1089992</td>\n",
              "      <td>1178007</td>\n",
              "      <td>1236012</td>\n",
              "      <td>1326468</td>\n",
              "      <td>1487188</td>\n",
              "      <td>1569333</td>\n",
              "      <td>1641841</td>\n",
              "      <td>NaN</td>\n",
              "    </tr>\n",
              "    <tr>\n",
              "      <th>74</th>\n",
              "      <td>ปัตตานี</td>\n",
              "      <td>th-pi</td>\n",
              "      <td>160320.0</td>\n",
              "      <td>131998.0</td>\n",
              "      <td>152748.0</td>\n",
              "      <td>201401.0</td>\n",
              "      <td>184153.0</td>\n",
              "      <td>179687</td>\n",
              "      <td>214285</td>\n",
              "      <td>235606</td>\n",
              "      <td>237925</td>\n",
              "      <td>251081</td>\n",
              "      <td>257143</td>\n",
              "      <td>272739</td>\n",
              "      <td>281988</td>\n",
              "      <td>NaN</td>\n",
              "    </tr>\n",
              "    <tr>\n",
              "      <th>75</th>\n",
              "      <td>ยะลา</td>\n",
              "      <td>th-yl</td>\n",
              "      <td>282463.0</td>\n",
              "      <td>269368.0</td>\n",
              "      <td>311712.0</td>\n",
              "      <td>300570.0</td>\n",
              "      <td>373269.0</td>\n",
              "      <td>335968</td>\n",
              "      <td>429044</td>\n",
              "      <td>563771</td>\n",
              "      <td>589653</td>\n",
              "      <td>622376</td>\n",
              "      <td>624879</td>\n",
              "      <td>657317</td>\n",
              "      <td>680018</td>\n",
              "      <td>NaN</td>\n",
              "    </tr>\n",
              "    <tr>\n",
              "      <th>76</th>\n",
              "      <td>นราธิวาส</td>\n",
              "      <td>th-nw</td>\n",
              "      <td>336473.0</td>\n",
              "      <td>284073.0</td>\n",
              "      <td>328729.0</td>\n",
              "      <td>430301.0</td>\n",
              "      <td>547235.0</td>\n",
              "      <td>479524</td>\n",
              "      <td>489944</td>\n",
              "      <td>570973</td>\n",
              "      <td>589690</td>\n",
              "      <td>635910</td>\n",
              "      <td>646020</td>\n",
              "      <td>665710</td>\n",
              "      <td>692057</td>\n",
              "      <td>NaN</td>\n",
              "    </tr>\n",
              "  </tbody>\n",
              "</table>\n",
              "<p>77 rows × 16 columns</p>\n",
              "</div>"
            ],
            "text/plain": [
              "            จังหวัด รหัสจังหวัด        2549  ...      2560      2561  Unnamed: 15\n",
              "0     กรุงเทพมหานคร       th-bm  36172138.0  ...  63575737  65534281          NaN\n",
              "1       สมุทรปราการ       th-sp    958352.0  ...   3218934   3373639          NaN\n",
              "2           นนทบุรี       th-no    830593.0  ...   2514677   2664025          NaN\n",
              "3          ปทุมธานี       th-pt    868449.0  ...   2014281   2098344          NaN\n",
              "4   พระนครศรีอยุธยา       th-pa   3373929.0  ...   7631557   8349613          NaN\n",
              "..              ...         ...         ...  ...       ...       ...          ...\n",
              "72             ตรัง       th-tg    726373.0  ...   1514092   1578906          NaN\n",
              "73           พัทลุง       th-pl    448000.0  ...   1569333   1641841          NaN\n",
              "74          ปัตตานี       th-pi    160320.0  ...    272739    281988          NaN\n",
              "75             ยะลา       th-yl    282463.0  ...    657317    680018          NaN\n",
              "76         นราธิวาส       th-nw    336473.0  ...    665710    692057          NaN\n",
              "\n",
              "[77 rows x 16 columns]"
            ]
          },
          "metadata": {},
          "execution_count": 9
        }
      ]
    },
    {
      "cell_type": "markdown",
      "metadata": {
        "id": "hHjXRBt_gDr7"
      },
      "source": [
        "ตัดตารางข้อมูลของ data_2 เลือกเฉพาะข้อมูลปี 2555-2561"
      ]
    },
    {
      "cell_type": "code",
      "metadata": {
        "colab": {
          "base_uri": "https://localhost:8080/",
          "height": 0
        },
        "id": "by_oA2HDgCDw",
        "outputId": "3d13db62-d199-4f20-85a6-dbbc2807860a"
      },
      "source": [
        "data_visitor = data_2[['จังหวัด','รหัสจังหวัด','2555','2556','2557','2558','2559','2560','2561']] # ผู้เยี่ยมเยือน จำแนกตามจังหวัด\n",
        "data_visitor"
      ],
      "execution_count": 10,
      "outputs": [
        {
          "output_type": "execute_result",
          "data": {
            "text/html": [
              "<div>\n",
              "<style scoped>\n",
              "    .dataframe tbody tr th:only-of-type {\n",
              "        vertical-align: middle;\n",
              "    }\n",
              "\n",
              "    .dataframe tbody tr th {\n",
              "        vertical-align: top;\n",
              "    }\n",
              "\n",
              "    .dataframe thead th {\n",
              "        text-align: right;\n",
              "    }\n",
              "</style>\n",
              "<table border=\"1\" class=\"dataframe\">\n",
              "  <thead>\n",
              "    <tr style=\"text-align: right;\">\n",
              "      <th></th>\n",
              "      <th>จังหวัด</th>\n",
              "      <th>รหัสจังหวัด</th>\n",
              "      <th>2555</th>\n",
              "      <th>2556</th>\n",
              "      <th>2557</th>\n",
              "      <th>2558</th>\n",
              "      <th>2559</th>\n",
              "      <th>2560</th>\n",
              "      <th>2561</th>\n",
              "    </tr>\n",
              "  </thead>\n",
              "  <tbody>\n",
              "    <tr>\n",
              "      <th>0</th>\n",
              "      <td>กรุงเทพมหานคร</td>\n",
              "      <td>th-bm</td>\n",
              "      <td>47185031</td>\n",
              "      <td>50568902</td>\n",
              "      <td>50972772</td>\n",
              "      <td>56515597</td>\n",
              "      <td>59196331</td>\n",
              "      <td>63575737</td>\n",
              "      <td>65534281</td>\n",
              "    </tr>\n",
              "    <tr>\n",
              "      <th>1</th>\n",
              "      <td>สมุทรปราการ</td>\n",
              "      <td>th-sp</td>\n",
              "      <td>2107433</td>\n",
              "      <td>2204073</td>\n",
              "      <td>2350340</td>\n",
              "      <td>2780429</td>\n",
              "      <td>2900180</td>\n",
              "      <td>3218934</td>\n",
              "      <td>3373639</td>\n",
              "    </tr>\n",
              "    <tr>\n",
              "      <th>2</th>\n",
              "      <td>นนทบุรี</td>\n",
              "      <td>th-no</td>\n",
              "      <td>1663990</td>\n",
              "      <td>1700408</td>\n",
              "      <td>1730885</td>\n",
              "      <td>2045867</td>\n",
              "      <td>2090095</td>\n",
              "      <td>2514677</td>\n",
              "      <td>2664025</td>\n",
              "    </tr>\n",
              "    <tr>\n",
              "      <th>3</th>\n",
              "      <td>ปทุมธานี</td>\n",
              "      <td>th-pt</td>\n",
              "      <td>1474292</td>\n",
              "      <td>1553170</td>\n",
              "      <td>1613073</td>\n",
              "      <td>1815389</td>\n",
              "      <td>1896549</td>\n",
              "      <td>2014281</td>\n",
              "      <td>2098344</td>\n",
              "    </tr>\n",
              "    <tr>\n",
              "      <th>4</th>\n",
              "      <td>พระนครศรีอยุธยา</td>\n",
              "      <td>th-pa</td>\n",
              "      <td>6066545</td>\n",
              "      <td>6226424</td>\n",
              "      <td>6698561</td>\n",
              "      <td>6994538</td>\n",
              "      <td>7216514</td>\n",
              "      <td>7631557</td>\n",
              "      <td>8349613</td>\n",
              "    </tr>\n",
              "    <tr>\n",
              "      <th>...</th>\n",
              "      <td>...</td>\n",
              "      <td>...</td>\n",
              "      <td>...</td>\n",
              "      <td>...</td>\n",
              "      <td>...</td>\n",
              "      <td>...</td>\n",
              "      <td>...</td>\n",
              "      <td>...</td>\n",
              "      <td>...</td>\n",
              "    </tr>\n",
              "    <tr>\n",
              "      <th>72</th>\n",
              "      <td>ตรัง</td>\n",
              "      <td>th-tg</td>\n",
              "      <td>1137961</td>\n",
              "      <td>1281663</td>\n",
              "      <td>1308968</td>\n",
              "      <td>1414663</td>\n",
              "      <td>1465811</td>\n",
              "      <td>1514092</td>\n",
              "      <td>1578906</td>\n",
              "    </tr>\n",
              "    <tr>\n",
              "      <th>73</th>\n",
              "      <td>พัทลุง</td>\n",
              "      <td>th-pl</td>\n",
              "      <td>1089992</td>\n",
              "      <td>1178007</td>\n",
              "      <td>1236012</td>\n",
              "      <td>1326468</td>\n",
              "      <td>1487188</td>\n",
              "      <td>1569333</td>\n",
              "      <td>1641841</td>\n",
              "    </tr>\n",
              "    <tr>\n",
              "      <th>74</th>\n",
              "      <td>ปัตตานี</td>\n",
              "      <td>th-pi</td>\n",
              "      <td>214285</td>\n",
              "      <td>235606</td>\n",
              "      <td>237925</td>\n",
              "      <td>251081</td>\n",
              "      <td>257143</td>\n",
              "      <td>272739</td>\n",
              "      <td>281988</td>\n",
              "    </tr>\n",
              "    <tr>\n",
              "      <th>75</th>\n",
              "      <td>ยะลา</td>\n",
              "      <td>th-yl</td>\n",
              "      <td>429044</td>\n",
              "      <td>563771</td>\n",
              "      <td>589653</td>\n",
              "      <td>622376</td>\n",
              "      <td>624879</td>\n",
              "      <td>657317</td>\n",
              "      <td>680018</td>\n",
              "    </tr>\n",
              "    <tr>\n",
              "      <th>76</th>\n",
              "      <td>นราธิวาส</td>\n",
              "      <td>th-nw</td>\n",
              "      <td>489944</td>\n",
              "      <td>570973</td>\n",
              "      <td>589690</td>\n",
              "      <td>635910</td>\n",
              "      <td>646020</td>\n",
              "      <td>665710</td>\n",
              "      <td>692057</td>\n",
              "    </tr>\n",
              "  </tbody>\n",
              "</table>\n",
              "<p>77 rows × 9 columns</p>\n",
              "</div>"
            ],
            "text/plain": [
              "            จังหวัด รหัสจังหวัด      2555  ...      2559      2560      2561\n",
              "0     กรุงเทพมหานคร       th-bm  47185031  ...  59196331  63575737  65534281\n",
              "1       สมุทรปราการ       th-sp   2107433  ...   2900180   3218934   3373639\n",
              "2           นนทบุรี       th-no   1663990  ...   2090095   2514677   2664025\n",
              "3          ปทุมธานี       th-pt   1474292  ...   1896549   2014281   2098344\n",
              "4   พระนครศรีอยุธยา       th-pa   6066545  ...   7216514   7631557   8349613\n",
              "..              ...         ...       ...  ...       ...       ...       ...\n",
              "72             ตรัง       th-tg   1137961  ...   1465811   1514092   1578906\n",
              "73           พัทลุง       th-pl   1089992  ...   1487188   1569333   1641841\n",
              "74          ปัตตานี       th-pi    214285  ...    257143    272739    281988\n",
              "75             ยะลา       th-yl    429044  ...    624879    657317    680018\n",
              "76         นราธิวาส       th-nw    489944  ...    646020    665710    692057\n",
              "\n",
              "[77 rows x 9 columns]"
            ]
          },
          "metadata": {},
          "execution_count": 10
        }
      ]
    },
    {
      "cell_type": "markdown",
      "metadata": {
        "id": "5f3DoLGkgHKI"
      },
      "source": [
        "เปลี่ยนชื่อ column (data_visitor)"
      ]
    },
    {
      "cell_type": "code",
      "metadata": {
        "colab": {
          "base_uri": "https://localhost:8080/"
        },
        "id": "P008rQ1agFgX",
        "outputId": "ee1c3434-ae7f-42f5-beb3-37b48f8e69a2"
      },
      "source": [
        "data_visitor.rename(columns={'2555':'2555visitor'},inplace=True)\n",
        "data_visitor.rename(columns={'2556':'2556visitor'},inplace=True)\n",
        "data_visitor.rename(columns={'2557':'2557visitor'},inplace=True)\n",
        "data_visitor.rename(columns={'2558':'2558visitor'},inplace=True)\n",
        "data_visitor.rename(columns={'2559':'2559visitor'},inplace=True)\n",
        "data_visitor.rename(columns={'2560':'2560visitor'},inplace=True)\n",
        "data_visitor.rename(columns={'2561':'2561visitor'},inplace=True)"
      ],
      "execution_count": 11,
      "outputs": [
        {
          "output_type": "stream",
          "name": "stderr",
          "text": [
            "/usr/local/lib/python3.7/dist-packages/pandas/core/frame.py:4308: SettingWithCopyWarning: \n",
            "A value is trying to be set on a copy of a slice from a DataFrame\n",
            "\n",
            "See the caveats in the documentation: https://pandas.pydata.org/pandas-docs/stable/user_guide/indexing.html#returning-a-view-versus-a-copy\n",
            "  errors=errors,\n"
          ]
        }
      ]
    },
    {
      "cell_type": "markdown",
      "metadata": {
        "id": "aux4t1qmmtBW"
      },
      "source": [
        "**ตาราง data_visitor คือ ข้อมูลผู้เยี่ยมเยือน จำแนกตามจังหวัด**\n",
        "\n",
        "**คำอธิบายตาราง**\n",
        "\n",
        "* จังหวัด คือ ที่ตั้งของแหล่งท่องเที่ยว\n",
        "* รหัสจังหวัด คือ รหัสประจำของจังหวัดนั้นๆ \n",
        "* 2555visitor คือ จำนวนผู้ที่มาเยี่ยมชมแหล่งท่องเที่ยวในจังหวัดนั้นๆ \n",
        "* 2556visitor คือ จำนวนผู้ที่มาเยี่ยมชมแหล่งท่องเที่ยวในจังหวัดนั้นๆ \n",
        "* 2557visitor คือ จำนวนผู้ที่มาเยี่ยมชมแหล่งท่องเที่ยวในจังหวัดนั้นๆ \n",
        "* 2558visitor คือ จำนวนผู้ที่มาเยี่ยมชมแหล่งท่องเที่ยวในจังหวัดนั้นๆ \n",
        "* 2559visitor คือ จำนวนผู้ที่มาเยี่ยมชมแหล่งท่องเที่ยวในจังหวัดนั้นๆ \n",
        "* 2560visitor คือ จำนวนผู้ที่มาเยี่ยมชมแหล่งท่องเที่ยวในจังหวัดนั้นๆ \n",
        "* 2561visitor คือ จำนวนผู้ที่มาเยี่ยมชมแหล่งท่องเที่ยวในจังหวัดนั้นๆ "
      ]
    },
    {
      "cell_type": "code",
      "metadata": {
        "colab": {
          "base_uri": "https://localhost:8080/",
          "height": 0
        },
        "id": "GxD4cOIwgNl9",
        "outputId": "b50f0e55-953f-47fd-ccfa-d38a57cecbd8"
      },
      "source": [
        "data_visitor"
      ],
      "execution_count": 12,
      "outputs": [
        {
          "output_type": "execute_result",
          "data": {
            "text/html": [
              "<div>\n",
              "<style scoped>\n",
              "    .dataframe tbody tr th:only-of-type {\n",
              "        vertical-align: middle;\n",
              "    }\n",
              "\n",
              "    .dataframe tbody tr th {\n",
              "        vertical-align: top;\n",
              "    }\n",
              "\n",
              "    .dataframe thead th {\n",
              "        text-align: right;\n",
              "    }\n",
              "</style>\n",
              "<table border=\"1\" class=\"dataframe\">\n",
              "  <thead>\n",
              "    <tr style=\"text-align: right;\">\n",
              "      <th></th>\n",
              "      <th>จังหวัด</th>\n",
              "      <th>รหัสจังหวัด</th>\n",
              "      <th>2555visitor</th>\n",
              "      <th>2556visitor</th>\n",
              "      <th>2557visitor</th>\n",
              "      <th>2558visitor</th>\n",
              "      <th>2559visitor</th>\n",
              "      <th>2560visitor</th>\n",
              "      <th>2561visitor</th>\n",
              "    </tr>\n",
              "  </thead>\n",
              "  <tbody>\n",
              "    <tr>\n",
              "      <th>0</th>\n",
              "      <td>กรุงเทพมหานคร</td>\n",
              "      <td>th-bm</td>\n",
              "      <td>47185031</td>\n",
              "      <td>50568902</td>\n",
              "      <td>50972772</td>\n",
              "      <td>56515597</td>\n",
              "      <td>59196331</td>\n",
              "      <td>63575737</td>\n",
              "      <td>65534281</td>\n",
              "    </tr>\n",
              "    <tr>\n",
              "      <th>1</th>\n",
              "      <td>สมุทรปราการ</td>\n",
              "      <td>th-sp</td>\n",
              "      <td>2107433</td>\n",
              "      <td>2204073</td>\n",
              "      <td>2350340</td>\n",
              "      <td>2780429</td>\n",
              "      <td>2900180</td>\n",
              "      <td>3218934</td>\n",
              "      <td>3373639</td>\n",
              "    </tr>\n",
              "    <tr>\n",
              "      <th>2</th>\n",
              "      <td>นนทบุรี</td>\n",
              "      <td>th-no</td>\n",
              "      <td>1663990</td>\n",
              "      <td>1700408</td>\n",
              "      <td>1730885</td>\n",
              "      <td>2045867</td>\n",
              "      <td>2090095</td>\n",
              "      <td>2514677</td>\n",
              "      <td>2664025</td>\n",
              "    </tr>\n",
              "    <tr>\n",
              "      <th>3</th>\n",
              "      <td>ปทุมธานี</td>\n",
              "      <td>th-pt</td>\n",
              "      <td>1474292</td>\n",
              "      <td>1553170</td>\n",
              "      <td>1613073</td>\n",
              "      <td>1815389</td>\n",
              "      <td>1896549</td>\n",
              "      <td>2014281</td>\n",
              "      <td>2098344</td>\n",
              "    </tr>\n",
              "    <tr>\n",
              "      <th>4</th>\n",
              "      <td>พระนครศรีอยุธยา</td>\n",
              "      <td>th-pa</td>\n",
              "      <td>6066545</td>\n",
              "      <td>6226424</td>\n",
              "      <td>6698561</td>\n",
              "      <td>6994538</td>\n",
              "      <td>7216514</td>\n",
              "      <td>7631557</td>\n",
              "      <td>8349613</td>\n",
              "    </tr>\n",
              "    <tr>\n",
              "      <th>...</th>\n",
              "      <td>...</td>\n",
              "      <td>...</td>\n",
              "      <td>...</td>\n",
              "      <td>...</td>\n",
              "      <td>...</td>\n",
              "      <td>...</td>\n",
              "      <td>...</td>\n",
              "      <td>...</td>\n",
              "      <td>...</td>\n",
              "    </tr>\n",
              "    <tr>\n",
              "      <th>72</th>\n",
              "      <td>ตรัง</td>\n",
              "      <td>th-tg</td>\n",
              "      <td>1137961</td>\n",
              "      <td>1281663</td>\n",
              "      <td>1308968</td>\n",
              "      <td>1414663</td>\n",
              "      <td>1465811</td>\n",
              "      <td>1514092</td>\n",
              "      <td>1578906</td>\n",
              "    </tr>\n",
              "    <tr>\n",
              "      <th>73</th>\n",
              "      <td>พัทลุง</td>\n",
              "      <td>th-pl</td>\n",
              "      <td>1089992</td>\n",
              "      <td>1178007</td>\n",
              "      <td>1236012</td>\n",
              "      <td>1326468</td>\n",
              "      <td>1487188</td>\n",
              "      <td>1569333</td>\n",
              "      <td>1641841</td>\n",
              "    </tr>\n",
              "    <tr>\n",
              "      <th>74</th>\n",
              "      <td>ปัตตานี</td>\n",
              "      <td>th-pi</td>\n",
              "      <td>214285</td>\n",
              "      <td>235606</td>\n",
              "      <td>237925</td>\n",
              "      <td>251081</td>\n",
              "      <td>257143</td>\n",
              "      <td>272739</td>\n",
              "      <td>281988</td>\n",
              "    </tr>\n",
              "    <tr>\n",
              "      <th>75</th>\n",
              "      <td>ยะลา</td>\n",
              "      <td>th-yl</td>\n",
              "      <td>429044</td>\n",
              "      <td>563771</td>\n",
              "      <td>589653</td>\n",
              "      <td>622376</td>\n",
              "      <td>624879</td>\n",
              "      <td>657317</td>\n",
              "      <td>680018</td>\n",
              "    </tr>\n",
              "    <tr>\n",
              "      <th>76</th>\n",
              "      <td>นราธิวาส</td>\n",
              "      <td>th-nw</td>\n",
              "      <td>489944</td>\n",
              "      <td>570973</td>\n",
              "      <td>589690</td>\n",
              "      <td>635910</td>\n",
              "      <td>646020</td>\n",
              "      <td>665710</td>\n",
              "      <td>692057</td>\n",
              "    </tr>\n",
              "  </tbody>\n",
              "</table>\n",
              "<p>77 rows × 9 columns</p>\n",
              "</div>"
            ],
            "text/plain": [
              "            จังหวัด รหัสจังหวัด  ...  2560visitor  2561visitor\n",
              "0     กรุงเทพมหานคร       th-bm  ...     63575737     65534281\n",
              "1       สมุทรปราการ       th-sp  ...      3218934      3373639\n",
              "2           นนทบุรี       th-no  ...      2514677      2664025\n",
              "3          ปทุมธานี       th-pt  ...      2014281      2098344\n",
              "4   พระนครศรีอยุธยา       th-pa  ...      7631557      8349613\n",
              "..              ...         ...  ...          ...          ...\n",
              "72             ตรัง       th-tg  ...      1514092      1578906\n",
              "73           พัทลุง       th-pl  ...      1569333      1641841\n",
              "74          ปัตตานี       th-pi  ...       272739       281988\n",
              "75             ยะลา       th-yl  ...       657317       680018\n",
              "76         นราธิวาส       th-nw  ...       665710       692057\n",
              "\n",
              "[77 rows x 9 columns]"
            ]
          },
          "metadata": {},
          "execution_count": 12
        }
      ]
    },
    {
      "cell_type": "markdown",
      "metadata": {
        "id": "yhSiMV0igRBC"
      },
      "source": [
        "ตรวจสอบค่า missing ของข้อมูลตาราง data_visitor"
      ]
    },
    {
      "cell_type": "code",
      "metadata": {
        "colab": {
          "base_uri": "https://localhost:8080/"
        },
        "id": "2kJPYaEkgRdW",
        "outputId": "910d7dca-351a-4b77-b961-fe470fd616f6"
      },
      "source": [
        "data_visitor.isnull().any()"
      ],
      "execution_count": 13,
      "outputs": [
        {
          "output_type": "execute_result",
          "data": {
            "text/plain": [
              "จังหวัด        False\n",
              "รหัสจังหวัด    False\n",
              "2555visitor    False\n",
              "2556visitor    False\n",
              "2557visitor    False\n",
              "2558visitor    False\n",
              "2559visitor    False\n",
              "2560visitor    False\n",
              "2561visitor    False\n",
              "dtype: bool"
            ]
          },
          "metadata": {},
          "execution_count": 13
        }
      ]
    },
    {
      "cell_type": "markdown",
      "metadata": {
        "id": "Fm6xwCNlgU7C"
      },
      "source": [
        "แสดงผลเป็น false ทั้งหมด หมายความว่า ไม่มีค่า Missing ในข้อมูล ผู้เยี่ยมเยือน จำแนกตามจังหวัด"
      ]
    },
    {
      "cell_type": "markdown",
      "metadata": {
        "id": "_f4UxKUpgXNd"
      },
      "source": [
        "#### ข้อมููลที่ 3 รายได้จากการท่องเที่ยว จำแนกตามจังหวัด"
      ]
    },
    {
      "cell_type": "code",
      "metadata": {
        "colab": {
          "base_uri": "https://localhost:8080/",
          "height": 0
        },
        "id": "e0snEBmMgTJQ",
        "outputId": "2729ac3b-8f7a-4b3b-a8ef-6820122a442d"
      },
      "source": [
        "data_3= pd.read_csv(os.path.join(path,'revenue.csv')) # รายได้จากการท่องเที่ยว จำแนกตามจังหวัด\n",
        "data_3"
      ],
      "execution_count": 14,
      "outputs": [
        {
          "output_type": "execute_result",
          "data": {
            "text/html": [
              "<div>\n",
              "<style scoped>\n",
              "    .dataframe tbody tr th:only-of-type {\n",
              "        vertical-align: middle;\n",
              "    }\n",
              "\n",
              "    .dataframe tbody tr th {\n",
              "        vertical-align: top;\n",
              "    }\n",
              "\n",
              "    .dataframe thead th {\n",
              "        text-align: right;\n",
              "    }\n",
              "</style>\n",
              "<table border=\"1\" class=\"dataframe\">\n",
              "  <thead>\n",
              "    <tr style=\"text-align: right;\">\n",
              "      <th></th>\n",
              "      <th>จังหวัด</th>\n",
              "      <th>รหัสจังหวัด</th>\n",
              "      <th>2555</th>\n",
              "      <th>2556</th>\n",
              "      <th>2557</th>\n",
              "      <th>2558</th>\n",
              "      <th>2559</th>\n",
              "      <th>2560</th>\n",
              "      <th>2561</th>\n",
              "    </tr>\n",
              "  </thead>\n",
              "  <tbody>\n",
              "    <tr>\n",
              "      <th>0</th>\n",
              "      <td>กรุงเทพมหานคร</td>\n",
              "      <td>th-bm</td>\n",
              "      <td>570327.58</td>\n",
              "      <td>626535.05</td>\n",
              "      <td>634803.16</td>\n",
              "      <td>730318.31</td>\n",
              "      <td>822454.21</td>\n",
              "      <td>947946.30000</td>\n",
              "      <td>1051118.51</td>\n",
              "    </tr>\n",
              "    <tr>\n",
              "      <th>1</th>\n",
              "      <td>กาญจนบุรี</td>\n",
              "      <td>th-kn</td>\n",
              "      <td>11910.00</td>\n",
              "      <td>13417.00</td>\n",
              "      <td>14576.27</td>\n",
              "      <td>17659.54</td>\n",
              "      <td>20404.73</td>\n",
              "      <td>24440.77288</td>\n",
              "      <td>27138.35</td>\n",
              "    </tr>\n",
              "    <tr>\n",
              "      <th>2</th>\n",
              "      <td>จันทบุรี</td>\n",
              "      <td>th-ct</td>\n",
              "      <td>4214.00</td>\n",
              "      <td>4569.00</td>\n",
              "      <td>4673.31</td>\n",
              "      <td>5239.98</td>\n",
              "      <td>5630.03</td>\n",
              "      <td>7628.47000</td>\n",
              "      <td>8469.45</td>\n",
              "    </tr>\n",
              "    <tr>\n",
              "      <th>3</th>\n",
              "      <td>ฉะเชิงเทรา</td>\n",
              "      <td>th-cc</td>\n",
              "      <td>3571.69</td>\n",
              "      <td>3735.06</td>\n",
              "      <td>3781.62</td>\n",
              "      <td>3984.33</td>\n",
              "      <td>4240.41</td>\n",
              "      <td>4655.55000</td>\n",
              "      <td>5007.28</td>\n",
              "    </tr>\n",
              "    <tr>\n",
              "      <th>4</th>\n",
              "      <td>ชลบุรี</td>\n",
              "      <td>th-cb</td>\n",
              "      <td>100537.00</td>\n",
              "      <td>111109.00</td>\n",
              "      <td>105920.27</td>\n",
              "      <td>126030.24</td>\n",
              "      <td>187788.42</td>\n",
              "      <td>240610.45000</td>\n",
              "      <td>272435.77</td>\n",
              "    </tr>\n",
              "    <tr>\n",
              "      <th>...</th>\n",
              "      <td>...</td>\n",
              "      <td>...</td>\n",
              "      <td>...</td>\n",
              "      <td>...</td>\n",
              "      <td>...</td>\n",
              "      <td>...</td>\n",
              "      <td>...</td>\n",
              "      <td>...</td>\n",
              "      <td>...</td>\n",
              "    </tr>\n",
              "    <tr>\n",
              "      <th>72</th>\n",
              "      <td>ระนอง</td>\n",
              "      <td>th-rn</td>\n",
              "      <td>2780.00</td>\n",
              "      <td>3250.00</td>\n",
              "      <td>3272.34</td>\n",
              "      <td>3623.68</td>\n",
              "      <td>3954.75</td>\n",
              "      <td>4311.07000</td>\n",
              "      <td>4706.13</td>\n",
              "    </tr>\n",
              "    <tr>\n",
              "      <th>73</th>\n",
              "      <td>สงขลา</td>\n",
              "      <td>th-sg</td>\n",
              "      <td>26702.00</td>\n",
              "      <td>37276.00</td>\n",
              "      <td>41304.80</td>\n",
              "      <td>47260.67</td>\n",
              "      <td>53493.02</td>\n",
              "      <td>59831.77000</td>\n",
              "      <td>68097.42</td>\n",
              "    </tr>\n",
              "    <tr>\n",
              "      <th>74</th>\n",
              "      <td>สตูล</td>\n",
              "      <td>th-sa</td>\n",
              "      <td>5332.00</td>\n",
              "      <td>5905.00</td>\n",
              "      <td>6162.46</td>\n",
              "      <td>6846.72</td>\n",
              "      <td>7438.85</td>\n",
              "      <td>8168.70000</td>\n",
              "      <td>9101.47</td>\n",
              "    </tr>\n",
              "    <tr>\n",
              "      <th>75</th>\n",
              "      <td>สุราษฎร์ธานี</td>\n",
              "      <td>th-st</td>\n",
              "      <td>35312.00</td>\n",
              "      <td>51550.00</td>\n",
              "      <td>56952.27</td>\n",
              "      <td>65420.63</td>\n",
              "      <td>76546.39</td>\n",
              "      <td>92228.01000</td>\n",
              "      <td>104503.71</td>\n",
              "    </tr>\n",
              "    <tr>\n",
              "      <th>76</th>\n",
              "      <td>บึงกาฬ</td>\n",
              "      <td>th-bk</td>\n",
              "      <td>0.00</td>\n",
              "      <td>0.00</td>\n",
              "      <td>685.02</td>\n",
              "      <td>806.10</td>\n",
              "      <td>900.50</td>\n",
              "      <td>976.61000</td>\n",
              "      <td>1047.13</td>\n",
              "    </tr>\n",
              "  </tbody>\n",
              "</table>\n",
              "<p>77 rows × 9 columns</p>\n",
              "</div>"
            ],
            "text/plain": [
              "          จังหวัด รหัสจังหวัด       2555  ...       2559          2560        2561\n",
              "0   กรุงเทพมหานคร       th-bm  570327.58  ...  822454.21  947946.30000  1051118.51\n",
              "1       กาญจนบุรี       th-kn   11910.00  ...   20404.73   24440.77288    27138.35\n",
              "2        จันทบุรี       th-ct    4214.00  ...    5630.03    7628.47000     8469.45\n",
              "3      ฉะเชิงเทรา       th-cc    3571.69  ...    4240.41    4655.55000     5007.28\n",
              "4          ชลบุรี       th-cb  100537.00  ...  187788.42  240610.45000   272435.77\n",
              "..            ...         ...        ...  ...        ...           ...         ...\n",
              "72          ระนอง       th-rn    2780.00  ...    3954.75    4311.07000     4706.13\n",
              "73          สงขลา       th-sg   26702.00  ...   53493.02   59831.77000    68097.42\n",
              "74           สตูล       th-sa    5332.00  ...    7438.85    8168.70000     9101.47\n",
              "75   สุราษฎร์ธานี       th-st   35312.00  ...   76546.39   92228.01000   104503.71\n",
              "76         บึงกาฬ       th-bk       0.00  ...     900.50     976.61000     1047.13\n",
              "\n",
              "[77 rows x 9 columns]"
            ]
          },
          "metadata": {},
          "execution_count": 14
        }
      ]
    },
    {
      "cell_type": "markdown",
      "metadata": {
        "id": "yeljW9LlgcOO"
      },
      "source": [
        "ตัดตารางข้อมูลของ data_3 เลือกเฉพาะข้อมูลปี 2555-2561"
      ]
    },
    {
      "cell_type": "code",
      "metadata": {
        "colab": {
          "base_uri": "https://localhost:8080/",
          "height": 0
        },
        "id": "ejhbnRN3gaou",
        "outputId": "c280f65b-a620-49fd-f2e3-c16ece48c995"
      },
      "source": [
        "data_income = data_3[['รหัสจังหวัด','2555','2556','2557','2558','2559','2560','2561']] #รายได้จากการท่องเที่ยว จำแนกตามจังหวัด\n",
        "data_income"
      ],
      "execution_count": 15,
      "outputs": [
        {
          "output_type": "execute_result",
          "data": {
            "text/html": [
              "<div>\n",
              "<style scoped>\n",
              "    .dataframe tbody tr th:only-of-type {\n",
              "        vertical-align: middle;\n",
              "    }\n",
              "\n",
              "    .dataframe tbody tr th {\n",
              "        vertical-align: top;\n",
              "    }\n",
              "\n",
              "    .dataframe thead th {\n",
              "        text-align: right;\n",
              "    }\n",
              "</style>\n",
              "<table border=\"1\" class=\"dataframe\">\n",
              "  <thead>\n",
              "    <tr style=\"text-align: right;\">\n",
              "      <th></th>\n",
              "      <th>รหัสจังหวัด</th>\n",
              "      <th>2555</th>\n",
              "      <th>2556</th>\n",
              "      <th>2557</th>\n",
              "      <th>2558</th>\n",
              "      <th>2559</th>\n",
              "      <th>2560</th>\n",
              "      <th>2561</th>\n",
              "    </tr>\n",
              "  </thead>\n",
              "  <tbody>\n",
              "    <tr>\n",
              "      <th>0</th>\n",
              "      <td>th-bm</td>\n",
              "      <td>570327.58</td>\n",
              "      <td>626535.05</td>\n",
              "      <td>634803.16</td>\n",
              "      <td>730318.31</td>\n",
              "      <td>822454.21</td>\n",
              "      <td>947946.30000</td>\n",
              "      <td>1051118.51</td>\n",
              "    </tr>\n",
              "    <tr>\n",
              "      <th>1</th>\n",
              "      <td>th-kn</td>\n",
              "      <td>11910.00</td>\n",
              "      <td>13417.00</td>\n",
              "      <td>14576.27</td>\n",
              "      <td>17659.54</td>\n",
              "      <td>20404.73</td>\n",
              "      <td>24440.77288</td>\n",
              "      <td>27138.35</td>\n",
              "    </tr>\n",
              "    <tr>\n",
              "      <th>2</th>\n",
              "      <td>th-ct</td>\n",
              "      <td>4214.00</td>\n",
              "      <td>4569.00</td>\n",
              "      <td>4673.31</td>\n",
              "      <td>5239.98</td>\n",
              "      <td>5630.03</td>\n",
              "      <td>7628.47000</td>\n",
              "      <td>8469.45</td>\n",
              "    </tr>\n",
              "    <tr>\n",
              "      <th>3</th>\n",
              "      <td>th-cc</td>\n",
              "      <td>3571.69</td>\n",
              "      <td>3735.06</td>\n",
              "      <td>3781.62</td>\n",
              "      <td>3984.33</td>\n",
              "      <td>4240.41</td>\n",
              "      <td>4655.55000</td>\n",
              "      <td>5007.28</td>\n",
              "    </tr>\n",
              "    <tr>\n",
              "      <th>4</th>\n",
              "      <td>th-cb</td>\n",
              "      <td>100537.00</td>\n",
              "      <td>111109.00</td>\n",
              "      <td>105920.27</td>\n",
              "      <td>126030.24</td>\n",
              "      <td>187788.42</td>\n",
              "      <td>240610.45000</td>\n",
              "      <td>272435.77</td>\n",
              "    </tr>\n",
              "    <tr>\n",
              "      <th>...</th>\n",
              "      <td>...</td>\n",
              "      <td>...</td>\n",
              "      <td>...</td>\n",
              "      <td>...</td>\n",
              "      <td>...</td>\n",
              "      <td>...</td>\n",
              "      <td>...</td>\n",
              "      <td>...</td>\n",
              "    </tr>\n",
              "    <tr>\n",
              "      <th>72</th>\n",
              "      <td>th-rn</td>\n",
              "      <td>2780.00</td>\n",
              "      <td>3250.00</td>\n",
              "      <td>3272.34</td>\n",
              "      <td>3623.68</td>\n",
              "      <td>3954.75</td>\n",
              "      <td>4311.07000</td>\n",
              "      <td>4706.13</td>\n",
              "    </tr>\n",
              "    <tr>\n",
              "      <th>73</th>\n",
              "      <td>th-sg</td>\n",
              "      <td>26702.00</td>\n",
              "      <td>37276.00</td>\n",
              "      <td>41304.80</td>\n",
              "      <td>47260.67</td>\n",
              "      <td>53493.02</td>\n",
              "      <td>59831.77000</td>\n",
              "      <td>68097.42</td>\n",
              "    </tr>\n",
              "    <tr>\n",
              "      <th>74</th>\n",
              "      <td>th-sa</td>\n",
              "      <td>5332.00</td>\n",
              "      <td>5905.00</td>\n",
              "      <td>6162.46</td>\n",
              "      <td>6846.72</td>\n",
              "      <td>7438.85</td>\n",
              "      <td>8168.70000</td>\n",
              "      <td>9101.47</td>\n",
              "    </tr>\n",
              "    <tr>\n",
              "      <th>75</th>\n",
              "      <td>th-st</td>\n",
              "      <td>35312.00</td>\n",
              "      <td>51550.00</td>\n",
              "      <td>56952.27</td>\n",
              "      <td>65420.63</td>\n",
              "      <td>76546.39</td>\n",
              "      <td>92228.01000</td>\n",
              "      <td>104503.71</td>\n",
              "    </tr>\n",
              "    <tr>\n",
              "      <th>76</th>\n",
              "      <td>th-bk</td>\n",
              "      <td>0.00</td>\n",
              "      <td>0.00</td>\n",
              "      <td>685.02</td>\n",
              "      <td>806.10</td>\n",
              "      <td>900.50</td>\n",
              "      <td>976.61000</td>\n",
              "      <td>1047.13</td>\n",
              "    </tr>\n",
              "  </tbody>\n",
              "</table>\n",
              "<p>77 rows × 8 columns</p>\n",
              "</div>"
            ],
            "text/plain": [
              "   รหัสจังหวัด       2555       2556  ...       2559          2560        2561\n",
              "0        th-bm  570327.58  626535.05  ...  822454.21  947946.30000  1051118.51\n",
              "1        th-kn   11910.00   13417.00  ...   20404.73   24440.77288    27138.35\n",
              "2        th-ct    4214.00    4569.00  ...    5630.03    7628.47000     8469.45\n",
              "3        th-cc    3571.69    3735.06  ...    4240.41    4655.55000     5007.28\n",
              "4        th-cb  100537.00  111109.00  ...  187788.42  240610.45000   272435.77\n",
              "..         ...        ...        ...  ...        ...           ...         ...\n",
              "72       th-rn    2780.00    3250.00  ...    3954.75    4311.07000     4706.13\n",
              "73       th-sg   26702.00   37276.00  ...   53493.02   59831.77000    68097.42\n",
              "74       th-sa    5332.00    5905.00  ...    7438.85    8168.70000     9101.47\n",
              "75       th-st   35312.00   51550.00  ...   76546.39   92228.01000   104503.71\n",
              "76       th-bk       0.00       0.00  ...     900.50     976.61000     1047.13\n",
              "\n",
              "[77 rows x 8 columns]"
            ]
          },
          "metadata": {},
          "execution_count": 15
        }
      ]
    },
    {
      "cell_type": "markdown",
      "metadata": {
        "id": "KIrodwwYgfkH"
      },
      "source": [
        "เปลี่ยนชื่อ column (data_income)"
      ]
    },
    {
      "cell_type": "code",
      "metadata": {
        "colab": {
          "base_uri": "https://localhost:8080/"
        },
        "id": "ej5irgEvgd4u",
        "outputId": "c1596e07-ebc7-43eb-bf16-af0b30e951b4"
      },
      "source": [
        "data_income.rename(columns={'2555':'2555income'},inplace=True)\n",
        "data_income.rename(columns={'2556':'2556income'},inplace=True)\n",
        "data_income.rename(columns={'2557':'2557income'},inplace=True)\n",
        "data_income.rename(columns={'2558':'2558income'},inplace=True)\n",
        "data_income.rename(columns={'2559':'2559income'},inplace=True)\n",
        "data_income.rename(columns={'2560':'2560income'},inplace=True)\n",
        "data_income.rename(columns={'2561':'2561income'},inplace=True)"
      ],
      "execution_count": 16,
      "outputs": [
        {
          "output_type": "stream",
          "name": "stderr",
          "text": [
            "/usr/local/lib/python3.7/dist-packages/pandas/core/frame.py:4308: SettingWithCopyWarning: \n",
            "A value is trying to be set on a copy of a slice from a DataFrame\n",
            "\n",
            "See the caveats in the documentation: https://pandas.pydata.org/pandas-docs/stable/user_guide/indexing.html#returning-a-view-versus-a-copy\n",
            "  errors=errors,\n"
          ]
        }
      ]
    },
    {
      "cell_type": "markdown",
      "metadata": {
        "id": "InfQubPMonls"
      },
      "source": [
        "**ตาราง data_income คือ รายได้จากการท่องเที่ยว จำแนกตามจังหวัด**\n",
        "\n",
        "**คำอธิบายตาราง**\n",
        "\n",
        "* รหัสจังหวัด คือ รหัสประจำของจังหวัดนั้นๆ \n",
        "* 2555income คือ รายได้จากผูู้ที่มาเยี่ยมชมแหล่งท่องเที่ยวในจังหวัดนั้นๆ \n",
        "* 2556income คือ รายได้จากผูู้ที่มาเยี่ยมชมแหล่งท่องเที่ยวในจังหวัดนั้นๆ  \n",
        "* 2557income คือ รายได้จากผูู้ที่มาเยี่ยมชมแหล่งท่องเที่ยวในจังหวัดนั้นๆ \n",
        "* 2558income คือ รายได้จากผูู้ที่มาเยี่ยมชมแหล่งท่องเที่ยวในจังหวัดนั้นๆ \n",
        "* 2559income คือ รายได้จากผูู้ที่มาเยี่ยมชมแหล่งท่องเที่ยวในจังหวัดนั้นๆ \n",
        "* 2560income คือ รายได้จากผูู้ที่มาเยี่ยมชมแหล่งท่องเที่ยวในจังหวัดนั้นๆ \n",
        "* 2561income คือ รายได้จากผูู้ที่มาเยี่ยมชมแหล่งท่องเที่ยวในจังหวัดนั้นๆ "
      ]
    },
    {
      "cell_type": "code",
      "metadata": {
        "colab": {
          "base_uri": "https://localhost:8080/",
          "height": 0
        },
        "id": "8xT4MVw_giUI",
        "outputId": "44f1184a-385f-4e20-8cae-32d63fe45b3d"
      },
      "source": [
        "data_income"
      ],
      "execution_count": 17,
      "outputs": [
        {
          "output_type": "execute_result",
          "data": {
            "text/html": [
              "<div>\n",
              "<style scoped>\n",
              "    .dataframe tbody tr th:only-of-type {\n",
              "        vertical-align: middle;\n",
              "    }\n",
              "\n",
              "    .dataframe tbody tr th {\n",
              "        vertical-align: top;\n",
              "    }\n",
              "\n",
              "    .dataframe thead th {\n",
              "        text-align: right;\n",
              "    }\n",
              "</style>\n",
              "<table border=\"1\" class=\"dataframe\">\n",
              "  <thead>\n",
              "    <tr style=\"text-align: right;\">\n",
              "      <th></th>\n",
              "      <th>รหัสจังหวัด</th>\n",
              "      <th>2555income</th>\n",
              "      <th>2556income</th>\n",
              "      <th>2557income</th>\n",
              "      <th>2558income</th>\n",
              "      <th>2559income</th>\n",
              "      <th>2560income</th>\n",
              "      <th>2561income</th>\n",
              "    </tr>\n",
              "  </thead>\n",
              "  <tbody>\n",
              "    <tr>\n",
              "      <th>0</th>\n",
              "      <td>th-bm</td>\n",
              "      <td>570327.58</td>\n",
              "      <td>626535.05</td>\n",
              "      <td>634803.16</td>\n",
              "      <td>730318.31</td>\n",
              "      <td>822454.21</td>\n",
              "      <td>947946.30000</td>\n",
              "      <td>1051118.51</td>\n",
              "    </tr>\n",
              "    <tr>\n",
              "      <th>1</th>\n",
              "      <td>th-kn</td>\n",
              "      <td>11910.00</td>\n",
              "      <td>13417.00</td>\n",
              "      <td>14576.27</td>\n",
              "      <td>17659.54</td>\n",
              "      <td>20404.73</td>\n",
              "      <td>24440.77288</td>\n",
              "      <td>27138.35</td>\n",
              "    </tr>\n",
              "    <tr>\n",
              "      <th>2</th>\n",
              "      <td>th-ct</td>\n",
              "      <td>4214.00</td>\n",
              "      <td>4569.00</td>\n",
              "      <td>4673.31</td>\n",
              "      <td>5239.98</td>\n",
              "      <td>5630.03</td>\n",
              "      <td>7628.47000</td>\n",
              "      <td>8469.45</td>\n",
              "    </tr>\n",
              "    <tr>\n",
              "      <th>3</th>\n",
              "      <td>th-cc</td>\n",
              "      <td>3571.69</td>\n",
              "      <td>3735.06</td>\n",
              "      <td>3781.62</td>\n",
              "      <td>3984.33</td>\n",
              "      <td>4240.41</td>\n",
              "      <td>4655.55000</td>\n",
              "      <td>5007.28</td>\n",
              "    </tr>\n",
              "    <tr>\n",
              "      <th>4</th>\n",
              "      <td>th-cb</td>\n",
              "      <td>100537.00</td>\n",
              "      <td>111109.00</td>\n",
              "      <td>105920.27</td>\n",
              "      <td>126030.24</td>\n",
              "      <td>187788.42</td>\n",
              "      <td>240610.45000</td>\n",
              "      <td>272435.77</td>\n",
              "    </tr>\n",
              "    <tr>\n",
              "      <th>...</th>\n",
              "      <td>...</td>\n",
              "      <td>...</td>\n",
              "      <td>...</td>\n",
              "      <td>...</td>\n",
              "      <td>...</td>\n",
              "      <td>...</td>\n",
              "      <td>...</td>\n",
              "      <td>...</td>\n",
              "    </tr>\n",
              "    <tr>\n",
              "      <th>72</th>\n",
              "      <td>th-rn</td>\n",
              "      <td>2780.00</td>\n",
              "      <td>3250.00</td>\n",
              "      <td>3272.34</td>\n",
              "      <td>3623.68</td>\n",
              "      <td>3954.75</td>\n",
              "      <td>4311.07000</td>\n",
              "      <td>4706.13</td>\n",
              "    </tr>\n",
              "    <tr>\n",
              "      <th>73</th>\n",
              "      <td>th-sg</td>\n",
              "      <td>26702.00</td>\n",
              "      <td>37276.00</td>\n",
              "      <td>41304.80</td>\n",
              "      <td>47260.67</td>\n",
              "      <td>53493.02</td>\n",
              "      <td>59831.77000</td>\n",
              "      <td>68097.42</td>\n",
              "    </tr>\n",
              "    <tr>\n",
              "      <th>74</th>\n",
              "      <td>th-sa</td>\n",
              "      <td>5332.00</td>\n",
              "      <td>5905.00</td>\n",
              "      <td>6162.46</td>\n",
              "      <td>6846.72</td>\n",
              "      <td>7438.85</td>\n",
              "      <td>8168.70000</td>\n",
              "      <td>9101.47</td>\n",
              "    </tr>\n",
              "    <tr>\n",
              "      <th>75</th>\n",
              "      <td>th-st</td>\n",
              "      <td>35312.00</td>\n",
              "      <td>51550.00</td>\n",
              "      <td>56952.27</td>\n",
              "      <td>65420.63</td>\n",
              "      <td>76546.39</td>\n",
              "      <td>92228.01000</td>\n",
              "      <td>104503.71</td>\n",
              "    </tr>\n",
              "    <tr>\n",
              "      <th>76</th>\n",
              "      <td>th-bk</td>\n",
              "      <td>0.00</td>\n",
              "      <td>0.00</td>\n",
              "      <td>685.02</td>\n",
              "      <td>806.10</td>\n",
              "      <td>900.50</td>\n",
              "      <td>976.61000</td>\n",
              "      <td>1047.13</td>\n",
              "    </tr>\n",
              "  </tbody>\n",
              "</table>\n",
              "<p>77 rows × 8 columns</p>\n",
              "</div>"
            ],
            "text/plain": [
              "   รหัสจังหวัด  2555income  2556income  ...  2559income    2560income  2561income\n",
              "0        th-bm   570327.58   626535.05  ...   822454.21  947946.30000  1051118.51\n",
              "1        th-kn    11910.00    13417.00  ...    20404.73   24440.77288    27138.35\n",
              "2        th-ct     4214.00     4569.00  ...     5630.03    7628.47000     8469.45\n",
              "3        th-cc     3571.69     3735.06  ...     4240.41    4655.55000     5007.28\n",
              "4        th-cb   100537.00   111109.00  ...   187788.42  240610.45000   272435.77\n",
              "..         ...         ...         ...  ...         ...           ...         ...\n",
              "72       th-rn     2780.00     3250.00  ...     3954.75    4311.07000     4706.13\n",
              "73       th-sg    26702.00    37276.00  ...    53493.02   59831.77000    68097.42\n",
              "74       th-sa     5332.00     5905.00  ...     7438.85    8168.70000     9101.47\n",
              "75       th-st    35312.00    51550.00  ...    76546.39   92228.01000   104503.71\n",
              "76       th-bk        0.00        0.00  ...      900.50     976.61000     1047.13\n",
              "\n",
              "[77 rows x 8 columns]"
            ]
          },
          "metadata": {},
          "execution_count": 17
        }
      ]
    },
    {
      "cell_type": "markdown",
      "metadata": {
        "id": "KNvRAjyNgmpc"
      },
      "source": [
        "ตรวจสอบค่า missing ของข้อมูลตาราง data_income"
      ]
    },
    {
      "cell_type": "code",
      "metadata": {
        "colab": {
          "base_uri": "https://localhost:8080/"
        },
        "id": "X7ILEMKbgm8_",
        "outputId": "8835352b-2b71-460b-d742-9e315daf458e"
      },
      "source": [
        "data_income.isnull().any()"
      ],
      "execution_count": 18,
      "outputs": [
        {
          "output_type": "execute_result",
          "data": {
            "text/plain": [
              "รหัสจังหวัด    False\n",
              "2555income     False\n",
              "2556income     False\n",
              "2557income     False\n",
              "2558income     False\n",
              "2559income     False\n",
              "2560income     False\n",
              "2561income     False\n",
              "dtype: bool"
            ]
          },
          "metadata": {},
          "execution_count": 18
        }
      ]
    },
    {
      "cell_type": "markdown",
      "metadata": {
        "id": "DMBmP0phgtZQ"
      },
      "source": [
        "แสดงผลเป็น false ทั้งหมด หมายความว่า ไม่มีค่า missing ในข้อมูล รายได้จากการท่องเที่ยว จำแนกตามจังหวัด"
      ]
    },
    {
      "cell_type": "markdown",
      "metadata": {
        "id": "Hi0sY9UGgwR6"
      },
      "source": [
        "### รวม 2 ตารางเข้าด้วยกัน .merge()"
      ]
    },
    {
      "cell_type": "markdown",
      "metadata": {
        "id": "-gNPlRn2qWef"
      },
      "source": [
        "เชื่อมตาราง data_visitor กับตาราง data_income เข้าด้วยกันด้วย 'รหัสจังหวัด'"
      ]
    },
    {
      "cell_type": "code",
      "metadata": {
        "colab": {
          "base_uri": "https://localhost:8080/",
          "height": 461
        },
        "id": "RESfAqoAgt7u",
        "outputId": "2d913b26-5c6d-4fe4-de06-8f906ce5d239"
      },
      "source": [
        "merged_data_visitor_data_income = data_visitor.merge(data_income,how='left',left_on='รหัสจังหวัด',right_on='รหัสจังหวัด') \n",
        "merged_data_visitor_data_income"
      ],
      "execution_count": 19,
      "outputs": [
        {
          "output_type": "execute_result",
          "data": {
            "text/html": [
              "<div>\n",
              "<style scoped>\n",
              "    .dataframe tbody tr th:only-of-type {\n",
              "        vertical-align: middle;\n",
              "    }\n",
              "\n",
              "    .dataframe tbody tr th {\n",
              "        vertical-align: top;\n",
              "    }\n",
              "\n",
              "    .dataframe thead th {\n",
              "        text-align: right;\n",
              "    }\n",
              "</style>\n",
              "<table border=\"1\" class=\"dataframe\">\n",
              "  <thead>\n",
              "    <tr style=\"text-align: right;\">\n",
              "      <th></th>\n",
              "      <th>จังหวัด</th>\n",
              "      <th>รหัสจังหวัด</th>\n",
              "      <th>2555visitor</th>\n",
              "      <th>2556visitor</th>\n",
              "      <th>2557visitor</th>\n",
              "      <th>2558visitor</th>\n",
              "      <th>2559visitor</th>\n",
              "      <th>2560visitor</th>\n",
              "      <th>2561visitor</th>\n",
              "      <th>2555income</th>\n",
              "      <th>2556income</th>\n",
              "      <th>2557income</th>\n",
              "      <th>2558income</th>\n",
              "      <th>2559income</th>\n",
              "      <th>2560income</th>\n",
              "      <th>2561income</th>\n",
              "    </tr>\n",
              "  </thead>\n",
              "  <tbody>\n",
              "    <tr>\n",
              "      <th>0</th>\n",
              "      <td>กรุงเทพมหานคร</td>\n",
              "      <td>th-bm</td>\n",
              "      <td>47185031</td>\n",
              "      <td>50568902</td>\n",
              "      <td>50972772</td>\n",
              "      <td>56515597</td>\n",
              "      <td>59196331</td>\n",
              "      <td>63575737</td>\n",
              "      <td>65534281</td>\n",
              "      <td>570327.58</td>\n",
              "      <td>626535.05</td>\n",
              "      <td>634803.16</td>\n",
              "      <td>730318.31</td>\n",
              "      <td>822454.21</td>\n",
              "      <td>947946.30</td>\n",
              "      <td>1051118.51</td>\n",
              "    </tr>\n",
              "    <tr>\n",
              "      <th>1</th>\n",
              "      <td>สมุทรปราการ</td>\n",
              "      <td>th-sp</td>\n",
              "      <td>2107433</td>\n",
              "      <td>2204073</td>\n",
              "      <td>2350340</td>\n",
              "      <td>2780429</td>\n",
              "      <td>2900180</td>\n",
              "      <td>3218934</td>\n",
              "      <td>3373639</td>\n",
              "      <td>3451.66</td>\n",
              "      <td>3768.56</td>\n",
              "      <td>4044.50</td>\n",
              "      <td>4901.16</td>\n",
              "      <td>5265.36</td>\n",
              "      <td>6144.65</td>\n",
              "      <td>6656.34</td>\n",
              "    </tr>\n",
              "    <tr>\n",
              "      <th>2</th>\n",
              "      <td>นนทบุรี</td>\n",
              "      <td>th-no</td>\n",
              "      <td>1663990</td>\n",
              "      <td>1700408</td>\n",
              "      <td>1730885</td>\n",
              "      <td>2045867</td>\n",
              "      <td>2090095</td>\n",
              "      <td>2514677</td>\n",
              "      <td>2664025</td>\n",
              "      <td>2425.62</td>\n",
              "      <td>2503.18</td>\n",
              "      <td>2560.31</td>\n",
              "      <td>3037.15</td>\n",
              "      <td>3177.98</td>\n",
              "      <td>3963.09</td>\n",
              "      <td>4368.99</td>\n",
              "    </tr>\n",
              "    <tr>\n",
              "      <th>3</th>\n",
              "      <td>ปทุมธานี</td>\n",
              "      <td>th-pt</td>\n",
              "      <td>1474292</td>\n",
              "      <td>1553170</td>\n",
              "      <td>1613073</td>\n",
              "      <td>1815389</td>\n",
              "      <td>1896549</td>\n",
              "      <td>2014281</td>\n",
              "      <td>2098344</td>\n",
              "      <td>1979.86</td>\n",
              "      <td>2199.57</td>\n",
              "      <td>2323.12</td>\n",
              "      <td>2711.66</td>\n",
              "      <td>2876.04</td>\n",
              "      <td>3172.61</td>\n",
              "      <td>3443.06</td>\n",
              "    </tr>\n",
              "    <tr>\n",
              "      <th>4</th>\n",
              "      <td>พระนครศรีอยุธยา</td>\n",
              "      <td>th-pa</td>\n",
              "      <td>6066545</td>\n",
              "      <td>6226424</td>\n",
              "      <td>6698561</td>\n",
              "      <td>6994538</td>\n",
              "      <td>7216514</td>\n",
              "      <td>7631557</td>\n",
              "      <td>8349613</td>\n",
              "      <td>11569.24</td>\n",
              "      <td>12235.03</td>\n",
              "      <td>13446.66</td>\n",
              "      <td>14485.17</td>\n",
              "      <td>15309.69</td>\n",
              "      <td>16901.48</td>\n",
              "      <td>18718.90</td>\n",
              "    </tr>\n",
              "    <tr>\n",
              "      <th>...</th>\n",
              "      <td>...</td>\n",
              "      <td>...</td>\n",
              "      <td>...</td>\n",
              "      <td>...</td>\n",
              "      <td>...</td>\n",
              "      <td>...</td>\n",
              "      <td>...</td>\n",
              "      <td>...</td>\n",
              "      <td>...</td>\n",
              "      <td>...</td>\n",
              "      <td>...</td>\n",
              "      <td>...</td>\n",
              "      <td>...</td>\n",
              "      <td>...</td>\n",
              "      <td>...</td>\n",
              "      <td>...</td>\n",
              "    </tr>\n",
              "    <tr>\n",
              "      <th>72</th>\n",
              "      <td>ตรัง</td>\n",
              "      <td>th-tg</td>\n",
              "      <td>1137961</td>\n",
              "      <td>1281663</td>\n",
              "      <td>1308968</td>\n",
              "      <td>1414663</td>\n",
              "      <td>1465811</td>\n",
              "      <td>1514092</td>\n",
              "      <td>1578906</td>\n",
              "      <td>6231.00</td>\n",
              "      <td>6679.00</td>\n",
              "      <td>6806.73</td>\n",
              "      <td>7500.31</td>\n",
              "      <td>8214.94</td>\n",
              "      <td>9028.01</td>\n",
              "      <td>9916.29</td>\n",
              "    </tr>\n",
              "    <tr>\n",
              "      <th>73</th>\n",
              "      <td>พัทลุง</td>\n",
              "      <td>th-pl</td>\n",
              "      <td>1089992</td>\n",
              "      <td>1178007</td>\n",
              "      <td>1236012</td>\n",
              "      <td>1326468</td>\n",
              "      <td>1487188</td>\n",
              "      <td>1569333</td>\n",
              "      <td>1641841</td>\n",
              "      <td>1780.00</td>\n",
              "      <td>2146.00</td>\n",
              "      <td>2206.35</td>\n",
              "      <td>2436.70</td>\n",
              "      <td>2842.97</td>\n",
              "      <td>3155.92</td>\n",
              "      <td>3489.08</td>\n",
              "    </tr>\n",
              "    <tr>\n",
              "      <th>74</th>\n",
              "      <td>ปัตตานี</td>\n",
              "      <td>th-pi</td>\n",
              "      <td>214285</td>\n",
              "      <td>235606</td>\n",
              "      <td>237925</td>\n",
              "      <td>251081</td>\n",
              "      <td>257143</td>\n",
              "      <td>272739</td>\n",
              "      <td>281988</td>\n",
              "      <td>743.00</td>\n",
              "      <td>778.00</td>\n",
              "      <td>774.61</td>\n",
              "      <td>831.10</td>\n",
              "      <td>894.84</td>\n",
              "      <td>996.16</td>\n",
              "      <td>1100.97</td>\n",
              "    </tr>\n",
              "    <tr>\n",
              "      <th>75</th>\n",
              "      <td>ยะลา</td>\n",
              "      <td>th-yl</td>\n",
              "      <td>429044</td>\n",
              "      <td>563771</td>\n",
              "      <td>589653</td>\n",
              "      <td>622376</td>\n",
              "      <td>624879</td>\n",
              "      <td>657317</td>\n",
              "      <td>680018</td>\n",
              "      <td>1759.00</td>\n",
              "      <td>2420.00</td>\n",
              "      <td>2494.90</td>\n",
              "      <td>2649.11</td>\n",
              "      <td>2875.32</td>\n",
              "      <td>3145.57</td>\n",
              "      <td>3443.17</td>\n",
              "    </tr>\n",
              "    <tr>\n",
              "      <th>76</th>\n",
              "      <td>นราธิวาส</td>\n",
              "      <td>th-nw</td>\n",
              "      <td>489944</td>\n",
              "      <td>570973</td>\n",
              "      <td>589690</td>\n",
              "      <td>635910</td>\n",
              "      <td>646020</td>\n",
              "      <td>665710</td>\n",
              "      <td>692057</td>\n",
              "      <td>2139.00</td>\n",
              "      <td>2208.00</td>\n",
              "      <td>2323.54</td>\n",
              "      <td>2524.44</td>\n",
              "      <td>2654.01</td>\n",
              "      <td>2888.53</td>\n",
              "      <td>3137.67</td>\n",
              "    </tr>\n",
              "  </tbody>\n",
              "</table>\n",
              "<p>77 rows × 16 columns</p>\n",
              "</div>"
            ],
            "text/plain": [
              "            จังหวัด รหัสจังหวัด  ...  2560income  2561income\n",
              "0     กรุงเทพมหานคร       th-bm  ...   947946.30  1051118.51\n",
              "1       สมุทรปราการ       th-sp  ...     6144.65     6656.34\n",
              "2           นนทบุรี       th-no  ...     3963.09     4368.99\n",
              "3          ปทุมธานี       th-pt  ...     3172.61     3443.06\n",
              "4   พระนครศรีอยุธยา       th-pa  ...    16901.48    18718.90\n",
              "..              ...         ...  ...         ...         ...\n",
              "72             ตรัง       th-tg  ...     9028.01     9916.29\n",
              "73           พัทลุง       th-pl  ...     3155.92     3489.08\n",
              "74          ปัตตานี       th-pi  ...      996.16     1100.97\n",
              "75             ยะลา       th-yl  ...     3145.57     3443.17\n",
              "76         นราธิวาส       th-nw  ...     2888.53     3137.67\n",
              "\n",
              "[77 rows x 16 columns]"
            ]
          },
          "metadata": {},
          "execution_count": 19
        }
      ]
    },
    {
      "cell_type": "code",
      "metadata": {
        "colab": {
          "base_uri": "https://localhost:8080/"
        },
        "id": "coJyXkkyg0fa",
        "outputId": "bc2a9884-4f59-4cb0-8318-8442f8a5bfa5"
      },
      "source": [
        "merged_data_visitor_data_income.isnull().any() # ตรวจสอบค่า missing"
      ],
      "execution_count": 20,
      "outputs": [
        {
          "output_type": "execute_result",
          "data": {
            "text/plain": [
              "จังหวัด        False\n",
              "รหัสจังหวัด    False\n",
              "2555visitor    False\n",
              "2556visitor    False\n",
              "2557visitor    False\n",
              "2558visitor    False\n",
              "2559visitor    False\n",
              "2560visitor    False\n",
              "2561visitor    False\n",
              "2555income     False\n",
              "2556income     False\n",
              "2557income     False\n",
              "2558income     False\n",
              "2559income     False\n",
              "2560income     False\n",
              "2561income     False\n",
              "dtype: bool"
            ]
          },
          "metadata": {},
          "execution_count": 20
        }
      ]
    },
    {
      "cell_type": "markdown",
      "metadata": {
        "id": "aJphn8uWg15h"
      },
      "source": [
        "แสดงผลเป็น false ทั้งหมด หมายความว่า ไม่มีค่า missing ในข้อมูล จากการรวมตารางของ รายได้ และ ผู้เยี่ยมเยือนเข้าด้วยกัน"
      ]
    },
    {
      "cell_type": "markdown",
      "metadata": {
        "id": "f7Ou7IIRqrkJ"
      },
      "source": [
        "#### หลังจากผ่านการตรวจสอบ missing แล้ว นำข้อมูลที่ได้จากการรวมตารางครั้งแรกมาเชื่อมกับตาราง data_city "
      ]
    },
    {
      "cell_type": "code",
      "metadata": {
        "colab": {
          "base_uri": "https://localhost:8080/",
          "height": 1000
        },
        "id": "XaQlk20zg2am",
        "outputId": "86eda728-9f97-4b24-a53c-f75c4184b22f"
      },
      "source": [
        "data_mix = merged_data_visitor_data_income.merge(data_city,how='left',left_on='จังหวัด',right_on='จังหวัด')\n",
        "data_mix"
      ],
      "execution_count": 21,
      "outputs": [
        {
          "output_type": "execute_result",
          "data": {
            "text/html": [
              "<div>\n",
              "<style scoped>\n",
              "    .dataframe tbody tr th:only-of-type {\n",
              "        vertical-align: middle;\n",
              "    }\n",
              "\n",
              "    .dataframe tbody tr th {\n",
              "        vertical-align: top;\n",
              "    }\n",
              "\n",
              "    .dataframe thead th {\n",
              "        text-align: right;\n",
              "    }\n",
              "</style>\n",
              "<table border=\"1\" class=\"dataframe\">\n",
              "  <thead>\n",
              "    <tr style=\"text-align: right;\">\n",
              "      <th></th>\n",
              "      <th>จังหวัด</th>\n",
              "      <th>รหัสจังหวัด</th>\n",
              "      <th>2555visitor</th>\n",
              "      <th>2556visitor</th>\n",
              "      <th>2557visitor</th>\n",
              "      <th>2558visitor</th>\n",
              "      <th>2559visitor</th>\n",
              "      <th>2560visitor</th>\n",
              "      <th>2561visitor</th>\n",
              "      <th>2555income</th>\n",
              "      <th>2556income</th>\n",
              "      <th>2557income</th>\n",
              "      <th>2558income</th>\n",
              "      <th>2559income</th>\n",
              "      <th>2560income</th>\n",
              "      <th>2561income</th>\n",
              "      <th>ชื่อย่านชุมชนเก่า</th>\n",
              "      <th>ตำบล</th>\n",
              "      <th>อำเภอ</th>\n",
              "      <th>ภาค</th>\n",
              "      <th>East</th>\n",
              "      <th>North</th>\n",
              "      <th>ลักษณะสำคัญ</th>\n",
              "    </tr>\n",
              "  </thead>\n",
              "  <tbody>\n",
              "    <tr>\n",
              "      <th>0</th>\n",
              "      <td>กรุงเทพมหานคร</td>\n",
              "      <td>th-bm</td>\n",
              "      <td>47185031</td>\n",
              "      <td>50568902</td>\n",
              "      <td>50972772</td>\n",
              "      <td>56515597</td>\n",
              "      <td>59196331</td>\n",
              "      <td>63575737</td>\n",
              "      <td>65534281</td>\n",
              "      <td>570327.58</td>\n",
              "      <td>626535.05</td>\n",
              "      <td>634803.16</td>\n",
              "      <td>730318.31</td>\n",
              "      <td>822454.21</td>\n",
              "      <td>947946.30</td>\n",
              "      <td>1051118.51</td>\n",
              "      <td>NaN</td>\n",
              "      <td>NaN</td>\n",
              "      <td>NaN</td>\n",
              "      <td>NaN</td>\n",
              "      <td>NaN</td>\n",
              "      <td>NaN</td>\n",
              "      <td>NaN</td>\n",
              "    </tr>\n",
              "    <tr>\n",
              "      <th>1</th>\n",
              "      <td>สมุทรปราการ</td>\n",
              "      <td>th-sp</td>\n",
              "      <td>2107433</td>\n",
              "      <td>2204073</td>\n",
              "      <td>2350340</td>\n",
              "      <td>2780429</td>\n",
              "      <td>2900180</td>\n",
              "      <td>3218934</td>\n",
              "      <td>3373639</td>\n",
              "      <td>3451.66</td>\n",
              "      <td>3768.56</td>\n",
              "      <td>4044.50</td>\n",
              "      <td>4901.16</td>\n",
              "      <td>5265.36</td>\n",
              "      <td>6144.65</td>\n",
              "      <td>6656.34</td>\n",
              "      <td>ชุมชนเมืองนครเขื่อนขันธ์</td>\n",
              "      <td>ตลาด</td>\n",
              "      <td>พระประแดง</td>\n",
              "      <td>กลาง</td>\n",
              "      <td>665816.5497</td>\n",
              "      <td>1510691.186</td>\n",
              "      <td>ชุมชนเมืองนครเขื่อนขันธ์ เป็นชุมชนย่านการค้าเก...</td>\n",
              "    </tr>\n",
              "    <tr>\n",
              "      <th>2</th>\n",
              "      <td>สมุทรปราการ</td>\n",
              "      <td>th-sp</td>\n",
              "      <td>2107433</td>\n",
              "      <td>2204073</td>\n",
              "      <td>2350340</td>\n",
              "      <td>2780429</td>\n",
              "      <td>2900180</td>\n",
              "      <td>3218934</td>\n",
              "      <td>3373639</td>\n",
              "      <td>3451.66</td>\n",
              "      <td>3768.56</td>\n",
              "      <td>4044.50</td>\n",
              "      <td>4901.16</td>\n",
              "      <td>5265.36</td>\n",
              "      <td>6144.65</td>\n",
              "      <td>6656.34</td>\n",
              "      <td>ชุมชนตลาดบางพลี</td>\n",
              "      <td>บางพลีใหญ่</td>\n",
              "      <td>บางพลี</td>\n",
              "      <td>กลาง</td>\n",
              "      <td>684972.5986</td>\n",
              "      <td>1504734.254</td>\n",
              "      <td>ชุมชนตลาดบางพลี เป็นชุมชนย่านตลาดการค้าเก่าแก่...</td>\n",
              "    </tr>\n",
              "    <tr>\n",
              "      <th>3</th>\n",
              "      <td>สมุทรปราการ</td>\n",
              "      <td>th-sp</td>\n",
              "      <td>2107433</td>\n",
              "      <td>2204073</td>\n",
              "      <td>2350340</td>\n",
              "      <td>2780429</td>\n",
              "      <td>2900180</td>\n",
              "      <td>3218934</td>\n",
              "      <td>3373639</td>\n",
              "      <td>3451.66</td>\n",
              "      <td>3768.56</td>\n",
              "      <td>4044.50</td>\n",
              "      <td>4901.16</td>\n",
              "      <td>5265.36</td>\n",
              "      <td>6144.65</td>\n",
              "      <td>6656.34</td>\n",
              "      <td>ชุมชนตลาดคลองสวน</td>\n",
              "      <td>คลองสวน</td>\n",
              "      <td>บางบ่อ</td>\n",
              "      <td>กลาง</td>\n",
              "      <td>711460.1263</td>\n",
              "      <td>1511257.498</td>\n",
              "      <td>ชุมชนตลาดคลองสวน เป็นชุมชนย่านตลาดการค้า บริเว...</td>\n",
              "    </tr>\n",
              "    <tr>\n",
              "      <th>4</th>\n",
              "      <td>สมุทรปราการ</td>\n",
              "      <td>th-sp</td>\n",
              "      <td>2107433</td>\n",
              "      <td>2204073</td>\n",
              "      <td>2350340</td>\n",
              "      <td>2780429</td>\n",
              "      <td>2900180</td>\n",
              "      <td>3218934</td>\n",
              "      <td>3373639</td>\n",
              "      <td>3451.66</td>\n",
              "      <td>3768.56</td>\n",
              "      <td>4044.50</td>\n",
              "      <td>4901.16</td>\n",
              "      <td>5265.36</td>\n",
              "      <td>6144.65</td>\n",
              "      <td>6656.34</td>\n",
              "      <td>ชุมชนบ้านสาขลา</td>\n",
              "      <td>นาเกลือ</td>\n",
              "      <td>พระสมุทรเจดีย์</td>\n",
              "      <td>กลาง</td>\n",
              "      <td>662776.0498</td>\n",
              "      <td>1497564.267</td>\n",
              "      <td>ชุมชนบ้านสาขลา เป็นชุมชนประมงของชาวนาเกลือ ที่...</td>\n",
              "    </tr>\n",
              "    <tr>\n",
              "      <th>...</th>\n",
              "      <td>...</td>\n",
              "      <td>...</td>\n",
              "      <td>...</td>\n",
              "      <td>...</td>\n",
              "      <td>...</td>\n",
              "      <td>...</td>\n",
              "      <td>...</td>\n",
              "      <td>...</td>\n",
              "      <td>...</td>\n",
              "      <td>...</td>\n",
              "      <td>...</td>\n",
              "      <td>...</td>\n",
              "      <td>...</td>\n",
              "      <td>...</td>\n",
              "      <td>...</td>\n",
              "      <td>...</td>\n",
              "      <td>...</td>\n",
              "      <td>...</td>\n",
              "      <td>...</td>\n",
              "      <td>...</td>\n",
              "      <td>...</td>\n",
              "      <td>...</td>\n",
              "      <td>...</td>\n",
              "    </tr>\n",
              "    <tr>\n",
              "      <th>609</th>\n",
              "      <td>นราธิวาส</td>\n",
              "      <td>th-nw</td>\n",
              "      <td>489944</td>\n",
              "      <td>570973</td>\n",
              "      <td>589690</td>\n",
              "      <td>635910</td>\n",
              "      <td>646020</td>\n",
              "      <td>665710</td>\n",
              "      <td>692057</td>\n",
              "      <td>2139.00</td>\n",
              "      <td>2208.00</td>\n",
              "      <td>2323.54</td>\n",
              "      <td>2524.44</td>\n",
              "      <td>2654.01</td>\n",
              "      <td>2888.53</td>\n",
              "      <td>3137.67</td>\n",
              "      <td>ดุซงญอ</td>\n",
              "      <td>ดุซงญอ</td>\n",
              "      <td>จะแนะ</td>\n",
              "      <td>ใต้</td>\n",
              "      <td>799197.4461</td>\n",
              "      <td>682963.5703</td>\n",
              "      <td>ดุซงญอ เป็นชุมชนตลาด และชุมชนความทรงจำ \"ดุซงญอ...</td>\n",
              "    </tr>\n",
              "    <tr>\n",
              "      <th>610</th>\n",
              "      <td>นราธิวาส</td>\n",
              "      <td>th-nw</td>\n",
              "      <td>489944</td>\n",
              "      <td>570973</td>\n",
              "      <td>589690</td>\n",
              "      <td>635910</td>\n",
              "      <td>646020</td>\n",
              "      <td>665710</td>\n",
              "      <td>692057</td>\n",
              "      <td>2139.00</td>\n",
              "      <td>2208.00</td>\n",
              "      <td>2323.54</td>\n",
              "      <td>2524.44</td>\n",
              "      <td>2654.01</td>\n",
              "      <td>2888.53</td>\n",
              "      <td>3137.67</td>\n",
              "      <td>ตะโละมาเนาะ</td>\n",
              "      <td>ลุโบะสาวอ</td>\n",
              "      <td>บาเจาะ</td>\n",
              "      <td>ใต้</td>\n",
              "      <td>793838.0669</td>\n",
              "      <td>717521.8107</td>\n",
              "      <td>ตะโละมาเนาะ เป็นชุมชนเกษตรกรรม และชุมชนโดยรอบโ...</td>\n",
              "    </tr>\n",
              "    <tr>\n",
              "      <th>611</th>\n",
              "      <td>นราธิวาส</td>\n",
              "      <td>th-nw</td>\n",
              "      <td>489944</td>\n",
              "      <td>570973</td>\n",
              "      <td>589690</td>\n",
              "      <td>635910</td>\n",
              "      <td>646020</td>\n",
              "      <td>665710</td>\n",
              "      <td>692057</td>\n",
              "      <td>2139.00</td>\n",
              "      <td>2208.00</td>\n",
              "      <td>2323.54</td>\n",
              "      <td>2524.44</td>\n",
              "      <td>2654.01</td>\n",
              "      <td>2888.53</td>\n",
              "      <td>3137.67</td>\n",
              "      <td>ละหาร</td>\n",
              "      <td>ละหาร</td>\n",
              "      <td>ยี่งอ</td>\n",
              "      <td>ใต้</td>\n",
              "      <td>803363.9264</td>\n",
              "      <td>707860.4349</td>\n",
              "      <td>ละหาร เป็นชุมชนเกษตรกรรม บ้านละหารตั้งอยู่ในอำ...</td>\n",
              "    </tr>\n",
              "    <tr>\n",
              "      <th>612</th>\n",
              "      <td>นราธิวาส</td>\n",
              "      <td>th-nw</td>\n",
              "      <td>489944</td>\n",
              "      <td>570973</td>\n",
              "      <td>589690</td>\n",
              "      <td>635910</td>\n",
              "      <td>646020</td>\n",
              "      <td>665710</td>\n",
              "      <td>692057</td>\n",
              "      <td>2139.00</td>\n",
              "      <td>2208.00</td>\n",
              "      <td>2323.54</td>\n",
              "      <td>2524.44</td>\n",
              "      <td>2654.01</td>\n",
              "      <td>2888.53</td>\n",
              "      <td>3137.67</td>\n",
              "      <td>ตลาดยี่งอ</td>\n",
              "      <td>ยี่งอ</td>\n",
              "      <td>ยี่งอ</td>\n",
              "      <td>ใต้</td>\n",
              "      <td>799685.276</td>\n",
              "      <td>708719.1293</td>\n",
              "      <td>ตลาดยี่งอ เป็นชุมชนตลาด \"เมืองยี่งอ\" อาจจะเรีย...</td>\n",
              "    </tr>\n",
              "    <tr>\n",
              "      <th>613</th>\n",
              "      <td>นราธิวาส</td>\n",
              "      <td>th-nw</td>\n",
              "      <td>489944</td>\n",
              "      <td>570973</td>\n",
              "      <td>589690</td>\n",
              "      <td>635910</td>\n",
              "      <td>646020</td>\n",
              "      <td>665710</td>\n",
              "      <td>692057</td>\n",
              "      <td>2139.00</td>\n",
              "      <td>2208.00</td>\n",
              "      <td>2323.54</td>\n",
              "      <td>2524.44</td>\n",
              "      <td>2654.01</td>\n",
              "      <td>2888.53</td>\n",
              "      <td>3137.67</td>\n",
              "      <td>ตลาดสุไหงปาดี</td>\n",
              "      <td>ปะลุรู</td>\n",
              "      <td>สุไหงปาดี</td>\n",
              "      <td>ใต้</td>\n",
              "      <td>818865.3765</td>\n",
              "      <td>673637.8713</td>\n",
              "      <td>ตลาดสุไหงปาดี เป็นชุมชนตลาด และชุมชนโดยรอบทางร...</td>\n",
              "    </tr>\n",
              "  </tbody>\n",
              "</table>\n",
              "<p>614 rows × 23 columns</p>\n",
              "</div>"
            ],
            "text/plain": [
              "           จังหวัด  ...                                        ลักษณะสำคัญ\n",
              "0    กรุงเทพมหานคร  ...                                                NaN\n",
              "1      สมุทรปราการ  ...  ชุมชนเมืองนครเขื่อนขันธ์ เป็นชุมชนย่านการค้าเก...\n",
              "2      สมุทรปราการ  ...  ชุมชนตลาดบางพลี เป็นชุมชนย่านตลาดการค้าเก่าแก่...\n",
              "3      สมุทรปราการ  ...  ชุมชนตลาดคลองสวน เป็นชุมชนย่านตลาดการค้า บริเว...\n",
              "4      สมุทรปราการ  ...  ชุมชนบ้านสาขลา เป็นชุมชนประมงของชาวนาเกลือ ที่...\n",
              "..             ...  ...                                                ...\n",
              "609       นราธิวาส  ...  ดุซงญอ เป็นชุมชนตลาด และชุมชนความทรงจำ \"ดุซงญอ...\n",
              "610       นราธิวาส  ...  ตะโละมาเนาะ เป็นชุมชนเกษตรกรรม และชุมชนโดยรอบโ...\n",
              "611       นราธิวาส  ...  ละหาร เป็นชุมชนเกษตรกรรม บ้านละหารตั้งอยู่ในอำ...\n",
              "612       นราธิวาส  ...  ตลาดยี่งอ เป็นชุมชนตลาด \"เมืองยี่งอ\" อาจจะเรีย...\n",
              "613       นราธิวาส  ...  ตลาดสุไหงปาดี เป็นชุมชนตลาด และชุมชนโดยรอบทางร...\n",
              "\n",
              "[614 rows x 23 columns]"
            ]
          },
          "metadata": {},
          "execution_count": 21
        }
      ]
    },
    {
      "cell_type": "code",
      "metadata": {
        "colab": {
          "base_uri": "https://localhost:8080/"
        },
        "id": "F28baUjKg3ud",
        "outputId": "1d0f2555-8157-452b-afb9-d1435d25cc40"
      },
      "source": [
        "data_mix.isnull().any() # ตรวจสอบค่า missing"
      ],
      "execution_count": 22,
      "outputs": [
        {
          "output_type": "execute_result",
          "data": {
            "text/plain": [
              "จังหวัด              False\n",
              "รหัสจังหวัด          False\n",
              "2555visitor          False\n",
              "2556visitor          False\n",
              "2557visitor          False\n",
              "2558visitor          False\n",
              "2559visitor          False\n",
              "2560visitor          False\n",
              "2561visitor          False\n",
              "2555income           False\n",
              "2556income           False\n",
              "2557income           False\n",
              "2558income           False\n",
              "2559income           False\n",
              "2560income           False\n",
              "2561income           False\n",
              "ชื่อย่านชุมชนเก่า     True\n",
              "ตำบล                  True\n",
              "อำเภอ                 True\n",
              "ภาค                   True\n",
              "East                  True\n",
              "North                 True\n",
              "ลักษณะสำคัญ           True\n",
              "dtype: bool"
            ]
          },
          "metadata": {},
          "execution_count": 22
        }
      ]
    },
    {
      "cell_type": "markdown",
      "metadata": {
        "id": "Xvu58hc5g8hL"
      },
      "source": [
        "ในการแสดงผล พบว่ามีข้อมูล ชื่อย่านชุมชนเก่า,ตำบล,อำเภอ,ภาค,East,North ,ลักษณะสำคัญ ที่ยังมีค่า missing อยู่ จึงต้องทำการจัดการค่า Missing ก่อน"
      ]
    },
    {
      "cell_type": "markdown",
      "metadata": {
        "id": "HwoTXQBFg-hb"
      },
      "source": [
        "#### จัดการค่า missing ด้วยวิธี Handling missing (แทนด้วย class ใหม่ (unknow) ) โดยใช้คำสั่ง .fillna()"
      ]
    },
    {
      "cell_type": "code",
      "metadata": {
        "id": "R7CONzxYg5RH"
      },
      "source": [
        "data_mix[['ชื่อย่านชุมชนเก่า']] = data_mix[['ชื่อย่านชุมชนเก่า']].fillna('ไม่มีข้อมูล')\n",
        "data_mix[['ตำบล']] =data_mix[['ตำบล']].fillna('ไม่มีข้อมูล')\n",
        "data_mix[['อำเภอ']] = data_mix[['อำเภอ']].fillna('ไม่มีข้อมูล')\n",
        "data_mix[['ภาค']] = data_mix[['ภาค']].fillna('ไม่มีข้อมูล')\n",
        "data_mix[['East']] =data_mix[['East']].fillna('ไม่มีข้อมูล')\n",
        "data_mix[['North']] =data_mix[['North']].fillna('ไม่มีข้อมูล')\n",
        "data_mix[['ลักษณะสำคัญ']] =data_mix[['ลักษณะสำคัญ']].fillna('ไม่มีข้อมูล')"
      ],
      "execution_count": 28,
      "outputs": []
    },
    {
      "cell_type": "code",
      "metadata": {
        "colab": {
          "base_uri": "https://localhost:8080/"
        },
        "id": "5skn7tRDg7Iu",
        "outputId": "92ae137d-af95-40e3-dad1-31241951265d"
      },
      "source": [
        "data_mix.isnull().any() # ตรวจสอบอีกรอบ"
      ],
      "execution_count": 29,
      "outputs": [
        {
          "output_type": "execute_result",
          "data": {
            "text/plain": [
              "จังหวัด              False\n",
              "รหัสจังหวัด          False\n",
              "2555visitor          False\n",
              "2556visitor          False\n",
              "2557visitor          False\n",
              "2558visitor          False\n",
              "2559visitor          False\n",
              "2560visitor          False\n",
              "2561visitor          False\n",
              "2555income           False\n",
              "2556income           False\n",
              "2557income           False\n",
              "2558income           False\n",
              "2559income           False\n",
              "2560income           False\n",
              "2561income           False\n",
              "ชื่อย่านชุมชนเก่า    False\n",
              "ตำบล                 False\n",
              "อำเภอ                False\n",
              "ภาค                  False\n",
              "East                 False\n",
              "North                False\n",
              "ลักษณะสำคัญ          False\n",
              "dtype: bool"
            ]
          },
          "metadata": {},
          "execution_count": 29
        }
      ]
    },
    {
      "cell_type": "code",
      "metadata": {
        "colab": {
          "base_uri": "https://localhost:8080/",
          "height": 1000
        },
        "id": "HRBe7gJ_hDgb",
        "outputId": "27daad34-b8e8-4edd-9280-e8340cf45fb9"
      },
      "source": [
        "data_mix"
      ],
      "execution_count": 30,
      "outputs": [
        {
          "output_type": "execute_result",
          "data": {
            "text/html": [
              "<div>\n",
              "<style scoped>\n",
              "    .dataframe tbody tr th:only-of-type {\n",
              "        vertical-align: middle;\n",
              "    }\n",
              "\n",
              "    .dataframe tbody tr th {\n",
              "        vertical-align: top;\n",
              "    }\n",
              "\n",
              "    .dataframe thead th {\n",
              "        text-align: right;\n",
              "    }\n",
              "</style>\n",
              "<table border=\"1\" class=\"dataframe\">\n",
              "  <thead>\n",
              "    <tr style=\"text-align: right;\">\n",
              "      <th></th>\n",
              "      <th>จังหวัด</th>\n",
              "      <th>รหัสจังหวัด</th>\n",
              "      <th>2555visitor</th>\n",
              "      <th>2556visitor</th>\n",
              "      <th>2557visitor</th>\n",
              "      <th>2558visitor</th>\n",
              "      <th>2559visitor</th>\n",
              "      <th>2560visitor</th>\n",
              "      <th>2561visitor</th>\n",
              "      <th>2555income</th>\n",
              "      <th>2556income</th>\n",
              "      <th>2557income</th>\n",
              "      <th>2558income</th>\n",
              "      <th>2559income</th>\n",
              "      <th>2560income</th>\n",
              "      <th>2561income</th>\n",
              "      <th>ชื่อย่านชุมชนเก่า</th>\n",
              "      <th>ตำบล</th>\n",
              "      <th>อำเภอ</th>\n",
              "      <th>ภาค</th>\n",
              "      <th>East</th>\n",
              "      <th>North</th>\n",
              "      <th>ลักษณะสำคัญ</th>\n",
              "    </tr>\n",
              "  </thead>\n",
              "  <tbody>\n",
              "    <tr>\n",
              "      <th>0</th>\n",
              "      <td>กรุงเทพมหานคร</td>\n",
              "      <td>th-bm</td>\n",
              "      <td>47185031</td>\n",
              "      <td>50568902</td>\n",
              "      <td>50972772</td>\n",
              "      <td>56515597</td>\n",
              "      <td>59196331</td>\n",
              "      <td>63575737</td>\n",
              "      <td>65534281</td>\n",
              "      <td>570327.58</td>\n",
              "      <td>626535.05</td>\n",
              "      <td>634803.16</td>\n",
              "      <td>730318.31</td>\n",
              "      <td>822454.21</td>\n",
              "      <td>947946.30</td>\n",
              "      <td>1051118.51</td>\n",
              "      <td>ไม่มีข้อมูล</td>\n",
              "      <td>ไม่มีข้อมูล</td>\n",
              "      <td>ไม่มีข้อมูล</td>\n",
              "      <td>ไม่มีข้อมูล</td>\n",
              "      <td>ไม่มีข้อมูล</td>\n",
              "      <td>ไม่มีข้อมูล</td>\n",
              "      <td>ไม่มีข้อมูล</td>\n",
              "    </tr>\n",
              "    <tr>\n",
              "      <th>1</th>\n",
              "      <td>สมุทรปราการ</td>\n",
              "      <td>th-sp</td>\n",
              "      <td>2107433</td>\n",
              "      <td>2204073</td>\n",
              "      <td>2350340</td>\n",
              "      <td>2780429</td>\n",
              "      <td>2900180</td>\n",
              "      <td>3218934</td>\n",
              "      <td>3373639</td>\n",
              "      <td>3451.66</td>\n",
              "      <td>3768.56</td>\n",
              "      <td>4044.50</td>\n",
              "      <td>4901.16</td>\n",
              "      <td>5265.36</td>\n",
              "      <td>6144.65</td>\n",
              "      <td>6656.34</td>\n",
              "      <td>ชุมชนเมืองนครเขื่อนขันธ์</td>\n",
              "      <td>ตลาด</td>\n",
              "      <td>พระประแดง</td>\n",
              "      <td>กลาง</td>\n",
              "      <td>665816.5497</td>\n",
              "      <td>1510691.186</td>\n",
              "      <td>ชุมชนเมืองนครเขื่อนขันธ์ เป็นชุมชนย่านการค้าเก...</td>\n",
              "    </tr>\n",
              "    <tr>\n",
              "      <th>2</th>\n",
              "      <td>สมุทรปราการ</td>\n",
              "      <td>th-sp</td>\n",
              "      <td>2107433</td>\n",
              "      <td>2204073</td>\n",
              "      <td>2350340</td>\n",
              "      <td>2780429</td>\n",
              "      <td>2900180</td>\n",
              "      <td>3218934</td>\n",
              "      <td>3373639</td>\n",
              "      <td>3451.66</td>\n",
              "      <td>3768.56</td>\n",
              "      <td>4044.50</td>\n",
              "      <td>4901.16</td>\n",
              "      <td>5265.36</td>\n",
              "      <td>6144.65</td>\n",
              "      <td>6656.34</td>\n",
              "      <td>ชุมชนตลาดบางพลี</td>\n",
              "      <td>บางพลีใหญ่</td>\n",
              "      <td>บางพลี</td>\n",
              "      <td>กลาง</td>\n",
              "      <td>684972.5986</td>\n",
              "      <td>1504734.254</td>\n",
              "      <td>ชุมชนตลาดบางพลี เป็นชุมชนย่านตลาดการค้าเก่าแก่...</td>\n",
              "    </tr>\n",
              "    <tr>\n",
              "      <th>3</th>\n",
              "      <td>สมุทรปราการ</td>\n",
              "      <td>th-sp</td>\n",
              "      <td>2107433</td>\n",
              "      <td>2204073</td>\n",
              "      <td>2350340</td>\n",
              "      <td>2780429</td>\n",
              "      <td>2900180</td>\n",
              "      <td>3218934</td>\n",
              "      <td>3373639</td>\n",
              "      <td>3451.66</td>\n",
              "      <td>3768.56</td>\n",
              "      <td>4044.50</td>\n",
              "      <td>4901.16</td>\n",
              "      <td>5265.36</td>\n",
              "      <td>6144.65</td>\n",
              "      <td>6656.34</td>\n",
              "      <td>ชุมชนตลาดคลองสวน</td>\n",
              "      <td>คลองสวน</td>\n",
              "      <td>บางบ่อ</td>\n",
              "      <td>กลาง</td>\n",
              "      <td>711460.1263</td>\n",
              "      <td>1511257.498</td>\n",
              "      <td>ชุมชนตลาดคลองสวน เป็นชุมชนย่านตลาดการค้า บริเว...</td>\n",
              "    </tr>\n",
              "    <tr>\n",
              "      <th>4</th>\n",
              "      <td>สมุทรปราการ</td>\n",
              "      <td>th-sp</td>\n",
              "      <td>2107433</td>\n",
              "      <td>2204073</td>\n",
              "      <td>2350340</td>\n",
              "      <td>2780429</td>\n",
              "      <td>2900180</td>\n",
              "      <td>3218934</td>\n",
              "      <td>3373639</td>\n",
              "      <td>3451.66</td>\n",
              "      <td>3768.56</td>\n",
              "      <td>4044.50</td>\n",
              "      <td>4901.16</td>\n",
              "      <td>5265.36</td>\n",
              "      <td>6144.65</td>\n",
              "      <td>6656.34</td>\n",
              "      <td>ชุมชนบ้านสาขลา</td>\n",
              "      <td>นาเกลือ</td>\n",
              "      <td>พระสมุทรเจดีย์</td>\n",
              "      <td>กลาง</td>\n",
              "      <td>662776.0498</td>\n",
              "      <td>1497564.267</td>\n",
              "      <td>ชุมชนบ้านสาขลา เป็นชุมชนประมงของชาวนาเกลือ ที่...</td>\n",
              "    </tr>\n",
              "    <tr>\n",
              "      <th>...</th>\n",
              "      <td>...</td>\n",
              "      <td>...</td>\n",
              "      <td>...</td>\n",
              "      <td>...</td>\n",
              "      <td>...</td>\n",
              "      <td>...</td>\n",
              "      <td>...</td>\n",
              "      <td>...</td>\n",
              "      <td>...</td>\n",
              "      <td>...</td>\n",
              "      <td>...</td>\n",
              "      <td>...</td>\n",
              "      <td>...</td>\n",
              "      <td>...</td>\n",
              "      <td>...</td>\n",
              "      <td>...</td>\n",
              "      <td>...</td>\n",
              "      <td>...</td>\n",
              "      <td>...</td>\n",
              "      <td>...</td>\n",
              "      <td>...</td>\n",
              "      <td>...</td>\n",
              "      <td>...</td>\n",
              "    </tr>\n",
              "    <tr>\n",
              "      <th>609</th>\n",
              "      <td>นราธิวาส</td>\n",
              "      <td>th-nw</td>\n",
              "      <td>489944</td>\n",
              "      <td>570973</td>\n",
              "      <td>589690</td>\n",
              "      <td>635910</td>\n",
              "      <td>646020</td>\n",
              "      <td>665710</td>\n",
              "      <td>692057</td>\n",
              "      <td>2139.00</td>\n",
              "      <td>2208.00</td>\n",
              "      <td>2323.54</td>\n",
              "      <td>2524.44</td>\n",
              "      <td>2654.01</td>\n",
              "      <td>2888.53</td>\n",
              "      <td>3137.67</td>\n",
              "      <td>ดุซงญอ</td>\n",
              "      <td>ดุซงญอ</td>\n",
              "      <td>จะแนะ</td>\n",
              "      <td>ใต้</td>\n",
              "      <td>799197.4461</td>\n",
              "      <td>682963.5703</td>\n",
              "      <td>ดุซงญอ เป็นชุมชนตลาด และชุมชนความทรงจำ \"ดุซงญอ...</td>\n",
              "    </tr>\n",
              "    <tr>\n",
              "      <th>610</th>\n",
              "      <td>นราธิวาส</td>\n",
              "      <td>th-nw</td>\n",
              "      <td>489944</td>\n",
              "      <td>570973</td>\n",
              "      <td>589690</td>\n",
              "      <td>635910</td>\n",
              "      <td>646020</td>\n",
              "      <td>665710</td>\n",
              "      <td>692057</td>\n",
              "      <td>2139.00</td>\n",
              "      <td>2208.00</td>\n",
              "      <td>2323.54</td>\n",
              "      <td>2524.44</td>\n",
              "      <td>2654.01</td>\n",
              "      <td>2888.53</td>\n",
              "      <td>3137.67</td>\n",
              "      <td>ตะโละมาเนาะ</td>\n",
              "      <td>ลุโบะสาวอ</td>\n",
              "      <td>บาเจาะ</td>\n",
              "      <td>ใต้</td>\n",
              "      <td>793838.0669</td>\n",
              "      <td>717521.8107</td>\n",
              "      <td>ตะโละมาเนาะ เป็นชุมชนเกษตรกรรม และชุมชนโดยรอบโ...</td>\n",
              "    </tr>\n",
              "    <tr>\n",
              "      <th>611</th>\n",
              "      <td>นราธิวาส</td>\n",
              "      <td>th-nw</td>\n",
              "      <td>489944</td>\n",
              "      <td>570973</td>\n",
              "      <td>589690</td>\n",
              "      <td>635910</td>\n",
              "      <td>646020</td>\n",
              "      <td>665710</td>\n",
              "      <td>692057</td>\n",
              "      <td>2139.00</td>\n",
              "      <td>2208.00</td>\n",
              "      <td>2323.54</td>\n",
              "      <td>2524.44</td>\n",
              "      <td>2654.01</td>\n",
              "      <td>2888.53</td>\n",
              "      <td>3137.67</td>\n",
              "      <td>ละหาร</td>\n",
              "      <td>ละหาร</td>\n",
              "      <td>ยี่งอ</td>\n",
              "      <td>ใต้</td>\n",
              "      <td>803363.9264</td>\n",
              "      <td>707860.4349</td>\n",
              "      <td>ละหาร เป็นชุมชนเกษตรกรรม บ้านละหารตั้งอยู่ในอำ...</td>\n",
              "    </tr>\n",
              "    <tr>\n",
              "      <th>612</th>\n",
              "      <td>นราธิวาส</td>\n",
              "      <td>th-nw</td>\n",
              "      <td>489944</td>\n",
              "      <td>570973</td>\n",
              "      <td>589690</td>\n",
              "      <td>635910</td>\n",
              "      <td>646020</td>\n",
              "      <td>665710</td>\n",
              "      <td>692057</td>\n",
              "      <td>2139.00</td>\n",
              "      <td>2208.00</td>\n",
              "      <td>2323.54</td>\n",
              "      <td>2524.44</td>\n",
              "      <td>2654.01</td>\n",
              "      <td>2888.53</td>\n",
              "      <td>3137.67</td>\n",
              "      <td>ตลาดยี่งอ</td>\n",
              "      <td>ยี่งอ</td>\n",
              "      <td>ยี่งอ</td>\n",
              "      <td>ใต้</td>\n",
              "      <td>799685.276</td>\n",
              "      <td>708719.1293</td>\n",
              "      <td>ตลาดยี่งอ เป็นชุมชนตลาด \"เมืองยี่งอ\" อาจจะเรีย...</td>\n",
              "    </tr>\n",
              "    <tr>\n",
              "      <th>613</th>\n",
              "      <td>นราธิวาส</td>\n",
              "      <td>th-nw</td>\n",
              "      <td>489944</td>\n",
              "      <td>570973</td>\n",
              "      <td>589690</td>\n",
              "      <td>635910</td>\n",
              "      <td>646020</td>\n",
              "      <td>665710</td>\n",
              "      <td>692057</td>\n",
              "      <td>2139.00</td>\n",
              "      <td>2208.00</td>\n",
              "      <td>2323.54</td>\n",
              "      <td>2524.44</td>\n",
              "      <td>2654.01</td>\n",
              "      <td>2888.53</td>\n",
              "      <td>3137.67</td>\n",
              "      <td>ตลาดสุไหงปาดี</td>\n",
              "      <td>ปะลุรู</td>\n",
              "      <td>สุไหงปาดี</td>\n",
              "      <td>ใต้</td>\n",
              "      <td>818865.3765</td>\n",
              "      <td>673637.8713</td>\n",
              "      <td>ตลาดสุไหงปาดี เป็นชุมชนตลาด และชุมชนโดยรอบทางร...</td>\n",
              "    </tr>\n",
              "  </tbody>\n",
              "</table>\n",
              "<p>614 rows × 23 columns</p>\n",
              "</div>"
            ],
            "text/plain": [
              "           จังหวัด  ...                                        ลักษณะสำคัญ\n",
              "0    กรุงเทพมหานคร  ...                                        ไม่มีข้อมูล\n",
              "1      สมุทรปราการ  ...  ชุมชนเมืองนครเขื่อนขันธ์ เป็นชุมชนย่านการค้าเก...\n",
              "2      สมุทรปราการ  ...  ชุมชนตลาดบางพลี เป็นชุมชนย่านตลาดการค้าเก่าแก่...\n",
              "3      สมุทรปราการ  ...  ชุมชนตลาดคลองสวน เป็นชุมชนย่านตลาดการค้า บริเว...\n",
              "4      สมุทรปราการ  ...  ชุมชนบ้านสาขลา เป็นชุมชนประมงของชาวนาเกลือ ที่...\n",
              "..             ...  ...                                                ...\n",
              "609       นราธิวาส  ...  ดุซงญอ เป็นชุมชนตลาด และชุมชนความทรงจำ \"ดุซงญอ...\n",
              "610       นราธิวาส  ...  ตะโละมาเนาะ เป็นชุมชนเกษตรกรรม และชุมชนโดยรอบโ...\n",
              "611       นราธิวาส  ...  ละหาร เป็นชุมชนเกษตรกรรม บ้านละหารตั้งอยู่ในอำ...\n",
              "612       นราธิวาส  ...  ตลาดยี่งอ เป็นชุมชนตลาด \"เมืองยี่งอ\" อาจจะเรีย...\n",
              "613       นราธิวาส  ...  ตลาดสุไหงปาดี เป็นชุมชนตลาด และชุมชนโดยรอบทางร...\n",
              "\n",
              "[614 rows x 23 columns]"
            ]
          },
          "metadata": {},
          "execution_count": 30
        }
      ]
    },
    {
      "cell_type": "markdown",
      "metadata": {
        "id": "hUBUD3jDhFwX"
      },
      "source": [
        "**จังหวัดกาญจนบุรี มีผู้มาเยี่ยมชมย่านชุมชนเก่าในปี 2560 กี่คน 2560visitor**\n",
        "\n",
        "**จังหวัดกาญจนบุรี มีรายได้จากการมาเยี่ยมชมชุมชนเก่าในปี 2560 กี่บาท 2560income**\n",
        "\n",
        "**จังหวัดเชียวใหม่มีย่านชุมชนเก่าใดบ้าง**"
      ]
    },
    {
      "cell_type": "code",
      "metadata": {
        "colab": {
          "base_uri": "https://localhost:8080/",
          "height": 81
        },
        "id": "w9akxFcFhH-Q",
        "outputId": "47e4822d-879d-4265-9977-07cac23a1935"
      },
      "source": [
        "Ex1 =data_mix[data_mix['ชื่อย่านชุมชนเก่า']== 'นครชุม']  \n",
        "Ex1[['จังหวัด','ชื่อย่านชุมชนเก่า','2560visitor','2560income']]"
      ],
      "execution_count": 31,
      "outputs": [
        {
          "output_type": "execute_result",
          "data": {
            "text/html": [
              "<div>\n",
              "<style scoped>\n",
              "    .dataframe tbody tr th:only-of-type {\n",
              "        vertical-align: middle;\n",
              "    }\n",
              "\n",
              "    .dataframe tbody tr th {\n",
              "        vertical-align: top;\n",
              "    }\n",
              "\n",
              "    .dataframe thead th {\n",
              "        text-align: right;\n",
              "    }\n",
              "</style>\n",
              "<table border=\"1\" class=\"dataframe\">\n",
              "  <thead>\n",
              "    <tr style=\"text-align: right;\">\n",
              "      <th></th>\n",
              "      <th>จังหวัด</th>\n",
              "      <th>ชื่อย่านชุมชนเก่า</th>\n",
              "      <th>2560visitor</th>\n",
              "      <th>2560income</th>\n",
              "    </tr>\n",
              "  </thead>\n",
              "  <tbody>\n",
              "    <tr>\n",
              "      <th>320</th>\n",
              "      <td>กำแพงเพชร</td>\n",
              "      <td>นครชุม</td>\n",
              "      <td>752553</td>\n",
              "      <td>1529.1</td>\n",
              "    </tr>\n",
              "  </tbody>\n",
              "</table>\n",
              "</div>"
            ],
            "text/plain": [
              "       จังหวัด ชื่อย่านชุมชนเก่า  2560visitor  2560income\n",
              "320  กำแพงเพชร            นครชุม       752553      1529.1"
            ]
          },
          "metadata": {},
          "execution_count": 31
        }
      ]
    },
    {
      "cell_type": "code",
      "metadata": {
        "colab": {
          "base_uri": "https://localhost:8080/",
          "height": 1000
        },
        "id": "qloxj5Z-hPsM",
        "outputId": "32c2efa3-e0d2-4f03-e736-a8e0ef3260d8"
      },
      "source": [
        "Ex2 = data_mix[data_mix['จังหวัด']== 'เชียงใหม่']  \n",
        "Ex2[['จังหวัด','ชื่อย่านชุมชนเก่า']] #จังหวัดเชียงใหม่ มีย่านชุมชนเก่าใดบ้าง"
      ],
      "execution_count": 32,
      "outputs": [
        {
          "output_type": "execute_result",
          "data": {
            "text/html": [
              "<div>\n",
              "<style scoped>\n",
              "    .dataframe tbody tr th:only-of-type {\n",
              "        vertical-align: middle;\n",
              "    }\n",
              "\n",
              "    .dataframe tbody tr th {\n",
              "        vertical-align: top;\n",
              "    }\n",
              "\n",
              "    .dataframe thead th {\n",
              "        text-align: right;\n",
              "    }\n",
              "</style>\n",
              "<table border=\"1\" class=\"dataframe\">\n",
              "  <thead>\n",
              "    <tr style=\"text-align: right;\">\n",
              "      <th></th>\n",
              "      <th>จังหวัด</th>\n",
              "      <th>ชื่อย่านชุมชนเก่า</th>\n",
              "    </tr>\n",
              "  </thead>\n",
              "  <tbody>\n",
              "    <tr>\n",
              "      <th>196</th>\n",
              "      <td>เชียงใหม่</td>\n",
              "      <td>ย่านการค้า ถนนท่าแพ</td>\n",
              "    </tr>\n",
              "    <tr>\n",
              "      <th>197</th>\n",
              "      <td>เชียงใหม่</td>\n",
              "      <td>ย่านการค้า ถนนวิชยานนท์</td>\n",
              "    </tr>\n",
              "    <tr>\n",
              "      <th>198</th>\n",
              "      <td>เชียงใหม่</td>\n",
              "      <td>ย่านการค้าถนนเจริญเมือง และย่านสถานีรถไฟ</td>\n",
              "    </tr>\n",
              "    <tr>\n",
              "      <th>199</th>\n",
              "      <td>เชียงใหม่</td>\n",
              "      <td>ย่านถนนราชมรรคาและถนนสิงหราช</td>\n",
              "    </tr>\n",
              "    <tr>\n",
              "      <th>200</th>\n",
              "      <td>เชียงใหม่</td>\n",
              "      <td>ย่านสี่แยกตลาดช้างเผือก</td>\n",
              "    </tr>\n",
              "    <tr>\n",
              "      <th>201</th>\n",
              "      <td>เชียงใหม่</td>\n",
              "      <td>ย่านวัดเกตุ</td>\n",
              "    </tr>\n",
              "    <tr>\n",
              "      <th>202</th>\n",
              "      <td>เชียงใหม่</td>\n",
              "      <td>บ้านดอยปุย</td>\n",
              "    </tr>\n",
              "    <tr>\n",
              "      <th>203</th>\n",
              "      <td>เชียงใหม่</td>\n",
              "      <td>ทรายมูลเมือง</td>\n",
              "    </tr>\n",
              "    <tr>\n",
              "      <th>204</th>\n",
              "      <td>เชียงใหม่</td>\n",
              "      <td>บ้านวัวลาย</td>\n",
              "    </tr>\n",
              "    <tr>\n",
              "      <th>205</th>\n",
              "      <td>เชียงใหม่</td>\n",
              "      <td>บ้านฮ่อ</td>\n",
              "    </tr>\n",
              "    <tr>\n",
              "      <th>206</th>\n",
              "      <td>เชียงใหม่</td>\n",
              "      <td>พวกแต้ม</td>\n",
              "    </tr>\n",
              "    <tr>\n",
              "      <th>207</th>\n",
              "      <td>เชียงใหม่</td>\n",
              "      <td>บ้านช่างเคี่ยน</td>\n",
              "    </tr>\n",
              "    <tr>\n",
              "      <th>208</th>\n",
              "      <td>เชียงใหม่</td>\n",
              "      <td>ย่านการค้าสี่แยกอำเภอดอยสะเก็ด</td>\n",
              "    </tr>\n",
              "    <tr>\n",
              "      <th>209</th>\n",
              "      <td>เชียงใหม่</td>\n",
              "      <td>บ้านปางบง</td>\n",
              "    </tr>\n",
              "    <tr>\n",
              "      <th>210</th>\n",
              "      <td>เชียงใหม่</td>\n",
              "      <td>ตลาดสันทราย</td>\n",
              "    </tr>\n",
              "    <tr>\n",
              "      <th>211</th>\n",
              "      <td>เชียงใหม่</td>\n",
              "      <td>บ้านสันป่าสัก</td>\n",
              "    </tr>\n",
              "    <tr>\n",
              "      <th>212</th>\n",
              "      <td>เชียงใหม่</td>\n",
              "      <td>ตลาดสันกำแพง</td>\n",
              "    </tr>\n",
              "    <tr>\n",
              "      <th>213</th>\n",
              "      <td>เชียงใหม่</td>\n",
              "      <td>บ้านปงไหว</td>\n",
              "    </tr>\n",
              "    <tr>\n",
              "      <th>214</th>\n",
              "      <td>เชียงใหม่</td>\n",
              "      <td>ตลาดสันป่าตอง</td>\n",
              "    </tr>\n",
              "    <tr>\n",
              "      <th>215</th>\n",
              "      <td>เชียงใหม่</td>\n",
              "      <td>บ้านทุ่งเสี้ยว</td>\n",
              "    </tr>\n",
              "    <tr>\n",
              "      <th>216</th>\n",
              "      <td>เชียงใหม่</td>\n",
              "      <td>บ้านต้นแหนน้อย</td>\n",
              "    </tr>\n",
              "    <tr>\n",
              "      <th>217</th>\n",
              "      <td>เชียงใหม่</td>\n",
              "      <td>ตลาดรอบสถานีรถไฟสารภี</td>\n",
              "    </tr>\n",
              "    <tr>\n",
              "      <th>218</th>\n",
              "      <td>เชียงใหม่</td>\n",
              "      <td>เวียงกุมกาม</td>\n",
              "    </tr>\n",
              "    <tr>\n",
              "      <th>219</th>\n",
              "      <td>เชียงใหม่</td>\n",
              "      <td>บ้านวัดจันทร์</td>\n",
              "    </tr>\n",
              "    <tr>\n",
              "      <th>220</th>\n",
              "      <td>เชียงใหม่</td>\n",
              "      <td>บ้านผาหมอน</td>\n",
              "    </tr>\n",
              "    <tr>\n",
              "      <th>221</th>\n",
              "      <td>เชียงใหม่</td>\n",
              "      <td>บ้านแม่กลางหลวง</td>\n",
              "    </tr>\n",
              "    <tr>\n",
              "      <th>222</th>\n",
              "      <td>เชียงใหม่</td>\n",
              "      <td>บ้านถ้ำ</td>\n",
              "    </tr>\n",
              "    <tr>\n",
              "      <th>223</th>\n",
              "      <td>เชียงใหม่</td>\n",
              "      <td>บ้านปางแดง</td>\n",
              "    </tr>\n",
              "    <tr>\n",
              "      <th>224</th>\n",
              "      <td>เชียงใหม่</td>\n",
              "      <td>บ้านขอบด้ง</td>\n",
              "    </tr>\n",
              "    <tr>\n",
              "      <th>225</th>\n",
              "      <td>เชียงใหม่</td>\n",
              "      <td>บ้านยาง</td>\n",
              "    </tr>\n",
              "    <tr>\n",
              "      <th>226</th>\n",
              "      <td>เชียงใหม่</td>\n",
              "      <td>บ้านกองแขก</td>\n",
              "    </tr>\n",
              "    <tr>\n",
              "      <th>227</th>\n",
              "      <td>เชียงใหม่</td>\n",
              "      <td>บ้านแม่สาใหม่</td>\n",
              "    </tr>\n",
              "    <tr>\n",
              "      <th>228</th>\n",
              "      <td>เชียงใหม่</td>\n",
              "      <td>บ้านแม่กำปอง</td>\n",
              "    </tr>\n",
              "    <tr>\n",
              "      <th>229</th>\n",
              "      <td>เชียงใหม่</td>\n",
              "      <td>เวียงแหง</td>\n",
              "    </tr>\n",
              "    <tr>\n",
              "      <th>230</th>\n",
              "      <td>เชียงใหม่</td>\n",
              "      <td>บ้านต้นเกว๋น</td>\n",
              "    </tr>\n",
              "  </tbody>\n",
              "</table>\n",
              "</div>"
            ],
            "text/plain": [
              "       จังหวัด                         ชื่อย่านชุมชนเก่า\n",
              "196  เชียงใหม่                       ย่านการค้า ถนนท่าแพ\n",
              "197  เชียงใหม่                   ย่านการค้า ถนนวิชยานนท์\n",
              "198  เชียงใหม่  ย่านการค้าถนนเจริญเมือง และย่านสถานีรถไฟ\n",
              "199  เชียงใหม่              ย่านถนนราชมรรคาและถนนสิงหราช\n",
              "200  เชียงใหม่                   ย่านสี่แยกตลาดช้างเผือก\n",
              "201  เชียงใหม่                              ย่านวัดเกตุ \n",
              "202  เชียงใหม่                                บ้านดอยปุย\n",
              "203  เชียงใหม่                              ทรายมูลเมือง\n",
              "204  เชียงใหม่                                บ้านวัวลาย\n",
              "205  เชียงใหม่                                   บ้านฮ่อ\n",
              "206  เชียงใหม่                                   พวกแต้ม\n",
              "207  เชียงใหม่                            บ้านช่างเคี่ยน\n",
              "208  เชียงใหม่            ย่านการค้าสี่แยกอำเภอดอยสะเก็ด\n",
              "209  เชียงใหม่                                 บ้านปางบง\n",
              "210  เชียงใหม่                               ตลาดสันทราย\n",
              "211  เชียงใหม่                             บ้านสันป่าสัก\n",
              "212  เชียงใหม่                              ตลาดสันกำแพง\n",
              "213  เชียงใหม่                                 บ้านปงไหว\n",
              "214  เชียงใหม่                             ตลาดสันป่าตอง\n",
              "215  เชียงใหม่                            บ้านทุ่งเสี้ยว\n",
              "216  เชียงใหม่                            บ้านต้นแหนน้อย\n",
              "217  เชียงใหม่                     ตลาดรอบสถานีรถไฟสารภี\n",
              "218  เชียงใหม่                               เวียงกุมกาม\n",
              "219  เชียงใหม่                             บ้านวัดจันทร์\n",
              "220  เชียงใหม่                                บ้านผาหมอน\n",
              "221  เชียงใหม่                           บ้านแม่กลางหลวง\n",
              "222  เชียงใหม่                                   บ้านถ้ำ\n",
              "223  เชียงใหม่                                บ้านปางแดง\n",
              "224  เชียงใหม่                                บ้านขอบด้ง\n",
              "225  เชียงใหม่                                   บ้านยาง\n",
              "226  เชียงใหม่                                บ้านกองแขก\n",
              "227  เชียงใหม่                             บ้านแม่สาใหม่\n",
              "228  เชียงใหม่                              บ้านแม่กำปอง\n",
              "229  เชียงใหม่                                  เวียงแหง\n",
              "230  เชียงใหม่                              บ้านต้นเกว๋น"
            ]
          },
          "metadata": {},
          "execution_count": 32
        }
      ]
    },
    {
      "cell_type": "code",
      "metadata": {
        "id": "MhPSSMj57yUL",
        "colab": {
          "base_uri": "https://localhost:8080/"
        },
        "outputId": "8202beda-3587-4375-d026-ec8a3d9e25f8"
      },
      "source": [
        "hhh = data_mix['ลักษณะสำคัญ']\n",
        "hhh"
      ],
      "execution_count": 33,
      "outputs": [
        {
          "output_type": "execute_result",
          "data": {
            "text/plain": [
              "0                                            ไม่มีข้อมูล\n",
              "1      ชุมชนเมืองนครเขื่อนขันธ์ เป็นชุมชนย่านการค้าเก...\n",
              "2      ชุมชนตลาดบางพลี เป็นชุมชนย่านตลาดการค้าเก่าแก่...\n",
              "3      ชุมชนตลาดคลองสวน เป็นชุมชนย่านตลาดการค้า บริเว...\n",
              "4      ชุมชนบ้านสาขลา เป็นชุมชนประมงของชาวนาเกลือ ที่...\n",
              "                             ...                        \n",
              "609    ดุซงญอ เป็นชุมชนตลาด และชุมชนความทรงจำ \"ดุซงญอ...\n",
              "610    ตะโละมาเนาะ เป็นชุมชนเกษตรกรรม และชุมชนโดยรอบโ...\n",
              "611    ละหาร เป็นชุมชนเกษตรกรรม บ้านละหารตั้งอยู่ในอำ...\n",
              "612    ตลาดยี่งอ เป็นชุมชนตลาด \"เมืองยี่งอ\" อาจจะเรีย...\n",
              "613    ตลาดสุไหงปาดี เป็นชุมชนตลาด และชุมชนโดยรอบทางร...\n",
              "Name: ลักษณะสำคัญ, Length: 614, dtype: object"
            ]
          },
          "metadata": {},
          "execution_count": 33
        }
      ]
    },
    {
      "cell_type": "code",
      "metadata": {
        "id": "VzNulD3pAqwc"
      },
      "source": [
        "import numpy as np"
      ],
      "execution_count": 50,
      "outputs": []
    },
    {
      "cell_type": "code",
      "metadata": {
        "id": "IFu3ggMvAeTo",
        "outputId": "3cc40cb7-3ddb-4a21-a44b-487a19633f4f",
        "colab": {
          "base_uri": "https://localhost:8080/"
        }
      },
      "source": [
        "data_matrix = np.array(data_mix.iloc[:,-1])\n",
        "data_matrix"
      ],
      "execution_count": 52,
      "outputs": [
        {
          "output_type": "execute_result",
          "data": {
            "text/plain": [
              "array(['ไม่มีข้อมูล',\n",
              "       'ชุมชนเมืองนครเขื่อนขันธ์ เป็นชุมชนย่านการค้าเก่าแก่ของอำเภอพระประแดงและเป็นที่ตั้งของเมืองพระประแดงในสมัยสุโขทัย และเมือง \"นครเนื่องเขตต์\" ในสมัยรัชกาลที่ 3 โดยชาวบ้านดั้งเดิมของชุมชนส่วนใหญ่เป็นชาวมอญ บริเวณตลาด ร้านค้าและบ้านเรือนส่วนใหญ่ตั้งอยู่หนาแน่นบริเวณถนนนครเขื่อนขันธ์ ถนนศรีเขื่อนขันธ์ ถนนพระยาพายัพพิริยะกิจและถนนสมิงปราบพยัคฆา พบเห็นบ้านเก่าทรงไทยและตลาดเช้าอยู่ในพื้นที่ รวมถึงมีขนมกะละแมและก๋วยเตี๋ยวที่ขึ้นชื่อ',\n",
              "       'ชุมชนตลาดบางพลี เป็นชุมชนย่านตลาดการค้าเก่าแก่ของอำเภอบางพลี โดยในสมัยก่อนชาวบ้านจะปลูกโรงอยู่มุ้งด้วยจากและเรือนใต้ถุนสูง (เนื่องจากมียุงชุกชุมมาก) ภายในชุมชนมีกลุ่มชาวบ้าน 3 กลุ่ม คือ ชาวไทย ชาวรามัญและชาวลาว ซึ่งทุกคนจะเสมือนเป็นญาติพี่น้องกัน โดยบริเวณตลาดจะมีคลองสำโรง ซึ่งแยกจากแม่น้ำเจ้าพระยาเป็นคลองสำคัญ ปัจจุบันสภาพพื้นที่ส่วนใหญ่เปลี่ยนจากท้องนากลายเป็นโรงงานอุตสาหกรรม อาคารพาณิชย์และบ้านจัดสรร แต่ยังพบเห็นกลุ่มอาคารเก่าแบบบ้านห้องแถวไม้ 2 ชั้น อยู่บ้างในบริเวณตลาดบางพลีและริมคลองสำโรง',\n",
              "       'ชุมชนตลาดคลองสวน เป็นชุมชนย่านตลาดการค้า บริเวณรอยต่อระหว่างจังหวัดสมุทรปราการ (ตำบลคลองสวน อำเภอบางบ่อ) และจังหวัดฉะเชิงเทรา (ตำบลเทพราช อำเภอบ้านโพธิ์) หรือที่เรียกว่า \"ตลาดสองเมือง\" ซึ่งมีอายุมากกว่า 100 ปี ซึ่งยังมีร้านค้าเก่าแก่และบ้านห้องแถวไม้ 2 ชั้น อยู่หลายหลัง โดยบริเวณรอบบนอกตลาดเป็นพื้นที่เกษตรกรรม ซึ่งชาวบ้านนิยมปลูกบ้านเรือนอาศัยอยู่ตามแนวถนนเทพราช-ลาดกระบัง และแนวริมสองฝั่งคลองสวนและคลองแขวงกลั่นบน พื้นที่ส่วนใหญ่เป็นที่ราบลุ่มเหมาะแก่การเพาะปลูก ทำนา เลี้ยงกุ้งและเลี้ยงปลา',\n",
              "       'ชุมชนบ้านสาขลา เป็นชุมชนประมงของชาวนาเกลือ ที่ปลูกสร้างบ้านเรือนอยู่ริมคลองสาขลาต่อเนื่องกับบริเวณถนนสุขสวัสดิ์-สาขลา เป็นหมู่บ้านที่มีอาชีพประมงชายฝั่งและการเพาะเลี้ยงสัตว์น้ำ ปัจจุบันมีการจัดตั้งเป็นกลุ่มแม่บ้านเกษตรกรนาเกลือพัฒนา โดยชุมชนบ้านสาขลานี้มีลักษณะสำคัญคือการกลุ่มอาคารบ้านเรือนติดกันอย่างหนาแน่น และยังคงปรากฏบ้านเก่าทั้งแบบบ้านในสวน บ้านทรงไทยยกพื้นและกลุ่มบ้านริมน้ำอยู่ในพื้นที่ โดยมีถนนและลำคลองสายย่อยตัดผ่านพื้นที่ มีบริเวณโดยรอบชุมชนเป็นป่าพรุ ป่าจากและนากุ้ง',\n",
              "       'ชุมชนบางน้ำผึ้ง เป็นชุมชนในสวนผลไม้บริเวณที่ราบลุ่มริมน้ำเจ้าพระยา ซึ่งมีคลองบางน้ำผึ้งไหลผ่านจึงทำให้พื้นที่มีความอุดมสมบูรณ์เหมาะแก่การทำสวนผลไม้ โดยเฉพาะสวนมะม่วงน้ำดอกไม้และกล้วยหอม ซึ่งเป็นผลไม้ที่สร้างรายได้และชื่อเสียงให้กับชุมชน โดยในอดีตชาวบ้านที่นี้ได้นำน้ำผึ้งมาตักบาตร จึงได้ขนานนามแผ่นดินแห่งนี้ว่า \"บางน้ำผึ้ง\" ปัจจุบันมีถนนยิ่งอำนวยและถนนบัวผึ้งพัฒนาตัดผ่านพื้นที่ โดยพบบ้านเก่าลักษณะดั้งเดิมแบบบ้านไม้ทรงไทยยกพื้นอยู่บริเวณริมคลอง และสวนผลไม้ และมี \"ตลาดน้ำบางน้ำผึ้ง\" เป็นแหล่งท่องเที่ยวที่สำคัญของชุมชน',\n",
              "       'ชุมชนตลาดบางบ่อ เป็นชุมชนย่านการค้าริมน้ำ ครอบคลุมพื้นที่ตำบลบางบ่อและตำบลสวนเกษตร บ้านเรือนตลาดและร้านค้าจะตั้งอยู่หนาแน่นบริเวณ 2 ฝั่งถนนทางหลวงหมายเลข 3117 และถนนสวนเกษตรที่ตัดผ่านพื้นที่ โดยมีอาคารบ้านเรือนเก่าในลักษณะห้องแถวไม้ชั้นเดียวและ 2 ชั้น อยู่ริมน้ำ ชาวบ้านในพื้นที่ส่วนใหญ่ประกอบอาชีพค้าขายและทำเกษตรกรรมอยู่บ้าง เช่น เลี้ยงปลาและเลี้ยงกุ้ง ปัจจุบันกลายเป็นแหล่งผลิตและจำหน่ายปลาสลิด (ตากแห้ง) ที่มีชื่อเสียงของจังหวัดสมุทรปราการ',\n",
              "       'ชุมชนคลองสรรพสามิต เป็นชุมชนชาวประมงชายฝั่งทะเลบริเวณคลองสรรพสามิตต่อเนื่องบริเวณสะพานและถนนคลองสรรพสามิต โดยคลองสรรพสามิตนี้แยกมาจากแม่น้ำเจ้าพระยาที่ตำบลแหลมฟ้าผ่า ไปยังตำบลนาเกลือต่อกับคลองขุนราชพินิจใจ ซึ่งเป็นคลองที่ใช้ประโยชน์มาแต่เดิมก่อนมีคลองสรรพสามิต ปัจจุบันมีอาคารบ้านเรือนตั้งอยู่หนาแน่นบริเวณถนนคลองสรรพสามิตและถนนแหลมฟ้าผ่า มีบ้านเก่าในลักษณะดั้งเดิมแบบบ้านไม้ 2 ชั้นยกพื้น ตั้งอยู่บริเวณแนวคลองสรรพสามิตหลายหลัง โดยมบางส่วนได้ปรับปรุงเป็นร้านค้า ร้านอาหารและสถานบริการ',\n",
              "       'ชุมชนประมงแหลมฟ้าผ่า เป็นชุมชนประมงที่ตั้งถิ่นฐานเป็นแนวยาวอยู่ในบริเวณชายฝั่งทะเลอ่าวไทย บริเวณถนนสุขสวัสดิ์-ป้อมพระจุลฯ โดยมีบริเวณโดยรอบเป็นป่าต้นจาก มีคลองนาเกลือไหลผ่านพื้นที่ออกสู่ทะเลและมีถนนสุขสวัสดิ์ตัดผ่านพื้นที่ทางฝั่งตะวันออก ปัจจุบันเป็นชุมชนที่มีชื่อเสียงด้านการท่องเที่ยวเชิงอนุรักษ์ด้านสิ่งแวดล้อมและวิถีชีวิต มีกิจกรรมการพายเรือคายัคชมธรรมชาติ การจักสานหลังคาใบจาก และมีผลิตภัณฑ์สินค้าที่สำคัญ คือ กะปิ ขนมเกสรดอกลำเจียก ลูกจากและผลิตภัณฑ์แปรรูปจากกุ้ง',\n",
              "       'ชุมชนเกาะเกร็ด เป็นชุมชนชาวมอญเก่าบน \"เกาะเกร็ด\" ซึ่งเป็นเกาะขนาดใหญ่ที่อยู่กลางลำน้ำเจ้าพระยา เกาะแห่งนี้เกิดขึ้นจากการขุดคลองลัดลำน้ำเจ้าพระยา ในสมัยสมเด็จพระเจ้าอยู่หัวท้ายสระแห่งกรุงศรีอยุธยา ในปี พ.ศ. 2265 จึงเรียกคลองนี้ว่า \"คลองลัดเกร็ดน้อย\" ต่อมากลายเป็น \"แม่น้ำลัดเกร็ด\" จนมีสภาพเป็นเกาะเช่นทุกวันนี้ บ้านเรือนบนเกาะเกร็ดมีลักษณะเป็นบ้านเดี่ยวแบบบ้านในสวนและบ้านไม้ริมน้ำที่เป็นบ้านยกพื้นอยู่ติดกันหลายหลัง พื้นที่บนเกาะมีทั้งที่เป็นพื้นที่ป่าและพื้นที่สวนผลไม้ โดยมีเครื่องปั้นดินเผาและขนมไทยเป็นสินค้าที่ขึ้นชื่อ',\n",
              "       'ชุมชนริมคลองอ้อมนนท์ เป็นย่านชุมชนที่พักอาศัยริมน้ำ ที่มีวิถีแบบเกษตรกรรมหรือแบบชนบท โดยมีลักษณะเป็นกลุ่มอาคารบ้านเรือนและร้านค้าทั้งบ้านทรงไทย บ้านไม้ชั้นเดียว บ้านไม้สองชั้น และอาคารที่พักอาศัยสมัยใหม่ โดดเด่นด้วยบ้านทรงไทยที่มีเอกลักษณ์จำนวนมากบริเวณสองฝั่งคลอง และมีจุดการค้า (ตลาดน้ำ) ในลำคลองหลายจุด ปัจจุบันชุมชนมีการจัดทำโครงการ \"การอนุรักษ์บ้านทรงไทยริมน้ำ : พื้นที่ลุ่มคลองอ้อมนนท์\" เพื่อสนับสนุนการบูรณะซ่อมแซมบ้านไทยริมน้ำ',\n",
              "       'ชุมชนตลาดขวัญ เป็นชุมชนย่านตลาดการค้า ตั้งอยู่ในริมฝั่งตะวันออกของแม่น้ำเจ้าพระยา ทางทิศใต้ของวัดท้ายเมือง ในอดีตเรียกว่า \"บ้านตลาดขวัญ\" ซึ่งมีการตั้งถิ่นฐานมาตั้งแต่สมัยกรุงศรีอยุธยา ต่อมาในรัชสมัยสมเด็จพระมหาจักรพรรดิ ได้ทรงยกฐานะบ้านตลาดขวัญเป็นเมืองนนทบุรี ในปี พ.ศ. 2092 โดยเป็นเมืองท่าและหน้าด่านทางทิศใต้ของกรุงศรีอยุธยา ปัจจุบันชุมชนตลาดขวัญ โดยมีหอทะเบียนที่ดินเก่า หอนาฬิกาและศาลากลางจังหวัดนนทบุรีหลังเก่า (บริเวณถนนนนทบุรี 1 และถนนประชาราษฎร์) เป็นสิ่งยืนยันความเก่าแก่ของชุมชนแห่งนี้',\n",
              "       'ชุมชนตลาดน้ำบางคูเวียง เป็นชุมชนย่านตลาดริมน้ำ ที่มีพื้นที่อยู่ทางฝั่งตะวันตกของแม่น้ำเจ้าพระยา บริเวณปากคลองบางคูเวียงกับปากคลองบางราวนก (หน้าวัดตะเคียน) โดยชาวบ้านที่ทำสวนและปลูกไม้ดอกไม้ประดับในละแวกตลาดน้ำ จะนำพืชผัก ดอกไม้และผลไม้ตามฤดูกาลบรรทุกใส่เรือออกมาจำหน่ายที่ตลาดน้ำแห่งนี้ในช่วงเช้า โดยมีอาหารและสินค้าพื้นบ้านอื่น ๆ นำออกมาจำหน่ายด้วย ซึ่งในทุก ๆ เช้าจะได้เห็นภาพพระภิกษุจากวัดบริเวณใกล้เคียงออกบิณฑบาตโดยใช้เรือลำเล็ก ๆ เป็นพาหนะ โดยบริเวณใกล้เคียงจะพบเห็นบ้านไม้ยกพื้นทรงไทยปลูกอยู่ริมน้ำหลายหลัง',\n",
              "       'ชุมชนบ้านขุนกอง เป็นชุมชนวิถีเกษตรกรรมบริเวณริมคลองบางนายไกร ซึ่งเชื่อว่าในอดีตเป็นชุมชนบ้านเกิดของ \"ไกรทอง\" ซึ่งปรากฏศาลเจ้าพ่อไกรทองอยู่ในพื้นที่ โดยสภาพทั่วไปของพื้นที่เป็นที่ราบลุ่มเหมาะแก่การเพาะปลูก มีคลองแยกจากคลองแม่น้ำอ้อมทางฝั่งตะวันตก เรียกว่า \"คลองบางนายไกร\" ซึ่งภายในลำคลองจะมีเคหสถานบ้านเรือนเป็นหลักฐานหนาแน่นมาก ชาวบ้านส่วนมากทำสวนผลไม้และไม้ดอกไม้ประดับ โดยมีการค้าขายและการรวมกลุ่มผลิตอาหารแปรรูปเป็นอาชีพเสริม ชาวบ้านภายในชุมชนมีลักษณะความสัมพันธ์เกี่ยวดองเป็นเครือญาติกัน',\n",
              "       'ชุมชนตลาดคลองระแหง เป็นชุมชนย่านตลาดการค้าริมน้ำอายุกว่า 100 ปี ตั้งอยู่ที่ชายคลองระแหงตามทางหลวง 346 ติดต่อคลองพระอุคม ตำบลระแหง อำเภอลาดหลุมแก้ว เป็นชุมชนการค้าเล็ก ๆ มีร้านค้าอยู่ไม่มาก มีร้านอาหารไทยและจีนแบบง่าย ๆ ที่มีรสชาติอร่อย ตลาดทั้งสองฝั่งคลองปลูกสร้างด้วยไม้ เป็นห้องแถวติดต่อกันยาว ในอดีตเป็นทางผ่านการสัญจรกันทางเรือและทางรถไฟ ปัจจุบันมี การจำหน่ายสินค้าในทุกวันเสาร์และอาทิตย์ เช่น ขนมพื้นบ้าน ขนมไทยโบราณ ผลิตผลทางการเกษตร ตั้งแต่สะพานคลองระแหงจะทำทางเดินเชื่อมต่อกันระหว่างลานวัดกับตลาด',\n",
              "       'ชุมชนตลาดน้ำคลองสาม (วัดกลางคลองสาม) เป็นชุมชนย่านตลาดริมน้ำ ตั้งอยู่บริเวณวัดกลางคลองสาม เป็นตลาดน้ำที่มีความเป็น วัฒนธรรมแบบดั้งเดิม เพื่อรองรับการมาเยือนอีกแห่งหนึ่งได้สัมผัสกับวิถีชีวิตของชาวชุมชน ปัจจุบันมีเรือลําเล็กมากกว่า 100 ลํา จะนําสินค้ามาขาย ไม่ว่าจะเป็น สินค้าเกษตรกรรม สินค้า หัตถกรรมพื้นเมืองจากปทุมธานีอาหารหลากหลายชนิดทั้งคาว-หวาน และสินค้าประเภทของ ชําร่วยของที่ระลึก',\n",
              "       'ชุมชนปากคลอง 5 เป็นชุมชนที่อยู่อาศัยดั้งเดิมริมน้ำ ปลูกสร้างบ้านเรือนลักษณะบ้านไม้ยกพื้นอยู่บริเวณปาก คลอง 5 ในเขตตําบลตําบลบึงยี่โถ อําเภอธัญบุรีมีพื้นที่ชุมชนอยู่ทางฝั่งตะวันออกของวัดมูล จินดารามและถนนวงแหวนรอบนอกกรุงเทพมหานครฝั่งตะวันออก (สายบางพลี-บางปะอิน) โดยบริเวณโดยรอบของชุมชนจะเป็นทุ่งนาข้าวและพื้นที่เกษตรกรรม โดยอาศัยบริเวณวัดมูล จินดารามเป็นสถานที่ค้าขายและจัดกิจกรรมของชุมชน',\n",
              "       'ชุมชนปากคลอง 7 เป็นชุมชนที่อยู่อาศัยริมน้ำ ตั้งอยู่ทางทิศใต้ของถนนรังสิต-นครนายก เป็นชุมชนบริเวณ รอยต่อตําบลรังสิตและตําบลลําผักกูด เขตอําเภอธัญบุรีมีลักษณะบ้านเรือนเป็นกลุ่มบ้านเดี่ยว เรือนไม้ยกพื้นอยู่บริเวณปากคลอง 7 ตัดกับคลองรังสิต',\n",
              "       'ชุมชนปากคลอง 11 เป็นชุมชนที่อยู่อาศัยริมน้ำ ตั้งอยู่ทางทิศใต้ของถนนรังสิต-นครนายก เป็นชุมชนบริเวณรอยต่อตำบลบึงสนั่นและตำบลบึงน้ำรักษ์ เขตอำเภอธัญบุรี  มีลักษณะบ้านเรือนเป็นกลุ่มบ้านเดี่ยวเรือนไม้ยกพื้นอยู่บริเวณปากคลอง 11 ตัดกับคลองรังสิต ภายในพื้นที่รอบ ๆ ชุมชนเป็นที่ตั้งของร้านอาหารขึ้นชื่อของอำเภอธัญบุรี',\n",
              "       'ชุมชนปากคลอง 13 เป็นชุมชนที่อยู่อาศัยริมน้ำ ตั้งอยู่ทางทิศใต้ของถนนรังสิต-นครนายก เป็นชุมชนในเขตตำบลบึงน้ำรักษ์ เขตอำเภอธัญบุรี มีลักษณะบ้านเรือนเป็นกลุ่มบ้านเดี่ยวแบบบ้านไม้ 2 ชั้น และกลุ่มเรือนไม้ยกพื้นอยู่บริเวณปากคลอง 13 ตัดกับคลองรังสิต ภายในชุมชนมีศาลเจ้าจีนอยู่บริเวณปากซอย และมีพื้นที่รอบ ๆ ชุมชนเป็นสวนผักและผลไม้',\n",
              "       'ชุมชนเก่าตลาดรังสิต เป็นชุมชนย่านตลาดเก่าริมน้ำ หรือที่เรียกว่า \"ตลาดสุชาติ\" มีพื้นที่อยู่ลึกเข้าไปใกล้กับประตูระบายน้ำจุฬาลงกรณ์ ซึ่งในอดีตเคยเป็นตลาดขนาดใหญ่ที่เจริญรุ่งเรืองมาก เมื่อ 20-30 ปีก่อนชาวบ้านในชุมชนส่วนใหญ่เป็นชาวไทยเชื้อสายจีน ปัจจุบันบริเวณถนนหน้าศาลเจ้าและซอยศาลาร่วมใจ มีลักษณะอาคารตึกแถวพาณิชย์ 2 ชั้นและ 3 ชั้น (ส่วนใหญ่สร้างขึ้นภายหลังเหตุการณ์ไฟไหม้ตลาดเก่ารังสิต เมื่อปี พ.ศ. 2551) ภายในชุมชนมีร้านอาหารที่ขึ้นชื่อหลายร้าน มีตลาดสดและศาลเจ้าจีนอยู่ด้วย',\n",
              "       'ชุมชนตลาดลาดชะโด ย่านตลาดริมน้ำที่เป็นห้องแถวไม้ในพื้นที่ราบลุ่ม \"หนองน้ำใหญ่\" ที่มีลำคลองไหลผ่านพื้นที่ ชุมชนดังกล่าวมีถนนสายสำคัญซึ่งได้รับการขนานนามว่าเป็น \"ถนนแห่งแผ่นฟิล์ม\" รวมไปถึงชุมชนพื้นถิ่นที่เกาะอยู่กับตลาด เป็นชุมชนหมู่บ้านสองฤดู มีสะพานทางเดินเชื่อมถึงกัน',\n",
              "       'ชุมชนตลาดหัวรอ เป็นชุมชนย่านตลาดโบราณอายุ 200 กว่าปี ซึ่งมีร้านค้า ร้านขายอาหาร ร้านก๋วยเตี๋ยว ร้านขนมโบราณและร้านโชว์ห่วยมากมาย โดยเฉพาะบริเวณถนนอู่ทอง ซึ่งร้านค้าแต่ละร้านนั้นเปิดมาไม่ต่ำกว่า 50 ปี ปัจจุบันอยู่ในความดูแลของสำนักงานทรัพย์สินส่วนพระมหากษัตริย์ โดยส่งเสริมเป็นตลาดท่องเที่ยวเชิงอนุรักษ์',\n",
              "       'ชุมชนตลาดเจ้าพรหม เป็นย่านตลาดในลักษณะที่เป็นตึกเก่าบริเวณถนนอู่ทองและถนนหอรัตนไชย ตั้งอยู่บริเวณฝั่งตะวันตกของแม่น้ำป่าสักที่ไหลผ่านตัวเมืองอยุธยา ปัจจุบันมีหลังคาคลุมกันฝนและแดด คล้าย ๆ กับ ตลาดอื่น ๆ มีขายทั้งอาหารสด อาหารแห้ง เนื้อ ผัก ผลไม้ เสื้อผ้า ของใช้ในบ้านและอื่น ๆ',\n",
              "       'ชุมชนเจ้าเจ็ด เป็นชุมชนเก่าตั้งแต่สมัยอยุธยาบริเวณลำน้ำเจ้าเจ็ด-บางยี่หน โดยทางเทศบาลเจ้าเจ็ด ได้มีการให้บริการนักท่องเที่ยวนั่งเรือชมทิวทัศน์สองฝั่งคลองเจ้าเจ็ด วัด งานแห่เรือ หลวงพ่อพุทธเกษร ซึ่งปัจจุบันมีการจัดตั้ง \"กองทุนรักษ์เจ้าเจ็ดบ้านเกิด\" ด้วย รวมถึงมีก๋วยเตี๋ยวเรือเป็นอาหารที่มีชื่อเสียงของชาวเจ้าเจ็ด',\n",
              "       'ชุมชนบ้านกรด (วัดขนอน) เป็นย่านชุมชนริมน้ำ ที่มีคลองห้วยกรดหรือคลองบ้านกรดมาบรรจบกับคลองโพ ในอดีตจึงเป็นที่ตั้งของด่านเก็บภาษีริมคลอง ซึ่งมีคลองควายขุดมาสบทบผ่านหน้าวัดขนอนเหนืออีกสายหนึ่งด้วย โดยในช่วงออกพรรษาจะมีพระธุดงค์มาปักกรดตามต้นสะตือ',\n",
              "       'ชุมชนรางจระเข้ เป็นชุมชนเก่าบนพื้นที่เป็นที่ราบลุ่มริมสองฝั่งคลองรางจรเข้ (ในอดีตมีจระเข้ชุกชุมมาก) ซึ่งไม่ได้มีการเคลื่อนย้ายหลักแหล่งมากนักและอยู่สืบทอดต่อ ๆ กันมา ชาวบ้านส่วนใหญ่ประกอบอาชีพทำนาและมีความเกี่ยวพันกันทางเชื้อสาย (มักแต่งงานกับคนในละแวกเดียวกัน) ปัจจุบันมีกลุ่มอาชีพในชุมชน เช่น ศิลปหัตถกรรมจากกิ่งไม้และกลุ่มผลิตกระเป๋าหนังต่อ',\n",
              "       'ชุมชนคลองตะเคียน เป็นตำบลเก่าแก่มาแต่สมัยกรุงศรีอยุธยาเป็นราชธานี เนื่องจากเป็นชุมชนชาวมุสลิมเชื้อสายมลายูที่มาทำการค้าสมัยอยุธยาใช้เป็นสถานที่พำนักพักพิง ซึ่งสถานที่ตั้งตำบลมีลำคลองใหญ่ เคยมีต้นตะเคียนขนาดใหญ่ โดยในสมัยโบราณใช้เป็นเส้นทางล่องซุงทำไม้ จึงได้เรียกชื่อตำบลตามชื่อลำคลองว่า \"ตำบลคลองตะเคียน\"',\n",
              "       'ชุมชนปากกราน เป็นชุมชนริมน้ำตั้งแต่ในสมัยกรุงศรีอยุธยา โดยตำบลปากกรานและตำบลบ้านป้อมมีพื้นที่ติดต่อกันมากที่สุด 2 ตำบลนี้จึงเป็นส่วนเดียวกัน เรียกว่า \"ป้อมปราการ\" ซึ่งตั้งอยู่ทางทิศตะวันตกของกรุงศรีอยุธยาที่ถูกกำหนดเป็นพื้นที่ป้อมกันข้าศึก ชาวพุทธเป็นคนพื้นเพเดิมของอยุธยา แต่ชาวอิสลามในพื้นที่ได้อพยพมาจากแหลมมลายูในแถบประเทศมาเลเซีย',\n",
              "       'ชุมชนตลาดท่าเรือ เป็นชุมชนย่านตลาดการค้าริมน้ำ ที่มีบ้านเรือนแบบสมัยเก่าปะปนอยู่กับแบบสมัยใหม่ ตัวตลาดอยู่ติดกับแม่น้ำป่าสัก และเมื่อ พ.ศ. 2508 เคยเกิดเหตุการณ์ครั้งสำคัญ จากการที่พวกโจร 17 คน บุกเข้าปล้นตลาดท่าเรือ (โดยการนำของเสือใบ กุลแพ หรือ \"เจ้าพ่อกำแพงเขย่ง\")',\n",
              "       'ชุมชนรอบสถานีรถไฟบางปะอิน เป็นชุมชนบริเวณโดยรอบสถานีรถไฟบางปะอิน ที่ตั้งอยู่บนที่ราบลุ่มฝั่งตะวันออกของแม่น้ำเจ้าพระยาในเขตตำบลบ้านเลน และตั้งอยู่ใกล้กับเกาะบางปะอิน ซึ่งสถานีรถไฟบางปะอินได้เปิดใช้งานตั้งแต่สมัยรัชกาลที่ 5 ถึงปัจจุบัน โดยตัวสถานีรถไฟยังคงสภาพและเอกลักษณ์ความเก่าแก่ไว้คงเดิม จุดเด่นของสถานีบางปะอินอยู่ที่การมีพลับพลารับเสด็จ',\n",
              "       'ชุมชนบ้านภาชี เป็นชุมชนบริเวณโดยรอบสถานีรถไฟชุมทางบ้านภาชีและต่อเนื่องถึงบริเวณตลาด ซึ่งเป็นตลาดขนาดย่อมที่ขายของกินแบบวันเดียวเดินเที่ยวชมได้ทั่ว โดยจะพบอาคารห้องแถวที่เป็นที่พักของพนักงานรถไฟและบ้านเรือนที่พักอาศัยของประชาชนที่เป็นบ้านไม้อยู่บ้างในพื้นที่ โดยเฉพาะบริเวณถนนเทศบาลทางด้านทิศใต้ของสถานีรถไฟ',\n",
              "       'ชุมชนบ้านแสงโสม ในอดีตเป็นด่านขนอน (ด่านเก็บภาษี) โดยชุมชนลักษณะเป็นบ้านเรือนไทยหมู่ใหญ่ คงความเป็นสถาปัตยกรรมไทยโบราณ และสามารถสัมผัสกับบรรยากาศเก่า ๆ แบบสมัยกรุงศรีอยุธยาได้ ซึ่งตลาดมีการขายสินค้าที่วางอยู่บนพื้นดิน โดยคนที่มาซี้อสินค้าจะต้องโก้งโค้งเลือกดูสินค้าที่ตนสนใจ จึงกลายมาเป็นชื่อของ \"ตลาดโก้งโค้ง\"',\n",
              "       'ชุมชนตลาดบ้านแพน เป็นย่านตลาดเก่าที่เคยเป็นจุดเปลี่ยนถ่ายในการสัญจรทางน้ำในอดีต เนื่องจากมีสภาพพื้นที่ส่วนใหญ่เป็นที่ราบลุ่มที่มีแม่น้ำน้อยไหลผ่าน โดยมีตลาดสดอายุกว่าร้อยปีที่ชาวบ้านเรียกว่า \"ตลาดบ้านแพน\" ซึ่งตัวอาคารยังคงเห็นเป็นอาคารไม้โดยส่วนใหญ่ แต่ยังคงบรรยากาศตลาดที่มีผู้คนออกมาซื้อหาอาหารและเครื่องใช้ไม้สอยอย่างคึกคักในช่วงเวลาเช้าและเย็น',\n",
              "       'ชุมชนหมู่บ้านริมคลองบางบาล เป็นชุมชนชาวนาดั้งเดิมที่ตั้งถิ่นฐานบริเวณคลองบางบาล ซึ่งเป็นเส้นทางแม่น้ำเจ้าพระยาสายเก่า (เป็นลำคลองที่ตัดผ่านหลายตำบลในอำเภอบางบาล) เห็นได้จากมีวัดสมัยอยุธยาตั้งอยู่ตามลำน้ำ ชุมชนยังประกอบอาชีพทำนา บ้านเรือนเป็นเรือนไทยมีใต้ถุน เนื่องจากยังมีสภาพน้ำหลากทุกปี ปัจจุบันมีกลุ่มงานปั้นจิ๋วในพื้นที่ด้วย',\n",
              "       'ชุมชนหมู่บ้านริมคลองลาดชิด เป็นชุมชนชาวนาดั้งเดิมที่ตั้งถิ่นฐานบนพื้นที่ราบลุ่มบริเวณคลองลาดชิด เป็นลักษณะการตั้งเรือนขวางลำน้ำธรรมชาติที่ไหลผ่าน คือ แม่น้ำแควน้อย ซึ่งไหลผ่านกลางตำบลทางตอนเหนือลงมาทางทิศใต้ และยังมีคลองตาลานซึ่งแยกมาจากแม่น้ำแควน้อย โดยชุมชนมีความหนาแน่น ประกอบไปด้วยกลุ่มเรือนไทยที่สร้างชิดติดกัน กลุ่มบ้านอยู่รวมกันเป็นลักษณะเครือญาติ',\n",
              "       'ชุมชนหมู่บ้านทำกลองเอกราช หมู่บ้านทำกลองเอกราช ตั้งอยู่ในพื้นที่คาบเกี่ยวตำบลเอกราชกับตำบลป่าโมก เขตอำเภอป่าโมก ซึ่งมีเส้นทางหลวงหมายเลข 329 ตัดผ่านพื้นที่ ชุมชนแห่งนี้อยู่บนพื้นที่ราบลุ่มริมฝั่งตะวันตกของแม่น้ำเจ้าพระยาหลังตลาดป่าโมก โดยเริ่มผลิตกลองมาตั้งแต่ พ.ศ. 2470 ซึ่งนิยมทำเป็นอาชีพเสริมหลังฤดูเก็บเกี่ยว วัตถุดิบที่ใช้ทำกลอง ได้แก่ ไม้ฉำฉา ซึ่งกลองที่ทำมีตั้งแต่ขนาดเล็กจนถึงกลองขนาดใหญ่ ทั้งมีคุณภาพ ประณีต สวยงาม โดยในปี พ.ศ. 2554 ชุมชนแห่งนี้ได้รับการคัดเลือกเป็น 1 ใน 10 เมืองต้นแบบเศรษฐกิจสร้างสรรค์ของกระทรวงพาณิชย์',\n",
              "       'ชุมชนศาลเจ้าโรงทอง ตลาดศาลเจ้าโรงทองหรือตลาดวิเศษชัยชาญ เป็นย่านตลาดเก่าแก่มีมาตั้งแต่ครั้งสมัยกรุงศรีอยุธยา และเริ่มเจริญรุ่งเรืองมากในสมัยรัชกาลที่ 5 ในอดีตเป็นศูนย์กลางการค้าขายของจังหวัดอ่างทอง เนื่องจากเป็นท่าเรือและทางผ่านของการคมนาคมทางน้ำ ปัจจุบันมีบ้านเรือนทั้งแบบเก่า (อาคารไม้ 2 ชั้น) และอาคารพาณิชย์สมัยใหม่ตั้งอยู่หนาแน่นระหว่างถนนวัดนางในกับแม่น้ำน้อย โดยมีสภาพอาคารภายในตลาดเป็นอาคารไม้โบราณ ซึ่งเต็มไปด้วยศิลปะงานไม้มากมาย วัตถุโบราณ และของตกแต่งที่สั่งสมกันมาเป็นเวลายาวนาน',\n",
              "       'ชุมชนท่าตลาด เป็นชุมชนย่านการค้าริมน้ำขนาดเล็ก บริเวณฝั่งตะวันออกของเส้นทางหลวงหมายเลข 3064 คาบเกี่ยวตำบลอินทประมูลกับตำบลบางพลับเขตอำเภอโพธิ์ทอง โดยมีพื้นที่ส่วนใหญ่เป็นที่ราบลุ่ม ซึ่งบริเวณรอบนอกชุมชนเป็นพื้นที่นาข้าว ชาวบ้านส่วนใหญ่มีอาชีพหลัก คือ การทำนาและมีอาชีพเสริม คือ รับจ้าง',\n",
              "       'ชุมชนตลาดเมืองลพบุรี เป็นชุมชนย่านการค้าบริเวณตลาดเก่าริมน้ำท่าโพธิ์และตลาดเก่าท่าขุนนาง ต่อเนื่องกับบริเวณถนนพระรามและสถานีรถไฟลพบุรี เป็นพื้นที่ที่เคยเป็นท่าน้ำและตลาดสำคัญของเมือง มีคุณค่าในเชิงประวัติศาสตร์ในเชิงการเป็นพื้นที่ค้าขายที่ยังคงสืบเนื่องมาจนถึงปัจจุบัน และเป็นที่ตั้งถิ่นฐานแรกของคนจีนแต้จิ๋วในเมืองเก่าลพบุรี ซึ่งเข้ามาประกอบกิจการค้าขายตามแนวถนนพระราม ก่อนที่จะกระจายมาอยู่อาศัยในพื้นที่เมืองเก่าส่วนที่เป็นพื้นที่พาณิชยกรรมในปัจจุบัน',\n",
              "       'ชุมชนย่านถนนสีหราชเดโชชัย เป็นชุมชนย่านการค้าบริเวณถนนสีหราชเดโชชัยต่อเนื่องกับถนนพญาอนุชิต (อยู่ระหว่างถนนสีหราชเดโชชัยและถนนรามเดโช) และบริเวณถนนรามเดโช โดยมีคูน้ำอยู่ทางฝั่งตะวันตกของพื้นที่ สภาพพื้นที่โดยทั่วไปเป็นที่ลุ่มขนาดใหญ่ ซึ่งมีบ้านเรือนลักษณะบ้านเดี่ยวในแปลงที่ดินขนาดเล็กริมถนนซึ่งอยู่ติดกันเป็นกลุ่ม โดยชาวบ้านส่วนใหญ่ประกอบอาชีพทำนา ทำดินสอพองและผลิตภัณฑ์ทองเหลือง',\n",
              "       'ชุมชนบ้านหมี่ เป็นชุมชนย่านการค้าบริเวณตลาดบ้านหมี่ต่อเนื่องกับสถานีรถไฟบ้านหมี่ (ทางฝั่งตะวันออก) ถนนประชาอุทิศ ถนนปิยบุตรและถนนเทศบาล โดยมีสภาพทั่วไปเป็นที่ราบลุ่ม ซึ่งมีระบบชลประทานที่เหมาะแก่การทำนา ทำให้ตำบลบ้านหมี่สามารถทำนาได้ตลอดปี ซึ่งผู้คนส่วนใหญ่ของอำเภอบ้านหมี่จะเป็นชาวไทยพวนที่อพยพมาจากประเทศลาวเมื่อประมาณ 135 ปีที่แล้ว โดยในชุมชนมีสินค้าสำคัญ ได้แก่ ดอกไม้ประดิษฐ์และพวงกุญแจลูกปัด เป็นต้น',\n",
              "       'ชุมชนตลาดตัวเมืองสิงห์บุรี เป็นชุมชนตลาดหลักของเมืองสิงห์บุรี มีสภาพพื้นที่เป็นที่ราบลุ่มลักษณะเป็นลูกคลื่นลอนสั้น จากการทับถมของตะกอนริมแม่น้ำเจ้าพระยาที่ไหลผ่านพื้นที่ ปัจจุบันพบบ้านเก้าลักษณะห้องแถวไม้ 2 ชั้นอยู่บ้าง โดยเฉพาะบริเวณถนนขุนสวรรค์และถนนนายจันทร์หนวดเขี้ยว อาชีพหลักของชาวบ้าน คือ การค้าขาย และอาชีพเสริม คือ รับจ้าง มีผลิตภัณฑ์ที่สำคัญ ได้แก่ ขนมเปี๊ยะ ข้าวเกรียบปลาช่อน ผลิตภัณฑ์เนื้อสัตว์แปรรูป ผลิตภัณฑ์สปาและเครื่องทอง',\n",
              "       'ชุมชนตลาดบ้านแป้ง เป็นย่านตลาดเก่าริมแม่น้ำเจ้าพระยาบริเวณวัดกลางธนรินทร์ มีสภาพเป็นพื้นที่ราบลุ่มมีแม่น้ำเจ้าพระยาไหลผ่านทางด้านทิศตะวันตก ซึ่งในอดีตชาวบ้านแป้งเป็นชาวลาวเวียงจันทร์ที่เคลื่อนย้ายมาตั้งแต่สมัยกรุงศรีอยุธยาเป็นราชธานี ปัจจุบันเป็นชุมชนเล็ก ๆ ที่มีอาคารไม้ห้องแถวอยู่ไม่กี่ห้อง โดยมีสินค้าที่ขึ้นชื่อ คือ ก๋วยเตี๋ยวบ้านแป้ง ขนมเบื้องญวน ขนมไทย หมูย่างและหอยทอด นอกจากนี้ยังมีป้อมแนวคูค่ายพม่าและทุ่งข้าวเป็นสัญลักษณ์ของพื้นที่',\n",
              "       'ชุมชนตลาดปากบาง เป็นย่านตลาดการค้าเก่าแก่อายุกว่า 150 ปี ที่ถือว่าเป็นสถานที่ท่องเที่ยวที่สำคัญของอำเภอพรหมบุรี หรือเรียกอีกชื่อหนึ่งว่า \"ตลาดปากบาง-หมื่นหาญ\" ตั้งอยู่บริเวณริมฝั่งแม่น้ำเจ้าพระยาและฝั่งตะวันตกของถนนสายเอเชียขาขึ้น (เข้าถนนของชุมชนหมายเลข 4014) บริเวณหลักกิโลเมตรที่ 133 ปัจจุบันมีอาคารไม้ห้องแถวกว่า 150 ห้อง ซึ่งส่วนใหญ่ขายอาหารและขนมพื้นบ้านจำนวนมาก โดยมีอาหารที่ขึ้นชื่อ ได้แก่ ผัดไทยปากบาง ก๋วยเตี๋ยว ขนมเปี๊ยะ น้ำพริก ปลาส้ม กวนเชียง กระยาสารท กระหรี่ปั๊บและขนมสาลี่ เป็นต้น',\n",
              "       'ชุมชนบ้านแม่ลา เป็นชุมชนที่ตั้งบ้านเรือนอยู่ริมลำน้ำแม่ลา ซึ่งเป็นลำน้ำสายเก่าของอำเภออินทร์บุรี มีลักษณะเป็นที่ราบลุ่มริมลำน้ำที่มีสภาพแวดล้อมในระบบนิเวศที่ดี มีความร่มเย็น คงสภาพความเป็นธรรมชาติที่อุดมสมบูรณ์ และเป็นแหล่งอาศัยและแหล่งอาหารที่สำคัญของปลานานาชนิด โดยเฉพาะ \"ปลาช่อน\" ซึ่งเป็นสัญลักษณ์ของตำบลแม่ลา เนื่องจากมีขนาดใหญ่และมีรสชาติอร่อย ปัจจุบันชาวบ้านมีอาชีพหลัก คือ การทำนา ทำสวนและรับจ้าง และมีผลิตภัณฑ์ปลาเชียงและไส้กรอกปลาสมุนไพร แชมพูสมุนไพร เป็นสินค้าสำคัญของพื้นที่',\n",
              "       'ชุมชนย่านตลาดอินทร์บุรี เป็นชุมชนย่านการค้าเก่าแก่ของคนสิงห์บุรีบริเวณอำเภออินทร์บุรี ซึ่งมีอายุกว่า 100 ปี ตั้งอยู่ในบริเวณที่ราบลุ่มแม่น้ำเจ้าพระยาที่ไหลผ่านตอนกลางของตำบล โดยมีเส้นทางหลวงหมายเลข 3275 ตัดผ่านพื้นที่ ความสำคัญของชุมชนแห่งนี้คือ ภายในตลาดอินทร์บุรี มีตลาดย่อยอยู่ 3 ตลาดติดกัน คือ ตลาดเหนือ ตลาดกลางและตลาดใต้ โดยเป็นตลาดสดที่ขายกันช่วงเช้า ๆ มีทั้งผักผลไม้และอาหาร ต่อมาบริเวณหน้าตลาดกลางได้มีการจัดตั้งตลาดค่ำหรือตลาดโต้รุ่งขึ้น เพื่อให้คนสิงห์บุรีได้มาจับจ่ายซื้ออาหารการกินในช่วงบ่ายจนถึงค่ำ',\n",
              "       'ชุมชนบ้านระนาม เป็นชุมชนหมู่บ้านศิลปหัตถกรรมไทย \"บ้านระนาม\" ตั้งอยู่ในบริเวณรอยต่อจังหวัดสิงห์บุรีกับจังหวัดชัยนาท ตั้งอยู่ทางฝั่งตะวันออกของแม่น้ำเจ้าพระยา เป็นชุมชนที่มีภูมิปัญญาด้านงานจักสานเครื่องใช้ไม้สอยที่จำเป็นในการทำนา เช่น กระบุง ตะกร้า งอบและหมวกจากวัสดุธรรมชาติ เช่น ไผ่ ผักตบชวา ใบลานและหวาย เนื่องจากเป็นชุมชนริมน้ำมีพื้นที่ที่อุดมสมบูรณ์ อาชีพหลักของชาวบ้าน คือ การทำนา ทำสวน ทำไร่และเลี้ยงสัตว์ อาชีพเสริม คือ งานจักสาน',\n",
              "       'ชุมชนตลาดวัดสิงห์ เป็นชุมชนย่านตลาดเก่า (ตลาดสด) ที่มีอายุกว่าร้อยปี ตัวอาคารยังคงเห็นเป็นอาคารไม้โดยส่วนใหญ่ผสมผสานกับตึกสมัยใหม่ แต่ยังคงบรรยากาศตลาดที่มีผู้คนออกมาซื้อหาอาหารและเครื่องใช้ไม้สอยอย่างคึกคักในช่วงเวลาเช้าและเย็น นอกจากนี้ยังมีแม่น้ำเจ้าพระยาไหลผ่านพื้นที่ทางทิศตะวันออกด้วย',\n",
              "       'ชุมชนตลาดโพนางดำ เป็นย่านตลาดเก่าบริเวณพื้นที่ราบลุ่มที่มีแม่น้ำเจ้าพระยาไหลผ่าน ซึ่งตั้งอยู่ในเขตปฎิรูปที่ดินเพื่อการเกษตรและมีคลองชลประทานไหลผ่านพื้นที่ ตลาดโพนางดำมี ขนมหน้างา (ป้าละเมียด) เป็นสินค้าที่มีชื่อเสียง โดยมีสูตรดั้งเดิมมาจากประเทศจีน อันเกิดจากบรรพบุรุษชาวจีนมาตั้งถิ่นฐานในประเทศไทยและพัฒนาต่อเนื่องจนได้รับตราสัญลักษณ์ผลิตภัณฑ์จังหวัดชัยนาท',\n",
              "       'ชุมชนบ้านปากคลองมะขามเฒ่า เป็นชุมชนเก่าแก่บริเวณปากคลองมะขามเฒ่า (แม่น้ำท่าจีน) แยกจากแม่น้ำเจ้าพระยา ชุมชนตั้งอยู่บริเวณถนนประชาราษฎร์บำรุง ปัจจุบันมีตลาดต้นน้ำท่าจีนที่อยู่คู่กับวัดปากคลองมะขามเฒ่าและตลาดสดอายุกว่าร้อยปี ซึ่งตัวอาคารยังคงเห็นเป็นอาคารไม้โดยส่วนใหญ่ผสมผสานกับตึกรามสมัยใหม่บ้างเป็นช่วง ๆ แต่ยังคงบรรยากาศตลาดสดที่ผู้คนจะออกมาซื้อหาอาหาร และเครื่องใช้ไม้สอยอย่างคักคักในช่วงเวลาเช้าและเย็น',\n",
              "       'ชุมชนบ้านท่าลาภ เป็นชุมชนเกษตรกรรมบนพื้นที่ราบลุ่มริมแม่น้ำเจ้าพระยา (ฝั่งตะวันออก) ซึ่งตั้งอยู่ในหมู่ที่ 7 ตำบลธรรมามูล โดยมีถนนพหลโยธินตัดผ่านทางฝั่งตะวันออกของพื้นที่ ปัจจุบันเป็นแหล่งสินค้าประเภทผลิตภัณฑ์จากกล้วยน้ำว้า (กลุ่มแม่บ้าน)',\n",
              "       'ชุมชนบ้านท่าแขก เป็นชุมชนเกษตรกรรมบริเวณที่ราบลุ่มริมแม่น้ำเจ้าพระยา (ฝั่งตะวันออก) ตั้งอยู่ในหมู่ที่ 1 (บ้านท่าแขก) ปัจจุบันเป็นแหล่งผลิตงานหัตถกรรมจักสานเครื่องใช้ในครัวเรือนสมัยโบราณ ซึ่งผลิตจากต้นไผ่สีสุกที่มีอยู่จำนวนมากในพื้นที่',\n",
              "       'ชุมชนไทยวนริมแม่น้ำป่าสัก เป็นชุมชนชาวไทยวนที่ตั้งบ้านเรือนอยู่ริมทางตอนเหนือของแม่น้ำป่าสัก ในเขตตำบลต้นตาลและส่วนหนึ่งของตำบลเสาไห้ ชาวบ้านในชุมชนเป็นกลุ่มชาวไทยวนที่อพยพมาเมื่อครั้งที่เมืองเชียงแสนถูกตีแตกในสมัยต้นกรุงรัตนโกสินทร์ ปัจจุบันมีถนนหมายเลข 3225 ตัดผ่านทางตอนเหนือ ภายในชุมชนมีการผลิต \"ข้าวเสาไห้\" และผลิตภัณฑ์จากไม้มะม่วงที่มีชื่อเสียง รวมถึงมีการพัฒนาเป็นหมู่บ้านท่องเที่ยวและมี Home Stay ด้วย',\n",
              "       'ย่านถนนวชิรปราการ เป็นชุมชนย่านถนนการค้าหรือเขตพาณิชยกรรม ตั้งอยู่ใกล้กับชายฝั่งทะเลอ่าวไทย ครอบคลุมพื้นที่ตำบลบ้านโขดและตำบลมะขามหย่ง เขตอำเภอเมืองชลบุรี พบอาคารเก่าในลักษณะห้องแถวไม้ 2 ชั้นและอาคารพาณิชย์ตึกแถวแบบดั้งเดิมอยู่ในพื้นที่ โดยเฉพาะบริเวณถนนวชิรปราการ ชาวบ้านประกอบอาชีพที่หลากหลายทั้งค้าขาย รับจ้างและทำประมง ปัจจุบันมีดอกไม้ประดิษฐ์เป็นผลิตภัณฑ์ที่สำคัญของชุมชนชุมชน',\n",
              "       'ตลาดหนองมน (บางแสน) เป็นย่านถนนการค้าและแหล่งจำหน่ายสินค้าและของฝาก ซึ่งตั้งอยู่ในพื้นที่ลาดแนวชายฝั่งทะเล เศรษฐกิจส่วนใหญ่ขึ้นอยู่กับการพาณิชยกรรม โดยมีกิจกรรมการค้าอยู่หนาแน่นบริเวณตลาดหนองมนและชายหาดบางแสน ซึ่งเป็นผลมาจากการท่องเที่ยว ปัจจุบันมีอาคารเก่าในลักษณะอาคารตึกแถวพาณิชย์ อยู่บริเวณตลาดและถนนซอย ประชากรส่วนใหญ่ประกอบอาชีพค้าขาย ประมง สวนมะพร้าว แปรรูปผลิตผลทางทะเลและรับจ้าง',\n",
              "       'บางเสร่ เป็นชุมชนชาวประมง ที่พักผ่อนตกปลาและดำน้ำชมปะการัง ซึ่งเดิมมีชื่อเรียกกันว่า \"สำเหร่\" มีสภาพทางภูมิศาสตร์เป็นที่ราบสลับภูเขา มีทะเล ลำคลองธรรมชาติและอ่างเก็บน้ำพาดผ่าน เป็นบริเวณที่มีท่าเรือและแพปลาหลายจุด บ้านเรือนมีลักษณะเป็นบ้านห้องแถวไม้ยกพื้นอยู่บริเวณแนวชายฝั่งทะเล สลับกับอาคารก่ออืฐถือปูนสมัยใหม่ ชาวบ้านส่วนใหญ่ประกอบอาชีพทำนาทำไร่ (มันสำปะหลัง) เลี้ยงสัตว์ ประมง ค้าขายและรับจ้าง',\n",
              "       'ตลาดนาเกลือ (พัทยา) เป็นชุมชนตลาดการค้าและชุมชนชาวประมงบริเวณชายฝั่งอ่าวไทย ซึ่งเป็นชุมชนแห่งแรกที่มีผู้คนเข้ามาตั้งถิ่นฐานบริเวณถนนนาเกลือในเมืองพัทยา มีอายุเกินกว่า 100 ปี ถือเป็นแหล่งจำหน่ายอาหารทะเลสดที่ขึ้นชื่อ พบอาคารเก่าที่เป็นห้องแถวไม้ 2 ชั้น อยู่มากมายในพื้นที่ ปัจจุบันมีการจัดงาน \"เดินกินถิ่นนาเกลือ\" รำลึกวิถีชีวิตชาวเล เพื่อประชาสัมพันธ์เป็นสถานที่ท่องเที่ยว \"ถนนคนเดิน\" แห่งใหม่ ที่จะได้สัมผัสและเรียนรู้ถึงอนุรักษ์วัฒนธรรมพื้นบ้าน วิถีชีวิตของหมู่บ้านชาวประมงในอดีตและผลิตภัณฑ์อาหารทะเลสด',\n",
              "       'ตลาดสัตหีบ เป็นชุมชนย่านตลาดการค้า ชุมชนชาวประมงและจำหน่ายขายของฝาก บริเวณถนนเทศบาลในพื้นที่เทศบาลเมืองสัตหีบ ซึ่งตั้งอยู่ในบริเวณที่ราบบริเวณชายฝั่งทะเลและหุบเขา เหมาะ สำหรับพัฒนาเป็นแหล่งท่องเที่ยวและพักผ่อนชายทะเล มีหาดทรายที่สะอาดสวยงาม มีอาคารเก่าลักษณะห้องแถวไม้ 2 ชั้น ปะปนอยู่กับอาคารตึกแถวพาณิชย์ดั้งเดิม โดยพื้นที่ส่วนใหญ่ของตำบลจะอยู่ในเขตของกองทัพเรือ ชาวบ้านส่วนใหญ่ประกอบอาชีพค้าขาย ทำประมงและรับราชการ โดยมีผลิตภัณฑ์ผ้าบาติกจากกลุ่มแม่บ้านทหารเรือเป็นสินค้าที่ขึ้นชื่อของตำบล',\n",
              "       'ท้ายตลาดบ้านอำเภอ เป็นชุมชนย่านตลาดการค้าและชุมชนประมง บริเวณชายฝั่งทะเลอ่าวไทยระหว่างหาดบ้านอำเภอกับถนนสุขุมวิท ซึ่งมีลำคลองไหลผ่านทางด้านทิศใต้ของพื้นที่ โดยมีอาคารเก่าลักษณะห้องแถวไม้ 2 ชั้น ปะปนอยู่กับบ้านเรือนที่เป็นบ้านเดี่ยว ปัจจุบันชาวบ้านส่วนใหญ่ประกอบอาชีพค้าขายและเกษตรกรรม โดยมีก๋วยเตี๋ยวเรือบ้านอำเภอที่ขึ้นชื่อ',\n",
              "       'ตลาดทุ่งเหียง เป็นชุมชนย่านตลาดการค้า ซึ่งที่ตั้งอยู่บริเวณ 2 ฝั่งของเส้นทางหลวงหมายเลข 3284 มีสภาพภูมิประเทศเป็นที่ราบลุ่ม อยู่ห่างจากตัวเมืองพนัสนิคมทางทิศใต้ประมาณ 15 กิโลเมตร บ้านเรือนส่วนใหญ่เป็นลักษณะบ้านเดี่ยว มีบริเวณโดยรอบชุมชนเป็นพื้นที่เกษตรกรรมนาข้าวและนาอ้อย โดยมีพุทธสมาคมสว่างเหตุเป็นสถานที่สำคัญของพื้นที่ ราษฎรส่วนใหญ่ทำการเลี้ยงสุกร ไก่ บางส่วนทำนาข้าวและปลูกอ้อย โดยมีงานจักสานเป็นอาชีพเสริม',\n",
              "       'เกาะสีชัง เป็นย่านชุมชนชาวประมงดั้งเดิมบนเกาะสีชัง ซึ่งตั้งอยู่ทางฝั่งตะวันออกของเกาะสีชังตอนบน ในเขตพื้นที่ตำบลท่าเทววงษ์ สภาพพื้นที่เป็นเกาะมีชื่อว่า เกาะขามใหญ่ ลักษณะเด่น เหมาะเป็นสถานที่ตากอากาศ ตกปลา ดำน้ำดูปะการัง กางเต้นท์พักแรมและมีท่าเรือหลายจุด โดยมีบ้านเรือนส่วนใหญ่เป็นลักษณะอาคารสมัยใหม่ ตั้งอยู่หนาแน่บริเวณถนนเลียบชายฝั่งและบริเวณท่าเรือ ชาวบ้านส่วนใหญ่ทำการประมง ค้าขายและรับจ้างทั่วไป',\n",
              "       'ตลาดเก่าศรีราชา เป็นชุมชนย่านตลาดการค้าชายฝั่งทะเล บริเวณตลาดเก่าศรีราชา ซึ่งมีการตั้งถิ่นฐานมาตั้งแต่สมัยรัชกาลที่ 4 โดยในอดีตเรียกว่า \"เมืองบางพระ\" และในสมัยรัชกาลที่ 5 (ประมาณปี พ.ศ. 2437) ได้จัดตั้งเป็นอำเภอบางพระขึ้น ปัจจุบันอาคารบ้านเรือนของชาวประมงส่วนใหญ่จะอยู่บริเวณชายฝั่งทะเล และมีอาคารร้านค้าและตึกแถวพาณิชย์ตั้งอยู่บริเวณถนนศรีราชานคร ถนนเจิมจอมพลและถนนสุรศักดิ์ ชาวบ้านส่วนใหญ่ประกอบอาชีพค้าขายและทำประมง โดยมีการแปรรูปอาหารทะเลและการทำซอสพริกเป็นอาชีพเสริม',\n",
              "       'บ้านเตาถ่าน ชุมชนย่านตลาดการค้า มีสภาพพื้นที่เป็นที่ราบบริเวณชายฝั่งทะเลและหุบเขา เหมาะสำหรับพัฒนาเป็นแหล่งท่องเที่ยวและพักผ่อนชายทะเล เนื่องจากเป็นบริเวณที่มีหาดทรายที่สะอาดสวยงาม อาคารบ้านเรือนจะอยู่โดยรอบวัดสัตตาหีบ ซึ่งเป็นสถานที่ศูนย์ร่วมและศูนย์กลางของชุมชน ปัจจุบันชาวบ้านส่วนใหญ่จะประกอบอาชีพค้าขาย ทำประมงและรับราชการ',\n",
              "       'อ่างศิลา เป็นชุมชนหมู่บ้านประมงเก่าแก่บริเวณชายฝั่งทะเล ชื่อเรียกว่า \"บ้านอ่างศิลา\" หรือ \"ตลาดอ่างศิลา\" ในพื้นที่ตำบลอ่างศิลา ปัจจุบันมีอาคารบ้านเรือน ตึกแถว 2 ชั้น และอาคารพาณิชย์ตั้งอยู่หนาแน่นบริเวณถนนเลียบชายฝั่ง (เส้นทางหลวงหมายเลข 3134) ที่ตัดผ่านพื้นที่ ปัจจุบันหมู่บ้านชาวประมงอ่างศิลาเป็นที่ตั้งชองตลาดอาหารทะเล และเป็นแหล่งผลิตครกหิน (ครกหินอ่างศิลา) ที่มีชื่อเสียง เนื่องจากทำมาจากหินแกรนิต (หินอ่างศิลา) แกะโดยใช้เครื่องมือและแรงงานฝีมือที่มีความชำนาญ',\n",
              "       'ย่านถนนยมจินดาและถนนชุมพล เป็นชุมชนย่านการค้าเก่าแก่บริเวณถนนยมจินดาและถนนชุมพล ส่วนหนึ่งของเมืองเก่าและตลาดเก่าเมืองระยอง ซึ่งเป็นที่ตั้งของบ้านบุคคลสำคัญในอดีต ปัจจุบันยังคงมีบ้านเก่าปลูกอยู่ริมแม่น้ำระยองจำนวนหลายหลัง ซึ่งส่วนใหญ่มีลักษณะบ้านไม้ 2 ชั้น และตึกก่ออิฐถือปูนแบบชิโน-โปรตุกีส โดยมีทั้งร้านค้าโบราณ ร้านอาหาร ขนมไทยโบราณ ก๋วยเตี๋ยวและร้านกาแฟ เป็นต้น ซึ่งล้วนแล้วขายกันมานานกว่า 10-50 ปี ชาวบ้านย่าน \"ถนนยมจินดา\" ได้รวมตัวกันจัดงาน \"เปิดตำนานย้อนยุคเมืองระยอง ถนนยมจินดา\" และงาน \"ภูบุรีศรีระยอง\"',\n",
              "       'เป็นชุมชนย่านการค้าและที่อยู่อาศัยบริเวณที่ตั้งอำเภอแกลง หรือมีชื่อเรียกของคนท้องถิ่นว่า \"บ้านเก่าสามย่าน\" ซึ่งในอดีตเป็นตลาดสดที่มีร้านค้าเก่าประเภทร้านขายของชำ (โชห่วย)ร้านอาหารไทย ร้านขนมและเครื่องดื่มอยู่หลายร้าน มีลักษณะอาคารเป็นบ้านแบบห้องแถวไม้ 2 ชั้น อยู่หลายหลัง แต่พอโดนไฟไหม้ครั้งเดียวก็กลายเป็นอาคารก่ออิฐถือปูนสมัยใหม่เกือบหมด โดยบ้านเรือนและร้านค้าส่วนใหญ่จะตั้งอยู่หนาแน่นบริเวณสองฝั่งของถนนสุนทรโวหาร ถนนชำนาญบุรีรมย์และถนนเทศบาล 1',\n",
              "       'ตลาดบ้านเพ เป็นชุมชนย่านการค้าและชุมชนชาวประมงบริเวณชายฝั่งทะเล ที่เรียกว่า \"ตลาดสดบ้านเพ\" มีท่าเทียบเรือและแพปลาที่เป็นแหล่งจำหน่ายของฝากประเภทสินค้าทะเลสดและสินค้าทะเลแปรรูป ซึ่งเป็นที่รู้จักของนักท่องเที่ยวมายาวนาน ลักษณะของตลาดยังคงความเป็นชุมชนพื้นบ้านอยู่มาก มีอาคารเก่าแบบห้องแถวไม้ 2 ชั้น ปะปนอยู่กับอาคารพาณิชย์สมัยใหม่ แต่ยังเป็นบรรยากาศของตลาดของฝากที่ยังอิงความรู้สึกของชุมชนพื้นเมืองดั้งเดิมเอาไว้ โดยบ้านเรือนและอาคารร้านค้าเก่าจะอยู่บริเวณสองฝั่งของถนนเลียบชายฝั่งและถนนบนบ้าน',\n",
              "       'ตลาดกระเฉด เป็นชุมชนการค้าเก่าที่มีขนาดย่อมในพื้นที่ \"เมืองหลัก\" ซึ่งเป็นเมืองเก่าของอำเภอแกลง มีสภาพพื้นที่ส่วนใหญ่เป็นที่ราบลุ่มสลับเนินเขา บริเวณรอบนอกชุมชนจึงเป็นพื้นที่ปลูกพืชเศรษฐกิจ ปัจจุบันชุมชนอยู่ติดกับถนนสุขุมวิททางด้านทิศเหนือ เป็นที่ตั้งของ \"ตลาดกะเฉด\" ซึ่งมีอาคารบ้านเรือนแบบห้องแถวไม้ 2 ชั้น อยู่ในพื้นที่หลายหลัง โดยเฉพาะบริเวณเส้นถนนหมายเลข 3320 และถนนกะเฉด-หาดใหญ่ แต่เนื่องจากบริเวณตลาดกะเฉดมักเกิดเหตุไฟไหม้จากไฟฟ้าลัดวงจรอยู่บ่อยครั้ง อาคารร้านค้าเก่าส่วนหนึ่งในตลาดจึงได้รับความเสียหาย',\n",
              "       'ปากน้ำประแสร์ เป็นชุมชนประมงดั้งเดิม ที่มีการตั้งถิ่นฐานมาตั้งแต่สมัยอยุธยา มีชื่อของตำบลเก่าว่า \"ปากน้ำประแสร์\" ซึ่งสมัยก่อนเคยเป็นที่ตั้งของเมืองคู่กับเมืองแกลง สภาพปัจจุบันเป็นที่ราบลุ่มชายฝั่งทะเล มีแม่น้ำประแสร์กั้นเขตระหว่างตำบล มีลำคลองไหลลงสู่ทะเล มีการทำนากุ้ง เลี้ยงปลาน้ำกร่อยริมฝั่งแม่น้ำประแสร์ มีท่าเรือประมงขนาดใหญ่ พื้นที่ส่วนใหญ่นิยมปลูกมะม่วง มะพร้าว บริเวณปากแม่น้ำและแหลมสนจะเป็นที่ตั้งของชุมชนและเป็นพื้นที่การค้าของตำบล',\n",
              "       'ริมน้ำจันทบูร เป็นชุมชนย่านถนนการค้าที่มีประวัติยาวนานมาตั้งแต่สมัยกรุงศรีอยุธยา ในอดีตเคยเป็นศูนย์การค้าที่รุ่งเรื่อง ปัจจุบันเป็นชุมชน 3 เชื้อสาย (ไทย จีน ญวน) หรือที่เรียกว่า \"ตลาดล่าง\" (ท่าหลวง-ตลาดล่าง) ที่มีสถาปัตยกรรมของสิ่งปลูกสร้างและอาคารบ้านเรือนทั้งแบบ ไทย จีน ฝรั่งเศส และแบบผสมผสานทั้งสองฝากฝั่งถนนสุขาภิบาล (ถนนสายแรกของจังหวัดจันทบุรี) ที่ขนานไปกับแม่น้ำจันทบุรี โดดเด่นด้วยสถาปัตยกรรมแบบชิโน-โปตุกีส (สถาปัตยกรรมตะวันออกผสมผสานกับตะวันตก) บ้านไม้ทรงปั้นหยาและเรือนขนมปังขิง',\n",
              "       'หนองบัว เป็นชุมชนเก่า ที่ลักษณะโดดเด่น 2 บริเวณ คือ บริเวณย่านตลาดหนองบัว ซึ่งมีตลาดยามเช้าท่าเรือ ห้องแถวไม้ 2 ชั้น โรงเจไต้เฮง (พ.ศ. 2446) ซึ่งเป็นที่อยู่อาศัยของกลุ่มชาวไทยเชื้อสายจีนที่มีวิถีชีวิตแบบสังคมการค้า (มีภูมิปัญญาด้านการผลิตน้ำปลา การเจียรนัยพลอยและทำขนมโบราณ) และบริเวณบ้านในสวนผลไม้ ลักษณะเป็นบ้านเดี่ยวที่ตั้งอยู่ห่างกัน ไม่หนาแน่น มีวิถีชีวิตแบบประมงพื้นถิ่นและเกษตรกรรม (ทำสวนผลไม้-ผลิตไม้กวาดดอกอ้อ) กิจกรรมที่สำคัญ คือ การล่องเรือชมหิ่งห้อย-ดูปูแป้น (ช่วงหน้าลมในเดือนกันยายน-ตุลาคม ของทุกปี)',\n",
              "       'ตลาดบางกะจะ เป็นชุมชนการค้าเก่าและเคยเป็นที่ตั้งเมืองจันทบุรี เมื่อปี พ.ศ. 2377 (สมัย ร.3) ซึ่งในสมัยโบราณเรียกว่า \"บางกาจัน\" หรือ \"บางกะจะหัวพลอย\" เป็นชุมชนบนที่ลาดไหล่เขาติดต่อกับแม่น้ำลำคลองอุดมสมบูรณ์ไปด้วยทรัพยากรธรรามชาติ และมีพลอยที่มีชื่อเสียง คือ พลอยบุษราคัม เขียวไพลินและพลอยสตาร์ ประชาชนดั้งเดิมเป็นคนไทยแท้ ๆ และบางส่วนก็เป็นชาวจีนแต้จิ๋วที่อพยพเข้ามา ปัจจุบันบ้านเรือนส่วนใหญ่ตั้งอยู่บริเวณถนนเทศบาล มีประเพณีเก่าแก่ คือ \"ตักบาตรเข้าพรรษา\" และเป็นแหล่งผลิตอัญมณี เครื่องประดับและเสื่อเสื่อกก',\n",
              "       'ท่าแฉลบ เป็นย่านชุมชนประมงบริเวณท่าเรือเก่า ตั้งอยู่บนพื้นที่ลาดไหล่เขาและแม่น้ำลำคลองที่อุดมสมบูรณ์ตรงบริเวณชายฝั่งทะเลและบริเวณถนนจันทบุรี-ท่าแฉลบ โดยเฉพาะบริเวณโดยรอบของถนนเปรมประชาและเส้นทางหลวงหมายเลข 3146 ประชาชนดั้งเดิมเป็นคนไทยแท้ๆ และบางส่วนเป็นชาวจีนที่อพยพเข้ามา ปัจจุบันเป็นที่ตั้งของแพหอย แหล่งรวมอาหารทะเลและร้านอาหารทะเล โดยมีกิจกรรมที่สำคัญในพื้นที่ คือ การล่องเรือชมวิถีชีวิตชาวประมง',\n",
              "       'ตลาดท่าใหม่ เป็นย่านการค้าขาย บริเวณถนนสถิตสุข ถนนภูมิดำริ ถนนศรีนวดิสถ์และถนนราชกิจ มีลำคลองไหลผ่านตอนบนของพื้นที่ โดยพบอาคารพาณิชย์สมัยใหม่ปะปนอยู่กับบ้านห้องแถวไม้และอาคารร้านค้าเก่า 2 ชั้น หลายหลังในบริเวณย่านตลาด ซึ่งตลาดตำบลท่าใหม่แห่งนี้เคยเป็นแหล่งค้าพลอยที่สำคัญในอดีต ปัจจุบันมีสินค้าของชุมชนที่สำคัญ ได้แก่ ขนมไทย ขนมทองม้วนอบกรอบ สมุนไพรและตะกั๋วทอด (เต้าหู้)',\n",
              "       'ตลาดพลิ้ว เป็นชุมชนย่านตลาดการค้า ซึ่งคำว่า \"พลิ้ว\" นี้หมายถึง ต้นไม้ชนิดหนึ่งที่เป็นไม้เถาวัลย์ที่นำ เปลือกใช้ควั่นทำเป็นเชือก ซึ่งมีขึ้นอยู่มากในพื้นที่ตำบลแห่งนี้ โดยมีชาวบ้านตั้งถิ่นฐานอยู่ตั้งแต่ก่อน พ.ศ. 2440 (บริเวณบ้านคลองยายดำ) โดยพื้นที่ส่วนใหญ่ของชุมชนเป็นที่ราบและพื้นที่ป่าชายเลน มีบ้านเรือนหนาแน่นอยู่บริเวณ 2 ฝั่งของถนนเทศบาล และปรากฏบ้านไม้เก่า 2 ชั้น อยู่ในพื้นที่ด้วย โดยชาวบ้านส่วนใหญ่มีอาชีพค้าขาย และทำสวนผลไม้และทำขนมเป็นอาชีพเสริม มีสินค้าขึ้นชื่อ คือ ตังเมกรอบตลาดพลิ้ว',\n",
              "       'ตลาดขลุง เป็นชุมชนย่านตลาดการค้า มีกลุ่มที่อาคารร้านค้าที่สำคัญ 2 บริเวณ คือ กลุ่มบริเวณถนนเทศบาล 1 และกลุ่มบริเวณถนนเทศบาล 2 มีลำคลองไหลผ่านทั้ง 2 พื้นที่ประชากรส่วนใหญ่มีพื้นที่เป็นของตนเอง โดยประกอบอาชีพค้าขายและเกษตรกรรม ทำสวนผลไม้ ทำการประมงขนาดเล็กและการเจียระไนพลอย โดยมีผลผลิตทางการเกษตรที่สำคัญ ได้แก่ เงาะ ทุเรียน ลางสาด มังคุดและสละ',\n",
              "       'ตลาดมะขาม ย่านชุมชนเก่าตลาดมะขามเป็นชุมชนเมืองขนาดเล็ก เนทางผ่านการค้าระหว่างพื้นที่ภูเขากับพื้นที่ราบลุ่มชายฝั่งทะเลของจังหวัดจันทบุรี โดยมีถนนสายหลักของชุมชนคือถนนสุขาภิบาล 1 ลักษณะเด่นทางสถาปัตยกรรม ประกอบด้วยกลุ่มอาคารเรือนแถวไม้ เป็นอาคาร 2 ชั้น ก่อสร้างโดยใช้ไม้เป็นวัสดุหลัก ชั้นล่างเป็นประตูบานเฟี้ยมไม้ รองรับกิจกรรมการค้า ชั้นบนมีหน้าต่างบานเปืดไม้ และมีช่องระแนงไม้ระบายอากาศอยู่ด้านบน หลังมีทั้งหลังคาหน้าจั่ว และหลังคาปั้นหยา ผู้คนดั้งเดิมในชุมชนเป็นชาวชองและเขมร ลักษณะภูมิประเทศของชุมชนตลาดมะขาม ตั้งอยู่ในจุดรวมของคลองหลายสาย จึงเป็นศูนย์กลางของม้าที่ใช้ขนถ่ายสินค้าที่มาทางน้ำแล้วมาเปลี่ยนถ่ายเป็นทางบกเพื่อเดินทางข้ามภูเขาไปยังประเทศกัมพูชา สอดคล้องกับข้อสันนิษฐานว่าพื้นที่บริเวณนี้ถูกเรียกจนติดปากว่า ม้าข้าม แล้วเพี้ยนเป็น มะขาม จนถึงปัจจุบัน',\n",
              "       'ย่านถนนธนเจริญและถนนหลักเมือง เป็นย่านถนนการค้า บริเวณศูนย์กลางทางการปกครองและการค้าของจังหวัดตราด โดยมีสถานบริการประเภทเกซเฮาท์บริเวณถนนธนเจริญและถนนหลักเมืองจำนวนมาก โดยมีอาคารที่สำคัญ คือ เรสิดังส์กัมปอร์ตหรือที่ชาวบ้านเรียกว่า \"จวนเรสิดังส์\" ตั้งอยู่บริเวณ ถนนหลักเมือง ใกล้กับโรงเรียนอนุบาลตราด เป็นที่ทำการของเจ้าหน้าที่ฝรั่งเศสในสมัยตราดถูกยึดครองโดยฝรั่งเศส เมื่อ พ.ศ. 2447-2449',\n",
              "       'การค้าถนนตราด-แหลมงอบ เป็นย่านถนนการค้า บริเวณถนนอนุสรณ์สถาน ถนนหินกลางและถนนบ้านยายม่อม ซึ่งตั้งอยู่บริเวณชายฝั่งทะเลอ่าวไทย มีลักษณะอาคารบ้านเรือนเดี่ยวและบ้านชาวประมง โดยมีพื้นที่เกษตรกรรมและพื้นที่ป่าชายเลนอยู่โดยรอบชุมชน',\n",
              "       'ปากคลองน้ำเชี่ยว เป็นชุมชนหมู่บ้านชาวประมงในเส้นทางผ่านไปขึ้นเรือสู่ เกาะช้าง ที่มีชื่อเรียกว่า \"บ้านน้ำเชี่ยว\" หรือ \"บ้านปากคลองน้ำเชี่ยว\" เป็นหมู่บ้านแห่งนี้มีคลองน้ำเชี่ยวไหลผ่านกลางชุมชนสู่อ่าวไทย มีถนนปากคลองน้ำเชี่ยวตัดผ่านในแนวเหนือ-ใต้ อยู่ในพื้นที่รอยต่อระหว่างตำบลหนองโสนกับตำบลน้ำเชี่ยว (แต่อาคารบ้านเรือนส่วนใหญ่จะอยู่ทางฝั่งตำบลหนองโสน) ปัจจุบันเป็นชุมชนชาวประมงและแหล่งผลิตหมวก \"งอบ\" ที่มีชื่อเสียง',\n",
              "       'ประมงคลองใหญ่ เป็นชุมชนหมู่บ้านชาวชาวประมงที่อพยพจากเกาะกง ซึ่งเข้ามาตั้งถิ่นฐานอยู่ที่คลองใหญ่มานานประมาณ 200 กว่าปี หมู่บ้านนี้มีลำคลองขนาดใหญ่ไหลผ่านตลอดหมู่บ้านลงสู่ทะเล ด้วยเหตุนี้ชาวบ้านจึงพากันเรียกว่า \"บ้านคลองใหญ่\" และกลายมาเป็นชื่อของตำบลจนถึงทุกวันนี้ สภาพภูมิประเทศเป็นพื้นที่ราบบริเวณเชิงเขาและชายทะเล มีลักษณะอาคารบ้านเรือนที่หลากหลาบ ทั้งบ้านไม้ ห้องแถวร้านค้า ตึกก่ออิฐถือปูนเก่า อาคารพาณิชย์และท่าเรือ ชาวบ้านส่วนใหญ่ทำประมงเป็นอาชีพหลัก ทำไร่และงานจักสานเป็นอาชีพเสริม',\n",
              "       'หมู่บ้านประมงบางเบ้า เป็นชุมชนชาวประมงบริเวณเกาะช้างใต้ โดดเด่นด้วยการดำรงชีวิตเรียบง่าย ด้วยการทำประมงขนาดเล็กชายฝั่ง มีปลูกสร้างบ้านเรือนอยู่เหนือผิวน้ำ โดยบ้านแต่ละหลังปักเสาลงในทะเล มีสะพานเชื่อมต่อถึงกัน และเป็นที่จอดเรือหลบคลื่นลมที่สำคัญ เพราะมีเทือกเขาและหมู่เกาะโอบล้อมสองด้าน เป็นแหล่งปลาหมึกหอมชุกชุม ปัจจุบันเป็นแหล่งท่องเที่ยวบนเกาะช้าง มีทั้งร้านค้า ร้านอาหาร จำหน่ายของที่ระลึก บ้านพักแบบโฮมสเตย์และเกสเฮาส์ราคาประหยัด',\n",
              "       'หมู่บ้านประมงสลักเพชร เป็นชุมชนชาวประมงเกาะช้างใต้ต่อเนื่องถึงบ้านโรงถ่าน มีภูมิประเทศติดชายฝั่งทะเลบริเวณอ่าวสลักเพชร ชาวบ้านในหมู่บ้านส่วนหนึ่งมีอาชีพทำประมงขนาดเล็กอยู่รอบ ๆ เกาะช้าง โดยพื้นที่โดยรอบชุมชนยังคงลักษณะสภาพที่เป็นธรรมชาติอยู่ โดยเฉพาะพื้นที่ป่าชายเลนที่ยังคงอุดมสมบูรณ์ ปัจจุบันชุมชนแห่งนี้เป็นแหล่งวัตถุดิบในการผลิตกะปิ (ตัวเคย) ที่สำคัญ และเป็นบริเวณที่มีเรือประมงจอดหลบคลื่นลมอยู่เป็นจำนวนมาก',\n",
              "       'บ้านประมงสลักคอก เป็นชุมชนหมู่บ้านชาวประมงเล็ก ๆ บนเกาะช้าง บริเวณเส้นถนน อบต.ตร.4110 ชุมชนแห่งนี้ได้เป็นต้นแบบของแหล่งท่องเที่ยวชุมชนดีเด่นที่ได้รับรางวัลลูกโลกสีเขียว ประจำปี พ.ศ. 2553 ชุมชนสลักคอกเป็นแหล่งประมงพื้นบ้านรายล้อมไปด้วยธรรมชาติที่อุดมสมบูรณ์ บนพื้นที่กว่า 500 ไร่ มีป่าชายเลนเป็นแหล่งอาหารสำคัญที่เอื้อประโยชน์ในการป้องกันการพังทลายของชายฝั่ง ต้านความเร็วลมและยังเป็นแหล่งสมุนไพรพื้นบ้านนานาชนิด',\n",
              "       'ย่านการค้าฉะเชิงเทรา เป็นย่านตลาดการค้าริมฝั่งแม่น้ำบางปะกง บริเวณถนนพานิช ถนนชุมพลต่อเนื่องถนนศุภกิจ ถนนวรรณยิ่งและถนนนิยมไทย โดยมีลักษณะเป็นย่านชุมชนเมือง เนื่องจากเดิมเป็นที่ตั้งของสุขาภิบาลเมืองฉะเชิงเทรา มณฑลปราจีน ซึ่งเป็นที่ตั้งของหน่วยงานราชการต่างๆ และปัจจุบันได้กลายเป็นศูนย์กลางธุรกิจของจังหวัด ชาวบ้านส่วนใหญ่มีอาชีพ ค้าขาย รับราชการและพนักงานบริษัท โดมมีขนมไทย น้ำอบไทยและผลิตภัณฑ์จากสมุนไพรเป็นสินค้าที่สำคัญของพื้นที่',\n",
              "       'ตลาดบ้านใหม่ เป็นชุมชนย่านตลาดการค้า ที่ตั้งอยู่บริเวณถนนศุภกิจ เป็นตลาดริมแม่น้ำบางปะกงมีมาตั้งแต่สมัยรัชกาลที่ 5 โดยในอดีตมีชาวจีนเชื้อสายจีนฮกเกี้ยน จีนแต้จิ๋วและจีนแคะอาศัยอยู่มาก โดยเฉพาะช่วงที่ยังพึ่งพาการคมนาคมทางน้ำ ซึ่งเดิมที่นี่เคยมีโรงสี โรงรำ ร้านค้าข้าวและค้ารำ ซึ่งปัจจุบันได้เลิกราไปหมดแล้ว ปัจจุบันได้กลายเป็นย่านชุมชนค้าขายของเก่าที่ปรากฏห้องแถวไม้เก่า 2 ชั้นอยู่หลายหลัง มีการขายของที่ระลึก ของเล่นโบราณและไอติมโบราณ เป็นต้น รวมถึงมีร้านอาหารไทย จีนและอาหารพื้นเมือง เช่น ก๋วยเตี๋ยวโบราณและกาแฟโบราณ เป็นต้น',\n",
              "       'ตลาดคลองสวน เป็นชุมชนย่านตลาดการค้าอายุกว่า 100 ปี เป็นตลาดเก่าในพื้นที่คาบเกี่ยว 2 จังหวัด คือ จังหวัดฉะเชิงเทราและจังหวัดสมุทรปราการ โดยตั้งอยู่บนพื้นที่ราบลุ่มน้ำไหลผ่านริมคลองประเวศบุรีรมย์ ภายในตลาดมี ร้านค้าห้องแถวไม้ 2 ชั้นที่เก่าแก่หลายหลัง เช่น ร้านแป๊ะหลี (ร้านกาแฟโบราณ 70 ปี) ร้านขายยา ขนม ของเล่นและร้านอาหาร โดยทางฝั่งฉะเชิงเทรานั้นจะมีภาพเขียนสีเก่าแก่ภายในโรงเจอายุกว่า 120 ปี โดยประชาชนจะอาศัยอยู่ตรงริมคลองทั้ง 2 ฝั่ง',\n",
              "       'ตลาดหลวงแพ่ง เป็นชุมชนย่านตลาดการค้าเก่า ที่ตั้งอยู่บนที่ราบลุ่มริม 2 ฝั่งคลองหลวงแพ่งต่อเนื่องกับริมคลองประเวศน์บุรีรมย์ คาบเกี่ยวพื้นที่ตำบลคลองหลวงแพ่ง อ.เมือง จ.ฉะเชิงเทรา กับแขวงขุมทอง เขตลาดกระบัง กรุงเทพมหานคร โดยมีอาคารบ้านเรือนและร้านค้าในลักษณะห้องแถวไม้ ชั้นเดียว ตั้งอยู่หนาแน่นบริเวณซอยเข้าตลาดหลวงแพ่ง มีกลุ่มอาชีพเสริมที่สำคัญ คือ การทำดอกไม้สดอบแห้ง',\n",
              "       'ตลาดนครเนื่องเขต เป็นชุมชนย่านตลาดการค้าริมคลองนครเนื่องเขตต่อเนื่องกับถนนนครคลองเนื่องเขต 14 ที่ตัดผ่านพื้นที่ โดยมีบ้านเรือนและร้านค้าเก่าตั้งอยู่บน พื้นที่ราบลุ่ม 2 ฝั่งคลองนครเนื่องเขตที่เป็นคลองสายหลักของตำบล ซึ่งมีความอุดมสมบูรณ์อย่างมาก โดยมีคลองอยู่โดยล้อมรอบชุมชนทำให้สามารถทำการเกษตรได้ตลอดปี อาชีพหลักของชาวบ้านแถบนี้ คือ การค้า การทำนาและเลี้ยงกุ้ง โดยทำผลิตภัณฑ์จากเขาและกระดูกสัตว์ (บ้านคลองนครเนื่องเขต) เป็นอาชีพเสริม',\n",
              "       'ตลาดพนมสารคราม (ตลาดท่าเกวียน) เป็นชุมชนย่านตลาดการค้า บริเวณปากทางเข้าวัดท่าเกรียน ต่อเนื่องถนนพนมพัฒนา ถนนท่าเกวียนและถนนเทศบาล โดยตั้งอยู่บนพื้นที่ราบลุ่มที่มีคลองท่าลาดไหลผ่านทางทิศใต้ของพื้นที่ย่านชุมชน โดยในสมัยที่ยังอาศัยการเดินทางโดยทางน้ำ จะมีใช้เรือบรรทุกข้าวมาขายที่ ท่าเรือ \"ตลาดท่าเกวียน\" ผ่านคลองท่าลาด ปัจจุบันชาวบ้านได้เรียก \"ตลาดท่าเกวียน\" ว่า \"ตลาดพนมสารคาม\" โดยยังคงมีอาคารร้านค้าที่เป็นห้องแถวไม้ 2 ชั้นอยู่หลายหลัง และมีจุดเด่น คือ ร้านขายก๋วยเตี๋ยวปากหม้อ (อาหารท้องถิ่นของอำเภอพนมสารคาม) ตั้งอยู่หลายร้าน',\n",
              "       'ตลาดบางคล้า เป็นชุมชนย่านตลาดการค้าริมน้ำ ในลักษณะชุมชนเมืองที่มีบ้านเรือน ร้านค้าและอาคารพาณิชย์ตั้งอยู่ริมฝั่งแม่น้ำบางปะกงต่อเนื่องบริเวณถนนระเบียบกิจอนุสรณ์และตลาดน้ำที่ตั้งอยู่ตรงมุมถนนเทศบาลพัฒนา ซึ่งในอดีตบริเวณนี้เคยเป็นเมืองท่าดั้งเดิมบนฝั่งตะวันออกของแม่น้ำบางปะกง และจัดว่าเป็นเมืองสองน้ำมีทั้งน้ำจืดและน้ำเค็ม ปัจจุบันยังคงมีวิถีชีวิตของชาวบ้านริมฝั่งแม่น้ำที่มีการดักลอบปลา จับปลาและจับกุ้งอยู่ ปัจจุบันมีข้าวเกรียบ ขนมเปี๊ยะ ซาลาเปา มะม่วงกวน ปลาโจ้โล้ ก๋วยเตี๋ยวคลุกและก๋วยเตี๋ยวปากหม้อ เป็นผลิตภัณฑ์ที่ขึ้นชื่อของพื้นที่',\n",
              "       'ตลาดคลอง 16 เป็นชุมชนย่านตลาดการค้าริมน้ำ ตั้งอยู่ริมคลอง 16 ต่อเนื่องบริเวณถนนสุริยะมงคลอุทิศและถนนเทศบาล 1 ซึ่งเป็นย่านชุมชนรอยต่อจังหวัดฉะเชิงเทรากับจังหวัดนครนายก โดยมีสภาพพื้นที่เป็นที่ราบลุ่มที่เหมาะสำหรับทำการเกษตรเนื่องจากมีคลอง 16 ตัดผ่านพื้นที่ โดยในอดีตสภาพพื้นที่เดิมจะเป็นลำบึงที่น้ำมีสีดำเหมือนน้ำรักษ์ ชาวบ้านจึงเรียกชื่อว่า \"บึงน้ำรักษ์\" และนำมาตั้งเป็นชื่อของตำบลมาจนถึงปัจจุบัน อาชีพหลักของชาวบ้าน คือ การทำนา และผลิตขนมไทยและเลี้ยงสัตว์เป็นอาชีพเสริม',\n",
              "       'บ้านท่าลาดเหนือ เป็นชุมชนเก่าบริเวณริมคลองท่าลาดที่ไหลผ่านทางตะวันออกของพื้นที่ โดยมีเส้นทางหลวงหมายเลข 304 ตัดผ่านพื้นที่ทางด้านเหนือ ซึ่งเดิมบริเวณดังกล่าวเรียกว่า \"บ้านท่าถ่าน\" เนื่องจากเป็นบริเวณที่ชาวบ้านใช้เป็นที่ลงถ่าน มีพื้นที่ส่วนใหญ่เป็นที่ราบลุ่ม ดินเป็นดินร่วนปนทราย ซึ่งมีคลองท่าลาดเป็นแหล่งน้ำสำคัญ โดยบริเวณรอบนอกของชุมชนจะเป็นทุ่งนาและสวนเกษตร โดยอาชีพหลัก ของชาวบ้าน คือ การทำนา ค้าขายและทำสวน มีอาชีพเสริม คือ การดอกไม้จันทน์ประดิษฐ์จากกระดาษ',\n",
              "       'บ้านหัวกระสังข์ เป็นชุมชนชาวไทพวน ตั้งอยู่ในหมู่ที่ 5 บ้านหัวกระสังข์ (อยู่ทางทิศตะวันออกของอำเภอพนมสารคาม) ซึ่งมีลักษณะเป็นกลุ่มหมู่บ้านที่มีเส้นทางหลวงหมายเลข 319 ตัดผ่านกลางย่านชุมชน และมีบริเวณรอบนอกย่านชุมชนมีลักษณะเป็นพื้นที่เรือกสวนไร่นา ซึ่งบริเวณแห่งนี้ในอดีตเป็นเส้นทางผ่านของการค้าโคและกระบือ จากอีสานสู่อำเภอพนัสนิคม จังหวัดชลบุรี โดยมี ขุนซ่อง\" เป็นกำนันคนแรกของตำบลนี้ จึงนำมาเป็นชื่อของตำบลว่า \"บ้านช่อง\" พื้นที่ส่วนใหญ่เป็นที่ราบลุ่มเหมาะแก่การเพาะปลูก ชาวบ้านจึงทำนาและทำสวนเป็นอาชีพหลัก',\n",
              "       'บ้านตลาดเปร็ง เป็นชุมชนย่านการค้าริมน้ำ ตั้งอยู่ในหมู่ 1 บ้านตลาดเปร็ง มีสภาพทั่วไปเป็นที่ราบลุ่มที่มีลำคลองเปรงไหลผ่านพื้นที่จึงเหมาะกับการทำการเกษตร ในอดีตเป็นพื้นที่ลุ่มน้ำ ที่มี \"ต้นเปรง\" ขึ้นอยู่ทั้ง 2 ฝั่งคลองเป็นจำนวนมาก จึงเรียกคลองนี้ว่า \"คลองเปรง\" ชาวบ้านทำนาและเลี้ยงสัตว์น้ำเป็นอาชีพหลัก ทำงานหัตถกรรมเป็นอาชีพเสริม โดยมีก๋วยเตี๋ยวโบราณและขนมโบราณเป็นสินค้าที่ขึ้นชื่อ และเมื่อวันที่ 27 กันยายน 2555 ได้เกิดเหตุฟ้าผ่าลงตรงเสาไฟฟ้าหน้าตลาดเก่าคลองเปร็ง ทำให้เกิดเปลวเพลิงลุกลามเข้าไหม้ร้านค้าห้องแถวไม้เก่ากว่า 10 คูหา',\n",
              "       'ย่านการค้าถนนหน้าเมือง เป็นชุมชนย่านการค้าบริเวณถนนหน้าเมือง เป็นเส้นถนนที่อยู่ทางฝั่งทิศเหนือของแม่น้ำปราจีนบุรี เป็นพื้นที่แรกเริ่มในการตั้งถิ่นฐานของเมืองปราจีนบุรี พื้นที่ชุมชนเกือบทั้งหมดเป็นพื้นที่พาณิชยกรรม และมีบริเวณสวนสาธารณะริมฝั่งแม่น้ำปราจีนบุรี โดยฝั่งตรงข้ามศาลหลักเมืองปราจีนบุรีในปัจจุบัน จะพบอาคารที่มีลักษณะเป็นห้องแถวไม้ 2 ชั้น และอาคารพาณิชย์ ซึ่งเป็นร้านค้าขายอาหาร ร้านค้าปลีกขายสินค้าอุปโภคและบริโภคที่สำคัญของเมือง',\n",
              "       'ตลาดเก่ากบินทร์บุรี (ตลาดกุม) เป็นชุมชนย่านตลาดการค้าเก่าแก่ ต่อเนื่องกับบริเวณโดยรอบสถานีรถไฟกบินทร์บุรี ถนนเจ้าสำอางค์ 2 ถนนบ้านท่าหินและถนนเทศบาล โดยได้มีการตั้งถิ่นฐานเป็นตำบลมาตั้งแต่ ปีพ.ศ. 2469 พื้นที่ส่วนใหญ่มีสภาพเป็นที่ลุ่มสลับที่ดอนและมีแม่น้ำปราจีนไหลผ่านพื้นที่ โดยบริเวณส่วนกลางของชุมชนจะเป็นที่ตั้งของอาคารร้านค้าและที่อยู่อาศัยในลักษณะบ้านห้องแถวไม้ 2 ชั้น และบ้านเดี่ยวในสวน และมีบริเวณโดยรอบชุมชนเป็นพื้นที่เกษตรกรรม ชาวบ้านส่วนใหญ่จึงทำการค้า ทำนาและทำไรเป็นอาชีพหลักและรับจ้างในโรงงานอุตสาหกรรมเป็นอาชีพเสริม',\n",
              "       'บ้านโคกปีบ เป็นชุมชนบริเวณถนนเทศบาล ซอย 23 และซอยแม้นเทวินทร์-ใจชื่น หรือทางฝั่งตะวันออกของเส้นทางหลวงหมายเลข 319 ซึ่งในอดีตเป็นส่วนหนึ่งของเมืองโบราณศรีมโหสถ และเคยเป็นชุมชนการค้าข้าวแหล่งสำคัญในอดีต โดยมีแม่น้ำและบริเวณที่เคยเป็นท่าเรืออยู่ทางฝั่งทิศเหนือของชุมชน ในปัจจุบันพบกลุ่มอาคารเก่าทั้งที่เป็นห้องแถวไม้ 2 ชั้น อาคารก่ออิฐถือ (ตึกจีน) ปูนหลังใหญ่ บ้านไม้ยกพื้นในสวนและโรงสีเก่า พื้นที่โดยรอบเป็นนาข้าว',\n",
              "       'บริเวณวัดต้นศรีมหาโพธิ์ เป็นชุมชนที่ตั้งอยู่ในพื้นที่เมืองโบราณศรีมโหสถและบริเวณวัดต้นศรีมหาโพธิ์ ในเขตตำบลโคกปีบ อำเภอศรีมโหสถ ปัจจุบันจะพบเห็นบ้านเรือนทั้งที่เป็นบ้านเดี่ยวทรงไทยในสวนหรือแปลงนาข้าว และบ้านห้องแถวไม้อยู่ในพื้นที่ โดยอาคารบ้านเรือนบริเวณถนนทางเข้าวัดต้นศรีมหาโพธิ์ (ปจ. 4014) บางส่วนพัฒนากลายเป็นร้านค้า เพื่อรองรับนักท่องเที่ยวที่เข้ามาทำบุญภายในวัดและกราบไหว้ต้นศรีมหาโพธิ์',\n",
              "       'ตลาดศรีมหาโพธิ์ เป็นชุมชนย่านตลาดการค้าในเขตตำบลศรีมหาโพธิ์ หรือที่เรียกอีกชื่อว่า \"ตลาดท่าประชุม\" ซึ่งถือเป็นเขตเศรษฐกิจของอำเภอศรีมหาโพธิ์ โดยบริเวณชุมชนตั้งอยู่ทางตอนใต้ของของแม่น้ำปราจีนบุรี บริเวณถนนปราจีนอนุสรณ์ ปัจจุบันภายในย่านตลาดจะพบอาคารเก่าลักษณะห้องแถวไม้ 2 ชั้น ปะปนอยู่กับอาคารพาณิชย์สมัยใหม่ และมีพื้นที่บริเวณรอบนอกของตลาดเป็นพื้นที่เกษตรกรรม โดยในช่วงปลายเดือนกันยายน พ.ศ. 2555 ที่ผ่านมา ได้เกิดน้ำท่วมบริเวณตลาดท่าประชุมสูงกว่า 40 เซนติเมตร ทำให้ร้านค้าต่าง ๆ ได้รับความเสียหายเป็นจำนวนมาก',\n",
              "       'ตลาดเมืองนครนายก เป็นชุมชนย่านตลาดการค้าบริเวณถนนเสนาพินิจ (เขตตำบลบ้านใหญ่) ซึ่งเป็นชุมชนชาวไทยดั้งเดิม หรือที่เรียกว่า \"บ้านตลาดเก่า\" ตั้งอยู่ใกล้เคียงกับวัดโพธิ์นายก ปัจจุบันสภาพบ้านเรือนมีอาคารแบบใหม่ผสมแบบเก่าอยู่บ้าง มีแม่น้ำนครนายกไหลผ่านพื้นที่ โดยเป็นชุมชนที่มีตลาดช่วงเช้าริมฟุตบาท ช่วงเวลาตั้งแต่ตอนเย็นถึงกลางดึกมีตลาดโต้รุ่ง ซึ่งมีก๋วยเตี๋ยวโบราณที่ขึ้นชื่อ',\n",
              "       'ตลาดบ้านนา เป็นชุมชนย่านการค้าบริเวณ \"บ้านนา\" บริเวณทางทิศใต้ของถนนสุวรรณศร ถนนเทศบาล 4 6 8 และ 10 โดยแต่เดิมเป็นหมู่บ้านที่มีขนาดใหญ่มาก มีประชาชนอาศัยอยู่เป็นกลุ่ม ๆ โดยเฉพาะชาวลาวพวนและชาวมอญ สภาพทั่วไปของชุมชนเป็นพื้นที่ราบลุ่ม มีคลองบ้านนาไหลผ่าน เหมาะแก่การทำการเกษตร ประชาชนอาศัยอยู่ทั้ง 2 ข้างของลำคลองบ้านนา โดยพบบ้านเรือนไม้เก่า 2 ชั้น กลุ่มใหญ่บริเวณตลาดบ้านนา',\n",
              "       'บ้านปากพลี เป็นชุมชนที่ได้รับการประกาศจัดตั้งเป็นตำบลมาเป็นเวลามากกว่า 100 ปี โดยเป็นชุมชนชาวไทพวนหรือลาวพวน มีคลองปากพลีไหลผ่านทางฝั่งตะวันออกของพื้นที่พื้นที่ ปัจจุบันเรียก \"คลองยาง\" ซึ่งเคยเป็นศูนย์กลางการคมนาคมและท่าสินค้าทางเรือ \"บ้านปากพลี\" ที่สำคัญในอดีต ปัจจุบันตั้งอยู่ในเขตบริเวณรอยต่อระหว่างอำเภอปากพลี จังหวัดนครนายก กับอำเภอเมือง จังหวัดปราจีนบุรี ภายในชุมชนมีอาคารบ้านเรือนเดี่ยวแบบบ้านในสวน และอาคารร้านค้า ในลักษณะห้องแถวไม้ 2 ชั้น รวมถึงอาคารพาณิชย์ที่เป็นตึกแถวสมัยใหม่',\n",
              "       'บ้านฝั่งคลอง เป็นชุมชนชาวไทพวนหรือลาวพวน ซึ่งเป็นกลุ่มชนที่อพยพมาจากประเทศลาว ตั้งแต่สมัยกรุงธนบุรี สภาพทั่วไปของชุมชนมีลำคลองไหลผ่านทางฝั่งตะวันออกและทางทิศใต้ของพื้นที่ โดยชุมชนจะตั้งอยู่ทางทิศใต้ของถนนสุวรรณศร (เส้นทางหลวงหมายเลข 33) มีลักษณะการปลูกสร้างบ้านเรือนแบบบ้านในสวน ทั้งที่เป็นบ้านไม้ยกพื้น 2 ชั้น และบ้านไม้ผสมปูน 2 ชั้น ตั้งอยู่เป็นคุ้ม ๆ ในเครือญาติ ที่ใกล้ชิดกันทุกหมู่บ้าน โดยมีถนนแคบ ๆ ใช้สัญจรภายในหมู่บ้าน ชาวบ้านฝั่งคลองส่วนใหญ่ประกอบอาชีพทำนา ทำสวนและรับจ้างทั่วไป',\n",
              "       'บ้านหนองหัวลิงใน เป็นชุมชนชาวไทพวนหรือลาวพวน ที่อพยพเข้ามาตั้งถิ่นฐานอยู่ไม่ต่ำกว่า 160 ปี แต่เดิมเป็นป่าดงดิบและมีแหล่งน้ำอุดมสมบูรณ์ ปัจจุบันภายในชุมชนมีถนนตลาดตัดผ่านและมีลำคลองอยู่ทางตอนบนของพื้นที่ บ้านเรือนส่วนใหญ่มีลักษณะเป็นบ้านเดี่ยวแบบบ้านในสวน โดดเด่นด้วยบ้านคล้ายบ้านทรงไทยที่ทำด้วยไม้ทั้งหลัง ซึ่งพื้นที่โดยรอบของชุมชนเป็นพื้นที่ทำการเกษตร อาชีพหลักของชาวบ้านคือการทำนา ทำสวน รับจ้างทั่วไปและงานถักไม้กวาดเป็นอาชีพเสริม',\n",
              "       'ตลาดคลอง 15 (วัดประสิทธิเวช) เป็นชุมชนย่านตลาดริมน้ำบริเวณคลอง 15 ในเขตพื้นที่ตำบลบางปลากด เป็นชุมชนที่ราษฎรในอดีตอพยพมาจากจังหวัดอยุธยาและสมุทรสงคราม (เป็นบางส่วน) เข้ามาอาศัยอยู่เป็นกลุ่ม ๆ ในบริเวณวัดประสิทธิเวชและตามลำคลอง ชุมชนมีสภาพเป็นพื้นที่ราบลุ่ม มีคลองน้ำไหลผ่านกลางหมู่บ้านทั้งที่เป็นคลองธรรมชาติและคลองชลประทานไหลผ่านพื้นที่จึงเหมาะสมต่อการเพาะปลูกและทำการเกษตร ปัจจุบันมีอาคารบ้านเรือนและร้านค้าขายไม้ดอกไม้ประดับตั้งอยู่หนาแน่นบริเวณถนนโยธาธิการ บ้านเรือนมีลักษณะเป็นบ้านเดี่ยวแบบบ้านไม้ยกพื้นริมน้ำ และบ้านไม้ 2 ชั้น โดยมีพื้นที่ค้าขายและทำกิจกรรมต่าง ๆ อยู่ภายในวัดประสิทธิเวช',\n",
              "       'ตลาดอรัญประเทศ เป็นชุมชนย่านการค้าบริเวณตลาดอรัญประเทศต่อเนื่องสถานีรถไฟอรัญประเทศ ซึ่งเดิมเป็นพื้นที่ป่ารกจึงได้ชื่อว่า \"อรัญประเทศ\" ปัจจุบันตั้งอยู่ในเขตเทศบาลตำบลอรัญประเทศ (จัดตั้งขึ้นเมื่อ ปี พ.ศ. 2482) มีคลองลึกไหลผ่านบริเวณตะวันตกเฉียงใต้ของพื้นที่ อาคารบ้านเรือนส่วนใหญ่จะหนาแน่นอยู่บริเวณ 2 ฝั่งของถนนจิตต์สุวรรณ ถนนราษฎร์อุทิศ สันติภาพและเวฬุวัน โดยมีลักษณะเป็นร้านค้า ร้านขายของโบราณและร้านอาหาร ทั้งบ้านห้องแถวไม้ 2 ชั้น และตึกพาณิชย์สมัยใหม่ที่ผสมผสานกันอยู่ในพื้นที่ และมีตลาดโต้รุ่งในช่วงเย็นของทุกวันด้วย',\n",
              "       'ตลาดชายแดนบ้านคลองลึก (โรงเกลือ) เป็นชุมชนย่านตลาดบริเวณ \"บ้านคลองลึก\" ซึ่งเป็นชายแดนติดต่อกับประเทศกัมพูชา เป็นที่รู้จักจากการค้าขายเสื้อผ้ามือสองและสินค้าจากประเทศกัมพูชา ในอดีตเป็นโรงเกลือที่ใช้เก็บเกลือเพื่อนำไปข่ายให้กับประเทศกัมพูชา ต่อมาการใช้เกลือลดน้อยลง จึงได้มีการเปลี่ยนสภาพมาเป็นตลาดดังเช่นชาวบ้านจึงนิยมเรียกว่า \"ตลาดโรงเกลือ\" ซึ่งปัจจุบันเป็นตลาดที่มีพื้นที่กว้างขวาง มีอาคารค้าขายสินค้าหลายหลัง โดยมีอาคารพาณิชย์สมัยใหม่ตั้งอยู่บริเวณ AH1 และมีสุสานชาวจีนอยู่บริเวณถนนประตูเซียน',\n",
              "       'ชุมชนตลาดเมืองราชบุรี เป็นชุมชนย่านตลาดเมืองราชบุรีต่อเนื่องกับบริเวณโดยรอบสถานีรถไฟราชบุรี ซึ่งตั้งอยู่ทางฝั่งขวาของแม่น้ำแม่กลอง ปัจจุบันมีสภาพของอาคารบ้านเรือนเป็นอาคารพาณิชย์ที่เจริญมากขึ้น โดยพบเห็นอาคารไม้ 2 ชั้น (ล่างปูน-บนไม้) อยู่บ้างบริเวณถนนรถไฟฝั่งตะวันตกของสถานี',\n",
              "       'ชุมชนตลาดโพาธาราม เป็นชุมชนเก่าย่านตลาดโพธาราม ตั้งอยู่ริมแม่น้ำแม่กลองทางฝั่งตะวันออกหรือทางฝั่งตะวันตกของสถานีรถไฟโพธาราม ซึ่งปัจจุบันมีสภาพอาคารบ้านเรือนเป็นอาคารพาณิชย์สมัยใหม่ แต่ยังพบเห็นอาคารเก่าในลักษณะห้องแถวไม้ 2 ชั้น อยู่บ้าง โดยเฉพาะบริเวณถนนเนื่องประดิษฐ์ ถนนโพธารามและถนนหน้าวัด',\n",
              "       'ชุมชนตลาดเจ็ดเสมียน เป็นชุมชนการค้าย่านตลาดเจ็ดเสมียน ตั้งอยู่บริเวณริมแม่น้ำแม่กลองทางฝั่งตะวันออกต่อเนื่องกับบริเวณโดยรอบสถานีรถไฟเจ็ดเสมียนและวัดเจ็ดเสมียน โดยมีบ้านเรือนและร้านค้าลักษณะห้องแถวไม้ 2 ชั้น (หลังคาสังกะสี) อยู่บริเวณ \"ตลาดเก่าเจ็ดเสมียน\" และมีอาคารก่ออิฐถือปูนสมัยใหม่อยู่บ้างในชุมชน โดยเฉพาะบริเวณถนนเลียบแม่น้ำแม่กลอง',\n",
              "       'ชุมชนบ้านโป่ง (ตลาดคุ้งพะยอม) เป็นชุมชนย่าน \"ตลาดคุ้งพะยอม\" ต่อเนื่องกับบริเวณโดยรอบสถานีรถไฟบ้านโป่ง โดยเฉพาะทางฝั่งทิศตะวันตก จากวงเวียนช้างต่อเนื่องไปจนถึงวงเวียนหอนาฬิกา ซึ่งมีกลุ่มอาคารเก่าและอาคารสาธารณูปการที่สำคัญอยู่แถบบริเวณโรงเรียนวัดรัตนราษฎร์บำรุง บริเวณถนนแสงชูโตและถนนริมน้ำ ซึ่งอยู่ทางฝั่งตะวันออกของแม่น้ำแม่กลอง',\n",
              "       'ชุมชนรอบสถานีรถไฟปากท่อ เป็นชุมชนที่ตั้งอยู่บริเวณโดยรอบสถานีรถไฟปากท่อ ที่มีลักษณะภูมิประเทศเป็นที่ราบลุ่ม ซึ่งปัจจุบันพบเห็นบ้านเก่าลักษณะเป็นห้องแถวไม้ 2 ชั้น (ของชาวไทยเชื้อสายจีน) อยู่บ้าง โดยเฉพาะบริเวณฝั่งตะวันออกเฉียงเหนือของสถานีรถไฟ ตรงถนนเลียบทางรถไฟและถนนราษฎรเกษม ซึ่งบริเวณรอบนอกของชุมชนนั้นจะเป็นพื้นที่เกษตรกรรม',\n",
              "       'ชุมชนตลาดถนนเขางู เป็นชุมชนย่านตลาดการค้าบริเวณถนนเขางูในเขตอำเภอเมืองราชบุรี ตั้งแต่แยกบริเวณทิศเหนือลงมาถึงสามแยกทางทิศใต้ที่ตัดกับถนนเจดีย์หัก พบอาคารพาณิชย์ในลักษณะห้องแถวไม้ 2 ชั้นอยู่บริเวณสองฝั่งของถนน ซึ่งถนนเขางูนี้เป็นบริเวณแหล่งผลิตและจำหน่ายโอ่งมังกรหรือโอ่งราชบุรีที่ขึ้นชื่อ',\n",
              "       'ชุมชนตลาดบางแพ เป็นชุมชนย่านตลาดการค้า บริเวณสองฝั่งของถนนตลาดในเขตตำบลบางแพ โดยมีพื้นที่เป็นที่ราบลุ่มที่มีลำคลองไหลผ่านทางฝั่งตะวันออก ซึ่งในอดีตเป็นบริเวณที่เป็นจุดจอดพักแพ จึงทำให้มีผู้คนมาสร้างบ้านเรือนอยู่อาศัยมาก จนเกิดสาธารณูปการ อาคารพาณิชย์และ \"ตลาดบางแพ\" ขึ้น ปัจจุบันพบอาคารเก่าและเรือนไทยอยู่บ้าง โดยประชาชนส่วนใหญ่ประกอบอาชีพการเกษตรกรรมประเภททำสวน ทำนาข้าว ทำบ่อเลี้ยงปลาและกุ้ง',\n",
              "       'ชุมชนตลาดน้ำหลักห้า (คลองโพธิ์หัก) เป็นชุมชนริมน้ำเก่าแก่บริเวณหลักห้าของคลองดำเนินสะดวก (บริเวณคลองโพธิ์หัก) โดยเฉพาะบริเวณหน้าวัดปราสาทสิทธิ์ และต่อเนื่องทั้งสองฝั่งของคลองดำเนินสะดวก โดยมีสภาพพื้นที่ส่วนใหญ่เป็นที่ราบลุ่มที่มีคูคลองจำนวนมาก ซึ่งในอดีตเคยเป็นตลาดน้ำที่มีชื่อเสียงอย่างมาก (ได้รับการประชาสัมพันธ์โดย ททท.) แต่ในพบปัจจุบันนั้นไม่มีตลาดอยู่แล้ว โดยบริเวณดังกล่าวยังเป็นพื้นที่รอยต่อของจังหวัดราชบุรีและจังหวัดสมุทรสาครอีกด้วย',\n",
              "       'ชุมชนตลาดน้ำดำเนินสะดวก เป็นชุมชนเก่าแก่ย่านตลาดน้ำคลองดำเนินสะดวก (บริเวณตลาดน้ำปากคลองราชบุรี หรือ ตลาดนัดหลักแปด) ซึ่งเริ่มมีการตั้งถิ่นฐานขึ้นหลังจากการขุดเชื่อมระหว่างแม่น้ำท่าจีนกับแม่น้ำแม่กลองในสมัย ร.4 ปัจจุบันเป็นสถานที่ท่องเที่ยวในบรรยากาศตลาดน้ำที่มีชื่อเสียงของจังหวัดราชบุรี ซึ่งจะพบอาคารและร้านค้าลักษณะห้องแถวไม้อยู่สองฝั่งของบริเวณตลาดน้ำแห่งนี้',\n",
              "       'ตลาดน้ำคลองลัดพลี เป็นชุมชนย่านตลาดน้ำบริเวณคลองลัดพลี (อยู่ทางตอนเหนือของตลาดน้ำดำเนินสะดวก) ซึ่งมีอาคารร้านค้าที่เป็นห้องแถวไม้เก่าอยู่สองฝั่งของคลองลัดพลี โดยชื่อของตลาดนั้นเพี้ยนมาจาก \"คลองลัดราชบุรี\" มาเป็น \"คลองลัดพลี\" ตั้งอยู่หน้าวัดราษฎร์เจริญธรรม (วัดสุน) เป็นตลาดน้ำที่แสดงถึงวิถีชีวิตของชาวคลองอำเภอดำเนินสะดวกและเป็นสถานที่ท่องเที่ยวทางวัฒนธรรมซึ่งเป็นส่วนหนึ่งของตลาดน้ำดำเนินสะดวก',\n",
              "       'ชุมชนลาวเวียงบ้านเลือก เป็นชุมชนชาวลาวเวียง (ชาวลาวที่อพยพมาจากเวียงจันทร์) ซึ่งอาคารบ้านเรือนเกาะกลุ่มอยู่ทางฝั่งตะวันตกของคลอง ซึ่งมีบริเวณโดยรอบชุมชนเป็นพื้นที่เกษตรกรรม เนื่องจากเป็นพื้นที่ราบลุ่มชายแม่น้ำที่เหมาะแก่การทำนาและทำสวน ซึ่งมีคลองชลประทานส่งน้ำทั่วถึง ปัจจุบันมีสภาพอาคารบ้านเรือนปรับเปลี่ยนเป็นแบบสมัยใหม่ เนื่องจากมีถนนเพชรเกษมสายเก่าตัดผ่าน',\n",
              "       'ชุมชนบ้านคลองมอญ เป็นชุมชนเก่าซึ่งมีชาวบ้านอาศัยอยู่เป็นจำนวนมาก แต่เดิมเรียกชื่อว่า \"โคกกรวย\" ต่อมาเรียกว่า \"ดอนกรวย\" โดยบริเวณทางทิศใต้ของคลองมอญ ซึ่งตั้งอยู่ในหมู่ที่ 9 บริเวณทิศใต้ของเส้นทางหลวงหมายเลข 3336 และฝั่งตะวันตกของเส้นทางหลวงหมายเลข 325 ซึ่งพื้นที่ชุมชนส่วนใหญ่เป็นที่ราบลุ่มที่มีลำคลองไหลผ่านหลายสายทำให้มีน้ำตลอดปี ประชากรส่วนใหญ่ประกอบอาชีพการเกษตร คือ ทำสวนผลไม้และสวนผักต่าง ๆ',\n",
              "       'ชุมชนถนนปากแพรก ตั้งอยู่ริมกำแพงเมืองกาญจนบุรี ใกล้พระบรมราชานุสาวรีย์ พระนั่งเกล้าเจ้าอยู่หัว จากตัวเมืองกาญจนบุรี ตามถนนแสงชูโต เมื่อถึงสี่แยกสถานีตำรวจภูธรกาญจนบุรี ให้เลี้ยวซ้ายไปตามถนนหลักเมือง ผ่านประตูเมืองก็จะเจอถนนปากแพรก ชุมชนถนนปากแพรกหรือชุมชนบ้านเหนือ เป็นชุมชนเมืองที่เก่าแก่ที่สุดของกาญจนบุรี ตั้งอยู่ริมกำแพงเมืองกาญจนบุรี ใกล้พระบรมราชานุสาวรีย์ พระนั่งเกล้าเจ้าอยู่หัวเป็นชุมชนเก่าแก่กว่า 180 ปี เริ่มก่อตั้งขึ้นในยุคสร้างเมืองกาญจนบุรีใหม่ ในสมัยสมเด็จพระนั่งเกล้าเจ้าอยู่หัว (รัชกาลที่ 3) เมื่อราวปี พ.ศ. 2374 โดยมีชาวจีนและญวนได้มาตั้งรกราก เพื่อทำการค้าในครั้งนั้นชุมชนปากแพรกนี้ มีเรื่องราวทางประวัติศาสตร์ท้องถิ่น ครั้งสมัยสงครามโลกครั้งที่ 2 อีกทั้งยังเป็นสถานที่ที่เป็นภูมิหลังของบุคคลสำคัญ และเป็นถนนคอนกรีตสายแรกของเมืองกาญจนบุรีอีกด้วย อาคารบ้านเรือน ที่พักอาศัยก่อสร้างด้วยภูมิปัญญาของคนรุ่นก่อน โดยยังคงสภาพเดิมไว้ค่อนข้างมาก มีสถาปัตยกรรมที่เป็นเอกลักษณ์ในรูปแบบตะวันออกผสม ตะวันตก ที่สร้างขึ้นในยุครัชกาลที่ 4 เป็นต้นมา อิทธิพลด้านสถาปัตยกรรมของบ้านเรือน อาคารในชุมชนปากแพรกมีลักษณะเป็นสถาปัตยกรรมตะวันตกผสมจีน บ้านเดี่ยวบนถนนปากแพรกมักเป็น บ้านคหบดี โดยใช้ทั้งพักอาศัยและทำการค้าด้วย ส่วนห้องแถวใช้เป็นร้านค้า บ้านเดี่ยวมักก่ออิฐถือปูน แปลนมักเป็นรูปสี่เหลี่ยมผืนผ้าเสมอกันทั้งชั้นล่าง ชั้นบนมักมีมุขด้านหน้า หลังคารูปหน้าจั่ว ทรงปั้นหยา ชายคายื่นออกมาเล็กน้อยประมาณ 1 เมตร บางหลังตกแต่งหน้าจั่วด้วยลวดลายปูนปั้นประตูมีทั้ง บานลูกฟักบานฟี้ยมแบบเรียบหน้าต่างสูงคล้ายประตู มีช่องลม บางแห่งฉลุลวดลาย หรือใช้บานเกล็ดไม้และกระจกสีห้องแถว อาจเป็นสองชั้นหรือ ชั้นเดียว ทำด้วยปูนซิเมนต์ โครงไม้รวก (ไผ่รวก) มีลักษณะทึบปูนซิเมนต์ที่ใช้ในสมัยนั้นสั่งมาจากต่างประเทศ (ปูนปอร์ตแลนด์)ช่างโดยส่วน ใหญ่เป็น ช่างชาวจีน หรือไม่ก็สร้างเองโดยใช้ลูกมือเป็นคนงานพื้นบ้าน สีส่วนใหญ่จะซื้อ บางแห่งทำสีเองคือนำดินจากทุ่งนาคราชมากรองแล้ว ผสมกับ น้ำข้าวเหนียวใช้ทา คงทนมาจนถึงปัจจุบัน อาคารบ้านเรือนมีอายุ 70 ปีเป็นอย่างน้อย และวัดใต้มีอายุประมาณ 200 ปี พอ ๆ กับกรุงรัตนโกสินทร์ โครงการถนนคนเดิน 177 ปีปากแพรก ถนนเก่าเล่าเรื่องเมืองกาญจน์ จึงถือกำเนิดขึ้นมาด้วยแรงผลักดัน และขับเคลื่อนจากความภาคภูมิใจของคน ท้องถิ่นที่มีต่อถนนเก่าแก่สายนี้ ซึ่งมีบรรยากาศที่แตกต่างจากถนนสายอื่น ๆ ของกาญจนบุรีอย่างสิ้นเชิง ความแตกต่างและลักษณะเฉพาะตัวนี้ มีสาเหตุมาจากปัจจัยหลายประการได้แก่สถาปัตยกรรมของอาคารบ้านเรือนที่เป็นเอกลักษณ์ประวัติศาสตร์ท้องถิ่นที่เชื่อมโยงกับการก่อตั้งเมืองกาญจนบุรี ต้น กรุงรัตนโกสินทร์ ประวัติศาสตร์สากลที่ผูกพันใกล้ชิดกับสงครามโลกครั้งที่ 2 การกำเนิดของย่านการค้าเก่าแก่ที่เกี่ยวเนื่องกับแม่น้ำสายหลักของ เมืองกาญจนบุรี รวมทั้งภูมิหลังของบุคคลสำคัญ ๆ ระดับประเทศหลายต่อหลายคน ทั้งหมดทั้งมวลเหล่านี้ได้กลายเป็นสายใยที่เหนียวแน่น ซึ่งได้เชื่อมโยงและร้อยรัดชุมชนแห่งนี้ไว้ด้วยกันเป็นเวลากว่า 177 ปี ที่ซึ่งเสน่ห์อันเก่าแก่อดีตในปัจจุบันที่มีมนต์ขลัง ความรุ่งเรืองของคืนวันเก่า ๆ ยังคงปรากฏ ให้เห็นอย่างแจ่มชัดบนสองฟากฝั่งถนนในปัจจุบัน อาคารบ้านเรือนที่น่าสนใจ บ้านสิทธิสังข์ เป็นอาคาร 2 ชั้น 3 คูหา รูปแบบตะวันตกที่เรียกว่า ชิโน-โปตุกีส สร้างขึ้นเมื่อปี พ.ศ. 2463 อายุกว่า 91 ปี ในสมัยรัชกาลที่ 5 ชั้นบนเป็นระเบียงมีซุ้มโค้ง เหนือระเบียงทั้ง 3 คูหา หัวเสาประดับปูนปั้น ชั้นล่างมีประตูบานเฟี้ยม ส่วนบนเป็นช่องลม ฉลุลายเครือเถาว์ เหนือช่องลมประดับด้วยปูนปั้นลายก้านขด สีบ้านนั้นผลิตขึ้นเองด้วยภูมิปัญญาท้องถิ่น โดยการนำดินจากทุ่งนาคราชมากรองแล้วผสมกับน้ำข้าวเหนียวจนเป็นสีที่ทา ปัจจุบันได้รับการตกแต่งเป็น ร้านกาแฟร่วมสมัยที่มีมนต์เสน่ห์ของชุมชนปากแพรกบริเวณด้านหน้า บ้านสิทธิสังข์ ประตูแบบบานเฟี้ยม ช่องลมฉลุลายเครือเถาว์ ส่วนบนประดับ ด้วยปูนปั้นลายก้านขด โรงแรมกาญจนบุรี โรงแรมเก่าแก่อีกแห่งที่สร้างขึ้นก่อนสงครามโลกครั้งที่ 2 ทั้งหมด 14 ห้อง โดยสร้างจากอาคารที่เห็นในประเทศจีน ซึ่งเป็นประเทศบ้านเกิดของ เจ้าของโรงแรม ลักษณะที่โดดเด่นสะดุดตาที่สุด คือ การประดับกระจกสีบนกรอบหน้าต่าง โดยเฉพาะหน้าต่างกระจกสีบนชั้น 3 ของอาคารที่ขนาบข้าง ด้วยระเบียง 2 ฝั่ง ค่าเช้าห้องในสมัยนั้น คิดคืนละ 2-4 บาท ลูกค้าส่วนมากจะเป็นพ่อค้าไม้จากอำเภอทองผาภูมิและสังขละบุรี ข้าราชการที่มาประชุม รวมถึงชนกลุ่มน้อยที่อยู่ตามชายแดน บ้านบุญผ่อง แอนด์ บราเดอร์ เป็นตึกแถว 3 ชั้น 3 คูหา แห่งเดียวของชุมชนปากแพรกยุคนั้น เจ้าของเดิมคือ ขุนสิริเวชภัณฑ์ บิดา นายบุญผ่อง สิริเวชภัณฑ์ สร้างขึ้นเมื่อปี พ.ศ. 2460 อายุกว่า 94 ปี ลักษณะอาคารชั้นบนมีระเบียง ทั้ง 2 ชั้น กันสาดประดับด้วยกรจกสี ประตูหน้าต่างแบบลูกฟัก มีช่องแสงเป็นกระจกสี ส่วนบนสุดเป็นชั้น ดาดฟ้า บ้านบุญผ่อง แอนด์ บราเดอร์ นี้ มีความเกี่ยวข้องทางประวัติศาสตร์สมัยสงครามโลกครั้งที่ 2 คือ เป็นร้านค้าที่จำหน่ายสินค้าอุปโภคบริโภค ให้กับทหารญี่ปุ่น โดยมีนายบุญผ่อง สิริเวชภัณฑ์ เป็นเจ้าของร้าน ซึ่งเป็นหนึ่งในเสรีไทยที่ได้แอบช่วยฝ่ายพันธมิตรและเชลยศึก จนไปสู่การทิ้งระเบิด บริเวณสะพานข้ามแม่น้ำแควเพื่อยับยั้งทหารญี่ปุ่นภายหลังสงครามโลกครั้งที่ 2 ได้ยุติลง รัฐบาลออสเตรเลีย และอังกฤษได้มอบเครื่องราชอิสริยาภรณ์ และประดับยศเป็นพันโทในกองทัพอังกฤษ โดยได้ถูกยกย่องให้เป็นวีรบุรุษสงครามของทางรถไฟสายมรณะ โรงแรมสุมิตราคาร โรงแรมแห่งแรกของเมืองกาญจนบุรี เป็นตึกแถว 2 ชั้น ครึ่งตึกครึ่งไม้ 5 คูหา เจ้าของเดิมคือ หลวงไกรสร สร้างขึ้นเมื่อปี พ.ศ. 2480 อายุกว่า 74 ปี เดิมเป็นห้องแถวให้เช่า ภายหลังดัดแปลงกั้นห้องชั้นบนทำเป็นโรงแรม โดยมีชั้นล่างเป็นร้านอาหาร เป็นสถานที่แวะพักของพ่อค้าไม้จากอำเภอ ทองผาภูมิและสังขละบุรี ต่อมาในยุคสงครามโลกครั้งที่ 2 ได้มีทหารญี่ปุ่นมาเช่านอนปัจจุบันชั้นล่างเปิดเป็นร้านขายอาหารและอุปกรณ์สัตว์เลี้ยง ',\n",
              "       'ชุมชนบ้านปากนาสวน เป็นชุมชนชาวไทยและไทยภูเขา (กะเหรี่ยง) บนที่ราบสูงภูเขา ซึ่งอพยพจากริมแม่น้ำแควใหญ่ (เพราะการสร้างเขื่อนศรีนครินทร์) เข้ามาอยู่ในพื้นที่บ้านปากนาสวน โดยภายในบริเวณวัดศรีเกษตรารามมีอุโบสถไม้เก่าแก่ (สร้างด้วยไม้ประดู่ทั้งหลัง) ที่โดดเด่นและงดงามอย่างยิ่ง',\n",
              "       'ชุมชนบ้านหนองขาว เป็นชุมชนเก่าที่ตั้งถิ่นฐานทำกินบริเวณริมหนองน้ำใหญ่ที่เรียกว่า \"หนองหญ้าดอกขาว\" ต่อมาชื่อหนองน้ำได้กลายเป็นชื่อเรียกสั้นๆ ว่า \"หนองขาว\" ปัจจุบันมีห้องแถวไม้ 2 ชั้น อยู่ 2 ฝั่งถนนเทศบาล และเป็นแหล่งผลิตผ้าขาวม้า 100 สี (ลวดลาย) ที่มีชื่อเสียง',\n",
              "       'ชุมชนหมู่บ้านหม่องสะเทอ เป็นชุมชนริมน้ำของชาวไทย-มอญ ในพื้นที่ตำบลหนองลู อำเภอสังขละบุรี หรือที่รู้จักกันในชื่อ \"หมู่บ้านมอญ\" ซึ่งตั้งอยู่ใกล้ๆ กับ \"สะพานมอญ\" ทางตอนเหนือของเขื่อนวชิราลงกรณ์ (เขาแหลม) โดยมีบ้านเรือนหนาแน่นบริเวณถนนสะพานไม้',\n",
              "       'ชุมชนตลาดท่ามะกา เป็นชุมชนย่านตลาดการค้าบริเวณถนนแสงชูโต ซึ่งมีชื่อเรียกอีกชื่อว่า ตลาดลูกแก (ในพื้นที่ของตำบลดอนขมิ้น) ตั้งอยู่ในพื้นที่ราบลุ่มแม่น้ำ โดยมีแม่น้ำแม่กลองไหลผ่านทางทิศตะวันตก และเป็นชุมชนแรกของจังหวัดกาญจนบุรีที่ใกล้กรุงเทพมหานครมากที่สุด ',\n",
              "       'ชุมชนตลาดเขต เป็นชุมชนย่านตลาดการค้าตั้งอยู่สองฝั่งทางหลวงหมายเลข 324 ซึ่งเป็นชุมชนบริเวณรอยต่อเขตอำเภอพนมทวน จ.กาญจนบุรี กับ อ.อู่ทอง จ.สุพรรณบุรี โดยมีลักษณะเป็นพื้นที่ราบหรือดอนราบที่มีคลองส่งน้ำชลประทานจากโครงการพนมทวนผ่านเกือบตลอดแนวเขตเทศบาล',\n",
              "       'ชุมชนตลาดเมืองสุพรรณ เป็นชุมชนย่านตลาดการค้าในกรรมสิทธิ์ที่ดินของสำนักงานทรัพย์สินฯ จึงมีชื่อเรียกอีกชื่อว่า  ตลาดทรัพย์สินส่วนพระมหากษัตริย์ ตั้งอยู่ทางฝั่งตะวันออกของแม่น้ำท่าจีนหรือทางตอนบนของบริเวณถนนม้าสีหมอกและถนนมิ่นหาญ (เส้นทางหลวงหมายเลข 3431) ซึ่งมีถนนพระพันวษาตัดผ่านแนวเหนือ-ใต้ อาชีพหลักของชาวบ้านคือ การค้าขาย รับจ้างและทำธุรกิจส่วนตัวมีสินค้าที่ขึ้นชื่อ ได้แก่ กระยาสาร์ทน้ำอ้อย ขนมสาลี่นมสดผลไม้และขนมปั้นขลิบ',\n",
              "       'ชุมชนตลาดเก้าห้อง เป็นย่านตลาดเก่ากว่า 100 ปี ที่ตั้งอยู่ริมแม่น้ำท่าจีน (สร้างประมาณต้นรัชสมัยพระบาทสมเด็จพระจุลจอมเกล้าเจ้าอยู่หัว) สภาพพื้นที่เป็นที่ราบลุ่มเหมาะสำหรับทำการเกษตร \"ตลาดเก้าห้อง\" มีลักษณะเป็นห้องแถวเรือนไม้ปลูกติดต่อกันเรียงเป็นแถวยาว ในอดีตใช้เป็นที่ค้าขายและแลกเปลี่ยนสินค้ากันของชาวไทย-จีน และยังเป็นชุมชนที่อยู่อาศัยของชาวไทยพวนหรือลาวพวน โดยมีงานประเพณีที่สำคัญ คือ บุญกำฟ้าและงานบุญข้าวจี่ บุญบั้งไฟชาวไทยพวนและประเพณีแข่งขันเรือยาวชิงถ้วยพระราชทาน',\n",
              "       'ชุมชนตลาดสามชุก เป็นย่านตลาดการค้าริมแม่น้ำท่าจีน ที่มีชื่อเรียกอีชื่อว่า \"บ้านสามเพ็ง\" ซึ่งใช้ติดต่อค้าขายแลกเปลี่ยนสินค้าทางเรือที่สำคัญในอดีต ตั้งแต่เมื่อ 100 กว่าปีก่อน พื้นที่ส่วนใหญ่เป็นที่ราบมีลักษณะอาคารเป็นกลุ่มห้องแถวเรือนไม้ 2 ชั้น (บนที่ดินราชพัสดุ) ปัจจุบันเป็นตลาดเก่าที่มีชื่อเสียงในระดับประเทศ และยังคงปรากฏรูปแบบศิลปะการตกแต่งอาคารไม้โบราณอยู่ โดยเฉพาะลวดลายฉลุไม้ที่เรียกว่า \"ลายขนมปังขิง\" ซึ่งเท่าที่พบในตลาดนี้มีถึง 19 ลาย',\n",
              "       'ชุมชนตลาดโพธิ์พระยา เป็นย่านตลาดการค้าดั้งเดิมที่อยู่ริมฝั่งแม่น้ำท่าจีน ก่อตั้งเมื่อปี พ.ศ. 2468 ภายหลังจากการสร้างเขื่อนประตูน้ำโพธิ์พระยา (แม่น้ำท่าจีน) สภาพเดิมเป็นอาคารไม้ชั้นเดียว โดยชาวไทยเชื้อสายจีนได้รวมตัวกันประกอบอาชีพค้าขาย ซึ่งเป็นจุดรวมของผู้คนที่ต้องการเดินทางสัญจรไปมาระหว่าง โพธิ์พระยากับตัวเมืองสุพรรณบุรี ปัจจุบันเป็นตลาดริมน้ำยามเย็น ที่มีลักษณะของอาคารไม้เก่าอยู่รวมกับอาคารพาณิชย์สองชั้นครึ่ง (สร้างขึ้นหลังเหตุการณ์ไฟไหม้ตลาด ปี พ.ศ. 2547) ส่วนใหญ่จำหน่ายอาหารสด ขนมพื้นเมืองและเป็นแหล่งผลิตเครื่องเบญจรงค์',\n",
              "       'ชุมชนตลาดบ้านสุด เป็นย่านตลาดการค้าเก่าแก่อายุกว่าร้อยปี และเป็นตลาดสุดท้ายที่อยู่ริมคลองบางยี่หน ในอดีตนั้นเป็นศูนย์กลางการค้าขายแลกเปลี่ยนสินค้าและจุดจอดแวะพักบริเวณลำคลองที่ขุดเชื่อมแม่น้ำท่าจีนกับแม่น้ำเจ้าพระยาในสมัยก่อน ตัวตลาดสร้างเป็นห้องแถวไม้เรียงติด ๆ กันไป ด้านไหนที่อยู่ติดริมน้ำก็จะทำเป็น 2 ชั้น โดยมีลำคลองล้อมรอบและมีสะพานไม้เชื่อมติดต่อกัน มีสินค้าประจำถิ่นที่ขึ้นชื่ออย่างเช่น กาแฟโบราณ เป็ดพะโล้ ขนมไทยและขนมหวานต่าง ๆ นอกจากนี้ในพื้นที่ยังมีการจัดงานวัดประจำปี งานงิ้วประจำปีและงานแข่งขันเรืออีกด้วย',\n",
              "       'ชุมชนตลาดศรีประจันต์ เป็นชุมชนย่านตลาดการค้าในตำบลศรีประจันต์ ซึ่งเป็นตลาดโบราณเก่าแก่กว่า 110 ปี ตั้งอยู่ริมแม่น้ำท่าจีนทางฝั่งตะวันออกหรือทางฝั่งตะวันตกของเส้นทางหลวงหมายเลข 340 (ถนนสุพรรณบุรี-ชัยนาท) ซึ่งพื้นที่ส่วนใหญ่เป็นที่ราบลุ่มริมแม่น้ำที่เหมาะแก่การเพาะปลูก โดยรูปแบบของร้านค้าเป็นบ้านเรือนไม้เก่า 2 ชั้นริมน้ำ ที่ยังคงรูปลักษณ์ในอดีต ตลาดแห่งนี้ได้รับรางวัลดีเด่นประเภทแหล่งท่องเที่ยววัฒนธรรม ในปี พ.ศ. 2551 มีสินค้าที่ขึ้นชื่อ ได้แก่ เต้าเจี้ยว (สูตรโบราณ) และลูกประคบสมุนไพรสด',\n",
              "       'ชุมชนตลาดอู่ทอง เป็นย่านตลาดการค้าเก่าในบริเวณเมืองเก่าเขตตำบลอู่ทอง มีสภาพทั่วไปเป็นที่ราบเชิงเขาและมีคลองจระเข้สามพันไหลผ่านพื้นที่ โดยพบโบราณวัตถุสมัยทวารวดี (เป็นศูนย์กลางทางศาสนาพุทธและพราหมณ์) และได้สลายตัวเมื่อปี พ.ศ. 1600 ต่อมามีราษฎรอพยพโยกย้ายมาอยู่ที่ริมคลองจรเข้สาพัน รวมตัวเป็นตลาดการค้าและเมืองใหญ่จนปัจจุบัน ซึ่งบริเวณตลาดมีห้องแถวเก่าที่ปรับปรุงเป็นอาคารสมัยใหม่บริเวณถนนท่าพระยาจักรที่ตัดผ่านกลางพื้นที่ ทำให้มีชุมชนย่อย ๆ อยู่ในพื้นที่ตามซอยต่าง ๆ เช่น ชุมชนซอยลุงเลื่อน',\n",
              "       'ชุมชนตลาดบางลี่ เป็นย่านตลาดการค้าริมคลองสองพี่น้อง ที่ถูกขนานนามว่า \"ตลาด 2 ฤดู\" ที่มีชื่อเสียง ซึ่งตั้งอยู่ในที่ราบลุ่มโดยมีคลองสองพี่น้องซึ่งแยกจากแม่น้ำท่าจีนไหลผ่าน ซึ่งในอดีตอาศัยการคมนาคมโดยใช้เรือหรือเดินบนสะพานไม้ ปัจจุบันมีบ้านเรือนทั้งแบบเก่าและแบบสมัยใหม่ ตั้งอยู่ริมคลองสองพี่น้องและทั้ง 2 ข้างของถนนราษฎร์สำเริงและถนนศรีสำราญ 1 โดยที่ตลาดบางลี่แห่งนี้ได้มีการจัดงานเทศกาลอาหารดีเป็นเป็นประจำทุกปี',\n",
              "       'ชุมชนตลาดท่าช้าง เป็นชุมชนย่านตลาดการค้า ตั้งอยู่ที่ \"บ้านเดิมบาง\" เขตอำเภอเดิมบางนางบวช เป็นตลาดที่อยู่เหนือสุดของจังหวัดสุพรรณบุรี ตั้งอยู่ฝั่งตะวันตกของแม่น้ำท่าจีนซึ่งมีพื้นที่ส่วนใหญ่เป็นที่ราบลุ่ม แต่เดิมตัวตลาดหันหน้าลงแม่น้ำ พ่อค้าแม่ค้าส่วนใหญ่เป็นคนจีน สินค้าที่ทำการค้าขาย ได้แก่ สินค้าทางการเกษตร โดยมีโรงสีข้าวอยู่ในบริเวณตลาดด้วย ต่อมาเมื่อการเดินทางเส้นทางน้ำลดสำคัญลง ร้านค้าในตลาดเริ่มขยับขึ้นห่างจากแม่น้ำและเปลี่ยนทิศทางโดยหันหน้าเข้าหาถนนดังภาพที่เห็นในปัจจุบัน ผลิตภัณฑ์ที่สำคัญ ได้แก่ อาหารแปรรูปและหน่อไม้ไผ่ตงแกะสลัก',\n",
              "       'ชุมชนตลาดคอวัง เป็นชุมชนย่านตลาดการค้าบนที่ราบลุ่มริมแม่น้ำท่าจีน (ฝั่งตรงข้ามกับตำบลตะค่า) โดยเป็นตลาดของเอกชนที่นางซิ่วกี่ ม้าวิไล และนางหมาเล็ก แซ่ตั้ง ซึ่งเป็นพี่น้องกันเป็นเจ้าของ ตลาดแห่งนี้มีอายุไม่ต่ำกว่า 120 ปี มีลักษณะเป็นห้องแถวไม้ 2 ชั้นปลูกเรียงติดต่อกันเป็นแถวยาวรูปตัวยู ประมาณ 40-50 ห้อง โดยมีตลาดสดอยู่ตรงกลาง และยังเป็นตลาดค้าเรือและรับจ้างต่อเรือขนาดใหญ่ซึ่งมีอู่ต่อเรือหลายแห่ง ปัจจุบันมีสินค้าที่สำคัญ คือ เครื่องเบญจรงค์ งานจักสานไม้ไผ่-หวาย ขนมและของหวานต่าง ๆ โดยมีประเพณีที่ขึ้นชื่อ คือ ประเพณีตักบาตรกลางน้ำ',\n",
              "       'ชุมชนบ้านลานคา เป็นชุมชนหมู่บ้านที่ตั้งอยู่ในหมู่ที่ 3 บ้านลานคา ตำบลโคกคราม ซึ่งตั้งอยู่ติดกับแม่น้ำท่าจีน ทางด้านฝั่งตรงข้ามกับตลาดเก้าห้อง บ้านลานคาเป็นชุมชนพื้นถิ่นชาวไทพวน ซึ่งมีลักษณะเป็นกลุ่มบ้านเรือนไม้ (บ้านเดี่ยว) ยกพื้น หลังคากระเบื้อง โดยมียุ้งข้าวและโอ่งเก็บน้ำขนาดใหญ่ตั้งอยู่ใกล้ ๆ บ้าน ภายในพื้นที่พบศาลาการรวมกลุ่มเป็นชุมชนย่อย ๆ เช่น คุ้มเชียงเหนือ โดยมีสินค้าขนมสาลี่สุพรรณ ขนมชั้น ขนมหม้อแกงและศิลปะประดิษฐ์จากไม้ไผ่ เป็นต้น',\n",
              "       'ชุมชนบ้านมะขามล้ม เป็นชุมชนชาวไทยพวนหรือลาวพวน ตั้งอยู่บนพื้นที่ราบลุ่ม ในเขตหมู่ 3 และ 4 \"บ้านมะขามล้ม\" ทางทิศใต้ของเส้นทางหลวงหมายเลข 3318 มีอาคารบ้านเรือนเป็นบ้านไม้ 2 ชั้น (สถาปัตยกรรมแบบไทยพวน) เป็นบ้านเดี่ยว ยกพื้น หลังคากระเบื้อง โดยมีลานทรายหน้าบ้านและมีการปลูกต้นมะขามไว้มากมายในพื้นที่ อาชีพหลักของชาวบ้าน คือ การทำนา และมีการเลี้ยงปลา เป็ด ไก่ โคนม และการแปรรูปผลิตภัณฑ์ปลาเป็นอาชีพเสริม โดยมีงานบุญกำฟ้าเป็นประเพณีที่สำคัญของพื้นที่',\n",
              "       'ชุมชนบ้านวัดโบสถ์ เป็นชุมชนชาวไทยพวนหรือลาวพวน ซึ่งทำการเกษตรกรรมอยู่ในเขตตำบลวัดโบสถ์ โดยมีพื้นที่ส่วนใหญ่เป็นที่ราบลุ่ม ชาวบ้านส่วนใหญ่มีอาชีพหลักคือ การทำนา และเลี้ยงไก่ เลี้ยงปลาเป็นอาชีพเสริม โดยมีบริเวณพื้นที่นาข้าวอยู่รอบนอกชุมชน',\n",
              "       'ชุมชนบ้านรางบัว เป็นชุมชนหมู่บ้านเกษตรกรรม ในหมู่ 6 เขตตำบลวัดโบสถ์ หรือทางฝั่งตะวันตกเฉียงเหนือของชุมชนบ้านวัดโบสถ์ โดยมีพื้นที่ส่วนใหญ่เป็นที่ราบลุ่ม ชาวบ้านส่วนใหญ่มีอาชีพหลักคือ การทำนา และเลี้ยงไก่ เลี้ยงปลาเป็นอาชีพเสริม และมีบริเวณพื้นที่นาข้าวอยู่รอบนอกชุมชน',\n",
              "       'ชุมชนวัดกุฎีทอง เป็นชุมชนหมู่บ้านเกษตรกรรม เป็นย่านชุมชนเก่าในบริเวณวัดกุฎีทอง ในเขตอำเภอเมือง จังหวัดสุพรรณบุรี',\n",
              "       'ชุมชนตลาดเมืองนครปฐม เป็นชุมชนย่านการค้าขนาดใหญ่ของเมืองนครปฐม คาบเกี่ยวบริเวณสำคัญตั้งแต่ตลาดเมืองนครปฐม สถานีรถไฟนครปฐมและพระปฐมเจดีย์ โดยมีลักษณะของอาคารส่วนใหญ่เป็นตึกแถวร้านค้าและที่พักอาศัยที่ทันสมัยและอยู่รวมกันอย่างหนาแน่นในบริเวณโดยรอบของ 2 ฝั่งของเส้นทางรถไฟ ถนนราชดำเนินและถนนหน้าพระ เป็นต้น',\n",
              "       'ชุมชนตลาดนครชัยศรี (ตลาดท่านา) เป็นย่านตลาดการค้าริมแม่น้ำท่าจีน ซึ่งเป็นชุมชนแรกเริ่มของเมืองนครชัยศรี (ประมาณ พ.ศ. 2092) โดยเฉพาะบริเวณปากคลองบางแก้วและวัดกลางบางแก้ว โดยมีอาคารบ้านเรือนเกาะกลุ่มอยู่มากในบริเวณตลาดนครชัยศรี (ตลาดท่านา) ถนนธรรมสพน์และทางหลวงหมายเลข 3235 และทางตอนเหนือของพื้นที่ยังมี \"ตลาดต้นสน\" เป็นแหล่งการค้าอีกส่วนหนึ่งด้วย',\n",
              "       'ชุมชนตลาดบางหลวง เป็นย่านตลาดการค้าริมแม่น้ำนครชัยศรี ที่มีกลุ่มบ้านเรือนแถวไม้ทำการค้าขายอยู่หนาแน่นบริเวณสองฝั่งของทางหลวงหมายเลข 3231 และ 3351 โดยมีแม่น้ำนครชัยศรีไหลผ่านทางฝั่งตะวันออกของพื้นที่',\n",
              "       'ชุมชนตลาดลำพญา เป็นชุมชนย่านตลาดการค้าริมแม่น้ำนครชัยศรี ซึ่งมีการพัฒนากิจกรรมตลาดน้ำบริเวณวัดลำพญา ใกล้กับบริเวณตลาดเก่าเดิม ปัจจุบันมีบ้านเรือน ร้านค้าและที่พักอาศัยส่วนใหญ่อยู่ทางฝั่งตะวันออกของแม่น้ำนครชัยศรีบริเวณตลาดน้ำลำพญาและวัดลำพญา ซึ่งมีพื้นที่บริเวณรอบนอกชุมชนเป็นพื้นที่เกษตรกรรม',\n",
              "       'ชุมชนตลาดบางเลน เป็นย่านชุมชนการค้าเก่าแก่ริมแม่น้ำนครชัยศรี ที่มีบ้านเรือนหนาแน่นอยู่บริเวณสองฝั่งของทางหลวงหมายเลข 346 และ 3351 โดยมีแม่น้ำนครชัยศรีไหลผ่านทางฝั่งตะวันออกของพื้นที่ และมีขนมพื้นเมืองที่ขึ้นชื่อคือ \"ขนมเปี๊ยะ\"',\n",
              "       'ชุมชนตลาดดอนหวาย เป็นตลาดการค้าเก่าริมแม่น้ำนครชัยศรี ซึ่งไหลผ่านทางฝั่งตะวันตกของตัวตลาด โดยมีอาคารห้องแถวไม้ บ้านเรือน ร้านค้าและที่พักอาศัยอยู่หนาแน่นบริเวณฝั่งตะวันออกของแม่น้ำนครชัยศรี วัดดอนหวาย คลองวัฒนาและบริเวณสองฝั่งของทางหลวงหมายเลข 3316 จนพัฒนาเป็นตลาดริมน้ำ นับเป็นแห่งแรก ๆ ของการพัฒนาตลาดเพื่อการท่องเที่ยววันหยุด',\n",
              "       'ชุมชนริมน้ำวัดไร่ขิง เป็นชุมชนริมน้ำที่ตั้งอยู่ทางทิศใต้ของแม่น้ำนครชัยศรี ซึ่งอยู่ในบริเวณรอยต่อระหว่างตำบลตลาดกับตำบลไร่ขิง โดยมีตลาดในบริเวณวัดไร่ขิง รองรับการท่องเที่ยวทางเรือเพื่อเที่ยวชมบ้านเรือนเก่าแก่ริมน้ำ ซึ่งบ้านเรือนส่วนใหญ่จะอยู่บริเวณโดยรอบวัดไร่ขิงและบริเวณสองฝั่งถนนพุทธมณฑลสาย 6',\n",
              "       'ชุมชนรอบสถานีรถไฟศาลายา เป็นชุมชนย่านตลาดการค้าบริเวณโดยรอบสถานีรถไฟศาลายา โดยมีอาคารหนาแน่นอยู่บริเวณถนนโยธาธิการ นฐ. 2008 และบริเวณสองฝั่งคลองมหาสวัสดิ์ ซึ่งมีลักษณะของที่อยู่อาศัยที่เป็นอาคารสมัยใหม่ที่ปะปนอยู่กับอาคารเก่าที่มีให้เห็นอยู่บ้างในพื้นที่',\n",
              "       'ชุมชนรอบที่หยุดรถไฟคลองมหาสวัสดิ์ เป็นชุมชนเก่าที่ตั้งบ้านเรือนอยู่ริมสองฝั่งของคลองมหาสวัสดิ์ (ลำคลองขนานกับเส้นทางรถไฟทางฝั่งตะวันตก) โดยเฉพาะบริเวณที่หยุดรถไฟคลองมหาสวัสดิ์ ซึ่งที่อยู่อาศัยมีลักษณะเป็นบ้านไม้ 2 ชั้น โดยมีถนน รพช.นฐ. 3096 ตัดผ่านพื้นที่ในแนวเหนือใต้ โดยมีพื้นที่รอบนอกชุมชนเป็นพื้นที่เกษตรกรรมประเภทสวนผลไม้',\n",
              "       'ชุมชนตลาดกำแพงแสน เป็นชุมชนเก่าแก่ในพื้นที่เมืองเก่า (สมัยทาราวดี ประมาณอายุอยู่ราว พ.ศ. 1150-1400) โดยมีอาคารบ้านเรือนที่ทันสมัยอยู่หนาแน่นในบริเวณตลาดกำแพงแสน และบริเวณสองฝั่งของทางหลวงหมายเลข 321 โดยมีลำน้ำห้วยยาง (คลองท่าสาร-บางปลา) ไหลผ่านพื้นที่ บริเวณนี้มีความสำคัญในทางประวัติศาสตร์และโบราณคดี เพราะมีโบราณวัตถุที่สำคัญมากมายในพื้นที่',\n",
              "       'ชุมชนไทดำบ้านเกาะแรต เป็นชุมชนหมู่บ้านของชาวไทยเชื้อสายโซ่ง (หรือไทยทรงดำหรือไทดำ) ซึ่งตั้งถิ่นฐานมาก่อน พ.ศ. 2441 บ้านเรือนและร้านค้าส่วนใหญ่ตั้งอยู่บนพื้นที่ราบลุ่มระหว่างคลองท่าสาร-บางปลา กับทางหลวงหมายเลข 3296 ปัจจุบันเป็นแหล่งทอผ้าและผลิตเครื่องจักสานต่าง ๆ รวมถึงมีประเพณีพื้นถิ่นที่โดดเด่น เช่น การเล่นคอน (ในเทศกาลอิ้นก้อน) การลงข่วงและพิธีเสนผีเฮือน',\n",
              "       'ชุมชนท่าฉลอม เป็นชุมชนชาวประมง \"ท่าฉลอม\" บริเวณบ้านแหลมริมแม่น้ำท่าจีนต่อเนื่องกับบริเวณรอบสถานีรถไฟบ้านแหลม ซึ่งในอดีตตำบลท่าฉลอมเคยเป็นที่ตั้งสุขาภิบาลแห่งแรกของประเทศไทย (พ.ศ. 2448) ปัจจุบันในพื้นที่มีตลาด วัด ศาลเจ้า และกิจการต่อเรือและประมงตั้งเรียงรายอยู่เป็นจำนวนมากบนฝั่งแม่น้ำท่าจีน ซึ่งยังพบเห็นอาคารเก่าในลักษณะห้องแถวไม้และอาคารก่ออิฐถือปูน 2 ชั้น ในลักษณะดั้งเดิมอยู่ในพื้นที่ โดยบริเวณตลาดริมน้ำจะมีพ่อค้าแม่นำสินค้าทะเลสด ๆ มาขายส่งกันมากมาย รวมถึงมีกลุ่มหัตถกรรมตุ๊กตาเรือประมงจิ๋วในพื้นที่ด้วย',\n",
              "       'ชุมชนตลาดน้ำบ้านแพ้ว ตลาดเก่าบ้านแพ้วหรือที่เรียกว่า \"ตลาดริมน้ำบ้านแพ้ว\" เป็นตลาดเก่าแก่ที่มีมานานคู่กับคลองดำเนินสะดวก ในอดีตเคยเป็นตลาดที่เฟื่องฟูมากในสมัยที่มีการสัญจรกันทางน้ำเป็นหลัก ปัจจุบันร้านค้าบางร้านปิดตัวเองไป แต่ก็มีบางร้านยังเปิดอยู่ โดยอาคารร้านค้าส่วนใหญ่จะเป็นห้องแถวไม้ 2 ชั้นแบบเก่าที่สร้างยาวต่อเนื่องเป็นแนวยาว หันหน้าออกสู่คลองดำเนินสะดวก มีการจำหน่ายสินค้าหลากหลายชนิดที่ทำให้สัมผัสถึงบรรยากาศของตลาดแบบดั้งเดิมได้',\n",
              "       'ชุมชนตลาดมหาชัย (เดิม) เป็นชุมชนย่านตลาดการค้าและท่าเรือประมง (ท่าฉลอม) ริมแม่น้ำท่าจีนฝั่งตะวันออก (ปากน้ำท่าจีน) ในพื้นที่เขตเทศบาลนครสมุทรสาคร โดยเฉพาะบริเวณสถานีรถไฟมหาชัย ตลาดสดมหาชัยแห่งเก่าต่อเนื่องถึงบริเวณวัดมหาชัย ซึ่งอยู่ทางฝั่งตรงข้ามกับบ้านแหลม ปัจจุบันพบร้านค้าที่จำหน่ายอาหารทะเล ในลักษณะอาคารก่ออิฐถือปูนแบบห้องแถว 2 ชั้น ที่มีอายุเก่าแก่มากกว่า 50 ปี ตั้งอยู่สองฝั่งของถนนสุขาภิบาล และภายในบริเวณย่านท่าเรือมหาชัยยังมี \"ตลาดยายพ่วง\" เป็นจุดค้าขายอาหารทะเลสด ๆ ที่มาจากทะเลอีกด้วย',\n",
              "       'ชุมชนคลองบางนกแขวก เป็นชุมชนย่านการค้าริมคลองบางนกแขวก ซึ่งเป็นคลองที่แยกมาจากแม่น้ำแม่กลอง ตั้งอยู่บริเวณรอยต่อระหว่างจังหวัดสมุทรสงครามกับราชบุรีในพื้นที่ราบลุ่มริมฝั่งแม่น้ำ ซึ่งดินมีความอุดมสมบูรณ์เหมาะแก่การเพาะปลูก โดยภายในชุมชนประกอบด้วยชุมชนชาวคริสต์ โบสถ์คริสต์ อาคารร้านค้า เรือนแถวไม้ริมน้ำและสวนผลไม้แบบยกร่อง',\n",
              "       'ชุมชนริมคลองบางน้อย เป็นชุมชนการค้าย่านตลาดน้ำริมคลองบางน้อย บริเวณปากคลองบางน้อยหรือบางน้อยนอกต่อเนื่องกับหน้าวัดเกาะแก้ว ซึ่งเป็นชุมชนริมน้ำเก่าแก่ที่มีบ้านเรือนห้องแถวไม้ริมน้ำ และมีพื้นที่ส่วนใหญ่ของตำบลเป็นพื้นร่องสวนมะพร้าว พื้นที่นาและพื้นที่เพาะปลูกผลไม้อื่น ๆ ปัจจุบันชาวบ้านมีการรวมกลุ่มผู้ปลูกมะพร้าวและกุ่มผลิตภัณฑ์จากสมุนไพรอยู่ด้วย',\n",
              "       'ชุมชนริมแควอ้อม เป็นชุมชนริมคลองแควอ้อม ตั้งอยู่ในพื้นที่ราบลุ่มทางฝั่งตะวันตกของแม่น้ำแม่กลอง เป็นชุมชนบริเวณรอยต่อของตำบลแควอ้อม อำเภออัมพวา กับตำบลบางกุ้ง อำเภอบางคนที ซึ่งเป็นพื้นที่ที่มีความอุดมสมบูรณ์และเหมาะกับการทำเกษตรกรรม โดยมีบ้านเรือนส่วนใหญ่เป็นห้องแถวไม้เก่าตั้งอยู่ริมสองฝั่งคลอง ปัจจุบันเป็นแหล่งผลิตและจำหน่ายปลาส้มสมุนไพรและไม้ผลแปรรูป (ไวน์ผลไม้) ที่มีชื่อเสียง',\n",
              "       'ชุมชนริมคลองวัดประดู่ป่า เป็นชุมชนเก่าแก่บริเวณริมคลองวัดประดู่ ซึ่งตั้งอยู่บริเวณรอยต่อของตำบลวัดประดู่ จังหวัดสมุทรสงคราม กับตำบลจอมประทัด จังหวัดราชบุรี โดยมีพื้นที่ส่วนใหญ่เป็นที่ราบลุ่ม ที่มีลำคลองหลายสายไหลผ่าน โดยมีบ้านเรือนในลักษณะบ้านเดี่ยวแบบ \"บ้านในสวน\" ที่มีใต้ถุนบ้าน กระจายตัวอยู่ภายในพื้นที่ ปัจจุบันราษฎรส่วนใหญ่ประกอบอาชีพทำสวนมะพร้าว สวนส้มโอ นาข้าวและเลี้ยงปลา และมี \"วุ้นมะพร้าว\" เป็นผลิตภัณฑ์ที่สำคัญของชุมชน',\n",
              "       'ชุมชนริมคลองบางแค เป็นชุมชนริมคลองบางแค ซึ่งตั้งอยู่บริเวณที่ราบลุ่มทางฝั่งตะวันตกของแม่น้ำแม่กลอง โดยมีลำคลองหลายสายไหลผ่านและมีน้ำล้อมรอบ ทำให้มีความอุดมสมบูรณ์เหมาะแก่การทำการเกษตร จึงมีพื้นที่เพาะปลูกพืชสวนเป็นส่วนใหญ่ โดยเฉพาะส้มโอและลิ้นจี่ บ้านเรือนส่วนใหญ่เป็น \"บ้านไม้ในสวนแบบยกพื้น\" ในบริเวณริมคลองบางแคและมีร้านค้าปลีกภายในชุมชนหลายร้าน โดยปัจจุบันยังเป็นแหล่งผลิตสินค้าน้ำตาลมะพร้าวและกล้วยแปรรูปที่มีชื่อเสียง',\n",
              "       'ชุมชนริมคลองบางโพงพาง เป็นชุมชนริมคลองบางโพงพางในบริเวณพื้นที่ที่ราบลุ่ม ซึ่งมีแม่น้ำแม่กลองไหลผ่านและมีลำคลองผ่านหลายสาย รวมถึงได้รับอิทธิพลจากน้ำทะเลหนุน ทำให้มีน้ำไหลขึ้นลงตลอดปี พื้นที่ส่วนใหญ่จึงเป็นสวนผลไม้ เช่น สวนลิ้นจี่ สวนส้มโอ สวนมะพร้าว สวนมะม่วง ฯลฯ บ้านเรือนทั่วไปเป็นบ้านไม้ริมคลองผสมกับบ้านเดี่ยวยกพื้นในสวนผลไม้ โดยบ้านเรือนในชุมชนริมคลองบางโพงพางนั้นเป็นต้นแบบของ \"โฮมสเตย์แห่งแรกของอัมพวา\"',\n",
              "       'ชุมชนริมคลองประชาชมชื่น เป็นชุมชนเก่าบริเวณริมคลองประชาชมชื่น ซึ่งตั้งอยู่ในหมู่ 11 และ 12 \"บ้านคลองประชาชมชื่น\" เป็นพื้นที่ราบลุ่มที่มีแม่น้ำลำคลองสายย่อยจากแม่น้ำแม่กลองกระจายทั่วพื้นที่ ทำให้เหมาะแก่การเกษตร ประชาชนส่วนใหญ่จึงประกอบอาชีพเกษตรกรรมโดยเฉพาะการทำสวนลิ้นจี่ ส้มโอและมะพร้าว มีบ้านเรือนส่วนใหญ่เป็นบ้านไม้ริมน้ำและบ้านเดี่ยวยกพื้นในบริเวณสวนผลไม้ โดยมีผลิตภัณฑ์ชุมชนที่สำคัญ ได้แก่ น้ำตาลมะพร้าว ผักปลอดสารพิษและขนมไทย',\n",
              "       'ชุมชนริมคลองบางจาก เป็นชุมชนเกษตรกรรมบริเวณริมคลองบางจาก ทางฝั่งตะวันออกของแม่น้ำแม่กลอง ในบรรยากาศวิถีชีวิตความเป็นอยู่ของผู้คนในลักษณะชุมชนริมแม่น้ำ ซึ่งมีบ้านเรือนไม้ลักษณะเรือนไทยแบบยกพื้นตั้งอยู่บริเวณสองฝั่งคลอง สภาพพื้นที่ส่วนใหญ่เป็นที่ราบลุ่มแม่น้ำจึงมีการปลูกพืชสวนเป็นส่วนใหญ่ ชาวบ้านส่วนใหญ่ประกอบอาชีพหลัก ทำสวน ค้าขายและรับจ้าง ปัจจุบันชุมชนมีผลิตภัณฑ์งานจักสานจากก้านมะพร้าว เครื่องเบญจรงค์ บ้านเล็ก-เรือจิ๋วและขนมไทยโบราณเป็นสินค้าที่สำคัญของชุมชน',\n",
              "       'ชุมชนริมคลองอัมพวา เป็นชุมชนการค้าย่านตลาดน้ำอัมพวา ซึ่งเป็นชุมชนเก่าแก่ในแถบที่ราบลุ่มน้ำแม่กลองมาตั้งแต่อดีตและเป็นสถานที่ประสูติของรัชกาลที่ 2 โดยมีบ้านเรือนร้านค้าหนาแน่นอยู่บริเวณแนวคลองอัมพวา ถนนประชาเศรษฐ์และถนนประชาอุทิศ ชุมชนแห่งนี้ประกอบไปด้วยกลุ่มอาคารไม้ลักษณะต่าง ๆ ระบบคลอง ระบบสวน และมีพื้นที่ส่วนใหญ่เป็นสวนผลไม้ เช่น สวนลิ้นจี่ สวนส้มโอ สวนมะพร้าวและสวนมะม่วง ฯลฯ นอกจากนี้ยังมีเตาตาล กลุ่มผลิตเบญจรงค์และขนมไทยที่มีชื่อเสียงอยู่ด้วย ปัจจุบันมีการพัฒนาด้านการท่องเที่ยวทำให้วิถีชีวิตเปลี่ยนไปจากเดิมมาก',\n",
              "       'ชุมชนริมคลองแม่กลอง เป็นชุมชนชาวประมงในบริเวณริมคลองแม่กลองต่อเนื่องกับชายทะเลปากอ่าวแม่กลอง โดยเป็นที่ราบลุ่มชายฝั่งทะเลอ่าวไทย ในลักษณะพื้นที่ป่าชายเลนที่มีความอุดมสมบูรณ์ทางทรัพยากรธรรมชาติสิ่งแวดล้อม จึงมีความอุดมสมบูรณ์และเป็นแหล่งอาหารทะเลที่สำคัญ โดยเฉพาะการทำการประมงน้ำกร่อย ประมงชายฝั่งทะเล การทำนาเกลือและนากุ้ง โดยมีบ้านเรือนส่วนใหญ่อยู่บริเวณฝั่งตะวันตกของถนนทรงธรรมและช่วงปลายของถนนวิชิตภัคดี โดยมีสินค้าหัตถกรรม (เซรามิก) ปลาทูซาเตี๊ยะแม่กลองและไข่วิจิตรศิลป์เป็นสินค้าที่สำคัญ',\n",
              "       'ชุมชนริมแม่น้ำแม่กลอง เป็นชุมชนประมงริมแม่น้ำตรงปากน้ำแม่น้ำแม่กลองก่อนไหลออกสู่ทะเลอ่าวไทย มีลักษณะเป็นที่ราบลุ่มและป่าชายเลนบริเวณชายฝั่งทะเลอ่าวไทย ที่มีความอุดมสมบูรณ์ทางทรัพยากรธรรมชาติสิ่งแวดล้อมและเป็นแหล่งอาหารทะเลที่สำคัญ โดยมีการทำการประมงน้ำกร่อยและประมงชายฝั่งทะเล มีบ้านเรือนและร้านค้าอยู่หนาแน่นในบริเวณตะวันตกของถนนราษฎร์ประสิทธิ์และตะวันออกของถนนแหลมใหญ่ และมีสะพานแม่กลองเป็นสะพานสำคัญที่เชื่อมพื้นที่ระหว่างสองฝั่งของแม่น้ำแม่กลอง',\n",
              "       'ชุมชนบริเวณบางจะเกร็ง เป็นชุมชนเกษตรกรรมบนเป็นที่ราบชายฝั่ง บริเวณรอยต่อระหว่างตำบลบางจะเกร็งกับตำบลแม่กลอง โดยมีลำคลองบางจะเกร็งเป็นแนวเขตระหว่าง 2 ตำบล ซึ่งมีบ้านเรือนมากมายตั้งอยู่บริเวณสองฝั่งคลองบางจะเกร็งตั้งแต่ถนนราชญาติรักษา (ทางทิศเหนือ) ต่อเนื่องลงมาทั้งมาจนถึงถนนราษฎร์ประสิทธิ์ (ทางทิศใต้) ราษฎรส่วนใหญ่ของตำบลสืบเชื้อสายมาจากชาวมอญที่ลี้ภัยสงครามมาจากเมืองหงสาวดี โดยในปัจจุบันเกิดการผสมผสานทางวัฒนธรรมระหว่างชาวมอญและคนไทยดั้งเดิม และมีกลุ่มสินค้าและผลิตภัณฑ์ที่น่าสนใจ เช่น กลุ่มผ้าบาติก กลุ่มกาละแมรามัญและกลุ่มเกษตรกร',\n",
              "       'ชุมชนบริเวณแหลมใหญ่ เป็นชุมชนชาวประมงริมน้ำที่ตั้งอยู่ฝั่งตะวันตกของน้ำแม่กลองบริเวณปากน้ำหรือแหลมใหญ่ (ฝั่งตรงข้ามตำบลบางจะเกร็ง) โดยพื้นที่ริมคลองจะเป็นป่าไม้และบริเวณใกล้คลองส่วนใหญ่จะมีลักษณะเป็นตามหมู่บ้านสวนตาล รวมถึงมีป่าชายเลนที่มีความอุดมสมบูรณ์สำหรับการเพาะพันธุ์สัตว์ทะเลตามธรรมชาติ อาชีพหลักของชาวบ้าน คือ การทำสวนและการเพาะเลี้ยงสัตว์น้ำ การทำมะพร้าวขาว ทำปลาหมึกกรอบและไข่เค็ม โดยมี \"การแข่งขันเรือใบภูมิปัญญาท้องถิ่นวัดปากสมุทร\" เป็นกิจกรรมที่สำคัญของพื้นที่',\n",
              "       'ชุมชนบริเวณเมืองเก่าแม่กลอง เป็นชุมชนย่านตลาดการค้าบริเวณฝั่งตะวันออกของแม่น้ำแม่กลอง ตั้งแต่สถานีรถไฟแม่กลองต่อเนื่องถึงตลาดแม่กลอง ตลาดร่มหุบ วัดเพชรสมุทร ถนนเพชรสมุทรและถนนเกษมสุข ลักษณะส่วนใหญ่เป็นตึกแถว ในอดีตเรียกว่า \"แขวงบางช้าง\" ต่อมาสมัยกรุงธนบุรีได้แยกออกจากจังหวัดราชบุรีเรียกว่า \"เมืองแม่กลอง\" และเปลี่ยนชื่อเป็นสมุทรสงครามในปีใดนั้นไม่ปรากฏแน่ชัดแต่ สันนิษฐานไว้ว่าเปลี่ยนราวปี พ.ศ.2295 ถึงปี พ.ศ.2299 ปัจจุบันพัฒนาเป็นย่านพาณิชยกรรมและเป็นที่ตั้งของสถานที่สำคัญทางราชการ ศาสนาและแหล่งการค้าที่สำคัญของจังหวัด',\n",
              "       'ชุมชนบ้านเขายี่สาร เป็นชุมชนเก่าแก่ที่อยู่รอบเนินเขาเตี๊ย ๆ เรียกว่า \"เขายี่สาร\" ตามเส้นทางหลวงชนบทหมายเลข 2021 ซึ่งเป็นส่วนหนึ่งของชุมชนในเขตทะเลรอบอ่าวไทย มีลักษณะเป็นบ้านเดี่ยวเรือนไม้ริมน้ำบริเวณพื้นที่ราบลุ่มป่าชายเลน มีป่าไม้โกงกาง บ่อเลี้ยงกุ้งและปู โดยปัจจุบันบ้านยี่สารเป็นแหล่งภูมิปัญญาในการเผาถ่านขาย โดยมีการปลูกต้นโกงกางแบบหมุนเวียน และมีกิจกรรมล่องเรือชมวิถีชิวิตและธรรมชาติริมฝั่งคลองยี่สาร โดยมีสินค้าที่สำคัญ เช่น ปลาหมอเทศแดดเดียว ผ้าฝ้ายมัดย้อมจากเปลือกไม้ ถ่านเผาบ้านยี่สาร น้ำส้มควันไม้และสิ่งประดิษฐ์จากไม้',\n",
              "       'ชุมชนตลาดน้ำท่าคา เป็นชุมชนเกษตรกรรมเก่าแก่บริเวณที่ราบลุ่มริมน้ำในพื้นที่หมู่ที่ 2 ตำบลท่าคา มีเส้นทางหลวงชนบทหมายเลข 3011 ตัดผ่านพื้นที่ในแนวเหนือใต้ ชุมชนแห่งนี้ได้พัฒนากลายเป็นชุมชนการค้าและแหล่งท่องเที่ยว ที่ชื่อว่า ตลาดน้ำท่าคา จากการนำสินค้าประเภทผักและผลไม้ประจำท้องถิ่นจากสวนใส่เรือล่องมาค้าขายตามลำคลอง บ้านเรือนส่วนใหญ่เป็นบ้านเดี่ยวเรือนไม้อยู่ริมน้ำ ประชาชนส่วนใหญ่ในพื้นที่พูดภาษาไทย นับถือศาสนาพุทธ อาชีพหลักของชาวบ้าน คือ การทำสวน โดยมีผลิตภัณฑ์น้ำตาลมะพร้าวเป็นสินค้าที่สำคัญของพื้นที่ ',\n",
              "       'ชุมชนนาเกลือบางแก้ว เป็นชุมชนชาวนาเกลือ ซึ่งเป็นแหล่งผลิตเกลือที่สำคัญของสมุทรสงคราม มีองค์ประกอบของกลุ่มบ้านเรือนเดี่ยวริมคลอง นาเกลือ ฉางเกลือและกังหันวิดน้ำ โดยตั้งอยู่ในพื้นที่หมู่ที่ 2 บ้านบางแก้ว มีเส้นทางหลวงหมายเลข 35 ตัดผ่านพื้นที่ โดยมีพื้นที่ส่วนใหญ่เป็นนาเกลือเนื่องจากมีลักษณะของพื้นที่เป็นที่ราบลุ่มติดชายฝั่งอ่าวไทยที่มีน้ำทะเลท่วมถึง ดินจึงเป็นดินเค็มเหมาะแก่การทำนาเกลือ รวมถึงมีพื้นที่ป่าชายเลนเป็นแหล่งเพาะพันธุ์สัตว์น้ำธรรมชาติและที่อยู่อาศัยของนกทะเลหลายชนิด อาชีพหลัก คือ การทำนาเกลือ ประมงชายฝั่งและการเพาะเลี้ยงสัตว์น้ำ',\n",
              "       'ชุมชนเมืองเพชรบุรี เป็นย่านชุมชนเมือง ซึ่งตั้งอยู่สองฝั่งของริมแม่น้ำเพชร คาบเกี่ยวบริเวณถนนพานิชเจริญ ย่านหัวถนนและต่อเนื่องถึงสถานีรถไฟเพชรบุรีปัจจุบันมีห้องแถวไม้ 2 ชั้น บริเวณถนนดำเนินเกษม (ฝั่งตะวันตกของสถานีรถไฟ)',\n",
              "       'ชุมชนบางตะบูน เป็นชุมชนชาวประมง บริเวณปากน้ำบางตะบูน ซึ่งใกล้ ๆ กับสะพานริมอ่าวบางตะบูนจะมองเห็นกระเตงมากมายเป็นจุด ๆ ในทะเล ปัจจุบันเป็นแหล่งฟาร์มหอยแครงและนาเกลือสมุทรรายใหญ่ของจังหวัดเพชรบุรี โดยมีต้น \"ตะบูน\" เป็นสัญลักษณ์ของพื้นที่',\n",
              "       'ชุมชนตลาดบ้านลาด เป็นชุมชนย่านการค้า ซึ่งมีถนนทางหลวงหมายเลข 3179 ตัดผ่านพื้นที่ บริเวณดังกล่าวเป็นที่ตั้งของสถานที่ราชการและสถานที่สำคัญประจำอำเภอ โดยมีพื้นที่ส่วนใหญ่เป็นดินร่วนปนทรายเหมาะแก่การเพาะปลูกผักและผลไม้ มีแม่น้ำเพชรบุรีและคลองชลประทานไหลผ่าน สินค้าที่ขึ้นชื่อ เช่น ชมพู่ทองสามสีและดอกไม้ประดิษฐ์จากผ้าใยบัว เป็นต้น',\n",
              "       'ชุมชนตลาดท่ายาง เป็นย่านตลาดการค้า บริเวณถนนเทศบาลต่อเนื่องถึงริมแม่น้ำเพชรบุรี ซึ่งมีห้องแถวไม้ 2 ชั้น เป็นกลุ่มแถวยาวปะปนอยู่กับอาคารสมัยใหม่ โดยมีสภาพพื้นที่เป็นที่ราบลุ่ม มีแม่น้ำเพชรบุรีและคลองชลประทานไหลผ่านพื้นที่',\n",
              "       'ชุมชนตลาดเก่าบ้านแหลม เป็นชุมชนตลาดการค้าเก่าและชุมชนชาวประมง โดยเฉพาะบริเวณถนนประมงเจริญและถนนแม่แดงอุทิศ พื้นที่ส่วนใหญ่เป็นที่ราบชายฝั่งทะเลที่มีน้ำทะเลท่วมถึง ซึ่งเดิมบริเวณชายทะเลนั้นมีพื้นที่ไม่มากนัก ต่อมาพื้นที่งอกขยายออกไปจึงมีคนอพยพมาอาศัยทำมาหากินมากขึ้น ส่วนใหญ่เป็นคนจีนไหหลำที่อพยพมาทางเรือสำเภา ปัจจุบันจึงเป็นแหล่งผลิตและจำหน่ายกะปิและเกลือสมุทร',\n",
              "       'ชุมชนไทดำบ้านเขาย้อย เป็นชุมชนชาวไทดำหรือไทยทรงดำ ที่ตั้งถิ่นฐานอยู่บริเวณ \"เขาย้อย\"ทางฝั่งตะวันตกของถนนเพชรเกษม ปัจจุบันมีหมู่บ้านท่องเที่ยว \"ศูนย์วัฒนธธรรมไทยทรงดำ\" ซึ่งเป็นแหล่งศึกษาวัฒนธรรมประเพณีไทยทรงดำที่เป็นเอกลักษณ์ในพื้นที่ โดยมีสินค้าประจำตำบล ได้แก่ ผ้าทอพื้นเมือง (ผ้าทอไทดำ) ขนมกาละแมโบราณและสิ่งประดิษฐ์จากใบลาน เป็นต้น',\n",
              "       'ชุมชนไทดำบ้านหนองปรง เป็นชุมชนไทดำหรือชาวลาวโซ่ง ที่อพยพเข้ามาตั้งถิ่นฐานที่บ้านหนองปรงตั้งแต่สมัย ร.3 พื้นที่ส่วนใหญ่เป็นที่ราบลุ่ม ชาวบ้านส่วนใหญ่เป็นชาว นิยมปลูกบ้านเรือนด้วยไม้ ยกใต้ถุนบ้านสูงไว้เลี้ยงสัตว์ต่าง ๆ และทำงานหัตถกรรมเพื่อเป็นรายได้เสริม โดยมีสถานที่สำคัญ คือ \"บ้านไทยทรงดำ\" ซึ่งสร้างเพื่อเป็นอนุสรณ์ เมื่อปี พ.ศ. 2536 ภายในจะมีประวัติ วิถีความเป็นอยู่วัฒนธรรมการแต่งกายและการไว้ทรงผมของชาวไทยทรงดำแต่อดีตให้ได้ศึกษา',\n",
              "       'ชุมชนกะเหรี่ยงบ้านสองพี่น้อง เป็นชุมชนกระเหรี่ยง หรือ \"หมู่บ้านกะเหรี่ยง\" ในเขตตำบลสองพี่น้อง ซึ่งในอดีตได้อพยพมาจากชายแดนพม่าและเข้ามาตั้งถิ่นฐานอยู่ทางฝั่งตะวันออกของอ่างเก็บน้ำเขื่อนแก่งกระจาน ซึ่งปัจจุบันมีทางหลวงหมายเลข 3432 ตัดผ่านพื้นที่ในแนวเหนือ-ใต้ เป็นพื้นที่ราบเชิงเขา ซึ่งส่วนหนึ่งอยู่ในเขตป่าสงวนแห่งชาติ โดยมีสินค้าสำคัญ คือ ศิลปประดิษฐ์จากเศษไม้',\n",
              "       'ชุมชนบ้านท้ายหลวง เป็นชุมชนเกษตรกรรมที่มีเรือนทรงไทยอยู่หลายหลังในพื้นที่ ปัจจุบันเป็นแหล่งผลิตทำตาลโตนดที่มีชื่อเสียง เนื่องจากพื้นที่ส่วนใหญ่ของตำบลเป็นพื้นที่ราบลุ่ม มีคลองบางจากไหลผ่านทางด้านทิศตะวันตกของตำบล เหมาะสำหรับทำนาและทำตาล (น้ำตาลโตนด)',\n",
              "       'ชุมชนบ้านไร่สะท้อน เป็นชุมชนเกษตรกรรมที่มีเรือนทรงไทยอยู่หลายหลัง โดยมีทางหลวงหมายเลข 3204 ตัดผ่านกลางพื้นที่ ในอดีตชุมชนมีสภาพเป็นป่าเขาสำเนาไพร ต่อมาได้มีผู้คนอพยพเข้ามาบุกเบิกถางฟันป่าเพื่อเพาะปลูกทำมาหากิน โดยเฉพาะการทำนา ทำตาลโตนดและสวนกล้วยหอม ปัจจุบันเป็นแหล่งผลิตทำตาลโตนด (น้ำตาลปึก) ที่มีชื่อเสียง',\n",
              "       'ชุมชนบ้านกุ่ม เป็นชุมชนเกษตรกรรมในพื้นที่ตำบลบ้านกุ่ม โดยชุมชนตั้งอยู่บริเวณริมแม่น้ำเพชรบุรีฝั่งตะวันตกหรือฝั่งตะวันออกของเส้นทางหลวงหมายเลข 3176 ซึ่งมีพื้นที่ส่วนใหญ่เป็นที่ราบลุ่ม มีการระบายน้ำได้ช้าถ้าฝนตกมาก ๆ ทำให้เกิดน้ำท่วมขังอยู่บ่อยครั้ง และมีต้น \"กุ่มบก\" และ \"กุ่มน้ำ\" ขึ้นบกคลุมอยู่ในพื้นที่เป็นจำนวนมาก โดยชุมชนดังกล่าวมี \"สวนชมพู่\" เป็นสัญลักษณ์ของชุมชน ปัจจุบันมีข้าวหลามและขนมงาดำกวน เป็นสินค้าที่สำคัญในพื้นที่',\n",
              "       'ชุมชนตลาดเก่าหัวหิน เป็นชุมชนย่านตลาดเก่าหัวหินต่อเนื่องกับบริเวณสถานีรถไฟหัวหิน โดยมีบ้านเรือนหนาแน่น บริเวณถนนนเรศดำริ ถนนเพชรเกษม สถานีรถไฟหัวหิน ตลาดหัวหินและสะพานปลาหัวหิน ซึ่งจะพบเห็นอาคารเรือนไม้แบบเก่าปะปนอยู่กับอาคารทันสมัยเป็นร้านค้า รีสอร์ทและโรงแรม โดยปัจจุบันบริเวณตลาดเก่าหัวหินได้มี \"ตลาดโต้รุ่งหัวหิน\" อยู่ด้วย',\n",
              "       'ชุมชนตลาดริมทางรถไฟปราณบุรี (บ้านเมืองเก่า) เป็นย่านชุมชนการค้าและที่พักอาศัยบริเวณโดยอบสถานีรถไฟปราณบุรีและริมทางรถไฟ ต่อเนื่องถึงบริเวณโรงเรียนบ้านเมืองเก่าและบริเวณถนนรัฐบำรุง 43 ซึ่งมีตลาดเก่าและบ้านไม้เก่า 2 ชั้นอยู่ในพื้นที่ นอกจากนี้ปัจจุบันบริเวณถนนรัฐบำรุง 43 ได้พัฒนาเป็นถนนคนเดิน \"ตลาด 200 ปี\"',\n",
              "       'ชุมชนตลาดริมทางรถไฟสามร้อยยอด (บ้านไร่เก่า) เป็นชุมชนตลาดเก่า (ชาวจีน) ตั้งอยู่ที่บ้านสามร้อยยอด (หมู่ 2) มีบ้านเรือนหนาแน่นบริเวณทางฝั่งตะวันตกของสถานีรถไฟสามร้อยยอดและบริเวณโดยรอบวัดตรีสตกูฏ โดยมีศาลเจ้าในชุมชนและบริเวณโดยรอบเป็นแปลงนาข้าว นอกจากนี้ในชุมชนยังประเพณีที่สำคัญ คือ ตักบาตรดาวดึงส์ (ตักบาตรข้าวสารและลูกอมในช่วงออกพรรษาของทุกปี)',\n",
              "       'ชุมชนกุยบุรี เป็นชุมชนย่านตลาดเก่า (ในพื้นที่เมืองเก่าตั้งแต่สมัยกรุงศรีอยุธยาตอนต้น) ต่อเนื่องกับบริเวณสถานีรถไฟกุยบุรี โดยมีบ้านไม้เก่า 2 ชั้นและบ้านเก่าแบบตึกปูน 2 ชั้น โดยเฉพางฝั่งตะวันตกออกของสถานีรถไฟกุยบุรี ซึ่งมีถนนขนาดกว้างตัดผ่านไปถนนเพชรเกษม โดยพื้นที่ส่วนใหญ่เป็นที่ที่ราบเชิงเขา พื้นดินส่วนใหญ่เป็นดินร่วนปนทรายเหมาะแก่การทำเกษตรกรรมและเลี้ยงสัตว์ ซึ่งพื้นที่รอบนอกชุมชนนั้นจะเป็นพื้นที่นากุ้ง',\n",
              "       'ชุมชนตลาดริมทางรถไฟประจวบคีรีขันธ์ เป็นบริเวณตลาดเก่า ในบริเวณที่ราบชายฝั่งทะเล ซึ่งมีคลองบางนางรมไหลผ่านกลางพื้นที่ โดยมีบ้านเรือนอยู่อาศัย ร้านค้าและบางส่วนจะเป็นสวนมะพร้าวบ้างเล็กน้อย ในพื้นที่มีบ้านไม้ 2 ชั้น เป็นยาวตลอดถนนมหาราช 1 ที่อยู่ทางฝั่งตะวันออกของสถานีรถไฟ',\n",
              "       'ชุมชนตลาดริมทางรถไฟทับสะแก เป็นชุมชนย่านตลาดการค้าบริเวณรอบสถานีรถไฟทับสะแกต่อเนื่องไปทางเส้นถนนฝั่งตะวันตก ปัจจุบันพบอาคารห้องแถวปูน 2 ชั้นอยู่บ้างในพื้นที่ โดยเฉพาะบริเวณฝั่งตะวันตกของสถานีรถไฟ ปัจจุบันบริเวณตลาดมีกลุ่มอาชีพที่น่าสนใจ เช่น ถ่านกะลามะพร้าวอัดแท่ง ตุ๊กตาไหมพรมและชุดจานรองบนโต๊ะอาหาร เป็นต้น โดยพื้นที่รอบนอกย่านชุมชนเป็นสวนผลไม้',\n",
              "       'ชุมชนตลาดริมทางรถไฟบางสะพานน้อย เป็นชุมชนย่านตลาดการค้าเก่าบริเวณรอบสถานีรถไฟบางสะพานน้อย ต่อเนื่องไปทางถนนฝั่งตะวันออกของสถานีรถไฟและบริเวณวัดคลองน้ำเค็ม โดยมีคลองน้ำเค็มไหลผ่านพื้นที่ออกสู่ทะเล และมีบริเวณรอบนอกเป็นเรือกสวนไร่นาบนที่ราบลุ่มดินอุดมสมบูรณ์เหมาะทำการเกษตร และในพื้นที่ข้างเคียงมีถ้ำเขานกแสกและถ้ำเขาพัสดุเป็นสถานที่สำคัญ',\n",
              "       'ชุมชนรอบสถานีรถไฟบางสะพานใหญ่ เป็นชุมชนเก่าบริเวณรอบสถานีรถไฟบางสะพานใหญ่ทั้งสองฝั่ง ซึ่งที่มีบ้านห้องแถวไม้ 2 ชั้น อยู่หลายหลังบริเวณถนนบางสะพานและถนนรัตนโกสินทร์ที่ทางฝั่งตะวันออกของสถานีรถไฟ โดยมีพื้นที่เกษตรกรรมอยู่บริเวณรอบนอกชุมชน',\n",
              "       'ชุมชนรอบสถานีรถไฟบ้านกรูด เป็นชุมชนเกษตรกรรมที่มีบ้านห้องแถวไม้ 2 ชั้น หลังคากระเบื้องว่าว โดยเฉพาะอาคารบ้านเรือนทางฝั่งตะวันออกของสถานีรถไฟ มีลำคลองไหลผ่านพื้นที่และมีพื้นที่เกษตรกรรมอยู่บริเวณรอบนอกชุมชน',\n",
              "       'ชุมชนปากน้ำปราณบุรี เป็นชุมชนชาวประมงบริเวณปากแม่น้ำปราณบุรี ซึ่งมีสถานที่พักผ่อนบริเวณชายหาดที่มีความงดงาม บ้านเรือนตั้งอยู่บริเวณช่วงที่แม่น้ำปราณบุรีไหลลงสู่ทะเล โดยเฉพาะสองฝั่งของทางหลวงหมายเลข 3168 ชาวบ้านส่วนใหญ่ประกอบอาชีพประมง ชุมชนแห่งนี้จึงกลายเป็นศูนย์รวมและจำหน่ายอาหารทะเลที่ขึ้นชื่อ เช่น ปลาหมึกสด ปลาหมึกแดดเดียว ปลาหมึกแห้ง กะปิเคย กุ้งแห้ง ฯลฯ รวมทั้งมีประเพณีการเล่นแม่ศรี (เทศกาลสงกรานต์) ที่จัดขึ้นทุกปีด้วย',\n",
              "       'ชุมชนบ้านบางปู เป็นชุมชนชาวประมงบริเวณชายหาดบางปู ตั้งอยู่หมู่ที่ 8 ตำบลสามร้อยยอด เป็นพื้นที่ที่มีถนน รพช. และคลองบางปูตัดผ่านพื้นที่แนวเหนือใต้ บริเวณรอบนอกเป็นพื้นที่ทำสวนทำไร่ ปัจจุบันมีกิจกรรมการล่องเรือท่องเที่ยวเชิงอนุรักษ์และการทำเคย (กะปิ) เป็นสินค้าโอท๊อปชุมชน และยังเป็นแหล่งจำหน่ายอาหารทะเลและจุดจอดเรือที่สำคัญอีกด้วย',\n",
              "       'ชุมชนคลองวาฬ เป็นชุมชนโบราณบริเวณชายฝั่งทะเลอ่าวไทย บริเวณ หมู่ 1 บ้านคลองวาฬ เป็นแหล่งเพาะ เลี้ยงสัตว์ทะเลและแหล่งผลิตภัณฑ์จากอาหารทะเล โดยมีบริเวณรอบนอกชุนชนเป็นพื้นที่เกษตรกรรม (ทำสวน) นอกจากนี้ในชุมชนยังมีสินค้าและผลิตภัณฑ์ที่น่าสนใจ เช่น กลุ่มเค้กคลองวาฬใจ ผลิตภัณฑ์ประดับมุก (ไข่มุก) และผลิตภัณฑ์อาหารทะเลปลอดสารพิษ',\n",
              "       'ย่านการค้าถนนท่าแพ เป็นชุมชนตลาด และชุมชนที่อยู่โดยรอบโบราณสถาน เดิมคือหมู่บ้านเชียงเรือก สร้างขึ้นครั้งแรกในรัชสมัยพญามังรายมหาราช เมื่อแรกตั้งเมืองเชียงใหม่ เมื่อปี พ.ศ. 1839 จริง ๆ แล้วในสมัยโบราณ คำว่า \"เชียง\" หมายถึง เวียงหรือเมือง ส่วนคำว่า \"เรือก\" นั้นมีความหมายอีกอย่างหนึ่งว่า \"เรือ\" หรือ \"เฮือ\" ซึ่งหมายถึง พาหนะที่ใช้เดินทางไปมา ทางแม่น้ำ คู คลอง ฝายเหมือง อยู่ใจกลางเมืองเชียงใหม่ ตรงกับประตูท่าแพ ปลายถนนฝั่งตะวันตกคือ ประตูท่าแพ ปลายถนนฝั่งตะวันออกคือ แม่น้ำปิง มีอาคารแถวพาณิชย์อายุ 60 ปี ที่มีคุณค่าทางศิลปะ ทั้งแบบยุโรปและเรือไม้โบราณ เป็นถนนเศรษฐกิจของเชียงใหม่มามากกว่า 100 ปี มีทั้งชาวพม่า ต่องสู้ และชาวจีน ที่ผลัดเปลี่ยนกันเข้ามาอยู่อาศัยตามแต่ละช่วงเวลา ปัจจุบันเป็นย่านการค้าตลอดเส้นทาง เปิดทำการค้าขายในเวลากลางคืนเพื่อเป็นอีกสถานที่ที่นักท่องเที่ยวจะสามารถมาจับจ่ายใช้สอยได้',\n",
              "       'ย่านการค้าถนนวิชยานนท์ เป็นชุมชนตลาด เป็นศูนย์กลางย่านพาณิชยกรรมของเมืองเมื่อคนจีนเข้ามาตั้งถิ่นฐาน และปัจจุบันยังมีวิถีชีวิตของชุมชนเชื้อสายจีน ตลอดจนศาลเจ้าสำคัญหลงเหลืออยู่ มีถนนขนานกับถนนไปรษณีย์และแม่น้ำปิง อยู่ริมแม่น้ำปิงฝั่งตะวันออก มีอาคารเก่าสภาพดีที่ไม่โดนไฟไหม้จากอดีตและมีการรักษาให้อยู่ในสภาพที่ดี เป็นตลาดที่ใหญ่ที่สุดของตัวเมืองเชียงใหม่ เป็นศูนย์รวมสินค้าและของฝากของเมืองเชียงใหม่ เคยโดนไฟไหม้เมื่อปี พ.ศ. 2511 ทำให้บริเวณพื้นที่นี้เสียหายไป ก่อให้เกิดการพัฒนาขึ้นใหม่ แต่วิถีชีวิตการค้าขายยังคงเหมือนเดิม',\n",
              "       'ย่านการค้าถนนเจริญเมืองและย่านสถานีรถไฟ เป็นชุมชนตลาด และชุมชนรอบทางรถไฟ การมาถึงของรถไฟในสมัยก่อน นำชาวจีนจากกรุงเทพฯ เข้ามาตั้งถิ่นฐานทำมาหากินในพื้นที่นี้เป็นจำนวนมาก ก่อนสถาปนาตัวเองเป็นย่านแหล่งรวมสินค้าที่จะส่งลงไปขายที่กรุงเทพฯ โดยเฉพาะพืชผลทางการเกษตรจากอำเภอรอบนอก เช่น ข้าว สุกร ยาสูบ และครั่ง รวมทั้งทำหน้าที่เป็นศูนย์กระจายสินค้าจากกรุงเทพฯ ส่งไปยังส่วนต่าง ๆ ทั้งในเชียงใหม่และเมืองอื่น ๆ ในเขตตอนบน ชุมชนตั้งอยู่ทางทิศตะวันออกของแม่น้ำปิง จากถนนเจริญเมืองปลายตาทางทิศตะวันตกจะเห็นดอยสุเทพเป็นที่หมายตาสำคัญ อาคารแถวไม้สองชั้นและอาคารแถวที่มีลวดลายการประดับตกแต่ง ที่เกิดขึ้นตามการพัฒนาของตลาดและสถานีรถไฟ ปัจจุบันหลงเหลือแต่ในซอย ตามถนนใหญ่จะเป็นอาคารแถวแบบปัจจุบัน เป็นชุมชนพาณิชยกรรมที่เกิดขึ้นตามการพัฒนาของสถานีรถไฟและตลาด ตลาดสันป่าข่อยเป็นตลาดเก่าแก่ที่คนเชียงใหม่รู้ดีว่ามีของกินที่อร่อย โดยเฉพาะเป็นอาหารของคนไทยเชื้อสายจีน',\n",
              "       'ย่านถนนราชมรรคาและถนนสิงหราช เป็นชุมชนตลาด และชุมชนโดยรอบโบราณสถาน แต่เดิมเป็นสถานที่ชุมนุมซื้อขายแลกเปลี่ยนสินค้าของชาวเมือง ตัวย่านตั้งอยู่ในตัวกำแพงเมืองเก่าเชียงใหม่ วัดที่อยู่ในย่านเป็นวัดสำคัญและเก่าแก่ของจังหวัดเชียงใหม่ มีคุณค่าทั้งทางประวัติศาสตร์และสถาปัตยกรรมไทย วัดเจดีย์หลวงมหาวิหารมีเจดีย์ที่สร้างสมัยพระเจ้าแสนเมือง ประมาณ พ.ศ. 1945 กว้าง 60 เมตร วัดสิงห์วรมหาวิหาร ประดิษฐานพระพุทธสิหิงค์ เป็นวัดที่สำคัญในเชียงใหม่ สภาพบ้านเรือนของชุมชนเก่าแก่แทบไม่หลงเหลืออยู่ถูกแทนที่ด้วยการพัฒนาใหม่ ปัจจุบันเป็นย่านการค้าที่ไม่คึกคักมากนัก ส่วนใหญ่เป็นโรงแรมที่พัก และพาณิชยกรรมทั่วไป',\n",
              "       'ย่านสี่แยกตลาดช้างเผือก เป็นชุมชนตลาด แต่เดิมย่านช้างเผือกเป็นที่รวมของชุมชนหลากหลายเชื้อชาติเช่นเดียวกับย่านอื่น ๆ คือ มีทั้งชาวจีน คนเมือง คนไทยใหญ่ และมุสลิม เนื่องจากอยู่นอกกำแพงเมืองและเป็นเส้นทางเข้าสู่ตัวเมืองทางทิศเหนือ ซึ่งเป็นทิศที่กษัตริย์สมัยนั้นต้องมาสักการะสิ่งศักดิ์สิทธิ์ก่อนออกรบ ความหลากหลายของผู้คนเหล่านี้เห็นได้จากศาสนสถานซึ่งเป็นสถานที่ทำบุญของแต่ละชุมชนที่ยังคงอาศัยอยู่จนถึงทุกวันนี้ ชุมชนตั้งอยู่บริเวณรอบ ๆ อนุสาวรีย์ช้างเผือกวงเวียน ถนนเส้นนี้ตรงมาจากกำแพงเมืองเก่าเชียงใหม่บริเวณประตูช้างเผือก ลักษณะกายภาพสำคัญของพื้นที่หลงเหลืออยู่น้อย ได้แก่ อาคารแถวไม้สองชั้นที่อยู่ตามหัวมุมถนน',\n",
              "       'ย่านวัดเกตุ เป็นชุมชนตลาด และชุมชนริมน้ำ เป็นชุมชนย่านการค้าโบราณของชาวจีนและฝรั่ง  มีวัดเกตุการามอยู่ศูนย์กลางระหว่างชุมชน ก่อนหน้าที่รถไฟจะมาถึงเชียงใหม่ ชุมชนแห่งนี้เป็นท่าน้ำที่สำคัญของการเดินทางทางเรือระหว่างกรุงรัตนโกสินทร์ (กรุงเทพฯ) มายังเมืองเชียงใหม่ และเมืองอื่น ๆ ที่อยู่ทางใต้ลงไป เป็นชุมชนเมือง อยู่ด้านฝั่งตะวันออกของแม่น้ำปิง มีอาคารบ้านเรือนที่โดดเด่นด้วยสถาปัตยกรรมเก่าตลอดสองข้างทาง เช่น บ้านอรพินท์ บ้านนิมมานเหมินท์ บ้านสี่เสาหกเสา บ้านคุณารักษ์ บ้านท่าช้าง บ้านเหลี่ยวย่งง้วน ประชากรประกอบอาชีพค้าขาย เป็นแหล่งท่องเที่ยวเชิงอนุรักษ์วัฒนธรรม',\n",
              "       'บ้านดอยปุย เป็นชุมชนเกษตรกรรม และชุมชนชาติพันธุ์ของชาวม้ง ก่อตั้งครั้งแรกเมื่อประมาณ พ.ศ. 2489 หลังสงครามโลกครั้งที่สองผ่านไปหนึ่งปี โดยมีชาติพันธุ์ชาวม้ง อพยพเข้ามาอยู่ก่อน เรียกชื่อหมู่บ้านว่า\"หมู่บ้านปานขมุกปุย\" มีลักษณะภูมิประเทศที่เป็นภูเขาสูงสลับซับซ้อนของเทือกเขาผีปันน้ำตอนบน ยอดเขาที่สำคัญ คือ ดอยสุเทพ ดอยปุย และดอยบวกห้า ยอดเขาเหล่านี้จึงเป็นแหล่งต้นน้ำลำธารที่สำคัญของแม่น้ำปิง ได้แก่ ห้วยแก้ว ห้วยช่างเคี่ยน และห้วยแม่เหียะ เป็นหมู่บ้านที่อยู่ในเขตอุทยานแห่งชาติดอยสุเทพ-ปุย ทำให้เป็นหมู่บ้านที่มีแหล่งท่องเที่ยวหลายแห่งที่เป็นจุดเด่น และพื้นที่ในบริเวณรอบหมู่บ้านประดับด้วยไม้เมืองหนาว ผู้คนส่วนใหญ่ประกอบอาชีพเกษตรกรรม และค้าขายผลิตภัณฑ์ฝีมือของชาวเขา เป็นแหล่งท่องเที่ยวทางธรรมชาติที่สวยงามอีกหนึ่งแห่งของเชียงใหม่',\n",
              "       'ทรายมูลเมือง เป็นชุมชนตลาด และชุมชนโดยรอบโบราณสถาน จากคติความเชื่อ พื้นที่บริเวณนี้เป็นจุดต่ำสุดของตัวเวียง จึงเป็นแหล่งระบายน้ำของตัวเวียงก่อนลงสู่แม่น้ำ และเคยเป็นที่ตั้งถิ่นฐานของชาวพม่า หรือเรียกว่า \"ม่าน\" ชุมชนตั้งอยู่ภายในพื้นที่เทศบาลนครเมืองเชียงใหม่ โดยอยู่ทิศตะวันออกเฉียงใต้สุดด้านในของคลองคูเมือง เป็นชุมชนเมืองซึ่งตั้งอยู่รอบวัดทรายมูลเมือง มีลักษณะอยู่ในซอยเล็ก ๆ ด้านหลังวัดทรายมูลเมือง มีลักษณะเป็นชุมชนเรือนเดี่ยว โดยมีอาคารไม้เก่าตั้งผสมอยู่กับอาคารสมัยใหม่อย่างหนาแน่น ส่วนใหญ่ประกอบอาชีพค้าขาย พาณิชยกรรม โดยเฉพาะร้านอาหาร',\n",
              "       'บ้านวัวลาย เป็นชุมชนตลาด และชุมชนกลุ่มอาชีพเฉพาะ เป็นย่านที่ผลิตและจำหน่ายเครื่องเงิน ภายในวัดมีการโชว์และสอนการทำเครื่องเงิน ไม้ลงรัก เป็นจุดศูนย์กลางของชุมชนย่านนี้ มีลักษณะแบ่งกันทำเป็นชุมชน แต่เดิมอยู่แถววัดนันทาราม ชุมชนปัจจุบันสร้างมาประมาณ 10 ปี แต่ชุมชนเดิมวัดนันทารามอายุรวม 30 ปี ชุมชนจะตั้งอยู่สองฝั่งบนถนนวัวลาย คือ ชุมชนหมื่นสารวัวลาย ชุมชนวัดศรีสุพรรณ และชุมชนนันทาราม โดยอาณาเขตของหมู่บ้านวัวลาย เริ่มต้นตั้งแต่บริเวณตลาดประตูเชียงใหม่ไปทางทิศตะวันตก ติดถนนช่างหล่อและถนนทิพย์เนตร ส่วนทางทิศตะวันออก เริ่มตั้งแต่บริเวณสี่แยกตลาดประตูเชียงใหม่ติดถนนนันทารามไปทางทิศใต้จรดถนนทิพย์เนตร เป็นชุมชนขนาดใหญ่ ลักษณะหมู่บ้านคล้าย ๆ กับหมู่บ้านล้านนาทั่วไป สร้างบ้านเรือนเป็นกลุ่มเกาะตามเส้นทางสัญจรหลัก มีวัดศรีสุพรรณเป็นศูนย์กลางหมู่บ้าน ส่วนใหญ่ประกอบอาชีพทำเครื่องเงินจำหน่าย',\n",
              "       'บ้านฮ่อ เป็นชุมชนตลาด และชุมชนชาติพันธุ์ของชาวจีนยูนนาน มีมัสยิดเป็นศูนย์กลางชุมชน มีเรือนเก่าเป็นของชาวมุสลิมจีน เป็นชุมชนตั้งอยู่ในย่านการค้า เป็นชุมชนที่ตั้งอยู่ย่านการค้าในเขตตัวเมืองเชียงใหม่ บ้านเรือนส่วนใหญ่เป็นรูปแบบอาคารพาณิชย์สมัยใหม่ มีเพียงส่วนพื้นที่ตลาดค้าขายบริเวณด้านหลังมัสยิดบ้านฮ่อ ซึ่งเป็นสถานที่ขายสินค้าของกลุ่มชาติพันธุ์ชาวเขา โดยมีอาคารเก่าตั้งอยู่ในบริเวณนี้ประชากรส่วนใหญ่ประกอบอาชีพค้าขาย',\n",
              "       'พวกแต้ม เป็นชุมชนกลุ่มอาชีพเฉพาะ คือ อาชีพทำคัวตองเป็นงานโลหะ เพื่อใช้ประดับวัดแบบล้านนา ตั้งอยู่ในเขตคูเมืองโบราณ ก่อตั้งมากว่า 300 ปี ปัจจุบันคือ ชุมชนพวกแต้มสามัคคี มีจำนวน 70-80 หลังคาเรือน เป็นชุมชนที่อยู่รอบ ๆ วัดพวกแต้ม บริเวณเขตคูเมืองเชียงใหม่อาศัยลานวัดในการรวมกลุ่มทำคัวตอง โดยมีวัดเป็นศูนย์กลางของชุมชน ประกอบด้วย ส่วนพิพิธภัณฑ์ และส่วนทำงานประเภทงานโลหะ และกระจายงานไปแต่ละบ้านในชุมชน',\n",
              "       'บ้านช่างเคี่ยน เป็นชุมชนเกษตรกรรม และชุมชนชาติพันธุ์ของชาวม้ง โดยเริ่มจากชาวม้งที่อพยพลี้ภัยมาจากประเทศจีนและมีถิ่นอาศัยอยู่ในละแวกดอยปุย เข้ามาทําไร่ทําสวนในบริเวณลำห้วยช่างเคี่ยน นับถือศาสนาคริสต์นิกายโปรเตสแตนท์ และนิกายคาทอลิก เป็นหมู่บ้านที่ตั้งอยู่บนเนินเขาและที่ระหว่างหุบเขาลดหลั่นกันลงมา โดยหน้าบ้านหันตามทิศทางการลาดลงของภูเขา มีสภาพอากาศเย็นตลอดทั้งปี ช่วงฤดูหนาวมีจะหมอกหนาจัดและอากาศหนาวเย็นมาก อยู่ในเขตอุทยานแห่งชาติสุเทพ-ปุย นิยมปลูกบ้านติดพื้นดิน และอยู่ใกล้กันเป็นกลุ่มเครือญาติ มีลักษณะรูปแบบบ้านชาวเขา ปลูกพืชเศรษฐกิจเมืองหนาว เช่น กาแฟ ลิ้นจี่ ท้อ เป็นแหล่งท่องเที่ยวชมต้นพญาเสือโคร่ง',\n",
              "       'ย่านการค้าสี่แยกอำเภอดอยสะเก็ด เป็นชุมชนตลาด ตั้งอยู่ในส่วนที่เป็นเทือกเขายาวกั้นระหว่างแอ่งอารยธรรม 2 แอ่ง คือ แอ่งอารยธรรมลุ่มแม่น้ำกก-อิง และแอ่งอารยธรรมลุ่มน้ำกวง – ปิง เมื่อพญาเม็งรายรวมแอ่งอารยธรรมทั้งสองเข้าเป็นอาณาจักรล้านนา ในปี พ.ศ. 1839 ดอยสะเก็ดจึงอยู่กึ่งกลางระหว่าง 2 แอ่งอารยธรรม และมีพัฒนาการร่วมกับอาณาจักรล้านนามาตั้งแต่เริ่มต้น ชุมชนตั้งอยู่บริเวณสี่แยก ลักษณะเป็นทางลาดชันเล็กน้อย (เชิงเขาขึ้นสู่ดอยสะเก็ด) มีอาคารเรือนแถวไม้สองชั้นตามหัวมุมถนน อาคารไม้ยังคงมีลักษณะเดิม ภายนอกไม่มีการเปลี่ยนแปลง อยู่เกาะกลุ่มประมาณ 8-9 หลัง เป็นชุมชนพาณิชยกรรม เป็นการค้าขายที่คึกคัก บริเวณอาคารเก่ายังไม่มีการใช้ประโยชน์ทางกิจกรรมที่เต็มศักยภาพเทียบเท่ากับอาคารใหม่ที่เกิดขึ้น',\n",
              "       'บ้านปางบง เป็นชุมชนเกษตรกรรม และชุมชนชาติพันธุ์ของชาวลัวะซึ่งเป็นคนพื้นเมือง มีอาชีพรับจ้างเก็บเมี่ยงได้เข้ามาตั้งถิ่นฐานอยู่ในบ้านปางบงจนถึงปัจจุบัน ประกอบด้วย 4 กลุ่มบ้าน ได้แก่ บ้านปางสูง บ้านปางบง บ้านห้วยมะเกลี้ยง และบ้านกิ่วต่ำ พื้นที่ส่วนใหญ่ของบ้านปางบงเป็นที่ราบเชิงเขา ลักษณะเป็นดินภูเขา ดินหินปนทราย บ้านปางบง มีน้ำใช้ตลอดทั้งปี ทางทิศตะวันออกของหมู่บ้านมีป่าต้นน้ำพื้นที่ประมาณ 600 ไร่ ลักษณะเป็นป่าดิบเขา ภายในหมู่บ้านมีถนนลาดยางเป็นถนนหลักเส้นเดียวในการสัญจรของคนในหมู่บ้าน บ้านเรือนส่วนใหญ่เป็นบ้านไม้สองชั้น มีหลายหลังที่เป็นรูปแบบที่ทันสมัยมากขึ้น ประชากรประกอบอาชีพปลูกเมี่ยง กาแฟ และรับจ้างทั่วไป',\n",
              "       'ตลาดสันทราย เป็นชุมชนตลาด เดิมมีลักษณะเป็นเนินทราย เนื่องจากแม่น้ำปิงกับแม่น้ำคาวได้ไหลมาในฤดูฝน และนำทรายมาทับถมบริเวณนี้ทุกปี จนเป็นเนินทรายขนาดใหญ่ ดังนั้นทางราชการได้กำหนดพื้นที่บริเวณนี้เป็นอำเภอจึงตั้งชื่อว่า \"อำเภอสันทราย\" ชุมชนตั้งอยู่บนถนนสาย 1001 มีอาคารเรือนไม้เก่าตั้งอยู่ประปรายเป็นระยะ ลักษณะของชุมชนมีการพัฒนาตามเส้นทางของถนนที่เกิดขึ้น มีวัดสันทรายหลวงเป็นศูนย์กลาง ประชาชนมีกิจกรรมการค้าขายทั่วไป',\n",
              "       'บ้านสันป่าสัก เป็นชุมชนตลาด เกิดจากการแยกตัวออกมาจากบ้านท่าเกวียน ซึ่งแต่เดิมนั้นมีแม่น้ำที่เป็นต้นน้ำหลายหมู่บ้านในเขตตำบลเมืองเล็น ตำบลป่าไผ่ และผ่านตำบลหนองจ๊อมลงไปสู่แม่น้ำแม่คาว แต่เดิมที่บนสันจะมีไม้สักอยู่มาก จึงเรียกวัดและบ้านนี้ว่า \"วัดสันป่าสัก\" ลักษณะภูมิประเทศ ส่วนใหญ่เป็นพื้นที่ราบลุ่มน้ำปิงมีลำน้ำแม่คาวไหลผ่าน เหมาะแก่การเพาะปลูก แต่สภาพปัจจุบันของชุมชนส่วนใหญ่กลายเป็นที่อยู่อาศัย ภายในชุมชนแทบไม่เหลือลักษณะทางกายภาพให้เห็น โดยถูกแทนที่ด้วยที่อยู่อาศัยใหม่ ยังคงมีที่นาเกษตรของคนพื้นที่อยู่บ้าง เดิมพื้นที่ส่วนใหญ่เป็นพื้นที่นา แต่ปัจจุบันบางส่วนได้กลายเป็นของนายทุน เป็นหมู่บ้านจัดสรรและมีสภาพเป็นสังคมเมืองมากขึ้น',\n",
              "       'ตลาดสันกำแพง เป็นชุมชนตลาด พื้นที่ของทั้งตำบลสันกำแพงเป็นแหล่งอารยธรรมเก่าแก่ เป็นดินแดนที่มีผู้คนอาศัยหาเลี้ยงชีวิตมานานนับพันปี จากการสำรวจพบหลักฐานทางโบราณคดีของนักวิชาการไม่ว่าจะเป็นโครงกระดูกมนุษย์ และสิ่งของเครื่องใช้ เช่น หอก เหล็ก เครื่องเคลือบ มีลักษณะภูมิประเทศเป็นที่ราบ มีแม่น้ำหรือคลองเล็ก ๆ หลายสายไหลผ่าน เป็นชุมชนเรือนแถวผสมกับเรือนเดี่ยว มีการใช้งานและการสัญจรหนาแน่น ชุมชนเกาะตัวเป็นแนวยาวตามถนน อาคารตามถนนในซอยส่วนมากเป็นเรือนเดี่ยวใช้งานเป็นที่อยู่อาศัย อาคารเรือนแถวตามถนนสายหลักใช้งานเป็นร้านค้า พาณิชยกรรม เป็นแหล่งหัตถกรรมที่มีชื่อเสียงของเชียงใหม่ เช่น ผ้าทอเครื่องเขิน ไม้แกะสลัก และเครื่องเงินตีแผ่นแร่ ชึ่งทำกันมากในบ้านป่าสักขวาง ปัจจุบันมีตลาดถนนคนเดินซึ่งมีชื่อเสียง และเป็นแหล่งท่องเที่ยวนอกตัวเมืองจังหวัดเชียงใหม่ มีร้านค้าและสินค้าหลายรูปแบบเพื่อตอบรับการท่องเที่ยว',\n",
              "       'บ้านปงไหว เป็นชุมชนเกษตรกรรม ชุมชนความทรงจำ และชุมชนโดยรอบโบราณสถาน เป็นหมู่บ้านที่มีการพบซากโบราณสถานจำนวนมาก สันนิษฐานว่าจะเกิดขึ้นในช่วงยุคสมัยวอเตอร์เวิร์ด เป็นยุคของการสะสมตะกอนโคลนตมผ่านกาลเวลามาช้านานนับพันปี จึงทำให้เกิดสภาวะ \"ปงไหว\" ซึ่งภาษาล้านนา หมายถึง เขตดินพรุ เป็นที่ชุ่มน้ำ มักเกิดในแหล่งชุ่มชื้น หรือเขตป่าไม้ที่อุดมสมบูรณ์ เมื่อเดินหรือขย่ม ผิวดินจะสะเทือนไหวได้ มีลักษณะภูมิประเทศเป็นป่าหนาทึบ ในปัจจุบันกลายเป็นพื้นที่ป่าชุมชน ในบริเวณชุมชนพบพระธาตุและบ่อน้ำเก่าแก่ตั้งอยู่ และมีบริเวณลานจักจั่นข่วงเจิง ที่คนสมัยก่อนใช้ฝึกซ้อม เจิง หรือศิลปะป้องกันตัวเชิงมวยและเชิงรบ บ้านเรือนบางส่วนยังเป็นรูปแบบเก่า ผู้คนส่วนใหญ่มีอาชีพรับจ้างทั่วไป ค้าขาย นอกจากนี้ ชุมชนยังเป็นแหล่งท่องเที่ยวเชิงนิเวศ เพื่อชมความมหัศจรรย์ของป่าพรุ (ป่าดินดูด)',\n",
              "       'ตลาดสันป่าตอง เป็นชุมชนตลาด ชื่อชุมชนมาจากป่าต้นตองหรือชื่อเดิมคือ ต้นทองหลาง ซึ่งเป็นไม้พุ่มขนาดใหญ่อยู่เป็นจำนวนมากในพื้นที่ชุมชนตั้งอยู่บนพื้นที่ราบ ล้อมรอบด้วยพื้นที่นาและสวนขนาดใหญ่ในบริเวณที่ไม่ได้อยู่ติดถนน มีลักษณะเป็นชุมชนเรือนเดี่ยว มีทั้งเรือนไม้เก่าและเรือนคอนกรีตสมัยใหม่  ส่วนมากมีการใช้งานอยู่อาศัย อาคารตั้งใกล้ชิดเชื่อมต่อกัน ตั้งรวมตัวกันอยู่ในโครงข่ายถนนสายย่อย โดยมีถนนสายหลักขนาด 4 เลน ที่สร้างขนาบกับคลองตัดผ่านชุมชน ผู้คนในชุมชนมีอาชีพหลักในการทำการเกษตร รับจ้าง ค้าขาย และรับราชการ มีอาชีพเสริมที่มีชื่อเสียงคือผลิตภัณฑ์ของกลุ่มแม่บ้าน ผลิตภัณฑ์แกะสลัก ผลิตภัณฑ์กระดาษสา ผลิตภัณฑ์ผลิตเสื้อผ้า',\n",
              "       'บ้านทุ่งเสี้ยว เป็นชุมชนตลาด ซึ่งเป็นชุมชนโบราณในแอ่งที่ราบเชียงใหม่-ลำพูน พื้นที่โดยรอบเป็นแหล่งปลูกข้าว จึงเป็นอู่ข้าวอู่น้ำที่สำคัญมาแต่โบราณ นับตั้งแต่สมัยหริภุญไชยจนมาถึงสมัยพญามังราย ซึ่งมีระบบเหมืองฝายที่ได้ใช้ต่อ ๆ กันมาตั้งแต่โบราณ ลักษณะภูมิประเทศของชุมชนมีสภาพพื้นที่เป็นที่ราบดินเหนียว ดินเหนียวร่วนปนทราย และดินทราย มีลำน้ำขานไหลผ่านเขตชุมชนจากทิศเหนือไปยังทิศใต้ซึ่งเป็นที่ราบ เป็นชุมชนใหญ่ ตั้งอยู่ริมแม่น้ำแม่ขาน ลักษณะอาคารส่วนมากเป็นเรือนไม้เดี่ยว มีอายุเก่าแก่และมีอาคารสมัยใหม่ผสมผสาน มีความสูงของอาคารไม่เกิน 2-3 ชั้น ชุมชนตั้งถิ่นฐานเป็นกลุ่มหนาแน่นบริเวณสองฟากทางหลวงแผ่นดิน เนื่องจากเป็นชุมชนโบราณในแอ่งที่ราบเชียงใหม่ – ลำพูน พื้นที่โดยรอบเป็นแหล่งปลูกข้าว จึงเป็นอู่ข้าวอู่น้ำที่สำคัญมาแต่โบราณ ปัจจุบันชาวชุมชนประกอบอาชีพทำนาและทำสวน มีอาชีพค้าขายเป็นส่วนใหญ่',\n",
              "       'บ้านต้นแหนน้อย เป็นชุมชนเกษตรกรรม และเป็นชุมชนชาติพันธุ์ของชาวไทเขิน มีอายุหลายร้อยปี จากเดิมมีอาชีพทำนาแล้วเปลี่ยนมาทำสวนลำไย ปัจจุบันยังคงใช้ภาษาไทเขิน ตลอดจนยังมีวัฒนธรรมไทยเขินอยู่ ชุมชนตั้งอยู่บริเวณเกาะแม่น้ำขาน ลักษณะเป็นที่ราบลุ่มมีแม่น้ำขานและแม่น้ำวางไหลผ่านทุ่งนา มีสภาพพื้นดินเหมาะแก่การทำเกษตรกรรมเพาะปลูก รวมทั้งมีป่าสักโดยเฉพาะบ้านต้นแหนน้อยที่มีมากที่สุด มีจำนวนบ้านเรือนกว่า 200 หลังคาเรือน โดยยังมีเอกลักษณ์ของเรือนแบบไทเขิน โดยมีการวางเรือนในลักษณะวางขวางตะวันตามแกนเหนือ-ใต้ มีลำเหมืองไหลผ่านไปทางทิศใต้ มีการจัดตั้งเสื้อบ้านอยู่ใจกลางหมู่บ้าน และมีการตั้งเกาะกันเป็นกลุ่มเครือญาติ ผู้คนในชุมชนมีอาชีพเกษตรกรรม คือ ทำสวนลำไย ค้าขาย และอุตสาหกรรมในครัวเรือน',\n",
              "       'ตลาดรอบสถานีรถไฟสารภี เป็นชุมชนตลาด และชุมชนรอบทางรถไฟ จากประวัติของวัดแสนหลวงที่ตั้งอยู่ใกล้กับชุมชนสถานีรถไฟสารภี ระบุว่า พระเจ้ากาวิละและพญาจ่าบ้าน ได้นำทัพของพระเจ้าตากสินมาบุกตีเมืองคืนจากพม่าจนสำเร็จ แต่อยู่อย่างไม่สงบสุข เพราะขาดแคลนเสบียงอาหารและมีพม่ายกทัพมารบกวน จึงอพยพหนีลงมาอยู่ในพื้นที่นี้ตั้งแต่ปี พ.ศ. 2317 และเริ่มก่อสร้างแสนหลวงในปี พ.ศ. 2338 ชุมชนตั้งอยู่ทางใต้ของเทศบาลนครเชียงใหม่ มีลักษณะเป็นที่ราบ มีถนนตัดผ่านทั่วถึง มีสวนยาง และนาข้าวขึ้นแซมอยู่ตามที่ดินที่ไม่มีถนนตัดผ่าน มีลักษณะเป็นชุมชนเมือง มีเรือนไม้เดี่ยวจำนวนมากอยู่ในสภาพดี มีการปรับปรุงอาคารใช้งานเป็นร้านค้าโดยรอบริมถนนขนาด 2 เลน มีต้นยางนาสูงใหญ่จำนวนมากขึ้นอยู่ตามทาง ตามซอยย่อย ใช้งานเป็นย่านที่อยู่อาศัย',\n",
              "       'เวียงกุมกาม เป็นชุมชนเกษตรกรรม ชุมชนความทรงจำ และชุมชนโดยรอบโบราณสถาน คือ เป็นเมืองโบราณที่พญามังราย (พ่อขุนเม็งราย) ทรงโปรดเกล้าฯ ให้สร้างขึ้นเมื่อ พ.ศ. 1829 โดยให้ขุดคูเวียงทั้ง 4 ด้าน เพื่อไขน้ำแม่ปิงให้ขังไว้ในคูเวียงมีแม่น้ำปิงเป็นแม่น้ำสายสำคัญ โดยมีต้นน้ำอยู่ที่ดอยถ้วย อำเภอเชียงดาว จังหวัดเชียงใหม่ มีลักษณะภูมิประเทศ เป็นแอ่งที่ราบเชียงใหม่-ลำพูน (แอ่งที่ราบใหญ่ที่สุดของภาคเหนือ) มีแม่น้ำปิงเป็นแม่น้ำสายสำคัญ โดยมีต้นน้ำอยู่ที่ดอยถ้วย อำเภอเชียงดาว จังหวัดเชียงใหม่ เป็นชุมชนรอบพื้นที่ส่วนโบราณสถาน ซึ่งเป็นเมืองเวียงกุมกามในอดีต ภายในชุมชนมีการจัดการท่องเที่ยวชุมชนโบราณสถานเวียงกุมกาม',\n",
              "       'บ้านวัดจันทร์ เป็นชุมชนเกษตรกรรม และชุมชนชาติพันธุ์ของกะเหรี่ยง (ปกาเกอะญอ) ในอดีตพบซากโบราณสถานจำนวนมาก สันนิษฐานว่า อาจเคยเป็นวัดร้างเก่ามาก่อน ปัจจุบันเป็นแหล่งเที่ยวชมป่าสน 7 สี มีแหล่งน้ำที่สำคัญคือ ห้วยแจ่มหลวง ห้วยฮ้อม ห้วยแม่อุบ ห้วยนาเกล็ดหอย และห้วยยาเป็นแหล่งต้นน้ำ ประชากรเป็นชาวกะเหรี่ยง (ปกาเกอะญอ) นับถือศาสนาพุทธ ชุมชนตั้งอยู่ในพื้นที่บ้านเด่น สภาพพื้นที่ส่วนใหญ่เป็นภูเขาสลับซับซ้อน มีความลาดชันสูงกว่าร้อยละ 35 มีที่ราบแคบ ๆ ตามหุบเขา พื้นที่ดินเป็นดินร่วนปนทราย มีถนนลาดยางตัดผ่านหมู่บ้าน บ้านเรือนบางส่วนยังคงเป็นแบบดั้งเดิม เป็นลักษณะเรือนแบบยกพื้นสูง บางหลังมีชานบ้านผสมกับรูปแบบสมัยใหม่ ตั้งอยู่กระจายตัวโดยรอบชุมชน เป็นแหล่งท่องเที่ยวศูนย์พัฒนาโครงการหลวงวัดจันทร์ (แหล่งท่องเที่ยวป่าสนที่ใหญ่ที่สุดในประเทศไทย)',\n",
              "       'บ้านผาหมอน เป็นชุมชนเกษตรกรรม และชุมชนชาติพันธุ์ของชาวกะเหรี่ยง (ปกาเกอะญอ) ก่อตั้งมาประมาณมากกว่า 136 ปี ตั้งอยู่ไม่ไกลจากบ้านแม่กลางหลวง ดอยอินทนนท์ มีภูมิปัญญาท้องถิ่น เรื่องการทำจักสานภาชนะไม้ไผ่ เช่น ทอ ครุ โป่ (ภาชนะจักสานทรงสูง ใช้บรรจุเสื้อผ้าของชาวกะเหรี่ยง) ทำแปลงเกษตรปลอดสารพิษ เป็นหมู่บ้านขนาดกลางตั้งอยู่กลางหุบเขาล้อมรอบ ตั้งอยู่ไม่ไกลจากบ้านแม่กลางหลวง ดอยอินทนนท์  มีถนนทางหลวงแผ่นดิน จอมทอง-ดอยอินทนนท์ตัดผ่าน บ้านเรือนเป็นรูปแบบวัฒนธรรมกะเหรี่ยง ปลูกโดยยกพื้นสูง ตั้งอยู่กระจายตามไร่นา ผู้คนในชุมชนประกอบอาชีพเกษตรกรรม (แปลงเกษตรปลอดสารพิษ) และจักสานภาชนะไม้ไผ่',\n",
              "       'บ้านแม่กลางหลวง เป็นชุมชนเกษรกรรม ชุมชนริมน้ำ และชุมชนชาติพันธุ์ของชาวกะเหรี่ยง (ปกาเกอะญอ) ซึ่งอพยพมาจากประเทศพม่า ชุมชนตั้งอยู่บนที่ราบสูง แวดล้อมด้วยป่าไม้อุดมสมบูรณ์ ตัวชุมชนอยู่บนที่ราบสูง แวดล้อมด้วยป่าไม้อุดมสมบูรณ์ มีแม่น้ำแม่กลางไหลผ่าน และลำห้วยระบบหมุนเวียนมีถนนทางหลวงแผ่นดิน จอมทอง-ดอยอินทนนท์ตัดผ่าน เส้นทางรอบหมู่บ้านมีลักษณะเป็นวงกลม มีบ้านเรือนตั้งอยู่ 2 ข้างทาง มีแม่น้ำแม่กลางไหลผ่าน และลำห้วยระบบหมุนเวียน มีศูนย์บริการนักท่องเที่ยวตั้งอยู่บริเวณปากทางเข้าหมู่บ้าน เป็นหมู่บ้านท่องเที่ยวเชิงอนุรักษ์ ประชากรประกอบอาชีพเกษตรกรรม และเพาะเลี้ยงกุ้งก้ามกรามในนาข้าวแบบธรรมชาติ มีการทำนาขั้นบันได ซึ่งเป็นการแสดงให้เห็นภูมิปัญญาของชาวบ้านในการใช้พื้นที่และการจัดการน้ำ',\n",
              "       'บ้านถ้ำ เป็นชุมชนเกษตรกรรม ชุมชนความทรงจำ และชุมชนชาติพันธุ์ของชาวพื้นเมือง กะเหรี่ยง ลีซู และไทใหญ่ เป็นหมู่บ้านท่ามกลางภูเขา เป็นแหล่งต้นน้ำบนดอยหลวง มีตำนานเจ้าหลวงคำแดงแห่ง เชียงดาว และแม่นางดอยหล้าแห่งดอยนาง พื้นที่ที่ใช้ปลูกที่อยู่อาศัยเป็นบริเวณเนินของภูเขาหินปูน โดดเด่นในด้านภูมิปัญญาท้องถิ่น การใช้สมุนไพร ใช้ภาษาพื้นเมืองล้านนา ภาษาไทยกลาง มีการตั้งบ้านเรือนอยู่ 2 ข้างถนนหลักของหมู่บ้าน บ้านเรือนส่วนใหญ่เป็นบ้านไม้ 2 ชั้นยกพื้นสูง มีศูนย์เรียนรู้ภูมิปัญญาสมุนไพรพื้นบ้านและเป็นสถานที่ปฏิบัติธรรม มีถ้ำเชียงดาวเป็นแหล่งท่องเที่ยวเชิงอนุรักษ์และวัฒนธรรม ผู้คนในชุมชนมีอาชีพทำนา ทำสวน ปลูกสมุนไพร จักสาน และค้าขาย (OTOP สมุนไพร)',\n",
              "       'บ้านปางแดง เป็นชุมชนเกษตรกรรม และฃุมฃนชาติพันธุ์ของปะหล่องที่อพยพมาจากประเทศพม่า นับถือผีบรรพบุรุษและนับถือศาสนาพุทธ ชุมชนตั้งอยู่บริเวณที่ราบเชิงเขา เป็นที่ลุ่มน้ำและที่ลาด มีถนนกลางหมู่บ้าน บ้านเรือนส่วนใหญ่ยังคงเป็นรูปแบบดั้งเดิมแบบชาวปะหล่อง คือยกพื้นสูง มีชานเรือน และใช้วัสดุธรรมชาติ ในพื้นที่บริเวณบ้านจะมีพื้นที่เลี้ยงสัตว์และเก็บพืชไร่ ภายในชุมชนเป็นพื้นที่โครงการหลวง และเป็นแหล่งอนุรักษ์ป่าเบญจพรรณและป่าเต็งรัง ประชากรประกอบอาชีพเกษตรกรรม ทำไร่ข้าวโพด',\n",
              "       'บ้านขอบด้ง เป็นชุมชนเกษตรกรรม และชุมชนชาติพันธุ์ของชาวลาหู่ที่อพยพมาจากประเทศพม่า ถิ่นฐานเดิมอาศัยอยู่บริเวณสันเขาบ้านหลวง เหตุที่ต้องอพยพย้ายถิ่นเนื่องจากเกิดโรคระบาดขึ้น ประกอบกับถูกชาวจีนฮ่อ ว้า และไทใหญ่รุกรานจึงย้ายถิ่นฐานไปเรื่อย และมาสิ้นสุดที่บ้านขอบด้งปัจจุบัน สภาพทั่วไปของหมู่บ้านเป็นภูเขาสูง มีลักษณะเป็นดินปนหิน สภาพอากาศหนาวเย็นมากจน มีหมอกปกคลุม ช่วงฤดูหนาวมีฝนตกติดต่อกันเป็นเวลานานหลายเดือน มีการสร้างบ้านรวมกันเป็นกลุ่ม วัสดุที่ใช้เป็นไม้ไผ่ผสมกับไม้ที่หาตัดได้ในป่าชุมชน หลังคามุงด้วยหญ้าคา นิยมเลี้ยงสัตว์ไว้ใต้ถุน การประกอบอาชีพ แบ่งออกเป็น 2 ด้าน คือ เกษตรกรรม (การทำนา เพาะปลูกพืชผัก) และศิลปหัตถกรรม (งานฝีมือที่ทำจากหวายและไม้ไผ่)',\n",
              "       'บ้านยาง เป็นชุมชนเกษตรกรรม ชุมชนตลาด และชุมชนชาติพันธุ์ของชาวจีนยูนนาน (จีนฮ่อ) ที่อพยพเข้ามายังประเทศไทยในช่องทางดอยอ่างขาง (ปัจจุบันคือบ้านหลวง) และจากนั้นได้ย้ายถิ่นฐานลงมาที่บ้านยางเมื่อปี พ.ศ. 2497 เป็นชุมชนที่มีวัฒนธรรมที่โดดเด่น และสามารถอยู่ร่วมกันอย่างสันติ แม้ว่าจะมีหลายหลายศาสนา เป็นแหล่งท่องเที่ยวเชิงวัฒนธรรมชุมชนชาวจีน ยูนนาน (จีนฮ่อ) มีลักษณะภูมิประเทศเป็นพื้นที่ราบเชิงเขา เนื้อที่ชุมชนทั้งหมด 1,750 ไร่ มีแม่น้ำฝางไหลผ่านทางทิศตะวันตกเพื่อทำการเกษตร มีซุ้มประตูทางเข้าหมู่บ้านที่โดดเด่นและสวยงาม นิยมสร้างบ้านประตูสูง มีรั้วเพื่อแสดงอาณาเขต บ้านเรือนส่วนใหญ่เป็นรูปแบบสมัยใหม่ ในชุมชนมีพิพิธภัณฑ์โรงงานหลวงที่ 1 (ฝาง) เพื่อให้เป็นแหล่งเรียนรู้ทางประวัติศาสตร์ของบ้านยาง โดยพัฒนาให้เป็นศูนย์การเรียนรู้ในรูปแบบของพิพิธภัณฑ์ที่มีชีวิต ผู้คนในชุมชนประกอบอาชีพเกษตรกรรม ทำสวน และค้าขาย เป็นแหล่งท่องเที่ยวชุมชนยั่งยืนเชิงวัฒนธรรม',\n",
              "       'บ้านกองแขก เป็นชุมชนเกษตรกรรม และชุมชนตลาด เป็นชุมชนเก่าแห่งหนึ่งของแม่แจ่ม เป็นที่รวมของกลุ่มชาวบ้านที่อพยพมาจากที่ต่าง ๆ เช่น ชาวแม่พริกจังหวัดลำปาง ชาวเชียงแสน จังหวัดเชียงราย ชาวเชียงคำ จังหวัดน่าน ลักษณะภูมิประเทศ เป็นที่ราบสูงและภูเขาขรุขระทั่วบริเวณ บริเวณรอบ ๆ ชุมชนใช้ทำนาและสวนเป็นส่วนมาก ห่างออกไปเป็นพื้นที่ป่าตามธรรมชาติขนาดใหญ่ มีลักษณะเป็นชุมชนเรือนเดี่ยว เกาะตัวอยู่ตามถนนขนาด 2 เลน มีความลาดชันสูง ลักษณะอาคารเก่าเป็นเรือนไม้ บางเรือนมีการปรับปรุงซ่อมแซมด้วยคอนกรีต มีโรงเรียนบ้านกองแขก และวัดกองแขกเป็นศูนย์กลางชุมชน สร้างเมื่อปี พ.ศ. 2440 และได้พระราชทานวิสุงคามสีมา เมื่อวันที่ 21 พฤศจิกายน 2532 ผู้คนในชุมชนมีอาชีพทำนา และทำไร่เป็นหลัก',\n",
              "       'บ้านแม่สาใหม่ เป็นชุมชนเกษตรกรรม และชุมชนชาติพันธุ์ของชาวม้ง โดยชุมชนบ้านแม่สา มีการตั้งถิ่นฐานในแถบนี้มานานกว่า 150 ปี ในอดีตก่อนสงครามโลกครั้งที่ 2 มีชาวเขาเผ่าม้งอพยพมาตั้งถิ่นฐานอยู่ที่ต้นน้ำแม่สา ต่อมาได้ย้ายมาตั้งถิ่นฐานที่หมู่บ้านแม่สาใหม่ในปัจจุบัน ซึ่งเดิมทีเป็นที่นาของนายชงเปา แซ่เฒ่า เมื่อประมาณ ปี พ.ศ. 2508 ลักษณะภูมิประเทศตั้งอยู่ที่ระดับความสูง 1,200 เมตรจากระดับน้ำทะเล เป็นที่ราบเชิงเขา พื้นที่หมู่บ้านอยู่ในเขตอุทยานฯ เป็นหมู่บ้านที่ใหญ่ที่สุดในตำบลโป่งแยง บ้านเรือนส่วนใหญ่เป็นรูปแบบดั้งเดิม โดยตั้งกระจายอยู่ตามลาดเขาและกระจุกตัวเป็นจุด ๆ ส่วนบ้านเรือนสมัยใหม่จะตั้งอยู่ริมถนนที่เชื่อมกับถนนหลวงเข้าสู่ตัวหมู่บ้านผู้คนในชุมชนประกอบอาชีพเกษตรกรรมเพาะปลูกลิ้นจี่ ซาโยเต้ (ฟักแม้ว) ฯลฯ และการแปรผลผลิตทางการเกษตร',\n",
              "       'บ้านแม่กำปอง เป็นชุมชนเกษตรกรรม และชุมชนริมน้ำ บรรพบุรุษมีเชื้อสายไทยล้านนา ประกอบอาชีพหลักคือ ทำเมี่ยง (ชา) หมู่บ้านตั้งขึ้นอย่างเป็นทางการเมื่อ พ.ศ. 2457 บริเวณลำห้วยตลอดแนวหมู่บ้านมีต้นดอกกำปองขึ้นตลอดทาง ชาวบ้านจึงนำมาตั้งเป็นชื่อหมู่บ้าน ลักษณะภูมิประเทศโดยรอบหมู่บ้านเป็นภูเขาสูงชัน จึงมีแค่ 2 ฤดูกาล คือ ฤดูฝนกับฤดูหนาว และสามารถปลูกพืชเมืองหนาวได้ทุกชนิด มีการสร้างบ้านเรือนอยู่บริเวณไหล่เขาด้านทิศตะวันออกตามสองข้างถนนหลักของหมู่บ้าน บริเวณหมู่บ้านส่วนใหญ่เป็นป่าดิบชื้นและป่าดิบแล้ง บ้านเรือนเป็นรูปแบบสถาปัตยกรรมเก่าโบราณลักษณะเป็นของภาคเหนือเป็นไม้เก่าทั้งหลัง ผู้คนในชุมชน มีการทำไร่เมี่ยง การจัดการท่องเที่ยว และกิจกรรมเดินป่าโดยชุมชน และกิจกรรมที่พักโฮมสเตย์',\n",
              "       'เวียงแหง เป็นชุมชนเกษตรกรรม ชุมชนความทรงจำ และชุมชนชาติพันธุ์ของชาวไทใหญ่ ไทลื้อ กะเหรี่ยง มูเซอ ประโอ ปะหล่อง และมีคนพื้นเมืองเดิมอยู่ร่วมกัน หมู่บ้านเป็นที่ตั้งของเมืองโบราณมาแต่เดิม และมีประเพณีวัฒนธรรมเก่าแก่ นอกจากนี้ ในอดีตยังเป็นเส้นทางเดินทัพของสมเด็จพระนเรศวรมหาราช บริเวณที่ตั้งมีลักษณะเป็นเมืองโบราณมีคูเมืองล้อมรอบ ลักษณะเป็นที่ราบและที่ราบเชิงเขาทิศเหนือติดต่อกับประเทศพม่า บ้านเรือนส่วนใหญ่เป็นลักษณะไม้ชั้นเดียวยกใต้ถุนสูง มีวัดเวียงแหนเป็นศูนย์รวมจิตใจของคนในหมู่บ้าน ถนนเข้าสู่หมู่บ้านเป็นถนนลาดยางตลอดสาย ผู้คนในชุมชนมีอาชีพ ทำนา ทำไร่ ค้าขาย น้ำพริกลาบซึ่งเป็นสินค้า OTOP ส่งออกของหมู่บ้าน',\n",
              "       'บ้านต้นเกว๋น เป็นชุมชนเกษตรกรรม และชุมชนความทรงจำ ตั้งอยู่บนเส้นทางโบราณของเจ้าเมืองเชียงใหม่โดยชาวบ้านใช้เส้นทางนี้ในการเดินขบวนแห่อัญเชิญพระบรมสารีริกธาตุ โดยอายุของการก่อตั้งบ้านต้นเกว๋นเก่าแก่มากกว่า 150 ปี ชื่อต้นเกว๋น มาจากชื่อของตะขบป่าที่มีมากในบริเวณนั้น ชุมชนตั้งอยู่บนถนนสายหางดง –สะเมิง ห่างจากตัวเมืองประมาณ 8 กิโลเมตร ตลอดคลองชลประทาน แม่แตง ในพื้นที่มีต้นตะขบป่าจำนวนมาก บ้านเรือนแต่ละหลังมีรั้วล้อมรอบ และมีรูปแบบเป็นศิลปะล้านนา มีวัดต้นเกว๋น (อินทราวาส) เป็นวัดประจำหมู่บ้านมีความสวยงามและโดดเด่นตามแบบศิลปกรรมล้านนา ซึ่งมีประติมากรรมทางวัฒนธรรมที่งดงามและมีประวัติอันยาวนานตั้งแต่สมัยพระเจ้าตากสินมหาราช ขึ้นทะเบียนเป็นโบราณสถานของชาติ และเป็นศูนย์รวมจิตใจของคนในชุมชน ประชากรส่วนใหญ่ประกอบอาชีพรับจ้างทั่วไป',\n",
              "       'บ้านทุ่งยาว เป็นชุมชนเกษตรกรรม ชุมชนริมน้ำ และชุมชนชาติพันธุ์ของชาวไทยองที่ได้อพยพมาจากบ้านสันคะยอม เพื่อมาหาที่ทำกินใหม่ ในปี พ.ศ. 2458 ส่วนที่มาของทุ่งยาวนั้น มาจากลักษณะพื้นที่รูปตัวแอล มีลำน้ำสารไหลผ่านหมู่บ้าน มีการอนุรักษ์ป่าอย่างจริงจัง มีพื้นที่ป่าซึ่งเรียกว่า ป่าน้ำจำ (ป่าที่มีน้ำซับออกมา) ลักษณะภูมิประเทศเป็นที่ราบ มีป่าไม้อุดมสมบูรณ์ มีลำน้ำสารไหลผ่านหมู่บ้าน มีพื้นที่ป่าซึ่งเรียกว่า \"ป่าน้ำจำ\" เป็นแหล่งเรียนรู้และอนุรักษ์ป่าและน้ำของหมู่บ้าน โดยป่าอยู่บริเวณป่าสงวนแห่งชาติ บ้านเรือนเป็นรูปแบบสมัยใหม่ ตั้งอยู่ตลอดสองข้างถนนในชุมชน ส่วนใหญ่มีอาชีพทำการเกษตรกรรรม ทำสวนลำไย ทำสมุนไพรจากภูมิปัญญาชาวบ้าน',\n",
              "       'วัดประตูป่า เป็นชุมชนเกษตรกรรม ชุมชนความทรงจำ และชุมชนชาติพันธุ์ของชาวไทยอง โดยชุมชนนั้นมีมานานตั้งแต่ก่อนยุคประวัติศาสตร์ จากหลักฐานและข้อมูล พบคนยองเข้ามาตั้งถิ่นฐานและครอบครองพื้นที่ชุมชน เริ่มขึ้นเมื่อ พ.ศ. 2348 ประกอบด้วย 8 หมู่บ้าน ประชากรเป็นชาวไทยอง พูดภาษายอง  มีประเพณีลอยโขมดเป็นประเพณีเก่าแก่ที่ชุมชนถือปฏิบัติมาช้านาน ลักษณะภูมิประเทศเป็นชุมชนตั้งอยู่บริเวณที่ราบลุ่มแม่น้ำปิง โดยรอบเป็นป่าไม้ที่มีความอุดมสมบูรณ์ มีวัดประตูป่าเป็นศูนย์รวมทางจิตใจของผู้คนในชุมชน และเป็นสถาปัตยกรรมแบบไทยอง และบ้านเรือนโดยทั่วไปเป็นรูปแบบสมัยใหม่ ส่วนใหญ่มีอาชีพเกษตรกรรรม ทำสวนลำไย',\n",
              "       'บ้านดอนหลวง เป็นชุมชนเกษตรกรรม ชุมชนตลาด และชุมชนชาติพันธุ์ของชาวไท\\nยอง เดิมชื่อหมู่บ้านกอถ่อน ในรัชสมัยของเจ้ากาวิละ ได้กวาดต้อนผู้คนจากเมืองยอง ประเทศ-พม่าเข้ามาตั้งบ้านเรือน โดยชาวยองกลุ่มนี้ได้เข้าอยู่ ณ ที่ตั้งหมู่บ้านดอนหลวงซึ่งตั้งอยู่ปัจจุบัน โดยนับถือศาสนา-พุทธ และพูดภาษายอง ลักษณะภูมิประเทศ เป็นพื้นที่ราบลุ่ม และมีพื้นที่ทำการเกษตร มีวัดดอนหลวงที่มีสถาปัตยกรรมผสมผสานระหว่างล้านนา พม่า และยอง และมีบ้านเรือนโบราณของชาวไทยองอยู่หลายหลัง โดยบ้านเรือนแต่ละหลังจะมีการทอผ้าแบบโบราณ ประกอบอาชีพเกษตรกรรม ทำสวนลำไย ชุมชนขึ้นชื่อเรื่องผลิตภัณฑ์ผ้าฝ้ายทอมือ ซึ่งสืบทอดกันมาเป็นประเพณี จนเป็นที่กล่าวขานของชาวต่างชาติ',\n",
              "       'บ้านหนองดู่ เป็นชุมชนเกษตรกรรม ชุมชนริมน้ำ และชุมชนชาติพันธุ์ของชาวมอญ บริเวณที่ตั้งชุมชนเดิมเป็นหนองน้ำใหญ่ มีต้นประดู่ขึ้นอยู่เป็นจำนวนมาก จึงตั้งชื่อว่า \"หมู่บ้านหนองดู่\" เรียกเป็นภาษามอญว่า \"วานแน๊ะบี\" เป็นที่ราบลุ่มแม่น้ำปิง มีภาษาพูดเป็นเอกลักษณ์ของตนเอง  คือ ภาษามอญ รองลงมาคือ ภาษาล้านนา มีเทศกาลฟ้อนผีเม็ง ซึ่งเป็นวัฒนธรรมเดียวที่ยังถูกถ่ายทอดมาจนถึงลูกหลาน ลักษณะภูมิประเทศ เป็นที่ราบลุ่มแม่น้ำปิง มีความอุดมสมบูรณ์เหมาะแก่การทำเกษตรกรรม มีบ้านเรือนเก่าไม้ชั้นเดียว และสองชั้นกระจายอยู่ภายในชุมชน และวัดหนองดู่ ซึ่งเป็นวัดเก่าแก่ในชุมชน ส่วนใหญ่มีอาชีพทำเกษตรกรรม ทำนา ทำสวน มีอาชีพเก่าแก่ คือ อาชีพทำขนมเส้นเม็ง (ขนมจีน) ซึ่งเป็นอาชีพที่สร้างชื่อเสียงให้ชาวมอญในหมู่บ้านเป็นอย่างมาก',\n",
              "       'พระบาทห้วยต้ม เป็นชุมชนเกษตรกรรม ชุมชนความทรงจำ และชุมชนชาติพันธุ์ของชาวกะเหรี่ยง เผ่าสะกอว์ละ เผ่าโปว์ มีความเชื่อว่าเป็นสถานที่ศักดิ์สิทธิ์มาแต่โบราณ ถูกเรียกว่า ห้วยข้าวต้ม หรือห้วยต้มข้าว ลักษณะภูมิประเทศ ประกอบด้วย 7 หมู่บ้าน ตั้งอยู่บนพื้นที่ราบ มีความลาดชันเล็กน้อย พื้นดินมีลักษณะเป็นดินร่วนปนทราย ลึกลงไปเป็นศิลาแลง มีแม่น้ำไหลผ่านทั้ง 4 ทิศทาง พื้นที่อยู่อาศัยมีการใช้เอกลักษณ์ดั้งเดิมของกะเหรี่ยงในการปลูกบ้าน โดยมีลักษณะเป็นสี่เหลี่ยมจัตุรัส และมีขนาดของแปลงเท่ากันหมด คือ 4 ไร่ โดยใช้ถนนกว้าง 6 เมตร ตัดผ่านเป็นการแบ่งอาณาเขต และใช้พื้นที่ครัวเรือนละ 2 งาน โดยสร้างแบบถาวรยกพื้นต่ำและมุงหลังคาด้วยหญ้าคา ฝาทำด้วยไม้ไผ่ ส่วนใหญ่ปลูกข้าวไร่และข้าวนาดำ และปลูกพืชเศรษฐกิจในช่วงฤดูหนาว เช่น ดอกดาวเรือง นอกจากนี้ยังประกอบอาชีพทอผ้า จักสาน ทำเครื่องเงิน ตีเหล็ก และฟันศิลาแลง',\n",
              "       'วัดบ้านปาง เป็นชุมชนเกษตรกรรม ชุมชนความทรงจำ และชุมชนชาติพันธุ์ของชาวไทยอง เป็นหมู่บ้านเก่าแก่ของอำเภอลี้ ผู้ก่อตั้งบ้านปางคือ หมื่นผาบ  เดิมทีสันนิษฐานว่า มีกลุ่มผู้เดินทางมาจากลำพูนจะมาอำเภอลี้ และมาแวะพัก เนื่องจากมืดค่ำจึงจัดทำป๋าง (เพิงพักชั่วคราว) สำหรับพักค้างคืน แล้วจึงเดินทางต่อ ต่อมามีคนมาอยู่อาศัยมากจึงตั้งเป็นหมู่บ้านขึ้น การเรียกชื่อจึงเพี้ยนจากบ้านป๋าง เป็นบ้านปางในปัจจุบัน ลักษณะภูมิประเทศ เป็นพื้นที่ราบลุ่มในหุบเขา ประกอบด้วย 3 หมู่บ้าน คือ บ้านปาง บ้านศรีบุญเรือง และบ้านบารมีศรีวิชัย มีบ้านเรือนรูปแบบสถาปัตยกรรมไทยองอยู่หลายหลัง และมีวัดบ้านปาง เป็นวัดซึ่งครูบาศรีวิชัยบวชเรียนเป็นวัดแรก ภายในบริเวณวัดร่มรื่นด้วยต้นไม้น้อยใหญ่ มีโบสถ์วิหารสวยงาม พิพิธภัณฑ์อัฐบริขาร ส่วนใหญ่ประกอบอาชีพโดยการเลี้ยงช้าง วัว ควาย และทำไร่ และเป็นสถานที่ท่องเที่ยวเชิงอนุรักษ์ เพื่อเที่ยวชมนกยูงจำนวนมากของหมู่บ้าน',\n",
              "       'บ้านห้วยไซกลาง เป็นชุมชนเกษตรกรรม และชุมชนชาติพันธุ์ของชาวไทยอง แต่เดิมเกิดจากชาวไทลื้อที่อาศัยอยู่สิบสองปันนาและอพยพมาตั้งถิ่นฐานใหม่ในบริเวณปัจจุบัน โดยไม่ปรากฏหลักฐานว่าสร้างมานานเท่าไหร่ แต่คาดว่าน่าจะนับ 100 ปี แต่เดิมชื่อบ้านห้วยใส่ และเรียกเพี้ยนมาเป็นห้วยไซ ลักษณะภูมิประเทศ ตั้งอยู่ทางทิศเหนือของอำเภอบ้านธิ ลักษณะของชุมชนเป็นที่ราบลุ่ม และที่ราบเชิงเขาในบางส่วน เนื้อที่ของชุมชนประมาณ 28 ไร่ ดินมีลักษณะเป็นดินเหนียวปนทราย มีจำนวนบ้านเรือน 1,000 กว่าหลังคาเรือน มีทั้งหมด 6 หมู่บ้าน และมีบ้านเก่าของชุมชนสร้างเมื่อปี พ.ศ. 2497 อยู่หลายหลัง บริเวณบ้านมียุ้งข้าวเก่า และมีโรงบ่มใบยาสูบ โดยมีเตาบ่มทั้งหมดกว่า 200 เตา ส่วนใหญ่ประกอบอาชีพเกษตรกรรม โรงบ่มใบยาสูบ และทำน้ำหนังควายซึ่งเป็นอาหารท้องถิ่นซึ่งเป็นภูมิปัญญาดั้งเดิม',\n",
              "       'บ้านกล้วย เป็นชุมชนเกษตรกรรม และชุมชนชาติพันธุ์ของไทยลื้อ เป็นหมู่บ้านที่เกิดขึ้นมานานและมีประวัติการก่อตั้งหมู่บ้านที่ยาวนาน มีเอกลักษณ์และวัฒนธรรมเป็นของตนเองทั้งภาษาพูด การแต่งกาย และความเป็นอยู่ รวมทั้งที่อยู่อาศัย ชุมชนบ้านกล้วยหลวงเป็นชุมชนที่อยู่รวมกันค่อนข้างเป็นชุมชนใหญ่ ลักษณะภูมิประเทศ เป็นที่ราบติดแม่น้ำ มีบ้านไม้ขนาดเล็ก มีลักษณะทางสถาปัตยกรรมพื้นถิ่นที่สร้างตามธรรมเนียมแบบดั้งเดิม มีสภาพทรุดโทรมตามกาลเวลา มีการปรับปรุงและเปลี่ยนให้เหมาะสมตามสภาพการอยู่อาศัยของแต่ละหลัง ลักษณะของสังคมและความเป็นอยู่เป็นชุมชนแบบชนบท มีอาชีพทางการเกษตรเป็นส่วนใหญ่',\n",
              "       'ปงสนุก เป็นชุมชนเกษตรกรรม และชุมชนโดยรอบโบราณสถาน เป็นกลุ่มชาติพันธุ์ของไทยลื้อ จากประวัติศาสตร์พบว่าเป็นชื่อที่เกี่ยวข้องกับประวัติศาสตร์การอพยพผู้คนในเหตุการณ์ช่วงปี พ.ศ. 2306 ที่พญากาวิละได้ยกทัพเข้าโจมตีเมืองเชียงแสน ซึ่งเป็นที่ตั้งมั่นของพม่าและได้กวาดต้อนชาวเชียงแสน ซึ่งเป็นชาวบ้านบ้านปงสนุกมาตั้งถิ่นฐานที่ลำปาง รวมถึงการอพยพของคนเมืองพะยาวที่หนีศึกพม่าลงมายังลำปาง ชาวปงสนุก เชียงแสน และชาวพะเยา จึงได้ตั้งบ้านเรือนจนกลายเป็นหมู่บ้าน ลักษณะภูมิประเทศ ตั้งอยู่ฝั่งตะวันตกของแม่น้ำวัง โดยมีวัดปงสนุกเป็นศูนย์กลางของเมือง รูปแบบเรือนที่ปรากฏยังคงมีลักษณะเดิมอยู่บ้างแต่จำนวนน้อย อันเนื่องมาจากการทรุดโทรมของวัสดุตามกาลเวลา เรือนบางหลังยังคงมีลักษณะแบบดั้งเดิมอยู่ เป็นชุมชนขนาดเล็ก มีการทำนาการเกษตรเป็นหลัก',\n",
              "       'กาดกองต้า เป็นชุมชนตลาด และชุมชนริมน้ำ ส่วนใหญ่เป็นกลุ่มชาติพันธุ์ไทย–จีน กาดกองต้า หรือ ตลาดจีน ที่ชาวบ้านเรียกติดปาก เป็นย่านตลาดเก่าตั้งอยู่ขนานกับลำน้ำวังในซอยตลาดจีนริมน้ำ มีอาคารโบราณอายุร้อยปีบนถนนตลาดเก่าตลอดทั้งสาย กาดกองต้า หมายถึง ตลาดตรอกท่าน้ำ เป็นเมืองท่าที่สำคัญเชื่อมต่อศูนย์กลางการค้าเมืองปากน้ำโพ (นครสวรรค์) กับภาคเหนือตอนบน เป็นแหล่งกระจายสินค้าเข้าออกแหล่งชุมชนเศรษฐกิจที่รุ่งเรือง ตลาดจีนหรือตลาดเก่าแม่น้ำวัง เป็นเส้นแม่น้ำสายสำคัญของประวัติศาสตร์ เป็นท่าล่องซุงไม้สัก ลักษณะภูมิประเทศเป็นที่ราบริมแม่น้ำ มีอาคารเรือนแถวที่มีลักษณะทางกายภาพหลากหลาย เช่น เรือนไม้สองชั้น และอาคารเรือนแถวก่ออิฐฉาบปูนในสมัยรัชกาลที่ 5 ซึ่งมีลักษณะผสมผสานกับสถาปัตยกรรมตะวันตก เป็นตลาดโบราณเป็นศูนย์กลางทางการค้าในอดีตเเละเริ่มซบเซาลงไป เมื่อมีการตัดถนนเพิ่มมากขึ้นการเดินทางหรือขนส่งทางน้ำลดลง ปัจจุบันปรับตัวเป็นเป็นตลาดย้อนยุคในวันเสาร์อาทิตย์',\n",
              "       'บ้านหลุก เป็นชุมชนตลาด ชุมชนริมน้ำ และชุมชนกลุ่มอาชีพเฉพาะ พบกลุ่มชาติพันธุ์ของไทยลื้อ บ้านหลุกเป็นหมู่บ้านที่มีชื่อเสียงด้านแกะสลักของจังหวัดลำปาง แต่ยังไม่เป็นที่รู้จักแพร่หลาย ปัจจุบันเป็นหมู่บ้านที่มีชื่อเสียงทางด้านงานแกะสลัก และผลิตภัณฑ์จากไม้และเถาวัลย์ ของอำเภอแม่ทะจังหวัดลำปาง ลักษณะภูมิประเทศเป็นที่ราบริมแม่น้ำจาง ปัจจุบันบ้านเรือนในชุมชนบ้านหลุกมีการแปรเปลี่ยนสภาพไปจากเดิม เนื่องจากการปรับพื้นที่เพื่อรองรับกิจกรรมการแกะสลักไม้ ทำให้รูปแบบทางสถาปัตยกรรมมีการเปลี่ยนแปลงไปมาก ในปี พ.ศ. 2535 ได้มีการรวมกลุ่มแกะสลักขึ้นจำนวน 40 กลุ่ม ส่วนไม้ที่นำมาใช้แกะสลัก ได้แก่ ไม้ฉำฉา (จามจุรี) เถาวัลย์ และไม้เนื้ออ่อน ซึ่งจะแกะสลักด้วยความประณีตจนออกมาเป็นชิ้นงานที่สวยงามและคงทน',\n",
              "       'ลำปางหลวง เป็นชุมชนเกษตรกรรม ชุมชนความทรงจำ และชุมชนโดยรอบโบราณสถาน บริเวณที่ตั้งเดิมเป็นทางน้ำของลำน้ำแม่ยาวซึ่งไหลมาจากทิวเขาขุนตาล (เขาผีปันน้ำ) เขตติดต่อกับจังหวัดลำพูน ผ่านตำบลใหม่พัฒนาและตำบลไหล่หิน มาบรรจบกับแม่น้ำวังที่ตำบลเกาะคา ครั้นนานเข้าน้ำได้พัดเอาตะกอนดินหินและทรายมากองรวมกัน จนกลายเป็นสันดอนทรายขึ้น (สันดอนทรายชาวบ้านพื้นเมืองเรียกว่า เกาะ) ภายหลังลำน้ำแม่ยาวได้เปลี่ยนทางเดินของร่องน้ำ ทำให้เกิดสันดอนทรายเป็นบริเวณกว้างแล้วกลายสภาพเป็นพื้นดินปนทรายซึ่งมีหญ้าคาขึ้นงอกงามเต็มที่ เมื่อมีชาวบ้านไปตั้งถิ่นฐานบ้านเรือนในบริเวณดังกล่าวชาวบ้านจึงเรียกว่า \"เกาะคา\" ลักษณะภูมิประเทศเป็นที่ราบ อยู่ห่างจากถนนสายหลัก บ้านเรือนโดยรอบมีการเปลี่ยนแปลงไปมาก แต่ยังคงรูปแบบเดิมอยู่ในส่วนของยุ้งฉาง เป็นชุมชนขนาดใหญ่ เน้นการค้าขายเป็นหลัก',\n",
              "       'ไหล่หิน เป็นชุมชนเกษตรกรรม ชุมชนความทรงจำ และชุมชนโดยรอบโบราณสถาน ไม่มีหลักฐานแน่ชัดว่าวัดไหล่หินหลวงสร้างขึ้นเมื่อใด แต่ ดร.ฮันส์เพนธ์ ได้พบคัมภีร์ใบลานที่เก่าแก่ที่สุดของวัด ระบุจุลศักราช 833 หรือ พ.ศ. 2014 ส่วนชุมชนโดยรอบนั้นบริเวณที่ตั้งตำบล แต่เดิมเป็นทางน้ำของลำน้ำแม่ยาว ซึ่งไหลมาจากทิวเขาขุนตาล (เขาผีปันน้ำ) เขตติดต่อกับจังหวัดลำพูนผ่านตำบลใหม่พัฒนาและตำบลไหล่หินมาบรรจบกับแม่น้ำวังที่ตำบลเกาะคา ครั้นนานเข้าน้ำได้พัดเอาตะกอนดิน หินและทรายมากองรวมกันจนกลายเป็นสันดอนทรายขึ้น (สันดอนทรายชาวบ้านพื้นเมืองเรียกว่า เกาะ) ภายหลังลำน้ำแม่ยาวได้เปลี่ยนทางเดินของร่องน้ำ ทำให้เกิดสันดอนทรายเป็นบริเวณกว้าง แล้วกลายสภาพเป็นพื้นดิน ปนทราย ซึ่งมีหญ้าคาขึ้นงอกงามเต็มที่ เมื่อมีชาวบ้านไปตั้งถิ่นฐานบ้านเรือนในบริเวณดังกล่าว ชาวบ้านจึงเรียกว่า \"เกาะคา\" ลักษณะภูมิประเทศเป็นที่ราบลุ่มติดแม่น้ำยาว ลักษณะเด่นของสถาปัตยกรรมโบราณหายไป เนื่องจากมีการต่อเติมและปรับปรุงบ้านเรือน เป็นชุมชนโบราณขนาดใหญ่ มีการทำการเกษตรควบคู่กับการค้าขาย',\n",
              "       'ชุมชนบ้านคุ้งตะเภา เป็นชุมชนเกษตรกรรม ชุมชนริมน้ำ และชุมชนความทรงจำ เป็นพื้นที่ซึ่งอยู่ริมน้ำ เป็นพื้นที่ลาดน้อย ใช้ทำการเกษตร ริมน้ำมีกิจกรรมที่เกี่ยวกับการเพาะปลูก ได้แก่ สวนผัก และสวนผลไม้ โดยมีกลุ่มที่อยู่อาศัยห่างออกมาเป็นลักษณะที่ราบสูง เหมาะกับการตั้งบ้านเรือน เนื่องจากพื้นที่ริมน้ำประสบปัญหาน้ำท่วมซ้ำซากุ กลุ่มอาคารเรือนไทยภาคกลางโบราณที่ยังคงคุณสมบัติการใช้วัสดุเดิมที่มีการดูแลรักษาอยู่ในสภาพดี ได้แก่ กระเบื้องหลังคาว่าว ผนัง และเสาไม้ ที่ยังปรากฏฝีมือช่างสมัยก่อน โดยพบว่าบ้านเหล่านี้กระจายตลอดริมน้ำเจ้าพระยาควบคู่กับภูมิทัศน์ที่มีการใช้สอยเพื่อการเกษตรและเป็นพื้นที่รับน้ำ (Watershed) ในฤดูน้ำหลาก เป็นย่านชุมชนเก่าที่ใช้ประโยชน์เพื่อการพักอาศัยมายาวนาน ผู้อาศัยในรุ่นปัจจุบัน และลูกหลานคนในชุมชน ปัจจุบันทำอาชีพนอกภาคเกษตร อาทิ รับราชการ ค้าขาย พนักงานบริษัท',\n",
              "       'พระฝางสว่างบุรีมุณีนาถ เป็นชุมชนเกษตรกรรม ชุมชนความทรงจำ และชุมชนโดยรอบโบราณสถาน เมืองฝางเป็นเมืองหน้าด่านให้สุโขทัย เคยเป็นชุมนุมที่สำคัญและมีประวัติศาสตร์ต่อเนื่อง ยุคต้นของอาณาจักรธนบุรี เป็นชุมชนที่ตั้งอยู่ขนานไปตามแม่น้ำน่านในแนวตะวันออก-ตะวันตก สภาพพื้นที่เป็นที่ราบลุ่มริมแม่น้ำ ชุมชนที่อาศัยอยู่โดยรอบวัดพระฝางสว่างบุรีมุณีนาท เป็นโบราณสถานสำคัญคู่เมืองอุตรดิตถ์ บ้านเรือนที่อยู่โดยรอบเป็นบ้านไม้สองชั้น มีระเบียงด้านหน้า ภายในบริเวณรอบอาคารมีสวนครัว มีฐานเศรษฐกิจด้านการเกษตรโดยรอบโบราณสถานที่สำคัญ',\n",
              "       'บ้านท่าเสา เป็นชุมชนเกษตรกรรม ชุมชนริมน้ำ และชุมชนโดยรอบทางรถไฟ เป็นชุมชนที่ทอดตัวขนานทางรถไฟในทิศตะวันออก-ตก และขนานกับแม่น้ำน่านทางทิศเหนือ โดยเจริญขึ้นมาจากการเป็นชุมทางการค้าขายระหว่างพื้นที่ภาคเหนือและภาคกลางในอดีต จากลักษณะทางภูมิศาสตร์ที่มีเส้นทางคมนาคมได้หลากหลายเช่นนี้ ทำให้ชุมชนท่าเสาเกิดเป็นเมืองที่เจิรญเติบโตขึ้นตามลำดับกายภาพสำคัญ ชุมชนท่าเสาประกอบด้วยกลุ่มอาคารแถวไม้สูงสองชั้นที่มีความหนาแน่น ขนาบด้วยแม่น้ำน่านและทางรถไฟ โดยเกิดเป็นชุดห้องแถวขนานตลอดเส้นถนนที่เชื่อมระหว่างแม่น้ำกับทางรถไฟ เป็นย่านการค้าที่สำคัญระดับตำบล เป็นศูนย์กลางการบริการ และการให้บริการสินค้าหลากหลายชนิด อาทิ ตลาดสด ร้านค้าปลีก',\n",
              "       'ทุ่งยั้ง เป็นชุมชนความทรงจำ และชุมชนโดยรอบโบราณสถาน เมืองทุ่งยั้งเป็นเมืองเก่าสมัยสุโขทัยและมีเมืองซ้อนกันอีกเมืองหนึ่ง ซึ่งเรียกว่า \"เวียงเจ้าเงาะ\" โดยเมืองทุ่งยั้งเดิมเป็นเมืองขึ้นของเมืองพิชัย แต่ต่อมา แม่น้ำน่านเกิดเปลี่ยนเส้นทางน้ำ ทำให้เมืองทุ่งยั้งเกิดความแห้งแล้งชาวบ้านจึงอพยพออกจากพื้นที่ไปอาศัยในแถบ บางโพ-ท่าอิฐแทน ทำเมืองทุ่งยั้งกลายเป็นเมืองร้าง และพังทลายลงในที่สุด คงเหลือไว้แต่พระธาตุทุ่งยั้งเพียงอย่างเดียวที่ยังหลงเหลืออยู่ว่าเป็นเมืองโบราณ เป็นชุมชนที่ตั้งอยู่โดยรอบโบราณสถาน ขนานไปตามแม่น้ำน่านในแนวตะวันออก-ตะวันตก สภาพพื้นที่เป็นที่ราบลุ่มแม่น้ำ ชุมชนที่ตั้งบ้านเรือนโดยรอบพระบรมธาตุทุ่งยั้ง ส่วนใหญ่เป็นบ้านไม้สองชั้น เป็นชุมชนที่มีฐานเศรษฐกิจด้านการเกษตรโดยรอบโบราณสถานที่สำคัญ',\n",
              "       'ด่านนาขาม เป็นชุมชนเกษตรกรรม ตำบลบ้านด่านนาขาม มีประวัติความเป็นมาที่ยาวนานตำบลหนึ่ง ซึ่งเดิมพื้นที่แห่งนี้เคยเป็นที่อาศัยของพวกขอม พม่า สมัยกรุงศรีอยุธยาตอนปลาย ไทยได้เสียกรุงศรีอยุธยาแก่พม่า ครั้งที่ 2 ในปี พ.ศ. 2310 ตรงกับปีขาล และสมเด็จพระเจ้าตากสินทรงกอบกู้เอกราชได้สำเร็จ และทรงตั้งกรุงธนบุรีเป็นราชธานี หลังจากนั้นได้ส่งคนกลุ่มหนึ่งมาเฝ้ารักษาด่าน ต่อมามีผู้มาตั้งบ้านเรือนอาศัยอยู่เป็นจำนวนมาก และได้ตั้งชื่อว่า \"บ้านด่านนาขาม\" ตามลักษณะภูมิประเทศที่มีต้นมะขามขนาดใหญ่ขึ้นอยู่บนจอมปลวกบริเวณหน้าวัดซึ่งเป็นที่นา มีสภาพภูมิประเทศทั่วไปแบ่งเป็น 2 ลักษณะ คือ พื้นที่ราบสูงสลับกับภูเขาในตอนเหนือของตำบล และพื้นที่ราบในตอนใต้ของตำบล หมู่บ้านตั้งอยู่ในบริเวณพื้นที่ราบ มีการทำเกษตรกรรมบริเวณรอบชุมชน พื้นที่ราบสูงในตอนบนมีสภาพเป็นป่าตามธรรมชาติ มีบ้านไม้เก่าทรงจั่ว มีความสูงสองชั้นสลับสวนบ้าน ความหนาแน่นต่ำ ปัจจุบันเป็นหมู่บ้านที่ทำสวนแบบดั้งเดิม อยู่บนเขารอยต่อระหว่าง 2 จังหวัด ผลผลิตขึ้นชื่อ ได้แก่ ลองกอง ทุเรียนหลงลับแล หลินลับแล ปัจจุบันชาวบ้านจะทำสวนผลไม้บนภูเขา และใช้มอเตอร์ไซค์ขึ้นไปขนผลไม้ลงมาขาย',\n",
              "       'เมืองลับแล เป็นชุมชนเกษตรกรรม ชุมชนตลาด และชุมชนความทรงจำ บรรยากาศทั่วไปเยือกเย็นยามพลบค่ำ ดวงอาทิตย์ ไม่ทันตกดิน ก็มืดแล้ว เพราะมีดอยม่อนฤๅษีสูงใหญ่เป็นฉากกั้นแสงอาทิตย์ ป่าบริเวณนี้เรียกว่า \"ป่าลับแลง\" ต่อมาจึงเพี้ยนเป็นคำว่า \"ลับแล\" บริเวณที่เป็นที่มาของชื่อ \"ลับแล\" คือ ห้าตำบลด้านเหนืออำเภอลับแล ตำบลชัยจุมพล ตำบลศรีพนมมาศ ตำบลฝายหลวง ตำบลแม่พูล ตำบลนานกกก\\xa0ชาวลับแลมีอาชีพทำสวนทุเรียน สวนลางสาดบนภูเขา ผู้ชายใช้ชีวิตส่วนใหญ่ ดูแลสวน ทิ้งลูกหลานอยู่ที่บ้าน ใครผ่านไป ก็เจอแต่ผู้หญิง นี่ก็คือที่มาของฉายา \"เมืองแม่ม่าย\" เป็นชุมชนที่อยู่ในชายป่าเดิม ห่างไกลกับแหล่งน้ำผิวดิน เป็นที่ราบเชิงเชา บ้านเรือนกระจายแทรกตัวอยู่กับพื้นที่ เป็นอาคารบ้านเดี่ยว กระจายตัวสลับพื้นที่ว่างและสวน เป็นชุมชนที่อยู่อาศัยมีลักษณะเป็นบ้านไม้สองชั้น มีการใช้พื้นที่โดยรอบที่พักอาศัยเป็นส่วนหนึ่งของการแปรรูปสินค้าเกษตรพื้นบ้าน ในชุมชนมีการใช้พื้นที่พักอาศัยประกอบอาชีพและอุตสาหกรรมเกษตรในครัวเรือน อาทิ การปลูกหอมแดง',\n",
              "       'ตลาดสถานีรถไฟเมืองพิชัย/ชุมชนหลักเมือง เป็นชุมชนตลาด ชุมชนความทรงจำ และชุมชนโดยรอบทางรถไฟ โดยมีตำนานของพระยาพิชัยดาบหัก ชุมชนตลาดเมืองพิชัยเป็นชุมชนที่ทอดตัวอยู่ด้านทิศตะวันออกของริมน้ำน่าน คู่ขนานกับทางรถไฟในด้านทิศตะวันตก เป็นพื้นที่ราบลุ่มน้ำท่วมถึง อาคารเกือบทั้งหมดเป็นอาคารเรือนแถวไม้ 2 ชั้น เป็นย่านพาณิชยกรรมดั้งเดิม ที่เจริญมาจากการค้าขายและขนส่งสินค้าทางน้ำและเส้นทางการเดินรถไฟ เป็นศูนย์กลางเชื่อมโยงการแลกเปลี่ยนซื้อขายสินค้าเกษตร ระหว่างพื้นที่เพาะปลูกกับอำเภออื่น ๆ ภายหลังเมื่อมีการตัดถนน การค้าขายในชุมชนก็ซบเซาลง',\n",
              "       'บ้านแม่คำมีท่ามีล้อ เป็นชุมชนเกษตรกรรม ชุมชนริมน้ำ และชุมชนชาติพันธุ์ของชาวกะเหรี่ยง ยองมลาบรี ม้ง ลีซู และอาข่า เป็นชุมชนโบราณขนาดเล็ก มีจุดเด่นคือ มีแม่น้ำผ่านกลางชุมชน ซึ่งโดยทั่วไปแม่น้ำจะผ่านด้านเดียว ในชุมชนมีแนวกำแพงโบราณอยู่ และยังพบภาชนะดินเผามากมายที่มีลักษณะคล้ายที่เวียงสองและเวียงเทพ ลักษณะภูมิประเทศเป็นที่ราบมีแม่น้ำแม่คำมีผ่านกลางชุมชน มีเรือนไม้ใต้ถุนสูง ชั้นล่างต่อเติมเป็นแบบก่ออิฐฉาบปูน ยังคงหลงเหลือบางหลังที่มีการรักษารูปแบบการใช้ต้นไม้เป็นแนวรั้วบ้าน เป็นชุมชนขนาดเล็ก พื้นที่ใกล้ถนนจะทำการค้าขายเป็นหลัก ส่วนพื้นที่ด้านหลังทำการเกษตรเป็นหลัก ไม่มีการใช้งานการขนส่งทางน้ำ',\n",
              "       'บ้านทุ่งโฮ้ง เป็นชุมชนกลุ่มอาชีพเฉพาะ ชุมชนโดยรอบโบราณสถาน และชุมชนชาติพันธุ์ของชาวไทยพวนที่อพยพมาจากเมืองพวน แขวงเมืองเชียงราย สาธารณรัฐประชาธิปไตยประชาชนลาว ประมาณ พ.ศ. 2360-2380 อาชีพหลักของชาวบ้านทุ่งโฮ้ง คือการทำผ้าม่อฮ่อม เป็นภูมิปัญญาท้องถิ่นของบรรพบุรุษที่สืบทอดมาหลายชั่วอายุคน และเป็นเอกลักษณ์ของจังหวัดแพร่ จนได้รับการคัดเลือกเป็นหมู่บ้านท่องเที่ยว OTOP เชิงหัตถกรรม ลักษณะภูมิประเทศเป็นที่ราบที่ทำการเกษตร มีเรือนไม้ชั้นเดียวใต้ถุนสูง มีลักษณะเด่นที่ฝาไม้ ทำจากไม้แผ่นขนาดใหญ่ เรียงอย่างสวยงาม เป็นชุมชนที่รองรับการท่องเที่ยวแบบเต็มรูปแบบ รายได้หลักพึ่งพาจากการผลิตและขายผ้าม่อฮ่อมเป็นหลัก บางส่วนยังคงทำการเกษตรอยู่บ้าง',\n",
              "       'บ้านดง เป็นชุมชนเกษตรกรรม ชุมชนกลุ่มอาชีพเฉพาะ และชุมชนชาติพันธุ์ของอึมปี้ เป็นหมู่บ้านเล็ก ๆ เพียง 300 กว่าหลังคาเรือน ที่ใช้ภาษาอึมปี้เพียงชุมชนเดียวในประเทศไทย แม้อยู่ท่ามกลางผู้คนที่หลากหลายทั้งคนไทยวนไทลื้อ และชุมชนตั้งอยู่ไม่ไกลจากตัวเมืองแพร่มากนัก ลักษณะภูมิประเทศเป็นที่ราบลุ่มมีแหล่งน้ำธรรมชาติ มีบ้านเรือนส่วนใหญ่มีเสาไม้ขนาดใหญ่ ผนังเป็นไม้แผ่นขนาดใหญ่ ซึ่งแสดงให้เห็นถึงความอุดมสมบูรณ์ของชุมชนในอดีต สังคมของชาวบ้านดงอยู่กันอย่างแบบเครือมิตรเป็นญาติพี่น้อง ทำการเกษตรและรับจ้าง',\n",
              "       'เวียงสันทราย เป็นชุมชนเกษตรกรรม และชุมชนโดยรอบโบราณสถาน เป็นชุมชนโบราณขนาดใหญ่ยังคงพบเห็นคูและคันดินได้บ้าง แต่ถูกชาวบ้านสร้างสิ่งปลูกสร้างใหม่ทับแทบหมดเเล้ว เคยมีการขุดพบภาชนะดินเผาโบราณ เชื่อว่าชุมชนถูกสร้างโดยพวกม่านแต่ถูกทิ้งร้างมานาน ลักษณะภูมิประเทศเป็นที่ราบการเกษตรมีแม่น้ำเล็กไหลผ่านด้านทิศใต้ ภาพรวมของสภาพแวดล้อมในชุมชนมีการเปลี่ยนแปลงจากการปรับปรุงบ้านเรือน ที่มีการนำวัสดุสมัยใหม่เข้ามาใช้ทำให้เอกลักษณ์ลดเลือนไป เป็นชุมชนด้านการเกษตร ทำนา ทำไร่ ทำการค้าขายในส่วนที่ติดถนนหลักของชุมชน',\n",
              "       'บ้านแม่บงเหนือ เป็นชุมชนเกษตรกรรม ชุมชนโดยรอบโบราณสถาน และชุมชนชาติพันธุ์ของชาวลัวะซึ่งเป็นชนพื้นเมืองของล้านนาในอดีต ไม่ปรากฏหลักฐานว่าสร้างสมัยใด ลักษณะภูมิประเทศเป็นที่ราบแคบ ๆ ระหว่างภูเขา มีเรือนพักอาศัยของชาวลัวะที่ทำจากไม้ไผ่กับหญ้าแฝก ปลูกสร้างกระจายอยู่โดยรอบพื้นที่ เป็นสังคมชนบทอาชีพทำไร่นา ค้าขายเล็ก ๆ น้อย ๆ',\n",
              "       'ตรอกสลอบ เป็นชุมชนเกษตรกรรม ชุมชนริมน้ำ และชุมชนโดยรอบโบราณสถาน ชื่อ \"ปากสลอบ\" เป็นชื่อที่ชาวบ้านเรียกกัน ในจารึกที่พบจากวัดบางสนุก ปรากฏชื่อ \"เมืองตรอกสลอบ\" คำว่า \"สลอบ\" น่าเชื่อว่าเป็นคำเดียวกับคำว่า \"สอบ\" หมายถึง มีลักษณะเรียวลงด้านใดด้านหนึ่งหรือทั้งสองด้าน ตรงกับลักษณะภูมิศาสตร์ที่ตั้งของเมืองในช่องเขาริมแม่น้ำยมแห่งนี้ ลักษณะภูมิประเทศเป็นเมืองที่มีคูน้ำและคันดินเป็น 2 ชั้น ล้อมรอบเมืองอยู่บนฝั่งขวาลำน้ำยม มีบ้านเรือนในพื้นที่ ปัจจุบันมีการเปลี่ยนแปลงไปจากเดิม แต่ยังคงหลงเหลือบ้านที่มีลักษณะเป็นเอกลักษณ์ของกะเหรี่ยงโบราณอยู่ในเขตป่า มีพิธีกรรมความเชื่อของชาววังชิ้นมีมาแต่อดีต และสืบทอดเป็นขนบธรรมเนียมประเพณีท้องถิ่นหลายชั่วอายุคน ขั้นตอนของพิธีกรรมความเชื่อเกิดตามสภาพปัญหาของสภาพแวดล้อมในพื้นที่ และความสามารถของคนในท้องถิ่น',\n",
              "       'เวียงต้า เป็นชุมชนเกษตรกรรม ชุมชนโดยรอบโบราณสถาน และชุมชนชาติพันธุ์ของชาวกะเหรี่ยงยอง มลาบรี ม้ง ลีซู และอาข่า ไม่ปรากฏหลักฐานผู้สร้างเมืองและเมื่อไร แต่ในพื้นที่มีการขุดพบกล้องยาโบราณ ขวานโบราณภาชนะดินเผาโบราณ แต่ในยุคหลังมีพวกพม่ามาบูรณะวัดและชุมชน ลักษณะภูมิประเทศเป็นที่ราบลูกคลื่นใกล้ภูเขา มีเรือนไม้โบราณทั้งชั้นเดียวและสองชั้น ตั้งกระจายอยู่ตามเส้นทางหลักของชุมชน มีลักษณะเด่นที่การใช้ไม้เป็นสิ่งปลูกสร้างทั้งตัวบ้านและบริเวณโดยรอบ การทำไร่ ทำนา และรับจ้างเป็นอาชีพของคนในชุมชนวิถีเป็นไปอย่างเรียบง่าย',\n",
              "       'เวียงลองเก่า เป็นชุมชนชุมชนเกษตรกรรม ชุมชนริมน้ำ และชุมชนชาติพันธุ์ของชาวกะเหรี่ยงยอง มลาบรี ม้ง ลีซู และอาข่า เป็นชุมชนโบราณขนาดใหญ่ เป็นเมืองหน้าด่านทางทิศใต้ของอาณาจักรล้านนา เมืองลองได้ย้ายไปเนื่องจากน่าจะเป็นปัญหาน้ำท่วมใหญ่ในอดีต เนื่องจากกระเเสน้ำในลำน้ำยมเปลี่ยนทิศ ลักษณะภูมิประเทศเป็นที่ราบติดริมน้ำยม มีเรือนไม้ชั้นเดียวและสองชั้นที่ตั้งกระจายอยู่ตามแนวถนน บางหลังยังคงรักษายุ้งฉางโบราณไว้ ปัจจุบันเป็นชุมชนที่มีความเงียบสงบ มีการทำไร่ทำนาเป็นหลัก',\n",
              "       'บ้านหนองบัว เป็นชุมชนริมน้ำ ชุมชนกลุ่มอาชีพเฉพาะ ชุมชนโดยรอบโบราณสถาน และชุมชนชาติพันธุ์ของชาวไทยลื้อที่สืบเชื้อสายมาจากเมืองล้า แคว้นสิบสองปันนา มลฑลยูนนาน ประเทศสาธารณรัฐประชาชนจีน ตำบลป่าคาจัดตั้งขึ้นตามพระราชบัญญัติลักษณะการปกครองท้องที่ พ.ศ. 2547 ต่อมาได้รับการจัดตั้งเป็นองค์การบริหารส่วนตำบล ตามประกาศกระทรวงมหาดไทย เมื่อวันที่ 23 กุมภาพันธ์ 2540 มีลักษณะภูมิประเทศเป็นที่ราบลุ่มแม่น้ำน่านทางทิศเหนือของจังหวัดในอำเภอท่าวังผาและอำเภอปัว เป็นพื้นที่เกษตรกรรม ที่อุดมสมบูรณ์คำว่า \"ท่าวังผา\" บ่งบอกให้เห็นสภาพภูมิประเทศซึ่งมีลักษณะเป็น \"วัง\" อุดมด้วยปลานานาชนิด สองฝั่งแม่น้ำน่านขนาบด้วยหน้าผาสูงชัน สายน้ำสายนี้ในอดีตเคยเป็นเส้นทางขนส่งของป่า ภายในชุมชนเป็นเรือนไทยลื้อ ที่มีการประยุกต์ให้เป็น 2 ชั้น แต่ยังคงรักษารูปแบบเดิมไว้เป็นอย่างดี เป็นสังคมเกษตรกรรมชนบทยังมีการอนุรักษ์กิจกรรมประเพณีโบราณไว้ มีการพัฒนากลุ่มอาชีพขนาดเล็กของชุมชนเพื่อรองรับการท่องเที่ยว',\n",
              "       'บ้านหนองม่วง เป็นชุมชนเกษตรกรรม และชุมชนชาติพันธุ์ของชาวไตเขิน เมื่อปี พ.ศ. 2310 มีพ่อหลวงแสน – แม่คำเอื้อย คำวัง เป็นผู้ริเริ่มปลูกบ้านขึ้นทางทิศตะวันตกของฝั่งหนองน้ำ ทางทิศตะวันตกของหมู่บ้านที่อยู่ปัจจุบัน (พ.ศ. 2555) ซึ่งมีต้นมะม่วงต้นใหญ่ขึ้นอยู่ริมขอบหนองน้ำต่อมาจึงตั้งชื่อหมู่บ้านว่า \"บ้านหนองม่วง\" ลักษณะภูมิประเทศเป็นที่ราบเกษตรกรรม มีหนองน้ำขนาดใหญ่ มีเรือนพักอาศัยสองชั้นใต้ถุนโล่ง มีการตีเกล็ดไม้ของฝาเรือนที่มีลักษณะโดดเด่น เป็นชุมชนขนาดเล็ก ที่มีการทำการเกษตรเป็นอาชีพหลัก',\n",
              "       'บ่อหลวง เป็นชุมชนเกษตรกรรม และชุมชนกลุ่มอาชีพเฉพาะ บ้านบ่อหลวงตั้งอยู่หมู่ที่ 1 ตำบลบ่อเกลือใต้ อำเภอบ่อเกลือ จังหวัดน่าน อยู่ห่างจากอำเภอบ่อเหลือประมาณ 800 เมตร และห่างจากจังหวัดน่านประมาณ 108 กิโลเมตร เป็นหมู่บ้านเก่าแก่มีเนื้อที่ทั้งหมด 62.6 ตารางกิโลเมตร ประชากรส่วนใหญ่เป็นคนพื้นที่ราบ เรียกตัวเองว่า \"คนเมือง\" แหล่งท่องเที่ยว ได้แก่ วัดบ่อหลวง เป็นวัดที่สร้างขึ้นคู่กับหมู่บ้านบ่อหลวงบ่อเกลือสินเธาว์บนภูเขา จำนวน 2 บ่อ บ้านบ่อหลวงมีวัฒนธรรมประเพณีที่สำคัญ ได้แก่ ประเพณีสงกรานต์ ประเพณีลอยกระทง ประเพณีจุดบั้งไฟ เป็นต้น ลักษณะภูมิประเทศเป็นแอ่งภูเขาขนาบ 2 ด้าน มีป่าไม้ธรรมชาติอุดมสมบูรณ์ มีอาคารไม้ขนาดเล็กหลังคามุงจาก เป็นสถานที่ใช้ในการผลิตเกลือมาตั้งแต่สมัยโบราณ และการผลิตเกลือเป็นอาชีพหลักของชุมชน และมีการค้าขายสินค้าการเกษตรบ้าง',\n",
              "       'ทุ่งช้าง เป็นชุมชนเกษตรกรรม และชุมชนชาติพันธุ์ของชาวไทยลื้อ อำเภอทุ่งช้างแต่เดิมเป็นบริเวณที่เรียกว่าแขวงขุนน่าน ต่อมาในปีพ.ศ. 2457 ได้ยกฐานะเป็นอำเภอ ชื่อว่าอำเภอและตามตำบลที่ตั้งของที่ว่าการอำเภอในปี พ.ศ. 2504 ได้เปลี่ยนชื่อเป็นอำเภอทุ่งช้างและย้ายที่ว่าการอำเภอไปอยู่ที่ตำบลทุ่งช้างจนถึงปัจจุบัน ลักษณะภูมิประเทศเป็นภูเขาสูงสลับซับซ้อนพื้นที่เป็นภูเขาถึงร้อยละ 90 อากาศร้อนจัดในฤดูร้อน หนาวจัดในฤดูหนาวและฝนตกชุกในฤดูฝน มีเรือนไม้สองชั้นใต้ถุนโล่งแบบไทยลื้อ โดยมากมีการปรับเปลี่ยนวัสดุตามกาลเวลา แต่ยังคงมีความโดดเด่นที่ผนังและรูปทรงหลังคาลักษณะสังคมชนบทที่มีความเจริญในระดับหนึ่ง ซึ่งเกิดจากอาณาเขตติดกับ สปป.ลาว ทำให้เกิดการเดินทางค้าขายเป็นจำนวนมาก',\n",
              "       'บ้านห้วยหยวก เป็นชุมชนเกษตรกรรม และชุมชนชาติพันธุ์ของชาวมลาบลี โดยสมเด็จพระเทพรัตนราชสุดาฯ สยามบรมราชกุมารี ได้เสด็จพระราชดำเนินเยี่ยมหมู่บ้านชนเผ่ามลาบุรี เมื่อปี พ.ศ. 2549 โดยมีแนวพระราชดำริเสริมสร้างคุณภาพชีวิตชนเผ่ามลาบุรีหรือตองเหลืองให้ดีขึ้น ในเรื่องศักดิ์ศรีของความเป็นมนุษย์และสิทธิเสรีภาพ ส่งเสริมการศึกษาให้แก่บุตรหลานเข้าศึกษาต่อตั้งแต่ประถมและมัธยมการดูแลสุขอนามัย รวมถึงอนุรักษ์สืบสานขนบธรรมเนียมประเพณี และวัฒนธรรมของชนเผ่าแบบดั้งเดิมให้คงอยู่สืบไป ลักษณะภูมิประเทศเป็นเทือกเขาสูง มีเรือนพักอาศัยขนาดเล็กทำจากไม้ไผ่ มีจุดเด่นที่การสานลายของประตูบ้านที่ทำจากไผ่ เป็นสังคมขนาดเล็ก ประกอบอาชีพหาของป่า และรับจ้างทั่วไป ทำนา ทำไร่',\n",
              "       'บ้านปากนาย เป็นชุมชนเกษตรกรรม และชุมชนริมน้ำ เดิมเป็นหมู่บ้านริมแม่น้ำน่านหลังการสร้างเขื่อนสิริกิติ์ ชาวบ้านอพยพมาจากหลายแห่งหมู่บ้านปากนายได้กลายเป็นส่วนหนึ่งของอ่างเก็บน้ำเหนือเขื่อน ซึ่งมีลักษณะเหมือนทะเลสาบขนาดใหญ่ ลักษณะภูมิประเทศเป็นชุมชนริมน้ำขนาดใหญ่มีภูเขาขนาดใหญ่โดยรอบ มีกลุ่มเรือนแพ ที่มีการประกอบกิจกรรมหลากหลาย อาทิ ที่พักอาศัย ร้านค้า ที่พักนักท่องเที่ยว ชาวบ้านปากนายประกอบอาชีพประมง มีแพร้านอาหาร และห้องพักมีความเป็นอยู่อย่างเรียบง่ายและมีการพึ่งพาอาศัยกันอย่างมาก',\n",
              "       'ศรีโคมคำ เป็นชุมชนตลาด ชุมชนริมน้ำ และชุมชนโดยรอบโบราณสถาน โดยพบกลุ่มชาติพันธุ์ในชุมชน คือ จีนฮ่อ ไทยลื้อ ลาหู่ ม้ง เมี่ยน ลีซู และอาข่า วัดศรีโคมคำเป็นวัดที่สร้างขึ้นภายหลังจากการก่อสร้างพระเจ้าตนหลวง ตัววิหารหลังเดิมไม่ปรากฏหลักฐานแน่ชัดว่าผู้ใดสร้าง เนื่องจากเมืองพะเยามีการอพยพผู้คนจากภัยสงคราม ทำให้ตัวเมืองถูกปล่อยร้าง จนกระทั่งมีการฟื้นฟูเมืองขึ้นมาใหม่หลังยุคกรุงธนบุรีและรัตนโกสินทร์ ลักษณะภูมิประเทศเป็นที่ราบตั้งอยู่ทิศตะวันออกของกว๊านพะเยา ภายในชุมชนมีเรือนไม้สองชั้นที่มีการปรับปรุงเปลี่ยนแปลงไปตามกาลเวลา แต่ยังคงมีลักษณะเด่นจากฝาผนังและรูปทรงหลังคา เป็นกลุ่มสังคมเมืองขนาดเล็กมีความเป็นอยู่อย่างเรียบง่าย ลักษณะเศรษฐกิจเป็นแบบผสมผสานระหว่างการค้าขายรายย่อยกับรูปแบบการค้าแบบใหม่',\n",
              "       'ท่ากว๊าน เป็นชุมชนตลาด ชุมชนริมน้ำ และชุมชนกลุ่มอาชีพเฉพาะ โดยพบกลุ่มชาติพันธุ์ในชุมชน คือ จีนฮ่อ ไทยลื้อ ลาหู่ ม้ง เมี่ยน ลีซู และอาข่า เป็นชุมชนที่มีการย้ายถิ่นฐานของชุมชนร่องไฮมาอยู่ที่ท่ากว๊าน และประกอบอาชีพทำนาเลี้ยงสัตว์ ต่อมามีประชากรเริ่มอพยพมาจากบ้านกาดเมฆ อำเภอเมือง จังหวัดลำปาง มาทำมาหากินตั้งถิ่นฐาน โดยการนำเอาวัฒนธรรมการตีมีดมาด้วย จนทำให้เป็นอาชีพของชาวบ้านร่องไฮ ซึ่งประชากรที่อพยพมาจากลำปาง เริ่มมาเมื่อปี พ.ศ. 2458 ลักษณะภูมิประเทศเป็นที่ราบ ตั้งอยู่ทิศตะวันออกเฉียงใต้ของกว๊านพะเยา ปัจจุบันสภาพแวดล้อมของชุมชนโดยรวมมีการเปลี่ยนแปลงไปมาก แต่ยังคงมีเรือนแถวไม้ขนาดเล็กหลงเหลืออยู่ในตรอกซอกซอยซึ่งห่างไกลจากถนนหลัก เขตเมืองสมัยใหม่ทั้งบ้านพักค้าขายอาคารทางราชการ แหล่งเศรษฐกิจที่ทันสมัยของอำเภอ',\n",
              "       'หนองระบู เป็นชุมชนตลาด และชุมชนริมน้ำ โดยพบกลุ่มชาติพันธุ์ คือ จีนฮ่อ ไทยลื้อ ลาหู่ ม้ง เมี่ยน ลีซู และอาข่า เป็นศูนย์กลางของตลาดการแลกเปลี่ยนสินค้าของเมืองพะเยามานาน เป็นเส้นทางหลักในการเดินทางของเมืองพะเยา ลักษณะภูมิประเทศเป็นที่ราบ ถูกขนาบด้วยกว๊านพะเยาทางฝั่งซ้าย และถนนพหลโยธินทางฝั่งขวา มีเรือนแถวไม้สองชั้น ชั้นล่างเพื่อการค้าขาย ชั้นบนเพื่อพักอาศัย ลักษณะเด่นที่รูปแบบของฝาผนัง และราวระเบียงที่มีความสวยงาม รวมถึงบ้านบางหลังยังคงใช้รั้วไม้แบบโบราณอยู่ เป็นชุมชนเศรษฐกิจที่เป็นศูนย์กลางของจังหวัดในหลาย ๆ ด้าน มีการเตรียมการพัฒนาเป็นศูนย์กลางด้านการรักษาโรคด้วยสมุนไพร',\n",
              "       'ภูกามยาว เป็นชุมชนเกษตรกรรม ชุมชนกลุ่มอาชีพเฉพาะ ชุมชนโดยรอบโบราณสถาน และชุมชนชาติพันธุ์ของชาวจีนฮ่อ ไทยลื้อ ลาหู่ ม้ง เมี่ยน ลีซู และอาข่า ในสมัยพ่อขุนงำเมือง \"เมืองภูกามยาว\" เคยมีเอกราชสมบูรณ์ มีกษัตริย์ปกครองปรากฏตามตำนานเมืองพะเยา และได้ถูกรวมกับอาณาจักรล้านนาตั้งแต่ปี พ.ศ. 2386 ลักษณะภูมิประเทศของชุมชนคือ ตั้งอยู่บนที่ราบ ส่วนวัดสำคัญทั้งสองแห่งตั้งอยู่บนเนินเขาสูง ลักษณะชุมชนมีการปลูกสร้างบ้านเรือนกระจายตัว โดยมีวัดเป็นศูนย์กลางชุมชน ลักษณะเรือนเป็นเรือนไม้ขนาดเล็ก ชุมชนชนบทขนาดเล็กมีการทำการเกษตรเป็นส่วนใหญ่ และค้าขายรายย่อยอีกส่วนหนึ่ง',\n",
              "       'บ้านห้วยแม่ซ้าย เป็นชุมชนเกษตรกรรม และชุมชนชาติพันธุ์ของชาวเขาเผ่ามูเซอแดง ที่อพยพมาจากพม่าเข้าสู่ประเทศไทย อาศัยอยู่บริเวณดอยตุง เมื่อประมาณปี พ.ศ. 2510 ได้อพยพเคลื่อนย้ายมาอยู่บริเวณบ้านยะฟูเดิม ซึ่งอยู่ทางทิศตะวันตกเฉียงเหนือของบ้านดอยยาวปัจจุบัน ลักษณะภูมิประเทศเป็นพื้นที่ราบระหว่างภูเขาและมีภูเขาสูงล้อมรอบชุมชน มีลำห้วยแม่ซ้ายไหลผ่านทางทิศใต้ของพื้นที่ ซึ่งเป็นแหล่งน้ำสำคัญของชุมชน เป็นชุมชนเรือนไม้เดี่ยวที่ตั้งอยู่บนที่ราบระหว่างภูเขา พื้นดินยังมีลักษณะลาดเอียงเล็กน้อย กระจุกตัวเป็นกลุ่มโดยมีถนนแม่ฟ้าหลวง (1207) ตัดผ่านกลางหมู่บ้าน มีความต่อเนื่องใกล้ชิดกัน มีเรือนไม้เก่าที่มีสภาพดั้งเดิม คือ ยกใต้ถุนสูง หลังคามุงจากหลงเหลืออยู่บ้าง ภายในชุมชนมีการจัดการเรื่องการท่องเที่ยวของชุมชนตามศักยภาพของชุมชน มีการอนุรักษ์วัฒนธรรม ประเพณี ความเชื่อ แบบดั้งเดิมอยู่ ปัจจุบันมีอาชีพที่สำคัญ ได้แก่ อาชีพการเกษตร อาชีพเลี้ยงสัตว์ อาชีพหัตถกรรมฝีมือพื้นบ้านของกลุ่มแม่บ้าน',\n",
              "       'บ้านถ้ำผาตอง เป็นชุมชนเกษตรกรรม และชุมชนกลุ่มอาชีพเฉพาะ เป็นแหล่งศึกษาและการเรียนรู้ภูมิปัญญาพื้นบ้าน ผลิตและขายสินค้าหนึ่งตำบลหนึ่งผลิตภัณฑ์ (OTOP) โดยมีนายคำจันทร์ ยาโน เป็นผู้ถ่ายทอดการแกะสลักไม้ เช่น กระบวยตักน้ำกะลามะพร้าว ให้ความรู้ ทั้งนักศึกษา นักวิจัย เป็นระยะเวลา 27 ปี ลักษณะภูมิประเทศเป็นพื้นที่ทำการเกษตรกรรม ปลูกพืชไร่ พืชสวน มีบ้านเรือนตั้งอยู่กระจายภายในชุมชน ปัจจุบันอยู่ระหว่างการจัดตั้งบ้านแสดงไม้แกะสลักเป็นพิพิธภัณฑ์ โดยได้รับความสนับสนุนจากสำนักงานวัฒนธรรมจังหวัดเชียงราย ให้เป็นศูนย์กลางของการแกะสลักไม้',\n",
              "       'บ้านกะเหรี่ยงรวมมิตร เป็นชุมชนเกษตรกรรม ชุมชนตลาด ชุมชนริมน้ำ และเป็นชุมชนชาติพันธุ์ของชาวกะเหรี่ยง เป็นหมู่บ้านท่องเที่ยวเชิงนิเวศริมแม่น้ำกก มีปางช้างสำหรับพานักท่องเที่ยว เที่ยวชมรอบ ๆ หมู่บ้าน ประชากรส่วนใหญ่เป็นชาวกะเหรี่ยง นับถือศาสนาคริสต์ ลักษณะภูมิประเทศเป็นพื้นที่สูงและพื้นที่ราบ โดยมีถนนสายหลักตัดผ่านหมู่บ้าน และมีแม่น้ำกกไหลผ่าน มีเส้นทางท่องเที่ยวโดยรอบหมู่บ้าน บ้านเรือนอยู่อย่างหนาแน่น ปัจจุบันเป็นชุมชนหนึ่งของการท่องเที่ยวริมแม่น้ำกก เป็นหมู่บ้านที่จัดกิจกรรมท่องเที่ยวเชิงนิเวศ ค้าขาย และเน้นการท่องเที่ยว',\n",
              "       'บ้านโป่งน้ำร้อน เป็นชุมชนชาติพันธุ์ของคนเมือง (ไทยวน) อาข่า จีนยูนาน และลีซอ เป็นแหล่งศึกษาวัฒนธรรมของชุมชนที่หลากหลาย ของกลุ่ม 4 ชาติพันธุ์ ลักษณะภูมิประเทศตั้งอยู่ในหุบเขา อากาศเย็นตลอดปี แบ่งออกเป็น 4 หย่อมบ้าน คือ หย่อมบ้านคนเมือง หย่อมบ้าน สองแคว (คนจีน) หย่อมบ้านอาข่า และหย่อมบ้านลีซอ เป็นชุมชนอยู่ระหว่างถนนสายรอง และอีกด้านของชุมชนติดริมแม่น้ำกก มีบ่อน้ำพุร้อนซึ่งเป็นแหล่งท่องเที่ยวชุมชน และมีพื้นที่สำหรับการปลูกชา มีภูมิปัญญาท้องถิ่นเรื่องการรักษาแบบพื้นบ้าน จักสาน ทำเฟอร์นิเจอร์ไม้ไผ่ และเมี่ยงชา',\n",
              "       'บ้านจะคือ เป็นชุมชนเกษตรกรรม ชุมชนริมน้ำ และชุมชนชาติพันธุ์ของชาวลาหู่ โดยหมู่บ้านจะคือ ตั้งตามชื่อของผู้นำหมู่บ้านคนแรก เมื่อปี พ.ศ. 2514 บริเวณริมแม่น้ำกก จำนวน 25 หลังคาเรือน มีป่าเขาล้อมรอบหมู่บ้าน มีแม่น้ำกกไหลผ่าน เป็นชาติพันธุ์ชาวลาหู่ ที่ยังคงรักษาเอกลักษณ์ ประเพณี และความเชื่อดั้งเดิมไว้ ลักษณะภูมิประเทศอยู่บนพื้นที่สูง มีป่าเขาล้อมรอบหมู่บ้าน และแม่น้ำกกไหลผ่าน ถนนเข้าหมู่บ้านเป็นดินลูกรัง เป็นหมู่บ้านที่คงสถานที่สำคัญและเอกลักษณ์ของชนเผ่าลาหู่ เช่น ลานพิธีกรรม ซึ่งเป็นสถานที่ประกอบพิธีกรรม ตลอดจนจัดกิจกรรมของชุมชน และเนื่องจากระบบไฟฟ้ายังไม่มี ภายในชุมชนจึงใช้ระบบ Solar cell ทดแทน มีอาชีพทำพืชไร่ เช่น ข้าวโพด',\n",
              "       'บ้านสันป่าก่อ เป็นชุมชนเกษตรกรรม และชุมชนชาติพันธุ์ของชาวไทใหญ่ที่อพยพมาจากประเทศพม่า เป็นชุมชนที่คงวัฒนธรรมของตนเองได้อย่างดี แม้อยู่ท่ามกลางบริบทของพื้นที่เมือง ลักษณะภูมิประเทศ ตั้งอยู่ในเขตเทศบาลเมืองเชียงราย หมู่ที่ 13 ตำบลรอบเวียง อำเภอเมือง จังหวัดเชียงราย อยู่ห่างจากตัวเมืองเชียงราย ประมาณ 3 กิโลเมตร บริเวณใกล้เคียงกับชุมชนเป็นสถานบันเทิง โรงแรม สนามบินของกองทัพอากาศ เป็นชุมชนโบราณที่มีสถาปัตยกรรมบ้านเรือนเป็นรูปแบบสถาปัตยกรรมไทใหญ่ โดยเฉพาะในวัดสันป่าก่อ ที่ประกอบด้วยอาคารรูปแบบไทใหญ่อยู่หลายหลัง ผู้คนส่วนใหญ่ประกอบอาชีพค้าขาย โดยเฉพาะร้านอาหารพื้นถิ่นของชาวไทใหญ่',\n",
              "       'บ้านฮ่องแฮ่หลวง เป็นชุมชนเกษตรกรรม และชุมชนกลุ่มอาชีพเฉพาะ ไม่มีประวัติของชุมชนที่ชัดเจน ลักษณะภูมิประเทศ มีลักษณะเป็นที่ราบขนาดใหญ่ ซึ่งอยู่ห่างจากพื้นที่เขาจากทางทิศตะวันตกไปประมาณ 5 กิโลเมตร มีลักษณะเป็นผืนนาขนาดใหญ่มาก ไม่มีพื้นที่ป่าตามธรรมชาติในบริเวณที่ราบ เป็นชุมชนเรือนเดี่ยว ซึ่งโดยมากยังเป็นเรือนไม้หลังคาสังกะสี มีสภาพดี กระจุกตัวอยู่ตามถนนสายรองที่แยกออกมาจากถนนพหลโยธิน โดยบ้านเรือนวางตัวใกล้ชิดกัน ล้อมรอบชุมชนด้วยพื้นที่ผืนนาขนาดใหญ่ อาชีพหลัก คือ การทำนา ทำสวน ทำไร่ อาชีพเสริม คือ ทำเสื่อกก',\n",
              "       'บ้านศรีดอนชัย เป็นชุมชนเกษตรกรรม และชุมชนชาติพันธุ์ของชาวไทลื้อ เดิมตั้งอยู่ที่เมืองอูเหนือ แคว้นสิบสองปันนา มณฑลยูนนานประเทศจีนตอนใต้ ต่อมาการทำมาหากินขัดสนและถูกจีนรุกราน ในปี พ.ศ. 2428 ชาวไทลื้อจำนวน 994 คน จึงได้อพยพมายังที่ตั้งปัจจุบัน ลักษณะภูมิประเทศตั้งอยู่ตอนบนสุดของประเทศไทย มีอาณาเขตติดกับประเทศลาว กั้นโดยแม่น้ำแม่โขง พื้นที่ล้อมรอมด้วย สวน ไร่ นา และมีพื้นที่ป่าธรรมชาติแทรกตัวอยู่ เป็นชุมชนที่โดดเด่นเรื่องการทอผ้า มีอาชีพหลักทั่วไปเป็นการทำนาและทำสวน แต่ที่โดดเด่นคือ กลุ่มทอผ้าบ้านศรีดอนชัย เป็นภูมิปัญญากลุ่มทอผ้าสตรีบ้านศรีดอนชัย เกิดจากการรวบรวมกลุ่มสตรีในหมู่บ้านมารวมกลุ่มกัน เพื่อผลิตและทอผ้า  ส่วนใหญ่จะเป็นลายไทลื้อ มีการพัฒนาผลิตภัณฑ์ให้หลากหลายมากขึ้น เช่น ซองใส่โทรศัพท์ ผ้าปูโต๊ะ ที่รองแก้ว ฯลฯ',\n",
              "       'บ้านหาดบ้าย เป็นชุมชนเกษตรกรรม ชุมชนริมน้ำ และชุมชนชาติพันธุ์ของชาวไทลื้อ ประวัติศาสตร์ชุมชน เดิมตั้งอยู่ที่เมืองอูเหนือ แคว้นสิบสองปันนา มณฑลยูนนาน ประเทศจีนตอนใต้ ต่อมาการทำมาหากินขัดสนและถูกจีนรุกราน จึงได้อพยพ ย้ายหนีออกมาอยู่บ้านหาดบ้าย ปัจจุบันมีชนเผ่าอื่นเข้ามาอยู่ด้วยในบริเวณใกล้เคียง โดยชาวบ้านหาดบ้ายยินดีและยอมรับมากขึ้น ลักษณะภูมิประเทศตั้งอยู่บนพื้นที่ราบลุ่มฝั่งแม่น้ำโขงทางด้านตอนเหนือของดอยหลวง ชายแดนระหว่างอำเภอเชียงของ-เชียงแสน รวมทั้งชายแดนประเทศไทยและลาว มีแม่น้ำโขงกั้นพรมแดนลักษณะเป็นพื้นที่เกษตรกรรมในพื้นที่ใกล้ริมแม่น้ำโขง เป็นชุมชนที่มีอาชีพทอผ้า โดยกระจายตัวภายในชุมชนในบ้านเรือนแต่ละหลัง บ้านเรือนส่วนใหญ่ยังคงเป็นรูปแบบโบราณชาวไทลื้อ',\n",
              "       'บ้านดอยหัวแม่คำ เป็นชุมชนเกษตรกรรม และชุมชนชาติพันธุ์ของชาวอาข่า ลาหู่ ที่ได้อพยพมาจากพม่ามาอยู่ประเทศไทยเมื่อ พ.ศ. 2423 ที่ดอยพญาไพร ตำบลเทอดไทย อำเภอแม่ฟู่หลวง จังหวัดเชียงราย ปี พ.ศ. 2462 มีการย้ายถิ่นฐานบ่อยครั้ง เพื่อเปลี่ยนที่ทำกินและหนีโรคระบาด ลักษณะภูมิประเทศตั้งอยู่บนสันเขา ตะเข็บชายแดนไทย-พม่า อยู่สูงจากระดับน้ำทะเลปานกลาง 1,850 เมตร สภาพโดยรอบเป็นที่เขาสูงชัน มีป่าธรรมชาติหนาแน่น ทางทิศตะวันตกเป็นพื้นที่เพาะปลูกทางทิศตะวันออก มีสภาพเป็นชุมชนเรือนไม้หลังคามุงจากแบบดั้งเดิม มีอาคารสมัยใหม่อยู่น้อยใช้สำหรับรองรับการท่องเที่ยว พื้นที่ชุมชนอยู่ผสานไปกับพื้นที่ป่า มีภูมิทัศน์กว้าง มองเห็นพื้นที่ระดับต่ำลงไปได้อย่างทั่วถึง อาชีพหลัก คือ ทำนา ทำสวน ทำไร่ และอาชีพเสริม คือ ทำเสื่อกก',\n",
              "       'บ้านห้วยน้ำขุ่น เป็นชุมชนเกษตรกรรม ชุมชนริมน้ำ และชุมชนชาติพันธุ์ของชาวไทใหญ่ ไทลื้อ ลัวะ อาข่า ลาหู่ และลีซอ มีชื่อเดิมว่า บ้านใหม่สูง ประชากรส่วนใหญ่เป็นชาวไทใหญ่ สื่อสารด้วยตัวอักษรไทใหญ่ เป็นชุมชนต้นแบบของชุมชนพลัดถิ่น ลักษณะภูมิประเทศ เป็นป่าอุดมสมบูรณ์ มีไม้ไผ่ และไม้ตองเป็นส่วนใหญ่ มีเส้นทางน้ำไหลผ่านกลางหมู่บ้าน โดยแหล่งน้ำในบ้านห้วยน้ำขุ่นมี 2 แห่ง คือ ลำห้วยช้าง และลำห้วยแม่ไร่ บ้านห้วยน้ำขุ่นถูกรายล้อมด้วยภูเขาและธรรมชาติที่มีความอุดมสมบูรณ์ ผู้คนส่วนใหญ่มีอาชีพค้าขาย ทำเกษตรกรรม และเลี้ยงสัตว์',\n",
              "       'บ้านสันติคีรี เป็นชุมชนเกษตรกรรม ชุมชนตลาด และชุมชนชาติพันธุ์โดยเป็นหมู่บ้านของชาวจีนอพยพกองพลที่ 93 ที่มาจากประเทศจีน บริเวณดอยแม่สลองประกอบด้วยหลายชุมชน ในตำบลแม่สลอง มีเชื้อชาติ 2 กลุ่ม ได้แก่ จีนฮ่อ (ยูนนาน) และอาข่า เป็นส่วนใหญ่ ลักษณธภูมิประเทศ เป็นพื้นที่บนภูเขาสูงจากระดับน้ำทะเลเฉลี่ย 1,200 เมตร เป็นยอดดอยหนึ่งในภูเขาแดนลาว เป็นชุมชนค้าขายขนาดใหญ่บนพื้นที่ของดอยแม่สลอง ส่วนใหญ่เป็นร้านค้าดั้งเดิมโบราณค้าขายอาหารจีนยูนนาน และชา รูปแบบอาคารยังคงเป็นสถาปัตยกรรมแบบจีนดั้งเดิม ผู้คนส่วนใหญ่มีอาชีพทำการเกษตรกรรมและค้าขาย โดยปลูกชาจีน กาแฟ พืชผัก และดอกไม้เมืองหนาว',\n",
              "       'บ้านแสนเจริญเก่า เป็นชุมชนเกษตรกรรม และชุมชนชาติพันธุ์ของชาวอาข่า (อีก้อ) เดิมมีชื่อว่า หมู่บ้านห้วยป่าเคาะ เนื่องจากมีป่าเคาะมาก ตั้งอยู่ตามแนวเขา มีป่าไม้ที่อุดมสมบูรณ์ และมีระบบจัดการป่าที่ค่อนข้างดีเพราะมีความเชื่อในเรื่องการรักษาป่า น้ำ ดิน และอากาศ ลักษณะภูมิประเทศ ที่ตั้งของชุมชนจะอยู่ตามแนวเขา มีป่าไม้ที่อุดมสมบูรณ์โดยเฉพาะป่าเบญจพรรณ บ้านเรือนส่วนใหญ่ถูกปรับเปลี่ยนจากรูปแบบของชาวอาข่าเดิม โดยส่วนมากเป็นบ้านไม้สองชั้นปลูกไล่เลียงไปตามไหล่เขา และในแต่ละหลังมีพื้นที่เก็บผลิตผลทางการเกษตร โดยส่วนใหญ่จะปลูกข้าวโพด พืชตระกูลถั่ว และลิ้นจี่',\n",
              "       'บ้านห้วยขี้เหล็ก เป็นชุมชนเกษตรกรรรม และชุมชนชาติพันธุ์ของชาวอาข่า ลักษณะภูมิประเทศจะอยู่บนเนินเขาและไหล่เขาทอดยาว สูงจากระดับน้ำทะเลประมาณ 800 เมตร พื้นที่ชุมชนมีภูเขาล้อมรอบ มีป่าไม้ รวมทั้งเป็นแหล่งรวมของพืชพันธุ์ สมุนไพรที่มีสรรพคุณยอดเยี่ยม มีเขตป่าอนุรักษ์และเขตป่าใช้สอย บ้านเรือนส่วนใหญ่ยังคงเป็นรูปแบบสถาปัตยกรรมพื้นถิ่นของชาวอาข่า ตั้งอยู่กระจายโดยรอบชุมชน มีอาชีพทำเกษตรกรรม และป่าสมุนไพร',\n",
              "       'บ้านป่าส้านเป็นชุมชนเกษตรกรรม โดยชุมชนก่อตั้งขึ้นเมื่อประมาณ พ.ศ. 2420 โดยกลุ่มชาวล้านนาที่อพยพมาจากบ้านถ้ำ บ้านขอ บ้ามเอื้อม และบ้านแจ้ห่ม ในเขตจังหวัดลำปาง โดยชื่อของชุมชน มาจากบริเวณที่ตั้งนั้นมีป่าไม้ที่อุดมสมบูรณ์และมีไม้ส้านขึ้นหนาแน่น หมู่บ้านตั้งอยู่บนที่ลาดเชิงเขาระหว่างป่ากับพื้นราบ มีถนนตัดผ่านกลางหมู่บ้าน มีแม่น้ำลาวอยู่ทางด้านทิศตะวันตกของหมู่บ้าน เป็นหมู่บ้านที่มีความอุดมสมบูรณ์ของป่าไม้ และมีระบบจัดการป่าที่ดี ส่วนใหญ่ทำอาชีพเกษตรกรรม',\n",
              "       'บ้านห้วยน้ำริน เป็นชุมชนเกษตรกรรม ชุมชนริมน้ำ และชุมชนชาติพันธุ์ของชนเผ่าลาหู่ แซแล มูเซอดำ ที่อาศัยอยู่รวมกันมานานแล้ว มีวัฒนธรรมของแต่ละชนเผ่า และโดดเด่นเรื่องการละเล่นเครื่องดนตรี ลักษณะภูมิประเทศตั้งอยู่บนที่ลาดเชิงเขาระหว่างป่ากับพื้นราบ พื้นที่ราบมีเพียงเล็กน้อย มีลำห้วยน้ำริน และลำห้วยแม่โถน้อย ไหลผ่านจากใต้ไปเหนือไปรวมกับแม่น้ำลาว เรื่อยลงสู่แม่น้ำโขง มีถนนตัดผ่านกลางหมู่บ้าน มีแม่น้ำลาวอยู่ทางด้านทิศตะวันตกของหมู่บ้าน บ้านเรือนส่วนใหญ่ยังคงเป็นเรือนพื้นถิ่นดั้งเดิม โดยในแต่ละหลังจะมียุ้งข้าวและคอกไก่ประจำบ้าน รวมไปถึงครกกระเดื่องตำข้าว มีอาชีพทำเกษตรกรรม ปลูกข้าวไร่ ข้าวโพด หัตถกรรมของชาวเขา การทอผ้า และทำเครื่องเงินแบบกรรมวิธีโบราณ',\n",
              "       'บ้านห้วยหินลาดใน เป็นชุมชนเกษตรกรรม และชุมชนชาติพันธุ์ของชาวกะเหรี่ยงปกาเกอะญอ มีการตั้งถิ่นฐานประมาณ 80-100 ปีมาแล้ว มีจำนวน 22 ครัวเรือน ลักษณะภูมิประเทศล้อมรอบด้วยภูเขาที่สลับซับซ้อนของเทือกเขาอุทยานแห่งชาติขุนแจ เป็นต้นกำเนิดลำห้วยที่สำคัญกว่า 14 ลำห้วย ที่ไหลมารวมกัน เรียกบริเวณนี้ว่า หินลาดโกละ มีผืนป่าอนุรักษ์กว่า 10,000 ไร่ และบ้านเรือนส่วนใหญ่เป็นรูปแบบสมัยใหม่ โดยมีการแบ่งพื้นที่อย่างชัดเจน ส่วนใหญ่มีอาชีพทำเกษตรกรรม',\n",
              "       'เวียงกาหลง เป็นชุมชนเกษตรกรรม และเป็นชุมชนที่อยู่โดยรอบโบราณสถาน คือเมืองโบราณเวียงกาหลง สร้างขึ้นในช่วงประมาณ พ.ศ. 1500-1600 ซึ่งอยู่ในอาณาจักรแว่นแคว้นยวนเชียง (ซึ่งสันนิษฐานว่าเป็นเมืองเชียงลาวหรือเชียงรายในปัจจุบัน) จากการขุดค้นบริเวณเมืองโบราณ พบเตาเผาเครื่องเคลือบกว่า 200 เตา แสดงให้เห็นว่าในอดีตเมืองนี้เป็นชุมชนใหญ่ และตั้งอยู่ท่ามกลางเมืองต่าง ๆ ของอาณาจักรล้านนา ลักษณะภูมิประเทศตั้งอยู่บนเทือกเขาดอยดงในเทือกเขาดอยหลวง ในเขตบ้านป่าส้าน เมืองโบราณเวียงกาหลง ตั้งอยู่บนเนินเขา มีกำแพงคันดินและคูเมืองล้อมรอบ แบ่งออกเป็นสองส่วนใหญ่ ๆ มีพื้นที่ทั้งหมดประมาณ 431 ไร่ คูเมืองและกำแพงคันดินโดยรอบยาว 3,350 เมตร ส่วนใหญ่มีอาชีพปั้นเครื่องปั้นดินเผา ทำเกษตรกรรม',\n",
              "       'เชียงแสน เป็นชุมชนริมน้ำ ชุมชนความทรงจำ และชุมชนที่อยู่โดยรอบโบราณสถาน เดิมเมืองเชียงแสนเป็นศูนย์กลางของอาณาจักรล้านนาในยุคแรก ๆ เดิมชื่อว่าเวียงหิรัญนครเงินยาง และในระยะเวลาต่อมา พญามังรายได้ส่งพญาแสนภูผู้เป็นหลานมาควบคุมดูแลเมืองบริเวณที่ราบลุ่มแม่น้ำกกและแม่น้ำโขง โดยในระยะแรก พญาแสนภูเข้ามาพักชั่วคราวบริเวณปากแม่น้ำกก (เชียงแสนน้อยในปัจจุบัน) ต่อมาได้ช่วยสร้างเมืองเชียงแสนขึ้นตรงบริเวณพื้นที่ที่เคยเป็นเมืองเก่าเดิม ลักษณะภูมิประเทศ เป็นชุมชนโบราณตั้งอยู่ริมฝั่งแม่น้ำโขง มีคูน้ำล้อมรอบ และมีกำแพงเมือง 3 ด้าน ยกเว้นด้านทิศตะวันออกเพราะใช้น้ำเป็นคูปราการ มีซากกำแพงเมืองโบราณ 2 ชั้น และโบราณสถานหลายแห่ง ภายในเขตกำแพงเก่าประกอบด้วยวัดร้างและโบราณสถานที่สร้างระหว่าง พุทธศตวรรษที่ 18-21 ส่วนใหญ่ผู้คนในชุมชนประกอบอาชีพค้าขาย',\n",
              "       'บ้านในสอย เป็นชุมชนเกษตรกรรม และชุมชนชาติพันธุ์ของชาวไทใหญ่ กะเหรี่ยงขาว กะเหรี่ยงแดง จีนฮ่อ และคนเมือง เป็นหมู่บ้านที่ตั้งอยู่ติดเขตชายแดนพม่า เป็นชุมชนในเขตอำเภอเมือง แต่เป็นชุมชนในพื้นที่ชายแดนไทย-พม่า และอยู่ใกล้กับที่พักพิงผู้ลี้ภัยจากรัฐกะเรนนี ลักษณะภูมิประเทศ เป็นที่ราบภูเขาสลับซับซ้อน มีบ้านเรือนส่วนใหญ่เป็นรูปแบบพื้นถิ่นดั้งเดิม สูง 1 ชั้น และ 2 ชั้น โดยใช้วัสดุธรรมชาติ ตั้งอยู่รวมกันเป็นกลุ่มใหญ่ โดยแบ่งพื้นที่เป็นพื้นที่ค้าขายสำหรับบริการนักท่องเที่ยว ส่วนใหญ่ประกอบอาชีพเกษตรกรรม และค้าขาย',\n",
              "       'บ้านปางหมู เป็นชุมชนเกษตรกรรม และชุมชนชาติพันธุ์ของชาวไทใหญ่ เป็นชุมชนที่มีประวัติศาสตร์ยาวนาน แต่เดิมอยู่ที่ดอยเวียปอน มาจากคำว่า \"พร\" หรือเมืองที่มีสิริมงคล ตั้งอยู่ในหุบเขาอยู่ห่างจากอำเภอขุนยวม ลักษณะภูมิประเทศเป็นที่ราบลุ่ม มีแม่น้ำปายไหลผ่าน ทำให้พื้นที่มีความอุดมสมบูรณ์ เหมาะแก่การทำการเกษตร มีพื้นที่ป่าชุมชนอยู่ภายใต้การดูแลของอุทยานแห่งชาติน้ำตกแม่สุรินทร์ มีบ้านเรือนเป็นรูปแบบสมัยใหม่ เป็นอาคารไม้สลับกับคอนกรีต โดยยังคงเหลือบ้านไม้รูปแบบสถาปัตยกรรมแบบไทใหญ่อยู่เป็นส่วนน้อย ส่วนใหญ่ประกอบอาชีพเกษตรกรรมปลูกข้าวถั่วเหลือง ที่เหลือประกอบอาชีพค้าขายและรับจ้างทั่วไป',\n",
              "       'บ้านรักไทย เป็นชุมชนเกษตรกรรม และชุมชนชาติพันธุ์ของม้ง เดิมชื่อว่า แม่ออใหม่ เป็นหมู่บ้านชาวจีนยูนาน อดีตทหารจีนคณะชาติ  (กองพล 93) \"ก๊กมินตั๊ง\" ยังมีการสืบทอดประเพณีของชาวจีนฮ่อหลายอย่าง ทั้งการพูดและการเขียน ลักษณะภูมิประเทศเป็นหมู่บ้านสุดท้ายที่มีชายแดนติดกับประเทศพม่า ตั้งอยู่บริเวณที่ราบภูเขา มีภูเขาล้อมรอบ สภาพป่าเสื่อมโทรม มีอ่างเก็บน้ำตั้งอยู่กลางหมู่บ้าน อยู่สูงจากระดับน้ำทะเลกว่า 1,776 เมตร ทำให้พื้นที่เหมาะสมสำหรับการปลูกชาพันธุ์ดี และพืชเมืองหนาว มีอาคารบ้านเรือนส่วนใหญ่เป็นรูปแบบของบ้านดิน มีลักษณะที่เป็นบ้านแบบเก่าที่ทำมาจากดินเหนียวผสมฟางข้าว ประดับประดาด้วยอักษรจีน คล้ายกับชุมชนชนบทของเมืองจีน ส่วนใหญ่ทำการค้าขาย และเป็นชุมชนการท่องเที่ยว',\n",
              "       'บ้านรุ่งอรุณ เป็นชุมชนเกษตรกรรม และชุมชนชาติพันธุ์ของจีนยูนาน เดิมชื่อว่าหมู่บ้านแม่สุยะ (จีน) เป็นหมู่บ้านของคนจีนและครอบครัวอดีตทหารคณะชาติ ที่อพยพเข้ามาอยู่ในประเทศไทยตั้งแต่ปี พ.ศ. 2473-2504 ลักษณะภูมิประเทศตั้งอยู่บริเวณที่ราบระหว่างภูเขา พื้นที่โดยรอบหมู่บ้านเป็นภูเขาสูง สภาพภูเขาเป็นภูเขาหินเกิดจากการสลายตัวของภูเขาไฟในอดีต มีลำห้วยแม่สุยะไหลผ่านไปบรรจบกับลำน้ำของ และไหลลงสู่ลำน้ำปาย มีบ้านเรือนเป็นรูปแบบจีนโบราณ นิยมใช้วัสดุเป็นคอนกรีต โดยมีพื้นที่สำหรับเก็บและตากผลผลิตจากพืชไร่ และมีเรือนเก่าบางส่วนที่มีการผสมผสานรูปแบบสถาปัตยกรรมของชาวไทยใหญ่ ส่วนใหญ่ประกอบอาชีพเกษตรกรรม',\n",
              "       'บ้านห้วยเสือเฒ่า เป็นชุมชนเกษตรกรรม ชุมชนริมน้ำ และชุมชนชาติพันธุ์ของกะเหรี่ยง มีชื่อเรียกหลายชื่อ ได้แก่ กะยัน และปาดอง ได้อพยพจากประเทศพม่าและมาอาศัยอยู่ในประเทศไทยที่บ้านห้วยเสือเฒ่า มีวัฒนธรรมการสวมห่วงทองเหลืองเกี่ยวพันกับความงาม ความโดดเด่นของร่างกายและเผ่าพันธุ์ โดยห่วงห้าชั้นแรกจะใส่ตอนอายุ 10 ขวบปี (แต่ปัจจุบันพบว่ามีอายุ 5 ขวบปี) พร้อมกับพิธีเฉลิมฉลอง และจะเติมมากขึ้น ๆ จนโตเป็นสาว หญิงปาดองจะมีห่วงคอถึง 20 ชั้น ลักษณะภูมิประเทศ ตั้งอยู่ห่างจากตัวเมืองประมาณ 6 กิโลเมตร มีลักษณะเป็นธรรมชาติ โดยรอบจะเป็นป่าไม้ร่มรื่น ทางเข้าของบ้านห้วยเสือเฒ่าจะผ่านฝายทดน้ำที่มีน้ำล้นหลายฝาย ลักษณะบ้านเรือนจะยกพื้น หลังคามุงด้วยใบตองตึง ปลูกลดหลั่นไปตามแนวลาดของภูเขา ส่วนใหญ่มีอาชีพทำเกษตรกรรม',\n",
              "       'บ้านห้วยฮี้ เป็นชุมชนเกษตรกรรม และชุมชนชาติพันธุ์ของกะเหรี่ยง (ปกาเกอะญอ) เป็นหมู่บ้านมีอายุกว่า 200 ปี ชื่อหมู่บ้านเรียกตามพันธุ์ไม้ชนิดหนึ่ง ซึ่งมีลักษณะเหมือนไม้ไผ่ ลักษณะภูมิประเทศเป็นภูเขาสูงชัน ป่าเขาสลับซับซ้อน โดยมีความสูงจากระดับน้ำทะเล 1,722 เมตร บริเวณสูงสุดคือ ดอยปุย เป็นเนินเขาและทุ่งหญ้า สามารถมองเห็นทิวทัศน์ได้โดยรอบ 360 องศาบ้านเรือนส่วนใหญ่ยังเป็นรูปแบบพื้นถิ่นดั้งเดิม โดยใช้วัสดุจากธรรมชาติ หลังคามุงด้วยใบตองตึง ปลูกอยู่กระจายไปตามไหล่เขา เป็นหมู่บ้านที่ดำเนินวิถีชีวิตตามหลักปรัชญาเศรษฐกิจพอเพียงของพระบาทสมเด็จพระเจ้าอยู่หัว',\n",
              "       'ย่านถนนสิงหนาถบำรุง เป็นชุมชนตลาด และชุมชนชาติพันธุ์ของไทใหญ่ (ไต) เดิมเป็นย่านธุรกิจการค้าตั้งแต่สมัยอดีต เป็นตลาดเก่าและมีประตูเมืองเก่าเรียกว่าประตูดำ เป็นประตูที่นำศพคนตายไปสู่ป่าช้า โดยถนนสายนี้จะผ่านหน้าบ้านพญาสิงหนาทราชา ผู้ปกครองเมืองแม่ฮ่องสอนองค์แรก ระหว่างปี พ.ศ. 2410-2427 จึงได้ตั้งชื่อถนนว่า \" ถนนสิงหนาทบำรุง\" ลักษณะภูมิประเทศเป็นชุมชนตั้งบ้านเรือนอยู่ริม 2 ฝั่ง ข้างถนนสิงหนาทบำรุง มีบ้านเรือนเก่าสมัยรัชกาลที่ 5 รวม 10 หลังคาเรือน ลักษณะของบ้านไม้เรือนเก่าจะปลูกเป็นสองชั้นยกพื้นสูงหลังคามุงด้วยสังกะสีลอนใหญ่อยู่ตลอดสองข้างทางถนน ส่วนใหญ่ประกอบอาชีพค้าขาย',\n",
              "       'บ้านจ่าโบ่ เป็นชุมชนเกษตรกรรม และชุมชนชาติพันธุ์ของลาหู่หรือมูเซอดำ ที่นับถือศาสนาพุทธ นิกายหินยาน/ผีบรรพบุรุษ  ย้ายมาจากห้วยยาวโดยการนำของ นายจ่าโบ่ ไพรเนติธรรม เพราะเกิดโรคระบาดขึ้น โดยตั้งเป็น \"ชุมชนจาโบ่\" ซึ่งมาจากชื่อของผู้นำหมู่บ้าน ลักษณะภูมิประเทศ เป็นหมู่บ้านตั้งอยู่บนเขาสูงประมาณ 900 เมตร รายล้อมด้วยป่าไม้ที่อุดมสมบูรณ์ ปัจจุบันบ้านจ่าโบ่มีประชากรทั้งหมด 226 คน มีจำนวน 53 ครัวเรือน เป็นบ้านเรือนรูปแบบเก่าสลับกับสมัยใหม่ ส่วนใหญ่ยังคงเป็นเรือนไม้ ยกพื้นสูง ปลูกติดริมถนนและกระจายไปตามไหล่เขา มีภูมิปัญญาท้องถิ่นเกี่ยวกับวิธีการนวดแผนโบราณ และการจักสาน',\n",
              "       'บ้านถ้ำลอด เป็นชุมชนเกษตรกรรม และชุมชนชาติพันธุ์ของไทใหญ่ โดยมีการเคลื่อนย้ายถิ่นฐานของชาวไทยใหญ่จากแนวชายแดนไทย และพม่าจากช่วงสงครามโลกครั้งที่ 2 มาอยู่ประเทศไทยและกระจายมาอยู่ตั้งแต่บ้านผามอญ เรื่อยมาจนถึงบริเวณบ้านถ้ำลอดปัจจุบัน ลักษณะภูมิประเทศ ตั้งอยู่บนเนินเขาริมน้ำลาง แบ่งออกเป็นถ้ำลอดเหนือและถ้ำลอดใต้ มีลำห้วยแห้งอ่อน มีความลาดชันไม่สูงมากนัก แวดล้อมด้วยป่าไม้ที่ค่อนข้างอุดมสมบูรณ์ มีการปลูกสร้างบ้านเรือนนิยมปลูกบริเวณที่ราบภูเขา ตั้งอยู่ห่าง ๆ กัน โดยเป็นลักษณะพื้นถิ่น ใช้วัสดุธรรมชาติสร้างติดกับพื้นดิน ส่วนใหญ่มีอาชีพด้านการท่องเที่ยวและรับจ้างปลูกพืชเกษตรแบบพันธะสัญญา',\n",
              "       'บ้านเมืองแพม เป็นชุมชนเกษตรกรรม ชุมชนความทรงจำ และชุมชนชาติพันธุ์ของกะเหรี่ยง (ปะกาเกอญอ) ที่อพยพมาจากสองทางใหญ่ ๆ ได้แก่ บ้านแม่ยาน อำเภอปาย และห้วยปูลิง จนมาถึงบ้านเมืองแพม ลักษณะภูมิประเทศ หมู่บ้านตั้งอยู่ตามไหล่เขา มีป่าไม้อุดมสมบูรณ์ และมีลำห้วยที่มีน้ำไหลผ่านตลอดปี มีซากเมืองเก่า เมื่อครั้งทหารญี่ปุ่นใช้เป็นเส้นทางเดินทัพไปพม่า บ้านเรือนในปัจจุบันส่วนใหญ่เป็นบ้านไม้สองชั้นแบ่งพื้นที่เป็นสัดส่วน มีภูมิปัญญาชาวบ้านในเรื่องทอผ้า จักสาน สมุนไพร นิทาน-บทเพลง ความรู้เรื่องการจักสานภาชนะไม้ไผ่ มีวิถีชีวิตเรียบง่าย อาศัยการพึ่งพาธรรมชาติเป็นหลักมีการผลิตข้าวแบบนาดำ (นาขั้นบันได) ควบคู่ไปกับพื้นที่ทำไร่หมุนเวียน',\n",
              "       'บ้านแม่ละนา เป็นชุมชนเกษตรกรรม และชุมชนชาติพันธุ์ของไทใหญ่ (ไต) เดิมชื่อแม่ลัดนา เนื่องจากมีแม่น้ำไหลผ่านทุ่งนาและหมู่บ้าน ต่อมามีการออกเสียงเพี้ยนจนกลายเป็นแม่ละนา นายฮ้อยสามซึ่งเป็นคนไทใหญ่ได้มาทำการสำรวจพื้นที่บริเวณนี้ และเห็นว่ามีความอุดมสมบูรณ์  จึงได้ทำการถางพื้นที่โดยใช้ช้างในการชักลากไม้ใหญ่และปรับเปลี่ยนเป็นที่นา ทั้งเป็นที่ราบกลางหุบเขามีความเก่าแก่มากกว่า 200 ปี ลักษณะภูมิประเทศ เป็นที่ราบกลางหุบเขา มีพื้นที่หมู่บ้านรวมทั้งหมด 11,950 ไร่ แบ่งเป็นพื้นที่ทำนา 350 ไร่ พื้นที่ทำไร่ 421 ไร่ พื้นที่ส่วนใหญ่เป็นภูเขา มีความอุดมสมบูรณ์สูง มีพื้นที่ป่าอนุรักษ์ต้นน้ำ บ้านเรือนส่วนใหญ่เป็นรูปแบบสมัยใหม่ ยังคงมีบางส่วนที่มีรูปแบบไทใหญ่ดั้งเดิม โดยเฉพาะที่เด่นชัดที่สุดคือวัดแม่ละนา มีภูมิปัญญาการทำน้ำมันงา การอบสมุนไพร  (วัฒนธรรม 12 เดือน) การแสดงพื้นบ้านทางวัฒนธรรม เช่น ลิเกไทใหญ่ (จ๊าดไต) รำนก รำดาบ',\n",
              "       'บ้านห้วยห้อม เป็นชุมชนเกษตรกรรม และชุมชนชาติพันธุ์ของกะเหรี่ยง (ปกาเกอะญอ) เป็นชุมชนแหล่งท่องเที่ยวของจังหวัดแม่ฮ่องสอน ประชากรเป็นชาวกะเหรี่ยง (ปกาเกอะญอ) นับถือศาสนาคริสต์นิกายโปรเตสแตนท์/ผีบรรพบุรุษ ลักษณะภูมิประเทศ ตั้งอยู่บนไหล่เขาในป่าสงวนแห่งชาติทางด้านทิศตะวันออกของอำเภอแม่ลาน้อย มีแหล่งน้ำและทรัพยากรป่าไม้ที่อุดมสมบูรณ์กาย มีบ้านเรือนเป็นเรือนไม้เก่า ทั้งแบบสูง 1-2 ชั้น ปลูกอยู่ตามไหล่เขา และในบางส่วนถูกปรับเปลี่ยนบ้านพักของตัวเองให้เป็นโฮมสเตย์ มีการปลูกกาแฟอาราบิก้าที่ขึ้นชื่อ และมีภูมิปัญญาผ้าทอขนแกะ (แห่งเดียวในไทย) เพื่อการรองรับนักท่องเที่ยว',\n",
              "       'บ้านป่าแป๋ เป็นชุมชนเกษตรกรรม ชุมชนริมน้ำ และชุมชนชาติพันธุ์ของลัวะ เป็นชุมชนเก่าแก่ที่ตั้งมานาน เชื่อว่าเคยมีถิ่นฐานอยู่ใน จ.เชียงใหม่ ตั้งอยู่ในเทือกเขาธงชัยกลาง มีภาษาและวัฒนธรรมการแต่งกายแบบชาวละเว๊อะดั้งเดิม ลักษณะภูมิประเทศตั้งอยู่ในเทือกเขาธงชัยกลาง ชุมชนอยู่เชิงเขาสองฝั่งของลำห้วยอมลาน บ้านเรือนตั้งอยู่ด้วยกันเป็นกลุ่มใหญ่ บางส่วนของบ้านเรือนส่วนใหญ่ ถูกปรับเปลี่ยนใช้วัสดุรูปแบบสมัยใหม่ผสมผสานกับวัสดุดั้งเดิม มีภูมิปัญญาการทอผ้าในแบบลวดลายของละเว๊อะดั้งเดิม มีพิธีกรรมส่วนใหญ่เกี่ยวข้องกับการทำอาชีพเกษตรกรรม มีภาษาละเว๊อะที่มีเอกลักษณ์',\n",
              "       'บ้านแม่สามแลบ เป็นชุมชนเกษตรกรรม ชุมชนริมน้ำ และชุมชนชาติพันธุ์ของชาวพื้นเมือง กะเหรี่ยง ไทใหญ่ มุสลิม และพม่า เป็นชุมชนที่ตั้งอยู่ริมแม่น้ำสาละวิน หรือที่ชาวบ้านเรียกว่าแม่น้ำคง บรรพบุรุษลี้ภัยมาจากพม่า จุดเด่น คือ การอยู่ร่วมกันของคนหลากหลายชาติพันธุ์ ลักษณะภูมิประเทศป็นหุบเขาสูง และอยู่ริมแม่น้ำสาละวิน ลักษณะการสร้างบ้านเรือนตั้งเรียงรายอยู่ริมฝั่งถนนที่ทอดยาวไปจรดริมฝั่งน้ำ บ้านเรือนมีเอกลักษณ์ โดยเป็นบ้านชั้นเดียวขนาดกะทัดรัดเรียงชิดติดกัน แต่มีการต่อเติมลงไปด้านล่างอีก 2-3 ชั้น เป็นแหล่งท่องเที่ยวริมน้ำสาละวิน',\n",
              "       'บ้านแม่หลุย เป็นชุมชนเกษตรกรรม และชุมชนชาติพันธุ์ของชาวกะเหรี่ยง (ปกาเกอะญอ) โดยอพยพมาจากพื้นที่ภูเขาสูงเมื่อ 30 ปีที่ผ่านมา มีการอนุรักษ์พันธุ์ป่า และป่าชุมชน เป็นหมู่บ้านที่มีกฎระเบียบเคร่งครัดเกี่ยวกับป่าไม้ มีภาษาพูดและวัฒนธรรมเป็นของตนเอง ลักษณะภูมิประเทศเป็นพื้นที่สูง เป็นเทือกเขาสลับซับซ้อนอยู่ในเขตป่าสงวนแห่งชาติ มีบ้านเรือนส่วนใหญ่เป็นบ้านไม้ชั้นเดียว และบ้านดั้งเดิมของชาวกะเหรี่ยงที่ปลูกกระจายโดยรอบชุมชน ส่วนใหญ่มีอาชีพทำเกษตรกรรม',\n",
              "       'บ้านต่อแพ เป็นชุมชนเกษตรกรรม ชุมชนริมน้ำ และชุมชนชาติพันธุ์ของชาวไทใหญ่ คำว่า \"ต่อแพ\" สันนิษฐานว่ามาจาก \"ต่อแป\" หมายถึง การนำไม้ไผ่มาต่อเป็นแพ เนื่องจากในอดีตเป็นแหล่งผลิตข้าวและใช้แพในการขนย้ายข้าวไปตามลำน้ำยวม หมู่บ้านมีอายุไม่น้อยกว่า 300 ปี แต่เดิมเป็นชุมชนโบราณ ลักษณะภูมิประเทศตั้งอยู่บนที่ราบลุ่มแม่น้ำ และหุบเขามีแม่น้ำยวมไหลผ่านทางด้านทิศตะวันออกเฉียงใต้ มีบ้านเรือนเป็นรูปแบบสถาปัตยกรรมไทใหญ่ปลูกรวมกันเป็นกลุ่ม ผสมกับเรือนร้านค้าสำหรับค้าขายผ้าพื้นเมือง ส่วนใหญ่ประกอบอาชีพเกษตรกรรมและค้าขาย',\n",
              "       'บ้านเมืองปอน เป็นชุมชนเกษตรกรรม ชุมชนความทรงจำ และชุมชนชาติพันธุ์ของชาวไทใหญ่ เป็นชุมชนที่มีประวัติศาสตร์ยาวนาน แต่เดิมอยู่ที่ดอยเวีย \"ปอน\" มาจากคำว่า \"พร\" หรือเมืองที่มีสิริมงคล ตั้งอยู่ในหุบเขาอยู่ห่างจากอำเภอขุนยวม ลักษณะภูมิประเทศ ตั้งอยู่ในหุบเขาอยู่ห่างจากอำเภอขุนยวม ประมาณ 12 กิโลเมตร มีพื้นที่ทั้งหมด ประมาณ 10,568 ไร่ แบ่งเป็นป่าสงวนเป็น 6,727 ไร่ ที่สาธารณะประมาณ 57 ไร่ ที่อยู่อาศัยประมาณ 522 ไร่ และพื้นที่ทำการเกษตรประมาณ 3,251 ไร่ มีลำน้ำปอนใช้ในการเกษตรกรรม อุปโภค บริโภค มีวัดไตเมืองปอนเป็นรูปแบบสถาปัตยกรรมไทใหญ่ รวมทั้งเป็นหมู่บ้านภูมิทัศน์วัฒนธรรมชุมชนบ้านเมืองปอนที่ยังคงอนุรักษ์รูปแบบไทใหญ่ไว้อย่างชัดเจน บางส่วนจัดเป็นโฮมสเตย์บ้านปิลันธน์ มีภูมิปัญญาท้องถิ่นคือ การต้องลาย เป็นการฉลุลวดลายบนของแข็งต่าง ๆ เช่น กระดาษ แผ่นโลหะ แผ่นไม้  เพื่อนำไปใช้ประดับประดาอาคาร สถานที่ และมีเอกลักษณ์การใส่เสื้อไต (การแต่งกายแบบคนไต)',\n",
              "       'ตะเคียนเลื่อน เป็นชุมชนเกษตรกรรม และชุมชนริมน้ำ เป็นพื้นที่ชุมชนตั้งอยู่ริมแม่น้ำเจ้าพระยา เป็นพื้นที่ลาดน้อยทางตอนใต้ของแม่น้ำ ริมน้ำมีกิจกรรมที่เกี่ยวกับการเพาะปลูก ได้แก่ สวนผัก โดยมีกลุ่มที่อยู่อาศัยเกาะกลุ่มแนวยาวขนานอยู่ตอนใต้ของแม่น้ำ มีกลุ่มอาคารเรือนไทยภาคกลางโบราณที่ยังคงคุณสมบัติการใช้วัสดุเดิมที่มีการดูแลรักษาอยู่ในสภาพดี ได้แก่ กระเบื้องหลังคาว่าว ผนัง และเสาไม้ ที่ยังปรากฏฝีมือช่างสมัยก่อน โดยพบว่าบ้านเหล่านี้กระจายตลอดริมน้ำเจ้าพระยาควบคู่กับภูมิทัศน์ที่มีการใช้สอย เพื่อการเกษตรและเป็นพื้นที่รับน้ำ (Watershed) ในฤดูน้ำหลาก เป็นย่านชุมชนเก่าที่ใช้ประโยชน์เพื่อการพักอาศัยผสมผสานกับการเกษตรแบบยังชีพ ผู้อาศัยในรุ่นปัจจุบัน และลูกหลานคนในชุมชนปัจจุบันทำอาชีพนอกภาคเกษตร อาทิ รับราชการ ค้าขาย พนักงานบริษัท',\n",
              "       'ตลาดลาว เป็นชุมชนตลาด และชุมชนริมน้ำ ที่เคยรุ่งเรืองในอดีตเพราะเป็นย่านที่ขายสินค้าของคนไทยภาคเหนือ ชาวนครสวรรค์เรียกว่า \"ลาว\" จึงเรียกย่านนี้ว่า \"ตลาดลาว\" สินค้าที่นำมาขาย ได้แก่ หวาย ชัน น้ำมันยาง สีเสียด เปลือกไม้ น้ำผึ้ง ขี้ไต้ ฯลฯ ขากลับจะบรรทุกข้าวและเกลือกลับ นอกจากลาวแล้วยังมีชาวมอญนำโอ่งมาขายด้วย ลักษณะภูมิประเทศเป็นที่ราบติดแม่น้ำ เป็นชุมชนในยุคแรกที่เป็นห้องแถวไม้ไม่มีพื้น ระยะต่อมามีรถไฟและรถยนต์ เมื่อลาวเลิกใช้เส้นทางเรือ ย่านนี้จึงปรับปรุงมีพื้นห้องทำเป็นบ้านที่อาศัยปัจจุบัน มีห้องไม้ให้เห็นน้อยลง เพราะมีสภาพเก่าจึงถูกรื้อเปลี่ยนเป็นอาคารคอนกรีต ผู้คนในชุมชนเป็นไทย จีน ลาว และมีอาชีพค้าขาย',\n",
              "       'ตลาดริมน้ำปากน้ำโพ/ตลาดบ่อนไก่ เป็นชุมชนตลาด ชุมชนริมน้ำ และชุมชนรอบทางรถไฟ ตลาดบ่อนไก่ เริ่มแรกไม่ได้เป็นตลาด สมัยก่อนใช้เป็นที่ชนไก่ ต่อมาปรับปรุงเป็นที่ว่างสำหรับให้ประชาชนแถวนั้นใช้เป็นที่พักผ่อน และเล่นกีฬา มีอยู่ปีหนึ่งที่เคยให้แม่ค้าอพยพหนีน้ำท่วมมาขายของเป็นการชั่วคราว จากนั้นพอน้ำลด แม่ค้าไม่ยอมกลับ และได้ยึดเป็นที่ค้าขายตั้งแต่นั้นมา จึงมีสภาพเป็นตลาด ลักษณะภูมิประเทศเป็นที่ราบลุ่มติดแม่น้ำ มีลักษณะเด่นของสถาปัตยกรรมโบราณหายไป เนื่องจากมีการต่อเติมและปรับปรุงบ้านเรือน เป็นชุมชนโบราณขนาดใหญ่มีการทำการเกษตรควบคู่กับการค้าขาย ผู้คนในชุมชนมีทั้งไทย จีน',\n",
              "       'ตลาดชุมแสง เป็นชุมชนเกษตรกรรม ชุมชนตลาด และชุมชนรอบทางรถไฟ ชื่อ \"ชุมแสง\" สันนิษฐานว่า มาจากชื่อต้นไม้ประจำถิ่น คือต้นชุมแสง เป็นไม้ตระกูลไทร (แต่ไม่มีรากอากาศ) ปัจจุบันเหลืออยู่น้อยในพื้นที่ที่เปลี่ยนแปลงไปเป็นแปลงเกษตรกรรม อำเภอเล็ก ๆ ที่รุ่งเรืองมาก่อนอำเภออื่น ได้รับการยกระดับเป็นเทศบาลเป็นอำเภอแรก ๆ ของนครสวรรค์ ด้วยมีความสำคัญในฐานะชุมทางการค้า โดยเฉพาะ \"ข้าว\" โรงสีเก่าแก่อายุเกือบร้อยปี บางโรงยังคงเดินเครื่องอยู่ บางโรงยังคงสภาพเดิมแม้จะเลิกกิจการ หากยังอยู่เป็นประจักษ์พยานแห่งความรุ่งเรืองในอดีต ลักษณะภูมิประเทศเป็นที่ราบลุ่มติดแม่น้ำน่าน มีตลาดเรือนแถวไม้ที่มีอายุกว่า 100 ปี เป็นศูนย์กลางการค้าและการขนส่ง ทั้งในจังหวัดและระหว่างจังหวัด กลุ่มชาติพันธุ์ที่พบในชุมชนมีทั้งไทยและจีน',\n",
              "       'ตลาดทับกฤช เป็นชุมชนเกษตรกรรม ชุมชนริมน้ำ และชุมชนตลาด ทับกฤชมีประวัติของชื่อที่ยังหาข้อยุติที่แน่นอนไม่ได้ บางคนว่าเมื่อสมัยสร้างทางรถไฟสายเหนือเสร็จใหม่ ๆ รถไฟมาทับคนชื่อ \"กฤช\" ตาย ณ บริเวณนี้จึงเรียกว่า \"ทับอ้ายกฤช\" และยังมีฝูงนกจำนวนมาก เรียกว่านกกระทุงเหว ซึ่งมีรูปร่างสูงใหญ่มีสีขาวทั้งตัว มีลายดำพาดจาก 2 ไหล่ข้างปีกไปจนถึงหว่างขา มองดูเหมือนกับทหารอังกฤษ เมื่ออยู่รวมกันมาก ๆ จึงเรียกว่า \"บ้านทับกฤษ\" ต่อมากลายเป็น \"ทับกฤช\" เช่นกัน ลักษณะภูมิประเทศเป็นที่ราบลุ่ม แม่น้ำน่านไหลผ่านริมบึงบอระเพ็ด ลักษณะเด่นของสถาปัตยกรรมโบราณหายไป เนื่องจากมีการต่อเติมและปรับปรุงบ้านเรือน เป็นชุมชนโบราณขนาดใหญ่ มีการทำการเกษตรควบคู่กับการค้าขาย กลุ่มชาติพันธุ์ที่พบในพื้นที่ คือไทย จีน และไทยทรงดำ',\n",
              "       'เก้าเลี้ยว เป็นชุมชนตลาด และชุมชนริมน้ำ ประวัติความเป็นมาของชื่อ \" เก้าเลี้ยว \" สันนิษฐานได้ 2 ทาง คือ 1. เพี้ยนเสียงเดิม ประชากรส่วนใหญ่ปลูกกล้วยไข่เป็นสินค้า มีชาวจีนซึ่งเป็นพ่อค้าคนกลางรับซื้อกล้วยไข่ไปขาย โดยขนส่งทางเรือ ครั้นเมื่อมาถึงตลาดเก้าเลี้ยวในปัจจุบัน ชาวจีนจะตะโกนบอกนายท้ายเรือ เป็นภาษาจีน \"เก๋าเหลี่ยว\" ซึ่งแปลว่า \" ถึงแล้ว\" เพื่อให้นายท้ายเรือปล่อยเรือของตนเมื่อมีการตะโกนว่า \"เก๋าเหลี่ยว \" บ่อย ๆ เข้า คนฟังได้ยินนำไปพูดต่อ ๆ กัน เสียงอาจเพี้ยนไปเป็น \"เก้าเลี้ยว\" ก็เป็นไปได้ และ 2. จากสภาพภูมิศาสตร์ เดิมการเดินทางจากจังหวัดนครสวรรค์ ต้องใช้เรือเป็นพาหนะแล่นไปตามแม่น้ำปิง เรือต้องแล่นผ่านคุ้งน้ำน้อยใหญ่ที่คดเคี้ยวไปมา นับถึงหมู่บ้านนี้ได้เก้าเลี้ยวพอดี ชาวบ้านจึงขนานนามว่า \"บ้านเก้าเลี้ยว\" ลักษณะภูมิประเทศเป็นที่ราบติดแม่น้ำปิง มีตลาดเรือนแถวที่ยังคงมีลักษณะสถาปัตยกรรมแบบเดิมอยู่ ผู้คนในชุมชนมีอาชีพทางการเกษตรเป็นส่วนใหญ่ (ปลูกข้าว) อ้อย และอุตสาหกรรมอาหารแปรรูป กลุ่มชาติพันธุ์ที่พบ คือไทยและจีน',\n",
              "       'ตลาดช่องแค เป็นชุมชนตลาด และชุมชนรอบทางรถไฟ เทศบาลตำบลช่องแค เป็นเทศบาลที่ยกฐานะจากสุขาภิบาลตามพระราชบัญญัติเปลี่ยนแปลงฐานะของสุขาภิบาลเป็นเทศบาล พ.ศ. 2542 ในอดีตในบริเวณนี้มีการระเบิดหินเพื่อใช้ในการก่อสร้างทางรถไฟ จึงนำมาเป็นสัญลักษณ์ของเทศบาลตำบลช่องแค ลักษณะภูมิประเทศเป็นที่ราบระหว่างเขา เมืองอยู่ล้อมรอบภูเขา ทำให้น้ำไม่ท่วมเมือง ปัจจุบันยังคงมีบ้านที่รักษาสภาพดั้งเดิมไว้ แต่อยู่ลึกไปในพื้นที่ทางการเกษตร และมีความทรุดโทรมเป็นอย่างมาก เป็นสังคมที่มีความหลากหลายทั้งการเกษตร การค้าขาย กลุ่มชาติพันธุ์ที่พบ คือ ไทยและจีน',\n",
              "       'ตลาดตาคลี เป็นชุมชนตลาด และชุมชนรอบทางรถไฟ เทศบาลเมืองตาคลี จัดตั้งขึ้นตามพระราชกฤษฎีกาจัดตั้งเทศบาลตำบลตาคลี จังหวัดนครสวรรค์ พ.ศ. 2524 ต่อมาเทศบาลตำบลตาคลี ได้ยกฐานะเป็น เทศบาลเมืองตาคลี ตามประกาศกระทรวงมหาดไทย เมื่อวันที่ 8 กันยายน 2548 ที่ตั้งของชุมชนเมืองตาคลีนี้ตั้งอยู่ที่ราบระหว่างเขา มีเมืองอยู่ล้อมรอบภูเขา ทำให้น้ำไม่ท่วมเมือง มีตลาดเรือนแถว ยังคงมีวัสดุและรูปแบบโบราณให้เห็นอยู่ แต่มีการทรุดโทรมตามกาลเวลาและการซ่อมแซมจากวัสดุสมัยใหม่ ประชากรส่วนใหญ่เป็นชาวไทยเชื้อสายจีน และประกอบอาชีพค้าขายส่วนใหญ่ขึ้นอยู่กับการพาณิชยกรรมและกิจกรรมการค้า',\n",
              "       'ตลาดพยุหะคีรี เป็นชุมชนตลาด และชุมชนริมน้ำ อำเภอพยุหะคีรี\\xa0ประกาศตั้งเป็นอำเภอเมื่อ พ.ศ. 2437 ตามหลักฐานทางประวัติศาสตร์ เป็นทางเดินของกองทัพโบราณไม่ว่าจะเป็นเมืองสุโขทัยหรือกรุงศรีอยุธยาจะต้องยกทัพผ่านทางนี้เพราะเป็นศูนย์กลางระหว่างเมืองไชยนาทบุรี (จังหวัดชัยนาท) และเมืองหลวงพระบาง (จังหวัดนครสวรรค์) ซึ่งเป็นที่พักอย่างดีในสมัยนั้น\\xa0และเดิมเป็นเมืองโบราณมีหน้าที่เก็บเงินส่วยอากร\\xa0ซึ่งผู้มีหน้าที่เก็บเงินส่วยอากรชื่อ \"หลวงภูมิ\"\\xa0เป็นเจ้าเมืองคนแรก ลักษณะภูมิประเทศเป็นที่ราบอยู่ห่างจากถนนสายหลัก มีบ้านเรือนโดยรอบมีการเปลี่ยนแปลงไปมาก แต่ยังคงรูปแบบเดิมอยู่ในส่วนของยุ้งฉาง เป็นชุมชนขนาดใหญ่ เน้นการค้าขายเป็นหลัก ประชากรส่วนใหญ่เป็นชาวไทยเชื้อสายจีน',\n",
              "       'เรือนแพริมน้ำสะแกกรัง เป็นชุมชนเกษตรกรรม และชุมชนริมน้ำ โดยตั้งอยู่ในลำน้ำของแม่น้ำสะแกกรังช่วงอำเภอเมืองอุทัยธานี ชุมชนเป็นบ้านเรือนที่อยู่อาศัยอยู่ในแม่น้ำ มีลักษณะเป็นบ้านเรือนแพ ประกอบด้วยเรือนหลัก และเรือนเล็ก ซึ่งเป็นที่ประกอบอาหารและห้องน้ำปัจจุบันหลงเหลือน้อย เดิมเป็นชุมชนที่ค้าขายในลำน้ำ เป็นศูนย์กลางการค้าระหว่าง อำเภอต่างๆ ของจังหวัดอุทัยธานี สินค้าที่นำมาขายมีข้าว สัตว์ป่า และของป่า ปัจจุบันเป็นย่านการค้าและตลาดสด',\n",
              "       'ตลาดบ้านเก่าสะแกกรัง (ตรอกโรงยา) เป็นชุมชนตลาด และชุมชนริมน้ำ ประกอบด้วยกลุ่มอาคารพาณิชยกรรมที่เป็นเรือนแถวไม้ขนาดยาว และกลุ่มอาคารพาณิชยกรรม 2-3 ชั้น บริเวณทางตะวันตกของแม่น้ำสะแกกรัง ถนนคนเดินตรอกโรงยาเป็นถนนคนเดินเล็ก ๆ ที่มีระยะทางเพียง 150 เมตรเท่านั้น สองข้างทางเรียงรายด้วยบ้านไม้โบราณที่ยังคงสภาพเดิมไว้ไม่เปลี่ยนแปลง ถนนหนทางถูกจับจองเป็นพื้นที่ตั้งของร้านรวงต่าง ๆ ตั้งแต่ร้านแบกับดิน แผงลอย ไปจนถึงร้านค้าขนาดใหญ่ที่ยึดเอาบริเวณชั้นล่างของบ้านเปิดเป็นร้านขายของ เป็นย่านการค้าที่สำคัญที่สุดของเมืองอุทัยธานี ที่รวมสินค้าหลากหลายประเภท ได้แก่ ร้านค้าปลีก ร้านขายทอง ตลาดสด เป็นต้น ส่วนใหญ่เป็นชาวไทยเชื้อสายจีน',\n",
              "       'บ้านเก่า เป็นชุมชนเกษตรกรรม และชุมชนชาติพันธุ์ของชุมชนมอญ และเป็นศูนย์กลางของการจัดประเพณีของคนมอญ องค์ประกอบทางภูมิทัศน์ทางวัฒนธรรมของสังคมเกษตรกรรม ได้แก่พื้นที่ปลูกข้าว และองค์ประกอบของวัฒนธรรมมอญ ได้แก่ วัดใหญ่ โดยมีกิจกรรมทางวัฒนธรรมที่เชื่อมโยงระหว่าง พื้นที่เกษตรกรรม พื้นที่ความเชื่อ ชุมชนมอญบ้านเก่า ตั้งอยู่ที่ตำบลบ้านเก่า อำเภอหนองฉาง จังหวัดอุทัยธานี ชุมชนแห่งนี้เป็นชุมชนมอญขนาดเล็ก ชาวบ้านส่วนใหญ่มีอาชีพทำไร่ ทำนา อยู่ใกล้แม่น้ำสะแกกรัง และเขาสะแกกรัง ซึ่งมีประวัติศาสตร์เกี่ยวข้องกับชาวมอญ และพระราชวงศ์จักรี ซึ่งนักประวัติศาสตร์ยกให้เมืองอุทัยธานี เป็นเมืองของสมเด็จพระปฐมบรมมหาชนก และยังมีตำนานที่กล่าวถึงเมืองอุทัยธานี ในสมัยกรุงสุโขทัย รวมทั้งชุมชนมอญโบราณด้วย',\n",
              "       'ชุมชนไทขาวหรือลาวพุทธ เป็นชุมชนเกษตรกรรม และชุมชนชาติพันธุ์ของชาวไทขาว (ลาวพุทธ) ซึ่งเป็นกลุ่มชาติพันธุ์ที่มีวัฒนธรรมเป็นเอกลักษณ์ที่สืบเชื้อสายมาจาก \"ลาว\" แห่งอาณาจักรศรีสัตนาคนหุต และได้อพยพมามายังประเทศไทยเมื่อครั้งเวียงจันทน์ถูกตีแตก ชาวทัพคล้ายจะเรียกตัวเองว่า \"ลาวเวียง\" ลักษณะภูมิประเทศ ตั้งอยู่บริเวณสองฝั่งของลำห้วยกระเสียว โดยทางฝั่งตะวันตก ของลำห้วยกระเสียวมีบ้านเรือนตั้งอยู่หนาแน่นกว่าจึงเรียกว่าบ้านใหญ่ ส่วนบริเวณตะวันออกนั้นพื้นที่ส่วนใหญ่เป็นป่าและที่ราบทำนา การตั้งบ้านเรือนจะอยู่รวมกันเป็นกลุ่มใหญ่ๆ ตามเครือญาติ  เป็นรูปแบบสมัยใหม่ร่วมกับสมัยเก่า โดยส่วนใหญ่เป็นอาคารไม้เก่า ๒ ชั้น ปลูกกระจายอยู่ตลอดสองข้างถนนในชุมชน ส่วนใหญ่มีอาชีพ ทำนา ทำไร่ และทำสวน มีภูมิปัญญา เช่น การจักสาน ทอผ้า หมอพื้นบ้าน',\n",
              "       'บ้านเจ้าวัดยางแดง เป็นชุมชนเกษตรกรรม และชุมชนชาติพันธุ์ของชาวกะเหรี่ยง (นับถือลัทธิฤาษี) เกิดจากกลุ่มบ้านเจ้าวัดที่เข้าไปอพยพใหม่ มีต้นไม้ชนิดหนึ่งขึ้นอยู่ในบริเวณที่ตั้งบ้านเรือนอยู่เป็นจำนวนมาก คือ ต้นยางแดง ชาวบ้านเจ้าวัดนำต้นไม้ยางแดงเจาะเอาน้ำมันยางแดงทำเป็นน้ำมันขี้ไต้ โดยผสมกับไม้เก่า ๆ ที่นำมาจุดเป็นขี้ไต้ ต่อมาบ้านยางแดงมีผู้นำชื่อ นายตองโพ่ เจะเละ นุ่งขาวห่มขาว และอบรมสั่งสอนจนชาวบ้านยางแดงนับถือและตั้งให้เป็นผู้นำกลุ่มบ้าน ลักษณะภูมิประเทศ เป็นภูเขาสูงสลับซับซ้อน เป็นแนวยาวในเขตอุทยานแห่งชาติ ส่วนใหญ่เป็นบ้านไม้ยกใต้ถุนสูง สลับกับบ้านเรือนไม้ไผ่ยกสูงตามรูปแบบของบ้านชาวกะเหรี่ยง มีอาชีพทำการเกษตรสินค้าหัตถกรรม ผ้าทอพื้นเมืองสีธรรมชาติ เครื่องจักสานไม้ไผ่',\n",
              "       'บ้านโคกหม้อ เป็นชุมชนเกษตรกรรม และชุมชนชาติพันธุ์ของชาวลาวครั่ง ชาวบ้านโคกหม้อเป็นชาวลาวอพยพมาจากเวียงจันทน์ตั้งแต่สมัยต้นกรุงรัตนโกสินทร์ และได้มีการค้นพบเศษหม้อดินเผาในบริเวณนี้เป็นจำนวนมาก จึงได้ตั้งชื่อตำบลนี้ว่า \"ตำบลโคกหม้อ\" มาจนถึงปัจจุบัน โดยสันนิษฐานว่าเป็นชื่อที่ชาวมอญตั้งไว้มีประเพณีและวัฒนธรรมที่เก่าแก่มานาน คาดว่าก่อตั้งหมู่บ้านประมาณ 156 ปี มีแม่น้ำแควตากแดด ซึ่งเป็นต้นน้ำของแม่น้ำสะแกกรังไหลผ่าน มีบ้านเรือนรูปแบบสถาปัตยกรรมทรงไทยทรงปั้นหยาอยู่บ้าง แต่ส่วนมากเป็นบ้านเรือนสมัยใหม่ และมีเตาเผาโบราณอยู่ท้ายหมู่บ้าน ส่วนใหญ่มีอาชีพทอผ้าไหม และหม้อดินเผา',\n",
              "       'นครชุม เป็นชุมชนตลาดการค้า ที่มีประวัติความเป็นมากว่า 700 ปี ประชาชนส่วนใหญ่ประกอบอาชีพรับจ้างและค้าขาย เนื่องจากไม่มีทรัพยากรธรรมชาติอื่นใด ที่จะเอื้ออำนวยให้เกิดการจ้างงาน สร้างรายได้ให้แก่ประชาชน นอกจากภูมิปัญญาพื้นบ้าน ขนบธรรมเนียมประเพณี มรดกทางวัฒนธรรมของท้องถิ่น ชุมชนนี้ที่ตั้งอยู่ใจกลางเมืองกำแพงเพชร มีลักษณะเป็นชุมชนเมืองที่มีความหนาแน่นปานกลาง มีกลุ่มอาคารพาณิชยกรรมแบบดั้งเดิม เรือนแถวไม้ทอดตัวเรียงรายตามถนน พื้นที่ในกลุ่มชุมชนมีลักษณะการรวมกลุ่มเป็น cluster ในลักษณะย่านการค้า ประกอบด้วย ถนนสายสำคัญสองสาย ได้แก่ ถนนสาย 1078 และถนนขนานคลองสวนหมาก โดยพื้นที่ติดถนนเป็นอาคารเรือนแถวไม้พาณิชยกรรม เป็นช่วงประมาณ 4-5 คูหา ด้านหลังอาคารพาณิชยกรรมสลับด้วยบ้านพักอาศัย ฐานเศรษฐกิจของชุมชนเป็นย่านการค้า ได้แก่ ตลาด การค้าปลีกที่สำคัญของจังหวัด นอกจากนี้ ยังมีกิจกรรมส่งเสริมวัฒนธรรมชุมชนในรูปแบบถนนคนเดินในวันหยุด โดยมีการจำลองบรรยากาศตลาดแบบย้อนยุค บรรยากาศภายในตลาดจะมีพ่อค้า แม่ค้า แต่งกายด้วยชุดไทย นำอาหารที่เป็นเอกลักษณ์ของชาวนครชุมหรือร่วมสมัยวางจำหน่าย นอกจากนี้ ยังมีการสาธิตการทำอาหารพื้นบ้าน หรือศิลปหัตถกรรม อาทิ การจักสานไม้ไผ่ งานฝีมือใบตอง หรือการวาดรูป ระบายสี มุ่งเน้นการแต่งกายพื้นบ้าน หรือวัฒนธรรม ร่วมสมัย และอื่น ๆ อีกจำนวนมาก',\n",
              "       'บ้านพรานกระต่าย เป็นชุมชนเกษตรกรรมชนบท ที่มีเรื่องเล่ากันว่ามีนายพรานได้พบกระต่ายขนสีทองสวยงามมากบริเวณหน้าถ้ำแห่งหนึ่งและก็ได้หายเข้าไปในถ้ำ ต่อมาจึงกราบบังคมทูลพระร่วงให้ทรงทราบและรับอาสาจะจับกระต่ายตัวดังกล่าวและได้ใช้ความพยายามที่จะจับหลายครั้ง แต่ไม่ประสบผลสำเร็จจึงได้สร้างบ้านถาวรขึ้นหน้าถ้ำเพื่อรอจับกระต่าย หลายปีต่อมามีคนมาพบนายพรานจึงพากันอพยพมาอยู่เพิ่มขึ้นเรื่อยๆ จนกลายเป็นหมู่บ้านชาวบ้านจึงพร้อมกันตั้งชื่อหมู่บ้านว่า \"บ้านพรานกระต่าย\" ลักษณะภูมิประเทศของบ้านพรานกระต่ายเป็นที่ราบลาดเทจากตะวันตกไปตะวันออกเป็นป่าไม้ภูเขาหินสูงชัน ทางทิศตะวันออกเป็นที่ราบลุ่มเหมาะสมกับการทำเกษตรและเป็นที่ชุมชนหนาแน่น บ้านเรือนส่วนมากเป็นรูปแบบสมัยใหม่ มีอาคารไม้เก่าเหลืออยู่จำนวนไม่มาก ผู้คนในชุมชนมีอาชีพทำการเกษตรกรรมค้าขายและรับจ้างทั่วไป',\n",
              "       'ตรอกบ้านจีน เป็นชุมชนเกษตรกรรม ชุมชนตลาด และชุมชนริมน้ำ อยู่ติดแม่น้ำปิงด้านทิศตะวันออก เป็นกลุ่มอาคารที่แสดงให้เห็นการตั้งถิ่นฐานในอดีต เป็นชุมชนที่สืบเชื้อสายของขุนนางที่ครองเมืองตาก โดยมีฐานเศรษฐกิจในการค้าไม้ ล่องซุง มีบ้านไม้สักเก่าอายุ 150 ปี มีการผสมผสานศิลปะหลายสมัยระหว่างไทยอยุธยา ไทยรัตนโกสินทร์ และสไตล์ยุโรป มีเอกลักษณ์ความเป็นจีนและไทย ในอดีตเป็นพ่อค้าชาวจีนจากกรุงเทพเดินทางมาเมืองตาก เพื่อหาช่องทางทำธุรกิจจนประสบความสำเร็จ ต่อมาถูกปล่อยทิ้งร้างเพราะสังคมเปลี่ยน ปัจจุบันมีการบำรุงรักษาเพื่อให้เกิดเป็นแหล่งท่องเที่ยวเชิงอนุรักษ์ ภายในชุมชนผู้คนส่วนใหญ่เป็นชาวไทยเชื้อสายจีน',\n",
              "       'บ้านตาก เป็นชุมชนพาณิชยกรรมตั้งอยู่ด้านทิศตะวันออกของริมแม่น้ำปิง เป็นชุมชนซึ่งเป็นส่วนหนึ่งของย่านพาณิชยกรรมระดับอำเภอ มีเรือนไม้เดี่ยวสองชั้นสร้างติดกัน เรียงตัวกันอยู่บนถนน มีวัดเป็นศูนย์กลาง ปัจจุบันเป็นที่อยู่อาศัยของคนในพื้นที่ มีการปรับตัวเป็นพาณิชยกรรมเป็นบางส่วน บางส่วนถูกปล่อยทิ้งร้าง และยังไม่มีการปรับตัวให้เข้ากับการท่องเที่ยว',\n",
              "       'ตลาดริมยม เป็นชุมชนเกษตรกรรม ชุมชนริมน้ำ และชุมชนตลาด ปัจจุบันตลาดอาจไม่ครึกครื้นเหมือนก่อน เพราะตัวอำเภอที่เคยตั้งอยู่บนเกาะถูกย้ายออกไปตั้งให้ติดกับเส้นทางคมนาคมด้านนอก ทำให้ตลาดแห่งนี้กลายเป็นตลาดเก่ามีสภาพเกือบร้าง จนเมื่อเร็ว ๆ นี้ ชาวบ้านกลับมาพูดคุยกันว่า น่าจะฟื้นอดีตแห่งความรุ่งเรืองนั้นขึ้นมา จึงชักชวนกันเปิดตลาดริมยมเมื่อปี พ.ศ. 2437 โดยมีเทศบาลตำบลกงไกรลาศเป็นโต้โผใหญ่ ซึ่งปี พ.ศ. 2437 ก็คือปีที่กงไกรลาศได้รับการสถาปนาให้เป็นอำเภอ ลักษณะภูมิประเทศ เป็นชุมชนตั้งอยู่ติดแม่น้ำยมทางด้านทิศเหนือ โดยมีการขยายตัวในแนวแกน เหนือ-ใต้ ไปจนจรดถนนสายหลัก เป็นย่านพาณิชยกรรมในระดับอำเภอ ประกอบด้วยเรือนแถวไม้สูงสองชั้น สลับบ้านเดี่ยวไม้ องค์ประกอบอื่น ๆ อาทิ ตลาดขายปลา และท่าเรือ แสดงให้เห็นถึงความสัมพันธ์ของท้องถิ่นและวิถีชีวิตทางการประมง เป็นท่าขึ้นปลาน้ำจืด และมีการรับปลาไว้แล้วมีรถมารับไปขายต่อ ชุมชนยังอยู่ริมน้ำทำอาชีพประมง ส่วนที่อยู่ริมถนนจะมีอาชีพค้าขายเพราะเป็นหนึ่งในอำเภอที่ต้องพบเจอกับสถานการณ์น้ำหลากแทบทุกปี ซึ่งกงไกรลาศถือเป็นตลาดปลาที่ใหญ่ที่สุดในสุโขทัย และยังเป็นตลาดปลาแห่งแรกในประเทศไทยด้วย โดยมีการซื้อขายกันอยู่ในบริเวณบ้านเรือนไม้เก่าริมแม่น้ำยม ที่เรียกว่า \"ท่าเรือบ้านกง\"',\n",
              "       'ศรีสำโรง เป็นชุมชนเกษตรกรรม ชุมชนริมน้ำ และชุมชนตลาด ลักษณะภูมิประเทศ เป็นชุมชนที่ทอดตัวอยู่ด้านทิศตะวันออกเฉียงใต้ของริมน้ำน่าน เป็นพื้นที่ราบลุ่มน้ำท่วมถึง มีอาคารเกือบทั้งหมดเป็นอาคารเรือนแถวไม้ 2 ชั้น เป็นย่านพาณิชยกรรมดั้งเดิม ที่เจริญมาจากการค้าขายและขนส่งสินค้าทางน้ำ เป็นศูนย์กลางเชื่อมโยงการแลกเปลี่ยนซื้อขายสินค้าเกษตร ระหว่างพื้นที่เพาะปลูกกับอำเภออื่น ๆ ภายหลังเมื่อมีการตัดถนน การค้าขายในชุมชนก็ซบเซาลง ส่วนใหญ่ชาวไทยเชื้อสายจีน',\n",
              "       'ตลาดใต้สวรรคโลก เป็นชุมชนโดยรอบทางรถไฟ ชุมชนริมน้ำ และชุมชนตลาด สวรรคโลกนั้นเป็นหัวเมืองใหญ่ที่เจริญเติบโตมาช้านาน แต่ชุมชนตลาดใต้สวรรคโลกเป็นชุมชนที่เจริญเติบโตเป็นย่านพาณิชยกรรมจากฐานการเข้ามาของระบบรถไฟ กล่าวคือ เมื่อเกิดทางรถไฟสายเหนือขึ้น ชุมชนได้กลายมามีบทบาทในความเป็นย่านการค้าสำคัญของอำเภอ ลักษณะภูมิประเทศ เป็นชุมชนพาณิชยกรรมขนาดใหญ่และเก่าแก่แห่งหนึ่งของ จังหวัดสุโขทัย โดยตั้งอยู่ระหว่างแม่น้ำน่าน ทางทิศตะวันตกและสถานีรถไฟสวรรคโลกในด้านทิศตะวันออก ประกอบด้วยกลุ่มอาคารพาณิชยกรรมที่เป็นเรือนแถวไม้ สลับกับตึกแถวในรูปแบบสถาปัตยกรรมยุคโมเดิร์น กระจายตัวอยู่ในแนวขนานกันระหว่างแม่น้ำน่านและสถานีรถไฟสวรรคโลก เป็นย่านการค้าที่สำคัญที่สุดของอำเภอสวรรคโลก ที่รวมสินค้าหลากหลายประเภท ได้แก่ ร้านค้าปลีก ร้านขายทอง ตลาดสด เป็นต้น',\n",
              "       'ชุมชนสถานีรถไฟศรีนคร/บ้านปลายราง เป็นชุมชนโดยรอบทางรถไฟ ชุมชนริมน้ำ และชุมชนตลาด ลักษณะภูมิประเทศ เป็นชุมชนพาณิชยกรรมระดับอำเภอ โดยตั้งอยู่ระหว่างแม่น้ำน่านทางทิศตะวันตกและสถานีรถไฟคลองมะพลับในด้านทิศใต้ ประกอบด้วยกลุ่มอาคารพาณิชยกรรมที่เป็นเรือนแถวไม้ 2 ชั้น มีลักษณะกายภาพที่สมบูรณ์ กระจายตัวอยู่ในแนวขนานกันระหว่างแม่น้ำน่านและสถานีรถไฟคลองมะพลับ ชุมชนบ้านปลายรางเป็นชุมชนพาณิชยกรรม ที่รวมสินค้าหลากหลายประเภท ได้แก่ ร้านค้าปลีก ร้านขายทอง ตลาดสด เป็นต้น แต่ปัจจุบันได้มีการทิ้งร้างพื้นที่พาณิชยกรรมจำนวนมาก เนื่องจากเศรษฐกิจซบเซาจากการย้ายออกของประชาชน',\n",
              "       'บ้านด่านลานหอย เป็นชุมชนเกษตรกรรม และชุมชนความทรงจำ คนกลุ่มแรกที่มาก่อตั้งหมู่บ้าน เป็นคนดั้งเดิมมาตั้งแต่สมัยโบราณซึ่งอาศัยอยู่ที่บ้านลานหอยและบ้านเชิงคีรี ชื่อเดิมของชุมชนนี้ชื่อ \"บ้านด่าน\" กับ \"บ้านลานหอย\" เมื่อมีการแบ่งพื้นที่อำเภอเมืองสุโขทัยตั้งเป็นกิ่งอำเภอ จึงนำเอาชื่อหมู่บ้านเก่าแก่ที่สุดมารวมกันเป็นชื่ออำเภอ จึงได้กลายไปเป็น \"บ้านด่านลานหอย\" ลักษณะภูมิประเทศเป็นพื้นที่ราบ อยู่ทางทิศตะวันตกของอุทยานแห่งชาติรามคำแหง มีแนวเขาขนาดเล็กผ่ากลางตำบลในแนวเหนือ-ใต้ พื้นที่ส่วนใหญ่เป็นพื้นที่เกษตร ทำนา ไร่ สวน พื้นที่เขามีสภาพตามธรรมชาติ โดยทั่วไปมีลักษณะสถาปัตยกรรมเป็นบ้านไม้สองชั้นทรงจั่ว รายรอบด้วยบริเวณซึ่งเป็นสวนครัวและอาหารตามแบบฉบับของวิถีเกษตร โดยทั่วไปประกอบอาชีพทำนา และทำไร่',\n",
              "       'บ้านทุ่งหลวง เป็นชุมชนเกษตรกรรม และชุมชนกลุ่มอาชีพเฉพาะ ตั้งอยู่ทางใต้สุดของจังหวัดสุโขทัย เป็นพื้นที่ราบ มีอุทยานแห่งชาติรามคำแหงอยู่ในซีกทิศตะวันตกของอำเภอ นอกนั้นที่เหลือทั้งหมด ประมาณร้อยละ 75 เป็นพื้นที่เกษตรกรรม มีพื้นที่เก็บน้ำขนาดใหญ่ ชื่อว่า \"คลองข้างใน\" อยู่กลางอำเภอข้างพื้นที่อุทยาน มีลักษณะเป็นเรือนเดี่ยวไม้ แทรกตัวอยู่ตามพื้นที่เกษตรกรรม มีเครื่องปั้นดินเผาที่มีชื่อเสียง เป็นส่วนหนึ่งของแหล่งอารยธรรมสังคโลกอันเลื่องชื่อของสุโขทัย พื้นที่ส่วนใหญ่เป็นหมู่บ้านเกษตรดั้งเดิม วิถีชีวิตแบบเดิม',\n",
              "       'ศรีสัชนาลัย เป็นชุมชนเกษตรกรรม ชุมชนริมน้ำ และชุมชนกลุ่มอาชีพเฉพาะ ไม่ทราบที่มาการก่อตั้งที่แน่ชัด แต่มีลักษณะเป็นชุมชนที่อยู่รอบโบราณสถานร้าง โดยส่วนใหญ่ประกอบอาชีพเกษตรกรรม ตั้งอยู่ทางตอนเหนือของจังหวัดสุโขทัย มีลักษณะเป็นที่ราบบริเวณแม่น้ำยม มีลักษณะเป็นเรือนไม้เกาะกลุ่มกันเป็นหมู่บ้าน ตามลักษณะของหมู่บ้านเกษตรกรรมแบบดั้งเดิม โดยรอบโบราณสถานและเมืองเก่า ในสมัยก่อนชุมชนประกอบอาชีพเกษตรกรรม เนื่องจากอยู่ในบริเวณเมืองเก่า และในเขตใกล้กับอุทยานประวัติศาสตร์ศรีสัชนาลัย ทำให้บางส่วนเปลี่ยนไปประกอบอาชีพค้าขาย และธุรกิจท่องเที่ยวมากขึ้น',\n",
              "       'บ้านหาดเสี้ยว เป็นชุมชนเกษตรกรรม ชุมชนกลุ่มอาชีพเฉพาะ และชุมชนชาติพันธุ์ของกลุ่มลาวพวน เป็นชุมชนหมู่บ้านตั้งอยู่บนถนนสาย 101 มีลักษณะเป็นกลุ่มบ้านความหนาแน่นไม่มาก รูปแบบอาคารเป็นหมู่บ้านลาวพวน ในลักษณะบ้านไม้สองชั้น มีลานบ้านอยู่โดยรอบ ใต้ถุนบ้านเป็นพื้นที่วางกี่ทอผ้า ซึ่งสะท้อนให้เห็นลักษณะความสัมพันธ์ของอาชีพและการใช้ที่ว่าง เป็นหมู่บ้านเกษตรกรรม มีอาชีพและฐานทางวัฒนธรรมที่เลี่องชื่อได้แก่ การทอผ้า โดยเฉพาะผ้าตีนจกบ้านหาดเสี้ยว ซึ่งเป็นงานหัตถกรรมทอผ้าพื้นที่สำคัญและโดดเด่นที่หนึ่งของประเทศ',\n",
              "       'ชุมชนชาวแพ เป็นชุมชนริมน้ำที่ตั้งอยู่ทางด้านฝั่งทิศใต้ของแม่น้ำน่าน ชุมชนเป็นบ้านเรือนที่อยู่อาศัยอยู่ในแม่น้ำเจ้าพระยา มีลักษณะเป็นบ้านเรือนแพ ประกอบด้วยเรือนหลักและเรือนเล็ก ซึ่งเป็นที่ประกอบอาหารและห้องน้ำ ปัจจุบันหลงเหลือน้อย เดิมเป็นศูนย์กลางการค้าระหว่าง อำเภอต่าง ๆ ของจังหวัดพิษณุโลก สินค้าที่นำมาขายมีข้าว สัตว์ป่า และของป่า ปัจจุบันเป็นย่านการค้าและตลาดสด',\n",
              "       'ท่ามะปราง เป็นชุมชนตลาด และชุมชนริมน้ำ ก่อตั้งมาเมื่อประมาณ 230-250 ปี ที่ผ่านมา เดิมชื่อ หมู่บ้านทับปราง และเปลี่ยนมาเป็นท่ามะปราง เพราะบริเวณหมู่บ้านตั้งอยู่ใกล้ลำคลอง ซึ่งมีต้นมะปรางขึ้นอยู่รอบ ๆ โดยผู้คนบริเวณนั้นจะทำท่าน้ำเพื่อใช้ในชีวิตประจำวัน จึงได้เปลี่ยนมาใช้ชื่อท่ามะปราง เป็นเส้นทางคมนาคมสำคัญในสมัยประวัติศาสตร์จึงเป็นแหล่งรวมของทั้งผู้คนและสรรพสินค้าต่าง ๆ นอกจากกลุ่มชาวไทยแล้ว ยังมีกลุ่มชาวจีนและแขกอิสลามที่อพยพย้ายถิ่นฐานเข้ามาค้าขาย ทำมาหากินปะปนกันอยู่ด้วย ลักษณะภูมิประเทศตั้งอยู่ริมฝั่งตะวันตกของแม่น้ำน่าน เป็นพื้นที่อยู่ในย่านการค้าเก่าโบราณ มีพระปรางค์ขนาดย่อมคล้ายวัดพระศรีรัตนมหาธาตุฯ ภายในวัดท่ามะปราง บ้านเรือนส่วนใหญ่เป็นรูปแบบสมัยปัจจุบัน คงเหลือบ้านไม้เก่าริมน้ำอยู่จำนวนไม่มากนัก อาชีพส่วนใหญ่คือค้าขาย และรับจ้างทั่วไป',\n",
              "       'ตาปะขาวหาย เป็นชุมชนกลุ่มอาชีพเฉพาะ ชุมชนริมน้ำ ชุมชนความทรงจำ และชุมชนโดยรอบโบราณสถาน เดิมเรียกว่าบ้านเตาไห เป็นแหล่งผลิตเครื่องปั้นดินเผาประเภทไห จึงเรียกว่า บ้านเตาไห ผลิตส่งออกขายภายในประเทศและต่างประเทศ พบหลักฐานเครื่องปั้นดินเผาที่วัดจุฬามณี และที่อ่าวไทยในซากเรือสำเภาล่ม เป็นหลักฐานสำคัญ แต่ปัจจุบันเรียกบ้านตาปะขาวหาย ลักษณะภูมิประเทศ เป็นชุมชนโบราณตั้งอยู่สองฟากฝั่งแม่น้ำน่าน แต่เดิมมีวัดโบราณหลายแห่งแต่ถูกทำลายจนหมด มีวัดตาปะขาวหาย เป็นวัดโบราณที่หลงเหลืออยู่ โดยมีวิหารและพระพุทธรูปองค์ประธาน เป็นสถาปัตยกรรมสมัยอยุธยา และมีเตาเผาโบราณบริเวณริมฝั่งแม่น้ำน่าน ส่วนใหญ่ประกอบอาชีพเกษตรกรรม และเครื่องปั้นดินเผา',\n",
              "       'ปากพิงตะวันตก เป็นชุมชนเกษตรกรรม ชุมชนริมน้ำ และชุมชนความทรงจำ เป็นพื้นที่ที่มีเหตุการณ์สำคัญทางประวัติศาสตร์หลายเหตุการณ์ เช่น ศึกอะแซหวุ่นกี้ ศึกสงคราม 9 ทัพ รวมทั้งเป็นชุมชนที่ปรากฏอยู่ในประวัติศาสตร์เรื่องการรบของพระเจ้าตากสิน เป็นที่ตั้งของกองทัพ ในสมัยที่พระเจ้าตากสินรบกับพม่า ลักษณะภูมิประเทศเป็นที่ราบลุ่ม มีคลองชลประทานผ่านหมู่บ้าน และมีแม่น้ำน่านไหลผ่านหมู่บ้าน พื้นที่เหมาะแก่การทำการเกษตร บ้านเรือนเป็นรูปแบบสมัยใหม่ตั้งกระจายอยู่ทั่วชุมชน มีบ้านไม้เก่ายกใต้ถุนสูงอยู่บริเวณทิศเหนือของชุมชนประมาณ 10 หลังคาเรือน ส่วนใหญ่ประกอบอาชีพเกษตรกรรม มีภูมิปัญญาด้านการรักษาโรค  เช่น พ่นฝีคางทูม พ่นป่วง พ่นตาแดง นมหลง งาแซง และมีดสับเส้น',\n",
              "       'บ้านใหม่ เป็นชุมชนตลาด และชุมชนริมน้ำ เดิมชื่อบ้านทราย มีอาณาเขตกว้างขวางมาก อยู่ในตำบลวังน้ำคู้ เดิมบริเวณนั้นเป็นป่า มีประชากรอาศัยอยู่เล็กน้อย ต่อมามีผู้คนจากที่อื่นอพยพเข้ามาทำการค้าขายพืชไร่กับหมู่บ้านใกล้เคียง จึงทำให้มีตลาดเจริญรุ่งเรืองมาก ต่อมาทางราชการได้ใช้วัดเหนือและวัดบางทรายแบ่งเขต ปรากฏว่าตำบลวังน้ำคู้ได้ส่วนหนึ่งของตลาด ด้านตำบลวัดพริกได้ตลาดเกือบทั้งหมด จึงตั้งชื่อหมู่บ้านว่า ตลาดบ้านใหม่ ต่อมาชื่อกร่อนลงเหลือเพียงบ้านใหม่ อยู่ห่างจากตัวเมืองพิษณุโลกประมาณ 20 กิโลเมตร เป็นพื้นที่ย่านการค้า พาณิชยกรรม มีตลาดบ้านใหม่ที่เป็นอาคารไม้เก่าโบราณ ลักษณะเป็นเรือนแถวชั้นเดียวตลอดแนว และมีเรือนใหม่เก่าริมคลอง ส่วนใหญ่ประกอบอาชีพค้าขาย และเกษตรกรรม',\n",
              "       'พรหมพิราม เป็นชุมชนตลาด เป็นชุมชนที่ทอดตัวขนานทางรถไฟในทิศตะวันออก และขนานกับแม่น้ำน่านทางทิศตะวันตก ที่เจริญขึ้นมาจากการเป็นชุมทางการค้าขายระหว่างพื้นที่ภาคเหนือและภาคกลางในอดีต จากลักษณะทางภูมิศาสตร์ที่มีเส้นทางคมนาคมได้หลากหลายเช่นนี้ ทำให้ชุมชนพรหมพิราม เกิดเป็นเมืองที่เจริญเติบโตขึ้นตามลำดับ ภายในชุมชนประกอบด้วย กลุ่มอาคารแถวไม้สูงสองชั้นที่มีความหนาแน่น ขนาบด้วยแม่น้ำน่านและทางรถไฟ โดยเกิดเป็นชุดห้องแถวขนานตลอดเส้นถนนที่เชื่อมระหว่างแม่น้ำกับทางรถไฟเป็นย่านการค้าที่สำคัญระดับอำเภอ เป็นศูนย์กลางการบริการและการให้บริการสินค้าหลากหลายชนิด อาทิ ตลาดสด และร้านค้าปลีก',\n",
              "       'นครไทย เป็นชุมชนเกษตรกรรม ชุมชนความทรงจำ และชุมชนชาติพันธุ์ของชาวม้ง โดยมีชนเผ่าม้งอาศัยอยู่บนพื้นที่อุทยานภูหินร่องกล้า พบข่าวความเคลื่อนไหวของชนเผ่าม้งในพื้นที่ชุมชนตำบลนครไทย ลักษณะภูมิประเทศมีสภาพพื้นที่ทางทิศเหนือของตำบลเป็นภูเขา เป็นที่ราบสูงทางเหนือแล้วลาดลงมาทางใต้ ซึ่งเป็นที่ราบลุ่ม และมีแม่น้ำแควน้อยเป็นแนวเขตตำบล พื้นที่บางแห่งเป็นลุ่มน้ำมีน้ำท่วมประจำทุกปี ภายในชุมชนมีบ้านเรือนที่มีลักษณะเป็นบ้านไม้สองชั้นยกใต้ถุน แสดงให้เห็นการใช้ประโยชน์ของอาคาร ที่สัมพันธ์กับวิถีชีวิตและกิจกรรมที่เกี่ยวเนื่องกับภาคเกษตร ได้แก่ สวน ยุ้งข้าว พื้นที่อำเภอนครไทยเคยเป็นหนึ่งในฐานที่ตั้งหลักของพรรคคอมมิวนิสต์แห่งประเทศไทย โดยเฉพาะบริเวณอุทยานแห่งชาติภูหินร่องกล้า ซึ่งมีโรงเรียนการเมืองการทหารที่เป็นศูนย์กลางของพรรคคอมมิวนิสต์แห่งประเทศไทย ปัจจุบันเป็นชุมชนหมู่บ้านของกลุ่มม้งที่เป็นสหายปฏิวัติเดิม อยู่บนที่สูง ซึ่งเป็นที่จัดสรรให้อยู่หลังจากมีการมอบตัวของพรรคคอมมิวนิสต์',\n",
              "       'วังกรด เป็นชุมชนตลาด ชุมชนริมน้ำ ชุมชนโดยรอบทางรถไฟ และชุมชนความทรงจำ ตลาดวังกรดตั้งอยู่ริมแม่น้ำน่าน อยู่ห่างจากตัวเมืองพิจิตรประมาณ 10 กิโลเมตรเท่านั้น เดิมชื่อ \"บ้านวังกลม\" และเปลี่ยนเป็น \"วังกรด\" ตามชื่อสถานีรถไฟ ตลาดวังกรดเป็นตลาดที่เกิดจากการเป็นชุมทางของการเดินทางที่สำคัญ คือการเกิดของทางรถไฟสายเหนือ \"และสถานีรถไฟบ้านวังกลม\" ในปี พ.ศ. 2451 เกิดการสร้างตลาดขึ้น เป็นชุมชนค้าขายโดย \"หลวงประเทืองคดี\" จากวันนั้นตลาดวังกรด จึงกลายเป็นศูนย์กลางทางการค้าขายแหล่งใหญ่ของจังหวัดพิจิตร เรียกได้ว่า \"เศรษฐกิจการค้าดีมากกว่าในเมืองพิจิตรเสียอีก\" นอกจากนี้วังกรดยังมีประวัติศาสตร์ความทรงจำในเหตุการณ์สำคัญที่เกี่ยวเนื่องกับโฮจิมินห์ ลักษณะภูมิประเทศเป็นที่ราบริมแม่น้ำ มีตลาดโบราณเรือนไม้ ที่ยังคงสภาพดั้งเดิมให้เห็นอยู่ ผู้คนในชุมชนส่วนใหญ่ประกอบอาชีพค้าขายเป็นหลัก เป็นศูนย์กลางการซื้อขายแลกเปลี่ยนตั้งแต่อดีต',\n",
              "       'ท่าฬ่อ เป็นชุมชนตลาด ชุมชนริมน้ำ ชุมชนโดยรอบทางรถไฟ และชุมชนความทรงจำ ชาวท่าฬ่อส่วนใหญ่มีเชื้อสายชาวจีนไหหลำ ที่คนรุ่นปู่ รุ่นพ่อ เป็นชาวจีนมาจากเกาะไหหลำ ข้ามน้ำข้ามทะเลเข้ามาตั้งถิ่นฐาน ทำมาค้าขายเป็นจำนวนมาก ก่อให้เกิดการทำธุรกิจการค้าขยายตัว มีตลาดร้านค้าถึง 2 แห่ง คือ ตลาดใต้ และตลาดเหนือ มีทั้งร้านตัดเสื้อผ้า ร้านถ่ายรูป ช่างไม้ ช่างบัดกรี ร้านอาหารข้าวมันไก่ ซาลาเปาหมูสับเห็ดหอม มีร้านตัดผมที่มีพัดลมแผ่นผ้าใบปักลวดลายสวยงาม เดินเร่ขายปลาเค็มชั้นหนึ่งประเภทปลากุเลา และปลาสละเค็มกลิ่นหอม มีโรงสี 2 โรง และโรงเลื่อย 1 โรง จนทำเศรษฐกิจท่าฬ่อเฟื่องฟูมาช้านาน มีชื่อเสียงโด่งดัง มีทั้งสถานีรถไฟ ท่าน้ำโรงเรียนภาษาจีน และศูนย์กลางการขนส่งในระดับตำบลชั้นนำ ลักษณะภูมิประเทศเป็นที่ราบริมแม่น้ำ มีอาคารเรือนไม้ที่กระจายไปในพื้นที่ที่ลึกไปจากแนวถนนสายหลัก เป็นตลาดโบราณเป็นศูนย์กลางทางการค้าในอดีต เเละเริ่มซบเซาลงไปเมื่อมีตัดถนนเพิ่มมากขึ้น การเดินทางหรือขนส่งทางน้ำลดลง',\n",
              "       'ตลาดบางมูลนาก เป็นชุมชนตลาด ชุมชนริมน้ำ ชุมชนโดยรอบทางรถไฟ และชุมชนความทรงจำ ชุมชนตลาดบางมูลนากเป็นศูนย์การค้ามาหลายชั่วคน ส่วนใหญ่เป็นการค้าขนาดเล็ก และขนาดกลางซื้อมาขายไปเป็นหลัก จะมีประเภทที่เป็นอุตสาหกรรมยุคบุกเบิก ได้แก่ โรงเลื่อย โรงสี และโรงน้ำแข็งส่วนบริเวณรอบนอกออกไปก็เป็นชุมชนเกษตรที่กว้างใหญ่ไพศาล และยืนยงจนทุกวันนี้ ในอดีตเคยเป็นเมืองภูมิมาก่อน ซึ่งมีทำการอยู่ที่บ้านหนองเต่า ตำบลภูมิ จากคำเล่ากันต่อ ๆ มาแต่โบราณว่า มีพระธรรมยาเป็นผู้ว่าราชการเมืองสมัยรัตนโกสินทร์ตอนต้นหรือสมัยอยุธยาก็ได้ ปัจจุบันมีผู้สร้างศาลพระธรรมยาที่วัดหนองเต่า ตำบลภูมิ มีคนนับถือกันมาก และมีคนบนบานศาลกล่าวกันอยู่เสมอ ลักษณะภูมิประเทศเป็นที่ราบลุ่มติดแม่น้ำน่าน มีบ้านเรือนโดยรอบมีการเปลี่ยนแปลงไปมาก แต่ยังคงเห็นสภาพเดิมในตลาดและพื้นที่ใกล้เคียง เป็นชุมชนโบราณขนาดใหญ่มีการทำการเกษตรควบคู่กับการค้าขาย',\n",
              "       'ตลาดตะพานหิน เป็นชุมชนตลาด ชุมชนริมน้ำ และชุมชนโดยรอบทางรถไฟ เป็นชุมชนพาณิชยกรรมขนาดใหญ่และเก่าแก่แห่งหนึ่งของ จังหวัดพิจิตร โดยตั้งอยู่ระหว่างแม่น้ำน่านทางทิศตะวันตก และสถานีรถไฟตะพานหินในด้านทิศตะวันออก ประกอบด้วยกลุ่มอาคารพาณิชยกรรมที่เป็นเรือนแถวไม้ สลับกับตึกแถวในรูปแบบสถาปัตยกรรมยุคโมเดิร์น กระจายตัวอยู่ระหว่างแนวตะวันออก-ตกของแม่น้ำน่าน และสถานีรถไฟตะพานหิน เป็นชุมชนย่านการค้าที่สำคัญที่สุดของอำเภอ ตะพานหิน ที่รวมสินค้าหลากหลายประเภท ได้แก่ ร้านค้าปลีก ร้านขายทอง ตลาดสด เป็นต้น',\n",
              "       'ตรอกกล้าตะพานหิน เป็นชุมชนเกษตรกรรรม ชุมชนกลุ่มอาชีพเฉพาะ และชุมชนชาติพันธุ์ของชาวไทยพื้นถิ่น ไทยเชื้อสายจีน และลาวพวน อำเภอตะพานหินตั้งอยู่ฝั่งตะวันออกของแม่น้ำน่าน ห่างจากตัวเมืองจังหวัดพิจิตรไปทางทิศใต้ประมาณ 28 กิโลเมตรที่มาของชื่อ \"ตะพานหิน\" สืบเนื่องมาจากเดิมมีหินดานขวางอยู่กลางแม่น้ำน่านเหนือตะพานหินขึ้นไปประมาณ 1 กิโลเมตร ตรงที่ทำการประปาส่วนภูมิภาค อำเภอตะพานหินในปัจจุบันลักษณะของหินดานนี้จะเห็นได้เฉพาะฤดูแล้งขณะน้ำลด เป็นหินดานที่ยื่นจากฝั่งตะวันออกและขวางแม่น้ำน่านเกือบจรดถึงฝั่งตะวันตก เหลือช่วงน้ำลึกไว้เพียงเล็กน้อยพอที่เรือขนาดเล็กจะแล่นผ่านไปมาได้ ลักษณะคล้ายสะพานหิน ชุมชนตรอกกล้าตะพานหินมีอาชีพดั้งเดิมคือ เป็นย่านลิเก ลักษณะภูมิประเทศเป็นที่ราบติดแม่น้ำ มีบ้านไม้ขนาดเล็กมีลักษณะทางสถาปัตยกรรมพื้นถิ่น ที่สร้างตามธรรมเนียมแบบดั้งเดิม มีสภาพทรุดโทรมตามกาลเวลา มีการปรับปรุงและเปลี่ยนให้เหมาะสมตามสภาพการอยู่อาศัยของแต่ละหลัง ลักษณะของสังคมและความเป็นอยู่เป็นชุมชนแบบชนบท มีอาชีพทางการเกษตรเป็นส่วนใหญ่',\n",
              "       'บ้านสะเดียง เป็นชุมชนเกษตรกรรม เดิมเขียนว่า เสดียง เป็นหมู่บ้านเก่าแก่ ประมาณ 700 ปี มีมาพร้อม ๆ กับสมัยสุโขทัย ตำบลสะเดียงตั้งชื่อตามชื่อของสายเสดียง ซึ่งหมายถึง หวายเส้น ที่มีขนาดยาว ชาวบ้านนำมาจากป่าเพื่อถวายพระสำหรับใช้เป็นราวตากผ้าของพระสงฆ์ เป็นชุมชนพื้นเมืองโบราณดั้งเดิมของเพชรบูรณ์ มีภาษา วัฒนธรรม ประเพณี ที่โดดเด่นเป็นอัตลักษณ์ของตัวเอง ลักษณะภูมิประเทศ ตั้งอยู่ทางด้านทิศตะวันตกของตัวเมืองเพชรบูรณ์ มีถนนบุรกรรมโกวิทผ่านกลางชุมชน วิ่งเป็นแนวตะวันออก-ตะวันตก ภายในชุมชนมีบ้านเรือนส่วนใหญ่เป็นบ้านไม้โบราณหลงเหลืออยู่เป็นจำนวนมาก ทั้งในส่วนของร้านค้า และบ้านพักอาศัยทั่วไป ตลอดแนวถนนในชุมชน อาชีพหลัก คือ ทำนา ทำสวน ทำไร่ และอาชีพเสริม คือรับจ้างทั่วไป',\n",
              "       'หล่มเก่า เป็นชุมชนตลาด โดยมีถนนรณกิจปรีชาเป็นถนนสายสำคัญของเมืองหล่ม ที่ท้ายถนน คือ แม่น้ำป่าสัก มีท่าน้ำไว้สำหรับขนสินค้าที่มาทางเรือขึ้นฝั่ง เพื่อเอามาค้าขายแลกเปลี่ยนกันที่ตลาดนายหมายนายสง่า ซึ่งเป็นตลาดดั้งเดิมของหล่มสัก มีมาตั้งแต่ปี พ.ศ. 2480 และบริเวณย่านเศรษฐกิจแห่งนี้ก็มีตรอกสำคัญตรอกหนึ่ง ชื่อ ตรอกโรงยา เป็นตรอกที่คนไทยเชื้อสายจีนสมัยก่อนจะมานั่งสูบยาฝิ่นกันที่นี่ เพราะเชื่อว่าจะช่วยรักษาอาการปวดท้องได้ เป็นพื้นที่อยู่ในเทศบาลหล่มเก่า ลักษณะสภาพแวดล้อมเป็นถนนเก่าแก่โบราณ พื้นที่ส่วนใหญ่เป็นย่านพาณิชยกรรม เป็นตลาดโบราณมีห้องแถวไม้ 2 ชั้นเก่า อายุกว่า 100 ปี อยู่ตลอดสองฝั่งถนน ส่วนใหญ่ประกอบอาชีพค้าขาย',\n",
              "       'ศรีเทพ เป็นชุมชนความทรงจำ และชุมชนที่อยู่โดยรอบโบราณสถาน ซากเมืองโบราณนี้ถูกพบครั้งแรกในขณะที่สมเด็จกรมพระยาดำรงราชานุภาพเดินทางไปตรวจราชการมณฑลเพชรบูรณ์ ใน พ.ศ. 2448 ลักษณะของเมืองโบราณมีคูน้ำและกำแพงดินขนาดใหญ่มากล้อมรอบ เป็นรูปวงกลมซ้อนกันอยู่ 2 วง ซึ่งสันนิษฐานกันว่าแนวคูเมือง กำแพงเมืองที่ซ้อนกันนั้น จะเป็นการขยายตัวของชุมชนในภายหลัง เป็นพื้นที่ชุมชนอยู่ทางด้านทิศตะวันตกของอุทยานประวัติศาสตร์ศรีเทพ บ้านเรือนส่วนใหญ่เป็นรูปแบบสมัยใหม่ ปลูกกระจายอยู่ทั้งพื้นที่ของชุมชน ไม่พบบ้านเรือนรูปแบบโบราณหลงเหลืออยู่ ส่วนใหญ่ประกอบอาชีพค้าขายและรับจ้างทั่วไป',\n",
              "       'บ้านม้งเข็กน้อย เป็นชุมชนเกษตรกรรม และชุมชนชาติพันธุ์ของชาวม้ง ที่ได้อพยพเข้ามาอยู่ ในเขต 3 จังหวัด เมื่อประมาณ 70 ปีมาแล้ว โดยชาวเขาชุดแรกอพยพมาจากอำเภอปัว จังหวัดน่าน ผ่านมาทางอำเภอเด่นชัย จังหวัดแพร่ และลงมาทางอำเภอตะพานหิน จังหวัดพิจิตร แล้วเดินทางมาตั้งถิ่นฐานในจังหวัดเพชรบูรณ์ ลักษณะภูมิประเทศ ตั้งอยู่บนเนินเขาสูง ใกล้เคียงกับบริเวณ ภูทับเบิก เขาค้อ และทุ่งแสลงหลวง เป็นหมู่บ้านม้งที่ใหญ่ที่สุดในประเทศไทย มีรูปแบบบ้านเรือนแบบชาวม้งดั้งเดิม สลับกับบ้านไม้ทั้งหนึ่งและสองชั้น ตั้งอยู่กันเป็นกลุ่มภายในชุมชน ส่วนใหญ่ประกอบอาชีพการเกษตร และผ้าปักลาย',\n",
              "       'ชุมชนเมืองเก่า เป็นย่านพาณิชยกรรมเก่า ประกอบด้วยอาคารพาณิชยกรรมลักษณะอาคารไม้ริม 2 ฝั่งถนน เป็นย่านพาณิชยกรรมเก่าของชุมชนเมืองนครราชสีมาเรื่อยมาตั้งแต่อดีตจนถึงปัจจุบัน ประชากรในชุมชนประกอบอาชีพค้าขายเป็นหลัก การค้าส่วนใหญ่เป็นสินค้าอุปโภค และการค้าปลีกขนาดเล็ก มีกำแพงเมืองและคูเมืองล้อมรอบสร้างขึ้นในสมัยอยุธยา มีความกว้างประมาณ 1,000 เมตร ยาวประมาณ 1,700 เมตร และนับเป็นสถานที่ท่องเที่ยวที่สำคัญแห่งหนึ่งของนครราชสีมา',\n",
              "       'ชุมชนเมืองเก่าพิมาย เป็นย่านพาณิชยกรรมเก่า ประกอบด้วยอาคารพาณิชยกรรมลักษณะอาคารไม้ริม 2 ฝั่งถนน เป็นย่านพาณิชยกรรมเก่าของชุมชนเมืองพิมายเรื่อยมาตั้งแต่อดีตจนถึงปัจจุบัน เป็นย่านพาณิชยกรรมที่ตั้งอยู่ในเขตอุทยานประวัติศาสตร์พิมาย ที่สร้างตามแบบแผนของศิลปะเขมร มีลักษณะเป็นเวียงสี่เหลี่ยม เริ่มสร้างขึ้นสมัยพระเจ้าสุริยวรมันที่ 1 ราวพุทธศตวรรษที่ 16',\n",
              "       'ชุมชนย่านตลาดปักธงชัย เป็นย่านพาณิชยกรรมเก่า ประกอบด้วยอาคารพาณิชยกรรมลักษณะอาคารไม้ 2 ชั้น เป็นย่านพาณิชยกรรมการค้าเก่าของชุมชนเมืองปักธงชัยเรื่อยมาตั้งแต่อดีตจนถึงปัจจุบัน เป็นชุมชนการค้าขายและที่พักอาศัย การค้าส่วนใหญ่เป็นสินค้าอุปโภค และการค้าปลีกขนาดเล็ก มีอาคารพาณิชยกรรมเก่า ลักษณะเป็นอาคารไม้ ความสูง 1 ชั้น และ 2 ชั้น โดยมีความโดดเด่นของรูปแบบและองค์ประกอบทางสถาปัตยกรรม',\n",
              "       'ชุมชนย่านการค้าสีคิ้ว เป็นย่านพาณิชยกรรมเก่า ประกอบด้วยอาคารพาณิชยกรรมลักษณะอาคารไม้ 2 ชั้นบริเวณสถานีรถไฟ และตลาด เป็นย่านพาณิชยกรรมการค้าเก่าของชุมชนเมืองสีคิ้วเรื่อยมาตั้งแต่อดีตจนถึงปัจจุบัน เป็นชุมชนการค้าขายและที่พักอาศัย การค้าส่วนใหญ่เป็นสินค้าอุปโภค และการค้าปลีกขนาดเล็ก มีอาคารพาณิชยกรรมเก่า ลักษณะเป็นอาคารไม้ ความสูง 1 ชั้น และ 2 ชั้น โดยมีความโดดเด่นของรูปแบบและองค์ประกอบทางสถาปัตยกรรม',\n",
              "       'ชุมชนคูเมืองเก่า เป็นย่านพาณิชยกรรมและที่พักอาศัยเก่า ประกอบด้วยอาคารพาณิชยกรรมและบ้านพักอาศัยลักษณะตึกดินและอาคารไม้ ความสูงอาคาร 1 ชั้น และ 2 ชั้น บริเวณ 2 ฝั่งถนนจิระ ปัจจุบันอาคารมีความทรุดโทรม ขาดการการดูแลซ่อมแซม เป็นย่านพาณิชกรรมการค้าและย่านพักอาศัยเก่าของเมืองบุรีรัมย์ เรื่อยมาตั้งแต่อดีตจนถึงปัจจุบัน เป็นชุมชนการค้าขายและที่พักอาศัยของพ่อค้าเชื้อสายจีนในอดีต จากบริเวณสถานีรถไฟ ก่อนขยับขยายมายังชุมชนริมถนนจิระ ปัจจุบันมีการผสมผสานของผู้ที่ทำการค้าขายเชื้อสายจีน และไทย แต่คงยังมีประเพณีวัฒนธรรมที่ยังคงเป็นเอกลักษณ์ของคนไทยเชื้อสายจีนอยู่ เป็นย่านชุมชนเก่าที่มีวิวัฒนาการความเป็นเมืองจากอดีตถึงปัจจุบันตั้งซ้อนทับแหล่งโบราณสถาน ภายในย่านชุมชนคูเมืองเก่ามีสถานที่สำคัญ ได้แก่ ศาลหลักเมือง วัดกลาง เป็นต้น นอกจากนี้ยังมีอาคารพาณิชยกรรมและบ้านเก่าชั้นเดียวในลักษณะของตึกดิน อายุกว่า 60 ปี โดยรอบชุมชนมีคันดินและคูเมืองล้อมรอบ ซึ่งได้ประกาศขึ้นทะเบียนและกำหนดขอบเขตเป็นโบราณสถานแล้ว',\n",
              "       'ชุมชนริมสถานีรถไฟ เป็นย่านพาณิชยกรรมเก่า ภายในชุมชนประกอบด้วยอาคารพาณิชยกรรม ลักษณะตึกดินและอาคารไม้ ความสูงอาคาร 1 ชั้น และ 2 ชั้น บริเวณ 2 ฝั่งถนนนิวาศ ปัจจุบันอาคารบางส่วนมีความทรุดโทรม ขาดการการดูแลซ่อมแซม เป็นย่านพาณิชกรรมการค้าเก่าของเมืองบุรีรัมย์ที่เกี่ยวกับการขนส่งสินค้าทางรถไฟ เรื่อยมาตั้งแต่อดีตจนถึงปัจจุบัน เป็นชุมชนชาวจีนตั้งแต่แรกเริ่ม ซึ่งเกิดจากการอพยพเข้ามาของคนเชื้อสายจีนที่เดินทางมากับรถไฟเพื่อมาค้าขายในเมืองบุรีรัมย์ และเป็นย่านการค้าเก่าดั้งเดิม ที่มีความสำคัญต่อชุมชนเมืองบุรีรัมย์มาตั้งแต่อดีต ปัจจุบันยังมีประเพณีวัฒนธรรมที่ยังคงเป็นเอกลักษณ์ของคนไทยเชื้อสายจีนอยู่ เป็นย่านพาณิชยกรรมแห่งแรกในตัวเมืองบุรีรัมย์ ที่มีการสร้างอาคารขึ้นเป็นห้องแถวในยุคแรกประเภทอาคารไม้ ความสูง 1 ชั้นและ 2 ชั้น ที่มีความโดดเด่นของรูปแบบและองค์ประกอบทางสถาปัตยกรรมเฉพาะ เช่น บานประตู ลูกกรงราวระเบียง และช่องระบายอากาศเหนือบานประตูและหน้าต่าง เป็นต้น',\n",
              "       'ชุมชนประชาสันติสุข เป็นย่านพาณิชยกรรมเก่าในยุคแรกของเมืองนางรอง ริมสองฝั่งถนนถนนประชาสันติสุข ภายในชุมชนประกอบด้วยอาคารพาณิชยกรรมและบ้านพักอาศัย ลักษณะอาคารไม้ ความสูงอาคาร 1 ชั้น และ 2 ชั้น เป็นย่านพาณิชกรรมการค้าเก่าของเมืองนางรอง เรื่อยมาตั้งแต่อดีตจนถึงปัจจุบัน ชุมชนประชาสันติสุขเป็นย่านการค้าและบริการที่เริ่มจากคนไทยเชื้อสายจีน ซึ่งยังมีกิจกรรมการค้าขายสินค้าในพื้นที่อยู่ แต่ได้ลดบทบาทลงจากสมัยก่อน อันเนื่องมาจากการพัฒนาการคมนาคม และการขยายตัวของเมืองนางรองเข้าหาถนนสายหลัก เกิดเป็นย่านพาณิชยกรรมใหม่ที่มีความทันสมัยมีความสะดวกสบาย ลักษณะสังคมปัจจุบันยังมีประเพณี วัฒนธรรม ความเชื่อ ที่ยังคงเป็นเอกลักษณ์ของคนไทยเชื้อสายจีนอยู่ มีอาคารเป็นห้องแถว และอาคารเดี่ยวประเภทอาคารไม้ ความสูง 1 ชั้นและ 2 ชั้น ที่มีความโดดเด่นของรูปแบบและองค์ประกอบทางสถาปัตยกรรมเฉพาะ เช่น ลูกกรงราวระเบียง และช่องระบายอากาศเหนือบานประตูและหน้าต่าง เป็นต้น',\n",
              "       'ชุมชนเมืองเก่า เป็นย่านพาณิชยกรรมและพักอาศัยเก่า ริมถนนอำนวยกิจและราษฎร์บำรุง ภายในชุมชนประกอบด้วยอาคารพาณิชยกรรมและบ้านพักอาศัย ลักษณะอาคารไม้ ความสูงอาคาร 1 ชั้น และ 2 ชั้น ปัจจุบันอาคารบางส่วนมีความทรุดโทรม ขาดการการดูแลซ่อมแซม เป็นย่านพาณิชกรรมการค้าเก่าและย่านพักอาศัยของเมืองประโคนชัย จากอดีตจนถึงปัจจุบัน ย่านชุมชนเก่าเมืองประโคนชัย บริเวณถนนอำนวยกิจและราษฎร์บำรุง เป็นชุมชนด่านการค้าที่สำคัญในอดีต ซึ่งเริ่มจากคนไทยเชื้อสายจีนและคนท้องถิ่นเดิม สินค้าที่สำคัญในอดีตได้แก่ ข้าว เกลือ และปลาร้า เป็นต้น ปัจจุบันยังมีกิจกรรมการค้าขายสินค้าในพื้นที่บริเวณช่วงต้นถนนอำนวยกิจ และบางช่วงของถนนราษฎร์บำรุง ลักษณะสังคมปัจจุบันยังมีประเพณี วัฒนธรรม ความเชื่อ ที่ผสมกันระหว่างไทย จีน และเขมร เช่น ภาษาพูด การละเล่น เป็นต้น มีอาคารลักษณะห้องแถว และอาคารเดี่ยวประเภทอาคารไม้ ความสูง 1 ชั้นและ 2 ชั้น ที่มีความโดดเด่นของรูปแบบและองค์ประกอบทางสถาปัตยกรรมเฉพาะ เช่น บานประตู และช่องระบายอากาศเหนือบานประตูและหน้าต่าง เป็นต้น ปัจจุบันหลายอาคารมีการปรับปรุงใช้เป็นร้านจำหน่ายของฝากเมืองประโคนชัย เช่น ปลาจ่อม กุ้งจ่อม เป็นต้น',\n",
              "       'ชุมชนโดยรอบปราสาทหินเมืองต่ำ เป็นชุมชนพักอาศัยหนาแน่น ที่ตั้งอยู่โดยรอบโบราณสถานปราสาทหินเมืองต่ำด้านทิศใต้และทิศตะวันตก ลักษณะอาคารพักอาศัยภายในชุมชนดั้งเดิมเป็นลักษณะอาคารไม้ 2 ชั้น ยกใต้ถุนสูง ปัจจุบันเริ่มมีการใช้วัสดุสมัยใหม่ในการก่อสร้าง เช่น คสล. และเหล็ก เป็นต้น ชุมชนพักอาศัยกึ่งชนบท ประชาชนส่วนใหญ่ในชุมชนประกอบอาชีพเกษตรกรรม ได้แก่ การทำนา และปลูกพืชไร่ รองลงมาเป็นอาชีพรับจ้าง ลักษณะสังคมในชุมชนยังคงมีวิถีชีวิต วัฒนธรรม ประเพณี และความเชื่อ แบบวิถีชนบทที่เกี่ยวข้องกับการเกษตร สิ่งศักดิ์สิทธิ์ในชุมชน และปราสาทเมืองต่ำ เป็นชุมชนเก่า ที่มีวิวัฒนาการการตั้งถิ่นฐานเป็นชุมชนอยู่โดยรอบโบราณสถานปราสาทหินเมืองต่ำที่มีความสวยงาม และสมบูรณ์ของตัวปราสาท',\n",
              "       'ชุมชนพุทไธสง เป็นย่านพาณิชยกรรมเก่า ตั้งอยู่บนที่ดอนที่มีชื่อเรียกว่าเนินพุทไธสง บริเวณริมถนนรัตนสุข ถนนอภัยราษฎร์ และสี่แยกถนนพระเลิศ ประกอบด้วยอาคารพาณิชยกรรมลักษณะอาคารไม้ ความสูงอาคาร 2 ชั้น ปัจจุบันอาคารบางส่วนมีความทรุดโทรม ขาดการการดูแลซ่อมแซม เป็นย่านการค้าพาณิชกรรมหลักของเมืองพุทไธสง จากอดีตจนถึงปัจจุบัน ชุมชนพุทไธสง เป็นชุมชนด่านการค้าที่สำคัญในอดีต ต่อมาได้มีคนไทยเชื้อสายจีนอพยพเข้ามา เริ่มมีการทำการค้าขายที่เป็นสมัยใหม่ เริ่มมีการก่อสร้างอาคารพาณิชกรรมลักษณะตึกดิน และอาคารไม้ สินค้าที่สำคัญในอดีตได้แก่ ข้าว ผ้าไหม และเกลือ ลักษณะสังคมปัจจุบันยังมีประเพณี วัฒนธรรม ความเชื่อ ที่ผสมกันระหว่างไทย จีน เช่น งานฉลองเจ้าพ่อหลักเมือง มีอาคารพาณิชยกรรมเก่าลักษณะห้องแถว และอาคารเดี่ยวประเภทอาคารไม้ ความสูง 2 ชั้น อายุกว่า 50 ปี ที่มีความโดดเด่นของรูปแบบและองค์ประกอบทางสถาปัตยกรรมเฉพาะ เช่น ลูกกรงราวระเบียง ช่องระบายอากาศเหนือบานประตูและหน้าต่าง เป็นต้น',\n",
              "       'ชุมชนบ้านสลักได เป็นชุมชนที่ตั้งอยู่บนสภาพภูมิประเทศที่เป็นที่ดอน มีกำแพงเมืองและคูเมืองเป็นรูปวงรีล้อมรอบ 2 ชั้น พื้นที่โดยรอบชุมชนเป็นพื้นที่เกษตรกรรม ได้แก่ นาข้าว เป็นชุมชนพักอาศัยกึ่งชนบท ประชากรในชุมชนบ้านสลักไดประกอบอาชีพด้านเกษตรกรรมเป็นหลัก รองลงมาเป็นรับจ้าง และค้าขาย ลักษณะสังคมภายในชุมชนยังคงเป็นลักษณะของวิถีชีวิตและวัฒนธรรมแบบชนบทที่มีความเกี่ยวข้องกับการเกษตร เป็นชุมชนที่มีความสำคัญทางด้านโบราณคดี จากการสำรวจภายในชุมชนพบเศษภาชนะดินเผา เนื้อดินมีทั้งแบบผิวเรียบและตกแต่งผิวภาชนะด้วยลายเชือกทาบ เคลือบน้ำดินสีแดง และเขียนลายเชือกทาบแล้วเคลือบน้ำดินสีแดง เศษภาชนะดินเผาเนื้อแกร่งเคลือบสีน้ำตาล ภาชนะดินเผาบรรจุกระดูก และพระพุทธรูปสำริด ฯลฯ',\n",
              "       'ชุมชนบ้านแสลงพัน เป็นชุมชนโบราณมีคูน้ำคันดินล้อมรอบเป็นรูปวงรี โดยมีคูน้ำล้อมรอบ 2 ชั้น และคันดิน 3 ชั้น ชุมชนมีขนาดกว้างยาวประมาณ 300 x 450 เมตร เป็นชุมชนพักอาศัยแบบชนบท ประชากรในชุมชนบ้านแสลงพันประกอบอาชีพด้านเกษตรกรรมเป็นหลัก รองลงมาเป็นรับจ้าง และรับราชการ ลักษณะสังคมภายในชุมชนยังคงเป็นลักษณะของวิถีชีวิตและวัฒนธรรมแบบชนบท เป็นชุมชนที่มีความสำคัญทางด้านโบราณคดี ที่มีการขุดค้นพบเศษภาชนะดินเผา เนื้อดินมีการตกแต่งโดยการเขียนลายเชือกทาบ และเขียนสี',\n",
              "       'ชุมชนริมถนนห่วยโหล่ว และชุมชนริมทางรถไฟ เป็นย่านพาณิชยกรรมเก่าแห่งแรกของเมืองสุรินทร์ อยู่บริเวณด้านหน้าสถานีรถไฟ และบริเวณริมถนนห่วยโหล่ว อาคารเดิมในย่านชุมชนมี 3 ลักษณะ ได้แก่ ห้องแถวไม้ ห้องแถวแบบคอนกรีตกับผสมไม้ และห้องแถวแบบคอนกรีตเสริมเหล็ก ความสูง 1-2 ชั้น ย่านพาณิชยกรรมเก่าแห่งแรกของเมืองสุรินทร์ เป็นย่านพาณิชยกรรมที่เกิดจากการคมนาคมขนส่งทางรถไฟ โดยคนไทยเชื้อสายจีนในสมัยก่อนเดินทางมาค้าขายโดยนั่งรถไฟมาลงที่สถานีรถไฟสุรินทร์ จนเริ่มมีการก่อสร้างอาคารเพื่อใช้ค้าขาย และมีวิวัฒนาการเรื่อยมาจนถึงปัจจุบัน ลักษณะทางสังคมยังคงมีวิถีชีวิตและวัฒนธรรมที่สะท้อนความเป็นคนไทยเชื้อสายจีนอยู่ เช่น การไหว้เจ้า กิจกรรมในวันตรุษจีน เป็นต้น มีอาคารพาณิชยกรรมเก่า ลักษณะห้องแถวไม้ และคอนกรีตผสมไม้ ที่มีลักษณะเด่นด้านองค์ประกอบสถาปัตยกรรม เช่น ลูกกรงราวระเบียง บานหน้าต่าง บานประตู และช่องระบายอากาศเหนือหน้าต่างและประตู เป็นต้น',\n",
              "       'ชุมชนรอบปราสาทเมืองที เป็นชุมชนโบราณที่มีโบราณสถานตั้งอยู่ในชุมชน ลักษณะเป็นธาตุก่อด้วยอิฐ ถือปูน 5 หลัง พื้นที่โดยรอบชุมชนเป็นพื้นที่เกษตรกรรม เป็นชุมชนพักอาศัยแบบชนบท ประชากรในชุมชนประกอบอาชีพด้านเกษตรกรรมเป็นหลัก ได้แก่ การทำนา รองลงมาเป็นรับจ้าง และรับราชการ ลักษณะสังคมภายในชุมชนยังคงเป็นลักษณะของวิถีชีวิตและวัฒนธรรมแบบชนบท เป็นชุมชนโบราณที่มีการก่อตั้งเป็นชุมชนซ้อนทับกับแหล่งโบราณ จากอดีตเรื่อยมาจนถึง ปัจจุบัน ภายในชุมชนมีธาตุก่อด้วยอิฐ ถือปูน ๕ หลัง สร้างรวมกันเป็นหมู่บนฐานอิฐเดียวกัน ปัจจุบันหักพังเหลือเพียง ๓ หลัง จากแผนผังและลักษณะของสถาปัตยกรรม ปราสาทเมืองทีจัดเป็นโบราณสถานศิลปะลาวที่สร้างขึ้นในสมัยอยุธยา ราวพุทธศตวรรษที่ 23-24',\n",
              "       'ชุมชนโบราณบ้านแกใหญ่ เป็นชุมชนโบราณตั้งอยู่บนที่ดอน มีคูน้ำและคันดินล้อมรอบชุมชน พื้นที่โดยรอบเป็นนาข้าว เป็นชุมชนพักอาศัยกึ่งชนบท ประชากรในชุมชนส่วนใหญ่ประกอบอาชีพด้านเกษตรกรรม รับจ้าง และรับราชการ ลักษณะสังคมภายในชุมชนยังคงเป็นลักษณะของวิถีชีวิตและวัฒนธรรมแบบชนบทที่มีความเกี่ยวข้องกับศาสนา สิ่งศักดิ์สิทธิ์และพื้นที่ความเชื่อในชุมชน เช่น วัด ดอนปู่ตา เป็นต้น เป็นชุมชนโบราณที่ตั้งซ้อนทับแหล่งโบราณสถาน และมีความสำคัญทางด้านโบราณคดี คือ มีการขุดพบโบราณวัตถุ เช่น พระพุทธรูปดินเผา โครงกระดูก และเศษภาชนะดินเผา ซึ่งสันนิษฐานว่าน่าจะเป็นที่อยู่ของชุมชนโบราณที่มีอายุประมาณสมัยทวารวดี',\n",
              "       'ชุมชนบ้านยะวึก เป็นชุมชนโบราณที่ตั้งอยู่บนที่ดอน มีคูน้ำขนาดใหญ่และคันดินรูปวงรีล้อมรอบ พื้นที่โดยรอบชุมชนเป็นพื้นที่เกษตรกรรม เป็นชุมชนพักอาศัยแบบชนบท ประชากรในชุมชนประกอบอาชีพด้านเกษตรกรรมเป็นหลัก ได้แก่ การทำนา รองลงมาเป็นรับจ้าง ลักษณะสังคมภายในชุมชนยังคงเป็นลักษณะของวิถีชีวิตและวัฒนธรรมแบบชนบท มีเอกลักษณ์ของภาษาพูด ได้แก่ ภาษาเขมร เป็นชุมชนโบราณที่มีการก่อตั้งเป็นชุมชนซ้อนทับกับแหล่งโบราณ จากอดีตเรื่อยมาจนถึง ปัจจุบัน เป็นแหล่งโบราณคดีที่สำคัญ คือ มีการขุดพบโบราณวัตถุ เช่น พระพุทธรูป เสมาหิน โครงกระดูก และเศษภาชนะดินเผากระจายอยู่จำนวนมาก สันนิษฐานว่าน่าจะเป็นที่อยู่ของชุมชนโบราณที่มีอายุประมาณสมัยทวารวดี',\n",
              "       'ชุมชนปราสาทจอมพระ เป็นชุมชนย่านการค้าพาณิชยกรรมเก่าและพักอาศัย บริเวณถนนเทศบาล 8 และถนนปัทมานนท์ ตั้งอยู่ใกล้แหล่งโบราณสถานปราสาทหินจอมพระ เป็นย่านพาณิชยกรรมและพักอาศัยของชุมชนเมืองจอมพระ ประชากรในย่านเก่าประกอบอาชีพค้าขายสินค้าและบริการในด้านต่าง ๆ แก่ชุมชนเมืองจอมพระ ลักษณะสังคมภายในชุมชนยังคงเป็นลักษณะของวิถีชีวิตที่เกี่ยวข้องกับการประกอบอาชีพค้าขาย ศาสนา และความเชื่อเกี่ยวกับสิ่งศักดิ์สิทธิ์ในชุมชน มีอาคารพาณิชยกรรมเก่า ลักษณะอาคารไม้ และคอนกรีตผสมไม้ ความสูง 2 ชั้น บริเวณถนนเทศบาล 8 และถนนปัทมานนท์ ซึ่งเป็นย่านพาณิชยกรรมแห่งแรกของอำเภอจอมพระ และเป็นชุมชนที่ตั้งอยู่ใกล้กับแหล่งโบราณสถานสำคัญ ได้แก่ ปราสาทหินจอมพระ',\n",
              "       'ชุมชนบ้านปราสาท เป็นชุมชนเก่าที่ตั้งอยู่โดยรอบปราสาทศรีขรภูมิ ทั้ง 3 ด้าน ได้แก่ ด้านทิศเหนือ ทิศตะวันออก และทิศตะวันตก เป็นชุมชนพักอาศัยกึ่งชนบท ประชากรในชุมชนส่วนใหญ่ประกอบอาชีพด้านเกษตรกรรม รองลงมาเป็นรับจ้าง รับราชการ และค้าขาย ลักษณะสังคมภายในชุมชนยังคงเป็นลักษณะของวิถีชีวิตและวัฒนธรรมแบบชนบทที่มีความเกี่ยวข้องกับศาสนา และสิ่งศักดิ์สิทธิ์ในชุมชน เป็นชุมชนเก่าที่มีการตั้งถิ่นฐานอยู่โดยรอบปราสาทศรีขรภูมิมาตั้งแต่อดีต และมีวิวัฒนาการเป็นชุมชนเรื่อยมาจนถึงปัจจุบัน ภายในชุมชนยังคงมีบ้านเก่าที่สร้างด้วยไม้ ปัจจุบันเหลืออยู่ไม่กี่หลัง และเป็นที่ตั้งของปราสาทศรีขรภูมิ ซึ่งเป็นปราสาทที่งดงามที่สุดในจังหวัดสุรินทร์',\n",
              "       'ชุมชนบ้านช่างปี่ เป็นชุมชนเก่าที่ตั้งอยู่บนที่ดอนใกล้กับปราสาทช่างปี่ ทางด้านทิศตะวันออกของชุมชน พื้นที่โดยรอบชุมชนเป็นพื้นที่เกษตรกรรม ได้แก่ นาข้าว มีบารายใหญ่อยู่ทางทิศเหนือของชุมชน เป็นชุมชนพักอาศัยแบบชนบท ประชากรในชุมชนส่วนใหญ่ประกอบอาชีพด้านเกษตรกรรม รับจ้าง รับราชการ และค้าขาย ตามลำดับ ลักษณะสังคมภายในชุมชนยังคงเป็นลักษณะของวิถีชีวิตและวัฒนธรรมแบบชนบทที่มีความเกี่ยวข้องกับศาสนา และสิ่งศักดิ์สิทธิ์ในชุมชน เช่น ดอนปู่ตา ปราสาทช่างปี่ เป็นต้น เป็นชุมชนเก่าที่มีการตั้งถิ่นฐานใกล้กับโบราณสถานปราสาทช่างปี่มาตั้งแต่อดีตจนถึงปัจจุบัน ภายในชุมชนยังคงมีบ้านเก่าที่สร้างด้วยไม้ ปัจจุบันเหลืออยู่ไม่กี่หลัง และมีบารายใหญ่อยู่ทางทิศเหนือของชุมชน ซึ่งเป็นที่กักเก็บน้ำไว้ใช้อุปโภคมาตั้งแต่โบราณ',\n",
              "       'ชุมชนบ้านตรึม เป็นชุมชนโบราณตั้งอยู่บนที่ดอน พื้นที่โดยรอบเป็นนาข้าว และด้านทิศตะวันออกของหมู่บ้านมีหนองน้ำขนาดใหญ่เรียกว่าหนองลิม เป็นชุมชนพักอาศัยแบบชนบท ชุมชนบ้านตรึมประชากรในชุมชนส่วนใหญ่ประกอบอาชีพด้านเกษตรกรรม และรับจ้าง ลักษณะสังคมภายในชุมชนยังคงเป็นลักษณะของวิถีชีวิตและวัฒนธรรมแบบชนบทที่มีความเกี่ยวข้องกับศาสนา และสิ่งศักดิ์สิทธิ์ในชุมชน เช่น วัด และดอนปู่ตา เป็นต้น ชุมชนบ้านตรึมเป็นชุมชนโบราณที่ตั้งซ้อนทับกับแหล่งโบราณ ภายในวัดตรึม มีเนินดินขนาดเล็กบนเนินมีใบเสมาปักอยู่เป็นกลุ่ม โผล่พ้นดินจำนวน 16 ใบ ทำด้วยศิลาแลง กลางหมู่บ้านมีเนินดินสูง บนเนินพบซากโบราณสถาน ปัจจุบันเหลือเพียงฐานเป็นแนวศิลาแลงรูปสี่เหลี่ยมผืนผ้า บนเนินดินพบใบเสมา 2 ใบ และพบเศษอิฐและเศษภาชนะดินเผาเนื้อดินอยู่ทั่วไป ตัวโบราณสถานปัจจุบันเป็นที่ตั้งของศาลปู่ตาประจำหมู่บ้าน',\n",
              "       'ชุมชนบ้านปราสาท (ปราสาททนง) เป็นชุมชนโบราณตั้งอยู่บนที่ดอนสูง พื้นที่โดยรอบเป็นนาข้าว และด้านทิศตะวันออกของชุมชนมีบารายขนาดใหญ่ – เป็นชุมชนพักอาศัยแบบชนบท ชุมชนบ้านปราสาทประชากรในชุมชนส่วนใหญ่ประกอบอาชีพด้านเกษตรกรรม และรับจ้าง ลักษณะสังคมภายในชุมชนยังคงเป็นลักษณะของวิถีชีวิตและวัฒนธรรมแบบชนบทที่มีความเกี่ยวข้องกับศาสนา และสิ่งศักดิ์สิทธิ์ในชุมชน เช่น วัด ดอนปู่ตา และปราสาททนง เป็นต้น เป็นชุมชนโบราณที่ตั้งอยู่โดยรอบแหล่งโบราณสถานปราสาททนง ซึ่งเป็นปราสาทที่มีลักษณะเป็นอาคารขนาดใหญ่ ก่อสร้างด้วยอิฐปนหินทรายและศิลาแลง จำนวน 2 กลุ่ม ตั้งเรียงกันหันหน้าไปทางทิศตะวันออกตามลำดับ คือ พลับพลา และปราสาทประธาน',\n",
              "       'ชุมชนรอบปราสาทบ้านพลวง เป็นชุมชนโบราณตั้งอยู่บนที่ดอน พื้นที่โดยรอบเป็นนาข้าว ด้านทิศตะวันออกและทิศเหนือของชุมชนมีบารายขนาดใหญ่ เป็นที่กักเก็บน้ำไว้อุปโภคในชุมชน เป็นชุมชนพักอาศัยแบบชนบท ประชากรในชุมชนส่วนใหญ่ประกอบอาชีพด้านเกษตรกรรม รับจ้าง และรับราชการ ลักษณะสังคมภายในชุมชนยังคงเป็นลักษณะของวิถีชีวิตและวัฒนธรรมแบบชนบทที่มีความเกี่ยวข้องกับศาสนา และสิ่งศักดิ์สิทธิ์ในชุมชน เช่น วัด ดอนปู่ตา และปราสาท เป็นต้น เป็นชุมชนโบราณที่ตั้งอยู่โดยรอบแหล่งโบราณสถานปราสาทบ้านพลวง ลักษณะเป็นปราสาทศิลาแลงย่อมุม ตั้งอยู่บนฐานศิลาแลงสี่เหลี่ยมผืนผ้าหันหน้าไปทางทิศตะวันออก องค์ปรางค์ก่อด้วยศิลาแลง และหินทรายสีชมพู มีภาพจำหลักที่ละเอียดอ่อนด้วยฝีมือช่างศิลป์ที่ประณีตงดงาม',\n",
              "       'ชุมชนบ้านกระเทียม เป็นชุมชนโบราณตั้งอยู่บนที่ดอน พื้นที่โดยรอบเป็นพื้นที่เกษตรกรรม ได้แก่ นาข้าว ด้านทิศตะวันออกของชุมชนมีหนองน้ำใหญ่ เป็นที่กักเก็บน้ำไว้อุปโภคในชุมชน เป็นชุมชนพักอาศัยกึ่งชนบท ประชากรส่วนใหญ่ประกอบอาชีพเกษตรกรรม ลักษณะสังคมภายในชุมชนยังคงเป็นลักษณะของวิถีชีวิตและวัฒนธรรมแบบชนบทที่มีความเกี่ยวข้องกับศาสนา และสิ่งศักดิ์สิทธิ์ในชุมชน เช่น วัด ผีบ้าน เป็นต้น ภาษาที่ใช้สื่อสารคือ ภาษาส่วย ภาษาเขมร ภาษาลาว ตามลำดับ เป็นชุมชนเก่าซึ่งเป็นที่พักอาศัยของกลุ่มคนไทยเชื้อสายส่วย ที่มีวิถีชีวิต วัฒนธรรมประเพณีที่สะท้อนเอกลักษณ์ของกลุ่มชาติพันธุ์ของตัวเองได้อย่าชัดเจน เช่น การแต่งกาย ภาษาพูด และพื้นที่ทางความเชื่อในชุมชน',\n",
              "       'ชุมชนปราสาทภูมิโปน เป็นชุมชนโบราณตั้งอยู่โดยรอบโบราณสถานบนที่ดอน พื้นที่โดยรอบเป็นพื้นที่เกษตรกรรม ได้แก่ นาข้าว ด้านทิศตะวันออกเฉียงเหนือของชุมชนมีหนองน้ำใหญ่ เป็นที่กักเก็บน้ำไว้อุปโภคในชุมชน เป็นชุมชนพักอาศัยแบบชนบท ประชากรส่วนใหญ่ประกอบอาชีพเกษตรกรรม ลักษณะสังคมภายในชุมชนยังคงเป็นลักษณะของวิถีชีวิตและวัฒนธรรมแบบชนบทที่มีความเกี่ยวข้องกับศาสนา และสิ่งศักดิ์สิทธิ์ในชุมชน เป็นชุมชนโบราณที่ตั้งอยู่โดยรอบแหล่งโบราณสถานปราสาทภูมิโปน ซึ่ง ประกอบด้วย โบราณสถาน 4 หลัง คือ ปราสาทก่ออิฐ 3 หลัง และศิลาแลง 1 หลัง มีอายุการก่อสร้าง อย่างน้อย 2 สมัย',\n",
              "       'ชุมชนพระปืด เป็นชุมชนโบราณตั้งอยู่บนที่ดอน พื้นที่โดยรอบเป็นพื้นที่เกษตรกรรม ได้แก่ นาข้าว ด้านทิศตะวันออกของชุมชนมีหนองน้ำใหญ่ เป็นที่กักเก็บน้ำไว้อุปโภคในชุมชน เป็นชุมชนพักอาศัยกึ่งชนบท ประชากรส่วนใหญ่ประกอบอาชีพเกษตรกรรม ลักษณะสังคมภายในชุมชนยังคงเป็นลักษณะของวิถีชีวิตและวัฒนธรรมแบบชนบทที่มีความเกี่ยวข้องกับศาสนา และสิ่งศักดิ์สิทธิ์ในชุมชน เช่น วัด ผีบ้าน เป็นต้น ภาษาที่ใช้สื่อสารคือ ภาษาส่วย ภาษาเขมร ภาษาลาว ตามลำดับ เป็นชุมชนเก่าซึ่งเป็นที่พักอาศัยของกลุ่มคนไทยเชื้อสายส่วย ที่มีวิถีชีวิต วัฒนธรรมประเพณีที่สะท้อนเอกลักษณ์ของกลุ่มชาติพันธุ์ของตัวเองได้อย่าชัดเจน เช่น การแต่งกาย ภาษาพูด และพื้นที่ทางความเชื่อในชุมชน',\n",
              "       'ชุมชนเมืองคงโคก อ.ราษีไศล เป็นชุมชนที่ตั้งอยู่บนสภาพภูมิประเทศที่เป็นที่ดอน มีคูเมืองล้อมรอบ พื้นที่โดยรอบชุมชนเป็นพื้นที่เกษตรกรรม ได้แก่ นาข้าว เป็นชุมชนพักอาศัยกึ่งชนบท ประชากรในชุมชนประกอบอาชีพด้านเกษตรกรรมเป็นหลัก รองลงมาเป็นรับจ้าง และค้าขาย ลักษณะสังคมภายในชุมชนยังคงเป็นไปในลักษณะของวิถีชีวิตและวัฒนธรรมแบบชนบท เป็นเมืองโบราณบนที่ราบสูงที่มีความเจริญรุ่งเรืองมากเมื่อครั้งอดีต ราวพุทธศตวรรษที่ 12-16',\n",
              "       'ชุมชนดอนเกลือ อ.ราษีไศล เป็นชุมชนที่ตั้งอยู่บนสภาพภูมิประเทศที่เป็นที่ดอน มีคูเมืองล้อมรอบ พื้นที่โดยรอบชุมชนเป็นพื้นที่เกษตรกรรม ได้แก่ นาข้าว เป็นชุมชนพักอาศัยกึ่งชนบท ประชากรในชุมชนประกอบอาชีพด้านเกษตรกรรมเป็นหลัก รองลงมาเป็นรับจ้าง และค้าขาย ลักษณะสังคมภายในชุมชนยังคงเป็นไปในลักษณะของวิถีชีวิตและวัฒนธรรมแบบชนบท ลักษณะเป็นเนินดินรูปร่างค่อนข้างกลม เส้นผ่าศูนย์กลางประมาณ 400 เมตร มีคูน้ำและคันดินล้อมรอบ คันดินมีสองชั้นที่ล้อมรอบคูน้ำ พบโบราณวัตถุรูปแบบต่างๆ ได้แก่ พระพุทธรูปหินทราย และภาชนะดินเผาเนื้อหยาบ กำไลหิน ขวานหินขัด สันนิษฐานว่า แหล่งนี้คงเป็นชุมชนสมัยประวัติศาสตร์ มีอายุระหว่างพุทธศตวรรษที่ 12-18',\n",
              "       'ชุมชนบ้านน้ำอ้อมน้อย อ.ราษีไศล เป็นชุมชนที่ตั้งอยู่บนสภาพภูมิประเทศที่เป็นที่ดอนมีคูเมืองล้อมรอบ พื้นที่โดยรอบชุมชนเป็นพื้นที่เกษตรกรรม ได้แก่ นาข้าว ประชากรในชุมชนประกอบอาชีพด้านเกษตรกรรมเป็นหลัก รองลงมาเป็นรับจ้าง และค้าขาย ลักษณะสังคมภายในชุมชนยังคงเป็นไปในลักษณะของวิถีชีวิตและวัฒนธรรมแบบชนบท นอกจากนี้ ยังเป็นชุมชนโบราณ ที่มีลักษณะเป็นเนินดินค่อนข้างกลม มีเส้นผ่าศูนย์กลางประมาณ 350 เมตร มีคูน้ำคันดินล้อมรอบ 1 ชั้น พบโบราณวัตถุประเภทชิ้นส่วนสำริด ภาชนะดินเผาเนื้อหยาบ มีการอยู่อาศัยต่อเนื่อง จนถึงสมัยประวัติศาสตร์ตอนต้น มีอายุอยู่ประมาณ 1,500 ปี ลงมา',\n",
              "       'ชุมชนบ้านเมืองแคน อ.ราษีไศล เป็นชุมชนที่ตั้งอยู่บนสภาพภูมิประเทศที่เป็นที่ดอน มีคูเมืองล้อมรอบ พื้นที่โดยรอบชุมชนเป็นพื้นที่เกษตรกรรม ได้แก่ นาข้าว เป็นชุมชนพักอาศัยกึ่งชนบท - ประชากรในชุมชนประกอบอาชีพด้านเกษตรกรรมเป็นหลัก รองลงมาเป็นรับจ้าง และค้าขาย ลักษณะสังคมภายในชุมชนยังคงเป็นไปในลักษณะของวิถีชีวิตและวัฒนธรรมแบบชนบท เป็นชุมชนโบราณ มีลักษณะเป็นเนินดินค่อนข้างกลม มีเส้นผ่าศูนย์กลางประมาณ 350 เมตร มีคูน้ำคันดินล้อมรอบ 1 ชั้น',\n",
              "       'ชุมชนบ้านปะอาว เป็นชุมชนชนบทตั้งอยู่บนที่ดอน พื้นที่โดยรอบเป็นพื้นที่เกษตรกรรม ได้แก่ นาข้าว และพื้นที่ป่าโคก หรือป่าเต็งรัง ทางด้านทิศเหนือของชุน เป็นชุมชนพักอาศัยแบบชนบท ประชากรในชุมชนประกอบอาชีพทางด้านการเกษตร อาชีพเสริม เช่น กลุ่มช่างหล่อผลิตภัณฑ์ทองเหลือง กลุ่มสตรีผ้าไหม กลุ่มดอกไม้จันทน์ กลุ่มปลูกข้าวหอมมะลิ กลุ่มแปรรูปอาหารสำเร็จ ลักษณะสังคมภายในชุมชนยังคงเป็นลักษณะของวิถีชีวิตและวัฒนธรรมแบบชนบทที่มีความเกี่ยวข้องกับการเกษตร และพื้นที่ทางความเชื่อท้องถิ่น เช่น คนในชุมชนส่วนใหญ่เชื่อและนับถือศาลเจ้าปู่แสนนานผู้ก่อตั้งบ้านปะอาว เป็นชุมชนที่มีการก่อตั้งเป็นชุมชนมายาวนาน จากประวัติที่บันทึกไว้ว่าชุมชนปะอาวได้ก่อตั้งพร้อมกับเมืองอุบล ปัจจุบันชุมชนปะอาวได้ถูกประกาศให้เป็นหมู่บ้านท่องเที่ยวของจังหวัดอุบลราชธานีในด้านการท่องเที่ยวเชิงวัฒนธรรม เช่น ภูมิปัญญาการหล่อผลิตภัณฑ์ทองเหลืองโบราณ การย้อมไหมด้วยสีธรรมชาติ และทอผ้าไหม เป็นต้น',\n",
              "       'ชุมชนพาณิชยกรรมเก่า เป็นย่านพาณิชยกรรมเก่าแห่งแรกของเมืองวารินชำราบ ใกล้สถานีรถไฟวารินชำราบ อาคารเดิมในย่านชุมชนมีลักษณะ ได้แก่ ห้องแถวไม้ คอนกรีตกับผสมไม้ ความสูง 1-2 ชั้น ย่านพาณิชยกรรมเก่าของเมืองวารินชำราบ เป็นย่านพาณิชยกรรมที่เกิดจากการคมนาคมขนส่งทางรถไฟ โดยคนไทยเชื้อสายจีนในสมัยก่อนเดินทางมาค้าขายโดยนั่งรถไฟมาลงที่สถานีรถไฟวารินชำราบ จนเริ่มมีการก่อสร้างอาคารเพื่อใช้ค้าขาย และมีวิวัฒนาการเรื่อยมาจนถึงปัจจุบัน ลักษณะทางสังคมยังคงมีวิถีชีวิตและวัฒนธรรมที่สะท้อนความเป็นคนไทยเชื้อสายจีนอยู่ เช่น การไหว้เจ้า กิจกรรมในวันตรุษจีน เป็นต้น มีอาคารพาณิชยกรรมเก่า ลักษณะห้องแถวไม้ และคอนกรีตผสมไม้ ที่มีลักษณะเด่นด้านองค์ประกอบสถาปัตยกรรม เช่น ลูกกรงราวระเบียง บานหน้าต่าง บานประตู และช่องระบายอากาศเหนือหน้าต่างและประตู เป็นต้น',\n",
              "       'ชุมชนแก่งสะพือ เป็นย่านชุมชนเก่าริมน้ำแม่น้ำมูล เป็นชุมชนพักอาศัยของชุมชนเมืองพิบูลมังสาหาร ประชากรในชุมชนประกอบอาชีพด้านเกษตรกรรม ค้าขาย และรับราชการ ลักษณะสังคมภายในชุมชนยังคงเป็นลักษณะของวิถีชีวิตและวัฒนธรรมในรูปแบบของเมืองผสมชนบท ที่ตั้งชุมชนแก่งสะพือในอดีตเคยมีชนเผ่าโบราณอาศัยอยู่มานานประมาณยุคโลหะ อายุเฉลี่ยราว 2,700-1,500 ปี เป็นแหล่งอารยธรรมที่สำคัญของลุ่มน้ำมูลตอนใต้ ได้มีการขุดพบวัตถุโบราณที่เป็นหม้อ ไห ถ้วย ชามดินเผา กำไล และเครื่องมือสำริด ซึ่งพอสรุปได้ว่าในแถบลุ่มน้ำมูลตอนล่างบริเวณแก่งสะพือเคยมีมนุษย์โบราณอาศัยอยู่มานานแล้ว ในชุมชนยังมีอาคารการค้าพาณิชยกรรมเก่า ลักษณะอาคารไม้ชั้นเดียวที่มีลักษณะเด่นขององค์ประกอบทางสถาปัตยกรรม เช่น บานประตู ช่องระบายอากาศ หลงเหลืออยู่',\n",
              "       'ชุมชนบ้านแคน เป็นชุมชนชนบทตั้งอยู่บนที่ดอน พื้นที่โดยรอบเป็นพื้นที่เกษตรกรรม ได้แก่ นาข้าว และพื้นที่ป่าโคก หรือ ป่าเต็งรัง เป็นชุมชนพักอาศัยแบบชนบท ประชากรในชุมชนประกอบอาชีพด้านเกษตรกรรมเป็นหลัก รองลงมาได้แก่ รับจ้าง ลักษณะสังคมภายในชุมชนยังคงเป็นลักษณะของวิถีชีวิตและวัฒนธรรมแบบชนบทที่มีความเกี่ยวข้องกับการเกษตร และพื้นที่ทางความเชื่อท้องถิ่น เช่น ดอนปู่ตา ดอนมดแดง ซึ่งเป็นเกาะขนาดใหญ่กลางแม่น้ำมูล เป็นต้น ภายในชุมชนมีเจดีย์สองสมเด็จ ตั้งอยู่วัดบ้านแคน หมู่ที่ 1 ตำบลดอนมดแดง เพื่อให้เป็นที่บรรจุอัฐิธาตุ ของเจ้าพระคุณสมเด็จ พระมหาวีรวงศ์ ติสฺโส\"อ้วน\"และเจ้าพระคุณสมเด็จ พระมหาวีรวงศ์ ธมฺมธโร \"พิมพ์\" ซึ่งเป็นศาสนสถานที่สำคัญยิ่งแห่งหนึ่งของภาคอีสาน ที่ควรแก่การสักการะบูชา',\n",
              "       'ชุมชนบ้านสิงห์ท่า เป็นย่านพานิชยกรรมผสมกับย่านชุมชนพักอาศัย มีองค์ประกอบ เช่น ตลาด บ้าน วัด ศาลเจ้า เป็นย่านพาณิชยกรรมการค้าเก่าของชุมชนเมืองยโสธรเรื่อยมาตั้งแต่อดีต แต่ปัจจุบันได้ปรับเปลี่ยนบทบาทไปเนื่องจากมีการสร้างตลาดเทศบาลแห่งใหม่นอกพื้นที่ชุมชนและการคมนาคมขนส่งทางน้ำได้ลดบทบาทลงทำให้บทบาทของชุมชนกลับกลายเป็นชุมชนพักอาศัยเป็นส่วนมาก มีการจัดตั้งกลุ่มการผลิตของชุมชนคือ กลุ่มปลาส้ม ซึ่งมีชื่อเสียงเนื่องจากมีทรัพยากรเดิมที่ติดอยู่กับพื้นที่บุ่ง ทาม ของเมืองยโสธรที่มีปลาอุดมสมบูรณ์ มีรูปแบบสถาปัตยกรรมชิโน-โปรตุกีส เป็นอาคารก่ออิฐถือปูนบานประตูและหน้าต่างเป็นทรงโค้ง ปัจจุบันยังคงเหลือให้เห็นริมถนนศรีสุนทร นครปทุม อุทัยรามฤทธิ์ และถนนวิทยธำรง',\n",
              "       'ชุมชนบ้านตาดทอง เป็นย่านชุมชนเก่าในพื้นที่ชนบทและเกษตรกรรม ซึ่งมีรูปแบบส่วนใหญ่เป็นที่พักอาศัยแบบครอบครัวเกษตรกรรม มีธาตุก่องข้าวน้อยตั้งอยู่เป็นองค์ประกอบที่สำคัญของชุมชน เป็นชุมชนกึ่งเมืองกึ่งชนบท ที่ระบบการผลิตยังขึ้นอยู่กับเกษตรกรรมเป็นหลัก และมีบทบาทด้านการท่องเที่ยวในบริเวณธาตุก่องข้าวน้อยที่ตั้งอยู่ภายนอกชุมชน มีระบบเศรษฐกิจหลักคือด้านเกษตรกรรม โดยมีบทบาทของการท่องเที่ยวโดยรอบธาตุเป็นส่วนรอง มีลักษณะเป็นเนินดินขนาดใหญ่สูงประมาณ 3 เมตร มีคูน้ำคันดินล้อมรอบ 1 ชั้น เป็นรูปวงรี วางตัวตามแนวทิศตะวันออกเฉียงเหนือ - ทิศตะวันตกเฉียงใต้ กว้างประมาณ 500 เมตร ยาวประมาณ 650 เมตร มีอายุประมาณ 2,500 ปีมาแล้ว เป็นชุมชนเกษตรกรรม พบหลักฐานการฝังศพแบบนอนหงาย เครื่องใช้ที่พบได้แก่เศษภาชนะดินเผาแบบมีลายเขียนสีที่ขอบปาก ซึ่งพบทั่วไปในบริเวณทุ่งกุลาร้องไห้ ชุมชนแห่งนี้มีการอยู่อาศัยต่อเนื่องมาโดยตลอดจนถึง สมัยทวาราวดี และขอม นับถือศาสนาพุทธ ได้พบใบเสมาเป็นจำนวนมาก ใบเสมาที่พบมีลักษณะต่างไปจากใบเสมาที่พบในชุมชนต้นและกลางแม่น้ำชี ศาสนสถานสำคัญของชุมชนคือ ธาตุก่องข้าวน้อย และพระธาตุบ้านสะเดา',\n",
              "       'ชุมชนบ้านดอนกลาง (วัดพระธาตุเก่า) เป็นย่านชุมชนเก่าในพื้นที่ชนบทและเกษตรกรรม ซึ่งมีรูปแบบส่วนใหญ่เป็นที่พักอาศัยแบบครอบครัวเกษตรกรรม มีพระธาตุคำบุเป็นพื้นที่ทางความเชื่อที่สำคัญของชุมชน เป็นชุมชนกึ่งเมืองกึ่งชนบท ที่ระบบการผลิตยังขึ้นอยู่กับเกษตรกรรมเป็นหลัก และมีบทบาทด้านการท่องเที่ยวในบริเวณสวนพระยาแถน มีการจัดตั้งกลุ่มการผลิตของชุมชนคือ กลุ่มหัตถกรรมถือผ้าไหม เสื่อ และฝ้าย มีรูปแบบของชุมชนโดยรอบพระธาตุที่มีความสำคัญในการปรับใช้องค์ประกอบทางความเชื่อของพื้นที่ เข้ากับความเชื่อของคนในวัฒนธรรมของล้านช้างที่เข้ามาตั้งถิ่นฐานซ้อนทับพื้นที่เมืองเดิม',\n",
              "       'ชุมชนบ้านนาสะไมย์ เป็นย่านชุมชนเก่าในพื้นที่ชนบทและเกษตรกรรม ซึ่งมีรูปแบบส่วนใหญ่เป็นที่พักอาศัยแบบครอบครัวเกษตรกรรม เป็นชุมชนกึ่งเมืองกึ่งชนบท ที่ระบบการผลิตยังขึ้นอยู่กับเกษตรกรรมเป็นหลัก และมีบทบาทด้านการท่องเที่ยวด้านงานช่างฝีมือทำเกวียนและจักรสานไม่ไผ่ มีการจัดตั้งกลุ่มการผลิตของชุมชนคือ กลุ่มงานช่างฝีมือทำเกวียนและจักรสานไม่ไผ่ มีรูปแบบของชุมชนเกษตรกรรมในพื้นที่ชนบท ซึ่งมีการถ่ายทอดทักษะทางอาชีพช่างทำเกวียน และจักรสานไม่ไผ่',\n",
              "       'ชุมชนบ้านสงเปือย (ดงเมืองเตย) เป็นย่านชุมชนเก่าในพื้นที่ชนบทและเกษตรกรรม ซึ่งมีรูปแบบส่วนใหญ่เป็นที่พักอาศัยแบบครอบครัวเกษตรกรรม โดยมีการตั้งถิ่นฐานโดยรอบพื้นที่โบราณสถานดงเมืองเตย เป็นชุมชนกึ่งเมืองกึ่งชนบท ที่ระบบการผลิตยังขึ้นอยู่กับเกษตรกรรมเป็นหลัก มีการจัดตั้งกลุ่มการผลิตของชุมชนคือ กลุ่มงานช่างฝีมือทำเกวียนและจักรสานไม่ไผ่ ดงเมืองเตยเป็นเมืองโบราณที่มีการตั้งถิ่นฐานของชุมชนมาตั้งแต่สมัยเจนละ-ทวารวดี โดยคาดว่าคงเป็นเมืองที่มีชื่อว่า \"ศังขะปุระ\" โดยมีความสำคัญในมิติของการรื้อและนำเมืองกลับมาใช้ใหม่จากวัฒนธรรมของคนที่แตกต่างกันจากล้านช้าง',\n",
              "       'ชุมชนกู่จาน เป็นย่านชุมชนเก่าในพื้นที่ชนบทและเกษตรกรรม ซึ่งมีรูปแบบส่วนใหญ่เป็นที่พักอาศัยแบบครอบครัวเกษตรกรรม โดยมีการตั้งถิ่นฐานโดยรอบพื้นที่โบราณสถาน เป็นชุมชนกึ่งเมืองกึ่งชนบท ที่ระบบการผลิตยังขึ้นอยู่กับเกษตรกรรมเป็นหลัก มีการจัดตั้งกลุ่มการผลิตของชุมชนคือ กลุ่มงานช่างฝีมือทำเกวียนและจักรสานไม่ไผ่ เป็นย่านชุมชนเก่าที่ซ้อนทับแหล่งโบราณสถานโดย เป็นปูชนียสถานศักดิ์สิทธิ์ เป็นที่สักการะของชาวเมืองยโสธร องค์พระธาตุกู่จานกว้างประมาณ 5.10 เมตร สูง 15 เมตร',\n",
              "       'ชุมชนบ้านศรีฐาน เป็นเป็นชุมชนเก่าตั้งอยู่บนพื้นที่ราบ พื้นที่โดยรอบเป็นพื้นที่เกษตรกรรม ได้แก่ นาข้าว เป็นชุมชนพักอาศัยแบบชนบท ประชากรในชุมชนส่วนใหญ่ประกอบอาชีพด้านเกษตรกรรมเป็นหลัก ได้แก่ การทำนา รองลงมาเป็นรับจ้าง และรับราชการ ภายในชุมชนมีการรวมกลุ่มทำหมอนขิดเพื่อส่งขายยังภายนอกชุมชน ลักษณะสังคมภายในชุมชนยังคงเป็นลักษณะของวิถีชีวิตและวัฒนธรรมแบบชนบทที่มีความเกี่ยวข้องกับการเกษตร และพื้นที่ทางความเชื่อท้องถิ่น เช่น ดอนปู่ตา เป็นชุมชนเก่าที่มีการการประกอบอาชีพหัตถกรรมการทำหมอนขิด มายาวนาน ซึ่งปัจจุบันได้มีการขยายตัวและรวมกลุ่มกันเป็นกลุ่มอาชีพการทำหมอนขิดขึ้น จนกลายเป็นสินค้า OTOP ที่สำคัญของตำบลศรีฐาน',\n",
              "       'ชุมชนเมืองเก่าบ้านหินตั้ง เป็นย่านพาณิชยกรรมเก่า ประกอบด้วยอาคารพาณิชยกรรมลักษณะอาคารไม้ 2 ชั้นและอาคารที่สร้างด้วยดิน เป็นย่านพาณิชกรรมการค้าเก่าของชุมชนเมืองชัยภูมิ เรื่อยมาตั้งแต่อดีตจนถึงปัจจุบัน และอาคารเก่าบางส่วนถูกรื้อถอนและสร้างอาคารใหม่ขึ้นมาแทน เป็นชุมชนการค้าขายและที่พักอาศัย การค้าส่วนใหญ่เป็นสินค้าอุปโภค และการค้าปลีกขนาดเล็ก มีอาคารพาณิชยกรรมเก่า ลักษณะเป็นอาคารไม้ และอาคารที่สร้างด้วยดิน ความสูง 1 ชั้น และ 2 ชั้น',\n",
              "       'ชุมชนกุดโง้ง เป็นชุมชนชนบท มีลักษณะคล้ายเกาะ มีลำน้ำประทาวล้อมรอบ พื้นที่ราบส่วนใหญ่ใช้ในการทำนา เป็นชุมชนพักอาศัยกึ่งชนบท เป็นชุมชนที่มีอาชีพหลักในการทำเกษตรกรรม ลักษณะสังคมภายในชุมชนยังคงเป็นไปในลักษณะของวิถีชีวิตและวัฒนธรรมแบบชนบท มีการขุดพบเสมาหินทรายขนาดใหญ่เป็นกลุ่มๆ ปักอยู่ทั่วไปทั้งในบริเวณตัวเมืองและบริเวณเนินดินและในทุ่งนารอบ ๆ ตัวเมือง ซึ่งใบเสมาเหล่านี้อาจกำหนดอายุได้ราวพุทธศตวรรษที่ 14-16',\n",
              "       'ชุมชนนครกาหลง เป็นชุมชนที่ตั้งอยู่บนสภาพภูมิประเทศที่เป็นที่ดอน มีคูเมืองล้อมรอบ 2 ชั้น พื้นที่โดยรอบชุมชนเป็นพื้นที่เกษตรกรรม ได้แก่ นาข้าว เป็นชุมชนพักอาศัยกึ่งชนบท เป็นชุมชนที่มีอาชีพหลักในการทำเกษตรกรรม ลักษณะสังคมภายในชุมชนยังคงเป็นไปในลักษณะของวิถีชีวิตและวัฒนธรรมแบบชนบท เป็นเมืองโบราณบนที่ราบสูงที่มีความเจริญรุ่งเรืองมากเมื่อครั้งอดีต ราวพุทธศตวรรษที่ 11-16 บริเวณพื้นที่รอบชุมชนเป็นคูน้ำถึง 2 ชั้น และคูดิน 1 ชั้น รัศมีจากเส้นผ่านศูนย์กลาง 700 เมตร',\n",
              "       'ชุมชนบ้านเก่า เป็นชุมชนตั้งอยู่บนสภาพภูมิประเทศที่เป็นที่ดอน พื้นที่โดยรอบชุมชนเป็นพื้นที่เกษตรกรรม เป็นชุมชนพักอาศัยกึ่งชนบท เป็นชุมชนเกษตรกรรม ลักษณะสังคมภายในชุมชนยังคงเป็นไปในลักษณะของวิถีชีวิตและวัฒนธรรมแบบชนบท เป็นชุมชนกลุ่มชาติพันธุ์ที่มีความโดดเด่นเรื่อง ภาษา การแต่งกาย และวัฒนธรรม',\n",
              "       'ชุมชนญัฮกรุ เป็นชุมชนตั้งอยู่บนสภาพภูมิประเทศที่เป็นที่ดอน พื้นที่โดยรอบชุมชนเป็นพื้นที่เกษตรกรรม เป็นชุมชนพักอาศัยกึ่งชนบท ประชากรในชุมชนประกอบอาชีพด้านเกษตรกรรมเป็นหลัก รองลงมาเป็นรับจ้าง และค้าขาย ลักษณะสังคมภายในชุมชนยังคงเป็นไปในลักษณะของวิถีชีวิตและวัฒนธรรมแบบชนบท เป็นชุมชนกลุ่มชาติพันธุ์ที่มีความโดดเด่นเรื่อง ภาษาและวัฒนธรรม',\n",
              "       'ชุมชนบ้านเขว้า เป็นชุมชนตั้งอยู่บนสภาพภูมิประเทศที่เป็นที่ดอน พื้นที่โดยรอบชุมชนเป็นพื้นที่เกษตรกรรม เป็นชุมชนเกษตรกรรม ที่พักอาศัย และการทอผ้าไหมมัดหมี่ ลักษณะสังคมภายในชุมชนยังคงเป็นไปในลักษณะของวิถีชีวิตและวัฒนธรรมแบบชนบท เป็นชุมชนเกษตรกรรม และการทอผ้าไหมมัดหมี่ เป็นชุมชนที่มีเป็นวัฒนธรรมพื้นบ้านที่มีการถ่ายทอดมาจากบรรพชนตั้งแต่อดีตเวลานานเกือบ 200 ปี ด้วยคุณภาพของผ้าไหม ลวดลายที่มีเอกลักษณ์',\n",
              "       'ชุมชนบ้านชาด เป็นชุมชนเก่าตั้งอยู่ใกล้กับแหล่งโบราณสถานและโบราณคดี ลักษณะเป็นเนินดินรูปวงกลม มีคูน้ำคันดินล้อมรอบ พื้นที่โดยรอบเป็นพื้นที่เกษตรกรรม ได้แก่นาข้าว เป็นชุมชนพักอาศัยแบบชนบท ประชากรในชุมชนองค์การบริหารส่วนตำบลเค็งใหญ่ ประกอบอาชีพด้านเกษตรกรรมเป็นหลัก รองลงมาเป็นรับจ้าง และค้าขาย ลักษณะสังคมภายในชุมชนยังคงเป็นลักษณะของวิถีชีวิตและวัฒนธรรมแบบชนบทที่มีความเกี่ยวข้องกับการเกษตร และพื้นที่ทางความเชื่อท้องถิ่น เป็นชุมชนที่มีความสำคัญทางด้านโบราณคดี จากการสำรวจเนินดินรูปกลมพบใบเสมาหินทราย สันนิษฐานว่าน่าจะเป็นที่อยู่ของชุมชนโบราณที่มีอายุประมาณสมัยทวารวดี',\n",
              "       'ชุมชนบึงกาฬ เป็นย่านพาณิชยกรรมเก่า ประกอบด้วยอาคารพาณิชยกรรมลักษณะอาคารไม้ 2 ชั้น เป็นย่านพาณิชยกรรมการค้าเก่าของชุมชนเมืองบึงกาฬเรื่อยมาตั้งแต่อดีตจนถึงปัจจุบัน เป็นชุมชนการค้าขายและที่พักอาศัย การค้าส่วนใหญ่เป็นสินค้าอุปโภค และการค้าปลีกขนาดเล็ก มีอาคารพาณิชยกรรมเก่า ลักษณะเป็นอาคารไม้ ความสูง 1 ชั้น และ 2 ชั้น โดยมีความโดดเด่นของรูปแบบและองค์ประกอบทางสถาปัตยกรรม',\n",
              "       'ชุมชนกุดทิง เป็นชุมชนที่อยู่บริเวณโดยรอบ พื้นที่ชุ่มน้ำ ความกว้างโดยเฉลี่ย 22,000 ไร่ ลึก 5-10 เมตร มีความหลากหลายทางชีวภาพประกอบด้วยสัตว์น้ำกว่า 250 สายพันธุ์ มีปลาที่เป็นเอกลักษณ์ไม่มีที่ใดในโลก 20 สายพันธุ์พืชน้ำกว่า 200 ชนิด เป็นที่ทำมาหากินของประชาชนในบริเวณนั้นกว่า 2,000 ครัวเรือน มีนกพันธุ์ต่าง ๆ กว่า 40 ชนิด ชุมชนพักอาศัยกึ่งชนบท เป็นชุมชนที่มีอาชีพหลักในการทำเกษตรกรรม ลักษณะสังคมภายในชุมชนยังคงเป็นไปในลักษณะของวิถีชีวิตและวัฒนธรรมแบบชนบท เป็นชุมชนที่มีวิถีชีวิตที่เรียบง่าย อยู่บริเวณโดยรอบพื้นที่ชุ่มน้ำที่มีความสำคัญ',\n",
              "       'ชุมชนบุ่งคล้า เป็นชุมชนขนาดเล็กที่ตั้งอยู่บนพื้นที่ริมน้ำธรรมชาติ และติดริมแม่น้ำโขง ชุมชนพักอาศัยกึ่งชนบท ประชากรในชุมชนประกอบอาชีพด้านเกษตรกรรมเป็นหลัก เป็นชุมชนที่มีอาชีพหลักในการทำเกษตรกรรม ลักษณะสังคมภายในชุมชนยังคงเป็นไปในลักษณะของวิถีชีวิตและวัฒนธรรมแบบชนบท',\n",
              "       'ชุมชนบึงโขงหลง เป็นชุมชนที่ตั้งอยู่ริมบึงน้ำจืดขนาดใหญ่ ที่มีความอุดมสมบูรณ์ทางทรัพยากรธรรมชาติ เป็นชุมชนที่พักอาศัยและเกษตรกรรมในบริเวณโดยรอบ เป็นชุมชนเกษตรกรรม เป็นชุมชนที่ตั้งอยู่ริมบึงโขงหลง มีความยาวประมาณ 13 กิโลเมตร มีความลึกเฉลี่ย 50-100 เซนติเมตร โดยจุดที่ลึกที่สุดมีความลึก 6 เมตร มีพื้นที่กว่า 8,062 ไร่ ถือว่าเป็นส่วนหนึ่งของที่ราบแม่น้ำสงคราม และมีความอุดมสมบูรณ์',\n",
              "       'ชุมชนบริเวณถนนวิไชยอุดรกิจ เป็นย่านพาณิชยกรรมเก่า ประกอบด้วยอาคารพาณิชยกรรมลักษณะอาคารไม้ 2 ชั้น เป็นย่านพาณิชกรรมการค้าเก่าของชุมชนเมืองหนองบัวลำภูเรื่อยมาตั้งแต่อดีตจนถึงปัจจุบัน เป็นชุมชนการค้าขายและที่พักอาศัย การค้าส่วนใหญ่เป็นสินค้าอุปโภค และการค้าปลีกขนาดเล็ก มีอาคารพาณิชยกรรมเก่า ลักษณะเป็นอาคารไม้ ความสูง 1 ชั้น และ 2 ชั้น โดยมีความโดดเด่นของรูปแบบและองค์ประกอบทางสถาปัตยกรรม',\n",
              "       'ย่านการค้าถนนอนาลโย เป็นย่านพาณิชยกรรมเก่า ประกอบด้วยอาคารพาณิชยกรรมลักษณะอาคารไม้ 2 ชั้น เป็นย่านพาณิชกรรมการค้าเก่าของชุมชนเมืองหนองบัวลำภูเรื่อยมาตั้งแต่อดีตจนถึงปัจจุบัน เป็นชุมชนการค้า ส่วนใหญ่เป็นสินค้าปลีกขนาดเล็ก ลักษณะอาคารไม้ มีความสูง 2 ชั้น มีความโดดเด่นของรูปแบบและองค์ประกอบทางสถาปัตยกรรม',\n",
              "       'ชุมชนโนนสัง เป็นชุมชนตั้งอยู่บนสภาพภูมิประเทศที่เป็นที่ดอน ริมเขื่อนอุบลรัตน์ เป็นชุมชนชนบท และเกษตรกรรมอื่นๆ รวมถึงการทำประมง เป็นชุมชนเกษตรกรรม และการทำประมง เป็นชุมชนที่มีความโดดเด่นเรื่องการแปรรูปอาหาร จากปลาน้ำจืด เช่น ปลาส้ม แหนมปลา ปลาร้า เป็นต้น',\n",
              "       'ชุมชนย่านสถานีรถไฟ เป็นย่านพาณิชยกรรมเก่า ประกอบด้วยอาคารพาณิชยกรรมลักษณะอาคารไม้ 2 ชั้น บริเวณสถานีรถไฟ และศาลหลักเมืองในปัจจุบัน เป็นย่านพาณิชกรรมการค้าเก่าของชุมชนเมืองขอนแก่นเรื่อยมาตั้งแต่อดีตจนถึงปัจจุบัน เป็นชุมชนการค้าขายและที่พักอาศัย การค้าส่วนใหญ่เป็นสินค้าอุปโภค และการค้าปลีกขนาดเล็ก มีอาคารพาณิชยกรรมเก่า ลักษณะเป็นอาคารไม้ ความสูง 1 ชั้น และ 2 ชั้น โดยมีความโดดเด่นของรูปแบบและองค์ประกอบทางสถาปัตยกรรม',\n",
              "       'ชุมชนน้ำพอง เป็นย่านพาณิชยกรรมเก่า ประกอบด้วยอาคารพาณิชยกรรมลักษณะอาคารไม้ 2 ชั้นบริเวณโดยรอบสถานีรถไฟ ปัจจุบันตลาดแห่งนี้ก็ยังคงรูปแบบเดิมอยู่ ไม่ได้มีการบูรณะปรับปรุง มีเพียงบางห้องเท่านั้นที่ทำการบูรณะซ่อมแซม เนื่องจากอยู่ในพื้นที่ของการรถไฟ ถ้าหากจะเปลี่ยนแปลง ต้องทำการขออนุญาตไปยังการรถไฟ เป็นชุมชนการค้า ส่วนใหญ่เป็นสินค้าปลีกขนาดเล็ก ลักษณะอาคารไม้ มีความสูง ๒ ชั้น มีความโดดเด่นของรูปแบบและองค์ประกอบทางสถาปัตยกรรม',\n",
              "       'ชุมชนรอบพระธาตุขามแก่น เป็นเป็นชุมชนเก่าตั้งอยู่บนพื้นที่ราบใกล้กับโบราณสถานพระธาตุขามแก่นด้านทิศใต้และทิศตะวันออก พื้นที่โดยรอบเป็นพื้นที่เกษตรกรรม ได้แก่ นาข้าว เป็นชุมชนพักอาศัยแบบชนบท ประชากรในชุมชนรอบพระธาตุขามแก่นส่วนใหญ่ประกอบอาชีพด้านเกษตรกรรมเป็นหลัก ได้แก่ การทำนา รองลงมาเป็นรับจ้าง และค้าขาย ลักษณะสังคมภายในชุมชนยังคงเป็นลักษณะของวิถีชีวิตและวัฒนธรรมแบบชนบทที่มีความเกี่ยวข้องกับการเกษตร และพื้นที่ทางความเชื่อท้องถิ่น เช่น ดอนปู่ตา เป็นต้น เป็นชุมชนเก่าที่มีการก่อตั้งเป็นชุมชนใกล้เคียงกับการก่อสร้างพระธาตุขามแก่น และมีความสำคัญทางด้านประวัติศาสตร์เกี่ยวข้องกับการก่อสร้างพระธาตุขามแก่น',\n",
              "       'ชุมชนเมืองเพีย ตั้งอยู่บนเนินดินขนาดใหญ่ มีร่องรอยคูน้ำคันดินที่เหลืออยู่ของเมืองโบราณ และเป็นพื้นที่บ่อเกลือ เป็นชุมชนชนบท เป็นพื้นที่ทำเกลือ และเกษตรกรรมอื่นๆ เป็นชุมชนเกษตรกรรม และการทำเกลือ เป็นเมืองโบราณยุคทวารวดี มีอายุอยู่ราวหลัง พ.ศ. 1200 ผังเมืองรูปกลมรี เส้นผ่าศูนย์กลางราว 1.5 กิโลเมตร',\n",
              "       'ชุมชนเมืองแอม เป็นชุมชนที่ตั้งอยู่บนสภาพภูมิประเทศที่เป็นที่ดอน มีคูเมืองขนาดใหญ่ล้อมรอบ พื้นที่โดยรอบชุมชนเป็นพื้นที่เกษตรกรรม ได้แก่ นาข้าว เป็นชุมชนที่พักอาศัยและเกษตรกรรมในบริเวณโดยรอบ เป็นชุมชนเกษตรกรรม เมืองโบราณขนาดใหญ่ที่สุดแห่งหนึ่งของประเทศไทย ผังเมืองมีรูปร่างไม่สม่ำเสมอโดยมีความกว้างยาวตามแนวตะวันออก ตะวันตกประมาณ 2,400 เมตร และตามแนวเหนือใต้ประมาณ 2,000 เมตร มีคูน้ำ 1 ชั้นและคันดิน 1 ชั้น แต่ด้านตะวันตกนั้นมีคูน้ำ 1 ชั้น และคันดิน 2 ชั้น ',\n",
              "       'ชุมชนบ้านไผ่ เป็นย่านพาณิชยกรรมเก่า ประกอบด้วยอาคารพาณิชยกรรม ลักษณะอาคารไม้ 2 ชั้นบริเวณสถานีรถไฟ และลักษณะอาคารสมัยใหม่บริเวณโดยรอบ เป็นย่านพาณิชกรรมการค้าเก่าของชุมชนเมืองบ้านไผ่เรื่อยมาตั้งแต่อดีตจนถึงปัจจุบัน เป็นชุมชนการค้าขายและที่พักอาศัย การค้าส่วนใหญ่เป็นสินค้าอุปโภค และการค้าปลีกขนาดเล็ก เป็นย่านชุมชนเก่าบริเวณโดยรอบสถานีรถไฟที่มีความสำคัญทางด้านการค้า มีอาคารพาณิชยกรรมเก่าอยู่บริเวณโดยรอบ',\n",
              "       'ชุมชนเมืองพล เป็นย่านพาณิชยกรรมเก่าบริเวณโดยรอบสถานีรถไฟ ประกอบด้วยอาคารพาณิชยกรรมลักษณะอาคารไม้ และลักษณะอาคารสมัยใหม่บริเวณโดยรอบ เป็นย่านพาณิชกรรมการค้าเก่าของชุมชนเมืองพลเรื่อยมาตั้งแต่อดีตจนถึงปัจจุบัน เป็นชุมชนการค้าขายและที่พักอาศัย การค้าส่วนใหญ่เป็นสินค้าอุปโภค และการค้าปลีกขนาดเล็ก เป็นย่านชุมชนเก่าบริเวณโดยรอบสถานีรถไฟที่มีความสำคัญทางด้านการค้า มีอาคารพาณิชยกรรมเก่าอยู่บริเวณโดยรอบ',\n",
              "       'ชุมชนนาข่า เป็นชุมชนพักอาศัยตั้งอยู่ริมถนนมิตรภาพ พื้นที่โดยรอบชุมชนเป็นพื้นที่เกษตรกรรม ได้แก่ นาข้าว ในส่วนตลาดผ้านาข่ามีลักษณะห้องแถวรูปแบบสมัยใหม่อยู่ติดกับวัดนาคทวี ชุมชนพักอาศัยกึ่งชนบท เป็นชุมชนเก่าที่ผลิตผ้าไหมและตัดเย็บเป็นเสื้อผ้าสำเร็จรูปโดยชาวบ้านนาข่า มีการบริหารจัดการได้ในเชิงธุรกิจ จากกลุ่มใหญ่แยกมาเป็นกลุ่มย่อย ในลักษณะของอุตสาหกรรมภายในครัวเรือน ญาติพี่น้องแล้วจะส่งมาจำหน่ายที่ร้านของประธาน โดยจะมีเครือข่ายในสิ่งทอตามหมู่บ้านในตำบลนาข่า และหมู่บ้านใกล้เคียงตลอดจนตำบลใกล้เคียง เป็นชุมชนเก่าที่มีการรวมกลุ่มทอผ้า และผลิตผ้าไหม มายาวนาน ซึ่งทางจังหวัดอุดรธานี เรียกกลุ่มทอผ้าบ้านนาข่า จนกลายเป็นสินค้า OTOP และแหล่งท่องเที่ยวที่สำคัญของจังหวัดอุดรธานี',\n",
              "       'ชุมชนตลาดล่างและหนองหานน้อยเมืองเก่ากุมภวาปี เป็นย่านพาณิชยกรรมเก่าแห่งแรกของเมืองกุมภวาปี ใกล้กับหนองหานน้อย อาคารเดิมในย่านชุมชนมีลักษณะ ได้แก่ ห้องแถวไม้ คอนกรีตกับผสมไม้ ความสูง 1-2 ชั้น ย่านพาณิชยกรรมเก่าของเมืองกุมภวาปี เป็นย่านพาณิชยกรรมที่เกิดจากการรวมตัวคนไทยเชื้อสายจีนในสมัยก่อนเดินทางมาค้าขายอยู่แถบลุ่มน้ำปาว หนองหานน้อย จนเริ่มมีการก่อสร้างอาคารเพื่อใช้ค้าขาย และมีวิวัฒนาการเรื่อยมาจนถึงปัจจุบัน ลักษณะทางสังคมยังคงมีวิถีชีวิตและวัฒนธรรมที่สะท้อนความเป็นคนไทยเชื้อสายจีนอยู่ เช่น การไหว้เจ้า กิจกรรมในวันตรุษจีน เป็นต้น มีอาคารพาณิชยกรรมเก่า ลักษณะห้องแถวไม้ และคอนกรีตผสมไม้ ที่มีลักษณะเด่นด้านองค์ประกอบสถาปัตยกรรม เช่น ลูกกรงราวระเบียง บานหน้าต่าง บานประตู เป็นต้น',\n",
              "       'ชุมชนหนองหาน เป็นชุมชนเมืองเก่า มีคูน้ำและคันดินขนาดใหญ่ รูปสี่เหลี่ยมผืนผ้าล้อมรอบ มีคลองน้ำไหลผ่านด้านทิศเหนือและพื้นที่กลางเมือง พื้นที่รอบชุมชนเมืองเป็นพื้นที่เกษตรกรรม เป็นชุมชนพักอาศัยและย่านพาณิชยกรรมเก่าของเมืองหนองหาน ประชาชนส่วนใหญ่ประกอบอาชีพเกี่ยวกับเกษตรกรรม ค้าขาย และรับราชการ ลักษณะทางสังคมยังคงมีวิถีชีวิตและวัฒนธรรมในรูปแบบเมืองผสมกับชนบท มีโบราณสถานประเภทกู่ตั้งอยู่กลางเมือง มีคูน้ำคันดินขนาดใหญ่ที่มีสภาพสมบูรณ์ มีอาคารพาณิชยกรรมเก่า ลักษณะห้องแถวไม้ และคอนกรีตผสมไม้ ที่มีลักษณะเด่นด้านองค์ประกอบสถาปัตยกรรม เช่น ลูกกรงราวระเบียง เป็นต้น',\n",
              "       'ชุมชนบ้านผือ เป็นชุมชนเก่า ลักษณะของชุมชนบท ตั้งอยู่บนที่ดอนริมถนนสาย 2021 พื้นที่โดยรอบชุมชนเป็นพื้นที่เกษตรกรรม เป็นชุมชนพักอาศัยแบบชนบท ประชาชนส่วนใหญ่ประกอบอาชีพเกี่ยวกับเกษตรกรรม รับจ้าง และรับราชการ ลักษณะทางสังคมยังคงมีวิถีชีวิตและวัฒนธรรมในรูปแบบชนบท และมีการรวมกลุ่มกันประกอบกิจกรรมทางวัฒนธรรมไทพวนในงานเทศกาลต่าง ๆ เป็นชุมชนพักอาศัยเก่าของกลุ่มชาติพันธุ์ไทพวน ที่ยังคงรักษาเอกลักษณ์ดั้งเดิมของตนเองไว้อย่างเข้มแข็ง เช่น ภาษาพูด การแต่งกาย การละเล่นและประเพณีต่าง ๆ เป็นต้น',\n",
              "       'ชุมชนนายูง (ไทพวน) เป็นชุมชนเก่าลักษณะของชุมชนบทตั้งอยู่บนที่ดอน พื้นที่โดยรอบชุมชนเป็นพื้นที่เกษตรกรรมได้แก่ นาข้าว และสวนยาง เป็นชุมชนพักอาศัยแบบชนบท ประชาชนส่วนใหญ่ประกอบอาชีพเกี่ยวกับเกษตรกรรม รับจ้าง และรับราชการ ลักษณะทางสังคมยังคงมีวิถีชีวิตและวัฒนธรรมในรูปแบบชนบท และมีการรวมกลุ่มกันประกอบกิจกรรมทางวัฒนธรรมไทพวนในงานเทศกาลต่าง ๆ เป็นชุมชนพักอาศัยเก่าของกลุ่มชาติไทพวน ที่ยังคงรักษาเอกลักษณ์ดั้งเดิมของตนเองไว้อย่างเข้มแข็ง เช่น ภาษาพูด การแต่งกาย การละเล่นและประเพณีต่าง ๆ เป็นต้น',\n",
              "       'ชุมชนวังสามหมอ เป็นชุมชนเก่าลักษณะของชุมชนบทตั้งอยู่บนที่ดอน พื้นที่โดยรอบชุมชนเป็นพื้นที่เกษตรกรรมได้แก่ นาข้าว เป็นชุมชนพักอาศัยแบบชนบท ประชาชนส่วนใหญ่ประกอบอาชีพเกี่ยวกับเกษตรกรรม รับจ้าง และรับราชการ ลักษณะทางสังคมยังคงมีวิถีชีวิตและวัฒนธรรมในรูปแบบชนบท และมีการรวมกลุ่มกันประกอบกิจกรรมทางวัฒนธรรมไทพวนในงานเทศกาลต่างๆ เป็นชุมชนพักอาศัยเก่าของกลุ่มชาติไทพวน ที่ยังคงรักษาเอกลักษณ์ดั้งเดิมของตนเองไว้อย่างเข้มแข็ง เช่น ภาษาพูด การแต่งกาย การละเล่นและประเพณีต่าง ๆ เป็นต้น ภายในชุมชนยังมีบ้านเก่าเรือนไทพวนหลงเหลืออยู่ไม่มากนัก',\n",
              "       'ชุมชนศรีธาตุ (ภูไท) เป็นชุมชนเก่าลักษณะของชุมชนบทตั้งอยู่บนที่ดอน พื้นที่โดยรอบชุมชนเป็นพื้นที่เกษตรกรรม ได้แก่ นาข้าว ซึ่งเป็นที่ลุ่ม และแหล่งน้ำธรรมชาติลักษณะลำน้ำหลายสาย เป็นชุมชนพักอาศัยแบบชนบท ประชาชนส่วนใหญ่ประกอบอาชีพเกี่ยวกับเกษตรกรรม รับจ้าง และรับราชการ ลักษณะทางสังคมยังคงมีวิถีชีวิตและวัฒนธรรมในรูปแบบชนบท และมีการรวมกลุ่มกันประกอบกิจกรรมทางวัฒนธรรมผู้ไทในงานเทศกาลต่าง ๆ เป็นชุมชนพักอาศัยเก่าของกลุ่มชาติพันธุ์ผู้ไท ที่ยังคงรักษาเอกลักษณ์ดั้งเดิมของตนเองไว้อย่างเข้มแข็ง เช่น ภาษาพูด การแต่งกาย การละเล่นและประเพณีต่างๆ ในเทศกาลสำคัญเป็นต้น ภายในชุมชนยังมีบ้านเก่า ลักษณะของเรือนผู้ไทประมาณ 10 หลัง',\n",
              "       'ชุมชนบ้านดุง เป็นชุมชนเก่าลักษณะของชุมชนบทตั้งอยู่บนที่ดอน พื้นที่โดยรอบชุมชนเป็นพื้นที่เกษตรกรรม ได้แก่ นาข้าว อ้อย และยางพารา เป็นชุมชนพักอาศัยแบบชนบท ประชาชนส่วนใหญ่ประกอบอาชีพเกี่ยวกับเกษตรกรรม และรับจ้าง นอกจากนี้ยังมีการรวมกลุ่มกันประกอบอาชีพหัตถกรรมที่หลากหลายที่สร้างรายได้ให้กับชุมชน ลักษณะทางสังคมยังคงมีวิถีชีวิตและวัฒนธรรมในรูปแบบชนบท ในชุมชนมีกลุ่มประกอบอาชีพหัตถกรรมที่หลากหลาย เช่น กลุ่มทอผ้ามัดหมี่ย้อมครามสีธรรมชาติ กลุ่มจักสานตะกร้าลายขิด โดยใช้วัสดุที่มีในท้องถิ่น',\n",
              "       'ชุมชนบ้านนาอ้อ เป็นชุมชนชนบทที่มีนาข้าว ป่า และภูเขา ล้อมรอบพื้นที่ ซึ่งเป็นแหล่งต้นน้ำและลำห้วยหลายสายไหลผ่านหมู่บ้าน ชุมชนพักอาศัยแบบชนบท ประชาชนในชุมชนส่วนใหญ่ประกอบอาชีพทางด้านการเกษตรเป็นหลัก ได้แก่ การทำนา รองลงมา คือ อาชีพรับจ้างและรับราชการ โดยในชุมชนมีการทำหัตถกรรมเครื่องจักสานเป็นอาชีพเสริม เพื่อเพิ่มรายได้ให้กับครอบครัว ลักษณะสังคมภายในชุมชนยังคงมีวิถีชีวิตแบบชนบทที่มีความเกี่ยวข้องกับอาชีพเกษตรกรรมและสิ่งศักดิ์สิทธิ์ในชุมชน เป็นชุมชนกลุ่มชาติพันธุ์ผู้ไทย ที่มีอัตลักษณ์โดดเด่นเรื่องวัฒนธรรม มีขนบธรรมเนียม ประเพณี และวิถีชีวิตแสดงถึงความเป็นผู้ไทที่โดดเด่น',\n",
              "       'ชุมชนตลาด เป็นย่านพาณิชยกรรมเก่า ประกอบด้วยอาคารพาณิชยกรรมลักษณะอาคารไม้ริม 2 ฝั่งถนน เป็นย่านพาณิชกรรมการค้าเก่าของชุมชนตำบลด่านซ้าย เรื่อยมาตั้งแต่อดีตจนถึงปัจจุบัน เป็นชุมชนการค้าขายและที่พักอาศัยของพ่อค้าเชื้อสายลาว-เวียด มีอาคารพาณิชยกรรมเก่า เป็นลักษณะอาคารไม้ ตึกดิน ความสูง 1 ชั้น และ 2 ชั้น ที่มีความโดดเด่นของรูปแบบและองค์ประกอบทางสถาปัตยกรรมเฉพาะ เช่น บานประตู ลูกกรงราวระเบียง ลายฉลุบริเวณกันสาดระเบียง และช่องระบายอากาศเหนือบานประตู',\n",
              "       'ชุมชนปากชม เป็นชุมชนชนบท ตั้งอยู่บนที่ราบริมแม่น้ำโขง ต่อมาได้มีการขยายตัวของชุมชนออกจากพื้นที่ริมแม่น้ำโขง อันเนื่องมาจากการพัฒนาเส้นทางการคมนาคมทางบก ชุมชนพักอาศัยแบบชนบท ประชาชนในชุมชนส่วนใหญ่ประกอบอาชีพทางด้านการเกษตรเป็นหลัก ได้แก่ การทำนา และอาชีพรับจ้าง ลักษณะสังคมภายในชุมชนยังคงมีวิถีชีวิตแบบชนบทที่มีความเกี่ยวข้องกับอาชีพเกษตรกรรม แม่น้ำโขง และสิ่งศักดิ์สิทธิ์ในชุมชน เป็นชุมชนกลุ่มชาติพันธุ์ผู้ไทย ที่มีอัตลักษณ์โดดเด่นเรื่องวัฒนธรรม ขนบธรรมเนียม ประเพณี และวิถีชีวิตแสดงถึงความเป็นผู้ไทยที่โดดเด่น อาทิ การแต่งกายชุดผู้ไทย และภาษาพูด มีลักษณะอาคารภายในชุมชน เดิมเป็นอาคารไม้ 2 ชั้น ใต้ถุนโล่ง ที่มีเอกลักษณ์แบบเรือนผู้ไท',\n",
              "       'ชุมชนเก่าเชียงคาน เป็นชุมชนเก่าตั้งอยู่บนที่ราบ ทอดตัวยาวริมแม่น้ำโขง เป็นย่านพักอาศัย การค้าและพาณิชยกรรมเก่าของเมืองเชียงคาน แต่เดิมชุมชนเก่าเชียงคาน มีบทบาทเป็นการค้าและพาณิชยกรรมหลักของเมืองเชียงคาน แต่ปัจจุบันได้ลดบทบาทการเป็นย่านการค้าลง เนื่องจากถนนเดิมมีความคับแคบ และการขยายตัวของเมืองออกไปตามเส้นทางคมนาคม เกิดเป็นย่านพาณิชยกรรมใหม่ริมถนนสายหลัก ที่มีความสะดวกในการใช้งาน ระบบเศรษฐกิจในชุมชนปัจจุบันจึงพึ่งพากับการท่องเที่ยวเป็นหลัก ลักษณะทางสังคมยังคงมีวิถีชีวิตและวัฒนธรรมที่เกี่ยวข้องกับศาสนาพุทธ และแม่น้ำโขง โดยเห็นได้จากการแบ่งชุมชนเป็นคุ้มวัด ประชาชนในชุมชนเก่าเชียงคานส่วนใหญ่เป็นคนไทย รองลงมาเป็นคนไทยเชื้อสายจีน มีอาคารพาณิชยกรรมเก่า ลักษณะห้องแถวไม้ และคอนกรีตผสมไม้ ที่มีลักษณะเด่นด้านเทคนิคการก่อสร้างและองค์ประกอบสถาปัตยกรรม เช่น ผนังอาคารทำจากไม้ไผ่สานสอปูนเปลือกหอย ลูกกรงราวระเบียง บานประตู-หน้าต่าง และช่องระบายอากาศเหนือประตู-หน้าต่าง เป็นต้น',\n",
              "       'ชุมชนนาป่าหนาด เป็นหมู่บ้านที่มีประชากร เป็นเชื้อสาย \"ไทดำ\" หมู่บ้านเดียวในจังหวัดเลย ที่ตั้งของหมู่บ้านตั้งอยู่บนที่สูง ซึ่งเรียกตามภาษาท้องถิ่นทั่วไปว่า \"โคก\" ชาวบ้านนาป่าหนาด และหมู่บ้านใกล้เคียงจะเรียกหมู่บ้านนี้ว่า \"บ้านโคก\" หรือบางทีก็เรียกว่า \"บ้านโคกโซ่งดำ\" เป็นแหล่งท่องเที่ยวและเป็นแหล่งเรียนรู้ /ศูนย์วัฒนธรรมกลุ่มเชื้อสาย\"ไทดำ\" เป็นหมู่บ้านวัฒนธรรมไทดำบ้านนาป่าหนาดเป็นหมู่บ้านที่มีลักษณะเป็นหมู่บ้านสาธิต ความเป็นไทดำทั้งหมดไม่ว่าจะเป็นกิจกรรม หรือการดำเนินชีวิตต่าง ๆ ของชาวไทดำ ให้ผู้ที่เข้าเยี่ยมชมได้เห็นภาพจริง ส่งเสริมการท่องเที่ยว',\n",
              "       'ชุมชนบ้านน้อย เป็นชุมชนชนบท ตั้งอยู่บนที่ราบริมแม่น้ำโขง ต่อมาได้มีการขยายตัวของชุมชนออกจากพื้นที่ริมแม่น้ำโขง อันเนื่องมาจากการพัฒนาเส้นทางการคมนาคมทางบก ชุมชนพักอาศัยแบบชนบท ประชาชนในชุมชนส่วนใหญ่ประกอบอาชีพทางด้านการเกษตรเป็นหลัก ได้แก่ การทำนา และอาชีพรับจ้าง ลักษณะสังคมภายในชุมชนยังคงมีวิถีชีวิตแบบชนบทที่มีความเกี่ยวข้องกับอาชีพเกษตรกรรม แม่น้ำโขง และสิ่งศักดิ์สิทธิ์ในชุมชน เป็นชุมชนกลุ่มชาติพันธุ์ผู้ไทย ที่มีอัตลักษณ์โดดเด่นเรื่องวัฒนธรรม ขนบธรรมเนียม ประเพณี และวิถีชีวิตแสดงถึงความเป็นผู้ไทยที่โดดเด่น อาทิ การแต่งกายชุดผู้ไทย และภาษาพูด มีลักษณะอาคารภายในชุมชน เดิมเป็นอาคารไม้ 2 ชั้น ใต้ถุนโล่ง ที่มีเอกลักษณ์แบบเรือนผู้ไท',\n",
              "       'ชุมชนผาแบ่น เป็นชุมชนชนบท ตั้งอยู่บนที่ราบริมแม่น้ำโขง ต่อมาได้มีการขยายตัวของชุมชนออกจากพื้นที่ริมแม่น้ำโขง อันเนื่องมาจากการพัฒนาเส้นทางการคมนาคมทางบก ชุมชนพักอาศัยแบบชนบท ประชาชนในชุมชนส่วนใหญ่ประกอบอาชีพทางด้านการเกษตรเป็นหลัก ได้แก่ การทำนา และอาชีพรับจ้าง ลักษณะสังคมภายในชุมชนยังคงมีวิถีชีวิตแบบชนบทที่มีความเกี่ยวข้องกับอาชีพเกษตรกรรม แม่น้ำโขง และสิ่งศักดิ์สิทธิ์ในชุมชน เป็นชุมชนกลุ่มชาติพันธุ์ผู้ไทย ที่มีอัตลักษณ์โดดเด่นเรื่องวัฒนธรรม ขนบธรรมเนียม ประเพณี และวิถีชีวิตแสดงถึงความเป็นผู้ไทยที่โดดเด่น อาทิ การแต่งกายชุดผู้ไทย และภาษาพูด มีลักษณะอาคารภายในชุมชน เดิมเป็นอาคารไม้ 2 ชั้น ใต้ถุนโล่ง ที่มีเอกลักษณ์แบบเรือนผู้ไท',\n",
              "       'ชุมชนบ้านนาซ่าว เป็นชุมชนชนบทที่มีนาข้าว ป่า มีเป็นแหล่งต้นน้ำและลำห้วยหลายสายไหลผ่านหมู่บ้าน ชุมชนพักอาศัยแบบชนบท ประชาชนในชุมชนส่วนใหญ่ประกอบอาชีพทางด้านการเกษตรเป็นหลัก ได้แก่ การทำนา รองลงมา คือ อาชีพรับจ้างและรับราชการ โดยในชุมชนมีการทำหัตถกรรมเครื่องจักสานเป็นอาชีพเสริม เพื่อเพิ่มรายได้ให้กับครอบครัว ลักษณะสังคมภายในชุมชนยังคงมีวิถีชีวิตแบบชนบทที่มีความเกี่ยวข้องกับอาชีพเกษตรกรรมและสิ่งศักดิ์สิทธิ์ในชุมชน เป็นชุมชนกลุ่มชาติพันธุ์ผู้ไท ที่มีอัตลักษณ์โดดเด่นเรื่องวัฒนธรรม มีขนบธรรมเนียม ประเพณี และวิถีชีวิตแสดงถึงความเป็นผู้ไทที่โดดเด่น',\n",
              "       'ชุมชนบ้านกลาง เป็นชุมชนขนาดกลางตั้งอยู่บนสภาพภูมิประเทศที่เป็นที่ดอน พื้นที่โดยรอบชุมชนเป็นพื้นที่เกษตรกรรม ได้แก่ นาข้าว เป็นชุมชนพักอาศัยกึ่งชนบท ลักษณะสังคมภายในชุมชนยังคงเป็นไปในลักษณะของวิถีชีวิตและวัฒนธรรมแบบชนบท ประชากรในชุมชนประกอบอาชีพด้านเกษตรกรรมเป็นหลัก ได้แก่ การทำนาลักษณะสังคมภายในชุมชนยังคงเป็นไปในลักษณะของวิถีชีวิตและวัฒนธรรมแบบชนบท เป็นชุมชนชาติพันธุ์พวน ที่ใช้ภูมิปัญญาในการทำตอม่อ คสล. ผสมหินทรายแม่น้ำ ฐานเสาก่ออิฐรับตัวเรือน และการทำกระเบื้องดินเผาแบบบาง',\n",
              "       'ชุมชนการค้าเก่าถนนมีชัย เป็นย่านพาณิชยกรรมเก่าของเมืองหนองคาย มีพื้นที่ต่อติดต่อกับแม่น้ำโขง เริ่มตั้งแต่ช่วงต้นจนถึงช่วงกลางของถนนมีชัย อาคารเดิมในชุมชนมี 3 ลักษณะ ได้แก่ ห้องแถวไม้ ความสูง 1-2 ชั้น คอนกรีตผสมไม้ และคอนกรีตเสริมเหล็กรูปแบบ ชิโนโปรตุเกส ความสูง 2 ชั้น ย่านพาณิชยกรรมเก่าและพักอาศัยของเมืองหนองคาย ประชาชนในชุมชนการค้าเก่าถนนมีชัยส่วนใหญ่เป็นคนไทยเชื้อสายเวียดนาม และคนไทยเชื้อสายจีนที่ประกอบอาชีพค้าขายเป็นหลัก ลักษณะทางสังคมยังคงมีวิถีชีวิต และวัฒนธรรมที่สะท้อนความเป็นชาติพันธุ์ของตนเอง เช่น ภาษาพูด ประเพณีการไหว้บรรพบุรุษ และการไหว้เจ้า เป็นต้น มีอาคาร พาณิชยกรรมเก่าที่มีความสวยงามและเป็นเอกลักษณ์ในพื้นที่ชุมชน ในลักษณะห้องแถวไม้ ความสูง 1-2 ชั้น คอนกรีตผสมไม้และคอนกรีตเสริมเหล็กรูปแบบชิโนโปรตุเกส ความสูง 2 ชั้น',\n",
              "       'ชุมชนศรีเชียงใหม่ เป็นย่านพาณิชยกรรมเก่าของอำเภอศรีเชียงใหม่ มีพื้นที่ต่อติดต่อกับแม่น้ำโขง ลักษณะอาคารเดิมในชุมชนเป็นห้องแถวไม้ และคอนกรีตผสมไม้ ความสูง 1-2 ชั้น ย่านพาณิชยกรรมเก่าและพักอาศัยของเมืองศรีเชียงใหม่ ประชาชนในชุมชนศรีเชียงใหม่ส่วนใหญ่เป็นคนไทยเชื้อสายเวียดนามและจีน ยังมีประกอบอาชีพค้าขายเป็นหลัก แต่ปัจจุบันได้ลดบทบาทการเป็นย่านการค้าลง เนื่องจากการขยายตัวของเมืองตามเส้นทางคมนาคม เกิดเป็นย่านพาณิชยกรรมใหม่ริมถนนสายหลัก ที่มีความสะดวกในการใช้งาน ลักษณะทางสังคมยังคงมีวิถีชีวิตและวัฒนธรรมที่สะท้อนความเป็นชาติพันธุ์ของตนเอง เช่น ภาษาพูด ประเพณีการไหว้เจ้า เป็นต้น มีอาคาร พาณิชยกรรมเก่าที่เป็นเอกลักษณ์ในพื้นที่ชุมชน ในลักษณะห้องแถวไม้ และคอนกรีตผสมไม้',\n",
              "       'ชุมชนท่าบ่อ เป็นย่านพาณิชยกรรมเก่าของอำเภอท่าบ่อ มีพื้นที่ต่อติดต่อกับแม่น้ำโขง ลักษณะอาคารเดิมในชุมชนเป็นห้องแถวไม้ และคอนกรีตผสมไม้ ความสูง 1-2 ชั้น ย่านพาณิชยกรรมเก่าเมืองท่าบ่อ ประชาชนในชุมชนท่าบ่อส่วนใหญ่ประกอบอาชีพค้าขายเป็นหลัก แต่ปัจจุบันได้ลดบทบาทการเป็นย่านการค้าลง เนื่องจาการขยายตัวของเมืองตามเส้นทางคมนาคม เกิดเป็นย่านพาณิชยกรรมใหม่ ที่มีความสะดวกในการเข้าถึงและใช้งานใช้งาน ลักษณะทางสังคมยังคงมีวิถีชีวิตและวัฒนธรรมที่เกี่ยวข้องกับศาสนาพุทธ และแม่น้ำโขง มีอาคารพาณิชยกรรมเก่า ลักษณะห้องแถวไม้ และคอนกรีตผสมไม้ ที่มีลักษณะเด่นด้านองค์ประกอบสถาปัตยกรรม เช่น ลูกกรงราวระเบียง บานประตู และช่องระบายอากาศเหนือประตู เป็นต้น',\n",
              "       'ชุมชนเมืองเก่ามหาสารคาม เป็นย่านพาณิชยกรรมเก่า ประกอบด้วยอาคารพาณิชยกรรมลักษณะอาคารไม้ริม 2 ฝั่งถนนถนนนครสวรรค์ ซึ่งเป็นถนนสายหลักของเมืองมหาสารคาม เป็นย่านพาณิชกรรมการค้าเก่าของชุมชนเมืองมหาสารคามเรื่อยมาตั้งแต่อดีตจนถึงปัจจุบัน เป็นชุมชนการค้าขายและที่พักอาศัยของพ่อค้าเชื้อสายจีนในอดีต ปัจจุบันเริ่มมีผสมผสานของผู้ที่ทำการค้าขายและพักอาศัยทั้งคนเชื้อสายจีน ไทย และเชื้อสายอินเดีย ตามลำดับ มีอาคารพาณิชยกรรมเก่าอายุกว่า 70 ปี ในลักษณะอาคารไม้ ตึกดิน ความสูง 1 ชั้น และ 2 ชั้น ที่มีความโดดเด่นของรูปแบบและองค์ประกอบทางสถาปัตยกรรมเฉพาะ เช่น บานประตู ลูกกรงราวระเบียง ลายฉลุบริเวณกันสาดระเบียง และช่องระบายอากาศเหนือบานประตู',\n",
              "       'ชุมชนเมืองโบราณบ้านเชียงเหียน เป็นชุมชนที่ตั้งอยู่บนสภาพภูมิประเทศที่เป็นที่ดอน มีคูเมืองล้อมรอบ พื้นที่โดยรอบชุมชนเป็นพื้นที่เกษตรกรรม ได้แก่ นาข้าว เป็นชุมชนพักอาศัยกึ่งชนบท ประชากรในชุมชนประกอบอาชีพด้านเกษตรกรรมเป็นหลัก รองลงมาเป็นรับจ้าง และค้าขาย ลักษณะสังคมภายในชุมชนยังคงเป็นไปในลักษณะของวิถีชีวิตและวัฒนธรรมแบบชนบท เป็นชุมชนที่มีความสำคัญทางด้านโบราณคดี เนื่องจากมีการขุดค้นพบโบราณวัตถุจำนวนมากในชุมชน เช่น เสมาหิน ไห ลูกปัด และกำไล เป็นต้น ที่แสดงว่าการตั้งถิ่นฐานของคนในสมัยก่อนมาช้านาน ซึ่งปัจจุบันโบราณวัตถุบางส่วนได้ถูกเก็บรักษาไว้ที่พิพิธภัณฑ์แห่งชาติขอนแก่น และบางส่วนที่พิพิธภัณฑ์วัดบ้านเชียงเหียนโพธิ์ศรี',\n",
              "       'ชุมชนบ้านหม้อ เป็นชุมชนขนาดกลางตั้งอยู่บนสภาพภูมิประเทศที่เป็นที่ดอน พื้นที่โดยรอบชุมชนเป็นพื้นที่เกษตรกรรม ได้แก่ นาข้าวซึ่งเป็นที่ลุ่ม ใกล้ชุมชนมีหนองน้ำชื่อว่าหนองเลิง ซึ่งเป็นแหล่งน้ำสำคัญในการทำเกษตรกรรม และใช้ดินที่หนองน้ำแห่งซึ่งเป็นดินคุณภาพดีนี้นำไปปั้นหม้อ เป็นชุมชนพักอาศัยกึ่งชนบท ประชากรในชุมชนประกอบอาชีพด้านเกษตรกรรมเป็นหลัก ได้แก่ การทำนา แรกเริ่มชาวบ้านในชุมชนบ้านหม้อ เป็นชาวบ้านที่อพยพหนีความแห้งแล้งจากอำเภอโนนสูง จังหวัดนครราชสีมา มีความรู้เรื่องการปั้นหม้อมาก่อน จึงได้ยึดอาชีพการปั้นหม้อ ซึ่งเป็นอีกอาชีพหนึ่งที่สำคัญในชุมชน ลักษณะสังคมภายในชุมชนยังคงเป็นไปในลักษณะของวิถีชีวิตและวัฒนธรรมแบบชนบท บ้านหม้อ เป็นชุมชนเก่าที่มีเอกลักษณ์ในการประกอบอาชีพหัตถกรรมการปั้นหม้อที่สำคัญ และมีชื่อเสียงของจังหวัดมหาสารคาม โดยชาวบ้านหม้อที่อพยพมาจากบ้านเพิก บ้านเพีย ในเขตอำเภอโนนสูง จังหวัดนครราชสีมา เมื่อประมาณ 100 กว่าปีก่อน ได้นำเอาภูมิปัญญา เอกลักษณ์ของการปั้นหม้อของตนที่มี มาประกอบอาชีพสืบทอดมาจนถึงปัจจุบัน',\n",
              "       'ชุมชนบ้านปรางค์กู่ เป็นชุมชนขนาดกลางตั้งอยู่บนสภาพภูมิประเทศที่เป็นที่ดอน พื้นที่โดยรอบชุมชนเป็นพื้นที่เกษตรกรรม ได้แก่ นาข้าวซึ่งเป็นที่ลุ่ม ใกล้กับชุมชนมีแหล่งน้ำขนาดใหญ่ชื่อว่าหนองกระทุ่ม ซึ่งเป็นแหล่งน้ำสำคัญในการทำเกษตรกรรม และอุปโภคในชุมชน เป็นชุมชนพักอาศัยกึ่งชนบท ประชากรในชุมชนประกอบอาชีพด้านเกษตรกรรมเป็นหลัก รองลงมาเป็นรับจ้าง ลักษณะสังคมภายในชุมชนยังคงเป็นไปในลักษณะของวิถีชีวิตและวัฒนธรรมแบบชนบท ในชุมชนมีปรางค์กู่เก่าแก่ล้อมรอบด้วยปรางค์เล็กๆ เป็นโบราณสถานที่มีอายุก่อสร้างประมาณพุทธศตวรรษที่ 18 ทำด้วยศิลาแลงเป็นรูปกระโจมสี่เหลี่ยม ปัจจุบันกรมศิลปากรได้บูรณะปรางค์กู่ให้เป็นที่สัการะบูชาของประชาชนในพื้นที่ นอกจากนี้ยังมีเทวรูปจำนวน 2 องค์ ซึ่งจะนำออกให้ชาวบ้านสรงน้ำในวันสงกรานต์ทุกปี ปัจจุบันเทวรูปได้นำมาไว้ที่วัดมหาชัยเพื่อเก็บรักษา',\n",
              "       'ชุมชนเมืองโบราณบ้านสระ เป็นชุมชนที่ตั้งอยู่บนสภาพภูมิประเทศที่เป็นเนินสูง รอบโบราณสถานสมัยทวารวดี มีคูเมืองล้อมรอบ 2 ชั้น พื้นที่โดยรอบชุมชนเป็นพื้นที่เกษตรกรรม เป็นชุมชนพักอาศัยกึ่งชนบท ประชากรในชุมชนประกอบอาชีพด้านเกษตรกรรมเป็นหลัก รองลงมาเป็นรับจ้าง ค้าขาย และรับราชการ ลักษณะสังคมภายในชุมชนยังคงเป็นไปในลักษณะของวิถีชีวิตและวัฒนธรรมแบบชนบท มีโบราณสถานและโบราณวัตถุปรากฏอยู่ในชุมชนปัจจุบัน ได้แก่ พระพุทธรูปยืนมงคลแกะสลักด้วยหินทราย เนินอิฐดินเผาโบราณ คูเมืองโบราณ และพระเครื่องดินเผา ซึ่งปัจจุบันโบราณวัตถุบางส่วนได้ถูกเก็บรักษาไว้ที่พิพิธภัณฑ์สถานแห่งชาติขอนแก่น และบางส่วนที่พิพิธภัณฑ์วัดพุทธมงคล บ้านสระ',\n",
              "       'ชุมชนญ้อภูไท ท่าขอนยาง เป็นชุมชนที่ตั้งอยู่บนพื้นที่ราบลุ่มริมแม่น้ำชี ต่อมาเริ่มมีการขยายตัวออกมาตามเส้นทางคมนาคมด้านทิศเหนือ ลักษณะอาคารภายในชุมชนเป็นอาคารไม้สองชั้นยกใต้ถุนสูง ชั้นล่างโล่ง เพื่อใช้เก็บอุปกรณ์ทางการเกษตร และป้องกันปัญหาน้ำท่วมจากระดับแม่น้ำชีที่สูงขึ้นในช่วงฤดูฝน เป็นชุมชนพักอาศัยกึ่งชนบท และชุมชนบริการด้านการค้า ประชากรในชุมชนประกอบอาชีพด้านเกษตรกรรมเป็นหลัก รองลงมาเป็นรับจ้าง ค้าขาย และรับราชการ ลักษณะสังคมภายในชุมชนปัจจุบันเริ่มมีการเปลี่ยนรูปแบบจากวิถีชีวิตและวัฒนธรรมแบบชนบทไปสู่รูปแบบของสังคมเมือง อันเนื่องมาจากผลกระทบของการพัฒนามหาวิทยาลัย เป็นชุมชนที่พักอาศัยของกลุ่มชาติพันธุ์ญ้อภูไท ซึ่งยังคงมีวิถีชีวิต วัฒนธรรมประเพณี และความเชื่อที่ยังปรากฏอยู่ในปัจจุบัน เช่น การแต่งกาย ภาษาพูด และพื้นที่ทางความเชื่อ เช่น หลักบ้าน เป็นต้น',\n",
              "       'ชุมชนพยัคฆภูมิพิสัย เป็นย่านพาณิชยกรรมเก่า ประกอบด้วยอาคารพาณิชยกรรมลักษณะอาคารไม้ริม 2 ฝั่งถนน เป็นย่านพาณิชยกรรมการค้าเก่าของชุมชนเมืองพยัคฆภูมิพิสัยตั้งแต่อดีตจนถึงปัจจุบัน เป็นชุมชนการค้าขายและที่พักอาศัยของพ่อค้าเชื้อสายจีนในอดีต ปัจจุบันเริ่มมีผสมผสานของผู้ที่ทำการค้าขายและพักอาศัยทั้งคนเชื้อสายจีน ไทย และเชื้อสายอินเดีย มีอาคารพาณิชยกรรมเก่าอายุกว่า 60 ปี ในลักษณะอาคารไม้ความสูง 1 ชั้น และ 2 ชั้น ที่มีความโดดเด่นของรูปแบบและองค์ประกอบทางสถาปัตยกรรมเฉพาะ เช่น บานประตู ลูกกรงราวระเบียง และช่องระบายอากาศเหนือบานประตู',\n",
              "       'ชุมชนเมืองเก่า เป็นย่านพาณิชยกรรมเก่าของอำเภอโกสุมพิสัย ประกอบด้วยอาคารพาณิชยกรรมลักษณะอาคารไม้ และครึ่งตึกครึ่งไม้ บริเวณริม 2 ฝั่งถนน และ ตลาสดเทศบาล เป็นย่านพาณิชกรรมการค้าเก่าของชุมชนเมืองโกสุมพิสัยตั้งแต่อดีตจนถึงปัจจุบัน เป็นชุมชนการค้าขายและที่พักอาศัยของพ่อค้าเชื้อสายจีนในอดีต ซึ่งปัจจุบันมีผสมผสานของผู้ที่ทำการค้าขายและพักอาศัยในย่านนี้ทั้งคนเชื้อสายจีน และไทย ที่มีความสัมพันธ์เกี่ยวข้องกันในด้านของประเพณีไทย-จีน มีอาคารพาณิชยกรรมเก่าอายุกว่า 50 ปี ในลักษณะอาคารไม้ความสูง 1 ชั้น และ 2 ชั้น ที่มีความโดดเด่นของรูปแบบและองค์ประกอบทางสถาปัตยกรรม เช่น ลูกกรงราวระเบียง และช่องระบายอากาศเหนือบานประตู',\n",
              "       'ชุมชนบ้านเมืองเตา เป็นชุมชนที่ตั้งอยู่บนสภาพภูมิประเทศที่เป็นที่ดอน มีคูเมืองขนาดใหญ่ล้อมรอบชั้นเดียว พื้นที่โดยรอบชุมชนเป็นพื้นที่เกษตรกรรม ได้แก่ นาข้าว เป็นชุมชนพักอาศัยแบบชนบท ประชากรในชุมชนประกอบอาชีพด้านเกษตรกรรมเป็นหลัก รองลงมาเป็นรับจ้าง ลักษณะสังคมภายในชุมชนยังคงเป็นไปในลักษณะของวิถีชีวิตและวัฒนธรรมแบบชนบท เป็นชุมชนที่มีความสำคัญทางด้านโบราณคดี เนื่องจากมีการขุดค้นพบโบราณวัตถุจำนวนมากในชุมชน เช่น เศษภาชนะดินเผา ลูกปัด พระเครื่องดินเผา และกำไล เป็นต้น ซึ่งเป็นสิ่งแสดงว่าบริเวณนี้เป็นที่ตั้งถิ่นฐานของคนในสมัยก่อนมาช้านานจากอดีตถึงปัจจุบัน',\n",
              "       'ชุมชนเมืองเก่า เป็นชุมชนที่อยู่รายรอบคูเมืองโบราณ และเป็นย่านพาณิชยกรรมเก่า ประกอบด้วยอาคารพาณิชยกรรมลักษณะอาคารไม้ บึงกลางเมือง (บึงพลาญชัย ร้อยเอ็ด) เป็นย่านพาณิชยกรรมการค้าเก่าของชุมชนเมืองร้อยเอ็ด เรื่อยมาตั้งแต่อดีตจนถึงปัจจุบัน เป็นชุมชนการค้าขายและที่พักอาศัยของพ่อค้าเชื้อสายจีนในอดีต ปัจจุบันเริ่มมีผสมผสานของผู้ที่ทำการค้าขายและพักอาศัยทั้งคนเชื้อสายจีน ไทย และเชื้อสายอินเดีย ตามลำดับ มีอาคารพาณิชยกรรมเก่า เป็นลักษณะอาคารไม้ ตึกดิน ความสูง 1 ชั้น และ 2 ชั้น ที่มีความโดดเด่นของรูปแบบและองค์ประกอบทางสถาปัตยกรรมเฉพาะ เช่น บานประตู ลูกกรงราวระเบียง ลายฉลุบริเวณกันสาดระเบียง และช่องระบายอากาศเหนือบานประตู',\n",
              "       'ชุมชนสีแก้ว เป็นย่านชุมชนเก่าที่มีความทรงจำ/เหตุการณ์สำคัญในอดีต/ตำนาน และเป็นชุมชนเกษตรกรรม เป็นชุมชนเกษตรกรรม ผู้คนในชุมชนประกอบอาชีพ เกษตรกรรม ซึ่งวิถีชีวิตเป็นแบบวัฒนธรรมอีสาน (ลาวล้านช้าง) สภาพภูมิสัณฐานและภูมิทัศน์ของชุมชน และวัดบ้านเมืองสีแก้ว',\n",
              "       'ชุมชนเมืองบัว เป็นชุมชนโบราณที่มีคูน้ำคันดินล้อมรอบมีขนาดประมาณ 800 x 1000 เมตรมีรูปร่างค่อนข้างรี ภายในเมืองเป็นเนินดินรูปลูกระนาด มีเนินขนาดใหญ่สูงประมาณ 7-10 เมตร จากพื้นที่โดยรอบอยู่ เป็นชุมชนเกษตรกรรม เป็นชุมชนที่มีอาชีพหลักในการทำเกษตรกรรม ปรางค์กู่เมืองบัว (พุทธศตวรรษที่ 18) เป็นศิลปะสมัยขอมตั้งอยู่ที่ดอนกู่ทิศเหนือและทิศใต้ ล้อมรอบด้วยสระน้ำ เป็นที่เคารพบูชาของชาวบ้าน อุโบสถที่เก่าแก่ 230-260 ปี ที่วัดปทุมคงคา',\n",
              "       'ชุมชนบ้านเมืองไพร เป็นย่านชุมชนเก่าที่มีความทรงจำ/เหตุการณ์สำคัญในอดีต/ตำนาน และเป็นชุมชนเกษตรกรรม เป็นชุมชนเกษตรกรรม ผู้คนในชุมชนประกอบอาชีพ เกษตรกรรม ซึ่งวิถีชีวิตเป็นแบบวัฒนธรรมอีสาน (ลาวล้านช้าง) ดอนปู่ตา บ้านเมืองไพร ตำบลเมืองไพร',\n",
              "       'ชุมชนเมืองเก่า เป็นย่านพาณิชยกรรมเก่า ประกอบด้วยอาคารพาณิชยกรรมลักษณะอาคารไม้ เป็นย่านพาณิชกรรมการค้าเก่าของอำเภอเสลภูมิ เรื่อยมาตั้งแต่อดีตจนถึงปัจจุบัน เป็นชุมชนการค้าขายและที่พักอาศัยของพ่อค้าเชื้อสายจีนในอดีต ปัจจุบันเริ่มมีผสมผสานของผู้ที่ทำการค้าขายและพักอาศัย มีอาคารพาณิชยกรรมเก่าอายุกว่า 60 ปี ในลักษณะอาคารไม้ความสูง 1 ชั้น และ 2 ชั้น ที่มีความโดดเด่นของรูปแบบและองค์ประกอบทางสถาปัตยกรรมเฉพาะ เช่น บานประตู ลูกกรงราวระเบียง และช่องระบายอากาศเหนือบานประตู',\n",
              "       'ชุมชนท่าม่วง เป็นชุมชนที่ตั้งอยู่ริมลำน้ำชี ตั้งอยู่บนที่ดอน พื้นที่โดยรอบชุมชนเป็นพื้นที่เกษตรกรรม ได้แก่ นาข้าวและประมง เป็นชุมชนที่พักอาศัยและเกษตรกรรมในบริเวณโดยรอบ เป็นชุมชนเกษตรกรรม ที่พักอาศัย และการค้าขาย เป็นชุมชนกลุ่มชาติพันธุ์ที่มีความโดดเด่นเรื่องภาษา และวัฒนธรรม วัดบ้านท่าม่วง/สอนอักษรธรรม (อักษรไทยน้อย)',\n",
              "       'ชุมชนบ้านสังข์ เป็นชุมชนที่มีแหล่งน้ำธรรมชาติ หลายสาย ที่เหมาะแก่การทำเกษตรกรรม เป็นชุมชนเกษตรกรรม และหัตถกรรม เป็นชุมชนเกษตรกรรม ที่พักอาศัย และการค้าขาย ภายในชุมชนมีวัดบ้านสังข์ใหญ่วราราม',\n",
              "       'ชุมชนบ้านน้ำคำ เป็นชุมชนที่ตั้งอยู่โดยรอบของโบราณสถาน มีสภาพภูมิประเทศที่เป็นที่ดอน มีคูเมืองล้อมรอบ พื้นที่โดยรอบชุมชนเป็นพื้นที่เกษตรกรรม ได้แก่ นาข้าว เป็นชุมชนเกษตรกรรม และหัตถกรรม ประชากรในชุมชนประกอบอาชีพด้านเกษตรกรรมเป็นหลัก รองลงมาเป็นรับจ้าง และค้าขาย ลักษณะสังคมภายในชุมชนยังคงเป็นไปในลักษณะของวิถีชีวิตและวัฒนธรรมแบบชนบท สภาพภูมิสัณฐานและภูมิทัศน์ของชุมชน เป็นชุมชนชนบท',\n",
              "       'ชุมชนบ้านสังข์ เป็นชุมชนที่มีแหล่งน้ำธรรมชาติหลายสายที่เหมาะแก่การทำเกษตรกรรม เป็นชุมชนเกษตรกรรม หัตถกรรม ที่พักอาศัย และการค้าขาย ภายในชุมชนมีวัดศรีรัตน และวัดบ้านคานหัก',\n",
              "       'ชุมชนธวัชดินแดง เป็นชุมชนที่มีแหล่งน้ำธรรมชาติ หลายสาย ที่เหมาะแก่การทำเกษตรกรรม เป็นชุมชนเกษตรกรรม และหัตถกรรม เป็นชุมชนเกษตรกรรม และหัตถกรรมจักสานไม้ไผ่ลายผ้าขิด ผลิตภัณฑ์ได้แก่ กระเตาะ กระติ๊บ กระเป๋า และภาชนะต่าง ๆ ภายในชุมชนมีวัดจันทราราม และวัดสันติวิหาร',\n",
              "       'ชุมชนฟืม (บ้านเขือง) เป็นชุมชนที่มีแหล่งน้ำธรรมชาติ หลายสาย ที่เหมาะแก่การทำเกษตรกรรม เป็นชุมชนเกษตรกรรม และหัตถกรรม เป็นชุมชนเกษตรกรรม และหัตถกรรมจักสานไม้ไผ่ลายผ้าขิด ผลิตภัณฑ์ได้แก่ กระเตาะ กระติ๊บ กระเป๋า และภาชนะต่าง ๆ เป็นชุมชนกลุ่มชาติพันธุ์ที่มีความโดดเด่นเรื่องภาษา และการทำหัตถกรรมจักสานไม้ไผ่',\n",
              "       'ชุมชนการค้าเก่า เป็นย่านพาณิชยกรรมเก่า ประกอบด้วยอาคารพาณิชยกรรมลักษณะอาคารไม้ 2 ชั้นและอาคารที่สร้างด้วยดิน เป็นย่านพาณิชกรรมการค้าเก่าของชุมชนเมืองกาฬสินธุ์ เรื่อยมาตั้งแต่อดีตจนถึงปัจจุบัน และอาคารเก่าบางส่วนถูกรื้อถอนและสร้างอาคารใหม่ขึ้นมาแทน เป็นชุมชนการค้าขายและที่พักอาศัย การค้าส่วนใหญ่เป็นสินค้าอุปโภค และการค้าปลีกขนาดเล็ก มีอาคารพาณิชยกรรมเก่า ลักษณะเป็นอาคารไม้ และอาคารที่สร้างด้วยดิน ความสูง 1 ชั้น และ 2 ชั้น ',\n",
              "       'ชุมชนตำบลเหนือ เป็นชุมชนชนบท ตั้งอยู่บนสภาพภูมิประเทศที่ราบลุ่มผสมที่ดอน พื้นที่โดยรอบชุมชนเป็นพื้นที่ที่เหมาะแก่การทำเกษตรกรรม เป็นชุมชนพักอาศัยกึ่งชนบท เป็นชุมชนที่มีอาชีพหลักในการทำเกษตรกรรมและการทำหมอนขิด ลักษณะสังคมภายในชุมชนยังคงเป็นไปในลักษณะของวิถีชีวิตและวัฒนธรรมแบบชนบท เป็นชุมชนที่มีวิถีชีวิตที่เรียบง่าย ใช้สิ่งที่มีในชุมชนให้เกิดประโยชน์ สามารถสร้างอาชีพและรายได้',\n",
              "       'ชุมชนบ้านดงสว่าง เป็นชุมชนชนบท ตั้งอยู่บนสภาพภูมิประเทศที่ราบลุ่มผสมที่ดอน พื้นที่โดยรอบชุมชนเป็นพื้นที่ที่เหมาะแก่การทำเกษตรกรรม เป็นชุมชนพักอาศัยกึ่งชนบท เป็นชุมชนที่มีอาชีพหลักในการทำเกษตรกรรม ลักษณะสังคมภายในชุมชนยังคงเป็นไปในลักษณะของวิถีชีวิตและวัฒนธรรมแบบชนบท เป็นชุมชนที่มีวิถีชีวิตที่เรียบง่าย ใช้สิ่งที่มีในชุมชนให้เกิดประโยชน์ สามารถสร้างอาชีพและรายได้',\n",
              "       'ชุมชนบ้านก้อม เป็นเมืองในยุคโบราณ มีคันดินล้อมรอบเป็นคูเมืองสองชั้นขนาดใหญ่ เป็นชุมชนพักอาศัยกึ่งชนบท เป็นชุมชนเกษตรกรรม ลักษณะสังคมภายในชุมชนยังคงเป็นไปในลักษณะของวิถีชีวิตและวัฒนธรรมแบบชนบท เป็นเมืองในยุคโบราณ สร้างขึ้นในราวพุทธศตวรรษที่ 12-16 ประมาณ 1,400 ปี มีพื้นที่ประมาณ 300-500 ไร่ แผนผังเมืองเป็น วงรีมี มีคันดินล้อมรอบเป็นคูเมืองสองชั้น พบร่องรอยของศาสนสถาน 14 แห่ง',\n",
              "       'ชุมชนบ้านโพน เป็นชุมชนตั้งอยู่บนสภาพภูมิประเทศที่เป็นที่ดอน พื้นที่โดยรอบชุมชนเป็นพื้นที่เกษตรกรรม เป็นชุมชนที่เป็นแหล่งท่องเที่ยวทางวัฒนธรรมชาวผู้ไทย และการทอผ้าไหม เป็นชุมชนที่ทอผ้าไหมแพรวาที่มีความงดงาม ได้รับการยกย่องว่าเป็นผ้าแพรวา ราชินีไหม เป็นสินค้าที่ช่วยสร้างเศรษฐกิจและนำชื่อเสียงมาสู่ชาวบ้านโพนอย่างมาก เป็นชุมชนกลุ่มชาติพันธุ์ที่มีความโดดเด่นเรื่องการทอผ้าไหม ภาษาและวัฒนธรรม',\n",
              "       'ชุมชนบ้านโคกโก่ง เป็นชุมชนตั้งอยู่บนสภาพภูมิประเทศที่เป็นที่ราบ พื้นที่โดยรอบชุมชนเป็นพื้นที่เกษตรกรรม เป็นชุมชนพักอาศัยกึ่งชนบท เป็นชุมชนเกษตรกรรม ที่พักอาศัย และการค้าขาย รวมถึงเป็นหมู่บ้านวัฒนธรรมท่องเที่ยวชาวผู้ไทย ลักษณะสังคมภายในชุมชนยังคงเป็นไปในลักษณะของวิถีชีวิตและวัฒนธรรมแบบชนบท เป็นชุมชนกลุ่มชาติพันธุ์ผู้ไท ที่มีความโดดเด่นเรื่องภาษา การแต่งกาย และวัฒนธรรม',\n",
              "       'ชุมชนบ้านหนองห้าง เป็นชุมชนตั้งอยู่บนสภาพภูมิประเทศที่เป็นที่ราบ พื้นที่โดยรอบชุมชนเป็นพื้นที่เกษตรกรรม มีแหล่งน้ำธรรมชาติผ่านหลายสาย ทำให้เหมาะแก่การทำเกษตรกรรม เป็นชุมชนพักอาศัยกึ่งชนบท - เป็นชุมชนเกษตรกรรม และหัตถกรรมจักรสานไม้ไผ่ลายผ้าขิด ผลิตภัณฑ์ได้แก่ กระเตาะ กระติ๊บ กระเป๋า และภาชนะต่าง ๆ ลักษณะสังคมภายในชุมชนยังคงเป็นไปในลักษณะของวิถีชีวิตและวัฒนธรรมแบบชนบท เป็นชุมชนกลุ่มชาติพันธุ์ผู้ไท ที่มีความโดดเด่นเรื่องภาษา การแต่งกาย และการทำหัตถกรรมจักรสานไม้ไผ่',\n",
              "       'ชุมชนบ้านร่องคำหมี เป็นชุมชนที่ตั้งอยู่บริเวณโดยรอบริมหนองน้ำธรรมชาติขนาดใหญ่ที่มีต้นอ้อขึ้นเป็นจำนวนมาก และพื้นที่โดยรอบชุมชนเป็นพื้นที่เกษตรกรรม ได้แก่ นาข้าว เป็นชุมชนพักอาศัยกึ่งชนบท ประชากรในชุมชนประกอบอาชีพด้านเกษตรกรรมเป็นหลัก และมีอาชีพเสริมคือการทำฝาต้นอ้อ ลักษณะสังคมภายในชุมชนยังคงเป็นไปในลักษณะของวิถีชีวิตและวัฒนธรรมแบบชนบท เป็นชุมชนที่ใช้ประโยชน์จากวัสดุในชุมชน คือต้นอ้อ โดยใช้ต้นอ้อทำงานหัตถกรรมต่างๆ เช่น ฝาต้นอ้อ ซึ่งสามารถสร้างรายได้ให้กับชุมชน',\n",
              "       'ชุมชนบ้านหนองยาง มีพื้นที่บางส่วนซ้อนทับกับชุมชนบ้านสงเปือย จึงมีสภาพพื้นที่คล้ายคลึงกัน คือ เป็นชุมชนตั้งอยู่บริเวณโดยรอบริมหนองน้ำธรรมชาติขนาดใหญ่ที่มีต้นอ้อขึ้นเป็นจำนวนมาก และพื้นที่โดยรอบชุมชนเป็นพื้นที่เกษตรกรรม ได้แก่ นาข้าว เป็นชุมชนพักอาศัยกึ่งชนบท ประชากรในชุมชนประกอบอาชีพด้านเกษตรกรรมเป็นหลัก และมีอาชีพเสริมคือการทำฝาต้นอ้อ ลักษณะสังคมภายในชุมชนยังคงเป็นไปในลักษณะของวิถีชีวิตและวัฒนธรรมแบบชนบท เป็นชุมชนที่ใช้ประโยชน์จากธรรมชาติในชุมชน คือหนองต้นอ้อ โดยใช้ต้นอ้อทำงานหัตถกรรมต่าง ๆ เช่น ฝาต้นอ้อ ซึ่งสามารถสร้างรายได้ให้กับชุมชน',\n",
              "       'ชุมชนบ้านสงเปลือย เป็นชุมชนที่อยู่ติดกับบ้านหนองยาง จึงมีลักษณะคล้ายคลึงกัน คือเป็นชุมชนตั้งอยู่บริเวณโดยรอบริมหนองน้ำธรรมชาติขนาดใหญ่ที่มีต้นอ้อขึ้นเป็นจำนวนมาก และพื้นที่โดยรอบชุมชนเป็นพื้นที่เกษตรกรรม ได้แก่ นาข้าว เป็นชุมชนพักอาศัยกึ่งชนบท ประชากรในชุมชนประกอบอาชีพด้านเกษตรกรรมเป็นหลัก และมีอาชีพเสริมคือการทำฝาต้นอ้อ ลักษณะสังคมภายในชุมชนยังคงเป็นไปในลักษณะของวิถีชีวิตและวัฒนธรรมแบบชนบท เป็นชุมชนที่ใช้ประโยชน์จากธรรมชาติในชุมชน คือหนองต้นอ้อ โดยใช้ต้นอ้อทำงานหัตถกรรมต่าง ๆ เช่นฝาต้นอ้อ ซึ่งสามารถสร้างรายได้ให้กับชุมชน',\n",
              "       'ชุมชนบ้านคำยิ่งหมี เป็นชุมชนขนาดกลางตั้งอยู่บนสภาพภูมิประเทศที่เป็นที่ดอน พื้นที่โดยรอบชุมชนเป็นพื้นที่เกษตรกรรม ได้แก่ นาข้าว เป็นชุมชนพักอาศัยกึ่งชนบท ประชากรในชุมชนประกอบอาชีพด้านเกษตรกรรมเป็นหลัก และมีอาชีพเสริมคือการทำฝาต้นอ้อ ลักษณะสังคมภายในชุมชนยังคงเป็นไปในลักษณะของวิถีชีวิตและวัฒนธรรมแบบชนบท เป็นชุมชนที่ใช้ประโยชน์จากธรรมชาติในชุมชน คือหนองต้นอ้อ โดยใช้ต้นอ้อทำงานหัตถกรรมต่าง ๆ เช่น ฝาต้นอ้อ ซึ่งสามารถสร้างรายได้ให้กับชุมชน',\n",
              "       'ชุมชนบ้านหนองสามขา ชุมชนตั้งอยู่บริเวณริมเขื่อนลำปาว มีการทำเรือนชั่วคราว หลังคามุงหญ้าแฝก เพื่อใช้เป็นที่พักอาศัยในการประกอบอาชีพประมง เป็นชุมชนพักอาศัยกึ่งชนบท ประชากรในชุมชนประกอบอาชีพประมง และด้านเกษตรกรรมเป็นหลัก ลักษณะสังคมภายในชุมชนยังคงเป็นไปในลักษณะของวิถีชีวิตและวัฒนธรรมแบบชนบท เป็นชุมชนที่ใช้ภูมิปัญญาในการทำเรือนชั่วคราว ด้วยแคร่ไม้ไผ่สำเร็จรูป มุงหลังคาหญ้าแฝก ซึ่งเหมาะสมกับลักษณะภูมิประเทศและการประกอบอาชีพ',\n",
              "       'ชุมชนย่านเมืองเก่าสกลนคร เป็นย่านพาณิชยกรรมเก่า ประกอบด้วยอาคารพาณิชยกรรมลักษณะอาคารไม้ริม 2 ฝั่งถนนใจผาสุก และบริเวณโดยรอบวัดพระธาตุเชิงชุม เป็นย่านพาณิชกรรมการค้าเก่าของชุมชนเมืองสกลนครเรื่อยมาตั้งแต่อดีตจนถึงปัจจุบัน เป็นชุมชนการค้าขายและที่พักอาศัย การค้าส่วนใหญ่เป็นสินค้าอุปโภค และการค้าปลีกขนาดเล็ก มีอาคารพาณิชยกรรมเก่า ลักษณะเป็นอาคารไม้ ความสูง 1 ชั้น และ 2 ชั้น พบจำนวนมากบริเวณถนนใจผาสุก โดยมีความโดดเด่นของรูปแบบและองค์ประกอบทางสถาปัตยกรรม',\n",
              "       'ชุมชนท่าแร่ เป็นชุมชนศาสนาคริสต์นิกายโรมันคาทอลิก ที่มีสถานที่สำคัญในการประกอบพิธีกรรมทางศาสนา ตั้งอยู่บริเวณริมฝั่งหนองหาน และเป็นชุมชนการค้า เป็นย่านพาณิชยกรรมบริเวณริมถนนนิตโย และเป็นพื้นที่ประกอบกิจกรรมทางศาสนาคริสต์นิกายโรมันคาทอริก เป็นชุมชนที่พักอาศัย และการค้าขาย การค้าส่วนใหญ่เป็นสินค้าปลีกขนาดเล็ก เป็นชุมชนกลุ่มชาติพันธุ์เวียด ที่มีอาคารเก่าอายุกว่า 100 ปี รูปแบบสถาปัตยกรรมแบบฝรั่งเศสผสมเวียดนาม ก่อสร้างแบบก่ออิฐฉาบปูน และโบสถ์ \"วัดอัครเทวดามีคาแอลท่าแร่\"',\n",
              "       'ชุมชนบ้านหนองสนม เป็นชุมชนขนาดเล็กตั้งอยู่บนสภาพภูมิประเทศที่เป็นที่ราบ พื้นที่โดยรอบชุมชนเป็นพื้นที่เกษตรกรรม ได้แก่ นาข้าว และเป็นแหล่งหินศิลาแลง เป็นชุมชนพักอาศัยกึ่งชนบท ลักษณะสังคมภายในชุมชนยังคงเป็นไปในลักษณะของวิถีชีวิตและวัฒนธรรมแบบชนบท ประชากรในชุมชนประกอบอาชีพด้านเกษตรกรรมเป็นหลัก ได้แก่ การทำนา และประกอบอาชีพเสริมคือการทำอิฐศิลาแลงส่งออกไปขายยังที่ต่าง ๆ ในภาคตะวันออกเฉียงเหนือ เป็นชุมชนชาติพันธุ์ญ้อ ที่มีความโดดเด่นในการประกอบอาชีพการทำอิฐศิลาแลง โดยการถากหินแบบแห้ง ด้วยเครื่องมือปลูกเรือน (ขวานหงอน)',\n",
              "       'ชุมชนบ้านป่าหว้าน เป็นชุมชนขนาดเล็กตั้งอยู่บนสภาพภูมิประเทศที่เป็นที่ดอน พื้นที่โดยรอบชุมชนเป็นพื้นที่เกษตรกรรม ได้แก่ นาข้าว เป็นชุมชนพักอาศัยกึ่งชนบท ลักษณะสังคมภายในชุมชนยังคงเป็นไปในลักษณะของวิถีชีวิตและวัฒนธรรมแบบชนบท ประชากรในชุมชนประกอบอาชีพด้านเกษตรกรรมเป็นหลัก ได้แก่ การทำนา เป็นชุมชนชาติพันธุ์ญ้อ ที่มีความโดดเด่นของชุมชนคือการใช้วัสดุในท้องถิ่นทำผนัง เช่น ผนังต้นหมากผ่า ผนังใบชาด และผนังไม้เฮี้ยะ',\n",
              "       'ชุมชนบ้านโนนหอม เป็นชุมชนเล็กตั้งอยู่บนสภาพภูมิประเทศที่เป็นที่ราบ พื้นที่โดยรอบชุมชนเป็นพื้นที่เกษตรกรรม ได้แก่ นาข้าว เป็นชุมชนพักอาศัยกึ่งชนบท ลักษณะสังคมภายในชุมชนยังคงเป็นไปในลักษณะของวิถีชีวิตและวัฒนธรรมแบบชนบท ประชากรในชุมชนประกอบอาชีพด้านเกษตรกรรมเป็นหลัก ได้แก่ การทำนา เป็นชุมชนชาติพันธุ์ผู้ไท ที่มีความโดดเด่นคือเป็นเรือนผู้ไทโบราณแบบดั้งเดิม มีการใช้ไม้เป็นวัสดุหลักในการก่อสร้าง หลังคามุงแป้นเกล็ด',\n",
              "       'ชุมชนไทโส้ เป็นชุมชนเมืองกึ่งชนบท ตั้งอยู่บนสภาพภูมิประเทศที่ราบลุ่มผสมที่ดอน พื้นที่โดยรอบชุมชนเป็นพื้นที่ที่เหมาะแก่การทำเกษตรกรรม เป็นชุมชนการค้าบริเวณถนนนิตโย และเป็นชุมชนที่พักอาศัยและเกษตรกรรมในบริเวณโดยรอบ เป็นชุมชนเกษตรกรรม ที่พักอาศัย และการค้าขาย เป็นชุมชนกลุ่มชาติพันธุ์ที่มีความโดดเด่นเรื่องภาษา และวัฒนธรรม เช่น ประเพณีโส้ทั่งบั้ง',\n",
              "       'ชุมชนบ้านโพธิไพศาล อ.กุสุมาลย์ เป็นชุมชนขนาดเล็กตั้งอยู่บนสภาพภูมิประเทศที่เป็นที่ราบ พื้นที่โดยรอบชุมชนเป็นพื้นที่เกษตรกรรม ได้แก่ นาข้าว เป็นชุมชนพักอาศัยกึ่งชนบท ลักษณะสังคมภายในชุมชนยังคงเป็นไปในลักษณะของวิถีชีวิตและวัฒนธรรมแบบชนบท ประชากรในชุมชนประกอบอาชีพด้านเกษตรกรรมเป็นหลัก ได้แก่ การทำนา และมีอาชีพเสริมคือการทำหลังคาหญ้าแฝกผสมกับหญ้าคา เป็นชุมชนชาติพันธุ์โส้ ที่มีความโดดเด่นคือการทำหลังคาหญ้าแฝกผสมกับหญ้าคาและการใช้ไม้ที่เกิดขึ้นเองตามธรรมชาติ',\n",
              "       'ชุมชนผู้ไท อ.พรรณานิคม เป็นชุมชนเมืองกึ่งชนบท ตั้งอยู่บนสภาพภูมิประเทศที่ราบลุ่มผสมที่ดอน พื้นที่โดยรอบชุมชนเป็นพื้นที่ที่เหมาะแก่การทำเกษตรกรรม เป็นชุมชนที่พักอาศัยและเกษตรกรรมในบริเวณโดยรอบ เป็นชุมชนเกษตรกรรม ที่พักอาศัย และการค้าขาย เป็นชุมชนกลุ่มชาติพันธุ์ที่มีความโดดเด่นเรื่องภาษา และวัฒนธรรม',\n",
              "       'ชุมชนเมือง เป็นย่านพาณิชยกรรมเก่า ประกอบด้วยอาคารพาณิชยกรรมลักษณะอาคารไม้เรียบถนนริมฝั่งโขง เป็นย่านพาณิชยกรรมการค้าเก่าของชุมชนเมืองนครพนมเรื่อยมาตั้งแต่อดีตจนถึงปัจจุบัน เป็นชุมชนการค้าขาย การค้าส่วนใหญ่เป็นสินค้าอุปโภค การค้าปลีกขนาดเล็ก และเป็นแหล่งท่องเที่ยว มีอาคารพาณิชยกรรมเก่า ลักษณะเป็นอาคารไม้ ความสูง 1 ชั้น และ 2 ชั้น พบจำนวนมากบริเวณหอนาฬิกา โดยมีความโดดเด่นของรูปแบบและองค์ประกอบทางสถาปัตยกรรม',\n",
              "       'ชุมชนเมืองเก่า บ้านหนองจันทร์ (ศรีโคตรบูรณ์) เป็นชุมชนกึ่งชนบท ตั้งอยู่ริมแม่น้ำโขง พื้นที่โดยรอบเป็นพื้นที่เกษตรกรรม เป็นชุมชนพักอาศัยกึ่งชนบท ชุมชนประกอบอาชีพเกษตรกรรมเป็นหลัก แต่มีวิถีชีวิตที่เปลี่ยนไป เนื่องจากการตัดผ่านของถนนหมายเลข 212 นครพนม มุกดาหาร ตัดผ่านชุมชนทำให้ชุมชนถูกแบ่งแยกการไปมาหาสู่ของคนในชุมชนมีความลำบากมากขึ้น พบปลูกสร้าง ทั้งสถูป พระธาตุ เจดีย์ ใบเสมา ที่น่าเชื่อว่า คือวัดและเมือง รวมถึงเป็นที่ตั้งชุมชนในอดีต',\n",
              "       'ชุมชนบ้านนาจอก (ลุงโฮ) เป็นชุมชนขนาดเล็ก ตั้งอยู่บนสภาพภูมิประเทศที่เป็นที่ดอน พื้นที่โดยรอบชุมชนเป็นพื้นที่เกษตรกรรม เป็นชุมชนพักอาศัยกึ่งชนบท และเป็นแหล่งท่องเที่ยวทางประวัติศาสตร์ เป็นหมู่บ้านเก่าแก่ที่อดีตประธานาธิบดีสาธารณรัฐสังคมนิยมเวียดนามนายโฮจิมินห์ได้เคยเข้ามาราชอาณาจักรไทย เพื่อกอบกู้เอกราชของประเทศเวียดนาม ระหว่างปี พ.ศ. 2467-2474 และได้รับการจัดตั้งให้เป็นหมู่บ้านมิตรภาพไทย-เวียดนาม',\n",
              "       'ชุมชนท่าอุเทน เป็นชุมชนที่ตั้งอยู่บริเวณโดยรอบโบราณสถานคือวัดพระธาตุท่าอุเทน และริมแม่น้ำโขง ย่านชุมชนเก่ากระจายอยู่ตามคุ้มวัดต่าง ๆ ทั้ง 11 วัด เป็นชุมชนที่พักอาศัยและเกษตรกรรมในบริเวณโดยรอบ เป็นชุมชนเกษตรกรรม การทำประมง และค้าขาย เป็นชุมชนกลุ่มชาติพันธุ์ที่มีความโดดเด่นเรื่องภาษา และวัฒนธรรม และลักษณะเป็นอาคารไม้ ความสูง 1 ชั้น และ 2 ชั้น โดยมีความโดดเด่นของรูปแบบและองค์ประกอบทางสถาปัตยกรรม รวมทั้งอาคารที่ได้รับอิทธิพลจากฝรั่งเศส',\n",
              "       'ชุมชนริมน้ำไชยบุรี เป็นชุมชนขนาดกลาง พื้นที่ส่วนใหญ่เป็นที่ราบลุ่ม เลียบตามแม่น้ำสงครามและแม่น้ำโขง เหมาะแก่การทำประมง และเกษตรกรรม เป็นชุมชนที่พักอาศัย การทำประมง และค้าขาย เป็นชุมชนทำการประมง แปรรูปในรูปแบบต่าง ๆ อาทิ ปลาส้ม ปลาแห้ง ปลาร้า ที่ทำจากปลาน้ำโขงชนิดต่างๆ เช่น ปลาคัง ปลาแข้ ปลาเนื้ออ่อน รวมถึงส้มปลาชะโด และการค้าขาย วัฒนธรรม ประเพณี และจารีตประเพณีปฏิบัติ ยังคงได้รับการสืบทอดมาถึงทุกวันนี้ เป็นเมืองโบราณเก่าแก่กว่า 200 ปี ในชื่อ \"เมืองไชยสุทธิ์อุตมบุรี\" ที่เคยอยู่ในอาณาเขตของเมืองเวียงจันทน์ในอดีต เป็นชุมชนริมน้ำที่มีความอุดมสมบูรณ์',\n",
              "       'ชุมชนบ้านนาหนองบก เป็นชุมชนขนาดเล็ก พื้นที่ส่วนใหญ่เป็นที่ราบลุ่ม เลียบตามแม่น้ำสงครามและแม่น้ำโขง เหมาะแก่การทำประมง และเกษตรกรรม เป็นชุมชนที่พักอาศัย การทำประมง และค้าขาย เป็นชุมชนทำการประมง และเกษตรกรรม ลักษณะสังคมภายในชุมชนยังคงเป็นไปในลักษณะของวิถีชีวิตและวัฒนธรรมแบบชนบท เป็นเมืองโบราณเก่าแก่กว่า 200 ปี ในชื่อ \"เมืองไชยสุทธิ์อุตมบุรี\" ที่เคยอยู่ในอาณาเขตของเมืองเวียงจันทน์ในอดีต เป็นชุมชนริมน้ำที่มีความอุดมสมบูรณ์',\n",
              "       'ชุมชนเรณูนคร เป็นชุมชนกลุ่มชาติพันธุ์ผู้ไทย ที่ตั้งอยู่โดยรอบพระธาตุเรณูนคร และบริเวณโดยรอบชุมชนเป็นพื้นที่เกษตรกรรม เป็นชุมชนที่พักอาศัยและเกษตรกรรมในบริเวณโดยรอบ เป็นชุมชนเกษตรกรรม ที่พักอาศัย และการค้าขาย เรณูนครเป็นถิ่นที่อยู่ของชาวผู้ไทย ซึ่งยังคงรักษาขนบธรรมเนียมประเพณีท้องถิ่นไว้เป็นอย่างดี อาทิ ธรรมเนียมการต้อนรับด้วยการบายศรีสู่ขวัญ การเลี้ยงอาหารแบบพาแลง การชวนดูดอุ การฟ้อนรำผู้ไทย เป็นชุมชนกลุ่มชาติพันธุ์ผู้ไท ที่มีความโดดเด่นเรื่องภาษา การแต่งกาย และวัฒนธรรม',\n",
              "       'ชุมชนธาตุพนม เป็นชุมชนที่ตั้งอยู่โดยรอบพระธาตุพนม และขยายเป็นแนวยาวตามริมฝั่งแม่น้ำโขง เป็นชุมชนที่พักอาศัย และการค้าระหว่างประเทศไทย และฝั่งลาว รวมถึงการท่องเที่ยว เป็นชุมชนการค้าและการท่องเที่ยว ถือเป็นแหล่งศูนย์รวมจิตใจของประชาชนทั้งฝั่งไทย โดยเฉพาะชาวอีสาน รวมถึงฝั่งประเทศลาว และการติดต่อค้าขายสินค้าระหว่างประเทศ ในพื้นที่ชุมชนยังไม่มีข้อกำหนดท้องถิ่น เพื่อใช้ควบคุมการก่อสร้างในเขตชุมชนเก่า และพื้นที่โบราณสถานทั้งหมดอยู่ในเขตควบคุมภายใต้กฎหมายโบราณสถาน โดยมีกรมศิลปากรเป็นผู้ดูแล',\n",
              "       'ชุมชนแหล่งเกลือโบราณบ้านศรีสงคราม เป็นพื้นที่ชนบท พื้นที่โดยรอบเป็นแหล่งเกลือไม่สามารถทำการเกษตรได้ เป็นชุมชนที่พักอาศัยกึ่งชนบท และการทำเกลือ เป็นชุมชนเกษตรกรรม และการทำเกลือ เป็นพื้นที่แหล่งโบราณคดีที่สำคัญ มีการขุดค้นพบเตาเผาโบราณ เครื่องเคลือบดินเผา ลูกปัด',\n",
              "       'ชุมชนบ้านแพง (เมืองท่า) เป็นย่านพาณิชยกรรมเก่า ประกอบด้วยอาคารพาณิชยกรรม ลักษณะอาคารไม้ เรียบถนนริมฝั่งโขง เป็นย่านพาณิชกรรมการค้าเก่าของชุมชนเทศบาลตำบลบ้านแพงเรื่อยมาตั้งแต่อดีตจนถึงปัจจุบัน เป็นชุมชนการค้าขาย การค้าส่วนใหญ่เป็นสินค้าอุปโภค การค้าปลีกขนาดเล็ก มีอาคารพาณิชยกรรมเก่า ลักษณะเป็นอาคารไม้ ความสูง 1 ชั้น และ 2 ชั้น โดยมีความโดดเด่นของรูปแบบและองค์ประกอบทางสถาปัตยกรรม',\n",
              "       'ชุมชนบ้านนาผือ เป็นชุมชนขนาดเล็กตั้งอยู่บนสภาพภูมิประเทศที่เป็นที่ราบ พื้นที่โดยรอบชุมชนเป็นพื้นที่เกษตรกรรม ได้แก่ นาข้าว เป็นชุมชนพักอาศัยกึ่งชนบท ลักษณะสังคมภายในชุมชนยังคงเป็นไปในลักษณะของวิถีชีวิตและวัฒนธรรมแบบชนบท ประชากรในชุมชนประกอบอาชีพด้านเกษตรกรรมเป็นหลัก ได้แก่ การทำนา เป็นชุมชนที่พักอาศัยของกลุ่มชาติพันธุ์ผู้ไท ซึ่งยังคงมีวิถีชีวิต วัฒนธรรมประเพณี และความเชื่อที่ยังปรากฏอยู่ในปัจจุบัน เช่น การแต่งกาย ภาษาพูด เป็นต้น และการใช้ฝาไม้เฮี้ยะ และการนำวัสดุเหลือใช้มาทำผนัง',\n",
              "       'ชุมชนบ้านจอมศรี เป็นชุมชนขนาดกลางตั้งอยู่บนสภาพภูมิประเทศที่เป็นที่ราบ พื้นที่โดยรอบชุมชนเป็นพื้นที่เกษตรกรรม ได้แก่ นาข้าว เป็นชุมชนพักอาศัยกึ่งชนบท ลักษณะสังคมภายในชุมชนยังคงเป็นไปในลักษณะของวิถีชีวิตและวัฒนธรรมแบบชนบท ประชากรในชุมชนประกอบอาชีพด้านเกษตรกรรมเป็นหลัก ได้แก่ การทำนา และมีอาชีพเสริมคือ การทำเครื่องจักรสานเปลไม้ไผ่ เป็นชุมชนที่พักอาศัยของกลุ่มชาติพันธุ์ผู้ไท ซึ่งยังคงมีวิถีชีวิต วัฒนธรรมประเพณี และความเชื่อที่ยังปรากฏอยู่ในปัจจุบัน เช่น การแต่งกาย ภาษาพูด เป็นต้น และเรือนไม้แบบดั้งเดิม ก่อสร้างด้วยการเข้าไม้ไม่ใช้ตะปู',\n",
              "       'ชุมชนบ้านนาใน เป็นชุมชนขนาดเล็กตั้งอยู่บนสภาพภูมิประเทศที่เป็นที่ราบ พื้นที่โดยรอบชุมชนเป็นพื้นที่เกษตรกรรม ได้แก่ นาข้าว เป็นชุมชนพักอาศัยกึ่งชนบท ลักษณะสังคมภายในชุมชนยังคงเป็นไปในลักษณะของวิถีชีวิตและวัฒนธรรมแบบชนบท ประชากรในชุมชนประกอบอาชีพด้านเกษตรกรรมเป็นหลัก ได้แก่ การทำนา เป็นชุมชนชาติพันธุ์ญ้อ ที่มีความโดดเด่นคือเรือนไม้และการก่อสร้างแบบดั้งเดิม ก่อสร้างด้วยการเข้าไม้ไม่ใช้ตะปู การทำผนังไม้ไผ่สับมาสาน หลังคามุงหญ้าแฝก',\n",
              "       'ชุมชนบ้านกลางจาน เป็นชุมชนขนาดเล็กตั้งอยู่บนสภาพภูมิประเทศที่เป็นที่ราบ พื้นที่โดยรอบชุมชนเป็นพื้นที่เกษตรกรรม ได้แก่ นาข้าว เป็นชุมชนพักอาศัยกึ่งชนบท ลักษณะสังคมภายในชุมชนยังคงเป็นไปในลักษณะของวิถีชีวิตและวัฒนธรรมแบบชนบท ประชากรในชุมชนประกอบอาชีพด้านเกษตรกรรมเป็นหลัก ได้แก่ การทำนา เป็นชุมชนชาติพันธุ์กะเลิง ที่มีความโดดเด่นคือเรือนไม้แบบโบราณ การใช้ไม้ไผ่สานผสมไม้จริงในการทำผนัง และการทำผนังใบชาด',\n",
              "       'ชุมชนบ้านภู อ.หนองสูง เป็นชุมชนชนบทที่มีนาข้าว ป่า และภูเขา ล้อมรอบพื้นที่ชุมชนทั้ง 3 ด้าน คือ ด้านทิศเหนือ ตะวันออก และตะวันตก ซึ่งเป็นแหล่งต้นน้ำและลำห้วยหลายสายไหลผ่านหมู่บ้าน ชุมชนพักอาศัยแบบชนบท ประชาชนในชุมชนส่วนใหญ่ประกอบอาชีพทางด้านการเกษตรเป็นหลัก ได้แก่ การทำนา รองลงมา คือ อาชีพรับจ้างและรับราชการ โดยในชุมชนมีการทำหัตถกรรมเครื่องจักสานเป็นอาชีพเสริม เพื่อเพิ่มรายได้ให้กับครอบครัว ลักษณะสังคมภายในชุมชนยังคงมีวิถีชีวิตแบบชนบทที่มีความเกี่ยวข้องกับอาชีพเกษตรกรรมและสิ่งศักดิ์สิทธิ์ในชุมชน เป็นชุมชนกลุ่มชาติพันธุ์ผู้ไทย ที่มีอัตลักษณ์โดดเด่นเรื่องวัฒนธรรม มีขนบธรรมเนียม ประเพณี และวิถีชีวิตแสดงถึงความเป็นผู้ไทที่โดดเด่น อาทิ การแต่งกายชุดผู้ไท ที่เป็นลักษณะเฉพาะของชาวผู้ไท มีภาษาพูดเป็นของตนเอง และเป็นชุมชนที่เกี่ยวกับความทรงจำทั้งในด้านการเมืองการปกครอง และการทหารในอดีต',\n",
              "       'ชุมชนบ้านหนองหล่ม อ.ดอนตาล เป็นชุมชนชนบท ตั้งอยู่บนที่ราบริมแม่น้ำโขง ต่อมาได้มีการขยายตัวของชุมชนออกจากพื้นที่ริมแม่น้ำโขง อันเนื่องมาจากการพัฒนาเส้นทางการคมนาคมทางบก และปัญหาการกัดเซาะตลิ่งริมแม่น้ำโขง พื้นที่โดยรอบชุมชนเป็นพื้นที่เกษตรกรรม ชุมชนพักอาศัยแบบชนบท ประชาชนในชุมชนส่วนใหญ่ประกอบอาชีพทางด้านการเกษตรเป็นหลัก ได้แก่ การทำนา และอาชีพรับจ้าง ลักษณะสังคมภายในชุมชนยังคงมีวิถีชีวิตแบบชนบทที่มีความเกี่ยวข้องกับอาชีพเกษตรกรรม แม่น้ำโขง และสิ่งศักดิ์สิทธิ์ในชุมชน เป็นชุมชนกลุ่มชาติพันธุ์ผู้ไท ที่มีอัตลักษณ์โดดเด่นเรื่องวัฒนธรรม ขนบธรรมเนียม ประเพณี และวิถีชีวิตแสดงถึงความเป็นผู้ไทยที่โดดเด่น อาทิ การแต่งกายชุดผู้ไทย และภาษาพูด มีลักษณะอาคารภายในชุมชน เดิมเป็นอาคารไม้ 2 ชั้น ใต้ถุนโล่ง ที่มีเอกลักษณ์แบบเรือนผู้ไท',\n",
              "       'ชุมชนบ้านสองคอน อ.หว้านใหญ่ เป็นชุมชนชนบทตั้งอยู่บนพื้นที่ราบ ทอดตัวยาวริมแม่น้ำโขง มีการเปลี่ยนแปลงกายภาพภายในชุมชนจากอดีตจนถึงปัจจุบันค่อนข้างน้อย พื้นที่โดยรอบชุมชนเป็นพื้นที่เกษตรกรรม ชุมชนพักอาศัยแบบชนบท ประชาชนส่วนใหญ่ประกอบอาชีพทางด้านการเกษตรเป็นหลัก ได้แก่ การทำนา และอาชีพรับจ้าง ลักษณะสังคมภายในชุมชนยังคงมีวิถีชีวิตแบบชนบท ชุมชนบ้านสองคอนประชาชนส่วนใหญ่นับถือศาสนาคริสต์ และที่มีความเกี่ยวข้องกับความเชื่อทางศาสนาอย่าเหนียวแน่น เกิดเป็นกิจกรรมทางทางศาสนาที่สำคัญของชุมชน เช่น กิจกรรมแห่ดาว เป็นต้น เป็นชุมชนเก่าริมแม่น้ำโขง ที่ประชาชนส่วนใหญ่มีความศรัทธาในศาสนาคริสต์ และเป็นที่ตั้งโบสถ์คริสต์นิกายโรมันคาธอลิก สร้างแบบสถาปัตยกรรมสมัยใหม่ ซึ่งใหญ่และมีความสวยงาม ได้รับรางวัลสถาปัตยกรรมดีเด่น สมาคมสถาปนิกสยาม ในพระบรมราชูปถัมภ์ ปี พ.ศ. 2539',\n",
              "       'ตลาดท่าวัง เป็นชุมชนตลาด ย่านท่าวัง แต่เดิมบริเวณแห่งนี้เคยเป็นท่าเรือโดยสารของวังเจ้าเมือง มีการตั้งถิ่นฐานของชุมชน และมีบทบาทในการเป็นย่านการค้า สินค้าอุปโภค-บริโภค มีความเก่าแก่ของเมือง ลักษณะภูมิประเทศ ตั้งอยู่บนถนนท่าวัง ต่อเนื่องจาก ถนนราชดำเนิน ซึ่งเป็นถนนสายหลักของตัวเมืองนครศรีธรรมราช ตัวอาคารเป็นตึกแถวชิโนโปรตุกีสสองชั้น ซึ่งปัจจุบันยังคงหลงเหลืออยู่เป็นจำนวนมาก ปัจจุบันย่านท่าวังยังคงมีการค้าขาย และกิจกรรมทางเศรษฐกิจอยู่ แต่การขยายตัวของเมือง และระบบการคมนาคมที่เปลี่ยนไป ทำให้เกิดความซบเซาของย่านการค้า ไม่คึกคักเหมือนในอดีต ส่วนใหญ่เป็นชาวไทยพุทธ และชาวจีน',\n",
              "       'ตลาดแขก เป็นชุมชนตลาด ความสำคัญของชุมชนแห่งนี้ คือ เป็นถิ่นฐานที่ตั้งบ้านเรือนที่เก่าแก่ของชาวมุสลิม ในจังหวัดนครศรีธรรมราช ย่านตลาดแขก ตั้งอยู่ในบริเวณรอบ ๆ สี่แยกตลาดแขก ซึ่งเป็นจุดที่ถนนราชดำเนิน ตัดกับถนนพะเนียด ในย่านชุมชนแห่งนี้ มีมัสยิดซาเมียะ เป็นมัสยิดแห่งแรกในจังหวัดนครศรีธรรมราช ปัจจุบันยังเป็นศูนย์กลางของศาสนาอิสลามในจังหวัด จากความเก่าแก่และคุณค่าของตัวอาคาร อาจถือได้ว่ามัสยิดแห่งนี้เป็นโบราณสถานที่สำคัญแห่งหนึ่ง ชุมชนมุสลิมแห่งนี้ ยังคงวิถีชีวิต และวัฒนธรรมอันดีงาม ตามความเชื่อทางศาสนาไว้อย่างเหนียวแน่น และคงสืบสานให้แก่รุ่นต่อไปอย่างเข้มแข็ง ส่วนใหญ่เป็นชาวไทยมุสลิม',\n",
              "       'ตลาดท่าม้า เป็นชุมชนตลาด และชุมชนความทรงจำ สันนิษฐานว่าแต่เดิม เป็นที่ตั้งคอกม้าของเจ้าเมืองนครศรีธรรมราช เมื่อมีการพัฒนาเมือง และการคมนาคมจนเลิกใช้ม้า บริเวณซึ่งเคยเป็นคอกม้าจึงถูกรื้อถอนออกไป และมีการก่อสร้างตัวอาคาร ตลาดสดขึ้นทดแทน ตั้งอยู่ในถนนราชดำเนิน บริเวณใกล้กับโรงเรียนชูทิพย์ศึกษา ตัวคอกม้าเดิม ไม่หลงเหลือสภาพให้เห็นในปัจจุบัน แต่ยังคงมีอาคารเรือนแถวไม้เก่าแก่ หลงเหลืออยู่ เป็นชุมชนดั้งเดิมซึ่งเคยเป็นที่พักอาศัยของข้าราชการ และชาวบ้านซึ่งอาจเคยทำงานเกี่ยวข้องกับวังเจ้าเมือง หรือเกี่ยวพันกับคอกม้า ได้มาตั้งถิ่นฐานใกล้กับบริเวณใกล้ ๆ กับคอกม้า ซึ่งไม่ห่างไกลจากวัง ทั้งนี้เมื่อคอกม้าถูกรื้อไป แต่ลูกหลานของผู้คนเหล่านี้ยังมิได้ย้ายไปไหน เมื่อมีการสร้างตลาดขึ้น จึงเกิดความเป็นย่านการค้าจนถึงในปัจจุบัน ส่วนใหญ่เป็นชาวไทยพุทธ',\n",
              "       'บ้านหมน เป็นชุมชนกลุ่มอาชีพเฉพาะ บ้านหมนเป็นชื่อเรียกย่านชุมชนเก่าแก่ ซึ่งเป็นกลุ่มหัตถกรรมจักสานย่านลิเพา อันเป็นสินค้าประจำท้องถิ่น และเป็นสินค้าที่โดดเด่นของจังหวัดนครศรีธรรมราช ชุมชนตั้งอยู่บริเวณพื้นที่สองข้างถนนทางหลวงสาย 4012 จรดกับทางหลวง 408 โดยวิ่งออกจากตัวเมืองประมาณ 5 กิโลเมตร ผ่านแยกไปปากพนัง ครอบคลุมพื้นที่บริเวณ หมู่ที่ 5 บ้านแคสูง และบ้านไร่ ตำบลท่าเรือ ย่านชุมชนเก่าแก่แห่งนี้ มีลักษณะเป็นชุมชนที่มีองค์ประกอบที่ไม่ใช่กายภาพ กล่าวคือ ลักษณะของบ้านเรือนในบริเวณนี้ไม่ได้มีความโดดเด่นหรือคุณค่าทางด้านสถาปัตยกรรม หากแต่คุณค่าอยู่ที่ วิถีชีวิต และภูมิปัญญาเก่าแก่ที่ยังคงสืบสานกันอยู่กับผู้คนในบริเวณนี้ ในปัจจุบันพบว่ามีชาวบ้านจำนวนไม่มากที่ยังสามารถประดิษฐ์ย่านลิเพาได้ และบ้านเรือนของคนเหล่านี้มิได้อยู่รวมกันเป็นกลุ่มก้อน หากแต่กระจัดกระจายอยู่ในพื้นที่บริเวณนี้ ปัจจุบันมีการจัดตั้งศูนย์ศิลปหัตถกรรมพื้นบ้านย่านลิเพาขึ้น โดยศูนย์แห่งนี้ตั้งอยู่ในบริเวณวัดบ้านหมน มีวัตถุประสงค์เพื่อการอนุรักษ์ และส่งเสริม ภูมิปัญญาแห่งย่านลิเพาให้คงอยู่ ส่วนใหญ่เป็นชาวไทยพุทธ หรือคนนครศรีธรรมราชดั้งเดิม',\n",
              "       'ตลาดขนอม เป็นชุมชนเกษตรกรรม ชุมชนริมน้ำ และชุมชนตลาด สันนิษฐานว่าเป็นการตั้งบ้านเรือนของชาวประมง ที่นิยมจอดเรือในคลองที่ออกสู่ปากอ่าว เพื่อหลบพายุ จึงมีการตั้งบ้านเรือนอยู่ใกล้กับที่จอดเรือ ต่อมาจึงเกิดการยกระดับเป็นหมู่บ้าน ชุมชนตั้งอยู่บริเวณใกล้กับปากน้ำขนอม แต่บริเวณที่ตั้งของตลาดและชุมชนแห่งนี้ กลับตั้งอยู่ห่างจากชายฝั่งทะเลเข้ามาตามลำคลอง ประมาณ 20 กิโลเมตร สภาพบ้านเรือนในชุมชน บริเวณริมถนนใหญ่ ซึ่งเป็นย่านตลาด มีลักษณะเป็นเรือนแถวไม้สองชั้น ส่วนบ้านพักที่อยู่ในบริเวณใกล้เคียง มีลักษณะเป็นเรือนยกใต้ถุน มุงสังกะสี ฝาไม้ เมื่อมีผู้คนมากขึ้น การประมงและการค้าขายเติบโตขึ้น จึงพัฒนาเป็นตลาดกลางค้าขายสินค้าในพื้นที่และบริเวณใกล้เคียง ปัจจุบันชุมชนยังมีวิถีชิวิตและลักษณะการหาปลาแบบประมงเรือเล็กหลงเหลืออยู่ สังเกตจากเรือและวิธีการจับปลา ส่วนความเป็นย่านตลาดมีความสำคัญลดลง เนื่องจากมีถนนการคมนาคมทางบกที่ดีขึ้นมาก ส่วนใหญ่เป็นชาวไทยพุทธพื้นเมือง',\n",
              "       'ปากน้ำสิชล เป็นชุมชนตลาด และชุมชนริมน้ำ ชุมชนปากน้ำสิชล แต่เดิมเป็นหมู่บ้านชาวประมงเล็ก ๆ ทำอาชีพประมงเรือเล็ก ตั้งอยู่บริเวณริมฝั่งแม่น้ำใกล้กับบริเวณปากน้ำสิชล โดยชุมชนดั้งเดิมตั้งอยู่บริเวณทิศใต้ของแม่น้ำ และมีชุมชนใหม่ขยายตัวออกไปบริเวณทิศเหนือของแม่น้ำ ในบริเวณฝั่งตรงข้าม บ้านพักอาศัยแบบดั้งเดิมในชุมชน มีลักษณะเป็นเรือนแถวไม้ชั้นเดียว สร้างอยู่สองข้างถนน ในปัจจุบันบ้านส่วนมากไม่มีคนพักอาศัย จึงอยู่ในสภาพเสื่อมโทรมมาก เมื่อธุรกิจประมงมีการขยายตัวอย่างมาก มีการสร้างห้องเย็นและสะพานปลาในพื้นที่ ทำให้มีการขยายพื้นที่ สะพานปลา ห้องเย็น และท่าเทียบเรือ ไปอยู่ริมแม่น้ำบริเวณทิศเหนือในฝั่งตรงข้ามกับชุมชนดั้งเดิม ประกอบกับการเปลี่ยนแปลงวิธีการหาปลาโดยใช้เทคโนโลยีสมัยใหม่ เรือจับปลาลำใหญ่ขึ้น และมีแรงงานเข้ามาทำงานมากขึ้น ทำให้ชุมชนส่วนขยายมีลักษณะเป็นชุมชนแออัดริมน้ำเป็นที่พักของแรงงาน ปัจจุบันพื้นที่ซึ่งเคยเป็นที่ตั้งของชุมชนดั้งเดิม ซึ่งมีลักษณะคับแคบ จึงเป็นเพียงที่พักของคนพื้นที่ดั้งเดิม หลงเหลือเพียงห้องแถวไม้เก่าแก่ และบ้านไม้ อยู่ไม่กี่แถว ส่วนใหญ่เป็นชาวไทยพุทธ พื้นเมือง',\n",
              "       'ตลาดปากพนัง เป็นชุมชนตลาด และชุมชนริมน้ำ ตลาดแห่งนี้เป็นศูนย์กลางการค้าขาย สินค้าประมง และสินค้าจากแดนไกล โดยเป็นทั้งตลาดกลางการแลกเปลี่ยนสินค้า และชุมทางการเดินทางจากทะเลสู่แผ่นดินใหญ่ มายาวนานมากกว่า 100 ปี ชุมชนตั้งอยู่บริเวณฝั่งทิศตะวันออกของแม่น้ำปากพนัง บริเวณไม่ห่างไกลจากปากแม่น้ำปากพนัง ในพื้นที่รอบ ๆ ตลาดปากพนัง มีอาคารเก่าแก่อยู่มากมาย เช่น อาคารตึกแถว ชิโนโปรตุกีส เรือนแถวไม้ชั้นเดียว เรือนแถวไม้สองชั้น และบ้านไม้ที่สร้างเป็นห้องแถวชุด ปัจจุบันตัวตลาดปากพนังยังคงความสำคัญไม่ต่างไปจากในอดีต หากแต่มีกิจการบ้านนกนางแอ่น เข้ามาในบริเวณตลาด และพื้นที่ใกล้เคียงกัน ในช่วงระยะเวลา 10 กว่าปีมานี้ ธุรกิจบ้านนกมีการขยายตัวออกไปอย่างมาก และได้มีการเปลี่ยนแปลงอาคารเก่า รวมถึงการสร้างอาคารใหม่ เพื่อใช้เป็นบ้านนกอย่างมากมาย จนอาจกล่าวได้ว่าพื้นที่ปากพนังแห่งนี้เป็นย่านบ้านนกนางแอ่นที่ใหญ่ที่สุดในประเทศไทยก็ว่าได้  ลักษณะเช่นนี้มีผลต่อภูมิทัศน์ทางวัฒนธรรม และผลกระทบด้านสิ่งแวดล้อมเป็นอย่างมาก ส่วนใหญ่เป็นชาวไทยพุทธ ไทยมุสลิม และชาวจีน ซึ่งเป็นคนดั้งเดิมในพื้นที่ และผู้ใช้แรงงานบางส่วนที่เข้ามาทำมาหากิน รวมทั้งแรงงานต่างด้าวจากหลายประเทศ',\n",
              "       'ตลาดปากเชียร (ตลาดออก-ตลาดตก) เป็นชุมชนตลาด และชุมชนริมน้ำ ตลาดปากเชียรแต่เดิมเป็นท่าเรือที่แลกเปลี่ยนสินค้า จากเรือประมงจากตลาดปากพนัง เพื่อส่งสินค้าไปตามคูคลองสายต่าง ๆ ชุมชนตั้งอยู่บริเวณแม่น้ำปากพนัง เป็นย่านตลาดเก่าเล็ก ๆ ที่ขยายตัวไปตามแนวแม่น้ำปากพนัง สิ่งก่อสร้างสร้างอยู่ริมแม่น้ำ หันหน้าเข้าสู่ถนนเลียบแม่น้ำ ต่อมามีการสร้างตึกแถวบริเวณ ฝั่งตรงข้าม หันหน้าเข้าหาถนน โดยมีท่าเรือเป็นศูนย์กลางของพื้นที่ เมื่อมีการสร้างตึกแถวไม้ขนานแนวถนน แผ่ขยายยาวออกไปเรื่อย ๆ ทำให้ตัวตลาดขยายตัวไปทางด้านยาวมากขึ้น จนสุดท้ายมีการแบ่งแยกตลาดออกเป็นสองส่วน โดยมีท่าเรือเป็นศูนย์ เรียกว่า ตลาดออก - ตลาดตก หมายถึง ตลาดด้านทิศตะวันออก และด้านทิศตะวันตก ปัจจุบันการพัฒนาด้านการคมนาคมทางบก และการตัดถนนใหม่ ๆ ทำให้การขนส่งสินค้าทางเรือลดบทบาทลงไปอย่างมาก ตลาดปากเชียรจึงถูกลดบทบาทลง เหลือเพียงมีบทบาทในแง่ของการเป็นตลาดการค้าในท้องถิ่นเท่านั้น ส่วนใหญ่เป็นชาวไทยพุทธดั้งเดิมในพื้นที่',\n",
              "       'ตลาดปากแพรก เป็นชุมชนตลาด ชุมชนกลุ่มอาชีพเฉพาะ และชุมชนโดยรอบทางรถไฟ แต่เดิมอำเภอทุ่งสง โดยเฉพาะสถานีรถไฟทุ่งสง ถือได้ว่าเป็นศูนย์กลางการคมนาคมที่สำคัญแห่งหนึ่งในภาคใต้ เนื่องจากเป็นทางแยกของการเดินทางจากฝั่งตะวันตกไปฝั่งตะวันออก แม้ว่าต่อจะมามีการตัดถนน แต่อำเภอทุ่งสงยังคงเป็นทางแยกสำหรับการเดินทางทางบก ชุมชนตั้งอยู่บนถนนเพชรเกษม ใกล้กับสถานีรถไฟทุ่งสง สิ่งก่อสร้างต่าง ๆ มีลักษณะเป็นอาคารเรือนแถวชั้นเดียวและสองชั้น สร้างเป็นกลุ่มอาคารขยายตัวออกมาทางด้านถนนเพชรเกษม ตลาดปากแพรก เป็นตลาดกลางที่ตั้งขึ้นรองรับศูนย์กลางการคมนาคม ปัจจุบันบริเวณซึ่งเป็นที่ตั้งของตลาดปากแพรกเดิม ยังคงหลงเหลือสิ่งก่อสร้าง และกิจกรรมการค้าขายให้เห็นอยู่บางส่วน ส่วนใหญ่เป็นชาวไทยพุทธดั้งเดิมในพื้นที่',\n",
              "       'เกาะกลาง เป็นชุมชนเกษตรกรรม และชุมชนริมน้ำ สันนิษฐานว่า เข้ามาตั้งถิ่นฐานในบริเวณนี้มานานเกือบ 100 ปี แต่เดิมประกอบอาชีพประมง ออกทะเลหาสัตว์น้ำในบริเวณใกล้ ๆ และทำสวนบริเวณผืนดินด้านใน เป็นหมู่บ้านริมน้ำตั้งอยู่ริมคลองประสงค์ ซึ่งเป็นคลองแยกจากบริเวณปากแม่น้ำกระบี่ พื้นที่ตั้งของหมู่บ้านประกอบด้วยบ้านเรือนแบบเรือนชนบท เป็นเรือนชั้นเดียว ยกใต้ถุนสูง มีชานใช้ทำกิจกรรมในเวลากลางวัน และมีท่าเรือทุกหลัง ชาวบ้านในชุมชนส่วนมากเป็นชาวมุสลิม ประกอบอาชีพเกษตรกรรมที่หลากหลาย โดยยังใช้วิธีทำการเกษตรแบบพึ่งพาธรรมชาติเป็นหลัก ได้แก่ ประมงเรือเล็ก การวางอวนโป๊ะน้ำตื้น และการเลี้ยงปลาในกระชัง นอกจากนี้ยังมีการทำนาข้าวสังข์หยด ในบริเวณพื้นที่ดอนห่างจากริมน้ำเข้าไป  ผลิตภัณฑ์ชุมชนที่ได้จากธรรมชาติ เช่น การสักหอย การทำเรือหัวโทง การทำผ้าปาเต๊ะ ชาวบ้านในชุมชนส่วนมากเป็นชาวมุสลิม  ซึ่งมีเอกลักษณ์ที่โดดเด่น คือ วิถีชีวิตและวัฒนธรรมของชุมชนมุสลิมที่รักสันติ สงบ และเรียบง่าย มิตรภาพและน้ำใจไมตรีของผู้คน',\n",
              "       'แหลมตง เป็นชุมชนริมน้ำ และชุมชนชาติพันธุ์ของชาวเล ที่อพยพมาจากหลายเผ่า เช่น ชาวเลสิงห์ อูรักลาโว๊ย และมอร์เกน โดยเมื่อมาอยู่รวมกันก็ได้มีการแต่งงานข้ามเผ่า และรวมกันเป็นหมู่บ้านแหลมตงแห่งนี้จนถึงปัจจุบัน จากคำบอกเล่าทราบว่าชุมชนชาวเลแห่งนี้เข้ามาตั้งถิ่นฐานอยู่บนเกาะพีพี ตั้งแต่สมัยที่ยังไม่มีผู้คนนิยมเข้ามาท่องเที่ยว แต่เดิมเป็นหมู่บ้านชาวประมงเล็ก ๆ อยู่ริมทะเล โดยตั้งอยู่บริเวณแหลมด้านทิศเหนือของเกาะพีพี ไม่ปรากฏลักษณะบ้านแบบเรือนพักชาวเลดั้งเดิม ปัจจุบันพบแต่เพียงเรือนพัก ยกใต้ถุนไม่สูงมาก มุงหลังคาสังกะสี และตีฝาไม้อัด หรือวัสดุทั่วไปที่พอหาได้ ชาวเลส่วนมาก มีความเชื่อในเทพเจ้าประจำศาล โดยยึดถือเป็นที่พึ่งทางใจ  ยกย่องนับถือโต๊ะเป็นผู้นำประจำชุมชน และเป็นที่ปรึกษาด้านพิธีกรรม ส่วนมากจะมีการสร้างศาลประจำหมู่บ้าน เป็นที่ประกอบพิธีกรรม และแก้บนต่าง ๆ เมื่อเริ่มมีกลุ่มนายทุนอพยพมาจากสตูล และพวกมุสลิมอพยพมาจาก เกาะยาว เข้ามาตั้งบ้านเรือนและทำกิจการบนเกาะพีพี ทำให้ชาวเลต้องตกอยู่ภายใต้ระบบทุน ประกอบกับการไม่ได้รับรองสัญชาติ ยิ่งทำให้ถูกกดขี่ และเอารัดเอาเปรียบจากสังคมมาจนถึงทุกวันนี้',\n",
              "       'ศรีรายา เป็นชุมชนตลาด และชุมชนริมน้ำ แต่เดิมเป็นท่าเทียบเรือสินค้า ที่มาจอดหลบพายุ และเป็นศูนย์กลางการค้าในย่านนี้  มีการติดต่อกับมลายู อินเดีย และจีน ได้มีการก่อสร้างที่ว่าการอำเภอเกาะลันตาขึ้น เป็นอาคารโคโรเนียลสไตล์ เพื่อเป็นศูนย์กลางการปกครอง โดยชุมชนตั้งอยู่ริมทะเล บริเวณท่าเรือ หน้าที่ว่าการอำเภอเกาะลันตา (เก่า) บ้านเรือน มีลักษณะเรือนแถวไม้ สองข้างถนน เป็นย่านการค้าขาย ตัวอาคารหันหน้าเข้าหาถนนศรีรายา และมีการต่อเติมตัวบ้านออกไปในทะเล เป็นที่มาของชื่อ บ้านยาวศรีรายาเป็นชุมชนย่านการค้า ต่อมามีชาวเลมุสลิม ตั้งถิ่นฐานเป็นหมู่บ้านชาวประมงอยู่ข้างเคียง ชื่อ ชุมชนหัวแหลม โดยมีกิจกรรมทางสังคมที่สัมพันธ์กัน ทั้งชาวไทย ชาวจีน และชาวมุสลิม แต่ในปัจจุบันกระแสการท่องเที่ยวเชิงนิเวศกำลังได้รับความนิยม  จึงทำให้มีกลุ่มนายทุนทั้งจากภายนอกและภายในชุมชนเอง ได้ทำการดัดแปลงบ้านยาว เป็น GUESTHOUSE เพื่อรับนักท่องเที่ยว ส่วนใหญ่เป็นชาวไทยเชื้อสายจีน ชาวไทยมุสลิม และชาวไทยพุทธ',\n",
              "       'สังกาอู้ เป็นชุมชนริมน้ำ และชุมชนชาติพันธุ์ของชาวเล เผ่าฮูลักลาโว้ย จากความทรงจำของคนในหมู่บ้าน ชาวเล ฮูลักลาโว้ย เข้ามาตั้งบ้านเรือนในบริเวณหมู่บ้านสังกาอู้ แห่งนี้มาเป็นระยะเวลามากกว่า 50 ปี หมู่บ้านสังกาอู้ อยู่บริเวณริมทะเลด้านทิศตะวันออกของเกาะลันตาใหญ่ ใกล้กับบริเวณซึ่งเป็นที่จอดเรือหลบพายุ และอยู่ไม่ไกลจากที่ว่าการอำเภอเกาะลันตา มักจะตั้งอยู่ริมทะเล ใกล้กับที่จอดเรือ เพื่อที่จะออกเรือจับปลาได้ง่าย บ้านเรือนในหมู่บ้านสังกาอู้มีการก่อสร้างในลักษณะของเรือนไม้พื้นบ้าน ซึ่งเป็นบ้านเรือนถาวรแบบทั่วๆ ไป ไม่ได้เป็นเรือนเครื่องผูกแบบหมู่บ้านโต๊ะบาหลิว หมู่บ้านชาวเลแห่งนี้ยังคงมีวิถีชีวิต และธรรมเนียมประเพณี ตามอย่างชาวเลดั้งเดิมอยู่อย่างครบถ้วน เช่น พิธีนอนหาด พิธีลอยเรือน และยังมีการสร้างหลาโต๊ะประจำหมู่บ้านไว้ หลังจากเหตุการณ์ธรณีภิบัติสึนามิ ทำให้ทางราชการมีแผนการย้ายชุมชนแห่งนี้จากพื้นที่เดิม โดยมีความคาดหวังจากกลุ่มนายทุนเอกชน ในการก่อสร้างรีสอร์ทในบริเวณนี้ ทดแทนพื้นที่หมู่บ้านที่จะต้องถูกย้ายออกไป',\n",
              "       'ในไร่ คลองดาว เป็นชุมชนชาติพันธุ์ของชาวชาวเล เผ่าฮูลักลาโว้ย สันนิษฐานว่าชาวเล เผ่าฮูลักลาโว้ย เข้ามาตั้งบ้านเรือน ในบริเวณที่เป็นหมู่บ้านในไร่ คลองดาวแห่งนี้มามากกว่า 50 ปี เนื่องจากมีสุสาน ที่สามารถไล่ลำดับวงศ์ตระกูลได้ หมู่บ้านในไร่ คลองดาว อยู่ใกล้กับชายหาดด้านทิศตะวันตกของเกาะลันตาใหญ่ เป็นชุมชนชาวเลที่ตั้งบ้านเรือนถอยร่นขึ้นไปบนบก ไม่ได้อยู่ริมทะเล ลักษณะบ้านพักของชาวเลในหมู่บ้านนี้ ลักษณะบ้านเรือนของบ้านในไร่คลองดาว มีลักษณะเป็นบ้านกึ่งถาวรทั่วไป  มีการใช้วัสดุที่หาได้ง่ายในท้องถิ่น เช่น ฝาไม้ไผ่สาน ไม้เนื้อแข็ง สังกะสี มีลักษณะคล้ายกับชาวมอร์แกน (ชาวเลขึ้นบก) ซึ่งชาวบ้านในหมู่บ้านบางส่วนยังมีการออกเรือหาปลา และมีที่จอดเรืออยู่ไม่ไกลจากหมู่บ้าน ส่วนชาวบ้านอีกส่วนหนึ่ง เปลี่ยนวิถีชิวิตมาทำงานทั่วไป รับจ้าง ค้าขาย หากแต่ชาวเล ยังคงขนบธรรมเนียม และประเพณีดั้งเดิมไว้อย่างเหนียวแน่น และมีการสร้างเปลว (สุสาน) ไว้ในบริเวณที่ไม่ห่างจากหมู่บ้าน',\n",
              "       'โต๊ะบาหลิว เป็นชุมชนริมน้ำ และชุมชนชาติพันธุ์ของชาวเล เผ่าฮูลักลาโว้ย สันนิษฐานว่า เข้ามาตั้งถิ่นฐานในบริเวณพื้นที่แห่งนี้มากกว่า 80 ปี หมู่บ้านโต๊ะบาหลิว อยู่บริเวณริมทะเลด้านทิศตะวันตกของเกาะลันตาใหญ่ ซึ่งเป็นด้านตรงข้ามกับที่จอดเรือหลบพายุ  ซึ่งชาวเลจำเป็นต้องตั้งบ้านเรือนอยู่ใกล้กับจุดที่ออกจับปลาได้ง่าย หมู่บ้านโต๊ะบาหลิวแห่งนี้ยังคงหลงเหลือรูปแบบของบ้านชาวเลดั้งเดิมไว้อย่างชัดเจน อีกทั้งยังมีแนวป่าชายเลน ขนาบอยู่หลังหมู่บ้าน  ชาวบ้านจึงมีการสร้างสะพานข้ามคลอง (ป่าชายเลน) ซึ่งมีลักษณะเป็นสะพานชาวเล ทำด้วยไม้ไผ่ทั้งหมด ชาวเลบ้านโต๊ะบาหลิวดำรงชีวิตด้วยการออกเรือหาปลา ซึ่งเป็นอาชีพหลักของหมู่บ้านปัจจุบันความเจริญของการท่องเที่ยวเริ่มรุกเข้ามาใกล้ชุมชนแห่งนี้เป็นอย่างมาก มีการสร้างท่าแพขนานยนต์ ไม่ไกลจากหมู่บ้าน และย่านชุมชนการค้าของนักท่องเที่ยวมีการขยายตัวเข้ามาใกล้หมู่บ้านมากขึ้น ทุกวันนี้ชาวบ้านสังกาอู้บางส่วนทำอาชีพรับจ้างทั่วไป ก่อสร้าง และลูกจ้างร้านอาหาร',\n",
              "       'เกาะจำ เป็นชุมชนเกษตรกรรม และชุมชนริมน้ำ สันนิษฐานว่า เข้ามาตั้งถิ่นฐานในบริเวณนี้มานานเกือบ 100 ปี โดยตั้งอยู่ในพื้นที่หมู่ 3 ตำบลเกาะศรีบอยา เกาะจำมีชื่อเรียกอีกชื่อหนึ่งว่า เกาะปู ภูมิประเทศเป็นผืนดินที่มีน้ำล้อมรอบ แต่เดิมเป็นชายฝั่ง แต่แม่น้ำ คูคลอง ทำให้ผืนดินแยกออกจากฝั่ง มีลักษณะคล้ายเกาะ ตั้งอยู่ถัดจากเกาะศรีบอยา ออกมาทางฝั่งทะเลอันดามัน บ้านพักอาศัยในหมู่บ้านเกาะจำ ส่วนมากเป็นเรือนรูปแบบเรือนชนบทของท้องถิ่นภาคใต้ เป็นเรือนไม้ชั้นเดียว ยกใต้ถุน ฝาไม้ หลังคามุงสังกะสี มีระเบียงภายนอก เชื่อมต่อกับท่อเรือของแต่ละบ้าน ส่วนใหญ่ประกอบอาชีพประมงชายฝั่ง โดยใช้เรือขนาดเล็กออกจับสัตว์ในแม่น้ำ และออกทะเลไม่ไกลจากฝั่งมากนัก นอกจากนี้ยังมีการเลี้ยงปลาในกระชัง และบริเวณห่างจากริมน้ำเข้าไปมีการทำสวนเกษตรบ้าง ชุมชนมีวิถีชีวิตแบบเรียบง่าย \\nทั้งวัฒนธรรมไทยพุทธ และไทยมุสลิม อยู่รวมกันอย่างกลมเกลียว ปัจจุบันทาง อบต.คลองประสงค์ มีโครงการส่งเสริมการท่องเที่ยวเชิงนิเวศ พร้อมกับการอนุรักษ์ชุมชนวิถีธรรมชาติแห่งนี้ให้คงอยู่ และเป็นแหล่งเรียนรู้แก่นักท่องเที่ยวชาวบ้านในชุมชนประกอบด้วย ชาวพุทธ และชาวมุสลิม อาศัยอยู่รวมกัน',\n",
              "       'นาหลวง เป็นชุมชนเกษตรกรรม ชุมชนริมน้ำ และชุมชนความทรงจำ ที่ตั้งชุมชนบ้านนาหลวงแห่งนี้เป็นพื้นที่ประวัติศาสตร์ที่เกี่ยวข้องกับการสร้างเมืองกระบี่ในสมัยโบราณ โดยชื่อ \"นาหลวง\" มาจากการที่เป็นพื้นที่ปลูกข้าว ซึ่งทางราชการจัดไว้ให้ทำนา แสดงถึงประวัติศาสตร์ความเก่าแก่ และความอุดมสมบูรณ์ของพื้นที่ ชุมชนตั้งอยู่ในพื้นที่ ตำบลปกาสัย ใกล้กับโรงไฟฟ้าจังหวัดกระบี่ บ้านพักอาศัย ส่วนมากเป็นเรือนรูปแบบเรือนชนบทของท้องถิ่นภาคใต้ เป็นเรือนไม้ชั้นเดียว ยกใต้ถุน ฝาไม้ หลังคามุงสังกะสี มีระเบียงภายนอก เชื่อมต่อกับท่าเรือของแต่ละบ้าน ปัจจุบันตัวเมืองกระบี่มีการพัฒนาขึ้นมาก ประกอบกับมีการพัฒนาถนน เส้นทางการคมนาคมใหม่ ๆ ทำให้พื้นที่แห่งนี้คงหลงเหลือเป็นเพียงพื้นที่ประวัติศาสตร์ตัวแทนของความทรงจำในอดีต และหมู่บ้านชนบทที่ยังทำอาชีพเกษตรกรรม และทำประมงในคลองเล็กๆ หลังจากมีการสร้างโรงไฟฟ้ากระบี่ขึ้นที่อำเภอเหนือคลอง ซึ่งที่ตั้งอยู่ไม่ห่างไกลจากที่ตั้งชุมชน และมีแผนในการขยายโรงไฟฟ้าจากเดิม จึงเกิดกระแสการคัดค้าน และกลายเป็นความขัดแย้งระหว่างภาครัฐ และชุมชนมาจนถึงปัจจุบัน ส่วนใหญ่เป็นชาวไทยพุทธ และไทยมุสลิม อาศัยอยู่รวมกันในหมู่บ้าน',\n",
              "       'เกาะปันหยี เป็นชุมชนริมน้ำ และชุมชนกลุ่มอาชีพเฉพาะ ชุมชนเกาะปันหยี แต่เดิมเป็นหมู่บ้านชาวประมงเล็ก ๆ ที่เป็นชาวมุสลิมทั้งหมู่บ้าน ตั้งบ้านเรือนอยู่บนแพ ซึ่งผูกติดกับริมฝั่งของตัวเกาะปันหยี ชุมชนตั้งอยู่บริเวณปากแม่น้ำ ด้านทิศใต้ของ อำเภอตะกั่วทุ่ง แต่เดิมบ้านเรือนในชุมชน เป็นบ้านไม้ ปักเสาลงในน้ำ ต่อมาเมื่อมีประชากรมากขึ้น ประกอบกับรูปแบบบ้านที่สามารถสร้างอยู่บนน้ำทะเลได้อย่างดี จึงมีการขยายตัวออกไปในทะเลอีกมาก นอกจากนี้ยังมีการสร้างบาราย (มัสยิดย่อย) ขึ้นบริเวณกลางหมู่บ้าน ชาวบ้านเกือบทั้งหมดทำอาชีพประมง ออกเรือหาปลา และเลี้ยงปลาในกระชัง ปัจจุบันจากภาวะการท่องเที่ยวที่พัฒนาอย่างรวดเร็ว ทำให้เกาะปันหยีมีรายได้จากการท่องเที่ยวเพิ่มขึ้นมาก มีการสร้างสาธารณูปโภคต่าง ๆ เพิ่มขึ้น แต่ชาวบ้านในหมู่บ้านก็ยังรักษาวิถีชีวิตแบบมุสลิมไว้อย่างเหนียวแน่น และพยายามคงไว้ซึ่งเอกลักษณ์ของชุมชนแบบดั้งเดิมไว้ด้วย ผู้คนในชุมชนส่วนมากเป็นชาวไทยมุสลิม มีชาวไทยพุทธเพียงเล็กน้อย',\n",
              "       'ตลาดใหญ่ เมืองตะกั่วป่า เป็นชุมชนตลาด เป็นศูนย์กลางการค้า และชุมชนทางการคมนาคม บนเส้นทาง ภูเก็ต-ท้ายเหมือง-ตะกั่วป่า  ซึ่งถือได้ว่าเป็นศูนย์กลางการค้าในยุคเหมืองแร่ตะกั่วป่า ชุมชนตั้งอยู่บริเวณทิศตะวันออกของตัวเมืองตะกั่วป่าในปัจจุบัน ลักษณะบ้านเรือนดั้งเดิม เป็นอาคารรูปแบบชิโนโปรตุกีส ที่มีรูปแบบคล้ายกับในตัวเมืองภูเก็ต  ซึ่งคาดว่าน่าจะสร้างในยุคสมัยใกล้เคียงกันหลังจากการยกเลิกสัมปทานการทำเหมืองแร่ (บก) ทำให้การค้าขายในย่านนี้ซบเซาลงเป็นอย่างมาก และย่านตลาดแห่งนี้ก็ค่อย ๆ หมดความสำคัญลงไป อีกทั้งการสร้างศูนย์ราชการ และย่านเมืองใหม่ตะกั่วป่าขึ้นในบริเวณริมถนนเพชรเกษม ทำให้ย่านตลาดนี้ลดความสำคัญลง เป็นเพียงย่านชุมชนพักอาศัยเก่าแก่ ที่ยังคงหลงเหลือสถาปัตยกรรมที่สวยงานในอดีตไว้อย่างมาก ปัจจุบันชาวชุมชนแห่งนี้มีความพยายามในการฟื้นฟูชุมชน โดยการจัดกิจกรรมที่สอดคล้องกับประเพณีดั้งเดิม เช่น งานกินเจ เพื่อเป็นการอนุรักษ์ชุมชนให้คงอยู่ต่อไป ผู้คนในชุมชนส่วนใหญ่เป็นชาวจีน ชาวไทยพุทธ ที่มาทำมาหากิน และค้าขายมาตั้งแต่สมัยยุคเหมืองแร่',\n",
              "       'ทับตะวัน เป็นชุมชนชาติพันธุ์ของชาวเล เผ่ามอร์แกน จากคำบอกเล่าของชาวบ้านในชุมชน กล่าวว่า กว่า 50 ปีที่แล้ว มีชาวมอร์แกนได้ล่องเรือมาจากเกาะสุรินทร์ ได้มาปักหลักจอดเรือ และสร้างบ้านเรือน จนกลายเป็นหมู่บ้านทุกวันนี้ ที่ตั้งของหมู่บ้านแห่งนี้ อยู่ไม่ไกลจากชายหาด และบริเวณที่จอดเรือหลบพายุ หลังจากเหตุการณ์ธรณีพิบัติภัยคลื่นยักษ์สึนามิ ทำให้หมู่บ้านทับตะวันได้รับความเสียหายเกือบทั้งหมด เมื่อมีการสร้างชุมชนขึ้นใหม่ มีความพยายามสร้างตัวบ้านพักอาศัยให้มีลักษณะใกล้เคียงกับบ้านแบบดั้งเดิม นอกจากนี้ความสามารถเชิงช่างไม้ของคนในหมู่บ้าน ยังถูกดัดแปลงมาเป็นองค์ประกอบของอาคาร เช่น ราวระเบียงไม้ ทำให้เกิดเป็นเอกลักษณ์ของหมู่บ้าน เป็นหมู่บ้านของชาวมอร์แกนที่มีลักษณะผสมผสาน ประกอบด้วย ชาวเลที่ยังออกเรือหาปลา และชาวเลที่เลิกออกเรือ เปลี่ยนอาชีพไปแล้ว ลักษณะเด่นของชุมชนมอร์แกนเห่งนี้ คือ เป็นหมู่บ้านที่มีฝีมือด้านการต่อเรือ และงานช่างไม้ จนมีการสร้างอู่ต่อเรือ สำหรับสร้างและซ่อมแซมเรือในหมู่บ้าน โดยอู่ต่อเรือตั้งอยู่บริเวณขุมน้ำที่ลัดออกทะเลได้',\n",
              "       'ทุ่งหว้า เป็นชุมชนชาติพันธุ์ของชาวมอร์แกน (ชาวเลขึ้นบก) ที่เข้ามาตั้งบ้านเรือนในบริเวณนี้เป็นกลุ่มแรก สันนิษฐานว่า ล่องเรือมาจากเกาะสุรินทร์ ได้เข้ามาจอดเรือเพื่อหลบพายุในบริเวณนี้ และได้สร้างบ้านเรือนพักอาศัยขึ้นบริเวณใกล้กับชายฝั่ง ต่อมาจึงได้มีการย้ายหมู่บ้านถอยร่นเข้ามาเรื่อย ๆ จนหมู่บ้านมีขนาดใหญ่ขึ้น ชุมชนตั้งอยู่ทางด้านทิศตะวันออก ห่างจากชายฝั่งทะเลของหาดคึกคักเข้ามาด้านถนนเพชรเกษม รูปแบบของบ้านมีการสร้างในลักษณะบ้านกึ่งชั่วคราว เป็นบ้านชั้นเดียว ยกใต้ถุนไม่สูงมาก เน้นการใช้วัสดุที่หาง่ายในท้องถิ่น เช่น ไม้เนื้อแข็ง ไม้มะพร้าว ฝาไม้ไผ่สาน สังกะสี วิถีชีวิตของชาวมอร์แกน มีบางส่วนยังคงออกทะเลหาปลา และบางส่วนเลิกออกทะเล เปลี่ยนมาทำอาชีพรีบจ้าง ค้าขาย หาของเก่า กรรมกรก่อสร้าง แต่ชาวบ้านยังคงรักษาขนบธรรมเนียมของ ชาวเลไว้ เช่น พิธีนอนหาด การไหว้ศาลบรรพบุรุษ จากเหตุการณ์ธรณีพิบัติภัย คลื่นยักษ์สึนามิ ทำให้หมู่บ้านทุ่งหว้าแห่งนี้ได้รับความเสียหายเกือบทั้งหมด หลังจากนั้นได้มีการสร้างชุมชนขึ้นใหม่ โดยตั้งอยู่บริเวณที่เดิม ปัจจุบันชาวบ้านได้รับอนุญาต และการรับรองจากท้องถิ่นในการอยู่อาศัยในพื้นที่อย่างถาวรแล้ว',\n",
              "       'ตลาดท้ายเหมือง เป็นชุมชนตลาด ซึ่งเป็นย่านการค้าริมทาง และจุดแวะพักบนเส้นทาง ภูเก็ต-ท้ายเหมือง-ตะกั่วป่า มีความสำคัญเป็นเครือข่ายย่านการค้า ในยุคเหมืองแร่ ชุมชนตั้งอยู่บริเวณริมถนนเพชรเกษม ใกล้กับที่ว่าการอำเภอท้ายเหมือง ตัวอาคารมีลักษณะเป็นเรือนแถวไม้สองชั้น สร้างอยู่ริมถนนทั้งสองฝั่ง รวมถึงศาลเจ้าและวัดอยู่ในบริเวณเดียวกัน ปัจจุบันการคมนาคมที่สะดวกสบายกว่าเดิม  ทำให้ตลาดแห่งนี้มีบทบาทในการเป็นตลาดซื้อขายสินค้าในท้องถิ่นเท่านั้น และยังคงหลงเหลืออาคารรูปแบบชิโนโปรตุกีส  ซึ่งมีการตกแต่งและประดับประดาอาคารเพียงเล็กน้อย เมื่อเทียบกับอาคารชิโนโปรตุกีส ในภูเก็ตและตะกั่วป่า ผู้คนในชุมชนส่วนใหญ่เป็นชาวจีน และชาวไทยพุทธ เป็นคนดั้งเดิมในพื้นที่',\n",
              "       'ทับปลา เป็นชุมชนชาติพันธุ์ของชาวมอร์แกน (ชาวเลขึ้นบก) โดยชาวมอร์แกนในหมู่บ้านทับปลาแห่งนี้ สันนิษฐานว่า เป็นชาวเลเผ่ามอร์แกน ที่ล่องเรือมาจากหมู่เกาะสุรินทร์ ออกมาหาปลา และมาตั้งถิ่นฐานบ้านเรือนในบริเวณนี้มานานกว่า 50 ปี ที่ตั้งของหมู่บ้านแห่งนี้ อยู่ไม่ไกลจากชายหาดท้ายเหมือง แต่เดิมบ้านในหมู่บ้านมีลักษณะเป็นเรือนเครื่องผูก ยกใต้ถุนไม่สูงมาก หลังคามุงหญ้าแฝก ฝาบ้านทำด้วยไม้ไผ่สาน ใช้หวายมัดโครงสร้างไม้เข้าด้วยกัน แต่ในปัจจุบันวัสดุเหล่านี้ล้วนหายาก และมีราคาแพง ทำให้มีการเปลี่ยนไปใช้วัสดุในปัจจุบันทดแทนเกือบหมดแล้ว แต่ยังคงพบบ้านที่มีรูปแบบใกล้เคียงกับบ้านเดิมยังหลงเหลืออยู่เพียงไม่กี่หลัง บ้านทับปลาแห่งนี้ มีลักษณะเป็นชาวเลที่เลิกออกเรือ เปลี่ยนอาชีพไปแล้ว เช่น รับจ้าง ค้าขาย กรรมกร หาของเก่า ชาวมอร์แกนที่ไม่ได้ออกทะเล  จะมีความผูกพันกับประเพณีดั้งเดิมน้อยลง สิ่งที่ยังคงแสดงอัตลักษณ์ความเป็นชาวเล ได้แก่ ศาลหลาโต๊ะ (ศาลเจ้าที่ประจำหมู่บ้าน) และเปลว (สุสาน)  และชาวชุมชนยังคงช่วยกันอนุรักษ์องค์ประกอบทางจิตวิญญาณอย่างเข้มแข็ง',\n",
              "       'หินลาด เป็นชุมชนชาติพันธุ์ของชาวมอร์แกน (ชาวเลขึ้นบก) สันนิษฐานว่า เป็นชาวเล เผ่ามอร์แกน ที่ล่องเรือมากจากหมู่เกาะสุรินทร์  ออกมาหาปลา และมาตั้งถิ่นฐานบ้านเรือนในบริเวณนี้มานานกว่า 50 ปี ซึ่งคาดว่าเป็นกลุ่มเดียวกับ บ้านทับปลา และบ้านลำปี ที่ตั้งของหมู่บ้านแห่งนี้ อยู่ไม่ไกลจากชายหาดท้ายเหมือง แต่เดิมบ้านในหมู่บ้านมีลักษณะเป็นเรือนเครื่องผูก ยกใต้ถุนไม่สูงมาก หลังคามุงหญ้าแฝก ฝาบ้านทำด้วยไม้ไผ่สาน ใช้หวายมัดโครงสร้างไม้เข้าด้วยกัน แต่ในปัจจุบันวัสดุเหล่านี้ล้วนหายาก และมีราคาแพง ทำให้มีการเปลี่ยนไปใช้วัสดุในปัจจุบันทดแทนเกือบหมดแล้ว บ้านหินลาดแห่งนี้ มีลักษณะเป็นชาวเลที่เลิกออกเรือ เปลี่ยนอาชีพไปแล้ว เช่น รับจ้าง ค้าขาย กรรมกร หาของเก่า ชาวมอร์แกนที่ไม่ได้ออกทะเล จะมีความผูกพันกับประเพณีดั้งเดิมน้อยลง สิ่งที่ยังคงแสดงอัตลักษณ์ความเป็นชาวเล ได้แก่ ศาลหลาโต๊ะ (ศาลเจ้าที่ประจำหมู่บ้าน) และเปลว (สุสาน)',\n",
              "       'อ่าวบอนใหญ่ เป็นชุมชนริมน้ำ และชุมชนชาติพันธุ์ของชาวเล เผ่ามอร์แกน หมู่บ้านมอร์แกน เกาะสุรินทร์ มีความเชื่อมโยงกับชาวมอร์แกนหมู่บ้านอื่น ๆ ในบริเวณจังหวัดพังงา ภูเก็ต กระบี่ ซึ่งมีความเป็นเครือญาติ มีวิถีชีวิต และขนบธรรมเนียมที่เหมือนกัน ซึ่งสันนิษฐานว่าชาวมอร์แกนบนหมู่เกาะสุรินทร์เป็นกลุ่มที่เก่าแก่ที่สุด มีการตั้งบ้านเรือนอยู่บริเวณชายทะเลด้านทิศตะวันออกของเกาะสุรินทร์ใต้ ซึ่งเป็นด้านที่หันเข้าหาฝั่ง รูปแบบบ้านเรือนยังมีลักษณะแบบเรือนชาวเลแบบดั้งเดิม คือ เป็นเรือนเครื่องผูก สร้างด้วยโครงสร้างไม้  ฝาและหลังคามุงหญ้าแฝกหรือใบจาก เนื่องจากหมู่บ้านแห่งนี้เป็นหมู่บ้านที่ห่างไกลจากชายฝั่งและตัวเมืองมาก ทำให้การขนส่งวัสดุมีความยากลำบากและมีต้นทุนที่สูงพอสมควร  จึงทำให้รูปแบบและวัสดุในการสร้าง และต่อเติมตัวบ้านมีลักษณะเป็นแบบดั้งเดิมส่วนมาก ชาวหมู่บ้านมอร์แกนแห่งนี้ยังดำรงวิถีชีวิตอาชีพออกทะเล และประเพณีต่าง ๆ ตามแบบดั้งเดิมไว้อย่างครบถ้วน',\n",
              "       'ท่าแป๊ะโย้ย เกาะพระทอง เป็นชุมชนริมน้ำ และชุมชนชาติพันธุ์ของชาวเล เผ่ามอร์แกน สันนิษฐานว่า ชาวเลบนเกาะพระทอง เป็นกลุ่มของชาวมอร์แกน ที่ย้ายมาจากเกาะสุรินทร์ ซึ่งล่องเรือหาปลา และร่อนเร่มาตั้งถิ่นฐานบริเวณนี้มากกว่า 50 ปี ชุมชนตั้งอยู่บริเวณริมทะเลด้านทิศตะวันออกของเกาะพระทอง  ซึ่งเป็นทะเลด้านที่หันเข้าหาฝั่ง สามารถหลบพายุ เหมาะแก่การตั้งบ้านเรือน โดยบ้านเรือนในหมู่บ้านมอร์แกน เกาะพระทอง มีการก่อสร้างในลักษณะของเรือนเครื่องผูก แต่เดิมใช้ไม้ทั้งหมด แต่ในปัจจุบันมีการใช้วัสดุทดแทน เช่น หลังคามุงสังกะสี ชาวมอร์แกนส่วนมากยังคงมีวิถีชีวิตเรียบง่าย และยังถือปฏิบัติธรรมเนียมประเพณี ตามอย่างชาวเลดั้งเดิมอยู่อย่างครบถ้วน เช่น พิธีนอนหาด พิธีลอยเรือ หลังจากเหตุการณ์ธรณีพิบัติภัยสึนามิ หมู่บ้านแห่งนี้ได้รับผลกระทบพอสมควร การได้รับความช่วยเหลือในช่วงเหตุการณ์สึนามิ ทำให้กรณีความเดือดร้อนของชาวมอร์แกน เกาะพระทองได้รับการสนใจจากสังคม ผนวกกับชุมชนมอร์แกนในที่อื่น ๆ ซึ่งล้วนแล้วแต่มีความเป็นมาที่เชื่อมโยง หรือเป็นเครือญาติกันแทบทั้งสิ้น',\n",
              "       'แหลมตุ๊กแก เกาะสิเหร่ เป็นชุมชนชาติพันธุ์ของชาวเล เผ่ามอร์แกน ซึ่งเป็นชุมชนขนาดใหญ่แห่งหนึ่งในจังหวัดภูเก็ต ที่ตั้งหมู่บ้านอยู่ห่างจากชายทะเลเข้ามาบนบก แต่มีคลองเชื่อมต่อออกทะเลได้ สันนิษฐานว่าเข้ามาตั้งถิ่นฐานอยู่บริเวณนี้มามากกว่า 50 ปี ชุมชนตั้งอยู่บริเวณแหลมตุ๊กแก ซึ่งอยู่ในพื้นที่อ่าวทางด้านทิศใต้ของเกาะภูเก็ต ลักษณะบ้านเรือนเป็นบ้านเดี่ยว ยกใต้ถุนไม่สูงมาก  ใช้วัสดุทั่วไปที่หาได้ง่ายในพื้นที่ เช่น ไม้ สังกะสี ยังคงหลงเหลือบ้านแบบชาวเลดั้งเดิมอยู่น้อยมาก ปัจจุบันชาวบ้านยังคงรักษาวัฒนธรรม และประเพณีแบบดั้งเดิมของชาวเลไว้ได้อย่างเข้มแข็ง พื้นที่ตั้งของชุมชนชาวเลแห่งนี้ถูกรายรอบด้วยท่าเรือ สะพานปลา ห้องเย็น และชุมชนผู้ใช้แรงงาน ซึ่งย้ายถิ่นฐานเข้ามาเป็นลูกเรือ ทำให้ชุมชนขยายจากตัวเมืองภูเก็ตมาถึงเกาะสิเหร่ในปัจจุบัน ความเสี่ยงภัยของชุมชนแห่งนี้ จึงเป็นประเด็นด้านกรรมสิทธิ์ที่ดิน ซึ่งยังไม่มีการออกเอกสารสิทธิ์ หรือรับรองการอยู่อาศัยของชุมชนจากทางราชการ',\n",
              "       'หาดราไวย์ เป็นชุมชนชาติพันธุ์ ของชาวเล เผ่ามอร์แกน ที่ถือได้ว่าเป็นชุมชนชาวเลที่มีขนาดใหญ่ที่สุด  ถึงขนาดเคยมีคนเรียกชุมชนแห่งนี้ว่าเป็น เมืองหลวงของชาวเล หาดราไวย์ตั้งอยู่บริเวณทิศใต้ของเกาะภูเก็ต ซึ่งเป็นพื้นที่ที่สามารถออกทะเลได้สะดวกที่สุด โดยหมู่บ้านจะตั้งอยู่บริเวณใกล้กับชายหาด และมีพื้นที่จอดเรืออยู่ในคลองไม่ไกลจากหมู่บ้าน ในหมู่บ้านแห่งนี้ยังคงหลงเหลือบ้านชาวเลแบบดั้งเดิมอยู่เป็นจำนวนมาก มีลักษณะเป็นบ้านยกใต้ถุนไม่สูงมาก โครงสร้างเป็นไม้เนื้อแข็ง ไม้มะพร้าวหรือไม้ไผ่ ฝาเรือนเป็นฝาไม้ไผ่สาน หลังคามุงหญ้าแฝก และยังคงมีหลาโต๊ะ (ศาลเจ้าที่) ชาวมอร์แกนยังคงประกอบอาชีพประมงเป็นหลัก และมีบางส่วนหันมาทำอาชีพรับจ้าง ค้าขายและแรงงาน ซึ่งพื้นที่ตั้งของหมู่บ้านมอร์แกน หาดราไวย์แห่งนี้ เป็นพื้นที่สาธารณะประโยชน์ ตามเอกสารสิทธิ์ ทางหน่วยงานท้องถิ่นกำลังมีแผนจะพัฒนาชุมชน และคุณภาพชีวิตของชุมชนแห่งนี้',\n",
              "       'สะปำ เป็นชุมชนชาติพันธุ์ของชาวมอร์แกน เข้ามาตั้งถิ่นฐานในบริเวณชายหาดด้านทิศตะวันออกของเกาะภูเก็ต หมู่บ้านแห่งนี้มีการตั้งถิ่นฐานมามากกว่า 50 ปี แต่เดิมหมู่บ้านตั้งอยู่บริเวณชายหาด ร่นเข้ามาบนบกเล็กน้อย ซึ่งมีหลักฐานคือ หลาโต๊ะ (ศาลเจ้าที่) แต่ดั้งเดิม ในปัจจุบันหมู่บ้านแห่งนี้ถูกไล่รื้อจากเอกชน จึงต้องถอยร่นออกไปสร้างหมู่บ้านอยู่ในทะเล มีสะพานทางเดินเชื่อมต่อบ้านแต่ละหลัง ทำให้ต้องถอยห่างออกไปไกลจากศาลเจ้าที่ ซึ่งชาวชุมชนไม่สามารถขัดขวางการไล่รื้อ และจำต้องถอยร่นออกไปจากพื้นที่เดิม หากแต่ยังมีความพยายามในการรักษาศาลเจ้าที่ของเดิมให้ตั้งอยู่ในตำแหน่งเดิมไว้เป็นหลักฐานในการตั้งถิ่นฐานเพียงชิ้นเดียว รูปแบบบ้านเรือนในปัจจุบัน เป็นบ้านยกเสาสูง ตัวบ้านอยู่เหนือระดับน้ำทะเล หลังคาและฝาเป็นสังกะสี (น้ำหนักเบา) ชาวชุมชนสะปำ เป็นชาวมอร์แกนทั้งหมด ส่วนมากยังมีอาชีพออกเรือหาปลา ตามแบบดั้งเดิม มีการสืบสานวัฒนธรรมและประเพณีของชาวมอร์แกนไว้อย่างเหนียวแน่น',\n",
              "       'ย่านเมืองเก่าภูเก็ต เป็นชุมชนตลาด ที่ถือได้ว่าเป็นศูนย์กลางการค้า ที่มั่งคั่ง และมีอาณาเขตกว้างใหญ่ที่สุดแห่งหนึ่งในภาคใต้ มีประวัติศาสตร์ยาวนานกว่า 100 ปี ที่ตั้งชุมชนครอบคลุมพื้นที่ในใจกลางของตัวเมืองภูเก็ต ประกอบด้วย ถนนภูเก็ต ถนนรัษฎา ถนนระนอง ถนนพังงา ถนนมนตรี ถนนถลาง ถนนกระบี่ ถนนสตูล ถนนดีบุก ถนนเยาวราช ถนนเทพกระษัตรี ลักษณะเด่นที่สุดของย่านเมืองเก่าภูเก็ตแห่งนี้ คือ กลุ่มอาคารรูปแบบชิโนโปรตุกีส ซึ่งเป็นรูปแบบของสถาปัตยกรรมที่ได้รับอิทธิพลของศิลปะจีน และโปรตุเกส ซึ่งเป็นแบบสมัยนิยมในยุคล่าอาณานิคม โดยถือว่าเป็นเครื่องแสดงความมั่งคั่งของชุมชนในยุคนั้น จากสภาพพื้นที่และองค์ประกอบทางกายภาพที่ยังคงหลงเหลืออยู่ อาจถือได้ว่าเป็นย่านที่มีอาคารแบบชิโนโปรตุกีสที่หลงเหลืออยู่ที่ใหญ่ที่สุดในประเทศไทย แต่เดิมเป็นย่านการค้า และชุมชนพักอาศัยที่สำคัญ ต่อมาเมืองมีการขยายตัวของเมืองภูเก็ตออกไปรอบนอก มีย่านการค้าเกิดใหม่ขึ้นภายนอกเมือง ทำให้ย่านการค้าแห่งนี้ลดบทบาทลง แต่ยังคงความสำคัญทางด้านประวัติศาสตร์ และเป็นศูนย์กลางการท่องเที่ยวของเมืองภูเก็ต ผู้คนในชุมชนส่วนใหญ่เป็นชาวไทยพุทธ ชาวจีน และชาวไทยมุสลิม',\n",
              "       'แหลมหลา เป็นชุมชนชาติพันธุ์ ประกอบด้วยชาวมอร์แกนดั้งเดิม และมีชาวไทยพุทธและมุสลิม ย้ายเข้ามาอยู่ร่วมกันในชุมชนแห่งนี้ชาวมอร์แกนรุ่นแรกที่เข้ามาตั้งถิ่นฐานในบริเวณบ้านแหลมหลาแห่งนี้ สันนิษฐานว่าล่องเรือมาพร้อมกับชาวมอร์แกนหาดราไวย์ และชาวมอร์แกนเกาะสิเหร่ ชุมชนตั้งอยู่บริเวณชายทะเลด้านทิศเหนือของภูเก็ต ใกล้กับสะพานสารสินและไม่ไกลจากหาดไม้ขาว มากนัก รูปแบบบ้านพักอาศัยในชุมชนมีการเปลี่ยนแปลงไปจากอดีตมาก เมื่อไม่สามารถหาวัสดุก่อสร้างตามแบบเดิมมาใช้ได้ เช่น ฝาสาน หลังคาหญ้าแฝก ก็มีการนำวัสดุสมัยใหม่เข้ามาทดแทน เช่น สังกะสี อิฐบล๊อก แต่ยังคงมีบ้านรูปแบบเดิมหลงเหลืออยู่อีกเพียงไม่กี่หลัง บ้านแหลมหลาเป็นหนึ่งในหมู่บ้านที่ชาวมอร์แกน มาตั้งบ้านเรือนอยู่อาศัย และยังดำรงวิถีชีวิตอาชีพออกทะเล และประเพณีต่างๆ ตามแบบดั้งเดิมไว้อย่างครบถ้วน ส่วนวิถีชีวิตของมอร์แกนในชุมชนแห่งนี้ ยังคงดำเนินไปใกล้เคียงกับในอดีต มีการออกทะเล มีประเพณีนอนหาด มีประเพณีลอยเรือ นอกจากนี้ยังมีหลาโต๊ะ (ศาลเจ้าที่) ที่มีอายุมากกว่า 50 ปี',\n",
              "       'มอร์แกนหินลูกเดียว เป็นชุมชนชาติพันธุ์ของชาวมอร์แกน โดยชาวมอร์แกนรุ่นแรกที่เข้ามาตั้งถิ่นฐานในบริเวณบ้านหินลูกเดียวแห่งนี้ สันนิษฐานว่าล่องเรือมาพร้อมกับชาวมอร์แกนหาดราไวย์ และชาวมอร์แกนเกาะสิเหร่ โดยมาตั้งถิ่นฐานที่บ้านแหลมหลา และบ้านหินลูกเดียว ซึ่งส่วนมากเป็นเหมือนพี่น้องกัน มักตั้งบ้านเรือนอยู่ใกล้กับชายหาด บริเวณด้านทิศเหนือของเกาะภูเก็ต บ้านพักของชาวมอร์แกนหินลูกเดียว ได้รับความเสียหายจากเหตุการณ์ธรณีพิบัติสึนามิเป็นส่วนมาก หลังจากได้รับการสนับสนุนจากหน่วยงานต่าง ๆ ในการสร้างบ้าน ทำให้ชาวมอร์แกนในหมู่บ้านเกือบทั้งหมด ได้ทำการวางผังและสร้างบ้านพักชึ้นใหม่ โดยยังคงรักษาเอกลักษณ์ของบ้านชาวเลแบบดั้งเดิมไว้ เช่น การใช้ฝาไม้ไผ่สาน และการทาสีบ้านแบบฉูดฉาด ส่วนมากประกอบอาชีพประมง ซึ่งสามารถทำได้ทั้งประมงเรือเล็กออกทะเล และประมงพื้นบ้านในบริเวณป่าชายเลนได้อีกด้วย และชาวมอร์แกนหินลูกเดียว ยังได้ดำรงรักษาวัฒนธรรม และประเพณีของชาวเล เช่น การนอนหาด การทำบุญเดือนแปด พิธีลอยทะเล ไว้อย่างเหนียวแน่น',\n",
              "       'ปูดำ เป็นชุมชนกลุ่มอาชีพเฉพาะ สันนิษฐานว่า มีชาวมุสลิมเข้ามาจับสัตว์ในป่าชายเลน และตั้งถิ่นฐานในบริเวณใกล้กับป่าชายเลนแห่งนี้ มามากกว่า 30 ปี ชุมชนตั้งอยู่ในบริเวณป่าชายเลน ทางด้านทิศเหนือของเกาะภูเก็ต ติดกับชายขอบของป่าชายเลน พื้นที่โดยรอบมีลักษณะเป็นป่าโกงกางหนาแน่น สลับกับลำคลองคดเคี้ยว สามารถเชื่อมออกสู่ทะเลได้ ส่วนรูปแบบของบ้านในชุมชน เป็นบ้านชั้นเดียว ใต้ถุนเตี้ย ใช้วัสดุในท้องถิ่น เช่น ไม้เนื้อแข็ง ไม้ไผ่ ฝาไม้ไผ่สาน หลังคาหญ้าแฝก หรือสังกะสี ชาวชุมชนปูดำ ส่วนมากเป็นชาวมุสลิม ประกอบอาชีพหาของป่าในป่าชายเลนขาย เช่น ปลา กุ้ง ปู และนำของเหล่านี้มาขายปลีก บริเวณริมถนนหน้าหมู่บ้านเป็นที่มาของชื่อชุมชนปูดำ การใช้ชีวิตในพื้นที่ป่าชายเลน ทำให้เกิดการสะสมภูมิปัญญาในด้านเทคนิคการประกอบอาชีพ และเทคนิคในการดูแลรักษาป่า เช่น การตกแต่งรากไม้ให้แตกยอดใหม่ การจัดการขยะ เป็นจุดเด่นของชุมชนเก่าที่มีวิถีชีวิตกลมกลืนกับธรรมชาติได้ ส่วนใหญ่เป็นชาวมุสลิมดั้งเดิม',\n",
              "       'ท่าสัก เป็นชุมชนกลุ่มอาชีพเฉพาะ ชุมชนแห่งนี้เริ่มตั้งถิ่นฐานในบริเวณนี้ประมาณ 50 ปี แต่เดิมเป็นพื้นที่รกร้างที่อยู่ใกล้กับคลองที่สามารถออกทะเลได้ ซึ่งเหมาะกับการจอดเรือ การตั้งบ้านเรือนอยู่ใกล้ๆ ที่จอดเรือจึงเป็นจุดเริ่มต้นของการตั้งหมู่บ้าน ต่อมาเมืองมีสมาชิกเพิ่มมากขึ้น และเป็นชาวมุสลิมด้วยกัน จึงเริ่มมีการสร้างบาราย (มัสยิดย่อย) ขึ้นในหมู่บ้าน สำหรับกิจกรรมทางศาสนา และเป็นโรงเรียนสอนภาษาและศาสนา ชุมชนตั้งอยู่บริเวณชายทะเลทางด้านทิศตะวันออก ของเกาะภูเก็ต ลักษณะบ้านเรือนในชุมชน เป็นเรือนพื้นถิ่นทางภาคใต้ เรือนชั้นเดียวยกใต้ถุนสูง หลังคามุงสังกะสี ฝาเป็นไม้ไผ่ขัดแตะ หรือฝาไม้ เป็นชุมชนมุสลิมทั้งหมู่บ้าน  ประกอบอาชีพประมงเรือเล็กเป็นส่วนมาก มีลักษณะของชุมชนที่ยังคงวัฒนธรรมแบบดั้งเดิมไว้อย่างเหนียวแน่น โดยเฉพาะทางด้านศาสนา ปัจจุบันชุมชนท่าสักได้รับการรับรองจากเทศบาลให้สามารถอยู่ในพื้นที่ได้อย่างถูกต้อง และได้รับการสนับสนุนจากหน่วยงานของรัฐ ในการพัฒนาระบบสาธารณูปโภค และก่อสร้างบ้านพักอาศัยถาวรขึ้น ตามผังแม่บทที่ชุมชนได้ร่วมกันกำหนดขึ้น',\n",
              "       'คลองน้อย เป็นชุมชนเกษตรกรรม และชุมชนริมน้ำ ตำบลคลองน้อยแรกเริ่มเดิมมีชื่อว่า ตำบลป่าเหล้า โดยการตั้งชื่อตามเจ้าที่คือ พ่อตาเหล้า แม่ยายเศร้าสร้อย โดยเอาชื่อของตามาตั้งคือ พ่อตาเหล้า มาตั้งเป็นชื่อตำบลป่าเหล้า เพราะสภาพในตอนนั้นเป็นป่ามาก ลักษณะภูมิประเทศ ป็นที่ราบมีเครือข่ายลำคลองในการสัญจรและเกษตรกรรม ลักษณะการตั้งชุมชนชาวสวนแบบดั้งเดิม ทั้งอาคารบ้านเรือนและทรัพยากรธรรมชาติ เป็นชุมชนเกษตรกรรม ชาวสวน โดยใช้ระบบเครือข่ายคลอง เชื่อมต่อกับชุมชนเครือข่ายคลองอื่น ๆ เช่น บางใบไม้ ลักษณะการตั้งถิ่นฐานหนาแน่นบริเวณริมคลองบางช่วง ถัดเข้ามาเป็นบ้านกระจายตัวล้อมรอบด้วยพื้นที่สวน',\n",
              "       'บางใบไม้ เป็นชุมชนเกษตรกรรม ชุมชนริมน้ำ และชุมชนความทรงจำ ตำบลบางใบไม้ อำเภอเมือง จังหวัดสุราษฎร์ธานี เป็นตำบลที่มีลำคลองเป็นจำนวนมาก สองข้างเป็นป่าไม้เบญจพรรณ ในลำคลองจะมีใบไม้ลอยทับถมกันเป็นจำนวนมาก ทำให้น้ำขึ้นลงไม่สะดวก ซึ่งเกิดขึ้นในทุกหมู่บ้านทั้งตำบล ราษฎรจึงได้ให้ ชื่อว่าตำบลบางใบไม้ สืบเนื่องมาจนถึงปัจจุบันนี้ ลักษณะภูมิประเทศ เป็นพื้นที่ราบลุ่ม ติดคลองหรือแม่น้ำ บริเวณโดยรอบเป็นป่า ต้นไม้สูง ส่วนมากเป็นต้นมะพร้าวและต้นจาก มีจำนวนประชากรในเขต อบต. 2,344 คน และจำนวนหลังคาเรือน 984 หลังคาเรือน บ้านเป็นเรือนไม้ยกพื้นหลังคาทรงปั้นหยา มุงกระเบื้องว่าว แทบทุกหลังมีสะพานอยู่ที่ท่าน้ำหน้าบ้าน มีวัดบางใบไม้เป็นวัดเล็กๆ มีพระพุทธรูปปั้นจากข้าวสุกก้นบาตร อายุประมาณ 70 ปี ภายนอกหุ้มด้วยทองเหลือง มีการเลี้ยงกุ้งกุลาดำ ปลูกต้นจากและผลิตภัณฑ์จากใบจาก และการทำสวนมะพร้าว และ ผลิตภัณฑ์จากกะลามะพร้าวซึ่งมีเอกลักษณ์เฉพาะ เช่น โคมไฟ ชุดกาแฟ กระเป๋าถือ พาน ชุดหม้อแบ่งข้าว กาน้ำ ถ่านกะลามะพร้าว และมะพร้าวอ่อนน้ำหอม',\n",
              "       'บางหลา เป็นชุมชนเกษตรกรรมและประมงริมคลองดั้งเดิม เป็นที่ราบลุ่มริมคลอง มีการใช้เครือข่ายคลองในการสัญจรและเกษตรกรรม ชุมชนบริเวณฝั่งในบางตรงข้ามกับตัวเมืองสุราษฎร์ธานี ประกอบอาชีพประมง มีลักษณะการตั้งบ้านเรือนบนเกาะและชายคลองน้ำท่วมถึง มีอาคารบ้านเรือนแบบครึ่งบกครึ่งน้ำ และลักษณะการตั้งถิ่นฐานของชุมชนชาวสวนและประมงพื้นบ้านแบบดั้งเดิม',\n",
              "       'ตลาดบ้านดอน เป็นชุมชนตลาดและชุมชนริมน้ำ อำเภอบ้านดอน เป็นอีกชื่อหนึ่งของอำเภอเมืองสุราษฎร์ธานี ซึ่งเป็นชื่อท้องถิ่นที่เรียกกันมาแต่โบราณ ตามสภาพของบริเวณนั้น ซึ่งเป็นที่ดอน น้ำท่วมไม่ถึงนั่นเอง บริเวณบ้านดอน ในสมัยโบราณเป็นอู่ต่อเรือขนาดใหญ่ของเมืองไชยา ตรงบริเวณปากน้ำแม่น้ำตาปี ต่อมามีความเจริญมากขึ้นตามลำดับ จนในสมัยรัชกาลที่ 6 พระองค์โปรดเกล้าฯ ให้ย้ายเมืองไชยาเดิมมาตั้งที่เมืองบ้านดอน และต่อมาในปี พ.ศ. 2459 มีรับสั่งให้เปลี่ยนชื่อเมืองไชยาที่บ้านดอนเป็นเมืองสุราษฎร์ธานี มาตราบจนปัจจุบันนี้ เป็นที่ราบปากแม่น้ำตาปี เป็นชุมชนพาณิชยกรรมขนาดใหญ่ของเมืองสุราษฎร์ ตั้งบนที่ดอน มีการผสมผสานลักษณะอาคารทั้งเรือนแถวไม้ และอาคารตึกแถว ตามการพัฒนาของเมือง ในสมัยก่อนพื้นที่บ้านดอนเป็นอู่ต่อเรือขนาดใหญ่ของเมืองไชยา และถูกยกเป็นเมืองไชยา และเมืองสุราษฎร์ ตามลำดับ เนื่องจากเป็นตลาดศูนย์กลางเมือง ส่วนใหญ่จะประกอบอาชีพค้าขายและธุรกิจต่าง ๆ',\n",
              "       'บ้านหน้าด่าน เป็นชุมชนตลาดและชุมชนริมน้ำ ชุมชนตั้งอยู่บริเวณปากแม่น้ำตาปี น่าจะเป็นบริเวณที่มีด่านแต่เดิม เป็นชุมชนตลาดเกาะกับถนนตลาดล่าง หันหลังให้แม่น้ำตาปี ประกอบไปด้วยเรือนแถวไม้ชั้นเดียว 2 ชั้น ริมถนน ถัดเข้าไปเป็นกลุ่มบ้านพักอาศัย ส่วนใหญ่ประกอบอาชีพค้าขาย',\n",
              "       'พุมเรียง เป็นชุมชนกลุ่มอาชีพเฉพาะ ชุมชนความทรงจำ และชุมชนรอบโบราณสถาน แหลมโพธิ์ ในอดีต สมเด็จพระจุลจอมเกล้าเจ้าอยู่หัวได้เสด็จประพาส และสร้างศาลาไว้ ซึ่งได้เป็นแหล่งท่องเที่ยวมาจนทุกวันนี้ ชาวบ้านในหมู่บ้านมีอาชีพทอผ้า ผ้าทอพุมเรียง มีลักษณะเด่น คือ เป็นผ้าทอยกดิ้นเงิน หรือดิ้นทอง มีลวดลายเฉพาะตัวที่สวยงาม ทำให้กลายเป็นสินค้าพื้นเมือง ที่มีชื่อเสียงของจังหวัดสุราษฎร์ธานี ชุมชนอยู่ในพื้นที่ในเขตเทศบาลพุมเรียงเป็นชุมชนชายฝั่งทะเลด้านตะวันออกของอำเภอไชยา ตั้งอยู่จุดเหนือสุดของอ่าวบ้านดอน บริเวณปากคลองพุมเรียงใหญ่ มีสภาพเป็นที่ดอนจุดกึ่งกลางสูงกว่าระดับน้ำทะเลประมาณ 10 เมตร การตั้งชุมชนในเขตเทศบาลรวมกลุ่มกันบริเวณริมคลองพุมเรียงเป็นส่วนใหญ่ มีอาคารไม้ดั้งเดิม และการตั้งชุมชนเกษตรกรรม ส่วนใหญ่ประกอบอาชีพทอผ้าไหมที่มีชื่อเสียง ประมง ค้าขาย เกษตรกรรม',\n",
              "       'ตลาดไชยา เป็นชุมชนตลาด และชุมชนรอบทางรถไฟ อำเภอไชยาเดิมเป็นเมืองเก่าแก่มาแต่โบราณ มีหลักฐานทางโบราณคดีว่า เคยรุ่งเรืองมากในอาณาจักรศรีวิชัย (พุทธศตวรรษที่ 12-18) ถึงกับมีผู้สันนิษฐานว่าเป็นศูนย์กลางของอาณาจักรศรีวิชัย นักประวัติศาสตร์บางท่านสันนิษฐานว่าเป็นที่ตั้งของราชวงศ์ไศเลนทร์ เมื่ออาณาจักรเสื่อมลงได้แยกเป็นเมืองคือ เมืองไชยา จนกระทั่งเมื่อ ร.ศ. 117 พระบาทสมเด็จพระจุลจอมเกล้าเจ้าอยู่หัว ทรงพระกรุณาโปรดเกล้าแบ่งเขตการปกครองทั่วราชอาณาจักรใหม่ออกเป็นมณฑลไชยา เป็นเมืองขึ้นกับมณฑลชุมพร ต่อมาได้ลดฐานะเป็นอำเภอโดยมีเมืองเก่าตั้งอยู่ที่พุมเรียง และได้เปลี่ยนกลับมาเป็นอำเภอไชยา ในรัชกาลที่ 6 เมื่อวันที่ 29 กรกฎาคม 2458 เป็นชุมชนตลาดตามถนนสายหลักซึ่งเป็นย่านธุรกิจหลัก 3 สาย คือถนนรักษ์นรกิจ ถนนวิชิตภักดี และถนนชวนะนันท์ ซึ่งเป็นถนนสายแรกเริ่มของเมืองไชยา มีเรือนแถวไม้ 2 ชั้นที่มีรูปแบบหลากหลาย มีความสัมพันธ์กับสถานีรถไฟเป็นชุมชนพาณิชยกรรมในเขตเมือง',\n",
              "       'ลีเล็ด เป็นชุมชนเกษตรกรรม และชุมชนริมน้ำ ในสมัยที่มีหัวเมืองไชยาเป็นศูนย์กลางการปกครอง ขึ้นตรงกับกรุงศรีอยุธยา (ก่อน พ.ศ. 2439) พระบาทสมเด็จพระจุลจอมเกล้าฯ (ร. 5) ทรงเสด็จไปบ้านดอน (ทางเรือ) แล้วเจอกับพายุฝน จึงทรงเสด็จไปตามคลองสายนี้ ทำให้ชาวบ้านเข้าใจว่าเป็นคลองลัด จึงเรียกชื่อคลองสายนี้ว่า \"คลองลัด\" พื้นที่เป็นที่ราบลุ่ม และบางส่วนติดกับทะเลมีน้ำเค็มท่วมถึง ชายฝั่งมีสภาพเป็นป่าชายเลนขนาดใหญ่ มีแม่น้ำเล็กๆ เชื่อมออกสู่ทะเลหลายสาย สภาพพื้นที่ส่วนใหญ่มีบ้านเรือนเบาบาง มีการอยู่อาศัยตามริมแม่น้ำแต่ละสายตามถิ่นฐานเดิมจากอดีต บ้านเรือนส่วนมากเป็นเรือนไม้ยกพื้นสูง เพราะเป็นพื้นที่น้ำท่วมถึง และมีท่าเทียบเรือเป็นของตัวเอง ชาวบ้านในคลองลัด ส่วนใหญ่มีอาชีพทำนา จึงมีชาวจีนล่องเรือมารับซื้อข้าวอยู่เป็นประจำ ชาวจีนเรียก คลองลัดเพี้ยนไปเป็น คลองเล็ด แต่เดิมชาวบ้านมีอาชีพทำนากับสวน ต่อมาเริ่มหันมาทำประมงพื้นบ้าน หรือนากุ้ง กับสวนมะพร้าว ตั้งแต่นั้นเป็นต้นมา ปัจจุบันมีการส่งเสริมให้พื้นที่มีการท่องเที่ยวเชิงนิเวศ มีการตั้งศูนย์เรียนรู้ระบบนิเวศป่าชายเลนและส่งเสริมศิลปะพื้นบ้าน เช่น ลิเกป่า หรือวัฒนธรรมการประมงต่าง ๆ ของชุมชน',\n",
              "       'ท่าข้าม เป็นชุมชนตลาด ชุมชนความทรงจำ และชุมชนรอบทางรถไฟ ในอดีตท่าข้ามเป็นท่าเรือริมแม่น้ำตาปีสำหรับข้ามแม่น้ำ เป็นที่ตั้งด่านชายแดนสำหรับตรวจผู้คนและเก็บภาษีอากร และมีการสร้างสะพานข้ามแม่น้ำตาปี ปัจจุบันคือ สะพานจุลจอมเกล้า \" ท่าข้าม\" เป็นชื่อเรียกอำเภอพุนพินเป็นเวลา 31 ปี คือระหว่างปี พ.ศ. 2473-2504 ท่าข้ามเคยมีความสำคัญในฐานะชุมทางและจุดยุทธศาสตร์ที่สำคัญ นอกจากจะเป็นท่าเรือสำหรับข้ามแม่น้ำตาปีแล้ว ยังเป็นสถานที่สำคัญในการเดินทางติดต่อผ่านแม่น้ำตาปี ทั้งการเดินทางไปยังคีรีรัฐนิคม พนม ตะกั่วป่า พังงา และภูเก็ต หรือไปตามลำน้ำตาปี ลักษณะพื้นที่ตอนใต้เป็นที่สูง ตอนเหนือเป็นที่ราบตั้งอยู่ริมแม่น้ำตาปี เป็นอาคารเรือนแถวไม้ ส่วนใหญ่ประกอบอาชีพค้าขาย เกษตรกรรม และรับจ้าง',\n",
              "       'บ้านส้อง เป็นชุมชนเกษตรกรรม ชุมชนตลาด และชุมชนรอบทางรถไฟ บ้านส้อง คือ ตำบลเก่าแก่ ตำบลหนึ่งของอำเภอเวียงสระ ในเขตการปกครองของจังหวัดสุราษฎร์ธานี โดยมีหลักฐานทางประวัติศาสตร์ยืนยันได้ว่า แต่เดิมเคยเป็นแหล่งชุมชนโบราณที่สำคัญแห่งหนึ่งของภาคใต้ ที่มีประวัติความเป็นมายาวนาน สืบทอดถึงอาณาจักรศรีวิชัย เรื่อยมาจนกระทั่งถึงปัจจุบัน พื้นที่ส่วนใหญ่เป็นที่ราบสูง\\xa0 โดยทิศตะวันออกจรดกับเทือกเขาบรรทัดตลอดแนว เป็นเรือนไม้ดั้งเดิม อาคารเรือนแถวไม้ในตลาดเก่า ส่วนใหญ่มีอาชีพเกษตรกรรม และค้าขาย',\n",
              "       'ท่าขนอน เป็นชุมชนเกษตรกรรม ชุมชนริมน้ำ และชุมชนรอบทางรถไฟ เทศบาลตำบลท่าขนอนตั้งอยู่ในอำเภอคีรีรัฐนิคม จังหวัดสุราษฎร์ธานี อยู่ห่างจากจังหวัด 65 กิโลเมตร สภาพพื้นที่เป็นที่ราบลุ่ม ริมแม่น้ำพุมดวง ลักษณะพื้นที่ส่วนใหญ่เป็นที่นาและที่สวน เหมาะที่จะประกอบอาชีพเกษตรกรรม เป็นชุมชนตลาดที่เป็นชุมทางสถานีรถไฟ และชุมชนเกษตรกรรมริมแม่น้ำพุมดวง ชุมชนริมแม่น้ำมีภูมิปัญญาการทำบ้านลอยน้ำเนื่องจากปัญหาน้ำท่วมในฤดูน้ำหลาก ส่วนใหญ่ประกอบอาชีพเกษตรกรรม',\n",
              "       'นาสาร เป็นชุมชนเกษตรกรรม ชุมชนตลาด และชุมชนรอบทางรถไฟ ลักษณะภูมิประเทศ เป็นที่ราบเชิงเขา มีภูเขา ภายในบริเวณเขตเทศบาล มีลำห้วยหลายแห่ง และมีลำคลองกว้างไหลผ่าน กลางตัวเมืองจากทิศตะวันออกไปสู่ทิศตะวันตก พื้นที่ทั่วไปเป็นที่ราบ ส่วนที่ราบสูงมีเพียงเล็กน้อย เป็นชุมชนตลาด เรือนแถวไม้สลับกับอาคารตึกแถวสมัยใหม่ ที่อำเภอนาสารมีเกษตรกรรมที่มีชื่อเสียงคือ เงาะโรงเรียน ส่วนใหญ่มีอาชีพเกษตรกรรม และค้าขาย',\n",
              "       'ท่าทองใหม่ เป็นชุมชนเกษตรกรรม ชุมชนริมน้ำ และชุมชนตลาด เมื่อประมาณปี พ.ศ. 2310 พื้นที่บริเวณนี้เคยเป็นเมืองท่าเรือที่สำคัญ เรือใหญ่จากประเทศจีนเข้ามาติดต่อค้าขาย ซึ่งคนในสมัยนั้นเรียกว่า บ้านท่าทองใหม่ เดิมเคยขึ้นอยู่กับมณฑลนครศรีธรรมราช ต่อมาสังกัดอำเภอกาญจนดิษฐ์ จังหวัดสุราษฎร์ธานี พื้นที่ส่วนใหญ่เป็นที่ราบลุ่มริมฝั่งคลองและชายทะเล มีลำคลองท่าทองใหม่ไหลผ่านไปออกอ่าวบ้านดอน ประชาชนตั้งบ้านเรือนหนาแน่นตามริมฝั่งคลอง เป็นเรือนแถวไม้ในตลาด และชุมชนประมง ส่วนใหญ่ประกอบอาชีพค้าขาย ประมง',\n",
              "       'ปากน้ำท่าทอง เป็นชุมชนเกษตรกรรม ชุมชนริมน้ำ ชุมชนความทรงจำ และชุมชนรอบโบราณสถาน ตำบลท่าทอง เป็นเมืองเก่าแก่ เดิมเป็นที่ตั้งของเมืองท่าทองเมื่อ ปี พ.ศ. 2300 ซึ่งขณะนั้นพื้นที่ปกครองของจังหวัดสุราษฎร์ธานีมีหัวเมืองเก่าแก่อยู่ 4 เมือง คือ เมืองไชยา เมืองท่าทอง เมืองคีรีรัตน์ และเมืองเวียงสระ ซึ่งเมืองท่าทองเดิมตั้งอยู่ที่หมู่ที่ 4 บ้านท้อน ต่อมาหลวงวิเศษ ได้ย้ายเมืองท่าทองไปตั้งอยู่ที่บ้านกะแดะ และฝั่งตะวันตกของคลองมะขามเตี้ย ตามลำดับและได้เปลี่ยนชื่อเป็นเมืองสุราษฎร์ธานี ส่วนเมืองท่าทองเดิมก็เป็นตำบลท่าทองในปัจจุบัน มีลักษณะภูมิประเทศเป็นที่ราบลุ่มด้านหนึ่งติดกับทะเลด้านอ่าวไทย อีกด้านหนึ่งมีลำคลองท่าทองเป็นแนวของตำบล เหมาะแก่การประกอบอาชีพการเกษตรกรรม และอาชีพประมง เป็นชุมชนตลาดและประมง มีความสัมพันธ์กับตำแหน่งที่ตั้งของโบราณสถานที่เขาพระทอง และประวัติศาสตร์ลุ่มน้ำท่าทอง เมืองกาญจนดิษฐ์ ส่วนใหญ่ประกอบอาชีพเกษตรกรรม และประมง',\n",
              "       'ปากกะแดะ เป็นชุมชนเกษตรกรรม ชุมชนริมน้ำ และชุมชนตลาด เมื่อประมาณปี พ.ศ. 2310 พื้นที่บริเวณนี้เคยเป็นเมืองท่าเรือที่สำคัญ เรือใหญ่จากประเทศจีนเข้ามาติดต่อค้าขาย ซึ่งคนในสมัยนั้นเรียกว่า บ้านท่าทองใหม่ เดิมเคยขึ้นอยู่กับมณฑลนครศรีธรรมราช ต่อมาสังกัดอำเภอกาญจนดิษฐ์ จังหวัดสุราษฎร์ธานี พื้นที่ส่วนใหญ่เป็นที่ราบลุ่มริมฝั่งคลองและชายทะเล มีลำคลองท่าทองใหม่ไหลผ่านไปออกอ่าวบ้านดอน ประชาชนตั้งบ้านเรือนหนาแน่นตามริมฝั่งคลอง เป็นเรือนแถวไม้ในตลาด และชุมชนประมง ส่วนใหญ่ประกอบอาชีพค้าขาย ประมง',\n",
              "       'เกาะแรต เป็นชุมชนเกษตรกรรม ชุมชนริมน้ำ และชุมชนกลุ่มอาชีพเฉพาะ เป็นชุมชนประมง ตั้งบนเกาะเล็ก ๆ ส่วนใหญ่เป็นคนจีนอพยพมาจากไหหลำ บ้านเรือนจะตั้งบริเวณรอบ ๆ เกาะ มีทั้งบ้านและเรือนแถวไม้ ปัจจุบันมีสะพาน ทำให้สามารถนำรถข้ามไปที่เกาะได้ ลักษณะภูมิประเทศ เป็นเกาะขนาดเล็กๆ ที่ตั้งอยู่ห่างจากแหลมลื่น และถนนสาย ดอนสัก – ขนอม ประมาณ 500 เมตร เป็นเรือนไม้ดั้งเดิม และลักษณะการตั้งถิ่นฐานชาวประมงดั้งเดิม ส่วนใหญ่ประกอบอาชีพประมง และท่องเที่ยว และเป็นชาวไทยเชื้อสายจีนไหหลำ',\n",
              "       'เกาะเหลา เป็นชุมชนเกษตรกรรม ชุมชนริมน้ำ และชุมชนชาติพันธุ์โดยแบ่งออกเป็น 2 กลุ่มคือ ชาวไทยทั่วไป และชาวมอร์แกน ซึ่งไม่มีบัตรประชาชนและสิทธิ์ขั้นพื้นฐานจากรัฐบาล ซึ่งมอร์แกนจะอยู่ในส่วนที่เรียกว่า เกาะเหลานอก ซึ่งแต่โบราณเดิมเป็นชาติพันธุ์ที่เร่ร่อนอยู่ตามทะเลอันดามันจนเมื่อ 30 ปีก่อน จึงมีการเริ่มสร้างบ้านเรือนตั้งหลักแหล่ง โดยการชักชวนของจ่าทวี ผู้ซึ่งอาศัยก่อน โดยต้องการให้หยุดเร่ร่อนตามเกาะแก่งอันดามัน เกาะเหลา อยู่ห่างจากท่าเทียบเรือปากน้ำระนองประมาณ 30 นาที ฝั่งตรงข้ามอยู่ติดกับจังหวัดเกาะสอง ประเทศพม่า บนเกาะแห่งนี้มีประชากร 2 กลุ่ม คือ กลุ่มคนไทย และกลุ่มมอร์แกน อาศัยอยู่กันคนละฟากเกาะ ซึ่งตั้งห่างกันประมาณ 3 กิโลเมตร ไปมาหาสู่กันได้ทั้งทางเรือและเดินเท้า เป็นชุมชนริมหาด เรือนไม้หรือสังกะสียกพื้นสูง หลังคามุงจาก ตั้งอยู่บนพื้นทราย บางหลังยื่นลงไปในทะเลเชื่อมต่อกับท่าเรือ ระบบสาธารณสุขไม่ดี ใช้ไฟฟ้าจากเครื่องปั่นไฟฟ้า ชาวไทยในเกาะเหลาส่วนใหญ่มีชีวิตผูกติดกับทะเล มีการทำประมงพื้นบ้าน ทั้งการวางอวนปู และกระชังปลา อีกส่วนบนเกาะเหลานอกซึ่งเป็นชาวมอร์แกนนั้น หลังจากเหตุการณ์สึนามิ ทำให้พื้นที่ทำมาหากินและบ้านเรือนเสียหาย ก็มีการรับจ้างทำงานผิดกฎหมายด้วย โดยเฉพาะการรับจ้างไปจับสัตว์น้ำในเขตทะเลประเทศเพื่อนบ้าน',\n",
              "       'เกาะพยาม เป็นเกษตรกรรม ชุมชนริมน้ำ และชุมชนชาติพันธุ์ของชาวประมงมอร์แกน เป็นชุมชนชาวเลที่ตั้งอยู่บนเกาะ โดยมีแหล่งที่ตั้งอยู่ริมหาดเพื่อการทำประมงขนาดเล็ก ส่วนที่เหลือประกอบอาชีพการเกษตรบนเกาะ ได้แก่ การทำสวน ชุมชนเก่ามีลักษณะบ้านเป็นเรือนเดี่ยวฝาไม้ไผ่ ยกพื้นสูงและปลูกติดทะเล ส่วนที่ขยายและเปลี่ยนแปลงไปนั้นตั้งอยู่ใกล้หรือติดภูเขา ตัวบ้านยกพื้นด้วยเสาปูน ผนังบ้านทำจากไม้ฝาสำเร็จรูป มีหน้าต่างกระจก และหลังคากระเบื้อง อาชีพพื้นถิ่นเดิมของชุมชน คือ การประกอบอาชีพประมง และการปลูกต้นกาหยู แต่ปัจจุบันเริ่มมีการไปรับจ้างตามรีสอร์ท และร้านอาหารซึ่งเกิดขึ้นมาใหม่ เนื่องจากกระแสการท่องเที่ยว',\n",
              "       'นาโพธิ์ เป็นชุมชนตลาด และชุมชนโดยรอบสถานีรถไฟ เป็นตลาดที่มีตึกแถวไม้ยาวนับร้อยเมตร อยู่ริมแม่น้ำ เป็นที่ที่นายมุตัน แซ่ฮุ่น (ฮุ่นตระกูล) คหบดีชาวจีนไหหลำ ได้ซื้อที่ดินจากชาวบ้านเพื่อสร้างโรงสีข้าว โรงเลื่อย และบ้านพักอาศัยของครอบครัว ต่อมาได้บุกเบิกพื้นที่ สร้างเป็นตลาด สมัยก่อนเป็นชุมทางของเรือที่สัญจรมาจาก ถิ่นอื่น เพื่อขนของไปขึ้นรถไฟ ของที่ซื้อขายกันในสมัยนั้นก็เป็น ข้าว ผลไม้ ของป่า สมุนไพร จากบ้านนาสัก บ้านทุ่งระยะ บ้านนาโพธิ์ มีลักษณะเป็นชุมชนเมือง ที่มีความหนาแน่นปานกลาง แบ่งออกเป็นสองส่วน ส่วนแรกเรียกว่าตลาดล่าง เป็นการตั้งถิ่นฐานยุคแรกในทางตอนใต้ของสถานีรถไฟ อีกส่วนคือตลาดบนเป็นพื้นที่พาณิชยกรรมที่เกิดขึ้นภายหลัง เนื่องจากการตั้งสถาบันต่าง ๆ ของอำเภอ เป็นชุมชนที่อยู่อาศัยดั้งเดิมที่มีประวัติความเป็นมาตั้งแต่ปี พ.ศ. 2466 เมื่อนายมุตัน แซ่ฮุน และครอบครัวได้สร้างห้องแถวไม้สองชั้นตลอดแนวสองฟากถนนวานิชบำรุง ซึ่งเป็นถนนหลักของชุมชน เพื่อใช้เป็นบ้านเช่าพักอาศัยและค้าขายจนกลายเป็นตลาดร้านค้าที่สมบูรณ์แบบมากขึ้น ภายหลังตลาดบนได้เจริญเติบโตมากขึ้นโดยลำดับ เนื่องจากเป็นศูนย์กลางทางสถาบันต่าง ๆ ในอำเภอ ฐานเศรษฐกิจของชุมชนเป็นย่านการค้า ได้แก่ ตลาด และแหล่งการค้าปลีกที่สำคัญของอำเภอ',\n",
              "       'ตลาดหลังสวน เป็นชุมชนตลาด และชุมชนโดยรอบสถานีรถไฟ เป็นการตั้งถิ่นฐานชุมชนบริเวณแม่น้ำหลังสวนซึ่งเป็นแม่น้ำสายสั้น ๆ และมีที่ราบลุ่มน้อย ชุมชนในบริเวณดังกล่าวจึงไม่อาจจะพัฒนาเป็นชุมชนเกษตรกรรมขนาดใหญ่เหมือนเมืองชุมพร ไชยา นครศรีธรรมราช และพัทลุง ได้ บทบาทของเมืองหลังสวนในระยะเริ่มแรกจึงเป็นเพียงชุมชนท่าเรือข้ามคาบมหาสมุทร และหมู่บ้านเกษตรกรรมขนาดเล็ก บ้านเรือนแถวไม้ทรงโบราณฉลุลายไทย มีการตกแต่งด้วยไม้ลายฉลุด้วยมือ แสดงถึงฝีมือของช่างไม้ที่มีความสามารถของอำเภอหลังสวน อนุรักษ์ไว้ให้อนุชนได้ศึกษาวิถีชีวิตของคนรุ่นก่อน ฐานเศรษฐกิจของชุมชนเป็นย่านการค้า ได้แก่ ตลาด เป็นย่านการค้าปลีกที่สำคัญของอำเภอ',\n",
              "       'ย่านเมืองเก่าสงขลา เป็นชุมชนตลาด เมื่ออดีตราว 200 ปีก่อน ตัวเมืองสงขลาตั้งอยู่ทางฝั่งตะวันตกของทะเลสาบ เรียกว่า \"เมืองสงขลา ฝั่งแหลมสน\" จนกระทั่ง พ.ศ. 2385 จึงขยายมาทางฝั่งทิศตะวันออกบริเวณตำบลบ่อยาง เรียกกันว่า \"เมืองสงขลาฝั่งบ่อยาง\" ชุมชนตั้งอยู่บริเวณพื้นที่ฝั่งตะวันออกของทะเลสาบสงขลา ครอบคลุมพื้นที่ถนนนครนอก ถนนนครใน ถนนนางงาม และพื้นที่ใกล้เคียง มีลักษณะเป็นแหลมทางทิศตะวันออกติดกับอ่าวไทย สิ่งก่อสร้างที่หลงเหลืออยู่ ประกอบด้วย ประตูเมืองสงขลา (เดิม) ห้องแถวไม้แบบจีน ตึกรูปแบบชิโนโปรตุกีส  และยังมีอาคารตึกแถวแบบจีนโบราณของชาวจีนฮกเกี้ยนอยู่ปะปนกันทั้งสองฟากฝั่งถนน โดยอาคารหลายหลังมีการปรับปรุง ทาสีใหม่ แต่ไม่ได้เปลี่ยนแปลงโครงสร้างของอาคารเก่าเหล่านี้ สะท้อนภาพการเป็นเมืองสำคัญด้านการปกครองปัจจุบันคนในพื้นที่นอกจากกิจการทั่วไปแล้ว ยังมีการส่งเสริมด้านการท่องเที่ยว เป็นสถานที่ท่องเที่ยวที่มีชื่อเสียงและคึกคักของจังหวัดสงขลา ส่วนใหญ่เป็นชาวไทยพุทธ ชาวจีน และชาวมุสลิม',\n",
              "       'เกาะยอ เป็นชุมชนริมน้ำ และชุมชนกลุ่มอาชีพเฉพาะ ประวัติศาสตร์ชุมชน หมู่บ้านเกาะยอ แต่เดิมเป็นหมู่บ้านประมงเล็ก ๆ สันนิษฐานว่ามีมาตั้งแต่ยุคของเมืองสงขลาดั้งเดิม \"เมืองสงขลา ฝั่งแหลมสน\" ต่อมาเมื่อย้ายเมืองสงขลาไปอยู่ฝั่งบ่อยาง หมู่บ้านเกาะยอยังคงเป็นหมู่บ้านประมงเล็ก ๆ ที่สงบเงียบ มิได้มีการพัฒนาความเจริญก้าวหน้าอย่างรวดเร็ว ชุมชนตั้งอยู่ริมทะเลสาบสงขลา ตลอดแนวริมทะเลด้านทิศตะวันตก ตัดเชื่อมด้วยถนน 2 เลน มีชายฝั่งเป็นดินความลึกไม่มาก บ้านเรือนตั้งเรียงรายอยู่สองฝั่งถนน ความหนาแน่นไม่มาก อาคารเรือนไม้เก่าจะยกใต้ถุนสูง มีสภาพดีและมีการดูแลรักษาเป็นอย่างดี เดิมประกอบอาชีพประมงและทำสวน แต่ในปัจจุบันมีการทำประมงลดลงมาก บ้านเรือนส่วนมากมีแต่ผู้สูงอายุอยู่ หรือมีการเปลี่ยนมือไปแล้ว ภาวะการท่องเที่ยวเกิดขึ้นในพื้นที่ ทำให้อาคารบางหลังถูกใช้เป็นบ้านพักโฮมสเตย์สำหรับนักท่องเที่ยว และเปิดเป็นร้านอาหารซีฟู๊ด ส่วนใหญ่เป็นชาวไทยพุทธ และไทยมุสลิม',\n",
              "       'วิถีพุทธคลองแดน เป็นชุมชนตลาด และชุมชนริมน้ำ สันนิษฐานว่า มีชาวสวนเข้ามาบุกเบิก และตั้งถิ่นฐานอยู่บริเวณนี้มาเกือบ 100 ปีซึ่งแต่เดิมพื้นที่บริเวณนี้เป็นชุมทางการสัญจรทางน้ำ (สายคลอง) จากสงขลาไปเมืองนครฯ ชุมชนตั้งอยู่บริเวณทางฝั่งตะวันออกของทะเลสาบสงขลา มีคลองระโนดที่เชื่อมต่อทะเลสาบสงขลากับทะเลอ่าวไทย โดยผ่านตลาดน้ำระโนด เดิมมีการปล่อยให้ทิ้งร้าง ต่อมามีการปรับปรุงตลาดโดยได้รับความร่วมมือจากการเคหะ ทำให้ตลาดมีสภาพที่ใกล้เคียงของเดิม คือ มีสภาพเป็นบ้านไม้ริมน้ำ ไม่มีรั้ว มีทางเดินริมน้ำตลอดคลอง ชุมชนคลองแดนเคยเป็นเมืองท่าที่เจริญรุ่งเรืองมาก มีร้านทอง ร้านตัดเสื้อผ้า ร้านขายของชำ ร้านยา ร้านตัดผม โรงสี ชาวจีนที่มาตั้งรกรากได้ชักชวนญาติพี่น้องมาอาศัยอยู่ที่นี่เพิ่มมากขึ้น มีการตั้งถิ่นฐานบ้านเรือนกันอย่างหนาแน่นตลอดแนวริมน้ำคลองแดน คลองระโนด คลองชะอวด และคลองปากพนัง จนกระทั่งเมื่อทางหลวงสาย 408 เริ่มใช้งาน ทำให้ความนิยมในการใช้การสัญจรทางน้ำลดลง คนเริ่มอพยพออกจากพื้นที่ ปัจจุบันไม่มีการใช้การสัญจรทางน้ำอีกเลย ส่วนใหญ่เป็นชาวไทยพุทธ และชาวจีน',\n",
              "       'ย่านการค้าเก่าชุมทางรถไฟหาดใหญ่ เป็นชุมชนตลาด และชุมชนรอบทางรถไฟ พื้นที่บริเวณนี้แต่เดิมเป็นย่านการค้าที่บุกเบิกขึ้นพร้อมกับการสร้างสถานีรถไฟหาดใหญ่ ชุมชนตั้งอยู่บริเวณใจกลางเมืองหาดใหญ่ ครอบคลุมพื้นที่กว้างประมาณ 1 กิโลเมตร ยาวประมาณ 4 กิโลเมตร ตั้งอยู่ประชิดทางรถไฟ บริเวณถนนนิพัทอุทิศ 1 และ 2 และถนนประชาธิปัตย์ แต่เดิมเป็นอาคารเรือนแถวไม้และเรือนแถวปูน สร้างเรียงรายอยู่สองฝากฝั่งถนน มีลักษณะเป็นตึกแถวพาณิชย์ชั้นล่างและอยู่อาศัยชั้นบนรูปแบบชิโนโปรตุกีส มีทางเท้าที่มีหลังคากันแดดกันฝน ต่อมาการพัฒนาของเมืองหาดใหญ่เป็นไปอย่างรวดเร็วทำให้เกิดการรื้ออาคารเก่าลง และสร้างเป็นอาคารสมัยใหม่ขึ้นทดแทนอาคารเดิม ปัจจุบันคงเหลือแต่เพียงชุดตึกแถวปูนชิโนโปรตุกีส บริเวณถนนนิพัทอุทิศ 1 หลงเหลืออยู่หลายหลังเรียงรายกันเป็นกลุ่มอาคารพาณิชย์ นอกจากนี้ยังมีอาคารตึกแถวไม้ และตึกแถวปูนกระจัดกระจายอยู่ในพื้นที่ ซึ่งไม่เห็นภาพของกลุ่มก้อนอาคารเดิมแล้ว ย่านการค้าแห่งนี้เป็นจุดเริ่มต้นของเมืองหาดใหญ่ ปัจจุบันเป็นศูนย์การค้า กลางเมืองหาดใหญ่ มีการพัฒนาไปจากในอดีตมาก แต่บทบาทสำคัญยังไม่เปลี่ยนแปลง ส่วนใหญ่เป็นชาวไทยพุทธ และชาวจีน',\n",
              "       'ท่านางหอม เป็นชุมชนเกษตรกรรม สันนิษฐานว่ามีการตั้งถิ่นฐานบริเวณนี้มามากกว่า 100 ปี ชุมชนตั้งอยู่บริเวณริมลำคลองเล็ก ๆ ข้างวัดท่านางหอม ซึ่งเป็นลำคลองที่สามารถเชื่อมต่อไปยังทะเลสาบสงขลาได้ ลักษณะอาคารในชุมชนมีลักษณะเป็นบ้านเรือนเดี่ยว ยกใต้ถุน ตามลักษณะของเรือนภาคใต้หลังคามุงกระเบื้องดินเผา แต่เดิมชุมชมแห่งนี้เป็นชุมชนเกษตรกรรม ตั้งอยู่รอบ ๆ วัด ประกอบอาชีพทำนา ทำสวนผลไม้ สวนปาล์ม ผลจากการตัดถนนจากตัวเมืองหาดใหญ่ไปยังตัวเมืองสงขลา เป็นถนนที่ผ่านเข้ามาใกล้ชุมชน แต่พื้นที่โดยรอบมิได้มีสถานที่หรือชุมชนอาศัยหนาแน่น ทำให้พื้นที่แห่งนี้มีลักษณะเป็นเพียงทางผ่านรถ และทางเข้าออกสู่ถนนใหญ่ของคนในชุมชน ปัจจุบันมีการเปลี่ยนแปลงรูปแบบบ้านพักอาศัยเป็นบ้านสมัยใหม่ คงเหลือบ้านแบบดั้งเดิมเพียงไม่กี่หลัง  และคู คลอง ที่แต่เดิมใช้เป็นทางสัญจร ก็มิได้ถูกใช้งาน แต่สภาพความเป็นสวน และภูมิทัศน์ของชุมชนชนบท ยังมิได้เปลี่ยนแปลงไปมากนัก ส่วนใหญ่เป็นชาวไทยพุทธ',\n",
              "       'คูขุด เป็นชุมชนเกษตรกรรม และชุมชนริมน้ำ สันนิษฐานว่ามีการตั้งถิ่นฐานในบริเวณนี้มามากกว่า 100 ปี ชุมชนตั้งอยู่บนคาบสมุทรสทิงพระ ทางทิศตะวันออกติดอ่าวไทย ส่วนทางทิศตะวันตกติดกับทะเลสาบสงขลา ได้รับอิทธิพลของน้ำทะเล ทำให้เกิดเป็นลักษณะของทางน้ำไหล พายุมีอิทธิพลต่อพื้นที่นี้อย่างมาก และมักเกิดอุทกภัยและวาตภัยบ่อยครั้ง บ้านไม้ยกใต้ถุนไม่สูง หลังคากระเบื้องดินเผา ฝาผนังสังกะสี ลักษณะเรือนพื้นถิ่นในภาคใต้ แต่เดิมเคยเป็นเมืองท่า เดินทางจากชุมชนรอบทะเลสาบสงขลาตอนกลาง สามารถเดินทางมาด้วยเรือ ใกล้กว่าไปติดต่อค้าขายที่ อำเภอปากพะยูน จังหวัดพัทลุง และยังเดินทางไปต่อรถที่ อำเภอสทิงพระ ต่อไปสงขลา พัทลุง นครศรีธรรมราช ได้สะดวก เอกลักษณ์เด่นของชุมชนบ้านคูขุด คือ การแสดงพื้นบ้านหลายอย่าง เช่น หนังตะลุง มโนราห์ ลิเกป่า ดนตรีไทย และรำวง การแสดงหนังตะลุงนั้นในอดีตครอบครัวศิลปินคูขุด ซึ่งเป็นต้นตระกูลทิพย์ดนตรีชื่อ นายหนังจ้วนคูขุด มีอาชีพ รุนกุ้ง (จับกุ้งขาย) กลายเป็นตัวหนังตะลุงโด่งดัง ส่วนใหญ่เป็นชาวไทยพุทธ',\n",
              "       'ย่านถนนบุรีวานิช เป็นชุมชนตลาด เป็นถนนการค้าสายเก่าแก่ของจังหวัดสตูล ชุมชนตั้งอยู่บริเวณศูนย์กลางอำเภอเมืองสตูล อาคารแถวพาณิชยกรรมสูง 2 ชั้น บนถนน 4 ช่องจราจร มีการฟื้นฟูอาคาร ยังคงมีรูปแบบหลังคาทรงจีนแบบเดิมอยู่บ้าง ทางเท้ามีร่มเงาจากรูปแบบอาคาร เป็นการค้าขายร่วมสมัย',\n",
              "       'เกาะอาดัง เป็นชุมชนเกษตรกรรม ชุมชนริมน้ำ และชุมชนชาติพันธุ์ ซึ่งเป็นหนึ่งในเกาะที่มีชาวเลอูรักลาโว้ยมาตั้งถิ่นฐาน โดยแต่เดิมเป็นเป็นกลุ่มชาติพันธุ์ที่เร่ร่อนในทะเลมานาน และได้เริ่มตั้งถิ่นฐานตามเกาะต่าง ๆ ในทะเลอันดามัน ชุมชนตั้งอยู่บนเกาะที่ใหญ่เป็นอันดับ 2 ในอุทยานแห่งชาติหมู่เกาะตะรุเตา อยู่ห่างจากเกาะตะรุเตาไปทางทิศตะวันตกประมาณ 40 กม. ห่างจากตัวเมืองประมาณ 80 กม. เป็นสวนแห่งปะการังใต้ท้องทะเล บางบริเวณอยู่ในน้ำตื้นสามารถมองเห็นได้จากผิวน้ำ ภูมิประเทศโดยทั่วไปเป็นภูเขาสูง มีป่าปกคลุมแลดู เขียวครึ้ม ทางด้านหลังมีน้ำตกขนาดใหญ่ มีน้ำตลอดปี อาคารบนเกาะมีลักษณะเป็นเรือนเดี่ยว ส่วนมากใช้เป็นที่พักสำหรับนักท่องเที่ยว และสิ่งอำนวยความสะดวกอื่น ๆ มีอาคารบนเกาะเบาบาง และชุมชนชาวเลอาศัยปะปนไปกับอาคาร ของการท่องเที่ยว ที่อยู่ริมรอบชายฝั่งทะเล คำว่า \"อาดัง\" มาจากคำเดิมในภาษามลายูว่า \"อุดัง\" มีความหมายว่า \"กุ้ง\" เพราะบริเวณนี้เคยอุดมสมบูรณ์ไปด้วยกุ้งทะเล รายได้หลักของเกาะอาดังมาจากการท่องเที่ยว ไม่แน่ชัดว่ามีการประมงอยู่หรือไม่',\n",
              "       'เกาะหลีเป๊ะ เป็นชุมชนเกษตรกรรม ชุมชนริมน้ำ และชุมชนชาติพันธุ์ ซึ่งเป็นหนึ่งในเกาะที่มีชาวเลอูรักลาโว้ยมาตั้งถิ่นฐาน แต่เดิมเป็นเป็นกลุ่มชาติพันธุ์ที่เร่ร่อนในทะเลมานาน และได้เริ่มตั้งถิ่นฐานตามเกาะต่าง ๆ ในทะเลอันดามัน ชุมชนตั้งอยู่หนึ่งในอุทยานแห่งชาติหมู่เกาะตะรุเตา อยู่สุดเขตแดนใต้แถบหมู่เกาะอาดัง – ราวี ตั้งอยู่ทางทิศตะวันตกของเกาะตะรุเตา ห่างจากเกาะตะรุเตา 45 กิโลเมตร ห่างจากฝั่งท่าเรือปากบารา 62 กิโลเมตร เป็นเกาะขนาดเล็ก ถือเป็นเกาะที่อยู่สุดท้ายทางตอนใต้ของทะเลอันดามันของไทย เกาะมีสภาพเป็นชุมชนเมือง มีอาคารและการใช้งานที่หลากหลายตามความต้องการสำหรับการท่องเที่ยว พื้นที่ริมหาดส่วนใหญ่เป็นร้านค้า สถานที่ให้บริการท่องเที่ยว และบ้านพักโฮมสเตย์ เป็นที่อยู่อาศัยของชาวเล (ชาวน้ำ) ประมาณ 500 คน ซึ่งกล่าวว่า ก่อนหน้านี้ เกาะหลีเป๊ะอยู่บนเกาะลันตาในจังหวัดกระบี่ พวกเขาดำรงชีวิตอยู่ได้ด้วยการประมง และการเพาะปลูกผัก ปลูกข้าว เกาะหลีเป๊ะอยู่ในเขตอุทยานฯ แต่ว่าพื้นที่ทั้งหมดเป็นของชาวบ้านซึ่งอยู่อาศัยบนเกาะมาเป็นร้อยกว่าปีก่อนการประกาศจัดตั้งอุทยานแห่งชาติ ดังนั้นการจัดการพื้นที่บนเกาะจึงอยู่นอกเหนืออำนาจของอุทยานฯ ปล่อยให้เป็นหน้าที่ของชุมชนบริการจัดการ โดยอุทยานแห่งชาติคอยดูแลความเรียบร้อยและความปลอดภัยสำหรับนักท่องเที่ยว',\n",
              "       'ตันหยงโป เป็นชุมชนเกษตรกรรม และชุมชนริมน้ำ ตำบลตันหยงโป เป็นพื้นที่ที่เป็นแหลมทอดยาวออกไปในทะเล มีป่าชายเลนขึ้นอยู่รอบหมู่บ้าน มีไม้ยืนต้นชนิดหนึ่งขึ้นอยู่เป็นจำนวนมาก ชาวบ้านเรียกว่า \"ต้นปาบ\" มีลักษณะคล้ายต้นมะม่วง หรือทางชาวมุสลิมเรียกว่า \"ต้นโป\" ต่อมาเรียกว่า \"บ้านตันหยงโป\" (ตันหยง แปลว่า แหลม) พื้นที่ส่วนใหญ่เป็นป่าชายเลน และแนวหินโสโครกชายฝั่ง ดินทั่วไปจะเป็นดินเค็ม บางส่วนเป็นพื้นที่ราบลุ\\uf70aม และเนินเขาเตี้ย มีคลอง 2 สาย คือ คลองควาย และคลองโต\\uf70cะครู และมีชายหาด 2 แห่ง คือ หาดตันหยงโป และหาดทรายยาว อาคารเรือนไม้เดี่ยวยกใต้ถุนสูง มีถนนเรียบหาดที่มีบ้านเรือนตั้งอยู่สองฝั่งถนน มีโครงการการสนับสนุนชุมชน ชุมชนมีอาชีพประมง ส่งออกมาเลเซีย',\n",
              "       'ตำมะลัง เป็นชุมชนเกษตรกรรม และชุมชนริมน้ำ ชุมชนตั้งอยู่ใกล้บริเวณปากแม่น้ำที่ไหลออกสู่ทะเลอันดามัน ใต้สุดของประเทศไทยลักษณะที่อยู่อาศัยกลมกลืนกับธรรมชาติ (ใช้วัสดุจากป่าชายเลน) ในอดีตพื้นที่อ่าวตำมะลังมีผู้คนอาศัยอยู่เพียงไม่กี่ครัวเรือน และเริ่มมีการแลกเปลี่ยนค้าขายกัน ต่อมามีชาวอินโดนีเซียได้เดินทางโดยเรือเพื่อมาค้าขายและแวะพักแรมบนเกาะ และได้พบเห็นนกอินทรีถูกผูกติดอยู่กับต้นไม้บนเกาะนั้น จึงเรียกขานอ่าวนี้ว่า \"อ่าวตำมะลัง\" ตามที่ได้เห็นนกอินทรีถูกผูกไว้ ต่อมาเมื่อมีผู้คนมาตั้งถิ่นฐานเพิ่มมาก ขึ้นมีการจัดตั้งเป็นชุมชนหมู่บ้านและตำบลโดยใช้ชื่อว่า \"ตำมะลัง\" ชุมชนที่อาศัยอยู่บริเวณอ่าวตำมะลังนี้ส่วนใหญ่มีเชื้อสายมาลายู หรือ ไทย-มาลายู มีวิถีชีวิตและวัฒนธรรมที่สอดคล้องกับหลักปฏิบัติของศาสนาอิสลาม ซึ่งเป็นศาสนาที่คนส่วนใหญ่นับถือ',\n",
              "       'เกาะบุโหลนดอน เป็นชุมชนเกษตรกรรม ชุมชนริมน้ำ และชาติพันธุ์ของชาวอุรักลาโว้ย ที่เข้ามาตั้งถิ่นฐานแต่เดิม ชุมชนตั้งอยู่บนเกาะในหมู่เกาะบุโหลน เป็นชุมชนชาวเลดั้งเดิม เกาะบุโหลนเลเป็นเกาะที่มีขนาดใหญ่ที่สุด มีราษฎรอาศัยอยู่ประมาณ 68 ครัวเรือน มีฐานะความเป็นอยู่ค่อนข้างดีกว่าเกาะบุโหลนดอน จำนวนราษฎรทั้งสองเกาะ 474 คน ส่วนใหญ่เป็นชาวเล (อุรักลาโว้ย) นับถือศาสนาอิสลาม มีอาชีพทำประมงเป็นหลัก รองลงไปก็มีอาชีพรับจ้างและค้าขาย',\n",
              "       'ปากละงู เป็นชุมชนเกษตรกรรม และชุมชนริมน้ำ บ้านปากละงูมีตำนานที่เกี่ยวกับชื่อหมู่บ้าน คือ บ้านปากงูอยู่ในตำบลละงู อำเภอละงู มีเรื่องเล่าว่ามีสามีภรรยาคู่หนึ่งเป็นชาวละงู สามีเป็นคนหาของป่าขาย วันหนึ่งสองสามีภรรยาได้เดินทางไปที่บ้านปากงู ระหว่างทางภรรยาได้เห็นงูยักษ์ตัวหนึ่งเลื้อยเข้ามาหานาง สามีจึงเอาหอกพุ่งเข้าปากงู ทำให้เลือดงูไหลท่วมบริเวณนั้นเต็มไปหมด ชาวบ้านทราบเรื่องจึงเรียกหมู่บ้านนี้ว่า หมู่บ้านปากงู แต่คำว่า \"ละงู\" เข้าใจว่าชื่อเดิมคงเป็น กรางู หรือ กะละงู หรือ กราละงู คำว่า \"กรา\" เป็นภาษาโบราณซึ่งแปลว่า ปาก เป็นชุมชนเลียบชายฝั่งอ่าวบารา ชุมชนประมง ส่วนใหญ่ประกอบอาชีพประมง ค้าขาย',\n",
              "       'ตลาดทุ่งหว้า เป็นชุมชนตลาด เดิมอำเภอทุ่งหว้ามีความเจริญรุ่งเรืองมาก มีเรือกลไฟจากต่างประเทศมาติดต่อค้าขายเป็นประจำ สินค้าออกที่สำคัญ คือ พริกไทย การปลูกพริกไทยได้รับการส่งเสริมโดยเชิญชาวจีนจากเกาะปีนัง มาสาธิตเป็นตัวอย่าง ทำให้ทุ่งหว้ามีความเจริญรุ่งเรืองมากรองจากปีนัง จนได้รับการขนานนามว่า \"ปีนังน้อย\" หรือ \"ปีนัง 2\" ในอดีตทุ่งหว้ามีการจัดงานมหรสพเฉลิมฉลองบ่อยโดยจะมีการแสดงงิ้ว หุ่นจีน หนังตะลุง ลิเกป่า และมโนราห์ คราวละหลายคืน การค้าขายจะมีพ่อค้าชาวจีน ญี่ปุ่น และชาติอื่นๆ มาติดต่อค้าขายทำให้มีการหมุนเวียนของเงินมาก ลักษณะภูมิประเทศ เป็นที่ราบมีถนนเชื่อมกับท่าเรือเก่า มีอาคารตึกแถวแบบชิโนโปรตุกีสปัจจุบันเป็นย่านพาณิชยกรรมร่วมสมัย ของชาวจีนฮกเกี้ยน แต่เดิมการค้าในตลาดมีความสัมพันธ์กับท่าเรือของเมืองสตูล (ท่าเรือสุไหงอุเป)',\n",
              "       'บ้านควน เป็นชุมชนเกษตรกรรม ชื่อตำบลบ้านควนมาจากภาษามลายูที่แปลว่า เนิน หรือ ควนคือ หรือ กำปงกัวะ แต่เดิมบ้านควนมีความหมายเฉพาะพื้นที่หมู่บ้านที่ตั้งอยู่ในพื้นที่หมู่ที่ 5 ซึ่งเป็นหมู่บ้านเดียวที่อยู่บนเนินสูง แต่ปัจจุบันบ้านควนถูกยกขึ้นเป็นชื่อตำบล มีพื้นที่ครอบคลุมหลายหมู่บ้าน สภาพภูมิประเทศเป็นพื้นราบและเป็นพื้นที่ป่าเขา ลักษณะลาดเทจากทิศตะวันออกเฉียงเหนือไปทิศตะวันตกเฉียงใต้ มีพื้นที่ทั้งหมด 26,706 ไร่ หรือประมาณ 42.72 ตารางกิโลเมตร พื้นที่ส่วนใหญ่เหมาะสำหรับทำสวนผลไม้ ยางพารา นาข้าว และเลี้ยงสัตว์ มีอาคารเรือนไม้เกษตรกรรม และอาคารสถานที่ราชการเก่า ส่วนใหญ่ประกอบอาชีพเกษตรกรรม',\n",
              "       'ตลาดฉลุง เป็นชุมชนตลาด และชุมชนความทรงจำ บ้านฉลุงในอดีตเป็นป่าดงดิบ มีช้างมากมาย และเป็นศูนย์กลางติดต่อค้าขายแลก เปลี่ยนสินค้าทางการเกษตร เป็นที่ต้อนรับแขกบ้านแขกเมือง และเป็นที่อยู่ของเจ้าพระยาชื่อ กวนตู ซึ่งต่อมาได้หายสาบสูญโดยไม่ทราบสาเหตุ มีความชำนาญในด้านคล้องช้าง ซึ่งที่บ้านฉลุงมีการทำพิธีคล้องช้าง มีการจับช้างและมีการฝึกช้างไว้ใช้งาน คำว่า \"ฉลุง\" มาจากภาษามลายูว่า กำปงโฉลง คำว่า \"กำปง\" แปลว่าหมู่บ้าน คำว่า \"โฉลง\" แปลว่า คอก โดยล่อให้ช้างเข้าไป ต่อมาได้เพี้ยนตามภาษาไทยมาเป็น ฉลุง มาถึงทุกวันนี้ ลักษณะภูมิประเทศเป็นที่ราบลุ่ม ตั้งอยู่บนถนนสายฉลุง-ตรัง มีอาคารตึกแถวเก่าแบบชิโนโปรตุกีส ส่วนใหญ่ประกอบอาชีพค้าขายและเกษตรกรรม',\n",
              "       'เกาะใหญ่ เป็นชุมชนเกษตรกรรม เดิมคนในหมู่บ้านนี้อพยพมาจากบ้านย่านซื่อ ซึ่งมี โต๊ะสัน บาหลัง เป็นคนแรกที่มาตั้งหลักแหล่งที่นี่ เพื่อประกอบอาชีพการทำนา ต่อมาได้มีผู้อพยพเข้ามาอยู่เพิ่มมากขึ้น แต่เนื่องจากบริเวณนี้มีสัตว์ดุร้าย เช่น เสือ หมูป่า ทำให้ไม่มีใครเข้าไปตั้งบ้านเรือนอยู่ตามลำพัง จึงต้องมาตั้งบ้านเกาะกลุ่ม รวมกันเป็นหมู่บ้าน จึงเรียกชื่อว่า บ้านเกาะใหญ่ เป็นหมู่บ้านที่เป็นทางผ่านการเดินทางจากสงขลาไปยังสตูล ซึ่งบริเวณที่ติดถนนสายหลัก ทางหลวงแผ่นดินหมายเลขที่ 406 เป็นที่รู้จักกันคือ \"สามแยกนิคม\" บริเวณโดยรอบเป็นที่ราบเชิงเขา ทำการเกษตร (นา) โดยหมู่บ้านดั้งเดิมจะตั้งอยู่บนควน (ที่สูง) และพื้นที่ต่ำกว่ารอบ ๆ เป็นพื้นที่เกษตรกรรม มีอาคารเรือนเดี่ยวยกใต้ถุนสูง มัสยิดไม้ เป็นชุมชนเกษตร (นาข้าว สวนปาล์ม ยาง) มีศูนย์กลางชุมชนที่มัสยิด',\n",
              "       'ย่านเมืองทับเที่ยง เป็นชุมชนตลาด ที่ตั้งของตัวเมืองตรังนั้นมีการเปลี่ยนแปลงมาหลายครั้ง ตามหลักฐานตั้งแต่ ยุคอาณาจักรโบราณ ลัดเลาะตามริมฝั่งแม่น้ำตรัง จนกระทั่งในสมัยรัชกาลที่ 6 พระยารัษฎานุประดิษฐ์ (สินธุ์ เทพหัสดิน ณ อยุธยา) ได้ทูลขอย้ายเมืองมาตั้งอยู่ ณ ตำบลทับเที่ยง โดยให้ชื่อว่า อำเภอบางรัก และต่อมาจึงเปลี่ยนชื่อเป็น อำเภอทับเที่ยง ในปี พ.ศ. 2459 เหตุที่เรียกว่าทับเที่ยงนั้นเพราะพระบาทสมเด็จ พระเจ้าอยู่หัว (ร.5) ได้เสด็จมาที่จังหวัดตรัง และได้มาถึงจังหวัดตรังในเวลาตอนเที่ยง จึงได้สร้างที่ประทับตอนเที่ยง จึงกลายเป็นตำบลทับเที่ยง ลักษณะภูมิประเทศมีสภาพเป็นเนินสูงต่ำสลับกับที่ราบ มีแม่น้ำสำคัญไหลผ่าน คือ แม่น้ำตรัง มีอาคารตึกแถวแบบชิโนโปรตุกีส ส่วนใหญ่ประกอบอาชีพค้าขาย เนื่องจากเป็นชุมชนเมือง',\n",
              "       'ตลาดห้วยยอด เป็นชุมชนตลาด ที่มีชื่อเรียกว่า \"ห้วยยอด\" เนื่องมาจากภูมิประเทศของอำเภอห้วยยอด โดยคำว่า \"ห้วย\" หมายถึง ลำห้วยต่างๆ ซึ่งเป็นสาขาของแม่น้ำตรัง อันเป็นแม่น้ำสายหลักของจังหวัดที่พาดผ่านพื้นที่ส่วนต่างๆ ของอำเภอ ส่วนคำว่า \"ยอด\" หมายถึง ยอดเขาที่เรียงรายตลอดแนวทางด้านทิศตะวันออกของอำเภอ ซึ่งเรียกว่า \"ภูเขาบรรทัด\" โดยพื้นที่ห้วยน้ำและยอดเขาสลับกันไปมา จึงได้เรียกว่า \"ห้วยยอด\" มาจนปัจจุบัน ภูมิประเทศมีลักษณะเป็นทางลาดชันเล็กน้อย อาคารเรือนแถวไม้และคอนกรีตสองชั้น ตั้งเรียงตัวติดถนน 2 ช่องทาง ทุกอาคารมีทางเดินใต้อาคารที่เป็นทางเท้า อาคารสร้างตามความลาดชันก่อให้เกิดลักษณะพิเศษ เป็นชุมชนพาณิชยกรรม ที่ยังมีกิจกรรมการค้าขายที่คึกคัก',\n",
              "       'ตลาดท่าข้าม เป็นชุมชนตลาด และชุมชนริมน้ำ ตำบลท่าข้าม ในสมัยก่อนการคมนาคมไม่สะดวก โดยเฉพาะทางบก การติดต่อค้าขายหรือสัญจรไปมาต้องอาศัยทางเรือ ซึ่งในตำบลนี้มีท่าเรือที่สามารถติดต่อกับ ตำบลทุ่งหว้า อำเภอละงู จังหวัดสตูล ตำบลเกาะสุกร ตำบลตะเสะ อำเภอกันตัง จังหวัดตรัง ทำให้ชาวบ้านเรียกกันว่า \"ตำบลท่าข้าม\" ลักษณะภูมิประเทศ เป็นที่ราบพื้นที่ติดคลองเป็นท่าเรือ และสะพานปลาเก่า อาคารแถวไม้สองชั้น ตั้งเรียงตัวติดถนน 4 ช่องทาง มีอาคารแถวลักษณะชิโนโปรตุกีสปะปนบางส่วน เป็นที่อยู่อาศัยปะปนกับย่านพาณิชยกรรม เมื่อก่อนมีความสัมพันธ์ค้าขาย กับท่าเรือหยง-สตาร์ ปัจจุบันส่วนใหญ่ประกอบอาชีพทำสวน ประมง และแปรรูปอาหารทะเล',\n",
              "       'หยงสตาร์ เป็นชุมชนเกษตรกรรม และชุมชนความทรงจำ ก่อนที่จะเกิดชุมชนท่าข้ามนั้นจะมีชุมชนหยงสตาร์อยู่ก่อนหน้านี้แล้ว มีคนสันนิษฐานว่าสมัยกรุงสุโขทัยเป็นราชธานี พุทธศาสนาเริ่มเข้ามาเผยแพร่ในแถบภาคใต้ทางเมืองพัทลุง (นางเลือดขาว) ได้ไปติดต่อสมณทูตจากเมืองลังกาให้มาเผยแพร่ศาสนา ตามประวัติกล่าวว่า คณะทูตมาขึ้นเรือที่ท่าเรือปะเหลียนซึ่งเป็นเมืองด่านหน้าของเมืองพัทลุง ก่อนที่จะเดินทางผ่านไปยังเมืองต่าง ๆ สันนิษฐานว่าจะเป็นท่าเรือตันหยงสตาร์ หรือท่าเรือบ้าน ควนสระ (ตำบลสุโสะ) หรือท่าเรือลิพัง ลักษณะภูมิประเทศ เป็นที่ราบ ตั้งถิ่นฐานลึกเข้ามาจากลำคลอง อาคารเรือนไม้เดี่ยวใต้ถุนสูง ตั้งเรียงตามแนวถนนหลัก มีเรือนเก่าที่มีคุณค่าอยู่บางส่วน เป็นชุมชนเกษตร อาชีพ ทำสวน ปาล์ม ยาง มีการออกประมงตามฤดูกาล',\n",
              "       'บ้านด่าน เป็นชุมชนเกษตรกรรม และชุมชนริมน้ำ เป็นด่านศุลกากรเดิม ชาวบ้านส่วนใหญ่ย้ายมาจากเกาะ ลักษณะภูมิประเทศ มีพื้นที่ติดชายเลน และด่านศุลกากรเดิม อาคารแถวไม้ชั้นเดียว ตั้งเรียงตัวติดแนวถนนหลัก ภายในมีท่าเรือเล็ก ๆ และศาลเจ้าของชุมชน ส่วนใหญ่ทำอาชีพประมงปลา ปู ขายส่งตลาดในตัวอำเภอ',\n",
              "       'ตลาดทุ่งยาว เป็นชุมชนตลาด คนกลุ่มแรกซึ่งเป็นบรรพบุรุษของชาวทุ่งยาวได้อพยพมาจากจีนแผ่นดินใหญ่ เดินทางมาขึ้นเรือที่ท่าเรือเกาะสุกร แหลมตะเสะ หาดสำราญ หยงสตาร์ และทุ่งหว้า ก่อนจะย้ายมาตั้งหลักแหล่งที่ตำบลทุ่งยาวในปัจจุบันนี้ คนกลุ่มแรกที่เข้ามาตั้งรกรากที่ตำบลทุ่งยาวคือ คนตระกูลโค้ว หรือแซ่โค้ว 10 คน เข้ามาอาศัยอยู่ที่หยงสตาร์ก่อนย้ายมาอยู่ที่ทุ่งยาว และมีคนยืนยันว่า เป็นตระกูลที่เดินทางมาจากตำบลปั๊กซัวเถา อำเภอโผวเล้งจังหวัดแต้จิ๋ว มณฑลกวางตุ้ง อาคารแถวเรือนไม้ตั้งแต่ชั้นครึ่งถึงสองชั้น ลักษณะหลังคาเป็นหลังคาสังกะสีขนาดใหญ่ ตั้งเรียงตัวติดถนน 4 ช่องทาง เป็นชุมชนพาณิชยกรรมค้าขายสมัยใหม่ของชาวจีนฮกเกี้ยน',\n",
              "       'ตลาดกันตัง เป็นชุมชนตลาด และชุมชนโดยรอบทางรถไฟ เป็นเมืองท่าสำคัญแห่งหนึ่งทางฝั่งมหาสมุทรอินเดีย เป็นศูนย์กลางการคมนาคมทางน้ำที่สำคัญมาแต่โบราณ และในปี พ.ศ. 2436 พระบาทสมเด็จพระจุลจอมเกล้าเจ้าอยู่หัวทรงพระกรุณาโปรดเกล้าฯ ให้พระยารัษฎานุประดิษฐ์ (คอซิมบี๊ ณ ระนอง) เจ้าเมืองตรังย้ายที่ตั้งเมืองตรัง จากตำบลควนธานี มาตั้งที่ตำบลกันตังโดยขึ้นกับมณฑลภูเก็ต ลักษณะภูมิประเทศ ตั้งอยู่ริมแม่น้ำตรัง ห่างจากปากน้ำตรัง 27 กิโลเมตร อาคารเรือนแถวไม้สองชั้น ตั้งเรียงตัวติดถนน 4 ช่องทาง เป็นแบบผสมผสานของการตกแต่งอาคารหลายรูปแบบ ตั้งอยู่ในเมือง เป็นชุมชนในเมือง ส่วนใหญ่เป็นพาณิชยกรรม มีมัสยิด ศาลเจ้าที่เป็นตึกแถว',\n",
              "       'ท่าน้ำหัวนอน เป็นชุมชนเกษตรกรรม และชุมชนริมน้ำ บริเวณชุมชนเริ่มต้นจากบริเวณริมแม่น้ำ ขยายตัวออกมาจนถึงถนนใหญ่ของเมืองพัทลุง อีกฝั่งของแม่น้ำเป็นชุมชนตลาดลำปำ เชื่อมกันด้วยสะพาน เป็นชุมชนเรือนไม้เดี่ยว วางตัวต่อเนื่องกันบนถนน 2 เลน ขนาดเล็ก มีสภาพดี และการปรับปรุงอาคารยังคงรักษาสภาพเดิมของอาคารไว้ได้ มีการใช้งานอาคารเป็นที่อยู่อาศัย บางอาคารใช้ชั้นล่างเป็นพื้นที่ค้าขายของสด และของใช้ทั่วไป มีการทำเกษตรและประมงระดับครัวเรือน',\n",
              "       'ตลาดเก่าลำปำ เป็นชุมชนตลาด ชุมชนริมน้ำ ชุมชนความทรงจำ และชุมชนรอบโบราณสถาน ลำปำเคยเป็นพื้นที่ตั้งของวังเจ้าเมืองเก่า ชุมชนตั้งอยู่ทางทิศเหนือของคลองลำปำ เป็นชุมชนที่มีทั้งเรือนเดี่ยวและเรือนแถวขึ้นสลับกัน อยู่ริมถนนใหญ่ 4 เลน มีเกาะกลางถนน มีวังเจ้าเมืองพัทลุงเป็นเรือนไทยโบราณได้รับการอนุรักษ์และเป็นศูนย์กลางชุมชน มีความเป็นพื้นที่ศูนย์กลางราชการในสมัยเก่า มีการใช้งานอาคารเรือนแถวเป็นอาคารพาณิชยกรรม อาคารเรือนเดี่ยวเป็นที่อยู่อาศัย ประกอบอาชีพเกษตรกรรม/เลี้ยงสัตว์ในระดับครัวเรือน',\n",
              "       'ย่านสี่กั๊ก ตลาดเมืองพัทลุง เป็นชุมชนตลาด และชุมชนรอบทางรถไฟ ย่านสี่กั๊กเมืองพัทลุงเป็นย่านตลาดการค้าที่เกิดขึ้นจากการสร้างทางรถไฟและสถานีรถไฟ จุดที่ตัดกันระหว่างทางรถไฟและทางสัญจรเดิมเป็นกากบาทจึงเรียกว่า สี่กั๊ก ชุมชนตั้งอยู่ระหว่างภูเขาหินเล็ก ๆ 2 ลูก มองเห็นได้จากแต่ละด้านของถนน เป็นจุดสังเกต เป็นชุมชนเรือนแถวสูง 2-3 ชั้น วางตัวต่อเนื่องกัน บนถนน 2 เลน มีการสัญจรหนาแน่น ตั้งอยู่กลางเมืองพัทลุง มีทั้งอาคารไม้เก่าและอาคารคอนกรีตสถาปัตยกรรมตะวันตกสภาพเก่า มีการใช้งานอาคารเป็นพาณิชยกรรม มีร้านค้าที่ทันสมัยเต็มไปด้วยป้ายร้านและโฆษณา',\n",
              "       'ปากประ เป็นชุมชนเกษตรกรรม และชุมชนริมน้ำ โดยชุมชนอยู่ใกล้กับทะเลสาบสงขลา บริเวณปากอ่าว พื้นที่โดยรอบมีลักษณะตามธรรมชาติ เป็นชุมชนเรือนไม้เดี่ยววางตัวห่างกัน มีพื้นที่ว่างสูง ไม่มีทางเท้า เกาะอยู่บนถนน 2 เลน มีการทำประมงบริเวณปากอ่าวทะเลสาบสงขลา ซึ่งเต็มไปด้วยโครงยกยอจำนวนหลายสิบอัน มีการทำเกษตรกรรม โดยเฉพาะนาข้าว ที่ดินเป็นที่ดินเอกชนถือกรรมสิทธิ์โดยชาวบ้านเอง',\n",
              "       'ทะเลน้อย เป็นชุมชนเกษตรกรรม ชุมชนริมน้ำ และชุมชนกลุ่มอาชีพเฉพาะ ชุมชนอยู่ติดกับทะเลสาบสงขลา เชื่อมต่อกันด้วยถนน 2 เลน พื้นที่โดยรอบมีลักษณะเป็นพื้นที่ราบน้ำท่วมถึง มีพื้นที่ลาดลงสู่ทะเล ชุมชนมีลักษณะควนวางเป็นแนวยาว เหมือนกำแพงขวางกั้นจึงได้ชื่อว่า \"พนางตุง\" มาจากคำว่า \"พนัง\" ซึ่งแปลว่า ที่กั้น ดังนั้น \"พนางตุง\" จึงหมายถึง ควนที่กั้นระหว่างพื้นที่ด้านตะวันออกและทิศตะวันตกของตำบล เป็นชุมชนเรือนเดี่ยวยกใต้ถุนสูงสำหรับเหตุน้ำท่วม ลักษณะเรือนครึ่งบกครึ่งน้ำ มีทางเดินคอนกรีตยกระดับเท่ากับพื้นบ้านชื่อว่า ถนนสายกลางบ้าน อาคารส่วนใหญ่เป็นอาคารรูปแบบเก่า สภาพดี อาคารส่วนใหญ่มีการใช้งานอยู่อาศัย อาชีพประจำชุมชน คือ การทำเสื่อกระจูด และปลาดุกร้า ชุมชนนี้ได้รับการดูแลและส่งเสริมจากหน่วยงานรัฐ ที่ดินมีโฉนด ถือกรรมสิทธิ์โดยชาวบ้านเอง',\n",
              "       'ตลาดปากคลอง เป็นชุมชนตลาด และชุมชนรอบทางรถไฟ ชุมชนตั้งอยู่บนถนน 4048 เส้นทางสู่ทะเลน้อย เป็นชุมชนตลาดเรือนแถวสูงไม่เกิน 2 ชั้นวางตัวต่อเนื่องกัน มีสถานีรถไฟตัดผ่านชุมชน ลักษณะชุมชนเรียงตัวเป็นแนวยาวอยู่บนถนนสายหลักขนาด 4 เลน มีกลุ่มโรงสีข้าวรวมกันอยู่ในถนนสายย่อยจำนวน 3-5 โรง เรือนแถวบนถนนสายหลักมีการใช้งานเป็นพาณิชยกรรม',\n",
              "       'ตลาดเขาชัยสน เป็นชุมชนตลาด และชุมชนรอบทางรถไฟ มีเขาชัยสนเป็นภูมิทัศน์ของพื้นที่ เป็นชุมชนเรือนแถว 2-3 ชั้น วางตัวต่อเนื่องกัน บนถนน 2 เลน มีอาคารคอนกรีตสมัยใหม่สูง 3 ชั้น ขึ้นผสมอยู่กับอาคารไม้เก่า 2 ชั้น มีศาลเจ้าเป็นศูนย์กลางของชุมชน มีการใช้งานอาคารเป็นพาณิชยกรรมและอยู่อาศัย มีร้านค้าสมัยใหม่ผสมผสานอยู่ด้วยกัน',\n",
              "       'อ่าวบาเต็ง เป็นชุมชนเกษตรกรรม และชุมชนริมน้ำ ที่ตั้งชุมชนอยู่ติดทะเลสาบสงขลา พื้นที่โดยรอบชุมชนเป็นที่ว่างตามธรรมชาติเป็นชุมชนเรือนเดี่ยวไม้-สังกะสี ยกใต้ถุนสูง วางตัวเป็นกลุ่มเล็กๆ แต่ส่วนมากกระจายตัวออกห่างจากกัน มีถนนขนาด 2 เลน ทางเดินเป็นดินลูกรังหรือสะพานไม้แคบ ๆ ใช้งานอาคารเป็นที่อยู่อาศัย ทำอาชีพการประมงเป็นหลัก และมีการทำเกษตรกรรมครัวเรือน',\n",
              "       'ตลาดบางแก้ว เป็นชุมชนตลาด และชุมชนรอบทางรถไฟ ลักษณะภูมิประเทศเป็นที่ราบไม่ติดทะเล เป็นชุมชนเรือนแถวสูงไม่เกิน 2 ชั้น วางตัวต่อเนื่องกันรอบถนนขนาด 4 เลน มีอาคารไม้และคอนกรีตวางตัวสลับกันตลอดแนวถนน การใช้งานเรือนแถวเป็นพาณิชยกรรม มีตลาดสดบางแก้วเป็นศูนย์กลางชุมชน',\n",
              "       'ปากพะยูน เป็นชุมชนตลาด และชุมชนริมน้ำ คำว่า \"ปากพะยูน\" สันนิษฐานว่า มากจากคำว่า \"ปลาพะยูน\" ซึ่งเป็นปลาที่มีลักษณะคล้ายกับปลาวาฬเลี้ยงลูกด้วยนม\\xa0สมัยก่อนปลานี้มีอยู่มากในทะเลสาบสงขลาตอนใน แต่มีบางท่านว่า มาจาก คำว่า ปากพูน ซึ่งแปลว่า \"ปากน้ำ\" ชุมชนตั้งอยู่บริเวณทางใต้ของเกาะหมาก ลำน้ำขั้นกลางเรียกว่า หลวง เป็นชุมชนเรือนแถววางตัวต่อเนื่องกัน ติดทะเลสาบสงขลา อยู่รอบถนนขนาด 2 เลน มีมัสยิดเป็นศูนย์กลางชุมชน การใช้งานเรือนแถวเป็นพาณิชยกรรม ชาวชุมชนเป็น พุทธ-มุสลิม ในอัตราส่วนโดยประมาณ 40-60',\n",
              "       'รูสะมิแล เป็นชุมชนเกษตรกรรม และชุมชนริมน้ำ ในสมัยก่อนสภาพทั่วไปของตำบลรูสะมิแล เต็มไปด้วยป่า ต่อมามีการตั้งถิ่นฐาน โดยมีอาชีพประมงเป็นอาชีพหลัก รูสะมิแล เป็นภาษายาวี แปลว่า \"สนเก้าต้น\" บริเวณที่ตั้งของบ้านรูสะมิแล อยู่บริเวณที่เรียกว่า ทะเลนอก ที่ชาวบ้านใช้เรียกพื้นที่ทะเลรอบนอกของอ่าวปัตตานี ลักษณะการตั้งถิ่นฐานของชุมชนประมงดั้งเดิมนอกอ่าวปัตตานี ส่วนใหญ่ประกอบอาชีพเกษตรกรรม และประมง',\n",
              "       'ตันหยงลุโละ เป็นชุมชนเกษตกรรม ชุมชนความทรงจำ และชุมชนโดยรอบโบราณสถาน ตำบลตันหยงลุโละ เป็นส่วนหนึ่งของอำเภอเมืองจังหวัดปัตตานี ซึ่งเดิมเป็นเมืองปาตานี สมัยก่อนเคยเป็นเมืองศูนย์กลางของอาณาจักรปาตานีและของเอเซียอาคเนย์ ที่คนทั่วไปได้เคยมาติดต่อค้าขาย รวมทั้งเป็นอารยธรรมอิสลาม เป็นที่รู้จักกันทั่วไปในสมัยนั้น ซึ่งมีร่องรอยประวัติศาสตร์ปรากฏอยู่ เช่น คลองปาเปรี บ่อฮังตูวะห์ มัสยิดเก่ากรือเซะ ฮวงซุ้ยเจ้าแม่ลิ้มกอเหนี่ยว เป็นต้น ตันหยงลุโละ หมายถึง แหลมที่เต็มไปด้วยเพชร พลอยและสิ่งของที่มีค่า ที่ทำให้ประชาชนในตำบลทำมาหากินง่าย และเป็นตำบลที่อุดมสมบูรณ์ ชุมชนตั้งอยู่ในเขตอำเภอเมืองปัตตานี ใกล้อ่าวปัตตานี ลักษณะการตั้งถิ่นฐานของชุมชนประมงดั้งเดิมรอบอ่าวปัตตานี มัสยิดกรือเซะ ฮวงซุ้ยเจ้าแม่ลิ้มกอเหนี่ยว บริเวณบ้านตันหยงลูโละ แสดงให้เห็นการอยู่ร่วมกันของคนจีนและคนมุสลิม แต่เดิมเศรษฐกิจชุมชนมีลักษณะเป็นประมงพื้นบ้านรอบอ่าวปัตตานี ที่มีความสัมพันธ์กับระบบคลองและแม่น้ำ ปัจจุบันประสบปัญหาเกี่ยวกับการเข้ามาทำประมงแบบอวนลากของนายทุน',\n",
              "       'สะบารัง เป็นชุมชนตลาด และชุมชนริมน้ำ ตั้งอยู่ในเขตเทศบาลเมืองปัตตานี ทางฝั่งซ้ายของแม่น้ำปัตตานี มีการทำประมงและท่าเรือมาแต่เดิม เป็นพื้นที่ด่านภาษีบริเวณปากน้ำปัตตานี เป็นท่าเรือประมง เป็นชุมชนเมืองปัตตานีเดิมที่ขยายตัวมาจากฝั่งขวา ปัจจุบันมีลักษณะสังคมแบบเมือง',\n",
              "       'หัวตลาด เป็นชุมชนตลาด และชุมชนริมน้ำ ย่านเมืองเก่าจะมีถนนที่มีความสำคัญ 2 เส้น คือ ถนนฤดีและถนนอาเนาะรู อันเป็นย่านชุมชนเก่าแก่ที่มีมาตั้งแต่สมัยอดีต เป็นแหล่งรวมของธุรกิจสินค้าของย่านปัตตานีมาตั้งแต่โบราณ เนื่องจากทำเลที่ตั้งที่มีปากทางของถนนอยู่ติดแม่น้ำปัตตานี ทั้ง 2 แห่ง ซึ่งแต่ก่อนเป็นที่ตั้งของท่าเรือขนถ่ายสินค้า ท่าเรือประมง ถือเป็นย่านการค้าที่สำคัญมาก ชุมชนตั้งอยู่บริเวณริมแม่น้ำปัตตานีทางฝั่งขวา มีอาคารแบบชิโนโปรตุกีส และบ้านทรงจีนโบราณ ส่วนใหญ่ประกอบอาชีพค้าขาย',\n",
              "       'กรือเซะ เป็นชุมชนเกษตรกรรม ชุมชนความทรงจำ และชุมชนรอบโบราณสถาน เป็นพื้นที่ของเมืองปัตตานีเก่า ก่อนถูกเผาและทิ้งร้างก่อนย้ายไปอยู่บริเวณปากแม่น้ำปัตตานีในปัจจุบัน มีมัสยิดกรือเซะเป็นศูนย์กลางเก่า อันสืบเนื่องกับตำนานและเหตุการณ์ทางประวัติศาสตร์ทั้งของกลุ่มชาวจีนและชาวมุสลิมในปัตตานี ชุมชนอยู่ห่างจากเมืองประมาณ 9 กิโลเมตร ตั้งอยู่บนถนนใกล้อ่าวปัตตานี ภายในชุมชนมีมัสยิดกรือเซะ และศาลเจ้าแม่ลิ้มกอเหนี่ยว แสดงให้เห็นการอยู่ร่วมกันของชาวไทยมุสลิมและชาวไทยเชื้อสายจีนแต่ดั้งเดิม ผู้คนในชุมชนส่วนใหญ่ประกอบอาชีพทำนาเกลือ ประมง และค้าขาย',\n",
              "       'บาราเฮาะ เป็นชุมชนเกษตรกรรม แต่เดิมชุมชนแห่งนี้มีชื่อเรียกว่า \"สะนิง\" แปลว่า \"สักครู่\" ทั้งนี้เนื่องจากบริเวณนี้จะเป็นทางผ่านไปจังหวัดยะลา นราธิวาส หรือที่อื่น ๆ ซึ่งเมื่อผู้เดินทางจะไปแห่งใดก็มักจะมาหยุดพักที่นี่เพื่อเดินทางต่อ สำหรับคำว่า \"บาราเฮาะ\" นั้น แปลว่า สมบูรณ์หรือสงบสุข เนื่องจากในเขตตำบลนี้มีสภาพดินอุดมสมบูรณ์  เหมาะแก่การทำการเกษตร ฉะนั้นในการตั้งชื่อตำบลอย่างเป็นทางการจึงใช้ชื่อคำว่า \"บาราเฮาะ\" ในที่สุด ตำบลบาราเฮาะ อยู่ทางทิศใต้ของที่ว่าการอำเภอเมืองปัตตานี ระยะทาง 5 กิโลเมตร ลักษณะพื้นที่เป็นที่ลุ่ม ในฤดูฝนจะมีน้ำท่วมขัง น้ำจากแม่น้ำปัตตานีจะไหลผ่านหมู่ที่ 3 และหมู่ที่ 8 มีเรือนไม้แบบเกษตรกรรมชนบท ส่วนใหญ่ทำอาชีพเกษตรกรรม',\n",
              "       'ดาโต๊ะ เป็นชุมชนเกษตรกรรม ชุมชนริมน้ำ ชุมชนความทรงจำ และชุมชนรอบโบราณสถาน เดิมหมู่บ้านดาโต๊ะ เป็นที่ดินงอกอยู่ระหว่างคลองยะหริ่งและทะเลตะโละกาโปร์ มีพ่อค้าที่มีชื่อเรียกว่า โต๊ะปาแย ค้าขายแร่ทองแดงระหว่างเมืองหมู่บ้านดาโต๊ะ สมัยนั้นอยู่ในการครอบครองของเมืองปาเระ มีเจ้าเมืองชื่อนาจาแย เป็นชุมชนประมงดั้งเดิมรอบอ่าวปัตตานี ส่วนใหญ่เป็นชาวมุสลิม ชุมชนตั้งอยู่บริเวณอ่าวปัตตานี ต้นทางของแหลมโพธิ์ มีพื้นที่ใกล้ป่าชายเลนยะหริ่ง ลักษณะการตั้งถิ่นฐานแบบดั้งเดิมของชุมชนชาวประมงพื้นบ้าน แต่เดิมรอบอ่าวปัตตานีมีประชาการหนาแน่น ประกอบอาชีพประมงพื้นบ้าน บ้านดาโต๊ะ ผู้ชายเปลี่ยนไปทำงานรับจ้าง ผู้หญิงออกไปทำงานโรงงานอุตสาหกรรมหรือขายของในตลาด มีการทำ \"ข้าวเกรียบปลา\" เป็นอุตสาหกรรมในครัวเรือน และมีการขุดบ่อเลี้ยงปลาดุกเพื่อเสริมรายได้',\n",
              "       'ตะโละสะมิแล เป็นชุมชนเกษตรกรรม และชุมชนริมน้ำ เป็นชุมชนดั้งเดิมรอบอ่าวปัตตานี ตั้งอยู่บนแหลมโพธิ์ ติดอ่าวปัตตานี เป็นชุมชนประมงดั้งเดิม ประชากรประกอบอาชีพประมงเป็นหลัก นอกจากนั้นยังมีการเพาะเลี้ยงสัตว์น้ำ เช่น ปลาดุก ปลากระพง หอยแครง หอยแมลงภู่ ฯลฯ เป็นอาชีพเสริม และในปัจจุบันจากการที่มีแผ่นดินงอกจากการสร้างกำแพงกันคลื่น บริเวณนี้จึงกลายเป็นสถานที่ท่องเที่ยวสำคัญ',\n",
              "       'บูดี เป็นชุมชนเกษตรกรรม และชุมชนริมน้ำ เป็นชุมชนประมงดั้งเดิมรอบอ่าวปัตตานี ตั้งอยู่บนแหลมโพธิ์ ติดอ่าวปัตตานี ประชากรประกอบอาชีพประมงเป็นหลัก นอกจากนั้นยังมีการเพาะเลี้ยงสัตว์น้ำ เช่น ปลาดุก ปลากระพง หอยแครง หอยแมลงภู่ ฯลฯ เป็นอาชีพเสริม',\n",
              "       'ตะโละกาโปว์ เป็นชุมชนเกษตรกรรม และชุมชนริมน้ำ ตะโละกาโปร์ เป็นภาษามลายูพื้นเมือง คำว่า \"ตะโละ\" แปลว่า อ่าว คำว่า \"กาโปร์\" แปลว่า ปูน รวมความหมายแปลว่า อ่าวปูน ในสมัยก่อนกล่าวกันว่า บริเวณพื้นที่ตรงนี้ เป็นที่เก็บเปลือกหอย และนำเปลือกหอยเหล่านี้มาเผาไฟจนสุก และกลายเป็นปูนขาว นำมากินกับหมาก ปัจจุบันสันนิษฐานว่าเป็นเปลือกหอยขาวหรือหอยแครง เพราะว่าหอยขาวเป็นหอยประจำอ่าว ชาวประมงจะเก็บมากินเนื้อ และเป็นสินค้าออกของอำเภอยะหริ่ง เปลือกหอยจะมีหินปูน จึงเรียกตำบลนี้ว่า ตำบลตะโละกาโปร์ เป็นชุมชนที่มีพื้นที่ติดทะเล เป็นลักษณะชุมชนประมงดั้งเดิม ชาวบ้านส่วนใหญ่ประกอบอาชีพการทำประมง รับจ้าง และค้าขาย ซึ่งการค้าขายจะมาจากผลผลิตที่ได้จากการทำประมง โดยการค้าขายจะผ่านพ่อค้าคนกลาง ขายปลีก หรือการนำไปแปรรูปเพื่อให้ได้ผลิตภัณฑ์ที่หลากหลาย เช่น ปลาแห้ง ข้าวเกรียบ หมึกแห้ง กุ้งแห้ง กะปิ ยา \\nเป็นต้น',\n",
              "       'บางปู (บ้านบาลาดูวอ) เป็นชุมชนเกษตรกรรม และชุมชนตลาด เล่ากันว่าหมู่บ้านแห่งนี้เดิมอยู่ริมทะเล (อ่าว) ในทะเลมีปลาชุกชุม ชาวบ้านประกอบอาชีพประมงน้ำตื้น ทุกครอบครัวจะมีเรือและเครื่องมือจับปลา ซึ่งยังคงสืบทอดมายังในปัจจุบัน และบางปูได้เปลี่ยนแปลงฐานะจากสุขาภิบาลเป็นเทศบาล เมื่อวันที่ 25 พฤษภาคม 2542 โดยประกาศใน ราชกิจจานุเบกษา เมื่อวันที่ 24 กุมภาพันธ์ 2542 ลักษณะภูมิประเทศ เป็นที่ราบติดกับพื้นที่ป่าชายเลน ลักษณะการตั้งชุมชนแบบดั้งเดิม ส่วนใหญ่ประกอบอาชีพประมง',\n",
              "       'ยามู เป็นชุมชนเกษตรกรรม และชุมชนริมน้ำ บ้านยามู เป็นที่ตั้งของที่ว่าการอำเภอยะหริ่ง คำว่า \"ยามู\" เป็นภาษายาวี แปลว่า \"ชมพู่\" กล่าวกันว่าในสมัยก่อน ในบริเวณนี้มีต้นชมพู่อยู่มากมาย ขึ้นเองเกือบทั้งหมู่บ้าน และยังมีอยู่เกือบจะทุกหมู่บ้าน ปลูกหรือขึ้นตามธรรมชาติบริเวณบ่อน้ำ หรือใกล้ ๆ บ่อน้ำ เป็นไม้ผลที่ให้ผลเยอะ ๆ ปีละครั้ง แต่ไม่ค่อยมีค่ามากนัก ภูมิประเทศเป็นที่ราบ มีแม่น้ำยามูไหลผ่านใจกลางอำเภอ ซึ่งแม่น้ำยามู มีต้นน้ำอยู่ที่อำเภอมายอ จังหวัดปัตตานี อาคารเรือนแถวในตลาดยามู และสภาพที่ตั้งชุมชนประมงคลองยามู ส่วนใหญ่ประกอบอาชีพเกษตรกรรม ประมงพื้นบ้าน และรับจ้าง',\n",
              "       'ควนลังงา เป็นชุมชนเกษตรกรรม และชุมชนรอบโบราณสถาน เป็นชุมชนเก่าแก่ที่มีประวัติศาสตร์ยาวนานก่อนรัชกาลที่ 5 ครั้งพระยาภักดีชุมพลอพยพผู้คนเดินทางมาจากเมืองไทรบุรี อันเนื่องจากไทรบุรีต้องตกเป็นเมืองขึ้นของอังกฤษ โดยครัวเรือนที่ตั้งขึ้นประกอบไปด้วยผู้คนที่พื้นเพดั้งเดิมจากตรังกานู ไทรบุรี ปะสิส และปีนัง ปนเปกันไปทั้งพุทธและมุสลิม สภาพภูมิประเทศเป็นที่ราบลุ่ม มีแนวเทือกเขาสันกาลาคีรีเชื่อมเขตจังหวัดยะลา ปัตตานี และสงขลา มีทรัพยากรทางธรรมชาติอันอุดมสมบูรณ์ กลุ่มเรือนแบบดั้งเดิม อาคารมัสยิดนัจมุดีน และวัดทรายขาวที่มีความสัมพันธ์กันทางประวัติศาสตร์ชุมชน อันเป็นลักษณะทางกายภาพที่แสดงให้เห็นการอยู่ร่วมกันของชาวมุสลิมและชาวไทยพุทธในพื้นที่เดียวกัน ส่วนใหญ่ประกอบอาชีพเกษตรกรรม',\n",
              "       'ท่ากำชำ เป็นชุมชนเกษตรกรรม และชุมชนริมน้ำ ท่ากำชำ เดิมเป็นหมู่บ้าน ซึ่งมีต้นไม้ชนิดหนึ่งชื่อ \"ต้นกำชำ\" ขึ้นอยู่ทั่วไปมากมาย ต่อมาหมู่บ้านนี้มีความเจริญรุ่งเรืองขึ้น จึงมีการยกฐานะการปกครองขึ้นเป็นตำบลกำชำ ขึ้นกับอำเภอหนองจิก จังหวัดปัตตานี คำว่า \"ท่า\" มีความหมายว่า ชุมชน หรือ มาก \"กำชำ\" หมายถึง ผลไม้ชนิดหนึ่ง เป็นต้นไม้ประจำท้องถิ่น เป็นช่อ เมื่อผลสุกจะมีสีดำ จึงทำให้คนทั่วไปเรียกกันติดปากว่า บ้านท่ากำชำตั้งแต่นั้นเป็นต้นมา ตำบลท่ากำชำมีจำนวน 7 หมู่บ้าน มีพื้นที่ติดต่อกับทะเลฝั่งอ่าวไทย การตั้งถิ่นฐานของชุมชนเกษตรกรรม ประมง ส่วนใหญ่ประกอบอาชีพเกษตรกรรม ประมง',\n",
              "       'ตันหยงเปาว์ เป็นชุมชนเกษตรกรรม และชุมชนริมน้ำ พื้นที่ติดอ่าวปัตตานี โดยตั้งบ้านเรือนอยู่ริมคลองที่มีแนวลำน้ำออกสู่ทะเล ลักษณะการตั้งบ้านเรือนแบบชุมชนประมงดั้งเดิม ส่วนใหญ่ประกอบอาชีพประมงชายฝั่ง ประสบปัญหาน้ำทะเลกัดเซาะชายฝั่ง ปัญหาการขาดแคลนน้ำจืด และปัญหาอวนลากเข้ามาลับลอบลากอวน',\n",
              "       'ปะเสยะวอ เป็นชุมชนเกษตรกรรม และชุมชนริมน้ำ ตำบลปะเสยะวอ จัดตั้งมาตั้งแต่สมัยใดไม่ทราบแน่ชัด แต่ตั้งมาหลายชั่วอายุคนแล้ว สาเหตุที่มาของชื่อตำบลนั้น มาจากคำว่า \"ปะเสปลาฆอ\" เป็นคำมลายูแปลว่า ทรายชนกัน กล่าวคือ ที่หมู่บ้านปะเสยะวอ (หมู่ที่ 3) เป็นจุดที่แม่น้ำสายบุรี และคลองทุ่งเค็จไหลมาชนกัน ทำให้เกิดเป็นสันทรายที่แม่น้ำทั้งสองพัดมา ทำให้เกิดทรายชนกัน เรียกว่า \"ปะเสปลาฆอ\" ซึ่งต่อมาคำดังกล่าวก็เพี้ยนเป็น \"ปะเสยะวอ\" ไปในที่สุด ลักษณะภูมิประเทศ เป็นที่ราบสูงติดชายฝั่งทะเล และที่ราบลุ่มติดฝั่งทะเลอ่าวไทย ลักษณะชุมชนประมงพื้นบ้าน ส่วนใหญ่ประกอบอาชีพประมง เกษตรกรรม มีชื่อเสียงในการทำเรือกอและ น้ำบูดู และปลาไส้ตันตากแห้ง',\n",
              "       'ตลาดสายบุรี เป็นชุมชนตลาด และชุมชนริมน้ำ สายบุรี เป็นอำเภอเก่าแก่ของจังหวัดปัตตานี ประมาณ พ.ศ. 2428  พื้นที่นี้มีความสำคัญมีฐานะเป็นเมืองหนึ่งในจำนวน 7 หัวเมือง เรียกว่า \"เมืองสายบุรี\" ชุมชนตั้งอยู่บริเวณริมแม่น้ำสายบุรี ที่ไหลลงสู่อ่าวไทย เป็นอาคารเรือนแถวในตลาด และเป็นย่านการค้าที่มีกิจกรรมการค้าขายต่อเนื่องกันมาตั้งแต่ในอดีตจนถึงปัจจุบัน',\n",
              "       'บ้านพิเทน เป็นชุมชนเกษตรกรรม และชุมชนชาติพันธุ์ของกลุ่มคนไทยพูดสำเนียงพิเทน สำเนียงพิเทนเป็นรอยต่อระหว่างภาษาไทยถิ่นใต้ กับสำเนียงตากใบ พร้อมกับอิทธิพลของภาษามลายูปัตตานีที่รายล้อม ทำให้สำเนียงพิเทนเกิดการผสมผสานระหว่างภาษาไทยถิ่นใต้กับภาษาตากใบ และได้นำคำมลายูปัตตานีมาใช้ จนภาษามลายูปัตตานีมีอิทธิพลมากต่อภาษาถิ่นพิเทน คำว่า \"พิเทน\" เดิมมาจากคำว่า พี่เณร เป็นชื่อของบุคคลที่ออกตามหาช้างเผือกคู่บ้านคู่เมือง จากการเล่าสืบต่อกันมามากกว่า 300 ปี ชาวพิเทนอพยพมาตั้งแต่สมัยกรุงศรีอยุธยา ซึ่งในสมัยนั้นช้างเผือกคู่บ้านคู่เมืองสูญหาย พระเจ้าแผ่นดินมีราชโองการให้องครักษ์ผู้ดูแลช้างออกติดตาม ปรากฏว่าช้างสูญหายลงมาทางใต้ และร่องรอยสูญหายไปในพื้นที่เมืองปัตตานี คือจังหวัดปัตตานีในปัจจุบัน เมื่อติดตามช้าง แต่ไม่สามารถนำช้างกลับไปได้ พี่เณรและพี่น้องทั้งหมดไม่กล้าเดินทางกลับอยุธยาเพราะกลัวอาญาแผ่นดิน จึงตั้งรกรากอยู่ในป่าทึบ คือตำบลพิเทน ในปัจจุบัน ส่วนคำว่า \"พิเทน\" สันนิษฐานว่าน่าจะมาจากคำว่า พี่เณร ในสมัยก่อนนั้นเอง และชาวบ้านตำบลพิเทนก็พูดภาษาไทยพิเทน ซึ่งสืบทอดมาจากพี่เณรนั่นเอง ลักษณะทางกายภาพเหมือนชุมชนเกษตรกรรมทั่วไป มีอาคารไม้แบบชนบท มีเรือนแถวไม้บริเวณตลาด ส่วนใหญ่ประกอบอาชีพเกษตรกรรม ทำนา สวนยาง และปักผ้าคลุมสำหรับผู้หญิงมุสลิม',\n",
              "       'ย่านสายกลาง เป็นชุมชนตลาด เป็นชุมชนดั้งเดิมของเมืองยะลา แต่ปัจจุบันเปลี่ยนสภาพไปมาก ลักษณะภูมิประเทศ เป็นพื้นที่ราบลุ่ม ตั้งอยู่ใกล้กับแม่น้ำปัตตานีทางทิศตะวันออก เป็นชุมชนเมือง อาคารส่วนใหญ่เป็นอาคารเรือนแถวคอนกรีต มีลักษณะผังเมืองที่ได้รับการออกแบบเป็นแบบใยแมงมุมสวยงาม มีความเป็นระเบียบและสะอาด มีสวนสาธารณะระดับจังหวัดชื่อว่า สวนขวัญเมือง ตั้งอยู่ทางทิศตะวันตกของวงเวียนกลางเมือง ทำอาชีพค้าขายสินค้า เป็นพาณิชยกรรมสมัยใหม่ที่พบในสังคมเมือง เป็นชุมชนที่มีการอยู่ร่วมกันระหว่าง คนจีน คนไทยพุทธ และคนมุสลิม อาศัยอยู่ตามการแบ่งเขตพื้นที่ภายในย่าน',\n",
              "       'ยาลอ เป็นชุมชนเกษตรกรรม ชุมชนความทรงจำ และชุมชนรอบโบราณสถาน เป็นพื้นที่เมืองเก่ายะลา ลักษณะภูมิประเทศ เป็นพื้นที่ที่มีสภาพราบลุ่มสลับกับเนินเขาเตี้ย ๆ พื้นที่โดยรอบยังมีความเป็นธรรมชาติสูง มีลักษณะอาคารเกาะตัวอยู่รอบถนนสายหลัก อาคารส่วนมากเป็นเรือนเดี่ยว มีทั้งเรือนไม้และคอนกรีต วางกระจายตัวห่างกัน มีการทำนาเป็นอาชีพหลัก จำนวนประชากรในเขต อบต. 3,023 คน และจำนวนหลังคาเรือน 536 หลังคาเรือน',\n",
              "       'กูเบ เป็นชุมชนเกษตรกรรม และชุมชนความทรงจำ เดิมเป็นเขตที่อยู่ของตลกหลวง ชุมชนตั้งอยู่ในตำบลบันนังสาเรง ซึ่งภูมิประเทศทางด้านทิศตะวันออกจะเป็นเนินสูงและมีภูเขาตลอดแนว ทางด้านตอนกลางและทิศตะวันตกจะเป็นที่ราบลุ่ม มีแม่น้ำปัตตานีไหลผ่านมีลักษณะอาคารเกาะตัวอยู่รอบถนนสายหลัก 2 เลน อาคารส่วนมากเป็นเรือนเดี่ยว มีทั้งเรือนไม้และคอนกรีต วางกระจายตัวห่างกันในอดีต กูเบ หรือ กูแบ มาจากคำว่า \"จูเบร์\" แปลว่าได้ว่า \"ตลกหลวง\" เป็นผู้ที่เล่นเป็นตัวตลกเมื่อเวลามีการละเล่นที่เหมือนกับเล่นละคร (มาลายูเรียกว่า เบอร์ซาวัน) ซึ่งทางเจ้าเมืองก็ได้จัดพื้นที่ให้แก่พวกตลกเหล่านั้นก็คือ บ้านจูเบร์ หรือบ้าน กูเบ ในปัจจุบันชาวบ้านมีอาชีพหลัก ได้แก่ การทำนา ทำสวน รับจ้าง และค้าขาย มีอาชีพเสริม ได้แก่ การเลี้ยงสัตว์',\n",
              "       'ปาโจ เป็นชุมชนเกษตรกรรม และชุมชนความทรงจำ เป็นพื้นที่สำหรับตระกูลหมอผีและช่าง ลักษณะภูมิประเทศ เป็นพื้นที่ซึ่งมีต้นไม้ขึ้นหนาแน่นภายในบริเวณชุมชน แต่โดยรอบชุมชนนั้นเป็นทุ่งนาบริเวณกว้าง เป็นเรือนเดี่ยวสมัยใหม่ ตั้งลึกออกมาจากถนนหลัก 2 เลน เชื่อมด้วยทางลูกรังซึ่งมีลักษณะคดเคี้ยว มีต้นไม้ขึ้นหลังอาคารหนาแน่น ภายในชุมชนมีโรงเรียนและมัสยิดเราะสุลยามานเป็นสถานที่หลัก สมัยก่อน พื้นที่ส่วนใหญ่ของหมู่บ้านจะเป็นป่า ไม่ค่อยมีผู้คนเข้าออกมากนัก ชาวบ้านจึงเรียกพื้นที่นี้ว่า \"ปาโจ\" ซึ่งแปลได้ว่า ไหลผ่าน การติดต่อกับบุคคลภายนอกต้องอาศัยการขี่ม้า หรือเดินเท้า การรักษาโรคของคนในหมู่บ้านจะใช้หมอบ้านหรือการใช้สมุนไพร การทำนาเป็นอาชีพหลักของชุมชน',\n",
              "       'เปาะเส้ง เป็นชุมชนเกษตรกรรม และชุมชนความทรงจำ คำว่า \"เปาะเส้ง\" เพี้ยนมาจากคำว่า \"พ่อไอเสง\" เล่ากันว่า ในตำบลนี้มีครอบครัวชาวจีนอยู่ครอบครัวหนึ่ง มีลูกชายชื่อ \"เบอเสง\" สามีภรรยาคู่นี้ เป็นผู้มีอัธยาศัยดี ราษฎรที่มาหาของป่าและตัดไม้นำไปขาย จะมาขอน้ำดื่มและหยอกเย้าเล่นกับลูกชายเสมอ จนเป็นคำกล่าวกันติดปากเมื่อพบกันว่า \"ไปบ้านพ่อของไอเฮง\" \"ไปดื่มน้ำบ้านพ่อไอเฮง\" ภาษามลายูพื้นเมืองจะพูดว่า \"เปาะบือเฮง\" และเพี้ยนมาเป็น \"เปาะเส้ง\" จนทุกวันนี้ ชุมชนตั้งอยู่ทางทิศตะวันตกของอำเภอเมืองยะลา เป็นที่ราบและมีเนินเขา เป็นที่เลี้ยงช้างม้าของเจ้าเมือง มีอาชีพหลัก ได้แก่ การทำนา ทำสวนยางพารา ค้าขาย',\n",
              "       'หน้าถ้ำ เป็นชุมชนเกษตรกรรม และชุมชรอบโบราณสถาน ตำบลหน้าถ้ำเคยเป็นแหล่งชุมชนโบราณมาตั้งแต่สมัยก่อนประวัติศาสตร์ พบร่องรอยศาสนสถาน เมืองโบราณ ซึ่งเป็นศาสนสถานที่พบเทวรูปสำริด กำแพงเมือง พระพิมพ์ดินดิบแบบทวารวดีศรีวิชัย ภาพเขียนสีพระพุทธรูปฉาย ภาพเขียนสีราชรถมีสัตว์เทียม มีอายุราวพุทธศตวรรษที่ 15-17 ยะลาเป็น ชุมชนเกษตร นักโบราณคดีได้พบภาพเขียนก่อนประวัติศาสตร์บริเวณถ้ำคูหาภิมุข เป็นภาพพระพุทธฉายและภาพราชรถแกะสลักไว้บนหน้าผา ภายในบริเวณถ้ำคูหาภิมุข ลักษณะภูมิประเทศเป็นชุมชนบนพื้นที่ราบใกล้เนินเขาและถ้ำ มีแหล่งน้ำอยู่โดยรอบ บริเวณโดยทั่วไปของพื้นที่มีต้นไม้ขึ้นหนาแน่น สภาพเป็นป่าตามธรรมชาติอย่างมาก เป็นลักษณะชุมชนชาวพุทธรอบโบราณสถานสำคัญ มีอาชีพหลักเป็นการทำสวน ทำนา มีอาชีพเสริมเป็นการรับจ้าง',\n",
              "       'ท่าสาป เป็นชุมชนเกษตรกรรม อดีตเป็นศูนย์กลางการค้าขายระหว่างเมืองยะลาและเมืองอื่นๆ เนื่องด้วยเป็นปากทางเข้าตัวเมืองยะลา และอยู่ติดแม่น้ำซึ่งมีการตั้งถิ่นฐานอยู่อาศัยมาก่อน ตามประวัติบ่งบอกว่า ในสมัยก่อนนั้นสะพานข้ามแม่น้ำปัตตานียังไม่มี ชาวบ้านข้ามแม่น้ำโดยการใช้แพเป็นพาหนะในการเดินทาง ซึ่งจะมีกลุ่มหนังตะลุง มโนราห์ หมอดู กลุ่มคนเหล่านี้เลื่อมใสในทางไสยศาสตร์มาก เชื่อกันว่าเมื่อข้ามแพนี้แล้ว สิ่งศักดิ์สิทธิ์ทั้งหลายจะเสื่อมลงทันทีจะไม่ขลังเหมือนเก่า และทางข้ามแพนี้จะมีสิ่งอาถรรพณ์มากมาย จะสังเวยเอาชีวิตประชาชนปีละ 1 คน เป็นประจำทุกปี ชาวบ้านจึงเรียกท่าแห่งนี้ว่า \"ท่าสาป\" ชุมชนตั้งอยู่ระหว่างแยกบ้านเนียงและตัวเมืองจังหวัดยะลา โดยติดแม่น้ำปัตตานีในทางทิศตะวันออกของแม่น้ำ สภาพภูมิประเทศเป็นที่รวมแหล่งน้ำธรรมชาติที่ไหลผ่าน คือ แม่น้ำปัตตานี บึง และคลองกำปั่น ส่วนใหญ่เป็นพื้นที่เกษตร สวนผลไม้ สวนยางพารา และทุ่งนา มีลักษณะเป็นชุมชนเรือนแถวสมัยใหม่ ซึ่งมีทั้งเรียงตัวแนวยาวตามขอบถนนหลัก และกระจุกตัวกันอยู่เป็นกลุ่มในถนนสายย่อย มีโรงเรียนบ้านท่าสาปและ วัดดิตถมงคล หรือ วัดท่าสาป ป็นศูนย์กลางชุมชน ส่วนใหญ่ประกอบอาชีพเกษตรกรรม',\n",
              "       'ตลาดเสรีหรือตลาดเก่า เป็นชุมชนตลาด และชุมชนรอบทางรถไฟ ลักษณะภูมิประเทศ ทิศตะวันตกติดแม่น้ำปัตตานี และมีทางรถไฟเป็นขอบเขต อาคารแถวเรือนไม้ตั้งแต่ชั้นครึ่งถึงสองชั้น มีกรงนกหน้าบ้าน ถนนมีเกาะกลาง มีหอนาฬิกาเป็นจุดหมายตาที่สำคัญ แต่เดิมเป็นตลาดที่มีความสำคัญกับตัวเมืองยะลามาก เพราะอยู่ติดกับสถานีรถไฟ ปัจจุบันยังคงเป็นย่านพาณิชยกรรม รวมทั้งยังเป็นสถานที่ท่องเที่ยวที่สำคัญ',\n",
              "       'โกตาบารู เป็นชุมชนเกษตรกรรม ชุมชนความทรงจำ และชุมชนรอบโบราณสถาน เมืองโกตาบารู เดิมเป็นเมืองที่เจริญอุดมสมบูรณ์ไปด้วยทรัพยากรธรรมชาติ มีทั้งช้าง ป่าไม้ ทอง และแร่ทับทิม มีอาณาเขตขยายกว้างไปถึงเมืองเปอร์ลิสของมาเลเซีย มีเจ้าเมืองปกครองติดต่อกันหลายคนที่สำคัญ และเป็นที่นับถือชาวพุทธ มุสลิมและชาวจีนทั้งในถิ่นและนอกถิ่น คือ โต๊ะนิจาแว หรือเรียกสั้น ๆ ว่า โต๊ะนิ ลักษณะภูมิประเทศ เป็นที่ราบลุ่ม อาคารบ้านเรือนไม้ดั้งเดิม สุสานโต๊ะนิ วังเจ้าเมืองเก่า เจ้าเมืองโกตาบารู เป็นคนที่ชอบความสนุกสนาน ชอบการกีฬา โดยเฉพาะศิลปะการป้องกันตัวที่เรียกว่า \"สิละ\" เจ้าเมืองได้ฝึกชายหนุ่มในวังให้รำสิละเป็นทุกคน โดยหาครูฝึกมาจากเมืองโกตาบารู รัฐกลันตันของมาเลเซีย พอถึงวันสำคัญก็จะมีการแข่งขันรำสิละ ตกกลางคืนจะมีการแสดงลิเกฮูลู ลิเกฮูลูจึงถือกำเนิดที่เมืองโกตาบารูเป็นครั้งแรก ก่อนจะขยายไปสู่เมืองอื่น ๆ',\n",
              "       'ตลาดเบตง เป็นชุมชนตลาด เมืองเบตงถูกรายล้อมด้วยภูเขา ทำให้อำเภอเบตงเหมือนแอ่งกะทะ อาคารบริเวณตลาดเบตงจะมีการปะปนกันของอาคารเก่า (อาคารพาณิชย์ไม้สองชั้น) และอาคารพาณิชย์ใหม่ที่เป็นคอนกรีตสี่ชั้น เป็นตลาดใจกลางเมืองเบตง มีนักท่องเที่ยวเข้ามามาก คนในพื้นที่มีทั้งจีนฮกเกี๊ยน จีนแคะ และชาวมุสลิม ยังประกอบอาชีพค้าขายกันตามวิถีชีวิตแบบเดิม ตลาดเบตงมีชื่อเสียงหลายด้าน ทั้งเรื่องความหลากหลายของศาสนา สถานที่ท่องเที่ยว และอาหาร ทำให้เมืองเบตงเป็นจุดสนใจของนักท่องเที่ยวได้มาก',\n",
              "       'บ้าน กม. 4 เป็นชุมชนเกษตรกรรม และชุมชนชาติพันธุ์ของจีนแคะ ชุมชน กม. 4 เดิมชาวบ้านเรียกว่า \"สี่เทียวปี่\" ซึ่งภาษาจีนแคะแปลว่าห่างจากตัวเมือง 4 กิโลเมตร ในอดีตเป็นที่ที่ทางการอนุญาตให้ชาวจีนมาจับจองที่ทำกินได้ มีชาวบ้านมาตั้งบ้านเรือนเป็นร้านค้าไม่กี่หลัง เมื่อมีเหตุการณ์ไม่สงบจากขบวนการจีนคอมมิวนิสต์มาลายา ทำให้ชาวบ้านที่เดิมอยู่บริเวณเรือกสวนไร่นา เข้ามาอยู่อาศัยเพิ่มมากขึ้น ลักษณะภูมิประเทศ ที่ราบเชิงเขามีถนนตัดผ่าน ตั้งบ้านเรือนสัมพันธ์กับแหล่งน้ำธรรมชาติ อาคารเรือนไม้เดี่ยว ตั้งเรียงตัวติดถนน มีเรือนเก่าที่มีคุณค่าอยู่บางส่วน เป็นชุมชนเกษตร มีอาชีพทำสวนยางพารา มีเชื้อสายเป็นชาวจีนแคะ เป็นต้นตำหรับของเฉาก๊วยโบราณจากจีน',\n",
              "       'บ้าน กม. 9 เป็นชุมชนเกษตรกรรม และชุมชนชาติพันธุ์ของจีนแคะ ชุมชน กม. 9 เดิมชาวบ้านเรียกว่า \"เก๊าเทียวปี\" ซึ่งภาษาจีนแคะ แปลว่า ห่างจากตัวเมือง 9 กิโลเมตร มีการจับจองตั้งบ้านเรือน จากเหตุการณ์ไม่สงบจากขบวนการจีนคอมมิวนิสต์มาลายา ทำให้ชาวบ้านที่เดิมอยู่บริเวณเรือกสวนไร่นา เข้ามาอยู่อาศัยเพิ่ม ในอดีตบ้าน กม. 9 เป็นชุมชนขนาดใหญ่แต่เนื่องด้วยปัญหาอัคคีภัย และการตัดถนน ทำให้จำนวนบ้านเรือนลดลงไป ลักษณะภูมิประเทศเป็นไหล่เขา มีความลาดเอียงจากทิศเหนือลงสู่ทิศใต้ จนบรรจบกับแนวลำธารขนาดเล็ก พื้นที่ชุมชนจะอยู่ต่ำกว่าถนนสายหลักมาก มีเรือนแถวไม้ 2 ชั้นแบบดั้งเดิม เป็นชุมชนเกษตร มีอาชีพทำสวนยางพารา มีเชื้อสายเป็นชาวจีนแคะ',\n",
              "       'ซาไกบ้านแหร เป็นชุมชนชาติพันธุ์ของชาวพื้นเมืองชาวซาไก ปัจจุบันมีคนต่างถิ่นอพยพเข้ามาในชุมชนบ้าง ซาไก คือ ชนเผ่าพื้นเมืองเผ่าสุดท้ายที่เหลืออยู่ทางภาคใต้สุด ที่ชอบเร่ร่อนอยู่ในป่าไปมาระหว่างประเทศไทยกับประเทศมาเลเซีย  นามสกุล \"ศรีธารโต\" เป็นนามสกุลพระราชทานจากสมเด็จพระศรีนครินทราบรมราชชนนี เมื่อปี พ.ศ. 2516 ป่าบนแนวเทือกเขาสันกะลาคีรี ของป่าสงวนแห่งชาติเบตง ที่บ้านซาไก ตำบลบ้านแหร อำเภอธารโต จังหวัดยะลา ซึ่งปัจจุบันแทบไม่เหลือเพราะการอพยพไปประเทศเพื่อนบ้าน ลักษณะภูมิประเทศมีลำธารหลายสายไหลผ่าน การตั้งที่อยู่อาศัย ซาไกจะเลือกบริเวณที่เป็นเนินสูง มีลำธารหรือน้ำตกอยู่ใกล้ ๆ มีป่าไม้ใหญ่ปกคลุม ซึ่งเป็นที่มาของอาหาร ยา ใช้ไม้ไผ่ทำเครื่องมือเครื่องใช้ ลักษณะบ้านเรือนสร้างจากวัสดุพื้นถิ่นที่หาได้ง่าย เช่น จาก ไม้ไผ่ ยกใต้ถุนเล็กน้อย ปัจจุบันมีการส่งเสริมให้เกิดการท่องเที่ยวเชิงวัฒนธรรมในพื้นที่',\n",
              "       'บาโงยซิแน เป็นชุมชนเกษตรกรรม บ้านบาโงยซิแน เดิมชื่อ กำปงบือแน แปลว่า ต้นข่อย ชนดั้งเดิมเป็นมุสลิมซึ่งมาจากถิ่นอื่น เช่น ไทรบุรี โกตาบารู และจังหวัดปัตตานี โดยตั้งถิ่นฐานเป็นกลุ่มชื่อต่าง ๆ ยึดอาชีพในการทำนา ทำไร่ และเลี้ยงสัตว์ ตำบลบาโงยซิแน อยู่ห่างจากตัวจังหวัดประมาณ 13 กิโลเมตร และห่างจากที่ว่าการอำเภอยะหาเป็นระยะทางประมาณ 7 กิโลเมตร มีเนื้อที่ทั้งหมดประมาณ 13,576 ไร่ หรือ 20 ตารางกิโลเมตร มีจำนวน 6 หมู่บ้าน ตัวชุมชนเก่าอยู่ใกล้กับชุมชนบ้านเนียง ถัดมาทางทิศตะวันตกจากแยกบ้านเนียง เป็นชุมชนริมถนน มีทั้งเรือนแถวและเรือนเดี่ยว ไม้/คอนกรีต มีลักษณะอยู่ในถนนย่อยขนาด 2 เลน อาคารวางตัวห่างกัน ไม่หนาแน่น หลังอาคารบางหลังเชื่อมต่อออกไปสู่ทุ่งนา ส่วนใหญ่มีอาชีพเกษตรกรรม และเลี้ยงสัตว์',\n",
              "       'บ้านทอน เป็นชุมชนเกษตรกรรม ชุมชนริมน้ำ และชุมชนกลุ่มอาชีพเฉพาะ ที่ตั้งและภูมิประเทศมีลักษณะเป็นชุมชนที่มีพื้นที่ยาวไปตามชายฝั่งทะเล ประกอบอาชีพประมงเป็นหลัก มีพื้นที่เกษตรกรรมไม่มากนัก องค์ประกอบของชุมชนประมงดั้งเดิม ส่วนใหญ่เป็นชาวมุสลิม เป็นชุมชนประมง มีอาชีพเสริมที่สัมพันธ์กับอาชีพหลัก คือ ต่อเรือกอและ เรือกอและจำลอง ทอเสื่อ และผลิตภัณฑ์จากกระจูด',\n",
              "       'บาเละฮีเล เป็นชุมชนริมน้ำ และชุมชนกลุ่มอาชีพเฉพาะ เป็นชุมชนประมงดั้งเดิม ตั้งอยู่บริเวณใกล้ปากแม่น้ำบางนรา พื้นที่ชุมชนมีลักษณะเป็นช่วงที่แม่น้ำมีเกาะและแหลมบังลมจากทะเล ทำให้มีความเหมาะสมกับการจอดเรือประมง ลักษณะองค์ประกอบภาพรวมของชุมชนประมงแบบดั้งเดิม ทั้งอาคารบ้านเรือน ท่าเรือ ที่จอดเรือ รวมทั้งพื้นที่ชายเลน และอาคารเรือนแถวค้าขายบริเวณตลาด ส่วนใหญ่ชุมชนประกอบอาชีพหลัก คือ ประมง เนื่องจากอยู่ในเขตเมืองจึงมีเขตพื้นที่ค้าขายต่อเนื่องกัน',\n",
              "       'ตันหยงมัส เป็นชุมชนเกษตรกรรม ชุมชนตลาด และชุมชนโดยรอบทางรถไฟ เป็นที่ตั้งของเมืองระแงะเดิมก่อนจะย้ายไปตั้งศูนย์กลางที่บางนรา ชุมชนในเขตเทศบาลตำบลตันหยงมัส ประกอบด้วยชุมชนที่เป็นศูนย์กลางการค้าขาย อันเป็นศูนย์กลางเมืองระแงะแต่เดิม มีสถานีรถไฟตันหยงมัสที่เป็นชุมทางสำคัญ และชุมชนที่มีลักษณะเป็นชุมชนหมู่บ้านประกอบอาชีพเกษตรกรรม ปลูกพืชสำคัญ คือ ลองกอง อันเป็นผลไม้ที่มีชื่อเสียงของตำบลตันหยงมัส ชุมชนมีเศรษฐกิจหลัก คือ ค้าขาย และเกษตรกรรม โดยเฉพาะสวนลองกอง',\n",
              "       'ดุซงญอ เป็นชุมชนตลาด และชุมชนความทรงจำ \"ดุซงญอ\" หมายถึงชื่อของสวนเจ้าของเมืองระแงะที่ได้มาทำสวนในพื้นที่บ้านดุซงญอ ตั้งแต่ในสมัยรัชกาลที่ 2 ซึ่งมีเหตุการณ์สำคัญในความทรงจำที่เรียกกันว่า \"กบฏดุซงญอ\" เมื่อเดือนเมษายน พ.ศ. 2491 เนื่องจากความเข้าใจผิดและมีผู้คนเสียชีวิตเป็นจำนวนมาก มีลักษณะเป็นชุมชนตลาดการค้า และชุมชนหมู่บ้าน จึงมีสถาปัตยกรรมทั้งเรือนแถวไม้ในตลาด และเรือนไม้โบราณ รวมไปถึงศาสนสถาน ชุมชนบ้านดุซงญอส่วนใหญ่เป็นชาวมุสลิม ประกอบอาชีพทำสวนยางพาราและค้าขาย',\n",
              "       'ตะโละมาเนาะ เป็นชุมชนเกษตรกรรม และชุมชนโดยรอบโบราณสถาน ตั้งอยู่บริเวณเทือกเขาบูโดในจังหวัดนราธิวาส กลางหมู่บ้าน มีธารน้ำสายหนึ่งไหลมาจากภูเขาลงสู่ไร่นา ที่ตั้งมัสยิดและบรรดาบ้านเรือนตั้งอยู่ด้านเหนือของธารน้ำ ส่วนด้านใต้ของธารน้ำเป็นบริเวณสุสานที่กว้างปราศจากพุ่มไม้ ลักษณะการตั้งบ้านเรือนของชาวมุสลิมที่ประกอบอาชีพเกษตรกรรมแบบดั้งเดิม บ้านเรือนในหมู่บ้านและอาคารมัสยิดตะโละมาเนาะที่นับเป็นอาคารมัสยิดไม้เก่าแก่ที่สำคัญ บ้านตะโละมาเนาะเป็นชาวมุสลิม ประกอบอาชีพทำนา ทำสวน ทำไร่',\n",
              "       'ละหาร เป็นชุมชนเกษตรกรรม บ้านละหารตั้งอยู่ในอำเภอยี่งอ จังหวัดนราธิวาส ลักษณะชุมชนแสดงให้เห็นถึงองค์ประกอบของชุมชนมุสลิมดั้งเดิม พิพิธภัณฑ์ท้องถิ่นขุนละหาร ชุมชนบ้านละหารส่วนใหญ่เป็นชาวมุสลิมประกอบอาชีพเกษตรกรรมเป็นหลัก เป็นชุมชนดั้งเดิม มีการจัดการจัดตั้งพิพิธภัณฑ์ท้องถิ่นเพื่อศึกษา สืบสานและต่อยอดงานด้านวัฒนธรรมของชุมชน โดยผู้นำชุมชนเอง ทำให้ชุมชนเป็นตัวอย่างที่สามารถสืบสาน และถ่ายทอดประเพณีวัฒนธรรมแบบดั้งเดิมมาปรับกับวิถีปัจจุบันได้',\n",
              "       'ตลาดยี่งอ เป็นชุมชนตลาด \"เมืองยี่งอ\" อาจจะเรียกอีกชื่อหนึ่งว่า \"เมืองยือรีงา\" ถือเป็นเมืองเก่าเมืองหนึ่ง ที่มีเรื่องราวทางประวัติศาสตร์ความเป็นมาที่น่าสนใจ และมีความสำคัญเป็นอย่างยิ่ง พื้นที่ส่วนใหญ่เป็นพื้นที่เกษตรกรรม อาคารเรือนแถวในตลาด อาคาร และสถานที่สำคัญในประวัติศาสตร์เมืองยี่งอ ยี่งอเป็นเมืองเก่าจึงมีการพัฒนาการด้านสังคมและเศรษฐกิจแบบสังคมเมือง ประกอบด้วยชุมชนย่านตลาดการค้าและชุมชนเกษตรกรรม',\n",
              "       'ตลาดสุไหงปาดี เป็นชุมชนตลาด และชุมชนโดยรอบทางรถไฟ เป็นแหล่งการค้าแต่เดิม ที่ย้ายมาจากตำบลสุไหงปาดี เนื่องจากการตัดถนน รวมทั้งการสร้างทางรถไฟ และสถานีรถไฟสุไหงปาดีที่ตำบลนี้ ชุมชนตั้งอยู่ในเทศบาลตำบลปะลุรู มีพื้นที่เป็นที่ราบลุ่มมีคลองโคกปริเม็งเป็นสายหลัก ในสมัยก่อนประกอบอาชีพเกษตรกรรมเป็นหลัก เป็นพื้นที่ที่มีป่าพรุ และพื้นที่เกษตรกรรมมาก เรือนแถวในตลาดสุไหงปาดี และเรือนพักอาศัยของชุมชนเกษตรกรรม ผู้คนในชุมชน ประกอบด้วย ทั้งชาวพุทธและชาวมุสลิมอาศัยอยู่ร่วมกัน แต่ส่วนใหญ่เป็นชาวมุสลิม'],\n",
              "      dtype=object)"
            ]
          },
          "metadata": {},
          "execution_count": 52
        }
      ]
    },
    {
      "cell_type": "code",
      "metadata": {
        "id": "51BTyut4BSoz"
      },
      "source": [
        "for i in range(corr.shape[0]):\n",
        "    for j in range(corr.shape[1]):\n",
        "        if (i !=j) and (corr[i,j] == 1.):\n",
        "            print(f'column = {i} <=> column = {j} corrcoef = {corr[i,j]}')"
      ],
      "execution_count": null,
      "outputs": []
    },
    {
      "cell_type": "code",
      "metadata": {
        "id": "E86KjzM80qtP",
        "outputId": "1ac5dbca-fde4-4f2d-cca3-141725817f51",
        "colab": {
          "base_uri": "https://localhost:8080/",
          "height": 312
        }
      },
      "source": [
        "x[:,1]"
      ],
      "execution_count": 48,
      "outputs": [
        {
          "output_type": "error",
          "ename": "KeyError",
          "evalue": "ignored",
          "traceback": [
            "\u001b[0;31m---------------------------------------------------------------------------\u001b[0m",
            "\u001b[0;31mKeyError\u001b[0m                                  Traceback (most recent call last)",
            "\u001b[0;32m<ipython-input-48-783ec2e35abe>\u001b[0m in \u001b[0;36m<module>\u001b[0;34m()\u001b[0m\n\u001b[0;32m----> 1\u001b[0;31m \u001b[0mx\u001b[0m\u001b[0;34m[\u001b[0m\u001b[0;34m:\u001b[0m\u001b[0;34m,\u001b[0m\u001b[0;36m1\u001b[0m\u001b[0;34m]\u001b[0m\u001b[0;34m\u001b[0m\u001b[0;34m\u001b[0m\u001b[0m\n\u001b[0m",
            "\u001b[0;32m/usr/local/lib/python3.7/dist-packages/pandas/core/series.py\u001b[0m in \u001b[0;36m__getitem__\u001b[0;34m(self, key)\u001b[0m\n\u001b[1;32m    904\u001b[0m             \u001b[0;32mreturn\u001b[0m \u001b[0mself\u001b[0m\u001b[0;34m.\u001b[0m\u001b[0m_get_values\u001b[0m\u001b[0;34m(\u001b[0m\u001b[0mkey\u001b[0m\u001b[0;34m)\u001b[0m\u001b[0;34m\u001b[0m\u001b[0;34m\u001b[0m\u001b[0m\n\u001b[1;32m    905\u001b[0m \u001b[0;34m\u001b[0m\u001b[0m\n\u001b[0;32m--> 906\u001b[0;31m         \u001b[0;32mreturn\u001b[0m \u001b[0mself\u001b[0m\u001b[0;34m.\u001b[0m\u001b[0m_get_with\u001b[0m\u001b[0;34m(\u001b[0m\u001b[0mkey\u001b[0m\u001b[0;34m)\u001b[0m\u001b[0;34m\u001b[0m\u001b[0;34m\u001b[0m\u001b[0m\n\u001b[0m\u001b[1;32m    907\u001b[0m \u001b[0;34m\u001b[0m\u001b[0m\n\u001b[1;32m    908\u001b[0m     \u001b[0;32mdef\u001b[0m \u001b[0m_get_with\u001b[0m\u001b[0;34m(\u001b[0m\u001b[0mself\u001b[0m\u001b[0;34m,\u001b[0m \u001b[0mkey\u001b[0m\u001b[0;34m)\u001b[0m\u001b[0;34m:\u001b[0m\u001b[0;34m\u001b[0m\u001b[0;34m\u001b[0m\u001b[0m\n",
            "\u001b[0;32m/usr/local/lib/python3.7/dist-packages/pandas/core/series.py\u001b[0m in \u001b[0;36m_get_with\u001b[0;34m(self, key)\u001b[0m\n\u001b[1;32m    919\u001b[0m             )\n\u001b[1;32m    920\u001b[0m         \u001b[0;32melif\u001b[0m \u001b[0misinstance\u001b[0m\u001b[0;34m(\u001b[0m\u001b[0mkey\u001b[0m\u001b[0;34m,\u001b[0m \u001b[0mtuple\u001b[0m\u001b[0;34m)\u001b[0m\u001b[0;34m:\u001b[0m\u001b[0;34m\u001b[0m\u001b[0;34m\u001b[0m\u001b[0m\n\u001b[0;32m--> 921\u001b[0;31m             \u001b[0;32mreturn\u001b[0m \u001b[0mself\u001b[0m\u001b[0;34m.\u001b[0m\u001b[0m_get_values_tuple\u001b[0m\u001b[0;34m(\u001b[0m\u001b[0mkey\u001b[0m\u001b[0;34m)\u001b[0m\u001b[0;34m\u001b[0m\u001b[0;34m\u001b[0m\u001b[0m\n\u001b[0m\u001b[1;32m    922\u001b[0m \u001b[0;34m\u001b[0m\u001b[0m\n\u001b[1;32m    923\u001b[0m         \u001b[0;32melif\u001b[0m \u001b[0;32mnot\u001b[0m \u001b[0mis_list_like\u001b[0m\u001b[0;34m(\u001b[0m\u001b[0mkey\u001b[0m\u001b[0;34m)\u001b[0m\u001b[0;34m:\u001b[0m\u001b[0;34m\u001b[0m\u001b[0;34m\u001b[0m\u001b[0m\n",
            "\u001b[0;32m/usr/local/lib/python3.7/dist-packages/pandas/core/series.py\u001b[0m in \u001b[0;36m_get_values_tuple\u001b[0;34m(self, key)\u001b[0m\n\u001b[1;32m    954\u001b[0m \u001b[0;34m\u001b[0m\u001b[0m\n\u001b[1;32m    955\u001b[0m         \u001b[0;32mif\u001b[0m \u001b[0;32mnot\u001b[0m \u001b[0misinstance\u001b[0m\u001b[0;34m(\u001b[0m\u001b[0mself\u001b[0m\u001b[0;34m.\u001b[0m\u001b[0mindex\u001b[0m\u001b[0;34m,\u001b[0m \u001b[0mMultiIndex\u001b[0m\u001b[0;34m)\u001b[0m\u001b[0;34m:\u001b[0m\u001b[0;34m\u001b[0m\u001b[0;34m\u001b[0m\u001b[0m\n\u001b[0;32m--> 956\u001b[0;31m             \u001b[0;32mraise\u001b[0m \u001b[0mKeyError\u001b[0m\u001b[0;34m(\u001b[0m\u001b[0;34m\"key of type tuple not found and not a MultiIndex\"\u001b[0m\u001b[0;34m)\u001b[0m\u001b[0;34m\u001b[0m\u001b[0;34m\u001b[0m\u001b[0m\n\u001b[0m\u001b[1;32m    957\u001b[0m \u001b[0;34m\u001b[0m\u001b[0m\n\u001b[1;32m    958\u001b[0m         \u001b[0;31m# If key is contained, would have returned by now\u001b[0m\u001b[0;34m\u001b[0m\u001b[0;34m\u001b[0m\u001b[0;34m\u001b[0m\u001b[0m\n",
            "\u001b[0;31mKeyError\u001b[0m: 'key of type tuple not found and not a MultiIndex'"
          ]
        }
      ]
    },
    {
      "cell_type": "code",
      "metadata": {
        "id": "6ytvMiOJ8NWC",
        "colab": {
          "base_uri": "https://localhost:8080/"
        },
        "outputId": "4913e69b-2512-41d7-df22-f7e3a4838509"
      },
      "source": [
        "txt = hhh\n",
        "x = txt.str.split()\n",
        "print(x) "
      ],
      "execution_count": 34,
      "outputs": [
        {
          "output_type": "stream",
          "name": "stdout",
          "text": [
            "0                                          [ไม่มีข้อมูล]\n",
            "1      [ชุมชนเมืองนครเขื่อนขันธ์, เป็นชุมชนย่านการค้า...\n",
            "2      [ชุมชนตลาดบางพลี, เป็นชุมชนย่านตลาดการค้าเก่าแ...\n",
            "3      [ชุมชนตลาดคลองสวน, เป็นชุมชนย่านตลาดการค้า, บร...\n",
            "4      [ชุมชนบ้านสาขลา, เป็นชุมชนประมงของชาวนาเกลือ, ...\n",
            "                             ...                        \n",
            "609    [ดุซงญอ, เป็นชุมชนตลาด, และชุมชนความทรงจำ, \"ดุ...\n",
            "610    [ตะโละมาเนาะ, เป็นชุมชนเกษตรกรรม, และชุมชนโดยร...\n",
            "611    [ละหาร, เป็นชุมชนเกษตรกรรม, บ้านละหารตั้งอยู่ใ...\n",
            "612    [ตลาดยี่งอ, เป็นชุมชนตลาด, \"เมืองยี่งอ\", อาจจะ...\n",
            "613    [ตลาดสุไหงปาดี, เป็นชุมชนตลาด, และชุมชนโดยรอบท...\n",
            "Name: ลักษณะสำคัญ, Length: 614, dtype: object\n"
          ]
        }
      ]
    },
    {
      "cell_type": "code",
      "metadata": {
        "id": "jeaIayFmHqUN",
        "colab": {
          "base_uri": "https://localhost:8080/"
        },
        "outputId": "331932e4-333a-45e1-e2a5-8d1fd363d485"
      },
      "source": [
        "x[2]"
      ],
      "execution_count": 35,
      "outputs": [
        {
          "output_type": "execute_result",
          "data": {
            "text/plain": [
              "['ชุมชนตลาดบางพลี',\n",
              " 'เป็นชุมชนย่านตลาดการค้าเก่าแก่ของอำเภอบางพลี',\n",
              " 'โดยในสมัยก่อนชาวบ้านจะปลูกโรงอยู่มุ้งด้วยจากและเรือนใต้ถุนสูง',\n",
              " '(เนื่องจากมียุงชุกชุมมาก)',\n",
              " 'ภายในชุมชนมีกลุ่มชาวบ้าน',\n",
              " '3',\n",
              " 'กลุ่ม',\n",
              " 'คือ',\n",
              " 'ชาวไทย',\n",
              " 'ชาวรามัญและชาวลาว',\n",
              " 'ซึ่งทุกคนจะเสมือนเป็นญาติพี่น้องกัน',\n",
              " 'โดยบริเวณตลาดจะมีคลองสำโรง',\n",
              " 'ซึ่งแยกจากแม่น้ำเจ้าพระยาเป็นคลองสำคัญ',\n",
              " 'ปัจจุบันสภาพพื้นที่ส่วนใหญ่เปลี่ยนจากท้องนากลายเป็นโรงงานอุตสาหกรรม',\n",
              " 'อาคารพาณิชย์และบ้านจัดสรร',\n",
              " 'แต่ยังพบเห็นกลุ่มอาคารเก่าแบบบ้านห้องแถวไม้',\n",
              " '2',\n",
              " 'ชั้น',\n",
              " 'อยู่บ้างในบริเวณตลาดบางพลีและริมคลองสำโรง']"
            ]
          },
          "metadata": {},
          "execution_count": 35
        }
      ]
    },
    {
      "cell_type": "code",
      "metadata": {
        "id": "LuMvY8ppMe8r",
        "colab": {
          "base_uri": "https://localhost:8080/"
        },
        "outputId": "9557f5a2-0d2a-431b-9edc-d1aa2a587d63"
      },
      "source": [
        "x"
      ],
      "execution_count": 42,
      "outputs": [
        {
          "output_type": "execute_result",
          "data": {
            "text/plain": [
              "0                                          [ไม่มีข้อมูล]\n",
              "1      [ชุมชนเมืองนครเขื่อนขันธ์, เป็นชุมชนย่านการค้า...\n",
              "2      [ชุมชนตลาดบางพลี, เป็นชุมชนย่านตลาดการค้าเก่าแ...\n",
              "3      [ชุมชนตลาดคลองสวน, เป็นชุมชนย่านตลาดการค้า, บร...\n",
              "4      [ชุมชนบ้านสาขลา, เป็นชุมชนประมงของชาวนาเกลือ, ...\n",
              "                             ...                        \n",
              "609    [ดุซงญอ, เป็นชุมชนตลาด, และชุมชนความทรงจำ, \"ดุ...\n",
              "610    [ตะโละมาเนาะ, เป็นชุมชนเกษตรกรรม, และชุมชนโดยร...\n",
              "611    [ละหาร, เป็นชุมชนเกษตรกรรม, บ้านละหารตั้งอยู่ใ...\n",
              "612    [ตลาดยี่งอ, เป็นชุมชนตลาด, \"เมืองยี่งอ\", อาจจะ...\n",
              "613    [ตลาดสุไหงปาดี, เป็นชุมชนตลาด, และชุมชนโดยรอบท...\n",
              "Name: ลักษณะสำคัญ, Length: 614, dtype: object"
            ]
          },
          "metadata": {},
          "execution_count": 42
        }
      ]
    },
    {
      "cell_type": "code",
      "metadata": {
        "id": "fLUUYfzYlfWn",
        "outputId": "3c21769e-00a8-491a-bc12-419438bcafd4",
        "colab": {
          "base_uri": "https://localhost:8080/",
          "height": 35
        }
      },
      "source": [
        "x[0][0]"
      ],
      "execution_count": 38,
      "outputs": [
        {
          "output_type": "execute_result",
          "data": {
            "application/vnd.google.colaboratory.intrinsic+json": {
              "type": "string"
            },
            "text/plain": [
              "'ไม่มีข้อมูล'"
            ]
          },
          "metadata": {},
          "execution_count": 38
        }
      ]
    },
    {
      "cell_type": "code",
      "metadata": {
        "id": "QnOe6w6eVBW3",
        "colab": {
          "base_uri": "https://localhost:8080/"
        },
        "outputId": "3c7bd38d-906e-4a83-a742-33c1899ebdb8"
      },
      "source": [
        "a = [x]\n",
        "for i in a:\n",
        "    print(i)"
      ],
      "execution_count": 41,
      "outputs": [
        {
          "output_type": "stream",
          "name": "stdout",
          "text": [
            "0                                          [ไม่มีข้อมูล]\n",
            "1      [ชุมชนเมืองนครเขื่อนขันธ์, เป็นชุมชนย่านการค้า...\n",
            "2      [ชุมชนตลาดบางพลี, เป็นชุมชนย่านตลาดการค้าเก่าแ...\n",
            "3      [ชุมชนตลาดคลองสวน, เป็นชุมชนย่านตลาดการค้า, บร...\n",
            "4      [ชุมชนบ้านสาขลา, เป็นชุมชนประมงของชาวนาเกลือ, ...\n",
            "                             ...                        \n",
            "609    [ดุซงญอ, เป็นชุมชนตลาด, และชุมชนความทรงจำ, \"ดุ...\n",
            "610    [ตะโละมาเนาะ, เป็นชุมชนเกษตรกรรม, และชุมชนโดยร...\n",
            "611    [ละหาร, เป็นชุมชนเกษตรกรรม, บ้านละหารตั้งอยู่ใ...\n",
            "612    [ตลาดยี่งอ, เป็นชุมชนตลาด, \"เมืองยี่งอ\", อาจจะ...\n",
            "613    [ตลาดสุไหงปาดี, เป็นชุมชนตลาด, และชุมชนโดยรอบท...\n",
            "Name: ลักษณะสำคัญ, Length: 614, dtype: object\n"
          ]
        }
      ]
    },
    {
      "cell_type": "markdown",
      "metadata": {
        "id": "4d4EyNkDsOFv"
      },
      "source": [
        "## **นักท่องเที่ยวที่มาเที่ยวชุมชนเก่าในจังหวัดนั้นๆมีโอกาสไปเที่ยวชุมชนเก่าในจังหวัดใดด้วย**"
      ]
    },
    {
      "cell_type": "markdown",
      "metadata": {
        "id": "idFopQOFCUS1"
      },
      "source": [
        "###ข้อมูลจังหวัด ข้อมูลภูมิภาค จำนวนประชากรแต่ละจังหวัด รายได้จากการท่องเที่ยวของแต่ละจังหวัด ใช้ทำนายลักษณะของชุมชนเก่าว่ามีลักษณะอย่างไร"
      ]
    },
    {
      "cell_type": "markdown",
      "metadata": {
        "id": "1Ln1ZteEq8Xh"
      },
      "source": [
        "### K-itemset\n"
      ]
    },
    {
      "cell_type": "code",
      "metadata": {
        "id": "IkragovFg3EC"
      },
      "source": [
        "transactions = data_mix.groupby('ชื่อย่านชุมชนเก่า')['รหัสจังหวัด'].apply(list) #การจัดกลุ่มชื่อย่านชุมชนเก่าโดยอิงจากรหัสจังหวัด"
      ],
      "execution_count": null,
      "outputs": []
    },
    {
      "cell_type": "code",
      "metadata": {
        "id": "g-Si4x9pjGp_"
      },
      "source": [
        "transactions  #เเสดงข้อมูลของการจัดกลุ่ม"
      ],
      "execution_count": null,
      "outputs": []
    },
    {
      "cell_type": "code",
      "metadata": {
        "id": "_M6yuBG7jnbz"
      },
      "source": [
        "!pip install apyori #ทำการติดตั้ง Apriori เพื่อหา frequent Itemsets "
      ],
      "execution_count": null,
      "outputs": []
    },
    {
      "cell_type": "code",
      "metadata": {
        "id": "LWJN_MPVjsEf"
      },
      "source": [
        "from apyori import apriori #เรียกใช้ apriori"
      ],
      "execution_count": null,
      "outputs": []
    },
    {
      "cell_type": "code",
      "metadata": {
        "id": "BXlBNOtmjRVe"
      },
      "source": [
        "frequentItemsets = list(apriori(transactions,min_support = 0.0015)) #หาความสัมพันธ์โดยใช้คำสั่ง apriori ด้วยการกำหนดค่า min support = 0.0015 \n",
        "frequentItemsets"
      ],
      "execution_count": null,
      "outputs": []
    },
    {
      "cell_type": "code",
      "metadata": {
        "id": "lvlTAbFEmg1Y"
      },
      "source": [
        "frequentItemsets[-1] #เลือกข้อมูลตัวสุดท้ายออกมาดู"
      ],
      "execution_count": null,
      "outputs": []
    },
    {
      "cell_type": "markdown",
      "metadata": {
        "id": "dA1r1CV8mydv"
      },
      "source": [
        "RelationRecord(items=frozenset({'th-nr', 'th-br', 'th-ms', 'th-re'}), support=0.0016420361247947454, \n",
        "\n",
        "ordered_statistics=[OrderedStatistic(items_base=frozenset(), items_add=frozenset({'th-nr', 'th-br', 'th-ms', 'th-re'}), confidence=0.0016420361247947454, lift=1.0), \n",
        "\n",
        "OrderedStatistic(items_base=frozenset({'th-br'}), items_add=frozenset({'th-nr', 'th-ms', 'th-re'}), confidence=0.16666666666666666, lift=101.5), \n",
        "\n",
        "OrderedStatistic(items_base=frozenset({'th-ms'}), items_add=frozenset({'th-nr', 'th-br', 'th-re'}), confidence=0.11111111111111112, lift=67.66666666666667), \n",
        "\n",
        "OrderedStatistic(items_base=frozenset({'th-nr'}), items_add=frozenset({'th-br', 'th-ms', 'th-re'}), confidence=0.25, lift=152.25), \n",
        "\n",
        "OrderedStatistic(items_base=frozenset({'th-re'}), items_add=frozenset({'th-nr', 'th-br', 'th-ms'}), confidence=0.11111111111111112, lift=67.66666666666667), \n",
        "\n",
        "OrderedStatistic(items_base=frozenset({'th-br', 'th-ms'}), items_add=frozenset({'th-nr', 'th-re'}), confidence=1.0, lift=609.0), \n",
        "\n",
        "OrderedStatistic(items_base=frozenset({'th-nr', 'th-br'}), items_add=frozenset({'th-ms', 'th-re'}), confidence=1.0, lift=609.0), \n",
        "\n",
        "OrderedStatistic(items_base=frozenset({'th-br', 'th-re'}), items_add=frozenset({'th-nr', 'th-ms'}), confidence=1.0, lift=609.0), \n",
        "\n",
        "OrderedStatistic(items_base=frozenset({'th-nr', 'th-ms'}), items_add=frozenset({'th-br', 'th-re'}), confidence=1.0, lift=609.0), \n",
        "\n",
        "OrderedStatistic(items_base=frozenset({'th-ms', 'th-re'}), items_add=frozenset({'th-nr', 'th-br'}), confidence=1.0, lift=609.0), \n",
        "\n",
        "OrderedStatistic(items_base=frozenset({'th-nr', 'th-re'}), items_add=frozenset({'th-br', 'th-ms'}), confidence=1.0, lift=609.0), \n",
        "\n",
        "OrderedStatistic(items_base=frozenset({'th-nr', 'th-br', 'th-ms'}), items_add=frozenset({'th-re'}), confidence=1.0, lift=67.66666666666667), \n",
        "\n",
        "OrderedStatistic(items_base=frozenset({'th-br', 'th-ms', 'th-re'}), items_add=frozenset({'th-nr'}), confidence=1.0, lift=152.25), \n",
        "\n",
        "OrderedStatistic(items_base=frozenset({'th-nr', 'th-br', 'th-re'}), items_add=frozenset({'th-ms'}), confidence=1.0, lift=67.66666666666667), \n",
        "\n",
        "OrderedStatistic(items_base=frozenset({'th-nr', 'th-ms', 'th-re'}), items_add=frozenset({'th-br'}), confidence=1.0, lift=101.5)])"
      ]
    },
    {
      "cell_type": "markdown",
      "metadata": {
        "id": "uMzroRqcpDiV"
      },
      "source": [
        "**OrderedStatistic(items_base=frozenset({'th-nr', 'th-ms'}), items_add=frozenset({'th-br', 'th-re'}), confidence=1.0, lift=609.0)**"
      ]
    },
    {
      "cell_type": "code",
      "metadata": {
        "id": "fEU8ZMOdmzWl"
      },
      "source": [
        "data_mix[data_mix['รหัสจังหวัด']=='th-nr'] #ดูรหัสจังหวัดว่าเป็นรหัสของจังหวัดอะไร"
      ],
      "execution_count": null,
      "outputs": []
    },
    {
      "cell_type": "code",
      "metadata": {
        "id": "nX7TkaR-pocN"
      },
      "source": [
        "data_mix[data_mix['รหัสจังหวัด']=='th-ms'] #ดูรหัสจังหวัดว่าเป็นรหัสของจังหวัดอะไร"
      ],
      "execution_count": null,
      "outputs": []
    },
    {
      "cell_type": "code",
      "metadata": {
        "id": "sTcwq8HTprZN"
      },
      "source": [
        "data_mix[data_mix['รหัสจังหวัด']=='th-br'] #ดูรหัสจังหวัดว่าเป็นรหัสของจังหวัดอะไร"
      ],
      "execution_count": null,
      "outputs": []
    },
    {
      "cell_type": "code",
      "metadata": {
        "id": "IJi_1HY8pseg"
      },
      "source": [
        "data_mix[data_mix['รหัสจังหวัด']=='th-re'] #ดูรหัสจังหวัดว่าเป็นรหัสของจังหวัดอะไร"
      ],
      "execution_count": null,
      "outputs": []
    },
    {
      "cell_type": "markdown",
      "metadata": {
        "id": "tCkrsdSUp7He"
      },
      "source": [
        "**สรุป** ถ้าหากนักท่องเที่ยวไปท่องเที่ยวชุมชนเก่าในจังหวัด นครราชสีมา และ มหาสารคาม นักท่องเที่ยวจะไปท่องเที่ยวชุมชนเก่าในจังหวัด บุรีรัมย์ และ ร้อยเอ็ด ด้วย โดยมีค่า confidence = 100% ที่ค่า support = 0.1% ซึ่งมีค่า lift มากกว่า 1\n",
        "  "
      ]
    },
    {
      "cell_type": "markdown",
      "metadata": {
        "id": "kmEstKKWtlf4"
      },
      "source": [
        "### Decision tree"
      ]
    },
    {
      "cell_type": "code",
      "metadata": {
        "id": "mw1Mi1YW1kxO"
      },
      "source": [
        "data_mix.to_csv('data_mix.csv') #saveข้อมูลdata mix เป็นไฟล์ csv เก็บไว้ใน Colab"
      ],
      "execution_count": null,
      "outputs": []
    },
    {
      "cell_type": "code",
      "metadata": {
        "id": "lkYUnU-K2Wbb"
      },
      "source": [
        "data_mytree = pd.read_csv('data_mix.csv') #เรียกข้อมูล data mix มาใช้"
      ],
      "execution_count": null,
      "outputs": []
    },
    {
      "cell_type": "code",
      "metadata": {
        "id": "KeHpICfQ2rWj"
      },
      "source": [
        "data_mytree"
      ],
      "execution_count": null,
      "outputs": []
    },
    {
      "cell_type": "markdown",
      "metadata": {
        "id": "X6slZL5nwCDS"
      },
      "source": [
        "### K-Means"
      ]
    },
    {
      "cell_type": "code",
      "metadata": {
        "id": "Hq-tEaGS24MF"
      },
      "source": [
        "from sklearn.datasets import make_blobs  "
      ],
      "execution_count": null,
      "outputs": []
    },
    {
      "cell_type": "code",
      "metadata": {
        "id": "N3eP0QYU2tf4"
      },
      "source": [
        "data_mix.shape"
      ],
      "execution_count": null,
      "outputs": []
    },
    {
      "cell_type": "code",
      "metadata": {
        "id": "KU2vV34pLLK8"
      },
      "source": [
        "data=data_mix.iloc[:,2:16]\n",
        "data"
      ],
      "execution_count": null,
      "outputs": []
    },
    {
      "cell_type": "code",
      "metadata": {
        "id": "SpDTuZdL1Zq7"
      },
      "source": [
        "X, y = make_blobs(n_samples=614, centers=2, n_features=2, random_state=6)"
      ],
      "execution_count": null,
      "outputs": []
    },
    {
      "cell_type": "markdown",
      "metadata": {
        "id": "6uPmIXj2F_0v"
      },
      "source": [
        "## **ติดerror dataframe ค่ะ**"
      ]
    },
    {
      "cell_type": "code",
      "metadata": {
        "id": "DhXTypJkD3xd"
      },
      "source": [
        "X, y = data(centers=2, n_features=2, random_state=6) "
      ],
      "execution_count": null,
      "outputs": []
    },
    {
      "cell_type": "code",
      "metadata": {
        "id": "YjoVXFr43Czl"
      },
      "source": [
        "from matplotlib import pyplot as plt \n",
        "plt.scatter(X[:,0],X[:,1])"
      ],
      "execution_count": null,
      "outputs": []
    },
    {
      "cell_type": "markdown",
      "metadata": {
        "id": "itRdp_Tq3TaE"
      },
      "source": [
        "#### Clustering"
      ]
    },
    {
      "cell_type": "markdown",
      "metadata": {
        "id": "XRF8K0X13aal"
      },
      "source": [
        "Import"
      ]
    },
    {
      "cell_type": "code",
      "metadata": {
        "id": "Yy-INqJq3Xvy"
      },
      "source": [
        "from sklearn.cluster import KMeans "
      ],
      "execution_count": null,
      "outputs": []
    },
    {
      "cell_type": "code",
      "metadata": {
        "id": "1AJn_t35IBSt"
      },
      "source": [
        "import numpy as np"
      ],
      "execution_count": null,
      "outputs": []
    },
    {
      "cell_type": "markdown",
      "metadata": {
        "id": "GoX5t8Z33dho"
      },
      "source": [
        "Define"
      ]
    },
    {
      "cell_type": "code",
      "metadata": {
        "id": "8imfIze8H7Rt"
      },
      "source": [
        "X = np.array([[data]])\n"
      ],
      "execution_count": null,
      "outputs": []
    },
    {
      "cell_type": "code",
      "metadata": {
        "id": "kkXjm5XMJUAV"
      },
      "source": [
        "kmeans = KMeans(n_clusters=2, random_state=6)"
      ],
      "execution_count": null,
      "outputs": []
    },
    {
      "cell_type": "code",
      "metadata": {
        "id": "3l3VpSDSJT-q"
      },
      "source": [
        ""
      ],
      "execution_count": null,
      "outputs": []
    },
    {
      "cell_type": "markdown",
      "metadata": {
        "id": "DD81Ik6E3iNX"
      },
      "source": [
        "Fit-Predict"
      ]
    },
    {
      "cell_type": "code",
      "metadata": {
        "id": "_wRYKxm63e6e"
      },
      "source": [
        "data_clust = kmeans.fit_predict(X)"
      ],
      "execution_count": null,
      "outputs": []
    },
    {
      "cell_type": "code",
      "metadata": {
        "id": "voTRDeQ73p_F"
      },
      "source": [
        "data_clust"
      ],
      "execution_count": null,
      "outputs": []
    },
    {
      "cell_type": "code",
      "metadata": {
        "id": "UQCReKCs6OwY"
      },
      "source": [
        "plt.scatter(X[:,0],X[:,1],c=data_clust)"
      ],
      "execution_count": null,
      "outputs": []
    },
    {
      "cell_type": "code",
      "metadata": {
        "id": "Q2tlbfaI6RJi"
      },
      "source": [
        "#define\n",
        "kmeans = KMeans(n_clusters=3, random_state=6,init='random')\n",
        "#fit-predict\n",
        "data_clust = kmeans.fit_predict(X)\n",
        "#plot\n",
        "plt.scatter(X[:,0],X[:,1],c=data_clust)"
      ],
      "execution_count": null,
      "outputs": []
    },
    {
      "cell_type": "code",
      "metadata": {
        "id": "1dWjv41A6YAo"
      },
      "source": [
        "#define\n",
        "kmeans = KMeans(n_clusters=3, random_state=1000,init='random')\n",
        "#fit-predict\n",
        "data_clust = kmeans.fit_predict(X)\n",
        "#plot\n",
        "plt.scatter(X[:,0],X[:,1],c=data_clust)"
      ],
      "execution_count": null,
      "outputs": []
    },
    {
      "cell_type": "code",
      "metadata": {
        "id": "t-B_qC8X-mlT"
      },
      "source": [
        ""
      ],
      "execution_count": null,
      "outputs": []
    },
    {
      "cell_type": "markdown",
      "metadata": {
        "id": "mpr42gTlPbr4"
      },
      "source": [
        "###KNN"
      ]
    },
    {
      "cell_type": "markdown",
      "metadata": {
        "id": "Yu7t0zR5QBse"
      },
      "source": [
        "###Load Data"
      ]
    },
    {
      "cell_type": "code",
      "metadata": {
        "id": "qsVs0X6FSeAs"
      },
      "source": [
        "from sklearn.neighbors import KNeighborsClassifier"
      ],
      "execution_count": null,
      "outputs": []
    },
    {
      "cell_type": "code",
      "metadata": {
        "id": "N2WhBw6BSPRy"
      },
      "source": [
        "X = np.array([[data_mix]])"
      ],
      "execution_count": null,
      "outputs": []
    },
    {
      "cell_type": "code",
      "metadata": {
        "id": "8bnserUHPfa_"
      },
      "source": [
        "from sklearn import  datasets\n",
        "\n",
        "data_knn = data_mix()\n",
        "\n",
        "X = X['data']\n",
        "y = X['target']"
      ],
      "execution_count": null,
      "outputs": []
    },
    {
      "cell_type": "markdown",
      "metadata": {
        "id": "I1a16nFmQILh"
      },
      "source": [
        "###Split Data"
      ]
    },
    {
      "cell_type": "code",
      "metadata": {
        "id": "Zc99vy9ZPg3D"
      },
      "source": [
        "from sklearn.model_selection import train_test_split\n",
        "\n",
        "# train-test\n",
        "X_train, X_test, y_train, y_test = train_test_split(X, y, test_size=0.5, random_state=6)\n",
        "\n",
        "# train-validation\n",
        "X_train2, X_val, y_train2, y_val = train_test_split(X_train, y_train, test_size=0.3, random_state=6)"
      ],
      "execution_count": null,
      "outputs": []
    },
    {
      "cell_type": "markdown",
      "metadata": {
        "id": "xJfsvjOeQPnB"
      },
      "source": [
        "###Train Model\n",
        "\n",
        "import"
      ]
    },
    {
      "cell_type": "code",
      "metadata": {
        "id": "4ddogXv6PgVn"
      },
      "source": [
        "from sklearn.neighbors import KNeighborsClassifier\n",
        "from sklearn.metrics import accuracy_score"
      ],
      "execution_count": null,
      "outputs": []
    },
    {
      "cell_type": "markdown",
      "metadata": {
        "id": "ARjy1ktEQaBt"
      },
      "source": [
        "**knn1**"
      ]
    },
    {
      "cell_type": "code",
      "metadata": {
        "id": "WagiUvnxQM9m"
      },
      "source": [
        "# Define\n",
        "neigh1 = KNeighborsClassifier(n_neighbors=3, weights='uniform')\n",
        "# Train\n",
        "neigh1.fit(X_train2,y_train2)\n",
        "# Test\n",
        "knn1_result = neigh1.predict(X_val)\n",
        "accuracy_score(y_val, knn1_result)"
      ],
      "execution_count": null,
      "outputs": []
    },
    {
      "cell_type": "markdown",
      "metadata": {
        "id": "1cpnimdkQhpP"
      },
      "source": [
        "**knn2**\n"
      ]
    },
    {
      "cell_type": "code",
      "metadata": {
        "id": "P0ORKU4MQM8D"
      },
      "source": [
        "# Define\n",
        "neigh2 = KNeighborsClassifier(n_neighbors=10, weights='distance')\n",
        "# Train\n",
        "neigh2.fit(X_train2,y_train2)\n",
        "# Test\n",
        "knn2_result = neigh2.predict(X_val)\n",
        "accuracy_score(y_val, knn2_result)"
      ],
      "execution_count": null,
      "outputs": []
    },
    {
      "cell_type": "markdown",
      "metadata": {
        "id": "M2CHSgcLQoY6"
      },
      "source": [
        "**knn3**"
      ]
    },
    {
      "cell_type": "code",
      "metadata": {
        "id": "ULnfVEexQM6Q"
      },
      "source": [
        "# Define\n",
        "neigh3 = KNeighborsClassifier(n_neighbors=1)\n",
        "# Train\n",
        "neigh3.fit(X_train2,y_train2)\n",
        "# Test\n",
        "knn3_result = neigh3.predict(X_val)\n",
        "accuracy_score(y_val, knn3_result)"
      ],
      "execution_count": null,
      "outputs": []
    },
    {
      "cell_type": "markdown",
      "metadata": {
        "id": "XWbC48eNXKhk"
      },
      "source": [
        "###Neural Network\n",
        "\n",
        "Import"
      ]
    },
    {
      "cell_type": "code",
      "metadata": {
        "id": "kA-eoptxQM4L"
      },
      "source": [
        "from sklearn.neural_network import MLPClassifier"
      ],
      "execution_count": null,
      "outputs": []
    },
    {
      "cell_type": "markdown",
      "metadata": {
        "id": "MnyOesdlXXDT"
      },
      "source": [
        "Define"
      ]
    },
    {
      "cell_type": "code",
      "metadata": {
        "id": "ff48tbdEQslt"
      },
      "source": [
        "perceptron1 = MLPClassifier(random_state=6, max_iter=2000, hidden_layer_sizes=1,learning_rate_init=0.005)"
      ],
      "execution_count": null,
      "outputs": []
    },
    {
      "cell_type": "markdown",
      "metadata": {
        "id": "m9PKfKmvXdwE"
      },
      "source": [
        "Train - Test"
      ]
    },
    {
      "cell_type": "code",
      "metadata": {
        "id": "aL6vQAqyQsjG"
      },
      "source": [
        "# Train\n",
        "perceptron1.fit(X_train2,y_train2)\n",
        "# Test\n",
        "ann1_result = perceptron1.predict(X_val)\n",
        "accuracy_score(y_val, ann1_result)"
      ],
      "execution_count": null,
      "outputs": []
    },
    {
      "cell_type": "code",
      "metadata": {
        "id": "wWeV_UwJXdU0"
      },
      "source": [
        ""
      ],
      "execution_count": null,
      "outputs": []
    }
  ]
}