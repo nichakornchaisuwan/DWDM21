{
  "nbformat": 4,
  "nbformat_minor": 0,
  "metadata": {
    "colab": {
      "name": "Chapter7 Clssification (KNN-NN).ipynb",
      "provenance": [],
      "toc_visible": true,
      "authorship_tag": "ABX9TyPd1826gJjAdK2e/tWI6Asy",
      "include_colab_link": true
    },
    "kernelspec": {
      "name": "python3",
      "display_name": "Python 3"
    },
    "language_info": {
      "name": "python"
    }
  },
  "cells": [
    {
      "cell_type": "markdown",
      "metadata": {
        "id": "view-in-github",
        "colab_type": "text"
      },
      "source": [
        "<a href=\"https://colab.research.google.com/github/nichakornchaisuwan/DWDM21/blob/main/Chapter7_Clssification_(KNN_NN).ipynb\" target=\"_parent\"><img src=\"https://colab.research.google.com/assets/colab-badge.svg\" alt=\"Open In Colab\"/></a>"
      ]
    },
    {
      "cell_type": "markdown",
      "metadata": {
        "id": "jhdsPivKiNgY"
      },
      "source": [
        "# KNN-NN"
      ]
    },
    {
      "cell_type": "markdown",
      "metadata": {
        "id": "gTtbORuOUKGb"
      },
      "source": [
        "##load data\n",
        "\n"
      ]
    },
    {
      "cell_type": "code",
      "metadata": {
        "id": "8my63jURT09D"
      },
      "source": [
        "\n",
        "from sklearn import datasets\n",
        "\n",
        "digit_data = datasets.load_digits()\n",
        "X = digit_data['data']\n",
        "Y = digit_data['target']"
      ],
      "execution_count": null,
      "outputs": []
    },
    {
      "cell_type": "markdown",
      "metadata": {
        "id": "wSANc5WwUlsy"
      },
      "source": [
        "## Split data"
      ]
    },
    {
      "cell_type": "code",
      "metadata": {
        "id": "RJqSJKWRUqw4"
      },
      "source": [
        "from sklearn.model_selection import train_test_split\n",
        "\n",
        "#train test\n",
        "X_train, X_test, Y_train, Y_test = train_test_split(X, Y, test_size=0.5, random_state=6)\n",
        "#Train-Validation\n",
        "X_train2, X_val, Y_train2, Y_val = train_test_split(X_train, Y_train, test_size=0.3, random_state=6)"
      ],
      "execution_count": null,
      "outputs": []
    },
    {
      "cell_type": "markdown",
      "metadata": {
        "id": "m_bR58ieXLSa"
      },
      "source": [
        "##Train Model"
      ]
    },
    {
      "cell_type": "markdown",
      "metadata": {
        "id": "c62TbS_TXRml"
      },
      "source": [
        "###Import"
      ]
    },
    {
      "cell_type": "code",
      "metadata": {
        "id": "MevtAO9cXTia"
      },
      "source": [
        "from sklearn.neighbors import KNeighborsClassifier"
      ],
      "execution_count": null,
      "outputs": []
    },
    {
      "cell_type": "code",
      "metadata": {
        "id": "j6Ijd34aZcdy"
      },
      "source": [
        "from sklearn.metrics import accuracy_score"
      ],
      "execution_count": null,
      "outputs": []
    },
    {
      "cell_type": "markdown",
      "metadata": {
        "id": "SV6DHzfKXgHJ"
      },
      "source": [
        "###Knn1"
      ]
    },
    {
      "cell_type": "code",
      "metadata": {
        "colab": {
          "base_uri": "https://localhost:8080/"
        },
        "id": "9j2TXd9yXevV",
        "outputId": "dcf309bb-ab4b-41fc-e27d-e60d9629639a"
      },
      "source": [
        "#Define\n",
        "neigh1 = KNeighborsClassifier(n_neighbors=3,weights='uniform') #ถามเพื่อนบ้านที่ใกล้ที่สุด เชื่อทุกๆคนเท่ากัน\n",
        "#Train\n",
        "neigh1.fit(X_train2,Y_train2)\n",
        "#Test\n",
        "knn1_result = neigh1.predict(X_val)\n",
        "accuracy_score(Y_val, knn1_result )"
      ],
      "execution_count": null,
      "outputs": [
        {
          "output_type": "execute_result",
          "data": {
            "text/plain": [
              "0.9703703703703703"
            ]
          },
          "metadata": {},
          "execution_count": 5
        }
      ]
    },
    {
      "cell_type": "markdown",
      "metadata": {
        "id": "ggbnVT1IZk1l"
      },
      "source": [
        "###Knn2"
      ]
    },
    {
      "cell_type": "code",
      "metadata": {
        "colab": {
          "base_uri": "https://localhost:8080/"
        },
        "id": "PGGQaswrYwZe",
        "outputId": "395d7886-0d46-4732-b7fd-3a4fb0725c25"
      },
      "source": [
        "#Define\n",
        "neigh2 = KNeighborsClassifier(n_neighbors=10,weights='distance') #ถามเพื่อนบ้านที่ใกล้ที่สุด 10 คน  เชื่อคนที่อยู่ใกล้มมากกว่าไกล \n",
        "#Train\n",
        "neigh2.fit(X_train2,Y_train2)\n",
        "#Test\n",
        "knn2_result = neigh2.predict(X_val)\n",
        "accuracy_score(Y_val, knn2_result )"
      ],
      "execution_count": null,
      "outputs": [
        {
          "output_type": "execute_result",
          "data": {
            "text/plain": [
              "0.9703703703703703"
            ]
          },
          "metadata": {},
          "execution_count": 6
        }
      ]
    },
    {
      "cell_type": "markdown",
      "metadata": {
        "id": "UT2J14DVaDiO"
      },
      "source": [
        "###Knn3"
      ]
    },
    {
      "cell_type": "code",
      "metadata": {
        "colab": {
          "base_uri": "https://localhost:8080/"
        },
        "id": "S_3iH5LBaCXt",
        "outputId": "17e9c74f-a8a4-46dc-cb57-ad95e2dcf8b7"
      },
      "source": [
        "# Define\n",
        "neigh3 = KNeighborsClassifier(n_neighbors=1) #เชื่อเพื่อนบ้านที่ใกล้ที่สุดคนเดียว\n",
        "# Train\n",
        "neigh3.fit(X_train2,Y_train2)\n",
        "# Test\n",
        "knn3_result = neigh3.predict(X_val)\n",
        "accuracy_score(Y_val, knn3_result)"
      ],
      "execution_count": null,
      "outputs": [
        {
          "output_type": "execute_result",
          "data": {
            "text/plain": [
              "0.9777777777777777"
            ]
          },
          "metadata": {},
          "execution_count": 7
        }
      ]
    },
    {
      "cell_type": "markdown",
      "metadata": {
        "id": "VAuhbfvPaSs5"
      },
      "source": [
        "###Retrain & Evaluate"
      ]
    },
    {
      "cell_type": "code",
      "metadata": {
        "colab": {
          "base_uri": "https://localhost:8080/"
        },
        "id": "ENzzZbMiaKZ4",
        "outputId": "b5e19a44-d4bf-46f3-9266-98955caacd08"
      },
      "source": [
        "# Define\n",
        "neigh3_final = KNeighborsClassifier(n_neighbors=1)\n",
        "# Train\n",
        "neigh3_final.fit(X_train,Y_train)\n",
        "# Test\n",
        "knn3final_result = neigh3_final.predict(X_test)\n",
        "accuracy_score(Y_test, knn3final_result)"
      ],
      "execution_count": null,
      "outputs": [
        {
          "output_type": "execute_result",
          "data": {
            "text/plain": [
              "0.982202447163515"
            ]
          },
          "metadata": {},
          "execution_count": 8
        }
      ]
    },
    {
      "cell_type": "markdown",
      "metadata": {
        "id": "5OJeY-2bbZsc"
      },
      "source": [
        "## Neural Network"
      ]
    },
    {
      "cell_type": "markdown",
      "metadata": {
        "id": "pR-OVQH5k0MK"
      },
      "source": [
        "###Import "
      ]
    },
    {
      "cell_type": "code",
      "metadata": {
        "id": "ByVjIdxvaXJM"
      },
      "source": [
        "from sklearn.neural_network import MLPClassifier"
      ],
      "execution_count": null,
      "outputs": []
    },
    {
      "cell_type": "markdown",
      "metadata": {
        "id": "kxaiyeWEk8Dy"
      },
      "source": [
        "###Define"
      ]
    },
    {
      "cell_type": "code",
      "metadata": {
        "id": "x85niUsfk3zy"
      },
      "source": [
        "perceptron1 = MLPClassifier(random_state=6, max_iter=2000, hidden_layer_sizes=1,learning_rate_init=0.005)"
      ],
      "execution_count": null,
      "outputs": []
    },
    {
      "cell_type": "markdown",
      "metadata": {
        "id": "T6tCDQ3jlEDp"
      },
      "source": [
        "###Train-Test"
      ]
    },
    {
      "cell_type": "code",
      "metadata": {
        "id": "OqB5vArvk_dC",
        "colab": {
          "base_uri": "https://localhost:8080/"
        },
        "outputId": "ccb769ca-964a-4185-f927-12dd9a4fa1af"
      },
      "source": [
        "# Train\n",
        "perceptron1.fit(X_train2,Y_train2)\n",
        "# Test\n",
        "ann1_result = perceptron1.predict(X_val)\n",
        "accuracy_score(Y_val, ann1_result)"
      ],
      "execution_count": null,
      "outputs": [
        {
          "output_type": "execute_result",
          "data": {
            "text/plain": [
              "0.2777777777777778"
            ]
          },
          "metadata": {},
          "execution_count": 11
        }
      ]
    },
    {
      "cell_type": "markdown",
      "metadata": {
        "id": "VCDMTvQUlN-X"
      },
      "source": [
        "###ANN2"
      ]
    },
    {
      "cell_type": "code",
      "metadata": {
        "id": "QOngsypMlJ8G",
        "colab": {
          "base_uri": "https://localhost:8080/"
        },
        "outputId": "97f8e56b-6a63-4bf3-a7ab-982a0ea6c49b"
      },
      "source": [
        "perceptron2 = MLPClassifier(random_state=6, max_iter=2000, hidden_layer_sizes=10,learning_rate_init=0.005)\n",
        "# Train\n",
        "perceptron2.fit(X_train2,Y_train2)\n",
        "# Test\n",
        "ann2_result = perceptron2.predict(X_val)\n",
        "accuracy_score(Y_val, ann2_result)"
      ],
      "execution_count": null,
      "outputs": [
        {
          "output_type": "execute_result",
          "data": {
            "text/plain": [
              "0.9185185185185185"
            ]
          },
          "metadata": {},
          "execution_count": 12
        }
      ]
    },
    {
      "cell_type": "markdown",
      "metadata": {
        "id": "Sg9_np5ClZGY"
      },
      "source": [
        "###ANN3"
      ]
    },
    {
      "cell_type": "code",
      "metadata": {
        "id": "7ZOGOOxklSRF",
        "colab": {
          "base_uri": "https://localhost:8080/"
        },
        "outputId": "66bb937d-8096-49f9-fbf0-3aed65dac353"
      },
      "source": [
        "perceptron3 = MLPClassifier(random_state=6, max_iter=20000, hidden_layer_sizes=10,learning_rate_init=0.001)\n",
        "# Train\n",
        "perceptron3.fit(X_train2,Y_train2)\n",
        "# Test\n",
        "ann3_result = perceptron3.predict(X_val)\n",
        "accuracy_score(Y_val, ann3_result)"
      ],
      "execution_count": null,
      "outputs": [
        {
          "output_type": "execute_result",
          "data": {
            "text/plain": [
              "0.9444444444444444"
            ]
          },
          "metadata": {},
          "execution_count": 13
        }
      ]
    }
  ]
}