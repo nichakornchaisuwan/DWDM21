{
  "nbformat": 4,
  "nbformat_minor": 0,
  "metadata": {
    "colab": {
      "name": "Chapter7 Clssification (KNN-NN).ipynb",
      "provenance": [],
      "authorship_tag": "ABX9TyMws3u/dlzwxiHy/YtRyOQQ",
      "include_colab_link": true
    },
    "kernelspec": {
      "name": "python3",
      "display_name": "Python 3"
    },
    "language_info": {
      "name": "python"
    }
  },
  "cells": [
    {
      "cell_type": "markdown",
      "metadata": {
        "id": "view-in-github",
        "colab_type": "text"
      },
      "source": [
        "<a href=\"https://colab.research.google.com/github/nichakornchaisuwan/DWDM21/blob/main/Chapter7_Clssification_(KNN_NN).ipynb\" target=\"_parent\"><img src=\"https://colab.research.google.com/assets/colab-badge.svg\" alt=\"Open In Colab\"/></a>"
      ]
    },
    {
      "cell_type": "markdown",
      "metadata": {
        "id": "gTtbORuOUKGb"
      },
      "source": [
        "##load data\n",
        "\n"
      ]
    },
    {
      "cell_type": "code",
      "metadata": {
        "id": "8my63jURT09D"
      },
      "source": [
        "\n",
        "from sklearn import datasets\n",
        "\n",
        "digit_data = datasets.load_digits()\n",
        "X = digit_data['data']\n",
        "Y = digit_data['target']"
      ],
      "execution_count": 1,
      "outputs": []
    },
    {
      "cell_type": "markdown",
      "metadata": {
        "id": "wSANc5WwUlsy"
      },
      "source": [
        "## Split data"
      ]
    },
    {
      "cell_type": "code",
      "metadata": {
        "id": "RJqSJKWRUqw4"
      },
      "source": [
        "from sklearn.model_selection import train_test_split\n",
        "\n",
        "#train test\n",
        "X_train, X_test, Y_train, Y_test = train_test_split(X, Y, test_size=0.5, random_state=6)\n",
        "#Train-Validation\n",
        "X_train2, X_val, Y_train2, Y_val = train_test_split(X_train, Y_train, test_size=0.3, random_state=6)"
      ],
      "execution_count": 3,
      "outputs": []
    },
    {
      "cell_type": "markdown",
      "metadata": {
        "id": "m_bR58ieXLSa"
      },
      "source": [
        "##Train Model"
      ]
    },
    {
      "cell_type": "markdown",
      "metadata": {
        "id": "c62TbS_TXRml"
      },
      "source": [
        "###Import"
      ]
    },
    {
      "cell_type": "code",
      "metadata": {
        "id": "MevtAO9cXTia"
      },
      "source": [
        "from sklearn.neighbors import KNeighborsClassifier"
      ],
      "execution_count": 7,
      "outputs": []
    },
    {
      "cell_type": "code",
      "metadata": {
        "id": "j6Ijd34aZcdy"
      },
      "source": [
        "from sklearn.metrics import accuracy_score"
      ],
      "execution_count": 9,
      "outputs": []
    },
    {
      "cell_type": "markdown",
      "metadata": {
        "id": "SV6DHzfKXgHJ"
      },
      "source": [
        "###Knn1"
      ]
    },
    {
      "cell_type": "code",
      "metadata": {
        "colab": {
          "base_uri": "https://localhost:8080/"
        },
        "id": "9j2TXd9yXevV",
        "outputId": "aae18435-ca4b-4216-c907-983399b4b06b"
      },
      "source": [
        "#Define\n",
        "neigh1 = KNeighborsClassifier(n_neighbors=3,weights='uniform') #ถามเพื่อนบ้านที่ใกล้ที่สุด เชื่อทุกๆคนเท่ากัน\n",
        "#Train\n",
        "neigh1.fit(X_train2,Y_train2)\n",
        "#Test\n",
        "knn1_result = neigh1.predict(X_val)\n",
        "accuracy_score(Y_val, knn1_result )"
      ],
      "execution_count": 10,
      "outputs": [
        {
          "output_type": "execute_result",
          "data": {
            "text/plain": [
              "0.9703703703703703"
            ]
          },
          "metadata": {},
          "execution_count": 10
        }
      ]
    },
    {
      "cell_type": "markdown",
      "metadata": {
        "id": "ggbnVT1IZk1l"
      },
      "source": [
        "###Knn2"
      ]
    },
    {
      "cell_type": "code",
      "metadata": {
        "colab": {
          "base_uri": "https://localhost:8080/"
        },
        "id": "PGGQaswrYwZe",
        "outputId": "5ac3738c-ddb3-4772-df1b-faf15a26b60a"
      },
      "source": [
        "#Define\n",
        "neigh2 = KNeighborsClassifier(n_neighbors=10,weights='distance') #ถามเพื่อนบ้านที่ใกล้ที่สุด 10 คน  เชื่อคนที่อยู่ใกล้มมากกว่าไกล \n",
        "#Train\n",
        "neigh2.fit(X_train2,Y_train2)\n",
        "#Test\n",
        "knn2_result = neigh2.predict(X_val)\n",
        "accuracy_score(Y_val, knn2_result )"
      ],
      "execution_count": 11,
      "outputs": [
        {
          "output_type": "execute_result",
          "data": {
            "text/plain": [
              "0.9703703703703703"
            ]
          },
          "metadata": {},
          "execution_count": 11
        }
      ]
    },
    {
      "cell_type": "markdown",
      "metadata": {
        "id": "UT2J14DVaDiO"
      },
      "source": [
        "###Knn3"
      ]
    },
    {
      "cell_type": "code",
      "metadata": {
        "colab": {
          "base_uri": "https://localhost:8080/"
        },
        "id": "S_3iH5LBaCXt",
        "outputId": "3b4a5f45-b9e7-4765-e51f-9b78e82bfb10"
      },
      "source": [
        "# Define\n",
        "neigh3 = KNeighborsClassifier(n_neighbors=1) #เชื่อเพื่อนบ้านที่ใกล้ที่สุดคนเดียว\n",
        "# Train\n",
        "neigh3.fit(X_train2,Y_train2)\n",
        "# Test\n",
        "knn3_result = neigh3.predict(X_val)\n",
        "accuracy_score(Y_val, knn3_result)"
      ],
      "execution_count": 14,
      "outputs": [
        {
          "output_type": "execute_result",
          "data": {
            "text/plain": [
              "0.9777777777777777"
            ]
          },
          "metadata": {},
          "execution_count": 14
        }
      ]
    },
    {
      "cell_type": "markdown",
      "metadata": {
        "id": "VAuhbfvPaSs5"
      },
      "source": [
        "###Retrain & Evaluate"
      ]
    },
    {
      "cell_type": "code",
      "metadata": {
        "colab": {
          "base_uri": "https://localhost:8080/"
        },
        "id": "ENzzZbMiaKZ4",
        "outputId": "ec494aa5-f2eb-42cb-d611-50e9132c7739"
      },
      "source": [
        "# Define\n",
        "neigh3_final = KNeighborsClassifier(n_neighbors=1)\n",
        "# Train\n",
        "neigh3_final.fit(X_train,Y_train)\n",
        "# Test\n",
        "knn3final_result = neigh3_final.predict(X_test)\n",
        "accuracy_score(Y_test, knn3final_result)"
      ],
      "execution_count": 16,
      "outputs": [
        {
          "output_type": "execute_result",
          "data": {
            "text/plain": [
              "0.982202447163515"
            ]
          },
          "metadata": {},
          "execution_count": 16
        }
      ]
    },
    {
      "cell_type": "markdown",
      "metadata": {
        "id": "5OJeY-2bbZsc"
      },
      "source": [
        "### Neural Network"
      ]
    },
    {
      "cell_type": "code",
      "metadata": {
        "id": "ByVjIdxvaXJM"
      },
      "source": [
        ""
      ],
      "execution_count": null,
      "outputs": []
    }
  ]
}